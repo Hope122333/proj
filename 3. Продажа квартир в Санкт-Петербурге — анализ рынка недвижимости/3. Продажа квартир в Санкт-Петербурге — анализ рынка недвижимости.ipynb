{
 "cells": [
  {
   "cell_type": "markdown",
   "metadata": {},
   "source": [
    "<div class=\"alert alert-success\">\n",
    "<font size=\"5\", color = \"seagreen\"><b>✔️ Комментарий ревьюера в4</b></font>\n",
    "    <br /> \n",
    "    <font size=\"3\", color = \"black\">\n",
    "<br /> Привет, Виктория :) \n",
    "    \n",
    "Спасибо за работу на проекте и терпение, мы значительно улучшили твой проект, осталось поработать над расчетом и графиками, комментарии в версии в4 оставил\n",
    "        \n",
    "Подведем итоги, мы научились и повторили на проекте каким образом:\n",
    "\n",
    "+ читать тех. задание проекта\n",
    "+ исследовать неочищенные данные\n",
    "+ выдвигать гипотезы о пропусках данных и заполнять их значениями\n",
    "+ принимать решения об удалении некачественных данных\n",
    "+ находить аномалии в данных и отделять редкие значения\n",
    "+ соглашаться с наличием пропусков в данных и не забывать об их наличии при фильтрации\n",
    "+ строить информативные визуализации\n",
    "+ делить одну выборку на две части\n",
    "+ находить зависимости и распределения в данных \n",
    "+ формировать выводы\n",
    "        \n",
    "Навыки отработаны хорошо, проект принят \n",
    "\n",
    "<b>Поздравляю с успешно сданным третьим проектом на факультете дата-аналитики Я.Практикум</b>\n",
    "\n",
    "<div class=\"alert alert-success\">\n",
    "    <font size=\"5\", color = \"seagreen\"><b>Успехов в дальнейшей учебе 🤝</b></font><br />\n",
    "\n",
    "наша беседа в слаке была моей инициативой, для ускорения выполнения проекта, среди остальных ревьюеров это почти не практикуется, все вопросы по проекту оптимально адресовать преподавателю 🤝"
   ]
  },
  {
   "cell_type": "markdown",
   "metadata": {},
   "source": [
    "<div class=\"alert alert-success\">\n",
    "<font size=\"4\"><b>Комментарий ревьюера в3</b></font>\n",
    "    <br /> \n",
    "    <font size=\"3\", color = \"black\">\n",
    "<br />\n",
    "    Привет, Виктория :) Спасибо за исправления, оставил подсказки\n",
    "        \n",
    "стоит разделить код на более короткие разделы и поработать с графиками\n",
    "        \n",
    "иду в слак"
   ]
  },
  {
   "cell_type": "markdown",
   "metadata": {},
   "source": [
    "<div class=\"alert alert-success\">\n",
    "<font size=\"4\"><b>Комментарий ревьюера в2</b></font>\n",
    "    <br /> \n",
    "    <font size=\"3\", color = \"black\">\n",
    "<br />\n",
    "    Привет, Виктория :) Спасибо за исправления, оставил подсказки\n",
    "        \n",
    "стоит разделить код на более короткие разделы"
   ]
  },
  {
   "cell_type": "markdown",
   "metadata": {},
   "source": [
    "<div class=\"alert alert-success\">\n",
    "<font size=\"4\"><b>Комментарий ревьюера</b></font>\n",
    "    <br /> \n",
    "    <font size=\"3\", color = \"black\">\n",
    "<br />\n",
    "    Привет, Виктория :) Спасибо, что прислала задание :) Меня зовут Ринат Хисамов и я буду проверять твой проект. Предлагаю обращаться друг к другу на ты. Так нам будет гораздо проще и удобней общаться).\n",
    "\n",
    "Мои комментарии обозначены пометкой <b>Комментарий ревьюера</b>. Далее в файле сможешь найти их в похожих ячейках (если фон комментария зелёный — всё сделано правильно (✔️), рекомендации таким же цветом. Отдельным цветом — блок ссылок (примеры ниже, 🍕). Оранжевым или светло желтым рекомендации, которые, хоть и не обязательны, но точно сделают ревью лучше. (⚠️); <u> красный комментарий</u>: код, график или вывод стоит переделать (❌)). \n",
    "\n",
    "Не удаляй все эти комментарии и постарайся учесть их в ходе выполнения данного проекта. \n",
    "Будет замечательно, если добавишь свои комментарии и пояснения✍\n",
    "        \n",
    "Поехали 🚀\n",
    "    <br />\n",
    "    </font>\n",
    "\n",
    "</div>"
   ]
  },
  {
   "cell_type": "markdown",
   "metadata": {},
   "source": [
    "<div style=\"border:solid steelblue 1px; padding: 20px\">\n",
    "    \n",
    "<font size=\"4\"><p style=\"text-align:center\"><b>Примеры комментариев </b></p></font>\n",
    "    \n",
    "<div style=\"border:solid steelblue 3px; padding: 20px\">\n",
    "<font size=\"4\"><b>🍕 Пример комментария - совета, здесь м.б. просто ссылка</b></font>\n",
    "    <br /> \n",
    "        <font size=\"3\", color = \"black\">\n",
    "<br />\n",
    "    Тут всего такого разного и вкусного :), есть способы прокачать проект визуализациями (ценит большинство \"боссов\")  <br /><br />\n",
    "        <a href=\"https://pyprog.pro/mpl/mpl_short_guide.html\">Краткое руководство по Matplotlib</a>\n",
    "        На сайте много полезных материалов, мне самому очень помогло в свое время, до сих пор подсматриваю :)\n",
    "\n",
    "\n",
    "</div>\n",
    "    \n",
    "<div class=\"alert alert-warning\", style=\"border:solid coral 3px; padding: 20px\">\n",
    "    <font size=\"3\"><b>⚠️ Пример оформления некритичного комментария</b>\n",
    "    <br /> \n",
    "    <font size=\"2\", color = \"black\">\n",
    "<br />\n",
    "    Рекомендации, которые, хоть и не обязательны, но точно сделают ревью лучше\n",
    "    <br />\n",
    "    </font>\n",
    "\n",
    "</div>\n",
    "    \n",
    "<div class=\"alert alert-danger\">\n",
    "<font size=\"3\"><b>❌ Пример оформления комментария к блоку(строке) программного кода (или выводу), который стоит переделать</b></font>\n",
    "    <br /> \n",
    "    <font size=\"2\", color = \"black\">\n",
    "<br />\n",
    "    Отправлен не тот проект, напиши в своих комментариях, что случилось? жду — <b>это пример</b>\n",
    "    <br />\n",
    "    </font>\n",
    "\n",
    "</div>\n",
    "    \n",
    "<div class=\"alert alert-success\">\n",
    "<font size=\"4\"><b>✔️ Пример оформления комментария, который нравится большинству студентов</b></font>\n",
    "    <br /> \n",
    "    <font size=\"3\", color = \"black\">\n",
    "<br />\n",
    "    Круто, молодец, отлично, логично, или — 👌, 👍, или — выводы отвечают на все вопросы к данным и проекту\n",
    "    <br />\n",
    "    </font>\n",
    "\n",
    "</div>"
   ]
  },
  {
   "cell_type": "markdown",
   "metadata": {},
   "source": [
    "# Исследование объявлений о продаже квартир\n",
    "\n",
    "В вашем распоряжении данные сервиса Яндекс.Недвижимость — архив объявлений о продаже квартир в Санкт-Петербурге и соседних населённых пунктов за несколько лет. Нужно научиться определять рыночную стоимость объектов недвижимости. Ваша задача — установить параметры. Это позволит построить автоматизированную систему: она отследит аномалии и мошенническую деятельность. \n",
    "\n",
    "По каждой квартире на продажу доступны два вида данных. Первые вписаны пользователем, вторые — получены автоматически на основе картографических данных. Например, расстояние до центра, аэропорта, ближайшего парка и водоёма. "
   ]
  },
  {
   "cell_type": "markdown",
   "metadata": {},
   "source": [
    "<div class=\"alert alert-warning\", style=\"border:solid coral 3px; padding: 20px\">\n",
    "<font size=\"4\", color = \"DimGrey\"><b>⚠️ Комментарий ревьюера</b></font>\n",
    "    <br /> \n",
    "    <font size=\"3\", color = \"black\">\n",
    "<br />\n",
    "Название, краткое вступление в работу и главная задача зафиксированы. \n",
    "        \n",
    "Четкий план работ и перечень основных задач позволит коллегам быстрее вникнуть в суть проекта, да и самой будет легче  идти к главной цели проекта"
   ]
  },
  {
   "cell_type": "markdown",
   "metadata": {},
   "source": [
    "### Откройте файл с данными и изучите общую информацию. "
   ]
  },
  {
   "cell_type": "code",
   "execution_count": 53,
   "metadata": {},
   "outputs": [
    {
     "name": "stdout",
     "output_type": "stream",
     "text": [
      "<class 'pandas.core.frame.DataFrame'>\n",
      "RangeIndex: 23699 entries, 0 to 23698\n",
      "Data columns (total 22 columns):\n",
      " #   Column                Non-Null Count  Dtype  \n",
      "---  ------                --------------  -----  \n",
      " 0   total_images          23699 non-null  int64  \n",
      " 1   last_price            23699 non-null  float64\n",
      " 2   total_area            23699 non-null  float64\n",
      " 3   first_day_exposition  23699 non-null  object \n",
      " 4   rooms                 23699 non-null  int64  \n",
      " 5   ceiling_height        14504 non-null  float64\n",
      " 6   floors_total          23613 non-null  float64\n",
      " 7   living_area           21796 non-null  float64\n",
      " 8   floor                 23699 non-null  int64  \n",
      " 9   is_apartment          2775 non-null   object \n",
      " 10  studio                23699 non-null  bool   \n",
      " 11  open_plan             23699 non-null  bool   \n",
      " 12  kitchen_area          21421 non-null  float64\n",
      " 13  balcony               12180 non-null  float64\n",
      " 14  locality_name         23650 non-null  object \n",
      " 15  airports_nearest      18157 non-null  float64\n",
      " 16  cityCenters_nearest   18180 non-null  float64\n",
      " 17  parks_around3000      18181 non-null  float64\n",
      " 18  parks_nearest         8079 non-null   float64\n",
      " 19  ponds_around3000      18181 non-null  float64\n",
      " 20  ponds_nearest         9110 non-null   float64\n",
      " 21  days_exposition       20518 non-null  float64\n",
      "dtypes: bool(2), float64(14), int64(3), object(3)\n",
      "memory usage: 3.7+ MB\n"
     ]
    },
    {
     "data": {
      "text/html": [
       "<div>\n",
       "<style scoped>\n",
       "    .dataframe tbody tr th:only-of-type {\n",
       "        vertical-align: middle;\n",
       "    }\n",
       "\n",
       "    .dataframe tbody tr th {\n",
       "        vertical-align: top;\n",
       "    }\n",
       "\n",
       "    .dataframe thead th {\n",
       "        text-align: right;\n",
       "    }\n",
       "</style>\n",
       "<table border=\"1\" class=\"dataframe\">\n",
       "  <thead>\n",
       "    <tr style=\"text-align: right;\">\n",
       "      <th></th>\n",
       "      <th>total_images</th>\n",
       "      <th>last_price</th>\n",
       "      <th>total_area</th>\n",
       "      <th>first_day_exposition</th>\n",
       "      <th>rooms</th>\n",
       "      <th>ceiling_height</th>\n",
       "      <th>floors_total</th>\n",
       "      <th>living_area</th>\n",
       "      <th>floor</th>\n",
       "      <th>is_apartment</th>\n",
       "      <th>...</th>\n",
       "      <th>kitchen_area</th>\n",
       "      <th>balcony</th>\n",
       "      <th>locality_name</th>\n",
       "      <th>airports_nearest</th>\n",
       "      <th>cityCenters_nearest</th>\n",
       "      <th>parks_around3000</th>\n",
       "      <th>parks_nearest</th>\n",
       "      <th>ponds_around3000</th>\n",
       "      <th>ponds_nearest</th>\n",
       "      <th>days_exposition</th>\n",
       "    </tr>\n",
       "  </thead>\n",
       "  <tbody>\n",
       "    <tr>\n",
       "      <th>0</th>\n",
       "      <td>20</td>\n",
       "      <td>13000000.0</td>\n",
       "      <td>108.00</td>\n",
       "      <td>2019-03-07T00:00:00</td>\n",
       "      <td>3</td>\n",
       "      <td>2.70</td>\n",
       "      <td>16.0</td>\n",
       "      <td>51.0</td>\n",
       "      <td>8</td>\n",
       "      <td>NaN</td>\n",
       "      <td>...</td>\n",
       "      <td>25.00</td>\n",
       "      <td>NaN</td>\n",
       "      <td>Санкт-Петербург</td>\n",
       "      <td>18863.0</td>\n",
       "      <td>16028.0</td>\n",
       "      <td>1.0</td>\n",
       "      <td>482.0</td>\n",
       "      <td>2.0</td>\n",
       "      <td>755.0</td>\n",
       "      <td>NaN</td>\n",
       "    </tr>\n",
       "    <tr>\n",
       "      <th>1</th>\n",
       "      <td>7</td>\n",
       "      <td>3350000.0</td>\n",
       "      <td>40.40</td>\n",
       "      <td>2018-12-04T00:00:00</td>\n",
       "      <td>1</td>\n",
       "      <td>NaN</td>\n",
       "      <td>11.0</td>\n",
       "      <td>18.6</td>\n",
       "      <td>1</td>\n",
       "      <td>NaN</td>\n",
       "      <td>...</td>\n",
       "      <td>11.00</td>\n",
       "      <td>2.0</td>\n",
       "      <td>посёлок Шушары</td>\n",
       "      <td>12817.0</td>\n",
       "      <td>18603.0</td>\n",
       "      <td>0.0</td>\n",
       "      <td>NaN</td>\n",
       "      <td>0.0</td>\n",
       "      <td>NaN</td>\n",
       "      <td>81.0</td>\n",
       "    </tr>\n",
       "    <tr>\n",
       "      <th>2</th>\n",
       "      <td>10</td>\n",
       "      <td>5196000.0</td>\n",
       "      <td>56.00</td>\n",
       "      <td>2015-08-20T00:00:00</td>\n",
       "      <td>2</td>\n",
       "      <td>NaN</td>\n",
       "      <td>5.0</td>\n",
       "      <td>34.3</td>\n",
       "      <td>4</td>\n",
       "      <td>NaN</td>\n",
       "      <td>...</td>\n",
       "      <td>8.30</td>\n",
       "      <td>0.0</td>\n",
       "      <td>Санкт-Петербург</td>\n",
       "      <td>21741.0</td>\n",
       "      <td>13933.0</td>\n",
       "      <td>1.0</td>\n",
       "      <td>90.0</td>\n",
       "      <td>2.0</td>\n",
       "      <td>574.0</td>\n",
       "      <td>558.0</td>\n",
       "    </tr>\n",
       "    <tr>\n",
       "      <th>3</th>\n",
       "      <td>0</td>\n",
       "      <td>64900000.0</td>\n",
       "      <td>159.00</td>\n",
       "      <td>2015-07-24T00:00:00</td>\n",
       "      <td>3</td>\n",
       "      <td>NaN</td>\n",
       "      <td>14.0</td>\n",
       "      <td>NaN</td>\n",
       "      <td>9</td>\n",
       "      <td>NaN</td>\n",
       "      <td>...</td>\n",
       "      <td>NaN</td>\n",
       "      <td>0.0</td>\n",
       "      <td>Санкт-Петербург</td>\n",
       "      <td>28098.0</td>\n",
       "      <td>6800.0</td>\n",
       "      <td>2.0</td>\n",
       "      <td>84.0</td>\n",
       "      <td>3.0</td>\n",
       "      <td>234.0</td>\n",
       "      <td>424.0</td>\n",
       "    </tr>\n",
       "    <tr>\n",
       "      <th>4</th>\n",
       "      <td>2</td>\n",
       "      <td>10000000.0</td>\n",
       "      <td>100.00</td>\n",
       "      <td>2018-06-19T00:00:00</td>\n",
       "      <td>2</td>\n",
       "      <td>3.03</td>\n",
       "      <td>14.0</td>\n",
       "      <td>32.0</td>\n",
       "      <td>13</td>\n",
       "      <td>NaN</td>\n",
       "      <td>...</td>\n",
       "      <td>41.00</td>\n",
       "      <td>NaN</td>\n",
       "      <td>Санкт-Петербург</td>\n",
       "      <td>31856.0</td>\n",
       "      <td>8098.0</td>\n",
       "      <td>2.0</td>\n",
       "      <td>112.0</td>\n",
       "      <td>1.0</td>\n",
       "      <td>48.0</td>\n",
       "      <td>121.0</td>\n",
       "    </tr>\n",
       "    <tr>\n",
       "      <th>...</th>\n",
       "      <td>...</td>\n",
       "      <td>...</td>\n",
       "      <td>...</td>\n",
       "      <td>...</td>\n",
       "      <td>...</td>\n",
       "      <td>...</td>\n",
       "      <td>...</td>\n",
       "      <td>...</td>\n",
       "      <td>...</td>\n",
       "      <td>...</td>\n",
       "      <td>...</td>\n",
       "      <td>...</td>\n",
       "      <td>...</td>\n",
       "      <td>...</td>\n",
       "      <td>...</td>\n",
       "      <td>...</td>\n",
       "      <td>...</td>\n",
       "      <td>...</td>\n",
       "      <td>...</td>\n",
       "      <td>...</td>\n",
       "      <td>...</td>\n",
       "    </tr>\n",
       "    <tr>\n",
       "      <th>23694</th>\n",
       "      <td>9</td>\n",
       "      <td>9700000.0</td>\n",
       "      <td>133.81</td>\n",
       "      <td>2017-03-21T00:00:00</td>\n",
       "      <td>3</td>\n",
       "      <td>3.70</td>\n",
       "      <td>5.0</td>\n",
       "      <td>73.3</td>\n",
       "      <td>3</td>\n",
       "      <td>NaN</td>\n",
       "      <td>...</td>\n",
       "      <td>13.83</td>\n",
       "      <td>NaN</td>\n",
       "      <td>Санкт-Петербург</td>\n",
       "      <td>24665.0</td>\n",
       "      <td>4232.0</td>\n",
       "      <td>1.0</td>\n",
       "      <td>796.0</td>\n",
       "      <td>3.0</td>\n",
       "      <td>381.0</td>\n",
       "      <td>NaN</td>\n",
       "    </tr>\n",
       "    <tr>\n",
       "      <th>23695</th>\n",
       "      <td>14</td>\n",
       "      <td>3100000.0</td>\n",
       "      <td>59.00</td>\n",
       "      <td>2018-01-15T00:00:00</td>\n",
       "      <td>3</td>\n",
       "      <td>NaN</td>\n",
       "      <td>5.0</td>\n",
       "      <td>38.0</td>\n",
       "      <td>4</td>\n",
       "      <td>NaN</td>\n",
       "      <td>...</td>\n",
       "      <td>8.50</td>\n",
       "      <td>NaN</td>\n",
       "      <td>Тосно</td>\n",
       "      <td>NaN</td>\n",
       "      <td>NaN</td>\n",
       "      <td>NaN</td>\n",
       "      <td>NaN</td>\n",
       "      <td>NaN</td>\n",
       "      <td>NaN</td>\n",
       "      <td>45.0</td>\n",
       "    </tr>\n",
       "    <tr>\n",
       "      <th>23696</th>\n",
       "      <td>18</td>\n",
       "      <td>2500000.0</td>\n",
       "      <td>56.70</td>\n",
       "      <td>2018-02-11T00:00:00</td>\n",
       "      <td>2</td>\n",
       "      <td>NaN</td>\n",
       "      <td>3.0</td>\n",
       "      <td>29.7</td>\n",
       "      <td>1</td>\n",
       "      <td>NaN</td>\n",
       "      <td>...</td>\n",
       "      <td>NaN</td>\n",
       "      <td>NaN</td>\n",
       "      <td>село Рождествено</td>\n",
       "      <td>NaN</td>\n",
       "      <td>NaN</td>\n",
       "      <td>NaN</td>\n",
       "      <td>NaN</td>\n",
       "      <td>NaN</td>\n",
       "      <td>NaN</td>\n",
       "      <td>NaN</td>\n",
       "    </tr>\n",
       "    <tr>\n",
       "      <th>23697</th>\n",
       "      <td>13</td>\n",
       "      <td>11475000.0</td>\n",
       "      <td>76.75</td>\n",
       "      <td>2017-03-28T00:00:00</td>\n",
       "      <td>2</td>\n",
       "      <td>3.00</td>\n",
       "      <td>17.0</td>\n",
       "      <td>NaN</td>\n",
       "      <td>12</td>\n",
       "      <td>NaN</td>\n",
       "      <td>...</td>\n",
       "      <td>23.30</td>\n",
       "      <td>2.0</td>\n",
       "      <td>Санкт-Петербург</td>\n",
       "      <td>39140.0</td>\n",
       "      <td>10364.0</td>\n",
       "      <td>2.0</td>\n",
       "      <td>173.0</td>\n",
       "      <td>3.0</td>\n",
       "      <td>196.0</td>\n",
       "      <td>602.0</td>\n",
       "    </tr>\n",
       "    <tr>\n",
       "      <th>23698</th>\n",
       "      <td>4</td>\n",
       "      <td>1350000.0</td>\n",
       "      <td>32.30</td>\n",
       "      <td>2017-07-21T00:00:00</td>\n",
       "      <td>1</td>\n",
       "      <td>2.50</td>\n",
       "      <td>5.0</td>\n",
       "      <td>12.3</td>\n",
       "      <td>1</td>\n",
       "      <td>NaN</td>\n",
       "      <td>...</td>\n",
       "      <td>9.00</td>\n",
       "      <td>NaN</td>\n",
       "      <td>поселок Новый Учхоз</td>\n",
       "      <td>NaN</td>\n",
       "      <td>NaN</td>\n",
       "      <td>NaN</td>\n",
       "      <td>NaN</td>\n",
       "      <td>NaN</td>\n",
       "      <td>NaN</td>\n",
       "      <td>NaN</td>\n",
       "    </tr>\n",
       "  </tbody>\n",
       "</table>\n",
       "<p>23699 rows × 22 columns</p>\n",
       "</div>"
      ],
      "text/plain": [
       "       total_images  last_price  total_area first_day_exposition  rooms  \\\n",
       "0                20  13000000.0      108.00  2019-03-07T00:00:00      3   \n",
       "1                 7   3350000.0       40.40  2018-12-04T00:00:00      1   \n",
       "2                10   5196000.0       56.00  2015-08-20T00:00:00      2   \n",
       "3                 0  64900000.0      159.00  2015-07-24T00:00:00      3   \n",
       "4                 2  10000000.0      100.00  2018-06-19T00:00:00      2   \n",
       "...             ...         ...         ...                  ...    ...   \n",
       "23694             9   9700000.0      133.81  2017-03-21T00:00:00      3   \n",
       "23695            14   3100000.0       59.00  2018-01-15T00:00:00      3   \n",
       "23696            18   2500000.0       56.70  2018-02-11T00:00:00      2   \n",
       "23697            13  11475000.0       76.75  2017-03-28T00:00:00      2   \n",
       "23698             4   1350000.0       32.30  2017-07-21T00:00:00      1   \n",
       "\n",
       "       ceiling_height  floors_total  living_area  floor is_apartment  ...  \\\n",
       "0                2.70          16.0         51.0      8          NaN  ...   \n",
       "1                 NaN          11.0         18.6      1          NaN  ...   \n",
       "2                 NaN           5.0         34.3      4          NaN  ...   \n",
       "3                 NaN          14.0          NaN      9          NaN  ...   \n",
       "4                3.03          14.0         32.0     13          NaN  ...   \n",
       "...               ...           ...          ...    ...          ...  ...   \n",
       "23694            3.70           5.0         73.3      3          NaN  ...   \n",
       "23695             NaN           5.0         38.0      4          NaN  ...   \n",
       "23696             NaN           3.0         29.7      1          NaN  ...   \n",
       "23697            3.00          17.0          NaN     12          NaN  ...   \n",
       "23698            2.50           5.0         12.3      1          NaN  ...   \n",
       "\n",
       "       kitchen_area  balcony        locality_name  airports_nearest  \\\n",
       "0             25.00      NaN      Санкт-Петербург           18863.0   \n",
       "1             11.00      2.0       посёлок Шушары           12817.0   \n",
       "2              8.30      0.0      Санкт-Петербург           21741.0   \n",
       "3               NaN      0.0      Санкт-Петербург           28098.0   \n",
       "4             41.00      NaN      Санкт-Петербург           31856.0   \n",
       "...             ...      ...                  ...               ...   \n",
       "23694         13.83      NaN      Санкт-Петербург           24665.0   \n",
       "23695          8.50      NaN                Тосно               NaN   \n",
       "23696           NaN      NaN     село Рождествено               NaN   \n",
       "23697         23.30      2.0      Санкт-Петербург           39140.0   \n",
       "23698          9.00      NaN  поселок Новый Учхоз               NaN   \n",
       "\n",
       "      cityCenters_nearest  parks_around3000  parks_nearest  ponds_around3000  \\\n",
       "0                 16028.0               1.0          482.0               2.0   \n",
       "1                 18603.0               0.0            NaN               0.0   \n",
       "2                 13933.0               1.0           90.0               2.0   \n",
       "3                  6800.0               2.0           84.0               3.0   \n",
       "4                  8098.0               2.0          112.0               1.0   \n",
       "...                   ...               ...            ...               ...   \n",
       "23694              4232.0               1.0          796.0               3.0   \n",
       "23695                 NaN               NaN            NaN               NaN   \n",
       "23696                 NaN               NaN            NaN               NaN   \n",
       "23697             10364.0               2.0          173.0               3.0   \n",
       "23698                 NaN               NaN            NaN               NaN   \n",
       "\n",
       "       ponds_nearest  days_exposition  \n",
       "0              755.0              NaN  \n",
       "1                NaN             81.0  \n",
       "2              574.0            558.0  \n",
       "3              234.0            424.0  \n",
       "4               48.0            121.0  \n",
       "...              ...              ...  \n",
       "23694          381.0              NaN  \n",
       "23695            NaN             45.0  \n",
       "23696            NaN              NaN  \n",
       "23697          196.0            602.0  \n",
       "23698            NaN              NaN  \n",
       "\n",
       "[23699 rows x 22 columns]"
      ]
     },
     "execution_count": 53,
     "metadata": {},
     "output_type": "execute_result"
    },
    {
     "data": {
      "image/png": "[encoded data removed]",
      "text/plain": [
       "<Figure size 432x288 with 20 Axes>"
      ]
     },
     "metadata": {
      "needs_background": "light"
     },
     "output_type": "display_data"
    }
   ],
   "source": [
    "import pandas as pd\n",
    "import math\n",
    "import matplotlib.pyplot as plt\n",
    "import numpy as np\n",
    "data = pd.read_csv('/datasets/real_estate_data',sep='\\t')\n",
    "data\n",
    "data.info()\n",
    "data.hist()\n",
    "data"
   ]
  },
  {
   "cell_type": "code",
   "execution_count": 54,
   "metadata": {},
   "outputs": [],
   "source": [
    "# check\n",
    "# пропущенные значения бары\n",
    "\n",
    "# check\n",
    "def pass_value_barh(df):\n",
    "    (\n",
    "        (df.isna().mean()*100)\n",
    "        .to_frame()\n",
    "        .rename(columns = {0:'space'})\n",
    "        .query('space > 0')\n",
    "        .sort_values(by = 'space', ascending = True)\n",
    "        .plot(kind= 'barh', figsize=(19,6), rot = -5, legend = False, fontsize = 16)\n",
    "        .set_title('Пример' + \"\\n\", fontsize = 22, color = 'SteelBlue')    \n",
    "    );    "
   ]
  },
  {
   "cell_type": "code",
   "execution_count": 55,
   "metadata": {},
   "outputs": [
    {
     "data": {
      "image/png": "[encoded data removed]",
      "text/plain": [
       "<Figure size 1368x432 with 1 Axes>"
      ]
     },
     "metadata": {
      "needs_background": "light"
     },
     "output_type": "display_data"
    }
   ],
   "source": [
    "pass_value_barh(data)"
   ]
  },
  {
   "cell_type": "markdown",
   "metadata": {},
   "source": [
    "<div style=\"border:solid steelblue 3px; padding: 20px\">\n",
    "<font size=\"4\">🍕<b> Комментарий ревьюера</b></font>\n",
    "<br /> \n",
    "<font size=\"3\", color = \"black\">\n",
    "<br /> Наглядность представления информации одна из важных составляющих работы дата-аналитика или дата-сайентиста\n",
    "    \n"
   ]
  },
  {
   "cell_type": "code",
   "execution_count": 56,
   "metadata": {},
   "outputs": [
    {
     "data": {
      "image/png": "[encoded data removed]",
      "text/plain": [
       "<Figure size 432x288 with 1 Axes>"
      ]
     },
     "metadata": {
      "needs_background": "light"
     },
     "output_type": "display_data"
    }
   ],
   "source": [
    "data.isna()\n",
    "data.isna().sum()\n",
    "\n",
    "data.isna().sum().max()\n",
    "def pass_value_barh1(df):\n",
    "    (\n",
    "        (data.isna().mean())\n",
    "        .to_frame()\n",
    "        .rename(columns={0:'sp'})\n",
    "        .query('sp>0')\n",
    "        .sort_values(by ='sp',ascending=True)\n",
    "        .plot(kind='barh',color='Green')\n",
    "        .set_title('Пропуски',color='Blue')\n",
    "    );\n",
    "pass_value_barh1(data)\n"
   ]
  },
  {
   "cell_type": "markdown",
   "metadata": {},
   "source": [
    "### Предобработка данных"
   ]
  },
  {
   "cell_type": "code",
   "execution_count": 57,
   "metadata": {
    "scrolled": true
   },
   "outputs": [],
   "source": [
    "#ошибки в заголовках:\n",
    "data.rename(columns={'cityCenters_nearest': 'city_centers_nearest','ponds_around3000':'ponds_around',\n",
    "'parks_around3000':'parks_around'},inplace=True)\n"
   ]
  },
  {
   "cell_type": "code",
   "execution_count": 58,
   "metadata": {},
   "outputs": [
    {
     "data": {
      "image/png": "[encoded data removed]",
      "text/plain": [
       "<Figure size 432x288 with 1 Axes>"
      ]
     },
     "metadata": {
      "needs_background": "light"
     },
     "output_type": "display_data"
    }
   ],
   "source": [
    "#Найдите и изучите пропущенные значения в столбцах:\n",
    "data['is_apartment']=data['is_apartment'].fillna(False)\n",
    "park_mean = data['parks_nearest'].mean()\n",
    "data['parks_nearest']=data['parks_nearest'].fillna(park_mean)\n",
    "ceiling_height_median=data['ceiling_height'].median()\n",
    "data['ceiling_height']=data['ceiling_height'].fillna(ceiling_height_median)\n",
    "floors_total_mean = data['floors_total'].mean()\n",
    "data['balcony']=data['balcony'].fillna(0)\n",
    "data['floors_total']=data['floors_total'].fillna(floors_total_mean)\n",
    "airoports_nerest_mean = data['airports_nearest'].mean()\n",
    "data['airports_nearest'] =data['airports_nearest'].fillna(airoports_nerest_mean)\n",
    "city_centers_nearest_mean= data['city_centers_nearest'].mean()\n",
    "data['city_centers_nearest'] =data['city_centers_nearest'].fillna(city_centers_nearest_mean)\n",
    "parks_around_mean =data['parks_around'].mean()\n",
    "data['parks_around']=data['parks_around'].fillna(parks_around_mean)\n",
    "ponds_around_mean = data['ponds_around'].mean()\n",
    "data['ponds_around'] = data['ponds_around'].fillna(ponds_around_mean)\n",
    "ponds_nearest_mean = data['ponds_nearest'].mean()\n",
    "data['ponds_nearest'] = data['ponds_nearest'].fillna(ponds_nearest_mean)\n",
    "data['days_exposition'].plot(kind=\"box\")#установка аномалии:Q3 отличается от медианы на 60 процентов, это не так много\n",
    "#однако, если мы сбросим данные до 1200 и ниже, то мы получим различие в 33 процента, но потеряем где-то 100 записей..\n",
    "\n",
    "\n",
    "day_exposition_srez = data[(data['days_exposition']>0) & (data['days_exposition']< 200)]#выборка из не-выбросов\n",
    "day_exposition_mean = day_exposition_srez['days_exposition'].mean()#среднее из выборки\n",
    "data['days_exposition'] = data['days_exposition'].fillna(day_exposition_mean)#заполнение пропусков..\n"
   ]
  },
  {
   "cell_type": "code",
   "execution_count": 59,
   "metadata": {},
   "outputs": [],
   "source": [
    "#Рассмотрите типы данных в каждом столбце:\n",
    "data['parks_nearest'] =data['parks_nearest'].astype('int64')\n",
    "data['floors_total'] =data['floors_total'].astype('int64')\n",
    "data['balcony'] =data['balcony'].astype('int64')\n",
    "data['airports_nearest'] =data['airports_nearest'].astype('int64')\n",
    "data['city_centers_nearest'] =data['city_centers_nearest'].astype('int64')\n",
    "data['parks_around'] =data['parks_around'].astype('int64')\n",
    "data['ponds_around'] =data['ponds_around'].astype('int64')\n",
    "data['ponds_nearest'] =data['ponds_nearest'].astype('int64')\n",
    "data['last_price'] =data['last_price'].astype('int64')\n",
    "data['total_area'] =data['total_area'].astype('int64')\n",
    "data['days_exposition'] =data['days_exposition'].astype('int64')\n"
   ]
  },
  {
   "cell_type": "markdown",
   "metadata": {},
   "source": [
    "#### check 1"
   ]
  },
  {
   "cell_type": "code",
   "execution_count": 60,
   "metadata": {},
   "outputs": [],
   "source": [
    "#Изучите уникальные значения в столбце с названиями и устраните неявные дубликаты.\n",
    "data['locality_name']=data['locality_name'].replace('поселок Пансионат Зелёный Бор','посёлок Пансионат Зелёный Бор')\n",
    "data['locality_name']=data['locality_name'].replace('поселок Мурино','посёлок Мурино')\n",
    "data['locality_name']=data['locality_name'].replace('поселок Мичуринское','посёлок Мичуринское')\n",
    "data['locality_name']=data['locality_name'].replace('поселок Бугры','посёлок Бугры')\n",
    "data['locality_name']=data['locality_name'].replace('городской поселок Янино-1','городской посёлок Янино-1')"
   ]
  },
  {
   "cell_type": "markdown",
   "metadata": {},
   "source": [
    "<div class=\"alert alert-success\">\n",
    "<font size=\"4\", color= \"seagreen\"><b>✔️ Комментарий ревьюера в3</b></font>\n",
    "    <br /> \n",
    "    <font size=\"3\", color = \"black\">\n",
    "<br />Разделим блок кода на части для удобства проверки и покажем сколько записей мы теряем"
   ]
  },
  {
   "cell_type": "code",
   "execution_count": 61,
   "metadata": {},
   "outputs": [
    {
     "name": "stdout",
     "output_type": "stream",
     "text": [
      "<class 'pandas.core.frame.DataFrame'>\n",
      "RangeIndex: 23699 entries, 0 to 23698\n",
      "Data columns (total 22 columns):\n",
      " #   Column                Non-Null Count  Dtype  \n",
      "---  ------                --------------  -----  \n",
      " 0   total_images          23699 non-null  int64  \n",
      " 1   last_price            23699 non-null  int64  \n",
      " 2   total_area            23699 non-null  int64  \n",
      " 3   first_day_exposition  23699 non-null  object \n",
      " 4   rooms                 23699 non-null  int64  \n",
      " 5   ceiling_height        23699 non-null  float64\n",
      " 6   floors_total          23699 non-null  int64  \n",
      " 7   living_area           21796 non-null  float64\n",
      " 8   floor                 23699 non-null  int64  \n",
      " 9   is_apartment          23699 non-null  bool   \n",
      " 10  studio                23699 non-null  bool   \n",
      " 11  open_plan             23699 non-null  bool   \n",
      " 12  kitchen_area          21421 non-null  float64\n",
      " 13  balcony               23699 non-null  int64  \n",
      " 14  locality_name         23650 non-null  object \n",
      " 15  airports_nearest      23699 non-null  int64  \n",
      " 16  city_centers_nearest  23699 non-null  int64  \n",
      " 17  parks_around          23699 non-null  int64  \n",
      " 18  parks_nearest         23699 non-null  int64  \n",
      " 19  ponds_around          23699 non-null  int64  \n",
      " 20  ponds_nearest         23699 non-null  int64  \n",
      " 21  days_exposition       23699 non-null  int64  \n",
      "dtypes: bool(3), float64(3), int64(14), object(2)\n",
      "memory usage: 3.5+ MB\n"
     ]
    }
   ],
   "source": [
    "# check\n",
    "data.info()"
   ]
  },
  {
   "cell_type": "code",
   "execution_count": 62,
   "metadata": {},
   "outputs": [
    {
     "data": {
      "text/html": [
       "<div>\n",
       "<style scoped>\n",
       "    .dataframe tbody tr th:only-of-type {\n",
       "        vertical-align: middle;\n",
       "    }\n",
       "\n",
       "    .dataframe tbody tr th {\n",
       "        vertical-align: top;\n",
       "    }\n",
       "\n",
       "    .dataframe thead th {\n",
       "        text-align: right;\n",
       "    }\n",
       "</style>\n",
       "<table border=\"1\" class=\"dataframe\">\n",
       "  <thead>\n",
       "    <tr style=\"text-align: right;\">\n",
       "      <th></th>\n",
       "      <th>total_images</th>\n",
       "      <th>last_price</th>\n",
       "      <th>total_area</th>\n",
       "      <th>first_day_exposition</th>\n",
       "      <th>rooms</th>\n",
       "      <th>ceiling_height</th>\n",
       "      <th>floors_total</th>\n",
       "      <th>living_area</th>\n",
       "      <th>floor</th>\n",
       "      <th>is_apartment</th>\n",
       "      <th>...</th>\n",
       "      <th>kitchen_area</th>\n",
       "      <th>balcony</th>\n",
       "      <th>locality_name</th>\n",
       "      <th>airports_nearest</th>\n",
       "      <th>city_centers_nearest</th>\n",
       "      <th>parks_around</th>\n",
       "      <th>parks_nearest</th>\n",
       "      <th>ponds_around</th>\n",
       "      <th>ponds_nearest</th>\n",
       "      <th>days_exposition</th>\n",
       "    </tr>\n",
       "  </thead>\n",
       "  <tbody>\n",
       "    <tr>\n",
       "      <th>0</th>\n",
       "      <td>20</td>\n",
       "      <td>13000000</td>\n",
       "      <td>108</td>\n",
       "      <td>2019-03-07T00:00:00</td>\n",
       "      <td>3</td>\n",
       "      <td>2.70</td>\n",
       "      <td>16</td>\n",
       "      <td>51.0</td>\n",
       "      <td>8</td>\n",
       "      <td>False</td>\n",
       "      <td>...</td>\n",
       "      <td>25.00</td>\n",
       "      <td>0</td>\n",
       "      <td>Санкт-Петербург</td>\n",
       "      <td>18863</td>\n",
       "      <td>16028</td>\n",
       "      <td>1</td>\n",
       "      <td>482</td>\n",
       "      <td>2</td>\n",
       "      <td>755</td>\n",
       "      <td>72</td>\n",
       "    </tr>\n",
       "    <tr>\n",
       "      <th>1</th>\n",
       "      <td>7</td>\n",
       "      <td>3350000</td>\n",
       "      <td>40</td>\n",
       "      <td>2018-12-04T00:00:00</td>\n",
       "      <td>1</td>\n",
       "      <td>2.65</td>\n",
       "      <td>11</td>\n",
       "      <td>18.6</td>\n",
       "      <td>1</td>\n",
       "      <td>False</td>\n",
       "      <td>...</td>\n",
       "      <td>11.00</td>\n",
       "      <td>2</td>\n",
       "      <td>посёлок Шушары</td>\n",
       "      <td>12817</td>\n",
       "      <td>18603</td>\n",
       "      <td>0</td>\n",
       "      <td>490</td>\n",
       "      <td>0</td>\n",
       "      <td>517</td>\n",
       "      <td>81</td>\n",
       "    </tr>\n",
       "    <tr>\n",
       "      <th>2</th>\n",
       "      <td>10</td>\n",
       "      <td>5196000</td>\n",
       "      <td>56</td>\n",
       "      <td>2015-08-20T00:00:00</td>\n",
       "      <td>2</td>\n",
       "      <td>2.65</td>\n",
       "      <td>5</td>\n",
       "      <td>34.3</td>\n",
       "      <td>4</td>\n",
       "      <td>False</td>\n",
       "      <td>...</td>\n",
       "      <td>8.30</td>\n",
       "      <td>0</td>\n",
       "      <td>Санкт-Петербург</td>\n",
       "      <td>21741</td>\n",
       "      <td>13933</td>\n",
       "      <td>1</td>\n",
       "      <td>90</td>\n",
       "      <td>2</td>\n",
       "      <td>574</td>\n",
       "      <td>558</td>\n",
       "    </tr>\n",
       "    <tr>\n",
       "      <th>3</th>\n",
       "      <td>0</td>\n",
       "      <td>64900000</td>\n",
       "      <td>159</td>\n",
       "      <td>2015-07-24T00:00:00</td>\n",
       "      <td>3</td>\n",
       "      <td>2.65</td>\n",
       "      <td>14</td>\n",
       "      <td>NaN</td>\n",
       "      <td>9</td>\n",
       "      <td>False</td>\n",
       "      <td>...</td>\n",
       "      <td>NaN</td>\n",
       "      <td>0</td>\n",
       "      <td>Санкт-Петербург</td>\n",
       "      <td>28098</td>\n",
       "      <td>6800</td>\n",
       "      <td>2</td>\n",
       "      <td>84</td>\n",
       "      <td>3</td>\n",
       "      <td>234</td>\n",
       "      <td>424</td>\n",
       "    </tr>\n",
       "    <tr>\n",
       "      <th>4</th>\n",
       "      <td>2</td>\n",
       "      <td>10000000</td>\n",
       "      <td>100</td>\n",
       "      <td>2018-06-19T00:00:00</td>\n",
       "      <td>2</td>\n",
       "      <td>3.03</td>\n",
       "      <td>14</td>\n",
       "      <td>32.0</td>\n",
       "      <td>13</td>\n",
       "      <td>False</td>\n",
       "      <td>...</td>\n",
       "      <td>41.00</td>\n",
       "      <td>0</td>\n",
       "      <td>Санкт-Петербург</td>\n",
       "      <td>31856</td>\n",
       "      <td>8098</td>\n",
       "      <td>2</td>\n",
       "      <td>112</td>\n",
       "      <td>1</td>\n",
       "      <td>48</td>\n",
       "      <td>121</td>\n",
       "    </tr>\n",
       "    <tr>\n",
       "      <th>...</th>\n",
       "      <td>...</td>\n",
       "      <td>...</td>\n",
       "      <td>...</td>\n",
       "      <td>...</td>\n",
       "      <td>...</td>\n",
       "      <td>...</td>\n",
       "      <td>...</td>\n",
       "      <td>...</td>\n",
       "      <td>...</td>\n",
       "      <td>...</td>\n",
       "      <td>...</td>\n",
       "      <td>...</td>\n",
       "      <td>...</td>\n",
       "      <td>...</td>\n",
       "      <td>...</td>\n",
       "      <td>...</td>\n",
       "      <td>...</td>\n",
       "      <td>...</td>\n",
       "      <td>...</td>\n",
       "      <td>...</td>\n",
       "      <td>...</td>\n",
       "    </tr>\n",
       "    <tr>\n",
       "      <th>23694</th>\n",
       "      <td>9</td>\n",
       "      <td>9700000</td>\n",
       "      <td>133</td>\n",
       "      <td>2017-03-21T00:00:00</td>\n",
       "      <td>3</td>\n",
       "      <td>3.70</td>\n",
       "      <td>5</td>\n",
       "      <td>73.3</td>\n",
       "      <td>3</td>\n",
       "      <td>False</td>\n",
       "      <td>...</td>\n",
       "      <td>13.83</td>\n",
       "      <td>0</td>\n",
       "      <td>Санкт-Петербург</td>\n",
       "      <td>24665</td>\n",
       "      <td>4232</td>\n",
       "      <td>1</td>\n",
       "      <td>796</td>\n",
       "      <td>3</td>\n",
       "      <td>381</td>\n",
       "      <td>72</td>\n",
       "    </tr>\n",
       "    <tr>\n",
       "      <th>23695</th>\n",
       "      <td>14</td>\n",
       "      <td>3100000</td>\n",
       "      <td>59</td>\n",
       "      <td>2018-01-15T00:00:00</td>\n",
       "      <td>3</td>\n",
       "      <td>2.65</td>\n",
       "      <td>5</td>\n",
       "      <td>38.0</td>\n",
       "      <td>4</td>\n",
       "      <td>False</td>\n",
       "      <td>...</td>\n",
       "      <td>8.50</td>\n",
       "      <td>0</td>\n",
       "      <td>Тосно</td>\n",
       "      <td>28793</td>\n",
       "      <td>14191</td>\n",
       "      <td>0</td>\n",
       "      <td>490</td>\n",
       "      <td>0</td>\n",
       "      <td>517</td>\n",
       "      <td>45</td>\n",
       "    </tr>\n",
       "    <tr>\n",
       "      <th>23696</th>\n",
       "      <td>18</td>\n",
       "      <td>2500000</td>\n",
       "      <td>56</td>\n",
       "      <td>2018-02-11T00:00:00</td>\n",
       "      <td>2</td>\n",
       "      <td>2.65</td>\n",
       "      <td>3</td>\n",
       "      <td>29.7</td>\n",
       "      <td>1</td>\n",
       "      <td>False</td>\n",
       "      <td>...</td>\n",
       "      <td>NaN</td>\n",
       "      <td>0</td>\n",
       "      <td>село Рождествено</td>\n",
       "      <td>28793</td>\n",
       "      <td>14191</td>\n",
       "      <td>0</td>\n",
       "      <td>490</td>\n",
       "      <td>0</td>\n",
       "      <td>517</td>\n",
       "      <td>72</td>\n",
       "    </tr>\n",
       "    <tr>\n",
       "      <th>23697</th>\n",
       "      <td>13</td>\n",
       "      <td>11475000</td>\n",
       "      <td>76</td>\n",
       "      <td>2017-03-28T00:00:00</td>\n",
       "      <td>2</td>\n",
       "      <td>3.00</td>\n",
       "      <td>17</td>\n",
       "      <td>NaN</td>\n",
       "      <td>12</td>\n",
       "      <td>False</td>\n",
       "      <td>...</td>\n",
       "      <td>23.30</td>\n",
       "      <td>2</td>\n",
       "      <td>Санкт-Петербург</td>\n",
       "      <td>39140</td>\n",
       "      <td>10364</td>\n",
       "      <td>2</td>\n",
       "      <td>173</td>\n",
       "      <td>3</td>\n",
       "      <td>196</td>\n",
       "      <td>602</td>\n",
       "    </tr>\n",
       "    <tr>\n",
       "      <th>23698</th>\n",
       "      <td>4</td>\n",
       "      <td>1350000</td>\n",
       "      <td>32</td>\n",
       "      <td>2017-07-21T00:00:00</td>\n",
       "      <td>1</td>\n",
       "      <td>2.50</td>\n",
       "      <td>5</td>\n",
       "      <td>12.3</td>\n",
       "      <td>1</td>\n",
       "      <td>False</td>\n",
       "      <td>...</td>\n",
       "      <td>9.00</td>\n",
       "      <td>0</td>\n",
       "      <td>поселок Новый Учхоз</td>\n",
       "      <td>28793</td>\n",
       "      <td>14191</td>\n",
       "      <td>0</td>\n",
       "      <td>490</td>\n",
       "      <td>0</td>\n",
       "      <td>517</td>\n",
       "      <td>72</td>\n",
       "    </tr>\n",
       "  </tbody>\n",
       "</table>\n",
       "<p>22884 rows × 22 columns</p>\n",
       "</div>"
      ],
      "text/plain": [
       "       total_images  last_price  total_area first_day_exposition  rooms  \\\n",
       "0                20    13000000         108  2019-03-07T00:00:00      3   \n",
       "1                 7     3350000          40  2018-12-04T00:00:00      1   \n",
       "2                10     5196000          56  2015-08-20T00:00:00      2   \n",
       "3                 0    64900000         159  2015-07-24T00:00:00      3   \n",
       "4                 2    10000000         100  2018-06-19T00:00:00      2   \n",
       "...             ...         ...         ...                  ...    ...   \n",
       "23694             9     9700000         133  2017-03-21T00:00:00      3   \n",
       "23695            14     3100000          59  2018-01-15T00:00:00      3   \n",
       "23696            18     2500000          56  2018-02-11T00:00:00      2   \n",
       "23697            13    11475000          76  2017-03-28T00:00:00      2   \n",
       "23698             4     1350000          32  2017-07-21T00:00:00      1   \n",
       "\n",
       "       ceiling_height  floors_total  living_area  floor  is_apartment  ...  \\\n",
       "0                2.70            16         51.0      8         False  ...   \n",
       "1                2.65            11         18.6      1         False  ...   \n",
       "2                2.65             5         34.3      4         False  ...   \n",
       "3                2.65            14          NaN      9         False  ...   \n",
       "4                3.03            14         32.0     13         False  ...   \n",
       "...               ...           ...          ...    ...           ...  ...   \n",
       "23694            3.70             5         73.3      3         False  ...   \n",
       "23695            2.65             5         38.0      4         False  ...   \n",
       "23696            2.65             3         29.7      1         False  ...   \n",
       "23697            3.00            17          NaN     12         False  ...   \n",
       "23698            2.50             5         12.3      1         False  ...   \n",
       "\n",
       "       kitchen_area  balcony        locality_name  airports_nearest  \\\n",
       "0             25.00        0      Санкт-Петербург             18863   \n",
       "1             11.00        2       посёлок Шушары             12817   \n",
       "2              8.30        0      Санкт-Петербург             21741   \n",
       "3               NaN        0      Санкт-Петербург             28098   \n",
       "4             41.00        0      Санкт-Петербург             31856   \n",
       "...             ...      ...                  ...               ...   \n",
       "23694         13.83        0      Санкт-Петербург             24665   \n",
       "23695          8.50        0                Тосно             28793   \n",
       "23696           NaN        0     село Рождествено             28793   \n",
       "23697         23.30        2      Санкт-Петербург             39140   \n",
       "23698          9.00        0  поселок Новый Учхоз             28793   \n",
       "\n",
       "      city_centers_nearest  parks_around  parks_nearest  ponds_around  \\\n",
       "0                    16028             1            482             2   \n",
       "1                    18603             0            490             0   \n",
       "2                    13933             1             90             2   \n",
       "3                     6800             2             84             3   \n",
       "4                     8098             2            112             1   \n",
       "...                    ...           ...            ...           ...   \n",
       "23694                 4232             1            796             3   \n",
       "23695                14191             0            490             0   \n",
       "23696                14191             0            490             0   \n",
       "23697                10364             2            173             3   \n",
       "23698                14191             0            490             0   \n",
       "\n",
       "       ponds_nearest  days_exposition  \n",
       "0                755               72  \n",
       "1                517               81  \n",
       "2                574              558  \n",
       "3                234              424  \n",
       "4                 48              121  \n",
       "...              ...              ...  \n",
       "23694            381               72  \n",
       "23695            517               45  \n",
       "23696            517               72  \n",
       "23697            196              602  \n",
       "23698            517               72  \n",
       "\n",
       "[22884 rows x 22 columns]"
      ]
     },
     "execution_count": 62,
     "metadata": {},
     "output_type": "execute_result"
    }
   ],
   "source": [
    "#Найдите и устраните редкие и выбивающиеся значения. \n",
    "data = data[(data['last_price']>12190.0) &(data['last_price']<401300000.0)|(data['last_price'].isna())]\n",
    "data = data[(data['floors_total'] >= data['floor'])|(data['floors_total'].isna())]\n",
    "data=data.dropna(subset=['locality_name'])\n",
    "data= data.loc[(data['ceiling_height']<=5)&(data['ceiling_height']>=2)|(data['ceiling_height'].isna())]\n",
    "data = data.loc[(data['rooms']<9)|(data['rooms'].isna())]\n",
    "data = data.loc[(data['living_area']>3)&(data['living_area']!=300)|(data['living_area'].isna())]\n",
    "data = data.loc[(data['kitchen_area']>3) &(data['kitchen_area']<87)|(data['kitchen_area'].isna())]\n",
    "data= data[(data['total_area']*0.9 > (data['living_area']+data['kitchen_area']))|(data['total_area'].isna())|\n",
    "(data['living_area']\n",
    ".isna())|(data['kitchen_area'].isna())]\n",
    "data = data.loc[(data['floors_total']!=60)\n",
    "               &(data['floors_total']!=29)&(data['floors_total']!=33)&(data['floors_total']!=52)]\n",
    "data = data.loc[(data['total_area']>=20)&(data['total_area']<=450)|(data['total_area'].isna())]\n",
    "data = data.loc[data['last_price']!=12190]\n",
    "\n",
    "data = data.loc[(data['floor']<27) |(data['floor'].isna())]\n",
    "\n",
    "data = data.loc[data['days_exposition']<1200]#сбрасываем данные от 1200 потому что разница в 400 и уменьшенный на 27%\n",
    "#разрыв, выглядят лучше , чем  1600 записей и 60% разрыв(60/1600>33/1200)\n",
    "\n",
    "#потеря составила 3.5 %\n",
    "\n",
    "\n",
    "data\n",
    "#Спасибо, поняла что из - за пропусков данные искажались.. Скажите, что мне стоит почитать или поучить еще? не очень хорошо чувствую\n",
    "#разбираюсь в методах и приемах , которые используются, часто ищу просто хоть какой-то вариант что -то сделать..\n",
    "#Нужно ли еще что то доделывать в этом проекте? если да, то что именно,спасибо за помощь, Ринат)\n"
   ]
  },
  {
   "cell_type": "markdown",
   "metadata": {},
   "source": [
    "<div class=\"alert alert-success\">\n",
    "<font size=\"4\", color= \"seagreen\"><b>✔️ Комментарий ревьюера в3</b></font>\n",
    "    <br /> \n",
    "    <font size=\"3\", color = \"black\">\n",
    "<br />пока достаточно статьи про пропуски и будем собирать опыт на проектах, подсказки второй версии комментирую"
   ]
  },
  {
   "cell_type": "code",
   "execution_count": 63,
   "metadata": {},
   "outputs": [
    {
     "name": "stdout",
     "output_type": "stream",
     "text": [
      "<class 'pandas.core.frame.DataFrame'>\n",
      "Int64Index: 22884 entries, 0 to 23698\n",
      "Data columns (total 22 columns):\n",
      " #   Column                Non-Null Count  Dtype  \n",
      "---  ------                --------------  -----  \n",
      " 0   total_images          22884 non-null  int64  \n",
      " 1   last_price            22884 non-null  int64  \n",
      " 2   total_area            22884 non-null  int64  \n",
      " 3   first_day_exposition  22884 non-null  object \n",
      " 4   rooms                 22884 non-null  int64  \n",
      " 5   ceiling_height        22884 non-null  float64\n",
      " 6   floors_total          22884 non-null  int64  \n",
      " 7   living_area           21018 non-null  float64\n",
      " 8   floor                 22884 non-null  int64  \n",
      " 9   is_apartment          22884 non-null  bool   \n",
      " 10  studio                22884 non-null  bool   \n",
      " 11  open_plan             22884 non-null  bool   \n",
      " 12  kitchen_area          20669 non-null  float64\n",
      " 13  balcony               22884 non-null  int64  \n",
      " 14  locality_name         22884 non-null  object \n",
      " 15  airports_nearest      22884 non-null  int64  \n",
      " 16  city_centers_nearest  22884 non-null  int64  \n",
      " 17  parks_around          22884 non-null  int64  \n",
      " 18  parks_nearest         22884 non-null  int64  \n",
      " 19  ponds_around          22884 non-null  int64  \n",
      " 20  ponds_nearest         22884 non-null  int64  \n",
      " 21  days_exposition       22884 non-null  int64  \n",
      "dtypes: bool(3), float64(3), int64(14), object(2)\n",
      "memory usage: 3.6+ MB\n"
     ]
    }
   ],
   "source": [
    "# check\n",
    "data.info()"
   ]
  },
  {
   "cell_type": "markdown",
   "metadata": {},
   "source": [
    "<div class=\"alert alert-danger\">\n",
    "<font size=\"4\"><b>❌ Комментарий ревьюера в3</b></font>\n",
    "    <br /> \n",
    "    <font size=\"3\", color = \"black\">\n",
    "<br />У нас пропуски в нескольких колонках, основное, что влияет на большой процент удаления это площадь кухни и жилая\n",
    "    \n",
    "        data= data[(data['total_area']*0.9 > (data['living_area']+data['kitchen_area']))|(data['total_area'].isna())]\n",
    "        data = data.loc[(data['living_area']>3)&(data['living_area']!=300)]\n",
    "    \n",
    "т.е. у нас проблема не колонке общая площадь, а в двух других ..., стоит применить условие\n",
    "        "
   ]
  },
  {
   "cell_type": "markdown",
   "metadata": {},
   "source": [
    "<div class=\"alert alert-danger\">\n",
    "<font size=\"4\"><b>❌ Комментарий ревьюера в3</b></font>\n",
    "    <br /> \n",
    "    <font size=\"3\", color = \"black\">\n",
    "<br />плюс странная ситуация с удалением редкостей, почему мы удаляем квартиры с 15-ю комнатами и не удаляем с 19-ю? стоит отсечь все записи с кол-ом комнат более 7-8, т.к. для нашего датасета они редкость\n",
    "        \n",
    "        data = data.loc[(data['rooms']!=14)&(data['rooms']!=10)&(data['rooms']!=15)\n",
    "               &(data['rooms']!=9)&(data['rooms']!=16)&(data['rooms']!=12)]\n",
    "        "
   ]
  },
  {
   "cell_type": "code",
   "execution_count": null,
   "metadata": {},
   "outputs": [],
   "source": []
  },
  {
   "cell_type": "code",
   "execution_count": null,
   "metadata": {},
   "outputs": [],
   "source": []
  },
  {
   "cell_type": "markdown",
   "metadata": {},
   "source": [
    "# Для твоих вопросов оставлю такую ячейку, чтобы было удобнее взаимодействовать на проекте"
   ]
  },
  {
   "cell_type": "markdown",
   "metadata": {},
   "source": [
    "<div class=\"alert alert-info\">\n",
    "<font size=\"4\", color = \"black\"><b>✍ Комментарий студента</b></font>\n",
    "    <br /> \n",
    "    <font size=\"3\", color = \"black\">\n",
    "<br /> ... , вот мой вопрос ...\n",
    "        \n",
    "        "
   ]
  },
  {
   "cell_type": "code",
   "execution_count": null,
   "metadata": {},
   "outputs": [],
   "source": []
  },
  {
   "cell_type": "code",
   "execution_count": 64,
   "metadata": {},
   "outputs": [],
   "source": [
    "# check\n",
    "# data.info()"
   ]
  },
  {
   "cell_type": "code",
   "execution_count": 65,
   "metadata": {},
   "outputs": [],
   "source": [
    "# твой код и вопрос\n",
    "\n",
    "# data = data.query(\"total_area * 0.90 > (living_area + kitchen_area)\")\n",
    "\n",
    "#на данный момент у меня уже более 13 процентов утраченных данных, я не знаю как быть теперь, как удалить еще какие то данные\n",
    "#если уже более чем критичная норма потерь, плюс, когда я пытаюсь изменить данные кухни и жилой площади, у меня почему-то\n",
    "#количество строк сокращается еще больше, хотя должно быть наоборот: сумма выражения справа будет уменьшаться при уменьшении\n",
    "#величин внутри...в общем я не знаю что делать, не понимаю почему еще больше строк сокращается если я убираю из столбцов значения\n",
    "#которые аномальны..По моим подсчетам ,и кухню и жилую площадь нужно сокращать до меньше 11, это самый лучший вариант\n",
    "#это можно проверить в валью_каунтс...Помогите пожалуйста, объясните почему они сокращаются, как работает это выражение...\n",
    "#'"
   ]
  },
  {
   "cell_type": "code",
   "execution_count": 66,
   "metadata": {},
   "outputs": [],
   "source": [
    "# check\n",
    "# data.info()"
   ]
  },
  {
   "cell_type": "markdown",
   "metadata": {},
   "source": [
    "<div class=\"alert alert-\n",
    "            danger\">\n",
    "<font size=\"4\"><b>❌ Комментарий ревьюера в2</b></font>\n",
    "    <br /> \n",
    "    <font size=\"3\", color = \"black\">\n",
    "<br />\n",
    "\n",
    "    data = data.query(\"total_area * 0.90 > (living_area + kitchen_area)\")\n",
    "                                                                             \n",
    "Так мы познакомились с особенностью фильтрации в библиотеке пандас, все NaN убегают вместе со значениями, которые не подходят под нашу фильтрацию, поэтому процент потери записей огромен\n",
    "        \n",
    "Было 23699 записей, осталось 20447\n",
    "        \n",
    "стоит настроить условия фильтрации, чтобы не потерять записи с пропусками\n",
    "        \n",
    "<b>алгоритм фильтрации столбца с пропусками: задаем основное условие фильтрации, + прибавляем условие не трогать записи с пропусками</b>\n",
    "        "
   ]
  },
  {
   "cell_type": "code",
   "execution_count": null,
   "metadata": {},
   "outputs": [],
   "source": []
  },
  {
   "cell_type": "markdown",
   "metadata": {},
   "source": [
    "<div class=\"alert alert-success\">\n",
    "<font size=\"4\", color= \"seagreen\"><b>✔️ Комментарий ревьюера в2</b></font>\n",
    "    <br /> \n",
    "    <font size=\"3\", color = \"black\">\n",
    "<br />       \n",
    "На примере ниже я покажу как фильтровать записи с пропусками\n",
    "\n",
    "        \n",
    "Мягкие условия для удаления через логическую операцию или: оставляем все пропуски или все значения, которые ближе чем 60 000 метров\n",
    "\n",
    "        df_isna = df_check.query('airports_nearest.isna() | airports_nearest < 60000')\n",
    "            \n",
    "В изначальном датасете было всего записей — 23699 entries, из них заполненные\n",
    "            \n",
    "            15  airports_nearest      18157 non-null  float64\n",
    "            \n",
    "Осталось — 23525 entries, из них заполненные \n",
    "            \n",
    "            15  airports_nearest      17983 non-null  float64\n",
    "            \n",
    "т.е. все пропуски в столбце airports_nearest остались на месте \n",
    "            \n",
    "Знак | обозначает логическую операцию «или», иногда мы ее записываем при помощи оператора «or»"
   ]
  },
  {
   "cell_type": "code",
   "execution_count": 67,
   "metadata": {},
   "outputs": [
    {
     "name": "stdout",
     "output_type": "stream",
     "text": [
      "<class 'pandas.core.frame.DataFrame'>\n",
      "RangeIndex: 23699 entries, 0 to 23698\n",
      "Data columns (total 22 columns):\n",
      " #   Column                Non-Null Count  Dtype  \n",
      "---  ------                --------------  -----  \n",
      " 0   total_images          23699 non-null  int64  \n",
      " 1   last_price            23699 non-null  float64\n",
      " 2   total_area            23699 non-null  float64\n",
      " 3   first_day_exposition  23699 non-null  object \n",
      " 4   rooms                 23699 non-null  int64  \n",
      " 5   ceiling_height        14504 non-null  float64\n",
      " 6   floors_total          23613 non-null  float64\n",
      " 7   living_area           21796 non-null  float64\n",
      " 8   floor                 23699 non-null  int64  \n",
      " 9   is_apartment          2775 non-null   object \n",
      " 10  studio                23699 non-null  bool   \n",
      " 11  open_plan             23699 non-null  bool   \n",
      " 12  kitchen_area          21421 non-null  float64\n",
      " 13  balcony               12180 non-null  float64\n",
      " 14  locality_name         23650 non-null  object \n",
      " 15  airports_nearest      18157 non-null  float64\n",
      " 16  cityCenters_nearest   18180 non-null  float64\n",
      " 17  parks_around3000      18181 non-null  float64\n",
      " 18  parks_nearest         8079 non-null   float64\n",
      " 19  ponds_around3000      18181 non-null  float64\n",
      " 20  ponds_nearest         9110 non-null   float64\n",
      " 21  days_exposition       20518 non-null  float64\n",
      "dtypes: bool(2), float64(14), int64(3), object(3)\n",
      "memory usage: 3.7+ MB\n",
      "<class 'pandas.core.frame.DataFrame'>\n",
      "Int64Index: 23525 entries, 0 to 23698\n",
      "Data columns (total 22 columns):\n",
      " #   Column                Non-Null Count  Dtype  \n",
      "---  ------                --------------  -----  \n",
      " 0   total_images          23525 non-null  int64  \n",
      " 1   last_price            23525 non-null  float64\n",
      " 2   total_area            23525 non-null  float64\n",
      " 3   first_day_exposition  23525 non-null  object \n",
      " 4   rooms                 23525 non-null  int64  \n",
      " 5   ceiling_height        14390 non-null  float64\n",
      " 6   floors_total          23440 non-null  float64\n",
      " 7   living_area           21634 non-null  float64\n",
      " 8   floor                 23525 non-null  int64  \n",
      " 9   is_apartment          2760 non-null   object \n",
      " 10  studio                23525 non-null  bool   \n",
      " 11  open_plan             23525 non-null  bool   \n",
      " 12  kitchen_area          21262 non-null  float64\n",
      " 13  balcony               12082 non-null  float64\n",
      " 14  locality_name         23477 non-null  object \n",
      " 15  airports_nearest      17983 non-null  float64\n",
      " 16  cityCenters_nearest   18006 non-null  float64\n",
      " 17  parks_around3000      18007 non-null  float64\n",
      " 18  parks_nearest         7968 non-null   float64\n",
      " 19  ponds_around3000      18007 non-null  float64\n",
      " 20  ponds_nearest         8991 non-null   float64\n",
      " 21  days_exposition       20360 non-null  float64\n",
      "dtypes: bool(2), float64(14), int64(3), object(3)\n",
      "memory usage: 3.8+ MB\n"
     ]
    }
   ],
   "source": [
    "# check\n",
    "import pandas as pd\n",
    "df_check = pd.read_csv('/datasets/real_estate_data.csv', sep='\\t') \n",
    "df_check.info()\n",
    "df_isna = df_check.query('airports_nearest.isna() | airports_nearest < 60000')\n",
    "df_isna.info()"
   ]
  },
  {
   "cell_type": "code",
   "execution_count": null,
   "metadata": {},
   "outputs": [],
   "source": []
  },
  {
   "cell_type": "markdown",
   "metadata": {},
   "source": [
    "<div class=\"alert alert-success\">\n",
    "<font size=\"4\", color= \"seagreen\"><b>✔️ Комментарий ревьюера  в2 </b></font>\n",
    "    <br /> \n",
    "    <font size=\"3\", color = \"black\">\n",
    "<br /> для примера, посмотри на уровень потерь без условия фильтрации пропусков"
   ]
  },
  {
   "cell_type": "code",
   "execution_count": 68,
   "metadata": {},
   "outputs": [
    {
     "name": "stdout",
     "output_type": "stream",
     "text": [
      "<class 'pandas.core.frame.DataFrame'>\n",
      "Int64Index: 17983 entries, 0 to 23697\n",
      "Data columns (total 22 columns):\n",
      " #   Column                Non-Null Count  Dtype  \n",
      "---  ------                --------------  -----  \n",
      " 0   total_images          17983 non-null  int64  \n",
      " 1   last_price            17983 non-null  float64\n",
      " 2   total_area            17983 non-null  float64\n",
      " 3   first_day_exposition  17983 non-null  object \n",
      " 4   rooms                 17983 non-null  int64  \n",
      " 5   ceiling_height        11426 non-null  float64\n",
      " 6   floors_total          17908 non-null  float64\n",
      " 7   living_area           16717 non-null  float64\n",
      " 8   floor                 17983 non-null  int64  \n",
      " 9   is_apartment          2129 non-null   object \n",
      " 10  studio                17983 non-null  bool   \n",
      " 11  open_plan             17983 non-null  bool   \n",
      " 12  kitchen_area          16437 non-null  float64\n",
      " 13  balcony               9257 non-null   float64\n",
      " 14  locality_name         17943 non-null  object \n",
      " 15  airports_nearest      17983 non-null  float64\n",
      " 16  cityCenters_nearest   17982 non-null  float64\n",
      " 17  parks_around3000      17983 non-null  float64\n",
      " 18  parks_nearest         7948 non-null   float64\n",
      " 19  ponds_around3000      17983 non-null  float64\n",
      " 20  ponds_nearest         8983 non-null   float64\n",
      " 21  days_exposition       15685 non-null  float64\n",
      "dtypes: bool(2), float64(14), int64(3), object(3)\n",
      "memory usage: 2.9+ MB\n"
     ]
    }
   ],
   "source": [
    "# check\n",
    "df_isna = df_check.query(' airports_nearest < 60000')\n",
    "df_isna.info()"
   ]
  },
  {
   "cell_type": "code",
   "execution_count": null,
   "metadata": {},
   "outputs": [],
   "source": []
  },
  {
   "cell_type": "markdown",
   "metadata": {},
   "source": [
    "<div class=\"alert alert-success\">\n",
    "<font size=\"4\", color= \"seagreen\"><b>✔️ Комментарий ревьюера  в2 </b></font>\n",
    "    <br /> \n",
    "    <font size=\"3\", color = \"black\">\n",
    "<br /> пример более простой фильтрации колонок с пропусками, в обновленной версии библиотеки пандас первый вариант работать, возможно, не будет "
   ]
  },
  {
   "cell_type": "code",
   "execution_count": 69,
   "metadata": {},
   "outputs": [
    {
     "name": "stdout",
     "output_type": "stream",
     "text": [
      "<class 'pandas.core.frame.DataFrame'>\n",
      "RangeIndex: 23699 entries, 0 to 23698\n",
      "Data columns (total 22 columns):\n",
      " #   Column                Non-Null Count  Dtype  \n",
      "---  ------                --------------  -----  \n",
      " 0   total_images          23699 non-null  int64  \n",
      " 1   last_price            23699 non-null  float64\n",
      " 2   total_area            23699 non-null  float64\n",
      " 3   first_day_exposition  23699 non-null  object \n",
      " 4   rooms                 23699 non-null  int64  \n",
      " 5   ceiling_height        14504 non-null  float64\n",
      " 6   floors_total          23613 non-null  float64\n",
      " 7   living_area           21796 non-null  float64\n",
      " 8   floor                 23699 non-null  int64  \n",
      " 9   is_apartment          2775 non-null   object \n",
      " 10  studio                23699 non-null  bool   \n",
      " 11  open_plan             23699 non-null  bool   \n",
      " 12  kitchen_area          21421 non-null  float64\n",
      " 13  balcony               12180 non-null  float64\n",
      " 14  locality_name         23650 non-null  object \n",
      " 15  airports_nearest      18157 non-null  float64\n",
      " 16  cityCenters_nearest   18180 non-null  float64\n",
      " 17  parks_around3000      18181 non-null  float64\n",
      " 18  parks_nearest         8079 non-null   float64\n",
      " 19  ponds_around3000      18181 non-null  float64\n",
      " 20  ponds_nearest         9110 non-null   float64\n",
      " 21  days_exposition       20518 non-null  float64\n",
      "dtypes: bool(2), float64(14), int64(3), object(3)\n",
      "memory usage: 3.7+ MB\n",
      "<class 'pandas.core.frame.DataFrame'>\n",
      "Int64Index: 23525 entries, 0 to 23698\n",
      "Data columns (total 22 columns):\n",
      " #   Column                Non-Null Count  Dtype  \n",
      "---  ------                --------------  -----  \n",
      " 0   total_images          23525 non-null  int64  \n",
      " 1   last_price            23525 non-null  float64\n",
      " 2   total_area            23525 non-null  float64\n",
      " 3   first_day_exposition  23525 non-null  object \n",
      " 4   rooms                 23525 non-null  int64  \n",
      " 5   ceiling_height        14390 non-null  float64\n",
      " 6   floors_total          23440 non-null  float64\n",
      " 7   living_area           21634 non-null  float64\n",
      " 8   floor                 23525 non-null  int64  \n",
      " 9   is_apartment          2760 non-null   object \n",
      " 10  studio                23525 non-null  bool   \n",
      " 11  open_plan             23525 non-null  bool   \n",
      " 12  kitchen_area          21262 non-null  float64\n",
      " 13  balcony               12082 non-null  float64\n",
      " 14  locality_name         23477 non-null  object \n",
      " 15  airports_nearest      17983 non-null  float64\n",
      " 16  cityCenters_nearest   18006 non-null  float64\n",
      " 17  parks_around3000      18007 non-null  float64\n",
      " 18  parks_nearest         7968 non-null   float64\n",
      " 19  ponds_around3000      18007 non-null  float64\n",
      " 20  ponds_nearest         8991 non-null   float64\n",
      " 21  days_exposition       20360 non-null  float64\n",
      "dtypes: bool(2), float64(14), int64(3), object(3)\n",
      "memory usage: 3.8+ MB\n"
     ]
    }
   ],
   "source": [
    "# check\n",
    "df_check = pd.read_csv('/datasets/real_estate_data.csv', sep='\\t') \n",
    "df_check.info()\n",
    "df_isna = df_check[(df_check ['airports_nearest'] < 60_000) | (df_check ['airports_nearest'].isna()) ]\n",
    "df_isna.info()"
   ]
  },
  {
   "cell_type": "code",
   "execution_count": null,
   "metadata": {},
   "outputs": [],
   "source": []
  },
  {
   "cell_type": "markdown",
   "metadata": {},
   "source": [
    "<div class=\"alert alert-danger\">\n",
    "<font size=\"4\"><b>❌ Комментарий ревьюера в2</b></font>\n",
    "    <br /> \n",
    "    <font size=\"3\", color = \"black\">\n",
    "<br />Дублирую, на подобных больших блоках кода тяжело искать строчки кода, которые вызывают у нас подозрения\n",
    "        \n",
    "__Самое важное — стоит разделить блок кода на отдельные шаги,__ "
   ]
  },
  {
   "cell_type": "markdown",
   "metadata": {},
   "source": [
    "<div class=\"alert alert-danger\">\n",
    "<font size=\"4\"><b>❌ Комментарий ревьюера</b></font>\n",
    "    <br /> \n",
    "    <font size=\"3\", color = \"black\">\n",
    "<br />\n",
    "        \n",
    "__Самое важное — стоит разделить блок кода на отдельные шаги,__ можно как в нашем плане проекта, будет удобно понять, что мы делаем и каких результатов добились"
   ]
  },
  {
   "cell_type": "markdown",
   "metadata": {},
   "source": [
    "<div class=\"alert alert-warning\", style=\"border:solid coral 3px; padding: 20px\">\n",
    "<font size=\"4\", color = \"DimGrey\"><b>⚠️ Комментарий ревьюера</b></font>\n",
    "    <br /> \n",
    "    <font size=\"3\", color = \"black\">\n",
    "<br />При заполнении медианой необходимо четко отслеживать изменение других статистик: среднее, дисперсию\n",
    "        \n",
    "... если рассмотреть районность высоты потолков, т.к. в современных районах Питера высота потолков будет ожидаема ниже, чем в исторических, мы увидим, что заполнение подобного объема пропусков медианой или средним значением «размажет» это отличительное свойство объектов недвижимости в центре Питера\n",
    "        \n",
    "[Обработка пропусков в данных](https://loginom.ru/blog/missing)"
   ]
  },
  {
   "cell_type": "markdown",
   "metadata": {},
   "source": [
    "<div class=\"alert alert-\n",
    "            danger\">\n",
    "<font size=\"4\"><b>❌ Комментарий ревьюера</b></font>\n",
    "    <br /> \n",
    "    <font size=\"3\", color = \"black\">\n",
    "<br />После заполнения синтетическими данными,\n",
    "\n",
    "        data['floors_total']=data['floors_total'].fillna(floors_total_mean)\n",
    "        \n",
    "стоит провести проверку на корректность значений по условию (этажность дома не м.б. ниже этажности квартиры)\n",
    "    \n",
    "        ['floors_total'] < ['floor']"
   ]
  },
  {
   "cell_type": "markdown",
   "metadata": {},
   "source": [
    "<div class=\"alert alert-\n",
    "            danger\">\n",
    "<font size=\"4\"><b>❌ Комментарий ревьюера</b></font>\n",
    "    <br /> \n",
    "    <font size=\"3\", color = \"black\">\n",
    "<br />После заполнения синтетическими данными столбцов, стоит провести проверку на корректность значений всех наших площадей, т.к. есть (коридоры, сан.узлы, балконы)\n",
    "        \n",
    "        total_area*0.9 <= (living_area + kitchen_area)\n",
    "                                     \n",
    "если алгоритм приводит к появлению аномалий, стоит подумать над его содержимым\n",
    "\n",
    "        #заполняем пропуски для \"жилой площади\"\n",
    "        living_area_mean = data['living_area'].mean()\n",
    "        data['living_area'] = data['living_area'].fillna(living_area_mean)\n",
    "\n",
    "\n",
    "        #заполняем пропуски для \"кухни\"\n",
    "        kitchen_area_median = data['kitchen_area'].median()\n",
    "        data['kitchen_area'] = data['kitchen_area'].fillna(kitchen_area_median)"
   ]
  },
  {
   "cell_type": "markdown",
   "metadata": {},
   "source": [
    "<div class=\"alert alert-\n",
    "            danger\">\n",
    "<font size=\"4\"><b>❌ Комментарий ревьюера</b></font>\n",
    "    <br /> \n",
    "    <font size=\"3\", color = \"black\">\n",
    "<br /> Можно удалить, т.к. ценность квартиры без адреса .... \n",
    "\n",
    "    locality_name         23650 non-null  object  \n",
    "           \n",
    "т.к. параметр ключевой, можно <b>изучить</b> распределение пропусков в \n",
    "        \n",
    "    city_centers_nearest   18180 non-null  float64       \n",
    "        \n",
    "к каким населенным пунктам относятся и оценить степень влияния на дальнейший анализ (будут мешать или нет)\n",
    "        \n",
    "        #заполняем пропуски для \"ближайшие центры городов\"\n",
    "        #заменяем тип данных на инт, потому что так удобнее будет анализировать данные, где не важны маленькие величины\n",
    "        city_centers_nearest_mean= data['city_centers_nearest'].mean()\n",
    "        city_centers_nearest_mean  = math.ceil(city_centers_nearest_mean)\n",
    "        data['city_centers_nearest'] =data['city_centers_nearest'].fillna(city_centers_nearest_mean)"
   ]
  },
  {
   "cell_type": "markdown",
   "metadata": {},
   "source": [
    "<div class=\"alert alert-\n",
    "            danger\">\n",
    "<font size=\"4\"><b>❌ Комментарий ревьюера</b></font>\n",
    "    <br /> \n",
    "    <font size=\"3\", color = \"black\">\n",
    "<br /> Пропуски в ['days_exposition'] говорят нам, что квартиры еще не проданы..., неверно терять столь важный признак,\n",
    "        \n",
    "        #заполянем пропуски для \"экспозиции дней\"\n",
    "        #изменили тип данных, потому что дни не могут быть не целыми числами\n",
    "        days_explosion_mean = data['days_exposition'].mean()\n",
    "        days_explosion_mean =math.ceil(days_explosion_mean)\n",
    "        data['days_exposition']=data['days_exposition'].fillna(days_explosion_mean)\n",
    "        data['days_exposition'] =data['days_exposition'].astype('int64')\n",
    "        \n",
    "Заполнение средним значением исказит расчеты статистических показателей скорости продаж ...\n",
    "        \n",
    "Оставляем пропуски \n",
    "        \n",
    "Из брифа проекта:\n",
    "        \n",
    "Шаг 2. Предобработка данных\n",
    "+ Определите и изучите пропущенные значения:\n",
    " + Для некоторых пропущенных значений можно предположить логичную замену. Например, если человек не указал число балконов — скорее всего, их нет. Такие пропуски правильно заменить на 0. Для других типов данных нет подходящего значения на замену. В этом случае правильно оставить эти значения пустыми. Отсутствие значения — тоже важный сигнал, который не нужно прятать.\n",
    "        "
   ]
  },
  {
   "cell_type": "markdown",
   "metadata": {},
   "source": [
    "<div class=\"alert alert-success\">\n",
    "<font size=\"4\", color= \"seagreen\"><b>✔️ Комментарий ревьюера</b></font>\n",
    "    <br /> \n",
    "    <font size=\"3\", color = \"black\">\n",
    "<br />\n",
    "\n",
    "__проверим какие аномалии остались__ таблица ниже"
   ]
  },
  {
   "cell_type": "code",
   "execution_count": 70,
   "metadata": {
    "scrolled": true
   },
   "outputs": [
    {
     "data": {
      "text/html": [
       "<style  type=\"text/css\" >\n",
       "</style><table id=\"T_57696_\" ><thead>    <tr>        <th class=\"blank level0\" ></th>        <th class=\"col_heading level0 col0\" >rooms</th>        <th class=\"col_heading level0 col1\" >total_area</th>        <th class=\"col_heading level0 col2\" >ceiling_height</th>        <th class=\"col_heading level0 col3\" >days_exposition</th>        <th class=\"col_heading level0 col4\" >last_price</th>        <th class=\"col_heading level0 col5\" >living_area</th>        <th class=\"col_heading level0 col6\" >kitchen_area</th>        <th class=\"col_heading level0 col7\" >floor</th>        <th class=\"col_heading level0 col8\" >floors_total</th>    </tr></thead><tbody>\n",
       "                <tr>\n",
       "                        <th id=\"T_57696_level0_row0\" class=\"row_heading level0 row0\" >count</th>\n",
       "                        <td id=\"T_57696_row0_col0\" class=\"data row0 col0\" >22,884.00</td>\n",
       "                        <td id=\"T_57696_row0_col1\" class=\"data row0 col1\" >22,884.00</td>\n",
       "                        <td id=\"T_57696_row0_col2\" class=\"data row0 col2\" >22,884.00</td>\n",
       "                        <td id=\"T_57696_row0_col3\" class=\"data row0 col3\" >22,884.00</td>\n",
       "                        <td id=\"T_57696_row0_col4\" class=\"data row0 col4\" >22,884.00</td>\n",
       "                        <td id=\"T_57696_row0_col5\" class=\"data row0 col5\" >21,018.00</td>\n",
       "                        <td id=\"T_57696_row0_col6\" class=\"data row0 col6\" >20,669.00</td>\n",
       "                        <td id=\"T_57696_row0_col7\" class=\"data row0 col7\" >22,884.00</td>\n",
       "                        <td id=\"T_57696_row0_col8\" class=\"data row0 col8\" >22,884.00</td>\n",
       "            </tr>\n",
       "            <tr>\n",
       "                        <th id=\"T_57696_level0_row1\" class=\"row_heading level0 row1\" >min</th>\n",
       "                        <td id=\"T_57696_row1_col0\" class=\"data row1 col0\" >0.00</td>\n",
       "                        <td id=\"T_57696_row1_col1\" class=\"data row1 col1\" >20.00</td>\n",
       "                        <td id=\"T_57696_row1_col2\" class=\"data row1 col2\" >2.00</td>\n",
       "                        <td id=\"T_57696_row1_col3\" class=\"data row1 col3\" >1.00</td>\n",
       "                        <td id=\"T_57696_row1_col4\" class=\"data row1 col4\" >430,000.00</td>\n",
       "                        <td id=\"T_57696_row1_col5\" class=\"data row1 col5\" >5.00</td>\n",
       "                        <td id=\"T_57696_row1_col6\" class=\"data row1 col6\" >3.20</td>\n",
       "                        <td id=\"T_57696_row1_col7\" class=\"data row1 col7\" >1.00</td>\n",
       "                        <td id=\"T_57696_row1_col8\" class=\"data row1 col8\" >1.00</td>\n",
       "            </tr>\n",
       "            <tr>\n",
       "                        <th id=\"T_57696_level0_row2\" class=\"row_heading level0 row2\" >max</th>\n",
       "                        <td id=\"T_57696_row2_col0\" class=\"data row2 col0\" >8.00</td>\n",
       "                        <td id=\"T_57696_row2_col1\" class=\"data row2 col1\" >441.00</td>\n",
       "                        <td id=\"T_57696_row2_col2\" class=\"data row2 col2\" >5.00</td>\n",
       "                        <td id=\"T_57696_row2_col3\" class=\"data row2 col3\" >1,199.00</td>\n",
       "                        <td id=\"T_57696_row2_col4\" class=\"data row2 col4\" >330,000,000.00</td>\n",
       "                        <td id=\"T_57696_row2_col5\" class=\"data row2 col5\" >260.00</td>\n",
       "                        <td id=\"T_57696_row2_col6\" class=\"data row2 col6\" >77.00</td>\n",
       "                        <td id=\"T_57696_row2_col7\" class=\"data row2 col7\" >26.00</td>\n",
       "                        <td id=\"T_57696_row2_col8\" class=\"data row2 col8\" >35.00</td>\n",
       "            </tr>\n",
       "    </tbody></table>"
      ],
      "text/plain": [
       "<pandas.io.formats.style.Styler at 0x7f92597dfd90>"
      ]
     },
     "execution_count": 70,
     "metadata": {},
     "output_type": "execute_result"
    }
   ],
   "source": [
    "# check\n",
    "\n",
    "# Показатели о кол-ве объявлений в датасете, минимальных и максимальных показателях \n",
    "# в выбранных параметрах о продаже квартир\n",
    "# сырые данные\n",
    "\n",
    "(\n",
    "    data[['rooms', 'total_area', 'ceiling_height', 'days_exposition', 'last_price', 'living_area',  'kitchen_area', 'floor',\n",
    "       'floors_total']]\n",
    "    .apply (['count', 'min', 'max'])   \n",
    "    .style.format(\"{:,.2f}\")\n",
    ")"
   ]
  },
  {
   "cell_type": "markdown",
   "metadata": {},
   "source": [
    "<div class=\"alert alert-success\">\n",
    "<font size=\"4\", color= \"seagreen\"><b>✔️ Комментарий ревьюера в4</b></font>\n",
    "    <br /> \n",
    "    <font size=\"3\", color = \"black\">\n",
    "<br />\n",
    "ювелирная работа по очистке"
   ]
  },
  {
   "cell_type": "markdown",
   "metadata": {},
   "source": [
    "<div class=\"alert alert-\n",
    "            danger\">\n",
    "<font size=\"4\"><b>❌ Комментарий ревьюера в2</b></font>\n",
    "    <br /> \n",
    "    <font size=\"3\", color = \"black\">\n",
    "<br /><br />осталось почистить наши аномалии\n",
    "        \n",
    "Критичный уровень очистки таблицы равен 10% от первоначального кол-ва всех записей, оптимальный 5%\n"
   ]
  },
  {
   "cell_type": "markdown",
   "metadata": {},
   "source": [
    "<div class=\"alert alert-\n",
    "            danger\">\n",
    "<font size=\"4\"><b>❌ Комментарий ревьюера в2</b></font>\n",
    "    <br /> \n",
    "    <font size=\"3\", color = \"black\">\n",
    "<br />Совет, что считать редкостью или аномалией для нашего датасета        \n",
    "             \n",
    "Для примера предлагаю квартиры с 19 комнатами исключить, т.к. объект кардинально выбивается из выборки в которой по несколько тысяч квартир с 2-мя, 3-мя комнатами и только одна, две с 19-тью ..., плюс в кол-ве комнат могут быть и другие редкости\n",
    "        \n",
    "однометровые и тридцатидвухметровые потолки наверно, также являются аномалией, стоит вычистить, посмотри и на другие параметры\n",
    "   \n",
    "допустим в Питере и окрестностях по состоянию на 2019 г. были или не были дома этажностью выше 30-ти этажей, а если и были, то можно ли считать их обычными объявлениями длля нашего датасета\n",
    "        \n",
    "Провести работу по очистке датасета от редких значений(есть и другие аномалии) в других параметрах, таблица выше в помощь\n",
    "        \n",
    "И дальше на проекте мы уже работаем с очищенным датасетом "
   ]
  },
  {
   "cell_type": "code",
   "execution_count": 71,
   "metadata": {},
   "outputs": [
    {
     "data": {
      "text/html": [
       "<div>\n",
       "<style scoped>\n",
       "    .dataframe tbody tr th:only-of-type {\n",
       "        vertical-align: middle;\n",
       "    }\n",
       "\n",
       "    .dataframe tbody tr th {\n",
       "        vertical-align: top;\n",
       "    }\n",
       "\n",
       "    .dataframe thead th {\n",
       "        text-align: right;\n",
       "    }\n",
       "</style>\n",
       "<table border=\"1\" class=\"dataframe\">\n",
       "  <thead>\n",
       "    <tr style=\"text-align: right;\">\n",
       "      <th></th>\n",
       "      <th>rooms</th>\n",
       "    </tr>\n",
       "  </thead>\n",
       "  <tbody>\n",
       "    <tr>\n",
       "      <th>1</th>\n",
       "      <td>7826</td>\n",
       "    </tr>\n",
       "    <tr>\n",
       "      <th>2</th>\n",
       "      <td>7700</td>\n",
       "    </tr>\n",
       "    <tr>\n",
       "      <th>3</th>\n",
       "      <td>5593</td>\n",
       "    </tr>\n",
       "    <tr>\n",
       "      <th>4</th>\n",
       "      <td>1122</td>\n",
       "    </tr>\n",
       "    <tr>\n",
       "      <th>5</th>\n",
       "      <td>303</td>\n",
       "    </tr>\n",
       "    <tr>\n",
       "      <th>0</th>\n",
       "      <td>184</td>\n",
       "    </tr>\n",
       "    <tr>\n",
       "      <th>6</th>\n",
       "      <td>92</td>\n",
       "    </tr>\n",
       "    <tr>\n",
       "      <th>7</th>\n",
       "      <td>52</td>\n",
       "    </tr>\n",
       "    <tr>\n",
       "      <th>8</th>\n",
       "      <td>12</td>\n",
       "    </tr>\n",
       "  </tbody>\n",
       "</table>\n",
       "</div>"
      ],
      "text/plain": [
       "   rooms\n",
       "1   7826\n",
       "2   7700\n",
       "3   5593\n",
       "4   1122\n",
       "5    303\n",
       "0    184\n",
       "6     92\n",
       "7     52\n",
       "8     12"
      ]
     },
     "execution_count": 71,
     "metadata": {},
     "output_type": "execute_result"
    }
   ],
   "source": [
    "# check\n",
    "data.rooms.value_counts().to_frame()"
   ]
  },
  {
   "cell_type": "markdown",
   "metadata": {},
   "source": [
    "<div class=\"alert alert-\n",
    "            danger\">\n",
    "<font size=\"4\"><b>❌ Комментарий ревьюера</b></font>\n",
    "    <br /> \n",
    "    <font size=\"3\", color = \"black\">\n",
    "<br /><br />хорошая работа по избавлению от редкостей, но мы потеряли около 20% от датасета\n",
    "                \n",
    "        data=data.loc[(data['airports_nearest']!=0) &(data['airports_nearest']<57500)]\n",
    "        data=data.loc[(data['kitchen_area']>=5) &(data['kitchen_area']<=30)]\n",
    "        data=data.loc[(data['last_price']>500000) &(data['last_price']<9_000_000)]\n",
    "        data=data.loc[(data['living_area']>=10) &(data['living_area']<=70)]\n",
    "        data=data.loc[data['parks_nearest']>100]\n",
    "        data=data.loc[data['ponds_nearest']>100]\n",
    "        data = data.loc[data['total_area']<150]\n",
    "        \n",
    "        \n",
    "Критичный уровень очистки таблицы равен 10% от первоначального кол-ва всех записей, оптимальный 5%\n"
   ]
  },
  {
   "cell_type": "markdown",
   "metadata": {},
   "source": [
    "### Посчитайте и добавьте в таблицу новые столбцы"
   ]
  },
  {
   "cell_type": "code",
   "execution_count": 72,
   "metadata": {
    "scrolled": true
   },
   "outputs": [],
   "source": [
    "#посчитано и добавлено в таблицу: цена одного квадратного метра\n",
    "data['price_per_square_meter'] =data['last_price'] / data['total_area']\n",
    "\n",
    "#посчитано и добавлено в таблицу: день публикации объявления (0 - понедельник, 1 - вторник и т.д.)\n",
    "data['first_day_exposition'] = pd.to_datetime(data['first_day_exposition'], format='%Y-%m-%dT%H:%M:%S')\n",
    "\n",
    "data['weekday_exposition'] = data['first_day_exposition'].dt.weekday\n",
    " \n",
    "data = data.replace({'weekday_exposition':{0:'понедельник', 1:'вторник',2:'среда',3:'четверг',4:'пятница',\n",
    "5:'суббота',6:'воскресенье'}})\n",
    "\n",
    "\n",
    "#посчитано и добавлено в таблицу: месяц публикации объявления\n",
    "data['month_exposition'] = data['first_day_exposition'].dt.month\n",
    "\n",
    "data = data.replace({'month_exposition':{1:'февраль',2:'март',3:'апрель',4:'май',5:'июнь',\n",
    "6:'июль',7:'август',8:'сентябрь',9:'октябрь', 10:'ноябрь',11:'декабрь',12:'январь'}})\n",
    "\n",
    "#посчитано и добавлено в таблицу: год публикации объявления\n",
    "data['year_exposition'] = data['first_day_exposition'].dt.year\n",
    "\n",
    "\n",
    "#посчитано и добавлено в таблицу: тип этажа квартиры (значения — «первый», «последний», «другой»)\n",
    "def floor_category(dt):\n",
    "    floor = dt['floor']\n",
    "    floor_total = dt['floors_total']\n",
    "    if floor == 1:\n",
    "        return 'первый' \n",
    "    elif floor ==floor_total :\n",
    "        return 'последний' \n",
    "    elif 1<floor<floor_total:\n",
    "        return 'другой'\n",
    "data['floor_category'] = data.apply(floor_category,axis=1)\n",
    "\n",
    "#посчитано и добавлено в таблицу: расстояние в км до центра города\n",
    "data['city_centers_nearest_km'] = data['city_centers_nearest']/1000.0\n"
   ]
  },
  {
   "cell_type": "markdown",
   "metadata": {},
   "source": [
    "<div class=\"alert alert-warning\", style=\"border:solid coral 3px; padding: 20px\">\n",
    "<font size=\"4\"><b>⚠️ Комментарий ревьюера в3</b></font>\n",
    "    <br /> \n",
    "    <font size=\"3\", color = \"black\">\n",
    "<br />\n",
    "Для красоты («продаваемости») всего проекта не стоит выходить за видимую ширину тетради юпитер ноутбука, коллеги ценят удобство прочтения кода. Широкие строки кода рекомендуется — делить <a href=\"https://qastack.ru/programming/53162/how-can-i-do-a-line-break-line-continuation-in-python\">Перенос длинных строк кода</a>. \n",
    "    \n",
    "</div>"
   ]
  },
  {
   "cell_type": "markdown",
   "metadata": {},
   "source": [
    "<div class=\"alert alert-warning\", style=\"border:solid coral 3px; padding: 20px\">\n",
    "<font size=\"4\", color = \"DimGrey\"><b>⚠️ Комментарий ревьюера</b></font>\n",
    "    <br /> \n",
    "    <font size=\"3\", color = \"black\">\n",
    "<br />присвоение имен для дней недели и месяцев всегда вызывает дополнительный объем работ по сортировке записей в хронологическом порядке"
   ]
  },
  {
   "cell_type": "markdown",
   "metadata": {},
   "source": [
    "<div class=\"alert alert-\n",
    "            danger\">\n",
    "<font size=\"4\"><b>❌ Комментарий ревьюера</b></font>\n",
    "    <br /> \n",
    "    <font size=\"3\", color = \"black\">\n",
    "<br />Стоит поработать над алгоритмом функции, в результате у нас появилось несколько записей, когда первые этажи попали в категорию последних\n",
    "        \n",
    "        #создадим метод для сортировки по категориям этажей\n",
    "        def floor_category(dt):\n",
    "            floor = dt['floor']\n",
    "            floor_total = dt['floors_total']\n",
    "            if(floor == floor_total):\n",
    "                return 'последний' \n",
    "            elif(floor ==1):\n",
    "                return 'первый' \n",
    "            else:\n",
    "                return 'другой'"
   ]
  },
  {
   "cell_type": "markdown",
   "metadata": {},
   "source": [
    "### Проведите исследовательский анализ данных"
   ]
  },
  {
   "cell_type": "markdown",
   "metadata": {},
   "source": [
    "<div class=\"alert alert-\n",
    "            danger\">\n",
    "<font size=\"4\"><b>❌ Комментарий ревьюера в2</b></font>\n",
    "    <br /> \n",
    "    <font size=\"3\", color = \"black\">\n",
    "<br />  \n",
    "        \n",
    "__Осталось добавить__\n",
    "        \n",
    "Шаг 4. Проведите исследовательский анализ данных:\n",
    "1.\tИзучите следующие параметры объектов:\n",
    "    +\tобщая площадь;\n",
    "    +\tжилая площадь;\n",
    "    +\tплощадь кухни;\n",
    "    +\tцена объекта;\n",
    "    +\tколичество комнат;\n",
    "    +\tвысота потолков;\n",
    "    +\tэтаж квартиры;\n",
    "    +\tтип этажа квартиры («первый», «последний», «другой»);\n",
    "    +\tобщее количество этажей в доме;\n",
    "    +\tрасстояние до центра города в метрах;\n",
    "    +\tрасстояние до ближайшего аэропорта;\n",
    "    +\tрасстояние до ближайшего парка;\n",
    "    +\tдень и месяц публикации объявления.\n",
    "\n",
    "        \n",
    "<br /> \n",
    "    <font size=\"4\", color = \"black\">              \n",
    "\n",
    "Постройте __отдельные гистограммы для каждого из этих параметров.__ Опишите все ваши наблюдения по параметрам в ячейке с типом markdown.        "
   ]
  },
  {
   "cell_type": "code",
   "execution_count": 73,
   "metadata": {
    "scrolled": false
   },
   "outputs": [
    {
     "data": {
      "text/plain": [
       "<AxesSubplot:>"
      ]
     },
     "execution_count": 73,
     "metadata": {},
     "output_type": "execute_result"
    },
    {
     "data": {
      "image/png": "[encoded data removed]",
      "text/plain": [
       "<Figure size 432x288 with 1 Axes>"
      ]
     },
     "metadata": {
      "needs_background": "light"
     },
     "output_type": "display_data"
    }
   ],
   "source": [
    "#изучим общую площадь квартир\n",
    "#большая часть квартир в отметке где-то 30-60 м квадраных, что достаточно низко,если верить realty.rbc, то средняя\n",
    "#площадь квартир в Москве 2020 гг , составляла 61 м квадартаный, и только потом пошла на снижение, в следующих годах.\n",
    "\n",
    "data.total_area.hist(bins = 80)"
   ]
  },
  {
   "cell_type": "code",
   "execution_count": 74,
   "metadata": {},
   "outputs": [
    {
     "data": {
      "text/plain": [
       "<AxesSubplot:>"
      ]
     },
     "execution_count": 74,
     "metadata": {},
     "output_type": "execute_result"
    },
    {
     "data": {
      "image/png": "[encoded data removed]",
      "text/plain": [
       "<Figure size 432x288 with 1 Axes>"
      ]
     },
     "metadata": {
      "needs_background": "light"
     },
     "output_type": "display_data"
    }
   ],
   "source": [
    "#изучим жилую площадь квартир   \n",
    "\n",
    "data.living_area.hist(bins = 80)\n",
    "#явно прослеживается два пика, оба приходятся на отметку от 10 до 40, значит таких квартир было много. Достаточно низкий \n",
    "#показатель,особенно если считать что пик , который самый \"высокий\", находится ближе к нулевой отметке\n"
   ]
  },
  {
   "cell_type": "code",
   "execution_count": 75,
   "metadata": {},
   "outputs": [
    {
     "data": {
      "text/plain": [
       "<AxesSubplot:>"
      ]
     },
     "execution_count": 75,
     "metadata": {},
     "output_type": "execute_result"
    },
    {
     "data": {
      "image/png": "[encoded data removed]",
      "text/plain": [
       "<Figure size 432x288 with 1 Axes>"
      ]
     },
     "metadata": {
      "needs_background": "light"
     },
     "output_type": "display_data"
    }
   ],
   "source": [
    "#изучим кухни\n",
    "data.kitchen_area.hist(bins = 80)\n",
    "#заметно, что подсчет кухонь максимальный на отмеке между 0 и 20, а так как он где то посередине, значит примерно 10\n",
    "#метров приходилось на каждую кухню, что может означать, что людям не так уж и важна размерность кухни, для них важнее\n",
    "#жилая площадь\n"
   ]
  },
  {
   "cell_type": "code",
   "execution_count": 76,
   "metadata": {},
   "outputs": [
    {
     "data": {
      "text/plain": [
       "<AxesSubplot:>"
      ]
     },
     "execution_count": 76,
     "metadata": {},
     "output_type": "execute_result"
    },
    {
     "data": {
      "image/png": "[encoded data removed]",
      "text/plain": [
       "<Figure size 432x288 with 1 Axes>"
      ]
     },
     "metadata": {
      "needs_background": "light"
     },
     "output_type": "display_data"
    }
   ],
   "source": [
    "#изучим стоимость квартиры\n",
    "data.last_price.hist(bins = 80)\n",
    "#по гисторгамме заметно что квартиры стоят в большинстве случах одинаково , видимо, из за конкуретности, благодаря чему мы можем\n",
    "#сделать вывод, что количество предложений не в дефиците."
   ]
  },
  {
   "cell_type": "code",
   "execution_count": 77,
   "metadata": {},
   "outputs": [
    {
     "data": {
      "text/plain": [
       "<AxesSubplot:>"
      ]
     },
     "execution_count": 77,
     "metadata": {},
     "output_type": "execute_result"
    },
    {
     "data": {
      "image/png": "[encoded data removed]",
      "text/plain": [
       "<Figure size 432x288 with 1 Axes>"
      ]
     },
     "metadata": {
      "needs_background": "light"
     },
     "output_type": "display_data"
    }
   ],
   "source": [
    " #изучим количество комнат\n",
    "data.rooms.hist(bins = 80)\n",
    "#больше всего комнат на отметке 1 и 2, что говорит о том, что покупатель больше реагирует именно на такие варианты, а наличие\n",
    "#примерно одинаковой стоимости на квартиры, говорит о том, что количество комнат в данном случае играет и роль привлечения\n",
    "#внимания к определенным объявлениям: чем больше объявлений на определенную позицию, тем больше у нее покупательская способность."
   ]
  },
  {
   "cell_type": "code",
   "execution_count": 78,
   "metadata": {},
   "outputs": [
    {
     "data": {
      "text/plain": [
       "<AxesSubplot:>"
      ]
     },
     "execution_count": 78,
     "metadata": {},
     "output_type": "execute_result"
    },
    {
     "data": {
      "image/png": "[encoded data removed]",
      "text/plain": [
       "<Figure size 432x288 with 1 Axes>"
      ]
     },
     "metadata": {
      "needs_background": "light"
     },
     "output_type": "display_data"
    }
   ],
   "source": [
    "#изучим высоту потолков\n",
    "data.ceiling_height.hist(bins = 80)\n",
    "#самым высоким показателем потолка является потолок с высотой примерно 2.6 , 2.7 метров. Наверное рязница в планировке зданий.\n",
    "#по этим показателям, например, мы можем установить, что планировка зданий в 2.6 метров высотой потолка, оказалась более\n",
    "#популярной, чем в 2.7, это может также послужить маркетинговым \"оружием\"."
   ]
  },
  {
   "cell_type": "code",
   "execution_count": 79,
   "metadata": {},
   "outputs": [
    {
     "data": {
      "text/plain": [
       "<AxesSubplot:>"
      ]
     },
     "execution_count": 79,
     "metadata": {},
     "output_type": "execute_result"
    },
    {
     "data": {
      "image/png": "[encoded data removed]",
      "text/plain": [
       "<Figure size 432x288 with 1 Axes>"
      ]
     },
     "metadata": {
      "needs_background": "light"
     },
     "output_type": "display_data"
    }
   ],
   "source": [
    "#изучим этаж\n",
    "data.floor.hist(bins = 80)\n",
    "#как видно по гисторгамме , популярностью пользуются этажи с 1 по 10, в особенности второй и третий..."
   ]
  },
  {
   "cell_type": "code",
   "execution_count": 80,
   "metadata": {},
   "outputs": [
    {
     "data": {
      "text/plain": [
       "<AxesSubplot:>"
      ]
     },
     "execution_count": 80,
     "metadata": {},
     "output_type": "execute_result"
    },
    {
     "data": {
      "image/png": "[encoded data removed]",
      "text/plain": [
       "<Figure size 432x288 with 1 Axes>"
      ]
     },
     "metadata": {
      "needs_background": "light"
     },
     "output_type": "display_data"
    }
   ],
   "source": [
    "#изучим тип этажа квартиры   \n",
    "data.floor_category.hist(bins = 80)\n",
    "#мы видим, что чаще всего выставляются объявления на \"другой \" тип этажа, но из \"первых\" и \"последних\", предпочтительнее \n",
    "#\"последние\"."
   ]
  },
  {
   "cell_type": "code",
   "execution_count": 81,
   "metadata": {},
   "outputs": [
    {
     "data": {
      "text/plain": [
       "<AxesSubplot:>"
      ]
     },
     "execution_count": 81,
     "metadata": {},
     "output_type": "execute_result"
    },
    {
     "data": {
      "image/png": "[encoded data removed]",
      "text/plain": [
       "<Figure size 432x288 with 1 Axes>"
      ]
     },
     "metadata": {
      "needs_background": "light"
     },
     "output_type": "display_data"
    }
   ],
   "source": [
    "#изучим количество этажей\n",
    "data.floors_total.hist(bins = 80)\n",
    "#часто создают объявления на продажу квартир в пятиэтажных домах и девятиэтажных, что скорее связано с особенностью питерского\n",
    "# менталитета: в Санкт-Петербурге большое количество кирпичных домов, что может вызывать тягу к построению домов типа \"кирпичных\"\n",
    "#а как известно, кирпичные дома не бывают высокими, как , например, панельные дома. Также это может быть связано с разивтием \n",
    "#инфраструктуры . В любом случае, стоит изучить все факторы перед тем, как делать какие -то выводы. На гистограмме отчетливо \n",
    "#видно, что также популярны - шестнадцатиэтажки и двадцатипятиэтажки, что может говорить, что все-таки ответом является \n",
    "#постепенное развитие инфрастуктуры города."
   ]
  },
  {
   "cell_type": "code",
   "execution_count": 82,
   "metadata": {},
   "outputs": [
    {
     "data": {
      "text/plain": [
       "<AxesSubplot:>"
      ]
     },
     "execution_count": 82,
     "metadata": {},
     "output_type": "execute_result"
    },
    {
     "data": {
      "image/png": "[encoded data removed]",
      "text/plain": [
       "<Figure size 432x288 with 1 Axes>"
      ]
     },
     "metadata": {
      "needs_background": "light"
     },
     "output_type": "display_data"
    }
   ],
   "source": [
    "#изучим расстояние до центра города в метрах\n",
    "data.city_centers_nearest.hist(bins = 80)\n",
    "#у нас есть всего лишь один пик, и он говорит о том, что центры городов примерно одинаково удалены от квартир, и это\n",
    "#может означать, что идет развитие инфраструктуры райнов и город разрастается, что говорит об экономическом развитии.\n",
    "#использовать в маркентинге это можно с той точки зрения, что если количество км от центра города не влияет на спрос,\n",
    "#то можно использовать это для продажи любой квартиры, важнее, как мы видели, наличие вариантов квартир по этажности\n",
    "# или наличие комнат."
   ]
  },
  {
   "cell_type": "code",
   "execution_count": 83,
   "metadata": {},
   "outputs": [
    {
     "data": {
      "text/plain": [
       "<AxesSubplot:>"
      ]
     },
     "execution_count": 83,
     "metadata": {},
     "output_type": "execute_result"
    },
    {
     "data": {
      "image/png": "[encoded data removed]",
      "text/plain": [
       "<Figure size 432x288 with 1 Axes>"
      ]
     },
     "metadata": {
      "needs_background": "light"
     },
     "output_type": "display_data"
    }
   ],
   "source": [
    "#изучим расстояние до близжайших аэропортов\n",
    "data.airports_nearest.hist(bins = 80)\n",
    "#мы можем также установить, что аэропорты находятся достаточно далеко от квартир. Если верить данным википедии\n",
    "#в Санкт -Петербурге находятся всего 3 аэропорта , это может означать, что какой то определенный район в этом городе\n",
    "#активно развивался в период продажи квартир за это время. Интересно , что это за регион, и процветает ли он сейчас?     "
   ]
  },
  {
   "cell_type": "code",
   "execution_count": 84,
   "metadata": {},
   "outputs": [
    {
     "data": {
      "text/plain": [
       "<AxesSubplot:>"
      ]
     },
     "execution_count": 84,
     "metadata": {},
     "output_type": "execute_result"
    },
    {
     "data": {
      "image/png": "[encoded data removed]",
      "text/plain": [
       "<Figure size 432x288 with 1 Axes>"
      ]
     },
     "metadata": {
      "needs_background": "light"
     },
     "output_type": "display_data"
    }
   ],
   "source": [
    "#изучим расстояние до близжайших парков\n",
    "data.parks_nearest.hist(bins = 80)\n",
    "#большинство парков находится в 500 метрах от домов квартиры которых продаются, этот показатель достаточно отчетлив \n",
    "#и на самом деле кажется что не так полезен, но на самом деле , он отлично дает понять, что является важным для людей\n",
    "# которые купят этот товар: а для них важно наличие парков , мест отдыха рядом с домой, скорее всего для них и их \n",
    "#детей. Это может внести новое понимание в маркетинговую модель, если все хорошо проанализировать и сопоставить.\n"
   ]
  },
  {
   "cell_type": "code",
   "execution_count": 85,
   "metadata": {},
   "outputs": [
    {
     "data": {
      "text/plain": [
       "<AxesSubplot:>"
      ]
     },
     "execution_count": 85,
     "metadata": {},
     "output_type": "execute_result"
    },
    {
     "data": {
      "image/png": "[encoded data removed]",
      "text/plain": [
       "<Figure size 432x288 with 1 Axes>"
      ]
     },
     "metadata": {
      "needs_background": "light"
     },
     "output_type": "display_data"
    }
   ],
   "source": [
    "#рассмотрим день и месяц побликации объявления\n",
    "\n",
    "data.weekday_exposition.hist(bins = 80)\n",
    "#чаще всего публикации производились в рабочии дни недели, что довольно логично. Пиком является четверг, возможно,\n",
    "#люди надеялись на быструю продажу квартиры, что связано с тем , что некоторые квартиры продавались за один день(количество \n",
    "#дней публикации), что могло бы выдать предположение, что люди чаще реагируют на объявления именно перед выходными,\n",
    "#также очень полезная информация, если подумать о том, что на большинстве сайтов информация \"уходит\" вниз, после публикации\n",
    "#какого-то количества времени, а если люди отреагировали раньше , чем она опустилась \"по свежести\", значит товар оказался\n",
    "#успешным, что в свою очередь, говорит о том, что публиковать объявления выгоднее всего перед пятницей(первый день выходных).\n",
    "#Но чтобы сделать такие выводы, хорошо было бы сопоставить скорость продажи с днем недели, потому что если скорость \n",
    "#продажи не зависит от дня недели, то скорее всего, все дело в том, что людям просто было проще выкладывать \n",
    "#такие объвления по будням.\n",
    "       "
   ]
  },
  {
   "cell_type": "code",
   "execution_count": 86,
   "metadata": {},
   "outputs": [
    {
     "data": {
      "text/plain": [
       "<AxesSubplot:>"
      ]
     },
     "execution_count": 86,
     "metadata": {},
     "output_type": "execute_result"
    },
    {
     "data": {
      "image/png": "[encoded data removed]",
      "text/plain": [
       "<Figure size 432x288 with 1 Axes>"
      ]
     },
     "metadata": {
      "needs_background": "light"
     },
     "output_type": "display_data"
    }
   ],
   "source": [
    "#достраиваем гистограммы для других столбцов\n",
    "    #для total_images\n",
    "data.total_images.hist(bins = 80)\n",
    "#По гистограмме видно, что люди часто придерживаются какого -то точного числа фотграфий для квартир , это может быть связано \n",
    "#с чем угодно, возможно, какой -то сайт просто запрашивает 10 фотографий, а какой-то 20. Было бы интереснее в данном случае\n",
    "#изучить какие квартиры продаются лучше. Судя по этой гисотграмме наличие фотографий играет значение, потому что создает\n",
    "#конкуретную базу: люди будут выбирать то, что им больше понравится, из того, что есть, вряд ли кому то понравится \n",
    "#\"невидимая\" квартира, стоит на это акцентировать внимание!"
   ]
  },
  {
   "cell_type": "code",
   "execution_count": 87,
   "metadata": {},
   "outputs": [
    {
     "data": {
      "text/plain": [
       "<AxesSubplot:>"
      ]
     },
     "execution_count": 87,
     "metadata": {},
     "output_type": "execute_result"
    },
    {
     "data": {
      "image/png": "[encoded data removed]",
      "text/plain": [
       "<Figure size 720x864 with 1 Axes>"
      ]
     },
     "metadata": {
      "needs_background": "light"
     },
     "output_type": "display_data"
    }
   ],
   "source": [
    "#для даты публикации\n",
    "\n",
    "data.first_day_exposition.hist(bins = 80,figsize=(10,12))\n",
    "#Больше всего публикаций в 2018 году.\n",
    "   "
   ]
  },
  {
   "cell_type": "code",
   "execution_count": 88,
   "metadata": {},
   "outputs": [
    {
     "data": {
      "text/plain": [
       "<AxesSubplot:>"
      ]
     },
     "execution_count": 88,
     "metadata": {},
     "output_type": "execute_result"
    },
    {
     "data": {
      "image/png": "[encoded data removed]",
      "text/plain": [
       "<Figure size 432x288 with 1 Axes>"
      ]
     },
     "metadata": {
      "needs_background": "light"
     },
     "output_type": "display_data"
    }
   ],
   "source": [
    " #для balcony\n",
    "\n",
    "data.balcony.hist(bins = 80)\n",
    "#Больше всего квартир не имело балконов при публикации, я думаю , там где существовало от 2 до 5 балконов и было то редкое \n",
    "#количество фотографий. Однако , если серьезно, ноль говорит скорее о развитии инфраструктуры. Если верить данным о\n",
    "#высотности домов, больше всего их 5 и 9 этажных, навряд ли такая планировка предусматривает большое количество балконов.\n",
    "#ну и судя по всему этому, людям не так важны сами балконы как та же стоимость или этаж.\n",
    "#стоит отметить, что большинство людей в принципе хорошо понимает, что в таких домах не может быть балконов,\n",
    "# и даже не ожидает такого, на представляения людей часто влияет их опыт, что может сказать об уровне жизни\n",
    "#людей Санкт-Петербурга."
   ]
  },
  {
   "cell_type": "code",
   "execution_count": 89,
   "metadata": {
    "scrolled": true
   },
   "outputs": [
    {
     "data": {
      "text/plain": [
       "<AxesSubplot:>"
      ]
     },
     "execution_count": 89,
     "metadata": {},
     "output_type": "execute_result"
    },
    {
     "data": {
      "image/png": "[encoded data removed]",
      "text/plain": [
       "<Figure size 432x288 with 1 Axes>"
      ]
     },
     "metadata": {
      "needs_background": "light"
     },
     "output_type": "display_data"
    }
   ],
   "source": [
    "#для parks_around\n",
    "data.parks_around.hist(bins = 80)\n",
    "#количество парков рядом с квартирами достаточно скудное, чаще всего их нет. Интересно , что если они есть, то они недалеко от\n",
    "#дома, что может дать информацию о том, что продажа квартир ведется в разных районах как географически так и экономически:\n",
    "#возможно район, где аэропорт находится так далеко от квартир, как раз является отличным примером данного факта."
   ]
  },
  {
   "cell_type": "code",
   "execution_count": 90,
   "metadata": {},
   "outputs": [
    {
     "data": {
      "text/plain": [
       "<AxesSubplot:>"
      ]
     },
     "execution_count": 90,
     "metadata": {},
     "output_type": "execute_result"
    },
    {
     "data": {
      "image/png": "[encoded data removed]",
      "text/plain": [
       "<Figure size 432x288 with 1 Axes>"
      ]
     },
     "metadata": {
      "needs_background": "light"
     },
     "output_type": "display_data"
    }
   ],
   "source": [
    "#для ponds_around\n",
    "\n",
    "data.ponds_around.hist(bins = 80)\n",
    "#С прудами ситуация похожая, как и с парками\n",
    "   "
   ]
  },
  {
   "cell_type": "code",
   "execution_count": 91,
   "metadata": {},
   "outputs": [
    {
     "data": {
      "text/plain": [
       "<AxesSubplot:>"
      ]
     },
     "execution_count": 91,
     "metadata": {},
     "output_type": "execute_result"
    },
    {
     "data": {
      "image/png": "[encoded data removed]",
      "text/plain": [
       "<Figure size 432x288 with 1 Axes>"
      ]
     },
     "metadata": {
      "needs_background": "light"
     },
     "output_type": "display_data"
    }
   ],
   "source": [
    " #для ponds_nearest\n",
    "\n",
    "data.ponds_nearest.hist(bins = 80)\n",
    "#Расстояние от прудов примерно такое же, как расстояние от парков."
   ]
  },
  {
   "cell_type": "code",
   "execution_count": 92,
   "metadata": {},
   "outputs": [
    {
     "data": {
      "text/plain": [
       "<AxesSubplot:>"
      ]
     },
     "execution_count": 92,
     "metadata": {},
     "output_type": "execute_result"
    },
    {
     "data": {
      "image/png": "[encoded data removed]",
      "text/plain": [
       "<Figure size 432x288 with 1 Axes>"
      ]
     },
     "metadata": {
      "needs_background": "light"
     },
     "output_type": "display_data"
    }
   ],
   "source": [
    " #для days_exposition\n",
    "\n",
    "data.days_exposition.hist(bins = 80)\n"
   ]
  },
  {
   "cell_type": "code",
   "execution_count": 93,
   "metadata": {},
   "outputs": [
    {
     "data": {
      "text/plain": [
       "<AxesSubplot:>"
      ]
     },
     "execution_count": 93,
     "metadata": {},
     "output_type": "execute_result"
    },
    {
     "data": {
      "image/png": "[encoded data removed]",
      "text/plain": [
       "<Figure size 432x288 with 1 Axes>"
      ]
     },
     "metadata": {
      "needs_background": "light"
     },
     "output_type": "display_data"
    }
   ],
   "source": [
    "#для price_per_square_meter\n",
    "data.price_per_square_meter.hist(bins = 80)\n",
    "#Обычно объявление \"висит\" не дольше пары лет. Однако \"свежие\" объявления быстрее снимаются, как мы это обсудили выше:\n",
    "#это может быть связано с работой сайтов, где они публикуются, ну и также с тем, что люди тоже могут видеть дату публикации\n",
    "#и проще доверяют тем объявлениям, которые были опубликованы недавно, потому что это увеличивает их шанс приобрести \n",
    "#товар, и не потерять при этом время и нервы.Покупая товар , люди же не только его покупают, они еще и тратят свои силы и нервы,\n",
    "#поэтому часто пытаются свести \"плохой\" опыт к минимуму.\n"
   ]
  },
  {
   "cell_type": "code",
   "execution_count": 94,
   "metadata": {},
   "outputs": [
    {
     "name": "stdout",
     "output_type": "stream",
     "text": [
      "161.80698304492222 73.0\n"
     ]
    }
   ],
   "source": [
    "mean=data['days_exposition'].mean()\n",
    "median=data['days_exposition'].median()\n",
    "print(mean,median)\n",
    "\n"
   ]
  },
  {
   "cell_type": "code",
   "execution_count": 95,
   "metadata": {},
   "outputs": [
    {
     "name": "stdout",
     "output_type": "stream",
     "text": [
      "0.6845787716812461\n"
     ]
    },
    {
     "data": {
      "image/png": "[encoded data removed]",
      "text/plain": [
       "<Figure size 432x288 with 1 Axes>"
      ]
     },
     "metadata": {
      "needs_background": "light"
     },
     "output_type": "display_data"
    }
   ],
   "source": [
    "#изучим факторы влияния на общую стоимость квартир\n",
    "\n",
    "        #насколько фактор общей площади повлиял на стоимость квартир\n",
    "pivot_table_total_area = (\n",
    "    data.pivot_table(index='total_area', values='last_price', aggfunc = 'count')\n",
    "    \n",
    ")\n",
    "fig, ax = plt.subplots()\n",
    "plt.scatter(data['total_area'],data['last_price'],c='DarkBlue')\n",
    "ax.set_facecolor('y')\n",
    "\n",
    "#стоимость немного увеличивается при увеличении квадратных метров квартир, зависимость наблюдается.\n",
    "print(data['total_area'].corr(data['last_price']))"
   ]
  },
  {
   "cell_type": "code",
   "execution_count": 96,
   "metadata": {},
   "outputs": [
    {
     "name": "stdout",
     "output_type": "stream",
     "text": [
      "0.6009227607353879\n"
     ]
    },
    {
     "data": {
      "image/png": "[encoded data removed]",
      "text/plain": [
       "<Figure size 432x288 with 1 Axes>"
      ]
     },
     "metadata": {
      "needs_background": "light"
     },
     "output_type": "display_data"
    }
   ],
   "source": [
    "    #насколько фактор жилой площади повлиял на стоимость квартир\n",
    "pivot_table_living_area = (\n",
    "    data.pivot_table(index='living_area', values='last_price', aggfunc = 'count')\n",
    ")\n",
    "\n",
    "\n",
    "\n",
    "fig, ax = plt.subplots()\n",
    "plt.scatter(data['living_area'],data['last_price'],c='w')\n",
    "ax.set_facecolor('r')\n",
    "\n",
    "\n",
    "#стоимость идет равномерно, зависимости не наблюдается.\n",
    "print(data['living_area'].corr(data['last_price']))"
   ]
  },
  {
   "cell_type": "code",
   "execution_count": 97,
   "metadata": {},
   "outputs": [
    {
     "name": "stdout",
     "output_type": "stream",
     "text": [
      "0.5147634384088591\n"
     ]
    },
    {
     "data": {
      "image/png": "[encoded data removed]",
      "text/plain": [
       "<Figure size 432x288 with 1 Axes>"
      ]
     },
     "metadata": {
      "needs_background": "light"
     },
     "output_type": "display_data"
    }
   ],
   "source": [
    "   #насколько фактор кухонной площади повлиял на стоимость квартир\n",
    "pivot_table_kitchen_area = (\n",
    "    data.pivot_table(index='kitchen_area', values='last_price', aggfunc = 'count')\n",
    "   \n",
    ")\n",
    "fig, ax = plt.subplots()\n",
    "plt.scatter(data['kitchen_area'],data['last_price'],c='k')\n",
    "ax.set_facecolor('purple')\n",
    "\n",
    "\n",
    "#фактор кухонной площади повлиял так: распределение идет равномерно, зависимости от цены не наблюдается сильной.\n",
    "print(data['kitchen_area'].corr(data['last_price']))"
   ]
  },
  {
   "cell_type": "code",
   "execution_count": 98,
   "metadata": {
    "scrolled": true
   },
   "outputs": [
    {
     "name": "stdout",
     "output_type": "stream",
     "text": [
      "0.39856456468902973\n"
     ]
    },
    {
     "data": {
      "image/png": "[encoded data removed]",
      "text/plain": [
       "<Figure size 432x288 with 1 Axes>"
      ]
     },
     "metadata": {
      "needs_background": "light"
     },
     "output_type": "display_data"
    }
   ],
   "source": [
    "#насколько фактор количества комнат повлиял на стоимость квартир\n",
    "     \n",
    "\n",
    "pivot_table_rooms = (\n",
    "    data.pivot_table(index='rooms', values='last_price', aggfunc = 'count')\n",
    ")\n",
    "fig, ax = plt.subplots()\n",
    "plt.scatter(data.rooms,data.last_price,c='brown')\n",
    "ax.set_facecolor('pink')\n",
    "\n",
    "\n",
    "\n",
    "print(data['rooms'].corr(data['last_price']))\n",
    "#фактор количества комнат повлиял так: там где есть увеличнение комнат больше 1 идет увеличение стоимости, пиком является пять\n",
    "#снижение-к 10.\n"
   ]
  },
  {
   "cell_type": "markdown",
   "metadata": {},
   "source": [
    "<div class=\"alert alert-warning\", style=\"border:solid coral 3px; padding: 20px\">\n",
    "<font size=\"4\", color = \"DimGrey\"><b>⚠️ Комментарий ревьюера в4</b></font>\n",
    "    <br /> \n",
    "    <font size=\"3\", color = \"black\">\n",
    "<br />при изучении зависимости мы рассчитываем коэффициент корреляции, для проверки наличия линейной зависимости\n",
    "        \n",
    "стоит добавить расчет"
   ]
  },
  {
   "cell_type": "code",
   "execution_count": 99,
   "metadata": {},
   "outputs": [
    {
     "data": {
      "text/plain": [
       "<Figure size 576x360 with 0 Axes>"
      ]
     },
     "metadata": {},
     "output_type": "display_data"
    },
    {
     "data": {
      "image/png": "[encoded data removed]",
      "text/plain": [
       "<Figure size 432x288 with 1 Axes>"
      ]
     },
     "metadata": {
      "needs_background": "light"
     },
     "output_type": "display_data"
    }
   ],
   "source": [
    "#насколько фактор категории этажей повлиял на стоимость квартир\n",
    "\n",
    "plt.figure(figsize=(8,5))\n",
    "pivot_table_floor_category = (\n",
    "    data.pivot_table(index='floor_category', values='last_price', aggfunc = 'mean')\n",
    "    .reset_index()\n",
    ")\n",
    "fig, ax = plt.subplots()\n",
    "plt.bar(pivot_table_floor_category['floor_category'],pivot_table_floor_category['last_price'],edgecolor = 'darkblue',\n",
    "       linewidth = 5)\n",
    "ax.set_facecolor('black')\n",
    "\n",
    "\n",
    "#фактор категории этажей повлиял так, что цена установлена ниже всего на 1 этажи , взаимосвязь есть.\n"
   ]
  },
  {
   "cell_type": "code",
   "execution_count": 105,
   "metadata": {},
   "outputs": [
    {
     "data": {
      "text/plain": [
       "0        другой\n",
       "1        первый\n",
       "2        другой\n",
       "3        другой\n",
       "4        другой\n",
       "          ...  \n",
       "23694    другой\n",
       "23695    другой\n",
       "23696    первый\n",
       "23697    другой\n",
       "23698    первый\n",
       "Name: floor_category, Length: 22884, dtype: object"
      ]
     },
     "execution_count": 105,
     "metadata": {},
     "output_type": "execute_result"
    }
   ],
   "source": [
    "data['floor_category']"
   ]
  },
  {
   "cell_type": "code",
   "execution_count": 100,
   "metadata": {},
   "outputs": [
    {
     "data": {
      "image/png": "[encoded data removed]",
      "text/plain": [
       "<Figure size 576x576 with 1 Axes>"
      ]
     },
     "metadata": {
      "needs_background": "light"
     },
     "output_type": "display_data"
    },
    {
     "data": {
      "image/png": "[encoded data removed]",
      "text/plain": [
       "<Figure size 576x576 with 1 Axes>"
      ]
     },
     "metadata": {
      "needs_background": "light"
     },
     "output_type": "display_data"
    },
    {
     "data": {
      "image/png": "[encoded data removed]",
      "text/plain": [
       "<Figure size 576x576 with 1 Axes>"
      ]
     },
     "metadata": {
      "needs_background": "light"
     },
     "output_type": "display_data"
    },
    {
     "data": {
      "image/png": "[encoded data removed]",
      "text/plain": [
       "<Figure size 576x576 with 1 Axes>"
      ]
     },
     "metadata": {
      "needs_background": "light"
     },
     "output_type": "display_data"
    }
   ],
   "source": [
    " #насколько фактор даты публикации повлиял на стоимость квартир\n",
    "    \n",
    "pivot_table_first_day_exposition = (\n",
    "    data.pivot_table(index='first_day_exposition', values='last_price', aggfunc = 'count')\n",
    "    .plot(y='last_price', title='взаимосвязь цены с датой публикации', figsize=(8, 8), grid=True,color='r',linewidth = 4)\n",
    ")\n",
    "    \n",
    "pivot_table_first_day_exposition = (\n",
    "    data.pivot_table(index='month_exposition', values='last_price', aggfunc = 'count')\n",
    "    .plot(y='last_price', title='взаимосвязь цены с датой публикации', figsize=(8, 8), grid=True,color='r',linewidth = 4)\n",
    ")\n",
    "    \n",
    "pivot_table_first_day_exposition = (\n",
    "    data.pivot_table(index='year_exposition', values='last_price', aggfunc = 'count')\n",
    "    .plot(y='last_price', title='взаимосвязь цены с датой публикации', figsize=(8, 8), grid=True,color='r',linewidth = 4)\n",
    ")\n",
    "pivot_table_first_day_exposition = (\n",
    "    data.pivot_table(index='days_exposition', values='last_price', aggfunc = 'count')\n",
    "    .plot(y='last_price', title='взаимосвязь цены с датой публикации', figsize=(8, 8), grid=True,color='r',linewidth = 4)\n",
    ")\n",
    "pivot_table_first_day_exposition.grid(color = 'blue',   \n",
    "        linewidth = 2,   \n",
    "        linestyle = '--')\n",
    "\n",
    "\n",
    "#фактор даты публикации повлиял так: самые дорогие квартиры 2018 год, зависомость есть.  \n"
   ]
  },
  {
   "cell_type": "markdown",
   "metadata": {},
   "source": [
    "<div class=\"alert alert-warning\", style=\"border:solid coral 3px; padding: 20px\">\n",
    "<font size=\"4\", color = \"DimGrey\"><b>⚠️ Комментарий ревьюера в4</b></font>\n",
    "    <br /> \n",
    "    <font size=\"3\", color = \"black\">\n",
    "<br />стоит как в примере изучения изменение цены в зависимости от удаленности от центра, сгруппировать данные три раза: по дням, месяца и годам и построить три отдельных графика ..."
   ]
  },
  {
   "cell_type": "code",
   "execution_count": 101,
   "metadata": {},
   "outputs": [
    {
     "name": "stdout",
     "output_type": "stream",
     "text": [
      "  locality_name          mean  count\n",
      "9        Выборг  58625.201194    229      locality_name           mean  count\n",
      "0  Санкт-Петербург  114528.350965  15183\n"
     ]
    },
    {
     "data": {
      "text/plain": [
       "Text(0, 0.5, 'Стоимость')"
      ]
     },
     "execution_count": 101,
     "metadata": {},
     "output_type": "execute_result"
    },
    {
     "data": {
      "image/png": "[encoded data removed]",
      "text/plain": [
       "<Figure size 1440x504 with 1 Axes>"
      ]
     },
     "metadata": {
      "needs_background": "light"
     },
     "output_type": "display_data"
    }
   ],
   "source": [
    " #находим среднюю стоимость м² у 10 населенных пунктов с самым выским количеством объявлений\n",
    "\n",
    "locality_m = data.pivot_table(index = 'locality_name',values = 'price_per_square_meter',aggfunc= ['mean','count'])\n",
    "locality_m.columns= ['mean','count']\n",
    "locality_m = locality_m.sort_values('count',ascending=False).head(10)\n",
    "locality_m = locality_m.reset_index()\n",
    "\n",
    "locality_min = data.pivot_table(index = 'locality_name',values = 'price_per_square_meter',aggfunc= ['mean','min'])\n",
    "lmax=locality_m[locality_m['mean']==locality_m['mean'].max()]\n",
    "lmin =locality_m[locality_m['mean']==locality_m['mean'].min()]\n",
    "print(lmin,lmax)#самая низкая и самая высокая стоимость м² н.п.\n",
    "\n",
    "\n",
    "\n",
    "\n",
    "x = locality_m['locality_name']\n",
    "y = locality_m['mean']\n",
    "plt.figure(figsize=[20, 7])\n",
    "col_map = plt.get_cmap('Paired')\n",
    "\n",
    "plt.bar(x, y, width=0.7, color=col_map.colors, edgecolor='y', \n",
    "        linewidth=2)\n",
    "\n",
    "plt.title('Средняя стоимость квадратного метра', fontsize=30)\n",
    "plt.xlabel('Города', fontsize=20)\n",
    "plt.ylabel('Стоимость', fontsize=20)\n",
    "\n",
    "\n",
    "\n",
    "\n"
   ]
  },
  {
   "cell_type": "code",
   "execution_count": 102,
   "metadata": {},
   "outputs": [
    {
     "data": {
      "text/plain": [
       "<Figure size 576x360 with 0 Axes>"
      ]
     },
     "metadata": {},
     "output_type": "display_data"
    },
    {
     "data": {
      "image/png": "[encoded data removed]",
      "text/plain": [
       "<Figure size 432x288 with 1 Axes>"
      ]
     },
     "metadata": {
      "needs_background": "light"
     },
     "output_type": "display_data"
    }
   ],
   "source": [
    "locality_km =(\n",
    " data.query('locality_name == \"Санкт-Петербург\"')\n",
    "    .groupby('city_centers_nearest_km')['last_price'].mean() \n",
    ")\n",
    "locality_km.columns=['km', 'mean_price']\n",
    "\n",
    "plt.figure(figsize=(8,5))\n",
    "\n",
    "fig, ax = plt.subplots()\n",
    "plt.plot(locality_km, linewidth = 5,color='y')\n",
    "\n",
    "ax.set_facecolor('black')\n",
    "\n",
    "\n",
    "#Стоимость достаточно высока там, где квартира расположена рядом с центром, что определяется наличием инфраструктуры города,\n",
    "#Так что, сэконмить можно, купив квартиру подальше от центра города, и корреляция в данном случае положительная:\n",
    "#чем дальше от центра города квартира, тем ниже ее стоимость."
   ]
  },
  {
   "cell_type": "code",
   "execution_count": 103,
   "metadata": {},
   "outputs": [
    {
     "data": {
      "image/png": "[encoded data removed]",
      "text/plain": [
       "<Figure size 864x360 with 1 Axes>"
      ]
     },
     "metadata": {
      "needs_background": "light"
     },
     "output_type": "display_data"
    }
   ],
   "source": [
    "data['city_centers_nearest_km'] = data['city_centers_nearest_km'].round()\n",
    "\n",
    "locality_km =(\n",
    " data.query('locality_name == \"Санкт-Петербург\"')\n",
    "    .groupby('city_centers_nearest_km')['last_price'].mean() \n",
    ")\n",
    "locality_km.columns=['km', 'mean_price']\n",
    "\n",
    "# plt.figure(figsize=(8,5))\n",
    "\n",
    "fig, ax = plt.subplots(figsize=(12,5))\n",
    "plt.plot(locality_km, linewidth = 5,color='y')\n",
    "\n",
    "ax.set_facecolor('black');\n",
    "\n",
    "\n",
    "#Стоимость достаточно высока там, где квартира расположена рядом с центром, что определяется наличием инфраструктуры города,\n",
    "#Так что, сэконмить можно, купив квартиру подальше от центра города, и корреляция в данном случае положительная:\n",
    "#чем дальше от центра города квартира, тем ниже ее стоимость."
   ]
  },
  {
   "cell_type": "markdown",
   "metadata": {},
   "source": [
    "<div class=\"alert alert-warning\", style=\"border:solid coral 3px; padding: 20px\">\n",
    "<font size=\"4\", color = \"DimGrey\"><b>⚠️ Комментарий ревьюера в4</b></font>\n",
    "    <br /> \n",
    "    <font size=\"3\", color = \"black\">\n",
    "<br /> осталось округлить параметр\n",
    "        \n",
    "        data['city_centers_nearest_km'] = data['city_centers_nearest_km'].round()"
   ]
  },
  {
   "cell_type": "markdown",
   "metadata": {},
   "source": [
    "<div class=\"alert alert-\n",
    "            danger\">\n",
    "<font size=\"4\"><b>❌ Комментарий ревьюера в3</b></font>\n",
    "    <br /> \n",
    "    <font size=\"3\", color = \"black\">\n",
    "<br />          \n",
    "Осталось добавить отдельных графиков и изменить \n",
    "        \n",
    "Шаг 4. Проведите исследовательский анализ данных:\n",
    "1.\tИзучите следующие параметры объектов:\n",
    "    +\tобщая площадь;\n",
    "    +\tжилая площадь;\n",
    "    +\tплощадь кухни;\n",
    "    +\tцена объекта;\n",
    "    +\tколичество комнат;\n",
    "    +\tвысота потолков;\n",
    "    +\tэтаж квартиры;\n",
    "    +\tтип этажа квартиры («первый», «последний», «другой»);\n",
    "    +\tобщее количество этажей в доме;\n",
    "    +\tрасстояние до центра города в метрах;\n",
    "    +\tрасстояние до ближайшего аэропорта;\n",
    "    +\tрасстояние до ближайшего парка;\n",
    "    +\tдень и месяц публикации объявления.\n",
    "\n",
    "\n",
    "__Постройте отдельные гистограммы для каждого из этих параметров.__ Опишите все ваши наблюдения по параметрам в ячейке с типом markdown.        "
   ]
  },
  {
   "cell_type": "code",
   "execution_count": null,
   "metadata": {},
   "outputs": [],
   "source": []
  },
  {
   "cell_type": "markdown",
   "metadata": {},
   "source": [
    "<div class=\"alert alert-\n",
    "            danger\">\n",
    "<font size=\"4\"><b>❌ Комментарий \n",
    "    ревьюера в2</b></font>\n",
    "    <br /> \n",
    "    <font size=\"3\", color = \"black\">\n",
    "<br />      \n",
    "        \n",
    "Шаг 4. Проведите исследовательский анализ данных:\n",
    "\n",
    "3.\tКакие факторы больше всего влияют на общую (полную) стоимость объекта?\n",
    "    Изучите, зависит ли цена от:\n",
    "    +\tобщей площади;\n",
    "    +\tжилой площади;\n",
    "    +\tплощади кухни;\n",
    "    +\tколичества комнат;\n",
    "    +\tэтажа, на котором расположена квартира (первый, последний, другой);\n",
    "    +\tдаты размещения (день недели, месяц, год).\n",
    "    \n",
    "Постройте графики, которые покажут зависимость цены от указанных выше параметров. Для подготовки данных перед визуализацией вы можете использовать сводные таблицы.\n",
    "        \n",
    "        \n",
    "__Советы по графикам:__\n",
    "        \n",
    "+ зависимость параметров (от площади, числа комнат, удалённости от центра) оптимальнее рассматривать на точечных графиках (тип scatter), \n",
    "+ динамику на линейных (это про сравнение цен за год, месяц, день недели), \n",
    "+ сравнение цен на барах (для сравнение средней стоимости квартиры по трем категориям)\n"
   ]
  },
  {
   "cell_type": "markdown",
   "metadata": {},
   "source": [
    "<div class=\"alert alert-success\">\n",
    "<font size=\"4\", color= \"seagreen\"><b>✔️ Комментарий ревьюера в3</b></font>\n",
    "    <br /> \n",
    "    <font size=\"3\", color = \"black\">\n",
    "<br /> пример для графика в п.4.1"
   ]
  },
  {
   "cell_type": "code",
   "execution_count": 104,
   "metadata": {},
   "outputs": [
    {
     "data": {
      "image/png": "[encoded data removed]",
      "text/plain": [
       "<Figure size 576x360 with 1 Axes>"
      ]
     },
     "metadata": {
      "needs_background": "light"
     },
     "output_type": "display_data"
    }
   ],
   "source": [
    "#изучим общую площадь квартир\n",
    "plt.figure(figsize=(8,5))\n",
    "data.total_area.hist(bins = 80)\n",
    "\n",
    "\n",
    "plt.title(\"Общая площадь\")\n",
    "plt.xlabel('Количество квартир')\n",
    "plt.ylabel('Квадратных метров');\n",
    "\n",
    "#по этой гисторгамме отчетливо видно что большая часть квартир состоит из 30-60 квадратных метров, это можно подсчитать\n",
    "#отдельно, и выйдет 12.859 кв"
   ]
  },
  {
   "cell_type": "markdown",
   "metadata": {},
   "source": [
    "<div class=\"alert alert-\n",
    "            danger\">\n",
    "<font size=\"4\"><b>❌ Комментарий ревьюера в2</b></font>\n",
    "    <br /> \n",
    "    <font size=\"3\", color = \"black\">\n",
    "<br />  Осталось пересчитать: сначала составляем список из десяти населенных пунктов в которых наибольшее кол-во объявлений, затем рассчитываем среднюю  стоимость кв. м., затем строим график (бары), чтобы наглядно показать разницу в средней цене кв. метра ...\n",
    "        \n",
    "Шаг 4. Проведите исследовательский анализ данных:\n",
    "\n",
    "4.\tПосчитайте среднюю цену одного квадратного метра в 10 населённых пунктах __с наибольшим числом объявлений.__ Выделите населённые пункты с самой высокой и низкой стоимостью квадратного метра. Эти данные можно найти по имени в столбце locality_name.\n",
    "        \n",
    "        \n"
   ]
  },
  {
   "cell_type": "markdown",
   "metadata": {},
   "source": [
    "<div class=\"alert alert-\n",
    "            danger\">\n",
    "<font size=\"4\"><b>❌ Комментарий ревьюера в2</b></font>\n",
    "    <br /> \n",
    "    <font size=\"3\", color = \"black\">\n",
    "<br />Для выполнения 5-го пункта стоит сгруппировать и найти среднюю стоимость квартиры на каждом километре, на этих данных построить линейный график\n",
    "        \n",
    "        5.\tРанее вы посчитали расстояние до центра в километрах. Теперь выделите квартиры в Санкт-Петербурге с помощью столбца locality_name и вычислите среднюю цену каждого километра. Опишите, как стоимость объектов зависит от расстояния до центра города.\n",
    "        "
   ]
  },
  {
   "cell_type": "markdown",
   "metadata": {},
   "source": [
    "### Общий вывод"
   ]
  },
  {
   "cell_type": "markdown",
   "metadata": {},
   "source": [
    "Продажа квартиры обычно занимает 169 дней. Слишком долгими, по моему мнению считаются продажи , которые длились более четырех лет. Также считаю, что продажи от двух дней до 7 дней выглядят немного подозрительно. Видимо у них была хорошая реклама.\n",
    "Также могу сказать, что самое большое количество публикаций наблюдается в Санкт-Петербурге, но даже там люди предпочитают покупать 50 квадратов жилой площади, из-за чего стоимость на нее растет. Также стоимость растет на однокомнатные квартиры.\n",
    "Противоположная тенденция наблюдается в стоимости км вдали от центра города. Скорее всего, это связано с тем, что дальние квартиры от центра покупают гораздо меньше. Одна и та же тендеция на разных показателях, и мы ее выявили и обосновали. Мы очистили данные от выбивающихся значений и аномалий, некоторые из которых было сложно не заметить, что не скажешь о неявных дубликатах, которые было достаточно сложно обнаружить из -за количества текстовых данных вразнобой. Думаю, мы хорошо потрудились.\n",
    "\n",
    "P.S.\n",
    "Впредь , выбирая квартиры останавливаемся на 60 метрах...Так дешевле\n"
   ]
  },
  {
   "cell_type": "markdown",
   "metadata": {},
   "source": [
    "<div class=\"alert alert-\n",
    "            danger\">\n",
    "<font size=\"4\"><b>❌ Комментарий ревьюера</b></font>\n",
    "    <br /> \n",
    "    <font size=\"3\", color = \"black\">\n",
    "<br /> К сожалению, на проекте закомментирована большая часть кода из основного шага №4\n",
    "        \n",
    "Недоделаный проект был отправлен случайно? Тогда поправь его, пожалуйста, и возвращайся.\n",
    "Или ты не понимаешь, как выполнить эти шаги? Тогда стоит задать вопрос преподавателю по проектам в чате slack. Также ты можешь написать вопрос в проекте и опять отправить его на проверку — так я смогу тебе ответить."
   ]
  },
  {
   "cell_type": "markdown",
   "metadata": {},
   "source": [
    "**Чек-лист готовности проекта**\n",
    "\n",
    "Поставьте 'x' в выполненных пунктах. Далее нажмите Shift+Enter."
   ]
  },
  {
   "cell_type": "markdown",
   "metadata": {},
   "source": [
    "- [x]  открыт файл\n",
    "- [x]  файлы изучены (выведены первые строки, метод `info()`, гистограммы и т.д.)\n",
    "- [x]  определены пропущенные значения\n",
    "- [x]  заполнены пропущенные значения там, где это возможно\n",
    "- [x]  есть пояснение, какие пропущенные значения обнаружены\n",
    "- [x]  изменены типы данных\n",
    "- [x]  есть пояснение, в каких столбцах изменены типы и почему\n",
    "- [x]  устранены неявные дубликаты в названиях населённых пунктов\n",
    "- [x]  устранены редкие и выбивающиеся значения (аномалии) во всех столбцах\n",
    "- [x]  посчитано и добавлено в таблицу: цена одного квадратного метра\n",
    "- [x]  посчитано и добавлено в таблицу: день публикации объявления (0 - понедельник, 1 - вторник и т.д.)\n",
    "- [x]  посчитано и добавлено в таблицу: месяц публикации объявления\n",
    "- [x]  посчитано и добавлено в таблицу: год публикации объявления\n",
    "- [x]  посчитано и добавлено в таблицу: тип этажа квартиры (значения — «первый», «последний», «другой»)\n",
    "- [x]  посчитано и добавлено в таблицу: расстояние в км до центра города\n",
    "- [x]  изучены и описаны следующие параметры:\n",
    "        - общая площадь;\n",
    "        - жилая площадь;\n",
    "        - площадь кухни;\n",
    "        - цена объекта;\n",
    "        - количество комнат;\n",
    "        - высота потолков;\n",
    "        - этаж квартиры;\n",
    "        - тип этажа квартиры («первый», «последний», «другой»);\n",
    "        - общее количество этажей в доме;\n",
    "        - расстояние до центра города в метрах;\n",
    "        - расстояние до ближайшего аэропорта;\n",
    "        - расстояние до ближайшего парка;\n",
    "        - день и месяц публикации объявления\n",
    "- [x]  построены гистограммы для каждого параметра\n",
    "- [x]  выполнено задание: \"Изучите, как быстро продавались квартиры (столбец days_exposition). Этот параметр показывает, сколько дней «висело» каждое объявление.\n",
    "    - Постройте гистограмму.\n",
    "    - Посчитайте среднее и медиану.\n",
    "    - В ячейке типа markdown опишите, сколько обычно занимает продажа. Какие продажи можно считать быстрыми, а какие — необычно долгими?\"\n",
    "- [x]  выполнено задание: \"Какие факторы больше всего влияют на общую (полную) стоимость объекта? Постройте графики, которые покажут зависимость цены от указанных ниже параметров. Для подготовки данных перед визуализацией вы можете использовать сводные таблицы.\"\n",
    "        - общей площади;\n",
    "        - жилой площади;\n",
    "        - площади кухни;\n",
    "        - количество комнат;\n",
    "        - типа этажа, на котором расположена квартира (первый, последний, другой);\n",
    "        - даты размещения (день недели, месяц, год);\n",
    "- [x]  выполнено задание: \"Посчитайте среднюю цену одного квадратного метра в 10 населённых пунктах с наибольшим числом объявлений. Выделите населённые пункты с самой высокой и низкой стоимостью квадратного метра. Эти данные можно найти по имени в столбце `locality_name`.\"\n",
    "- [x]  выполнено задание: \"Ранее вы посчитали расстояние до центра в километрах. Теперь выделите квартиры в Санкт-Петербурге с помощью столбца `locality_name` и вычислите среднюю цену каждого километра. Опишите, как стоимость объектов зависит от расстояния до центра города.\"\n",
    "- [x]  в каждом этапе есть промежуточные выводы\n",
    "- [x]  есть общий вывод"
   ]
  },
  {
   "cell_type": "code",
   "execution_count": null,
   "metadata": {},
   "outputs": [],
   "source": []
  }
 ],
 "metadata": {
  "ExecuteTimeLog": [
   {
    "duration": 556,
    "start_time": "2022-07-20T17:43:14.150Z"
   },
   {
    "duration": 49,
    "start_time": "2022-07-20T17:46:31.199Z"
   },
   {
    "duration": 440,
    "start_time": "2022-07-20T17:46:35.358Z"
   },
   {
    "duration": 110,
    "start_time": "2022-07-20T17:48:52.294Z"
   },
   {
    "duration": 1751,
    "start_time": "2022-07-20T17:54:45.856Z"
   },
   {
    "duration": 1486,
    "start_time": "2022-07-20T18:27:49.334Z"
   },
   {
    "duration": 1537,
    "start_time": "2022-07-20T18:28:20.197Z"
   },
   {
    "duration": 1704,
    "start_time": "2022-07-20T18:28:58.598Z"
   },
   {
    "duration": 1565,
    "start_time": "2022-07-20T18:29:17.397Z"
   },
   {
    "duration": 1437,
    "start_time": "2022-07-20T18:29:20.894Z"
   },
   {
    "duration": 239,
    "start_time": "2022-07-20T18:30:10.093Z"
   },
   {
    "duration": 110,
    "start_time": "2022-07-20T18:30:53.801Z"
   },
   {
    "duration": 104,
    "start_time": "2022-07-20T18:31:00.320Z"
   },
   {
    "duration": 16,
    "start_time": "2022-07-20T18:50:51.966Z"
   },
   {
    "duration": 5,
    "start_time": "2022-07-20T18:51:19.621Z"
   },
   {
    "duration": 6,
    "start_time": "2022-07-20T18:51:23.778Z"
   },
   {
    "duration": 51,
    "start_time": "2022-07-20T18:51:26.367Z"
   },
   {
    "duration": 626,
    "start_time": "2022-07-20T19:15:10.362Z"
   },
   {
    "duration": 191,
    "start_time": "2022-07-20T19:17:59.138Z"
   },
   {
    "duration": 69,
    "start_time": "2022-07-20T19:18:23.823Z"
   },
   {
    "duration": 582,
    "start_time": "2022-07-20T19:18:53.438Z"
   },
   {
    "duration": 90,
    "start_time": "2022-07-20T19:18:54.023Z"
   },
   {
    "duration": 60,
    "start_time": "2022-07-20T19:18:58.291Z"
   },
   {
    "duration": 60,
    "start_time": "2022-07-20T19:19:14.390Z"
   },
   {
    "duration": 72,
    "start_time": "2022-07-20T19:24:10.042Z"
   },
   {
    "duration": 496,
    "start_time": "2022-07-20T19:24:20.718Z"
   },
   {
    "duration": 76,
    "start_time": "2022-07-20T19:24:21.217Z"
   },
   {
    "duration": 74,
    "start_time": "2022-07-20T19:24:26.235Z"
   },
   {
    "duration": 9,
    "start_time": "2022-07-20T20:34:42.312Z"
   },
   {
    "duration": 347,
    "start_time": "2022-07-20T20:34:46.616Z"
   },
   {
    "duration": 58,
    "start_time": "2022-07-20T20:37:36.836Z"
   },
   {
    "duration": 341,
    "start_time": "2022-07-20T20:41:30.472Z"
   },
   {
    "duration": 49,
    "start_time": "2022-07-20T20:42:19.065Z"
   },
   {
    "duration": 513,
    "start_time": "2022-07-20T20:42:32.466Z"
   },
   {
    "duration": 470,
    "start_time": "2022-07-20T20:42:41.996Z"
   },
   {
    "duration": 78,
    "start_time": "2022-07-20T20:42:42.468Z"
   },
   {
    "duration": 14,
    "start_time": "2022-07-20T20:43:03.865Z"
   },
   {
    "duration": 506,
    "start_time": "2022-07-20T20:43:13.079Z"
   },
   {
    "duration": 85,
    "start_time": "2022-07-20T20:43:13.587Z"
   },
   {
    "duration": 11,
    "start_time": "2022-07-20T20:44:07.984Z"
   },
   {
    "duration": 15,
    "start_time": "2022-07-20T20:44:26.791Z"
   },
   {
    "duration": 14,
    "start_time": "2022-07-20T20:44:51.870Z"
   },
   {
    "duration": 14,
    "start_time": "2022-07-20T20:45:07.241Z"
   },
   {
    "duration": 462,
    "start_time": "2022-07-20T20:45:14.509Z"
   },
   {
    "duration": 71,
    "start_time": "2022-07-20T20:45:14.973Z"
   },
   {
    "duration": 14,
    "start_time": "2022-07-20T20:46:46.773Z"
   },
   {
    "duration": 16,
    "start_time": "2022-07-20T20:46:50.349Z"
   },
   {
    "duration": 513,
    "start_time": "2022-07-20T20:46:56.487Z"
   },
   {
    "duration": 70,
    "start_time": "2022-07-20T20:46:57.001Z"
   },
   {
    "duration": 65,
    "start_time": "2022-07-20T20:48:48.303Z"
   },
   {
    "duration": 56,
    "start_time": "2022-07-20T20:49:24.893Z"
   },
   {
    "duration": 45,
    "start_time": "2022-07-20T22:33:32.765Z"
   },
   {
    "duration": 624,
    "start_time": "2022-07-20T22:33:43.526Z"
   },
   {
    "duration": 52,
    "start_time": "2022-07-20T22:33:45.665Z"
   },
   {
    "duration": 43,
    "start_time": "2022-07-20T22:54:21.853Z"
   },
   {
    "duration": 87,
    "start_time": "2022-07-20T23:06:33.985Z"
   },
   {
    "duration": 12,
    "start_time": "2022-07-20T23:06:41.911Z"
   },
   {
    "duration": 43,
    "start_time": "2022-07-20T23:06:50.705Z"
   },
   {
    "duration": 42,
    "start_time": "2022-07-20T23:07:43.409Z"
   },
   {
    "duration": 31,
    "start_time": "2022-07-20T23:08:05.600Z"
   },
   {
    "duration": 46,
    "start_time": "2022-07-20T23:08:16.039Z"
   },
   {
    "duration": 44,
    "start_time": "2022-07-20T23:17:37.161Z"
   },
   {
    "duration": 49,
    "start_time": "2022-07-20T23:18:04.734Z"
   },
   {
    "duration": 10,
    "start_time": "2022-07-20T23:18:16.111Z"
   },
   {
    "duration": 16,
    "start_time": "2022-07-20T23:18:22.534Z"
   },
   {
    "duration": 45,
    "start_time": "2022-07-20T23:18:45.318Z"
   },
   {
    "duration": 51,
    "start_time": "2022-07-20T23:24:30.202Z"
   },
   {
    "duration": 17,
    "start_time": "2022-07-20T23:24:43.861Z"
   },
   {
    "duration": 48,
    "start_time": "2022-07-20T23:24:49.569Z"
   },
   {
    "duration": 12,
    "start_time": "2022-07-20T23:28:17.645Z"
   },
   {
    "duration": 49,
    "start_time": "2022-07-20T23:28:21.366Z"
   },
   {
    "duration": 50,
    "start_time": "2022-07-20T23:28:24.461Z"
   },
   {
    "duration": 51,
    "start_time": "2022-07-20T23:36:22.464Z"
   },
   {
    "duration": 52,
    "start_time": "2022-07-20T23:47:09.519Z"
   },
   {
    "duration": 20,
    "start_time": "2022-07-20T23:47:27.751Z"
   },
   {
    "duration": 22,
    "start_time": "2022-07-20T23:56:30.461Z"
   },
   {
    "duration": 57,
    "start_time": "2022-07-20T23:56:35.907Z"
   },
   {
    "duration": 78,
    "start_time": "2022-07-21T00:03:31.493Z"
   },
   {
    "duration": 54,
    "start_time": "2022-07-21T00:03:31.573Z"
   },
   {
    "duration": 52,
    "start_time": "2022-07-21T00:05:30.142Z"
   },
   {
    "duration": 23,
    "start_time": "2022-07-21T00:06:38.383Z"
   },
   {
    "duration": 20,
    "start_time": "2022-07-21T00:07:42.550Z"
   },
   {
    "duration": 22,
    "start_time": "2022-07-21T00:12:42.361Z"
   },
   {
    "duration": 24,
    "start_time": "2022-07-21T00:20:25.521Z"
   },
   {
    "duration": 35,
    "start_time": "2022-07-21T00:26:53.019Z"
   },
   {
    "duration": 26,
    "start_time": "2022-07-21T00:45:53.162Z"
   },
   {
    "duration": 25,
    "start_time": "2022-07-21T00:46:11.170Z"
   },
   {
    "duration": 40,
    "start_time": "2022-07-21T00:50:05.000Z"
   },
   {
    "duration": 57,
    "start_time": "2022-07-21T00:50:29.199Z"
   },
   {
    "duration": 60,
    "start_time": "2022-07-21T02:41:37.028Z"
   },
   {
    "duration": 88,
    "start_time": "2022-07-21T03:12:15.925Z"
   },
   {
    "duration": 480,
    "start_time": "2022-07-21T04:17:46.780Z"
   },
   {
    "duration": 141,
    "start_time": "2022-07-21T04:18:27.354Z"
   },
   {
    "duration": 149,
    "start_time": "2022-07-21T04:18:42.546Z"
   },
   {
    "duration": 195,
    "start_time": "2022-07-21T04:25:28.557Z"
   },
   {
    "duration": 75,
    "start_time": "2022-07-21T04:25:43.925Z"
   },
   {
    "duration": 82,
    "start_time": "2022-07-21T04:26:27.105Z"
   },
   {
    "duration": 1051,
    "start_time": "2022-07-21T04:26:27.188Z"
   },
   {
    "duration": 70,
    "start_time": "2022-07-21T04:27:03.178Z"
   },
   {
    "duration": 79,
    "start_time": "2022-07-21T05:49:32.730Z"
   },
   {
    "duration": 477,
    "start_time": "2022-07-21T05:50:00.704Z"
   },
   {
    "duration": 102,
    "start_time": "2022-07-21T05:50:01.183Z"
   },
   {
    "duration": 431,
    "start_time": "2022-07-21T05:51:06.926Z"
   },
   {
    "duration": 135,
    "start_time": "2022-07-21T05:51:11.657Z"
   },
   {
    "duration": 170,
    "start_time": "2022-07-21T05:51:57.813Z"
   },
   {
    "duration": 170,
    "start_time": "2022-07-21T05:54:05.924Z"
   },
   {
    "duration": 227,
    "start_time": "2022-07-21T05:55:59.569Z"
   },
   {
    "duration": 195,
    "start_time": "2022-07-21T05:57:00.225Z"
   },
   {
    "duration": 192,
    "start_time": "2022-07-21T05:57:53.352Z"
   },
   {
    "duration": 157,
    "start_time": "2022-07-21T05:58:29.720Z"
   },
   {
    "duration": 485,
    "start_time": "2022-07-21T05:58:56.697Z"
   },
   {
    "duration": 432,
    "start_time": "2022-07-21T05:58:57.184Z"
   },
   {
    "duration": 157,
    "start_time": "2022-07-21T05:59:18.049Z"
   },
   {
    "duration": 162,
    "start_time": "2022-07-21T06:00:31.437Z"
   },
   {
    "duration": 177,
    "start_time": "2022-07-21T06:00:38.022Z"
   },
   {
    "duration": 89,
    "start_time": "2022-07-21T06:00:41.221Z"
   },
   {
    "duration": 90,
    "start_time": "2022-07-21T06:00:48.925Z"
   },
   {
    "duration": 132,
    "start_time": "2022-07-21T06:29:44.429Z"
   },
   {
    "duration": 137,
    "start_time": "2022-07-21T06:30:25.668Z"
   },
   {
    "duration": 168,
    "start_time": "2022-07-21T06:30:58.165Z"
   },
   {
    "duration": 157,
    "start_time": "2022-07-21T06:32:35.739Z"
   },
   {
    "duration": 36,
    "start_time": "2022-07-21T06:32:41.739Z"
   },
   {
    "duration": 34,
    "start_time": "2022-07-21T06:32:52.228Z"
   },
   {
    "duration": 37,
    "start_time": "2022-07-21T06:33:06.028Z"
   },
   {
    "duration": 31,
    "start_time": "2022-07-21T06:33:45.890Z"
   },
   {
    "duration": 31,
    "start_time": "2022-07-21T06:34:47.970Z"
   },
   {
    "duration": 32,
    "start_time": "2022-07-21T06:40:26.264Z"
   },
   {
    "duration": 37,
    "start_time": "2022-07-21T06:41:54.772Z"
   },
   {
    "duration": 38,
    "start_time": "2022-07-21T06:47:22.116Z"
   },
   {
    "duration": 130,
    "start_time": "2022-07-21T06:48:32.580Z"
   },
   {
    "duration": 86,
    "start_time": "2022-07-21T06:49:58.970Z"
   },
   {
    "duration": 105,
    "start_time": "2022-07-21T07:52:47.642Z"
   },
   {
    "duration": 533,
    "start_time": "2022-07-21T07:53:20.542Z"
   },
   {
    "duration": 105,
    "start_time": "2022-07-21T07:53:21.077Z"
   },
   {
    "duration": 52,
    "start_time": "2022-07-21T07:55:25.785Z"
   },
   {
    "duration": 80,
    "start_time": "2022-07-21T07:56:07.137Z"
   },
   {
    "duration": 109,
    "start_time": "2022-07-21T07:56:29.065Z"
   },
   {
    "duration": 48,
    "start_time": "2022-07-21T07:57:44.207Z"
   },
   {
    "duration": 51,
    "start_time": "2022-07-21T07:58:23.382Z"
   },
   {
    "duration": 45,
    "start_time": "2022-07-21T08:17:51.732Z"
   },
   {
    "duration": 0,
    "start_time": "2022-07-21T08:18:11.067Z"
   },
   {
    "duration": 0,
    "start_time": "2022-07-21T08:18:11.069Z"
   },
   {
    "duration": 39,
    "start_time": "2022-07-21T08:18:19.984Z"
   },
   {
    "duration": 44,
    "start_time": "2022-07-21T08:20:22.751Z"
   },
   {
    "duration": 41,
    "start_time": "2022-07-21T08:20:29.414Z"
   },
   {
    "duration": 71,
    "start_time": "2022-07-21T08:20:38.053Z"
   },
   {
    "duration": 70,
    "start_time": "2022-07-21T08:22:17.821Z"
   },
   {
    "duration": 37,
    "start_time": "2022-07-21T08:22:21.269Z"
   },
   {
    "duration": 47,
    "start_time": "2022-07-21T08:25:25.122Z"
   },
   {
    "duration": 542,
    "start_time": "2022-07-21T08:25:34.427Z"
   },
   {
    "duration": 124,
    "start_time": "2022-07-21T08:25:34.971Z"
   },
   {
    "duration": 38,
    "start_time": "2022-07-21T08:28:50.862Z"
   },
   {
    "duration": 35,
    "start_time": "2022-07-21T08:29:58.261Z"
   },
   {
    "duration": 1163,
    "start_time": "2022-07-21T08:30:19.204Z"
   },
   {
    "duration": 635,
    "start_time": "2022-07-21T08:31:01.053Z"
   },
   {
    "duration": 587,
    "start_time": "2022-07-21T08:31:20.125Z"
   },
   {
    "duration": 81,
    "start_time": "2022-07-21T08:34:23.762Z"
   },
   {
    "duration": 694,
    "start_time": "2022-07-21T08:34:34.321Z"
   },
   {
    "duration": 83,
    "start_time": "2022-07-21T08:34:43.344Z"
   },
   {
    "duration": 79,
    "start_time": "2022-07-21T08:38:12.844Z"
   },
   {
    "duration": 483,
    "start_time": "2022-07-21T09:29:43.479Z"
   },
   {
    "duration": 98,
    "start_time": "2022-07-21T09:29:43.965Z"
   },
   {
    "duration": 490,
    "start_time": "2022-07-21T09:30:02.375Z"
   },
   {
    "duration": 82,
    "start_time": "2022-07-21T09:30:47.528Z"
   },
   {
    "duration": 144,
    "start_time": "2022-07-21T09:31:08.758Z"
   },
   {
    "duration": 510,
    "start_time": "2022-07-21T09:31:40.421Z"
   },
   {
    "duration": 87,
    "start_time": "2022-07-21T09:31:40.933Z"
   },
   {
    "duration": 484,
    "start_time": "2022-07-21T09:31:53.472Z"
   },
   {
    "duration": 96,
    "start_time": "2022-07-21T09:31:53.959Z"
   },
   {
    "duration": 602,
    "start_time": "2022-07-21T14:10:14.124Z"
   },
   {
    "duration": 99,
    "start_time": "2022-07-21T14:10:14.728Z"
   },
   {
    "duration": 107,
    "start_time": "2022-07-21T14:10:50.223Z"
   },
   {
    "duration": 469,
    "start_time": "2022-07-21T14:11:47.640Z"
   },
   {
    "duration": 97,
    "start_time": "2022-07-21T14:11:48.112Z"
   },
   {
    "duration": 103,
    "start_time": "2022-07-21T14:12:30.573Z"
   },
   {
    "duration": 480,
    "start_time": "2022-07-21T14:12:57.104Z"
   },
   {
    "duration": 89,
    "start_time": "2022-07-21T14:12:57.586Z"
   },
   {
    "duration": 489,
    "start_time": "2022-07-21T14:13:51.876Z"
   },
   {
    "duration": 332,
    "start_time": "2022-07-21T14:14:13.182Z"
   },
   {
    "duration": 299,
    "start_time": "2022-07-21T14:16:31.871Z"
   },
   {
    "duration": 211,
    "start_time": "2022-07-21T14:17:04.691Z"
   },
   {
    "duration": 694,
    "start_time": "2022-07-21T14:17:44.814Z"
   },
   {
    "duration": 311,
    "start_time": "2022-07-21T14:17:45.510Z"
   },
   {
    "duration": 267,
    "start_time": "2022-07-21T14:18:07.513Z"
   },
   {
    "duration": 226,
    "start_time": "2022-07-21T14:19:44.855Z"
   },
   {
    "duration": 321,
    "start_time": "2022-07-21T14:19:54.409Z"
   },
   {
    "duration": 284,
    "start_time": "2022-07-21T14:20:10.825Z"
   },
   {
    "duration": 854,
    "start_time": "2022-07-21T14:20:35.308Z"
   },
   {
    "duration": 581,
    "start_time": "2022-07-21T14:20:36.164Z"
   },
   {
    "duration": 388,
    "start_time": "2022-07-21T14:20:47.217Z"
   },
   {
    "duration": 232,
    "start_time": "2022-07-21T14:20:59.328Z"
   },
   {
    "duration": 88,
    "start_time": "2022-07-21T14:21:27.630Z"
   },
   {
    "duration": 91,
    "start_time": "2022-07-21T14:23:35.908Z"
   },
   {
    "duration": 256,
    "start_time": "2022-07-21T14:30:49.429Z"
   },
   {
    "duration": 191,
    "start_time": "2022-07-21T14:53:25.401Z"
   },
   {
    "duration": 148,
    "start_time": "2022-07-21T14:54:04.576Z"
   },
   {
    "duration": 100,
    "start_time": "2022-07-21T14:54:23.450Z"
   },
   {
    "duration": 99,
    "start_time": "2022-07-21T14:55:21.200Z"
   },
   {
    "duration": 95,
    "start_time": "2022-07-21T14:57:31.067Z"
   },
   {
    "duration": 101,
    "start_time": "2022-07-21T14:57:41.364Z"
   },
   {
    "duration": 241,
    "start_time": "2022-07-21T14:59:16.890Z"
   },
   {
    "duration": 326,
    "start_time": "2022-07-21T15:11:49.802Z"
   },
   {
    "duration": 237,
    "start_time": "2022-07-21T15:12:34.561Z"
   },
   {
    "duration": 239,
    "start_time": "2022-07-21T15:18:18.796Z"
   },
   {
    "duration": 753,
    "start_time": "2022-07-21T15:19:37.431Z"
   },
   {
    "duration": 357,
    "start_time": "2022-07-21T15:19:38.186Z"
   },
   {
    "duration": 735,
    "start_time": "2022-07-21T15:20:16.758Z"
   },
   {
    "duration": 370,
    "start_time": "2022-07-21T15:20:17.495Z"
   },
   {
    "duration": 84,
    "start_time": "2022-07-21T15:22:06.321Z"
   },
   {
    "duration": 744,
    "start_time": "2022-07-21T15:23:02.981Z"
   },
   {
    "duration": 107,
    "start_time": "2022-07-21T15:23:03.727Z"
   },
   {
    "duration": 89,
    "start_time": "2022-07-21T15:28:19.746Z"
   },
   {
    "duration": 81,
    "start_time": "2022-07-21T15:28:54.823Z"
   },
   {
    "duration": 136,
    "start_time": "2022-07-21T15:32:43.329Z"
   },
   {
    "duration": 88,
    "start_time": "2022-07-21T15:33:12.868Z"
   },
   {
    "duration": 94,
    "start_time": "2022-07-21T15:34:15.202Z"
   },
   {
    "duration": 87,
    "start_time": "2022-07-21T15:41:25.721Z"
   },
   {
    "duration": 107,
    "start_time": "2022-07-21T16:12:15.023Z"
   },
   {
    "duration": 98,
    "start_time": "2022-07-21T16:12:25.571Z"
   },
   {
    "duration": 30,
    "start_time": "2022-07-21T16:12:26.735Z"
   },
   {
    "duration": 791,
    "start_time": "2022-07-21T16:13:34.613Z"
   },
   {
    "duration": 102,
    "start_time": "2022-07-21T16:13:35.406Z"
   },
   {
    "duration": 253,
    "start_time": "2022-07-21T16:15:43.170Z"
   },
   {
    "duration": 248,
    "start_time": "2022-07-21T17:39:28.384Z"
   },
   {
    "duration": 95,
    "start_time": "2022-07-21T17:39:49.226Z"
   },
   {
    "duration": 262,
    "start_time": "2022-07-21T17:48:11.393Z"
   },
   {
    "duration": 245,
    "start_time": "2022-07-21T17:48:25.863Z"
   },
   {
    "duration": 219,
    "start_time": "2022-07-21T17:48:55.278Z"
   },
   {
    "duration": 139,
    "start_time": "2022-07-21T17:50:21.934Z"
   },
   {
    "duration": 51,
    "start_time": "2022-07-21T18:17:57.472Z"
   },
   {
    "duration": 92,
    "start_time": "2022-07-21T18:18:06.938Z"
   },
   {
    "duration": 290,
    "start_time": "2022-07-21T18:43:07.210Z"
   },
   {
    "duration": 254,
    "start_time": "2022-07-21T18:47:24.060Z"
   },
   {
    "duration": 100,
    "start_time": "2022-07-21T18:52:27.513Z"
   },
   {
    "duration": 91,
    "start_time": "2022-07-21T18:52:44.646Z"
   },
   {
    "duration": 91,
    "start_time": "2022-07-21T18:52:58.102Z"
   },
   {
    "duration": 90,
    "start_time": "2022-07-21T18:53:34.983Z"
   },
   {
    "duration": 110,
    "start_time": "2022-07-21T18:57:45.091Z"
   },
   {
    "duration": 113,
    "start_time": "2022-07-21T19:05:01.310Z"
   },
   {
    "duration": 149,
    "start_time": "2022-07-21T19:08:02.375Z"
   },
   {
    "duration": 722,
    "start_time": "2022-07-21T19:08:37.856Z"
   },
   {
    "duration": 105,
    "start_time": "2022-07-21T19:08:38.580Z"
   },
   {
    "duration": 95,
    "start_time": "2022-07-21T19:09:05.129Z"
   },
   {
    "duration": 150,
    "start_time": "2022-07-21T19:13:41.427Z"
   },
   {
    "duration": 131,
    "start_time": "2022-07-21T19:21:55.518Z"
   },
   {
    "duration": 315,
    "start_time": "2022-07-21T19:22:24.418Z"
   },
   {
    "duration": 220,
    "start_time": "2022-07-21T19:30:33.044Z"
   },
   {
    "duration": 100,
    "start_time": "2022-07-21T19:31:30.141Z"
   },
   {
    "duration": 140,
    "start_time": "2022-07-21T19:34:58.702Z"
   },
   {
    "duration": 110,
    "start_time": "2022-07-21T19:44:18.682Z"
   },
   {
    "duration": 283,
    "start_time": "2022-07-21T19:46:02.207Z"
   },
   {
    "duration": 404,
    "start_time": "2022-07-21T19:50:22.338Z"
   },
   {
    "duration": 101,
    "start_time": "2022-07-21T19:52:00.559Z"
   },
   {
    "duration": 158,
    "start_time": "2022-07-21T20:25:19.925Z"
   },
   {
    "duration": 104,
    "start_time": "2022-07-21T20:26:08.098Z"
   },
   {
    "duration": 226,
    "start_time": "2022-07-21T20:34:13.277Z"
   },
   {
    "duration": 96,
    "start_time": "2022-07-21T20:35:15.857Z"
   },
   {
    "duration": 106,
    "start_time": "2022-07-21T20:51:01.743Z"
   },
   {
    "duration": 300,
    "start_time": "2022-07-21T20:55:43.002Z"
   },
   {
    "duration": 261,
    "start_time": "2022-07-21T21:01:20.038Z"
   },
   {
    "duration": 100,
    "start_time": "2022-07-21T21:04:51.021Z"
   },
   {
    "duration": 123,
    "start_time": "2022-07-21T21:13:07.078Z"
   },
   {
    "duration": 277,
    "start_time": "2022-07-21T21:14:03.622Z"
   },
   {
    "duration": 95,
    "start_time": "2022-07-21T21:15:39.567Z"
   },
   {
    "duration": 107,
    "start_time": "2022-07-21T21:27:32.184Z"
   },
   {
    "duration": 102,
    "start_time": "2022-07-21T21:29:51.972Z"
   },
   {
    "duration": 157,
    "start_time": "2022-07-21T21:32:16.880Z"
   },
   {
    "duration": 95,
    "start_time": "2022-07-21T21:32:23.232Z"
   },
   {
    "duration": 109,
    "start_time": "2022-07-21T21:33:30.965Z"
   },
   {
    "duration": 105,
    "start_time": "2022-07-21T21:50:29.545Z"
   },
   {
    "duration": 102,
    "start_time": "2022-07-21T21:52:21.243Z"
   },
   {
    "duration": 108,
    "start_time": "2022-07-21T21:52:30.882Z"
   },
   {
    "duration": 158,
    "start_time": "2022-07-21T21:53:05.995Z"
   },
   {
    "duration": 101,
    "start_time": "2022-07-21T21:56:46.475Z"
   },
   {
    "duration": 102,
    "start_time": "2022-07-21T21:58:31.936Z"
   },
   {
    "duration": 66,
    "start_time": "2022-07-21T21:58:44.840Z"
   },
   {
    "duration": 66,
    "start_time": "2022-07-21T22:00:08.237Z"
   },
   {
    "duration": 141,
    "start_time": "2022-07-21T22:00:14.233Z"
   },
   {
    "duration": 51,
    "start_time": "2022-07-22T17:15:27.750Z"
   },
   {
    "duration": 1085,
    "start_time": "2022-07-22T17:15:39.740Z"
   },
   {
    "duration": 111,
    "start_time": "2022-07-22T17:15:40.985Z"
   },
   {
    "duration": 5,
    "start_time": "2022-07-22T17:15:44.227Z"
   },
   {
    "duration": 42,
    "start_time": "2022-07-22T17:15:56.683Z"
   },
   {
    "duration": 56,
    "start_time": "2022-07-22T17:18:42.618Z"
   },
   {
    "duration": 63,
    "start_time": "2022-07-22T17:30:33.145Z"
   },
   {
    "duration": 66,
    "start_time": "2022-07-22T17:32:06.809Z"
   },
   {
    "duration": 339,
    "start_time": "2022-07-22T18:32:10.146Z"
   },
   {
    "duration": 294,
    "start_time": "2022-07-22T18:42:35.767Z"
   },
   {
    "duration": 109,
    "start_time": "2022-07-22T19:52:50.850Z"
   },
   {
    "duration": 105,
    "start_time": "2022-07-22T19:52:59.865Z"
   },
   {
    "duration": 728,
    "start_time": "2022-07-22T19:53:14.417Z"
   },
   {
    "duration": 120,
    "start_time": "2022-07-22T19:53:15.148Z"
   },
   {
    "duration": 326,
    "start_time": "2022-07-22T19:53:15.270Z"
   },
   {
    "duration": 766,
    "start_time": "2022-07-22T19:54:17.693Z"
   },
   {
    "duration": 126,
    "start_time": "2022-07-22T19:54:18.462Z"
   },
   {
    "duration": 318,
    "start_time": "2022-07-22T19:54:18.590Z"
   },
   {
    "duration": 564,
    "start_time": "2022-07-22T21:17:06.140Z"
   },
   {
    "duration": 717,
    "start_time": "2022-07-22T22:15:38.577Z"
   },
   {
    "duration": 628,
    "start_time": "2022-07-22T22:15:58.590Z"
   },
   {
    "duration": 606,
    "start_time": "2022-07-22T22:17:04.239Z"
   },
   {
    "duration": 599,
    "start_time": "2022-07-22T22:17:29.349Z"
   },
   {
    "duration": 683,
    "start_time": "2022-07-22T22:17:37.023Z"
   },
   {
    "duration": 630,
    "start_time": "2022-07-22T22:17:41.964Z"
   },
   {
    "duration": 673,
    "start_time": "2022-07-22T22:17:46.668Z"
   },
   {
    "duration": 584,
    "start_time": "2022-07-22T22:18:01.341Z"
   },
   {
    "duration": 585,
    "start_time": "2022-07-22T22:20:43.619Z"
   },
   {
    "duration": 627,
    "start_time": "2022-07-22T22:21:16.539Z"
   },
   {
    "duration": 608,
    "start_time": "2022-07-22T22:25:13.821Z"
   },
   {
    "duration": 293,
    "start_time": "2022-07-22T22:42:05.391Z"
   },
   {
    "duration": 823,
    "start_time": "2022-07-22T22:42:38.350Z"
   },
   {
    "duration": 1263,
    "start_time": "2022-07-22T22:43:55.214Z"
   },
   {
    "duration": 1347,
    "start_time": "2022-07-22T22:45:36.132Z"
   },
   {
    "duration": 1292,
    "start_time": "2022-07-22T22:46:09.555Z"
   },
   {
    "duration": 2090,
    "start_time": "2022-07-22T22:49:46.075Z"
   },
   {
    "duration": 87,
    "start_time": "2022-07-22T22:54:50.038Z"
   },
   {
    "duration": 2105,
    "start_time": "2022-07-22T22:55:01.799Z"
   },
   {
    "duration": 758,
    "start_time": "2022-07-22T22:57:14.378Z"
   },
   {
    "duration": 345,
    "start_time": "2022-07-22T22:57:48.641Z"
   },
   {
    "duration": 283,
    "start_time": "2022-07-22T22:59:49.064Z"
   },
   {
    "duration": 300,
    "start_time": "2022-07-22T23:03:07.259Z"
   },
   {
    "duration": 335,
    "start_time": "2022-07-22T23:03:32.845Z"
   },
   {
    "duration": 309,
    "start_time": "2022-07-22T23:04:03.484Z"
   },
   {
    "duration": 303,
    "start_time": "2022-07-22T23:04:18.205Z"
   },
   {
    "duration": 312,
    "start_time": "2022-07-22T23:09:13.799Z"
   },
   {
    "duration": 82,
    "start_time": "2022-07-22T23:09:20.183Z"
   },
   {
    "duration": 13,
    "start_time": "2022-07-22T23:09:33.103Z"
   },
   {
    "duration": 763,
    "start_time": "2022-07-22T23:09:44.801Z"
   },
   {
    "duration": 121,
    "start_time": "2022-07-22T23:09:45.566Z"
   },
   {
    "duration": 303,
    "start_time": "2022-07-22T23:09:45.688Z"
   },
   {
    "duration": 372,
    "start_time": "2022-07-22T23:11:29.106Z"
   },
   {
    "duration": 316,
    "start_time": "2022-07-22T23:14:25.149Z"
   },
   {
    "duration": 707,
    "start_time": "2022-07-22T23:14:44.112Z"
   },
   {
    "duration": 124,
    "start_time": "2022-07-22T23:14:44.821Z"
   },
   {
    "duration": 298,
    "start_time": "2022-07-22T23:14:44.947Z"
   },
   {
    "duration": 756,
    "start_time": "2022-07-22T23:19:49.769Z"
   },
   {
    "duration": 659,
    "start_time": "2022-07-22T23:20:01.632Z"
   },
   {
    "duration": 1151,
    "start_time": "2022-07-22T23:22:44.615Z"
   },
   {
    "duration": 1154,
    "start_time": "2022-07-22T23:24:15.903Z"
   },
   {
    "duration": 1159,
    "start_time": "2022-07-22T23:25:30.954Z"
   },
   {
    "duration": 292,
    "start_time": "2022-07-22T23:26:26.672Z"
   },
   {
    "duration": 448,
    "start_time": "2022-07-22T23:38:08.689Z"
   },
   {
    "duration": 856,
    "start_time": "2022-07-22T23:38:23.894Z"
   },
   {
    "duration": 1465,
    "start_time": "2022-07-22T23:40:38.899Z"
   },
   {
    "duration": 1447,
    "start_time": "2022-07-22T23:42:47.009Z"
   },
   {
    "duration": 1559,
    "start_time": "2022-07-22T23:43:31.280Z"
   },
   {
    "duration": 1519,
    "start_time": "2022-07-22T23:44:12.265Z"
   },
   {
    "duration": 336,
    "start_time": "2022-07-22T23:44:29.175Z"
   },
   {
    "duration": 561,
    "start_time": "2022-07-22T23:50:30.149Z"
   },
   {
    "duration": 548,
    "start_time": "2022-07-22T23:52:29.402Z"
   },
   {
    "duration": 635,
    "start_time": "2022-07-22T23:53:06.400Z"
   },
   {
    "duration": 562,
    "start_time": "2022-07-22T23:53:41.767Z"
   },
   {
    "duration": 571,
    "start_time": "2022-07-22T23:54:27.847Z"
   },
   {
    "duration": 328,
    "start_time": "2022-07-22T23:54:56.734Z"
   },
   {
    "duration": 654,
    "start_time": "2022-07-23T00:00:39.108Z"
   },
   {
    "duration": 903,
    "start_time": "2022-07-23T00:01:05.288Z"
   },
   {
    "duration": 1255,
    "start_time": "2022-07-23T00:03:03.503Z"
   },
   {
    "duration": 1376,
    "start_time": "2022-07-23T00:04:53.829Z"
   },
   {
    "duration": 271,
    "start_time": "2022-07-23T00:05:48.581Z"
   },
   {
    "duration": 654,
    "start_time": "2022-07-23T00:10:35.522Z"
   },
   {
    "duration": 730,
    "start_time": "2022-07-23T00:12:21.063Z"
   },
   {
    "duration": 88,
    "start_time": "2022-07-23T00:15:13.558Z"
   },
   {
    "duration": 757,
    "start_time": "2022-07-23T00:15:16.227Z"
   },
   {
    "duration": 736,
    "start_time": "2022-07-23T00:15:33.814Z"
   },
   {
    "duration": 693,
    "start_time": "2022-07-23T00:15:56.507Z"
   },
   {
    "duration": 1148,
    "start_time": "2022-07-23T00:20:13.786Z"
   },
   {
    "duration": 301,
    "start_time": "2022-07-23T00:23:29.181Z"
   },
   {
    "duration": 697,
    "start_time": "2022-07-23T00:28:33.202Z"
   },
   {
    "duration": 82,
    "start_time": "2022-07-23T00:32:24.270Z"
   },
   {
    "duration": 759,
    "start_time": "2022-07-23T00:34:47.260Z"
   },
   {
    "duration": 692,
    "start_time": "2022-07-23T00:36:30.585Z"
   },
   {
    "duration": 726,
    "start_time": "2022-07-23T00:37:02.696Z"
   },
   {
    "duration": 733,
    "start_time": "2022-07-23T00:37:16.095Z"
   },
   {
    "duration": 793,
    "start_time": "2022-07-23T00:39:22.126Z"
   },
   {
    "duration": 292,
    "start_time": "2022-07-23T00:39:42.921Z"
   },
   {
    "duration": 582,
    "start_time": "2022-07-23T00:45:33.715Z"
   },
   {
    "duration": 1028,
    "start_time": "2022-07-23T00:48:46.538Z"
   },
   {
    "duration": 1476,
    "start_time": "2022-07-23T00:51:16.195Z"
   },
   {
    "duration": 336,
    "start_time": "2022-07-23T00:55:55.393Z"
   },
   {
    "duration": 638,
    "start_time": "2022-07-23T01:10:26.710Z"
   },
   {
    "duration": 1122,
    "start_time": "2022-07-23T01:10:47.706Z"
   },
   {
    "duration": 1184,
    "start_time": "2022-07-23T01:12:44.385Z"
   },
   {
    "duration": 1081,
    "start_time": "2022-07-23T01:14:35.969Z"
   },
   {
    "duration": 329,
    "start_time": "2022-07-23T01:17:02.622Z"
   },
   {
    "duration": 763,
    "start_time": "2022-07-23T01:20:14.136Z"
   },
   {
    "duration": 1572,
    "start_time": "2022-07-23T01:24:32.846Z"
   },
   {
    "duration": 106,
    "start_time": "2022-07-23T01:28:33.835Z"
   },
   {
    "duration": 1691,
    "start_time": "2022-07-23T01:28:40.218Z"
   },
   {
    "duration": 1641,
    "start_time": "2022-07-23T01:28:59.786Z"
   },
   {
    "duration": 1544,
    "start_time": "2022-07-23T01:29:50.253Z"
   },
   {
    "duration": 1704,
    "start_time": "2022-07-23T01:30:31.018Z"
   },
   {
    "duration": 1558,
    "start_time": "2022-07-23T01:30:39.128Z"
   },
   {
    "duration": 1667,
    "start_time": "2022-07-23T01:30:53.768Z"
   },
   {
    "duration": 541,
    "start_time": "2022-07-23T01:34:55.860Z"
   },
   {
    "duration": 614,
    "start_time": "2022-07-23T01:35:06.609Z"
   },
   {
    "duration": 1232,
    "start_time": "2022-07-23T01:36:12.384Z"
   },
   {
    "duration": 958,
    "start_time": "2022-07-23T01:37:38.246Z"
   },
   {
    "duration": 882,
    "start_time": "2022-07-23T01:38:55.286Z"
   },
   {
    "duration": 1030,
    "start_time": "2022-07-23T01:40:03.255Z"
   },
   {
    "duration": 298,
    "start_time": "2022-07-23T01:40:38.716Z"
   },
   {
    "duration": 240,
    "start_time": "2022-07-23T01:52:49.290Z"
   },
   {
    "duration": 509,
    "start_time": "2022-07-23T01:53:04.287Z"
   },
   {
    "duration": 1537,
    "start_time": "2022-07-23T01:53:42.254Z"
   },
   {
    "duration": 1617,
    "start_time": "2022-07-23T01:53:56.511Z"
   },
   {
    "duration": 280,
    "start_time": "2022-07-23T01:56:03.175Z"
   },
   {
    "duration": 303,
    "start_time": "2022-07-23T01:56:15.054Z"
   },
   {
    "duration": 673,
    "start_time": "2022-07-23T02:01:45.474Z"
   },
   {
    "duration": 1230,
    "start_time": "2022-07-23T02:06:35.955Z"
   },
   {
    "duration": 368,
    "start_time": "2022-07-23T02:08:42.245Z"
   },
   {
    "duration": 479,
    "start_time": "2022-07-23T02:13:07.504Z"
   },
   {
    "duration": 278,
    "start_time": "2022-07-23T02:13:27.182Z"
   },
   {
    "duration": 609,
    "start_time": "2022-07-23T02:23:30.173Z"
   },
   {
    "duration": 320,
    "start_time": "2022-07-23T02:23:49.871Z"
   },
   {
    "duration": 520,
    "start_time": "2022-07-23T02:26:03.875Z"
   },
   {
    "duration": 387,
    "start_time": "2022-07-23T02:26:25.218Z"
   },
   {
    "duration": 703,
    "start_time": "2022-07-23T02:28:34.045Z"
   },
   {
    "duration": 790,
    "start_time": "2022-07-23T02:28:48.216Z"
   },
   {
    "duration": 9032,
    "start_time": "2022-07-23T02:38:52.513Z"
   },
   {
    "duration": 286,
    "start_time": "2022-07-23T02:39:49.712Z"
   },
   {
    "duration": 665,
    "start_time": "2022-07-23T02:43:10.899Z"
   },
   {
    "duration": 745,
    "start_time": "2022-07-23T02:43:22.741Z"
   },
   {
    "duration": 283,
    "start_time": "2022-07-23T02:43:46.183Z"
   },
   {
    "duration": 721,
    "start_time": "2022-07-23T02:45:31.094Z"
   },
   {
    "duration": 769,
    "start_time": "2022-07-23T02:45:45.182Z"
   },
   {
    "duration": 289,
    "start_time": "2022-07-23T02:46:00.223Z"
   },
   {
    "duration": 710,
    "start_time": "2022-07-23T02:48:44.156Z"
   },
   {
    "duration": 618,
    "start_time": "2022-07-23T02:49:09.040Z"
   },
   {
    "duration": 377,
    "start_time": "2022-07-23T02:49:27.187Z"
   },
   {
    "duration": 531,
    "start_time": "2022-07-23T02:51:57.000Z"
   },
   {
    "duration": 294,
    "start_time": "2022-07-23T02:52:28.339Z"
   },
   {
    "duration": 672,
    "start_time": "2022-07-23T02:54:48.465Z"
   },
   {
    "duration": 279,
    "start_time": "2022-07-23T02:55:20.277Z"
   },
   {
    "duration": 1072,
    "start_time": "2022-07-23T02:56:35.957Z"
   },
   {
    "duration": 920,
    "start_time": "2022-07-23T02:57:34.040Z"
   },
   {
    "duration": 306,
    "start_time": "2022-07-23T02:58:26.756Z"
   },
   {
    "duration": 1059,
    "start_time": "2022-07-23T02:59:44.238Z"
   },
   {
    "duration": 318,
    "start_time": "2022-07-23T03:00:26.201Z"
   },
   {
    "duration": 706,
    "start_time": "2022-07-23T03:03:18.445Z"
   },
   {
    "duration": 287,
    "start_time": "2022-07-23T03:03:43.940Z"
   },
   {
    "duration": 427,
    "start_time": "2022-07-23T03:09:53.746Z"
   },
   {
    "duration": 384,
    "start_time": "2022-07-23T03:18:27.836Z"
   },
   {
    "duration": 81,
    "start_time": "2022-07-23T03:42:12.535Z"
   },
   {
    "duration": 113,
    "start_time": "2022-07-23T03:42:12.899Z"
   },
   {
    "duration": 277,
    "start_time": "2022-07-23T03:42:14.439Z"
   },
   {
    "duration": 10,
    "start_time": "2022-07-23T03:43:16.173Z"
   },
   {
    "duration": 49,
    "start_time": "2022-07-23T03:43:24.171Z"
   },
   {
    "duration": 360,
    "start_time": "2022-07-23T03:43:43.636Z"
   },
   {
    "duration": 228,
    "start_time": "2022-07-23T03:44:38.690Z"
   },
   {
    "duration": 46,
    "start_time": "2022-07-23T03:52:41.034Z"
   },
   {
    "duration": 214,
    "start_time": "2022-07-23T03:54:47.195Z"
   },
   {
    "duration": 46,
    "start_time": "2022-07-23T03:58:57.061Z"
   },
   {
    "duration": 209,
    "start_time": "2022-07-23T04:03:48.839Z"
   },
   {
    "duration": 49,
    "start_time": "2022-07-23T04:08:44.774Z"
   },
   {
    "duration": 217,
    "start_time": "2022-07-23T04:12:37.159Z"
   },
   {
    "duration": 46,
    "start_time": "2022-07-23T04:14:30.340Z"
   },
   {
    "duration": 204,
    "start_time": "2022-07-23T04:18:35.655Z"
   },
   {
    "duration": 49,
    "start_time": "2022-07-23T04:23:51.098Z"
   },
   {
    "duration": 281,
    "start_time": "2022-07-23T04:28:35.342Z"
   },
   {
    "duration": 302,
    "start_time": "2022-07-23T04:30:25.227Z"
   },
   {
    "duration": 280,
    "start_time": "2022-07-23T04:32:14.249Z"
   },
   {
    "duration": 280,
    "start_time": "2022-07-23T04:42:36.796Z"
   },
   {
    "duration": 48,
    "start_time": "2022-07-23T04:43:08.459Z"
   },
   {
    "duration": 65,
    "start_time": "2022-07-23T07:49:13.550Z"
   },
   {
    "duration": 1217,
    "start_time": "2022-07-23T07:49:34.685Z"
   },
   {
    "duration": 151,
    "start_time": "2022-07-23T07:49:35.909Z"
   },
   {
    "duration": 346,
    "start_time": "2022-07-23T07:49:37.753Z"
   },
   {
    "duration": 68,
    "start_time": "2022-07-23T07:49:44.461Z"
   },
   {
    "duration": 71,
    "start_time": "2022-07-23T07:50:43.699Z"
   },
   {
    "duration": 63,
    "start_time": "2022-07-23T07:50:53.505Z"
   },
   {
    "duration": 37,
    "start_time": "2022-07-23T07:50:59.726Z"
   },
   {
    "duration": 37,
    "start_time": "2022-07-23T07:51:44.720Z"
   },
   {
    "duration": 253,
    "start_time": "2022-07-23T07:53:05.306Z"
   },
   {
    "duration": 14,
    "start_time": "2022-07-23T07:57:54.585Z"
   },
   {
    "duration": 57,
    "start_time": "2022-07-23T07:57:57.569Z"
   },
   {
    "duration": 64,
    "start_time": "2022-07-23T09:05:50.773Z"
   },
   {
    "duration": 58,
    "start_time": "2022-07-23T09:06:03.044Z"
   },
   {
    "duration": 49,
    "start_time": "2022-07-23T09:06:10.440Z"
   },
   {
    "duration": 198,
    "start_time": "2022-07-23T09:06:56.791Z"
   },
   {
    "duration": 60,
    "start_time": "2022-07-23T09:13:32.626Z"
   },
   {
    "duration": 31,
    "start_time": "2022-07-23T09:13:37.145Z"
   },
   {
    "duration": 180,
    "start_time": "2022-07-23T09:13:47.574Z"
   },
   {
    "duration": 208,
    "start_time": "2022-07-23T09:13:56.709Z"
   },
   {
    "duration": 228,
    "start_time": "2022-07-23T09:14:14.164Z"
   },
   {
    "duration": 139,
    "start_time": "2022-07-23T09:16:46.556Z"
   },
   {
    "duration": 270,
    "start_time": "2022-07-23T09:17:01.787Z"
   },
   {
    "duration": 25,
    "start_time": "2022-07-23T09:19:11.373Z"
   },
   {
    "duration": 125,
    "start_time": "2022-07-23T09:19:18.693Z"
   },
   {
    "duration": 34,
    "start_time": "2022-07-23T09:19:22.856Z"
   },
   {
    "duration": 60,
    "start_time": "2022-07-23T09:19:35.853Z"
   },
   {
    "duration": 51,
    "start_time": "2022-07-23T09:20:08.586Z"
   },
   {
    "duration": 77,
    "start_time": "2022-07-23T12:08:10.457Z"
   },
   {
    "duration": 1197,
    "start_time": "2022-07-23T12:17:56.793Z"
   },
   {
    "duration": 5,
    "start_time": "2022-07-23T12:17:57.992Z"
   },
   {
    "duration": 349,
    "start_time": "2022-07-23T12:17:57.999Z"
   },
   {
    "duration": 175,
    "start_time": "2022-07-23T12:17:58.351Z"
   },
   {
    "duration": 73,
    "start_time": "2022-07-23T12:17:58.528Z"
   },
   {
    "duration": 16,
    "start_time": "2022-07-23T12:17:58.603Z"
   },
   {
    "duration": 488,
    "start_time": "2022-07-23T12:17:58.621Z"
   },
   {
    "duration": 73,
    "start_time": "2022-07-23T12:17:59.116Z"
   },
   {
    "duration": 147,
    "start_time": "2022-07-23T12:25:20.069Z"
   },
   {
    "duration": 13,
    "start_time": "2022-07-23T12:25:47.042Z"
   },
   {
    "duration": 57,
    "start_time": "2022-07-23T12:26:50.066Z"
   },
   {
    "duration": 944,
    "start_time": "2022-07-23T12:28:23.146Z"
   },
   {
    "duration": 4,
    "start_time": "2022-07-23T12:28:24.093Z"
   },
   {
    "duration": 344,
    "start_time": "2022-07-23T12:28:24.099Z"
   },
   {
    "duration": 159,
    "start_time": "2022-07-23T12:28:24.451Z"
   },
   {
    "duration": 74,
    "start_time": "2022-07-23T12:28:24.614Z"
   },
   {
    "duration": 459,
    "start_time": "2022-07-23T12:28:24.690Z"
   },
   {
    "duration": 80,
    "start_time": "2022-07-23T12:28:25.152Z"
   },
   {
    "duration": 2337,
    "start_time": "2022-07-23T18:58:18.213Z"
   },
   {
    "duration": 72,
    "start_time": "2022-07-23T19:12:15.324Z"
   },
   {
    "duration": 68,
    "start_time": "2022-07-23T19:12:39.909Z"
   },
   {
    "duration": 66,
    "start_time": "2022-07-23T19:15:38.939Z"
   },
   {
    "duration": 1319,
    "start_time": "2022-07-23T19:43:52.423Z"
   },
   {
    "duration": 6153,
    "start_time": "2022-07-23T20:21:17.561Z"
   },
   {
    "duration": 278,
    "start_time": "2022-07-23T20:22:29.692Z"
   },
   {
    "duration": 27881,
    "start_time": "2022-07-23T20:22:35.037Z"
   },
   {
    "duration": 1122,
    "start_time": "2022-07-23T20:41:59.524Z"
   },
   {
    "duration": 1317,
    "start_time": "2022-07-23T20:47:32.936Z"
   },
   {
    "duration": 1929,
    "start_time": "2022-07-23T20:49:14.095Z"
   },
   {
    "duration": 3,
    "start_time": "2022-07-23T20:49:16.026Z"
   },
   {
    "duration": 270,
    "start_time": "2022-07-23T20:49:16.032Z"
   },
   {
    "duration": 1429,
    "start_time": "2022-07-23T20:49:16.305Z"
   },
   {
    "duration": 61,
    "start_time": "2022-07-23T20:49:17.736Z"
   },
   {
    "duration": 284,
    "start_time": "2022-07-23T20:49:17.798Z"
   },
   {
    "duration": 26111,
    "start_time": "2022-07-23T20:49:18.083Z"
   },
   {
    "duration": 766,
    "start_time": "2022-07-23T20:50:13.351Z"
   },
   {
    "duration": 28,
    "start_time": "2022-07-23T20:50:43.016Z"
   },
   {
    "duration": 28,
    "start_time": "2022-07-23T20:51:01.184Z"
   },
   {
    "duration": 2111,
    "start_time": "2022-07-23T20:51:12.364Z"
   },
   {
    "duration": 5,
    "start_time": "2022-07-23T20:51:14.478Z"
   },
   {
    "duration": 251,
    "start_time": "2022-07-23T20:51:14.485Z"
   },
   {
    "duration": 1429,
    "start_time": "2022-07-23T20:51:14.738Z"
   },
   {
    "duration": 55,
    "start_time": "2022-07-23T20:51:16.169Z"
   },
   {
    "duration": 356,
    "start_time": "2022-07-23T20:51:16.227Z"
   },
   {
    "duration": 26311,
    "start_time": "2022-07-23T20:51:16.585Z"
   },
   {
    "duration": 91,
    "start_time": "2022-07-23T21:15:32.150Z"
   },
   {
    "duration": 220,
    "start_time": "2022-07-23T21:15:40.040Z"
   },
   {
    "duration": 1182,
    "start_time": "2022-07-23T21:16:03.142Z"
   },
   {
    "duration": 1387,
    "start_time": "2022-07-23T21:16:53.135Z"
   },
   {
    "duration": 1263,
    "start_time": "2022-07-23T21:18:02.925Z"
   },
   {
    "duration": 1253,
    "start_time": "2022-07-23T21:18:39.393Z"
   },
   {
    "duration": 1204,
    "start_time": "2022-07-23T21:19:58.834Z"
   },
   {
    "duration": 1163,
    "start_time": "2022-07-23T21:20:15.073Z"
   },
   {
    "duration": 1189,
    "start_time": "2022-07-23T21:20:47.229Z"
   },
   {
    "duration": 1223,
    "start_time": "2022-07-23T21:25:01.405Z"
   },
   {
    "duration": 151,
    "start_time": "2022-07-23T21:28:21.038Z"
   },
   {
    "duration": 146,
    "start_time": "2022-07-23T21:29:23.454Z"
   },
   {
    "duration": 154,
    "start_time": "2022-07-23T21:30:09.874Z"
   },
   {
    "duration": 1092,
    "start_time": "2022-07-23T21:33:06.571Z"
   },
   {
    "duration": 1217,
    "start_time": "2022-07-23T21:33:30.412Z"
   },
   {
    "duration": 1238,
    "start_time": "2022-07-23T21:35:27.334Z"
   },
   {
    "duration": 1007,
    "start_time": "2022-07-23T21:37:00.969Z"
   },
   {
    "duration": 180,
    "start_time": "2022-07-23T21:37:15.144Z"
   },
   {
    "duration": 1163,
    "start_time": "2022-07-23T21:37:53.467Z"
   },
   {
    "duration": 1260,
    "start_time": "2022-07-23T21:38:35.870Z"
   },
   {
    "duration": 1122,
    "start_time": "2022-07-23T21:41:41.804Z"
   },
   {
    "duration": 1917,
    "start_time": "2022-07-23T21:42:28.587Z"
   },
   {
    "duration": 4,
    "start_time": "2022-07-23T21:42:30.507Z"
   },
   {
    "duration": 265,
    "start_time": "2022-07-23T21:42:30.515Z"
   },
   {
    "duration": 1328,
    "start_time": "2022-07-23T21:42:30.782Z"
   },
   {
    "duration": 54,
    "start_time": "2022-07-23T21:42:32.112Z"
   },
   {
    "duration": 291,
    "start_time": "2022-07-23T21:42:32.168Z"
   },
   {
    "duration": 26902,
    "start_time": "2022-07-23T21:42:32.461Z"
   },
   {
    "duration": 1970,
    "start_time": "2022-07-23T21:45:11.858Z"
   },
   {
    "duration": 4,
    "start_time": "2022-07-23T21:45:13.830Z"
   },
   {
    "duration": 266,
    "start_time": "2022-07-23T21:45:13.835Z"
   },
   {
    "duration": 1475,
    "start_time": "2022-07-23T21:45:14.103Z"
   },
   {
    "duration": 50,
    "start_time": "2022-07-23T21:45:15.580Z"
   },
   {
    "duration": 334,
    "start_time": "2022-07-23T21:45:15.632Z"
   },
   {
    "duration": 28278,
    "start_time": "2022-07-23T21:45:15.969Z"
   },
   {
    "duration": 2130,
    "start_time": "2022-07-23T21:46:34.407Z"
   },
   {
    "duration": 4,
    "start_time": "2022-07-23T21:46:36.539Z"
   },
   {
    "duration": 262,
    "start_time": "2022-07-23T21:46:36.545Z"
   },
   {
    "duration": 1488,
    "start_time": "2022-07-23T21:46:36.810Z"
   },
   {
    "duration": 46,
    "start_time": "2022-07-23T21:46:38.299Z"
   },
   {
    "duration": 348,
    "start_time": "2022-07-23T21:46:38.346Z"
   },
   {
    "duration": 27254,
    "start_time": "2022-07-23T21:46:38.696Z"
   },
   {
    "duration": 1048,
    "start_time": "2022-07-23T21:48:25.591Z"
   },
   {
    "duration": 2005,
    "start_time": "2022-07-23T21:49:05.135Z"
   },
   {
    "duration": 4,
    "start_time": "2022-07-23T21:49:07.142Z"
   },
   {
    "duration": 246,
    "start_time": "2022-07-23T21:49:07.147Z"
   },
   {
    "duration": 1295,
    "start_time": "2022-07-23T21:49:07.395Z"
   },
   {
    "duration": 52,
    "start_time": "2022-07-23T21:49:08.692Z"
   },
   {
    "duration": 320,
    "start_time": "2022-07-23T21:49:08.745Z"
   },
   {
    "duration": 25270,
    "start_time": "2022-07-23T21:49:09.067Z"
   },
   {
    "duration": 1129,
    "start_time": "2022-07-23T21:51:41.593Z"
   },
   {
    "duration": 1348,
    "start_time": "2022-07-23T21:53:59.661Z"
   },
   {
    "duration": 1240,
    "start_time": "2022-07-23T21:57:22.264Z"
   },
   {
    "duration": 1238,
    "start_time": "2022-07-23T21:59:02.694Z"
   },
   {
    "duration": 1123,
    "start_time": "2022-07-23T21:59:45.144Z"
   },
   {
    "duration": 1240,
    "start_time": "2022-07-23T22:01:57.431Z"
   },
   {
    "duration": 1228,
    "start_time": "2022-07-23T22:07:55.005Z"
   },
   {
    "duration": 1987,
    "start_time": "2022-07-23T22:09:35.281Z"
   },
   {
    "duration": 4,
    "start_time": "2022-07-23T22:09:37.270Z"
   },
   {
    "duration": 225,
    "start_time": "2022-07-23T22:09:37.275Z"
   },
   {
    "duration": 1338,
    "start_time": "2022-07-23T22:09:37.502Z"
   },
   {
    "duration": 65,
    "start_time": "2022-07-23T22:09:38.842Z"
   },
   {
    "duration": 75,
    "start_time": "2022-07-23T22:09:38.908Z"
   },
   {
    "duration": 9964,
    "start_time": "2022-07-23T22:09:38.985Z"
   },
   {
    "duration": 2018,
    "start_time": "2022-07-23T22:11:27.629Z"
   },
   {
    "duration": 4,
    "start_time": "2022-07-23T22:11:29.649Z"
   },
   {
    "duration": 231,
    "start_time": "2022-07-23T22:11:29.660Z"
   },
   {
    "duration": 1412,
    "start_time": "2022-07-23T22:11:29.893Z"
   },
   {
    "duration": 63,
    "start_time": "2022-07-23T22:11:31.307Z"
   },
   {
    "duration": 64,
    "start_time": "2022-07-23T22:11:31.371Z"
   },
   {
    "duration": 10189,
    "start_time": "2022-07-23T22:11:31.437Z"
   },
   {
    "duration": 1824,
    "start_time": "2022-07-23T22:12:29.196Z"
   },
   {
    "duration": 4,
    "start_time": "2022-07-23T22:12:31.022Z"
   },
   {
    "duration": 222,
    "start_time": "2022-07-23T22:12:31.027Z"
   },
   {
    "duration": 1295,
    "start_time": "2022-07-23T22:12:31.252Z"
   },
   {
    "duration": 59,
    "start_time": "2022-07-23T22:12:32.549Z"
   },
   {
    "duration": 270,
    "start_time": "2022-07-23T22:12:32.610Z"
   },
   {
    "duration": 24268,
    "start_time": "2022-07-23T22:12:32.882Z"
   },
   {
    "duration": 1097,
    "start_time": "2022-07-23T22:13:57.547Z"
   },
   {
    "duration": 1413,
    "start_time": "2022-07-23T22:21:09.755Z"
   },
   {
    "duration": 1226,
    "start_time": "2022-07-23T22:22:45.042Z"
   },
   {
    "duration": 223,
    "start_time": "2022-07-23T22:24:32.898Z"
   },
   {
    "duration": 213,
    "start_time": "2022-07-23T22:24:52.752Z"
   },
   {
    "duration": 1198,
    "start_time": "2022-07-23T22:25:31.608Z"
   },
   {
    "duration": 1106,
    "start_time": "2022-07-23T22:27:20.417Z"
   },
   {
    "duration": 1224,
    "start_time": "2022-07-23T22:27:39.755Z"
   },
   {
    "duration": 1895,
    "start_time": "2022-07-23T22:32:44.425Z"
   },
   {
    "duration": 5,
    "start_time": "2022-07-23T22:32:46.323Z"
   },
   {
    "duration": 249,
    "start_time": "2022-07-23T22:32:46.329Z"
   },
   {
    "duration": 1302,
    "start_time": "2022-07-23T22:32:46.580Z"
   },
   {
    "duration": 46,
    "start_time": "2022-07-23T22:32:47.884Z"
   },
   {
    "duration": 258,
    "start_time": "2022-07-23T22:32:47.932Z"
   },
   {
    "duration": 24063,
    "start_time": "2022-07-23T22:32:48.192Z"
   },
   {
    "duration": 1119,
    "start_time": "2022-07-23T22:36:34.689Z"
   },
   {
    "duration": 1387,
    "start_time": "2022-07-23T22:48:09.623Z"
   },
   {
    "duration": 1868,
    "start_time": "2022-07-23T22:48:25.488Z"
   },
   {
    "duration": 4,
    "start_time": "2022-07-23T22:48:27.358Z"
   },
   {
    "duration": 216,
    "start_time": "2022-07-23T22:48:27.364Z"
   },
   {
    "duration": 1298,
    "start_time": "2022-07-23T22:48:27.582Z"
   },
   {
    "duration": 47,
    "start_time": "2022-07-23T22:48:28.883Z"
   },
   {
    "duration": 254,
    "start_time": "2022-07-23T22:48:28.931Z"
   },
   {
    "duration": 23603,
    "start_time": "2022-07-23T22:48:29.187Z"
   },
   {
    "duration": 1101,
    "start_time": "2022-07-23T22:51:39.595Z"
   },
   {
    "duration": 1392,
    "start_time": "2022-07-23T22:52:16.040Z"
   },
   {
    "duration": 1208,
    "start_time": "2022-07-23T22:52:38.271Z"
   },
   {
    "duration": 1086,
    "start_time": "2022-07-23T22:58:55.939Z"
   },
   {
    "duration": 1167,
    "start_time": "2022-07-23T22:59:16.642Z"
   },
   {
    "duration": 1169,
    "start_time": "2022-07-23T22:59:24.488Z"
   },
   {
    "duration": 1146,
    "start_time": "2022-07-23T23:01:16.679Z"
   },
   {
    "duration": 1796,
    "start_time": "2022-07-23T23:02:26.085Z"
   },
   {
    "duration": 3,
    "start_time": "2022-07-23T23:02:27.883Z"
   },
   {
    "duration": 211,
    "start_time": "2022-07-23T23:02:27.888Z"
   },
   {
    "duration": 1147,
    "start_time": "2022-07-23T23:02:28.101Z"
   },
   {
    "duration": 54,
    "start_time": "2022-07-23T23:02:29.250Z"
   },
   {
    "duration": 254,
    "start_time": "2022-07-23T23:02:29.306Z"
   },
   {
    "duration": 12374,
    "start_time": "2022-07-23T23:02:29.562Z"
   },
   {
    "duration": 1002,
    "start_time": "2022-07-23T23:03:06.909Z"
   },
   {
    "duration": 1184,
    "start_time": "2022-07-23T23:04:44.334Z"
   },
   {
    "duration": 956,
    "start_time": "2022-07-23T23:04:57.948Z"
   },
   {
    "duration": 1045,
    "start_time": "2022-07-23T23:07:39.136Z"
   },
   {
    "duration": 1034,
    "start_time": "2022-07-23T23:11:53.179Z"
   },
   {
    "duration": 1067,
    "start_time": "2022-07-23T23:14:26.203Z"
   },
   {
    "duration": 1840,
    "start_time": "2022-07-23T23:14:36.853Z"
   },
   {
    "duration": 4,
    "start_time": "2022-07-23T23:14:38.695Z"
   },
   {
    "duration": 240,
    "start_time": "2022-07-23T23:14:38.700Z"
   },
   {
    "duration": 249,
    "start_time": "2022-07-23T23:14:38.942Z"
   },
   {
    "duration": 0,
    "start_time": "2022-07-23T23:14:39.193Z"
   },
   {
    "duration": 0,
    "start_time": "2022-07-23T23:14:39.194Z"
   },
   {
    "duration": 0,
    "start_time": "2022-07-23T23:14:39.195Z"
   },
   {
    "duration": 1191,
    "start_time": "2022-07-23T23:19:15.641Z"
   },
   {
    "duration": 220,
    "start_time": "2022-07-23T23:35:18.624Z"
   },
   {
    "duration": 1015,
    "start_time": "2022-07-23T23:38:36.453Z"
   },
   {
    "duration": 1038,
    "start_time": "2022-07-23T23:38:58.658Z"
   },
   {
    "duration": 1820,
    "start_time": "2022-07-23T23:40:41.260Z"
   },
   {
    "duration": 4,
    "start_time": "2022-07-23T23:40:43.081Z"
   },
   {
    "duration": 219,
    "start_time": "2022-07-23T23:40:43.087Z"
   },
   {
    "duration": 1139,
    "start_time": "2022-07-23T23:40:43.308Z"
   },
   {
    "duration": 55,
    "start_time": "2022-07-23T23:40:44.449Z"
   },
   {
    "duration": 294,
    "start_time": "2022-07-23T23:40:44.506Z"
   },
   {
    "duration": 1,
    "start_time": "2022-07-23T23:40:44.801Z"
   },
   {
    "duration": 380,
    "start_time": "2022-07-23T23:42:24.271Z"
   },
   {
    "duration": 1161,
    "start_time": "2022-07-23T23:43:18.846Z"
   },
   {
    "duration": 1173,
    "start_time": "2022-07-23T23:43:41.741Z"
   },
   {
    "duration": 291,
    "start_time": "2022-07-23T23:44:34.545Z"
   },
   {
    "duration": 1939,
    "start_time": "2022-07-23T23:46:08.251Z"
   },
   {
    "duration": 4,
    "start_time": "2022-07-23T23:46:10.192Z"
   },
   {
    "duration": 221,
    "start_time": "2022-07-23T23:46:10.197Z"
   },
   {
    "duration": 1198,
    "start_time": "2022-07-23T23:46:10.420Z"
   },
   {
    "duration": 55,
    "start_time": "2022-07-23T23:46:11.620Z"
   },
   {
    "duration": 289,
    "start_time": "2022-07-23T23:46:11.677Z"
   },
   {
    "duration": 0,
    "start_time": "2022-07-23T23:46:11.967Z"
   },
   {
    "duration": 213,
    "start_time": "2022-07-23T23:47:54.569Z"
   },
   {
    "duration": 273,
    "start_time": "2022-07-23T23:48:25.697Z"
   },
   {
    "duration": 164,
    "start_time": "2022-07-23T23:52:57.652Z"
   },
   {
    "duration": 999,
    "start_time": "2022-07-23T23:54:08.010Z"
   },
   {
    "duration": 291,
    "start_time": "2022-07-23T23:54:15.682Z"
   },
   {
    "duration": 237,
    "start_time": "2022-07-23T23:55:04.145Z"
   },
   {
    "duration": 1064,
    "start_time": "2022-07-24T00:01:17.540Z"
   },
   {
    "duration": 1873,
    "start_time": "2022-07-24T00:01:27.262Z"
   },
   {
    "duration": 4,
    "start_time": "2022-07-24T00:01:29.136Z"
   },
   {
    "duration": 247,
    "start_time": "2022-07-24T00:01:29.141Z"
   },
   {
    "duration": 1170,
    "start_time": "2022-07-24T00:01:29.391Z"
   },
   {
    "duration": 46,
    "start_time": "2022-07-24T00:01:30.562Z"
   },
   {
    "duration": 300,
    "start_time": "2022-07-24T00:01:30.610Z"
   },
   {
    "duration": 12827,
    "start_time": "2022-07-24T00:01:30.913Z"
   },
   {
    "duration": 1904,
    "start_time": "2022-07-24T00:04:13.715Z"
   },
   {
    "duration": 4,
    "start_time": "2022-07-24T00:04:15.622Z"
   },
   {
    "duration": 228,
    "start_time": "2022-07-24T00:04:15.627Z"
   },
   {
    "duration": 1206,
    "start_time": "2022-07-24T00:04:15.857Z"
   },
   {
    "duration": 47,
    "start_time": "2022-07-24T00:04:17.066Z"
   },
   {
    "duration": 303,
    "start_time": "2022-07-24T00:04:17.115Z"
   },
   {
    "duration": 12842,
    "start_time": "2022-07-24T00:04:17.420Z"
   },
   {
    "duration": 1832,
    "start_time": "2022-07-24T00:05:49.086Z"
   },
   {
    "duration": 4,
    "start_time": "2022-07-24T00:05:50.920Z"
   },
   {
    "duration": 220,
    "start_time": "2022-07-24T00:05:50.925Z"
   },
   {
    "duration": 1159,
    "start_time": "2022-07-24T00:05:51.147Z"
   },
   {
    "duration": 55,
    "start_time": "2022-07-24T00:05:52.308Z"
   },
   {
    "duration": 291,
    "start_time": "2022-07-24T00:05:52.364Z"
   },
   {
    "duration": 12914,
    "start_time": "2022-07-24T00:05:52.656Z"
   },
   {
    "duration": 1921,
    "start_time": "2022-07-24T00:06:15.383Z"
   },
   {
    "duration": 4,
    "start_time": "2022-07-24T00:06:17.306Z"
   },
   {
    "duration": 229,
    "start_time": "2022-07-24T00:06:17.311Z"
   },
   {
    "duration": 1179,
    "start_time": "2022-07-24T00:06:17.542Z"
   },
   {
    "duration": 58,
    "start_time": "2022-07-24T00:06:18.723Z"
   },
   {
    "duration": 332,
    "start_time": "2022-07-24T00:06:18.783Z"
   },
   {
    "duration": 13866,
    "start_time": "2022-07-24T00:06:19.117Z"
   },
   {
    "duration": 1893,
    "start_time": "2022-07-24T00:10:01.608Z"
   },
   {
    "duration": 4,
    "start_time": "2022-07-24T00:10:03.503Z"
   },
   {
    "duration": 223,
    "start_time": "2022-07-24T00:10:03.508Z"
   },
   {
    "duration": 1178,
    "start_time": "2022-07-24T00:10:03.733Z"
   },
   {
    "duration": 57,
    "start_time": "2022-07-24T00:10:04.913Z"
   },
   {
    "duration": 355,
    "start_time": "2022-07-24T00:10:04.971Z"
   },
   {
    "duration": 5401,
    "start_time": "2022-07-24T00:10:05.328Z"
   },
   {
    "duration": 1084,
    "start_time": "2022-07-24T00:11:03.145Z"
   },
   {
    "duration": 1915,
    "start_time": "2022-07-24T00:11:09.442Z"
   },
   {
    "duration": 3,
    "start_time": "2022-07-24T00:11:11.360Z"
   },
   {
    "duration": 223,
    "start_time": "2022-07-24T00:11:11.364Z"
   },
   {
    "duration": 1171,
    "start_time": "2022-07-24T00:11:11.589Z"
   },
   {
    "duration": 49,
    "start_time": "2022-07-24T00:11:12.762Z"
   },
   {
    "duration": 343,
    "start_time": "2022-07-24T00:11:12.812Z"
   },
   {
    "duration": 5425,
    "start_time": "2022-07-24T00:11:13.156Z"
   },
   {
    "duration": 1271,
    "start_time": "2022-07-24T00:12:04.761Z"
   },
   {
    "duration": 1938,
    "start_time": "2022-07-24T00:14:01.136Z"
   },
   {
    "duration": 4,
    "start_time": "2022-07-24T00:14:03.076Z"
   },
   {
    "duration": 222,
    "start_time": "2022-07-24T00:14:03.082Z"
   },
   {
    "duration": 1171,
    "start_time": "2022-07-24T00:14:03.305Z"
   },
   {
    "duration": 46,
    "start_time": "2022-07-24T00:14:04.479Z"
   },
   {
    "duration": 305,
    "start_time": "2022-07-24T00:14:04.526Z"
   },
   {
    "duration": 5117,
    "start_time": "2022-07-24T00:14:04.832Z"
   },
   {
    "duration": 1089,
    "start_time": "2022-07-24T00:15:06.309Z"
   },
   {
    "duration": 1941,
    "start_time": "2022-07-24T00:21:09.766Z"
   },
   {
    "duration": 4,
    "start_time": "2022-07-24T00:21:11.709Z"
   },
   {
    "duration": 227,
    "start_time": "2022-07-24T00:21:11.714Z"
   },
   {
    "duration": 1190,
    "start_time": "2022-07-24T00:21:11.943Z"
   },
   {
    "duration": 56,
    "start_time": "2022-07-24T00:21:13.135Z"
   },
   {
    "duration": 303,
    "start_time": "2022-07-24T00:21:13.193Z"
   },
   {
    "duration": 12746,
    "start_time": "2022-07-24T00:21:13.498Z"
   },
   {
    "duration": 661,
    "start_time": "2022-07-24T00:23:15.988Z"
   },
   {
    "duration": 471,
    "start_time": "2022-07-24T00:24:33.179Z"
   },
   {
    "duration": 543,
    "start_time": "2022-07-24T00:25:09.538Z"
   },
   {
    "duration": 435,
    "start_time": "2022-07-24T00:25:32.114Z"
   },
   {
    "duration": 531,
    "start_time": "2022-07-24T00:25:54.738Z"
   },
   {
    "duration": 457,
    "start_time": "2022-07-24T00:26:00.594Z"
   },
   {
    "duration": 529,
    "start_time": "2022-07-24T00:26:13.217Z"
   },
   {
    "duration": 444,
    "start_time": "2022-07-24T00:26:23.897Z"
   },
   {
    "duration": 504,
    "start_time": "2022-07-24T00:26:31.881Z"
   },
   {
    "duration": 421,
    "start_time": "2022-07-24T00:26:45.801Z"
   },
   {
    "duration": 433,
    "start_time": "2022-07-24T00:27:08.576Z"
   },
   {
    "duration": 363,
    "start_time": "2022-07-24T00:28:01.207Z"
   },
   {
    "duration": 253,
    "start_time": "2022-07-24T00:29:29.265Z"
   },
   {
    "duration": 273,
    "start_time": "2022-07-24T00:30:16.594Z"
   },
   {
    "duration": 321,
    "start_time": "2022-07-24T00:30:26.341Z"
   },
   {
    "duration": 237,
    "start_time": "2022-07-24T00:31:10.156Z"
   },
   {
    "duration": 1882,
    "start_time": "2022-07-24T00:31:53.157Z"
   },
   {
    "duration": 4,
    "start_time": "2022-07-24T00:31:55.041Z"
   },
   {
    "duration": 245,
    "start_time": "2022-07-24T00:31:55.047Z"
   },
   {
    "duration": 252,
    "start_time": "2022-07-24T00:31:55.294Z"
   },
   {
    "duration": 53,
    "start_time": "2022-07-24T00:31:55.548Z"
   },
   {
    "duration": 285,
    "start_time": "2022-07-24T00:31:55.602Z"
   },
   {
    "duration": 12767,
    "start_time": "2022-07-24T00:31:55.889Z"
   },
   {
    "duration": 202,
    "start_time": "2022-07-24T00:33:52.437Z"
   },
   {
    "duration": 1995,
    "start_time": "2022-07-24T00:35:17.475Z"
   },
   {
    "duration": 6,
    "start_time": "2022-07-24T00:35:19.471Z"
   },
   {
    "duration": 245,
    "start_time": "2022-07-24T00:35:19.478Z"
   },
   {
    "duration": 214,
    "start_time": "2022-07-24T00:35:19.725Z"
   },
   {
    "duration": 0,
    "start_time": "2022-07-24T00:35:19.941Z"
   },
   {
    "duration": 0,
    "start_time": "2022-07-24T00:35:19.942Z"
   },
   {
    "duration": 0,
    "start_time": "2022-07-24T00:35:19.944Z"
   },
   {
    "duration": 1897,
    "start_time": "2022-07-24T00:35:56.947Z"
   },
   {
    "duration": 4,
    "start_time": "2022-07-24T00:35:58.845Z"
   },
   {
    "duration": 229,
    "start_time": "2022-07-24T00:35:58.851Z"
   },
   {
    "duration": 227,
    "start_time": "2022-07-24T00:35:59.082Z"
   },
   {
    "duration": 53,
    "start_time": "2022-07-24T00:35:59.311Z"
   },
   {
    "duration": 50,
    "start_time": "2022-07-24T00:35:59.365Z"
   },
   {
    "duration": 8675,
    "start_time": "2022-07-24T00:35:59.417Z"
   },
   {
    "duration": 378,
    "start_time": "2022-07-24T00:44:06.055Z"
   },
   {
    "duration": 174,
    "start_time": "2022-07-24T00:44:39.863Z"
   },
   {
    "duration": 180,
    "start_time": "2022-07-24T00:45:02.110Z"
   },
   {
    "duration": 1873,
    "start_time": "2022-07-24T00:45:21.311Z"
   },
   {
    "duration": 3,
    "start_time": "2022-07-24T00:45:23.186Z"
   },
   {
    "duration": 220,
    "start_time": "2022-07-24T00:45:23.190Z"
   },
   {
    "duration": 217,
    "start_time": "2022-07-24T00:45:23.412Z"
   },
   {
    "duration": 54,
    "start_time": "2022-07-24T00:45:23.631Z"
   },
   {
    "duration": 281,
    "start_time": "2022-07-24T00:45:23.687Z"
   },
   {
    "duration": 12881,
    "start_time": "2022-07-24T00:45:23.970Z"
   },
   {
    "duration": 204,
    "start_time": "2022-07-24T00:46:11.334Z"
   },
   {
    "duration": 1836,
    "start_time": "2022-07-24T00:46:20.310Z"
   },
   {
    "duration": 4,
    "start_time": "2022-07-24T00:46:22.148Z"
   },
   {
    "duration": 235,
    "start_time": "2022-07-24T00:46:22.153Z"
   },
   {
    "duration": 226,
    "start_time": "2022-07-24T00:46:22.390Z"
   },
   {
    "duration": 54,
    "start_time": "2022-07-24T00:46:22.618Z"
   },
   {
    "duration": 288,
    "start_time": "2022-07-24T00:46:22.674Z"
   },
   {
    "duration": 12702,
    "start_time": "2022-07-24T00:46:22.964Z"
   },
   {
    "duration": 1845,
    "start_time": "2022-07-24T00:46:57.020Z"
   },
   {
    "duration": 4,
    "start_time": "2022-07-24T00:46:58.867Z"
   },
   {
    "duration": 215,
    "start_time": "2022-07-24T00:46:58.875Z"
   },
   {
    "duration": 221,
    "start_time": "2022-07-24T00:46:59.091Z"
   },
   {
    "duration": 53,
    "start_time": "2022-07-24T00:46:59.314Z"
   },
   {
    "duration": 288,
    "start_time": "2022-07-24T00:46:59.368Z"
   },
   {
    "duration": 13123,
    "start_time": "2022-07-24T00:46:59.661Z"
   },
   {
    "duration": 211,
    "start_time": "2022-07-24T00:47:14.074Z"
   },
   {
    "duration": 278,
    "start_time": "2022-07-24T00:47:20.588Z"
   },
   {
    "duration": 12348,
    "start_time": "2022-07-24T00:47:30.708Z"
   },
   {
    "duration": 12187,
    "start_time": "2022-07-24T00:48:01.257Z"
   },
   {
    "duration": 1851,
    "start_time": "2022-07-24T00:50:39.483Z"
   },
   {
    "duration": 4,
    "start_time": "2022-07-24T00:50:41.337Z"
   },
   {
    "duration": 219,
    "start_time": "2022-07-24T00:50:41.344Z"
   },
   {
    "duration": 236,
    "start_time": "2022-07-24T00:50:41.565Z"
   },
   {
    "duration": 47,
    "start_time": "2022-07-24T00:50:41.802Z"
   },
   {
    "duration": 291,
    "start_time": "2022-07-24T00:50:41.851Z"
   },
   {
    "duration": 12793,
    "start_time": "2022-07-24T00:50:42.144Z"
   },
   {
    "duration": 0,
    "start_time": "2022-07-24T00:52:54.967Z"
   },
   {
    "duration": 12104,
    "start_time": "2022-07-24T00:52:56.956Z"
   },
   {
    "duration": 0,
    "start_time": "2022-07-24T00:53:29.261Z"
   },
   {
    "duration": 12154,
    "start_time": "2022-07-24T00:53:40.772Z"
   },
   {
    "duration": 16435,
    "start_time": "2022-07-24T00:55:23.483Z"
   },
   {
    "duration": 208,
    "start_time": "2022-07-24T00:56:13.571Z"
   },
   {
    "duration": 11810,
    "start_time": "2022-07-24T00:57:22.288Z"
   },
   {
    "duration": 16426,
    "start_time": "2022-07-24T00:57:50.720Z"
   },
   {
    "duration": 159,
    "start_time": "2022-07-24T01:00:04.164Z"
   },
   {
    "duration": 159,
    "start_time": "2022-07-24T01:00:21.548Z"
   },
   {
    "duration": 201,
    "start_time": "2022-07-24T01:00:43.147Z"
   },
   {
    "duration": 205,
    "start_time": "2022-07-24T01:01:51.764Z"
   },
   {
    "duration": 208,
    "start_time": "2022-07-24T01:02:14.546Z"
   },
   {
    "duration": 211,
    "start_time": "2022-07-24T01:02:41.258Z"
   },
   {
    "duration": 24503,
    "start_time": "2022-07-24T01:02:58.685Z"
   },
   {
    "duration": 1883,
    "start_time": "2022-07-24T01:06:30.347Z"
   },
   {
    "duration": 3,
    "start_time": "2022-07-24T01:06:32.232Z"
   },
   {
    "duration": 214,
    "start_time": "2022-07-24T01:06:32.237Z"
   },
   {
    "duration": 223,
    "start_time": "2022-07-24T01:06:32.454Z"
   },
   {
    "duration": 46,
    "start_time": "2022-07-24T01:06:32.679Z"
   },
   {
    "duration": 296,
    "start_time": "2022-07-24T01:06:32.726Z"
   },
   {
    "duration": 24834,
    "start_time": "2022-07-24T01:06:33.024Z"
   },
   {
    "duration": 1888,
    "start_time": "2022-07-24T01:07:32.577Z"
   },
   {
    "duration": 3,
    "start_time": "2022-07-24T01:07:34.467Z"
   },
   {
    "duration": 233,
    "start_time": "2022-07-24T01:07:34.472Z"
   },
   {
    "duration": 219,
    "start_time": "2022-07-24T01:07:34.707Z"
   },
   {
    "duration": 55,
    "start_time": "2022-07-24T01:07:34.927Z"
   },
   {
    "duration": 289,
    "start_time": "2022-07-24T01:07:34.984Z"
   },
   {
    "duration": 25108,
    "start_time": "2022-07-24T01:07:35.275Z"
   },
   {
    "duration": 1912,
    "start_time": "2022-07-24T01:22:05.693Z"
   },
   {
    "duration": 3,
    "start_time": "2022-07-24T01:22:07.607Z"
   },
   {
    "duration": 219,
    "start_time": "2022-07-24T01:22:07.612Z"
   },
   {
    "duration": 215,
    "start_time": "2022-07-24T01:22:07.833Z"
   },
   {
    "duration": 56,
    "start_time": "2022-07-24T01:22:08.049Z"
   },
   {
    "duration": 299,
    "start_time": "2022-07-24T01:22:08.106Z"
   },
   {
    "duration": 24990,
    "start_time": "2022-07-24T01:22:08.407Z"
   },
   {
    "duration": 1850,
    "start_time": "2022-07-24T01:37:19.293Z"
   },
   {
    "duration": 4,
    "start_time": "2022-07-24T01:37:21.145Z"
   },
   {
    "duration": 220,
    "start_time": "2022-07-24T01:37:21.160Z"
   },
   {
    "duration": 116,
    "start_time": "2022-07-24T01:37:21.383Z"
   },
   {
    "duration": 0,
    "start_time": "2022-07-24T01:37:21.501Z"
   },
   {
    "duration": 0,
    "start_time": "2022-07-24T01:37:21.502Z"
   },
   {
    "duration": 0,
    "start_time": "2022-07-24T01:37:21.503Z"
   },
   {
    "duration": 1788,
    "start_time": "2022-07-24T01:37:51.015Z"
   },
   {
    "duration": 4,
    "start_time": "2022-07-24T01:37:52.804Z"
   },
   {
    "duration": 215,
    "start_time": "2022-07-24T01:37:52.810Z"
   },
   {
    "duration": 215,
    "start_time": "2022-07-24T01:37:53.027Z"
   },
   {
    "duration": 59,
    "start_time": "2022-07-24T01:37:53.244Z"
   },
   {
    "duration": 201,
    "start_time": "2022-07-24T01:37:53.304Z"
   },
   {
    "duration": 20340,
    "start_time": "2022-07-24T01:37:53.507Z"
   },
   {
    "duration": 1910,
    "start_time": "2022-07-24T01:39:58.031Z"
   },
   {
    "duration": 4,
    "start_time": "2022-07-24T01:39:59.943Z"
   },
   {
    "duration": 223,
    "start_time": "2022-07-24T01:39:59.949Z"
   },
   {
    "duration": 224,
    "start_time": "2022-07-24T01:40:00.175Z"
   },
   {
    "duration": 47,
    "start_time": "2022-07-24T01:40:00.400Z"
   },
   {
    "duration": 227,
    "start_time": "2022-07-24T01:40:00.448Z"
   },
   {
    "duration": 21318,
    "start_time": "2022-07-24T01:40:00.678Z"
   },
   {
    "duration": 1887,
    "start_time": "2022-07-24T01:41:00.191Z"
   },
   {
    "duration": 4,
    "start_time": "2022-07-24T01:41:02.080Z"
   },
   {
    "duration": 228,
    "start_time": "2022-07-24T01:41:02.085Z"
   },
   {
    "duration": 211,
    "start_time": "2022-07-24T01:41:02.315Z"
   },
   {
    "duration": 55,
    "start_time": "2022-07-24T01:41:02.528Z"
   },
   {
    "duration": 52,
    "start_time": "2022-07-24T01:41:02.584Z"
   },
   {
    "duration": 8554,
    "start_time": "2022-07-24T01:41:02.638Z"
   },
   {
    "duration": 1883,
    "start_time": "2022-07-24T01:42:22.360Z"
   },
   {
    "duration": 5,
    "start_time": "2022-07-24T01:42:24.244Z"
   },
   {
    "duration": 215,
    "start_time": "2022-07-24T01:42:24.250Z"
   },
   {
    "duration": 226,
    "start_time": "2022-07-24T01:42:24.467Z"
   },
   {
    "duration": 45,
    "start_time": "2022-07-24T01:42:24.695Z"
   },
   {
    "duration": 223,
    "start_time": "2022-07-24T01:42:24.742Z"
   },
   {
    "duration": 20747,
    "start_time": "2022-07-24T01:42:24.967Z"
   },
   {
    "duration": 1876,
    "start_time": "2022-07-24T01:44:25.787Z"
   },
   {
    "duration": 4,
    "start_time": "2022-07-24T01:44:27.665Z"
   },
   {
    "duration": 220,
    "start_time": "2022-07-24T01:44:27.670Z"
   },
   {
    "duration": 213,
    "start_time": "2022-07-24T01:44:27.893Z"
   },
   {
    "duration": 56,
    "start_time": "2022-07-24T01:44:28.108Z"
   },
   {
    "duration": 151,
    "start_time": "2022-07-24T01:44:28.165Z"
   },
   {
    "duration": 13406,
    "start_time": "2022-07-24T01:44:28.318Z"
   },
   {
    "duration": 1860,
    "start_time": "2022-07-24T01:45:57.441Z"
   },
   {
    "duration": 3,
    "start_time": "2022-07-24T01:45:59.303Z"
   },
   {
    "duration": 232,
    "start_time": "2022-07-24T01:45:59.308Z"
   },
   {
    "duration": 202,
    "start_time": "2022-07-24T01:45:59.542Z"
   },
   {
    "duration": 57,
    "start_time": "2022-07-24T01:45:59.746Z"
   },
   {
    "duration": 184,
    "start_time": "2022-07-24T01:45:59.804Z"
   },
   {
    "duration": 19400,
    "start_time": "2022-07-24T01:45:59.989Z"
   },
   {
    "duration": 1922,
    "start_time": "2022-07-24T01:47:10.730Z"
   },
   {
    "duration": 7,
    "start_time": "2022-07-24T01:47:12.654Z"
   },
   {
    "duration": 221,
    "start_time": "2022-07-24T01:47:12.663Z"
   },
   {
    "duration": 228,
    "start_time": "2022-07-24T01:47:12.886Z"
   },
   {
    "duration": 51,
    "start_time": "2022-07-24T01:47:13.116Z"
   },
   {
    "duration": 192,
    "start_time": "2022-07-24T01:47:13.169Z"
   },
   {
    "duration": 18996,
    "start_time": "2022-07-24T01:47:13.363Z"
   },
   {
    "duration": 1909,
    "start_time": "2022-07-24T01:47:49.093Z"
   },
   {
    "duration": 4,
    "start_time": "2022-07-24T01:47:51.004Z"
   },
   {
    "duration": 219,
    "start_time": "2022-07-24T01:47:51.009Z"
   },
   {
    "duration": 214,
    "start_time": "2022-07-24T01:47:51.230Z"
   },
   {
    "duration": 56,
    "start_time": "2022-07-24T01:47:51.446Z"
   },
   {
    "duration": 288,
    "start_time": "2022-07-24T01:47:51.503Z"
   },
   {
    "duration": 25049,
    "start_time": "2022-07-24T01:47:51.792Z"
   },
   {
    "duration": 191,
    "start_time": "2022-07-24T01:50:21.522Z"
   },
   {
    "duration": 1837,
    "start_time": "2022-07-24T01:50:42.024Z"
   },
   {
    "duration": 3,
    "start_time": "2022-07-24T01:50:43.863Z"
   },
   {
    "duration": 224,
    "start_time": "2022-07-24T01:50:43.868Z"
   },
   {
    "duration": 203,
    "start_time": "2022-07-24T01:50:44.095Z"
   },
   {
    "duration": 47,
    "start_time": "2022-07-24T01:50:44.299Z"
   },
   {
    "duration": 47,
    "start_time": "2022-07-24T01:50:44.348Z"
   },
   {
    "duration": 6607,
    "start_time": "2022-07-24T01:50:44.397Z"
   },
   {
    "duration": 183,
    "start_time": "2022-07-24T01:51:55.184Z"
   },
   {
    "duration": 1841,
    "start_time": "2022-07-24T01:52:00.413Z"
   },
   {
    "duration": 5,
    "start_time": "2022-07-24T01:52:02.256Z"
   },
   {
    "duration": 229,
    "start_time": "2022-07-24T01:52:02.263Z"
   },
   {
    "duration": 217,
    "start_time": "2022-07-24T01:52:02.495Z"
   },
   {
    "duration": 56,
    "start_time": "2022-07-24T01:52:02.714Z"
   },
   {
    "duration": 299,
    "start_time": "2022-07-24T01:52:02.772Z"
   },
   {
    "duration": 25194,
    "start_time": "2022-07-24T01:52:03.072Z"
   },
   {
    "duration": 2243,
    "start_time": "2022-07-24T09:03:44.898Z"
   },
   {
    "duration": 5,
    "start_time": "2022-07-24T09:03:47.146Z"
   },
   {
    "duration": 264,
    "start_time": "2022-07-24T09:03:47.152Z"
   },
   {
    "duration": 227,
    "start_time": "2022-07-24T09:03:47.419Z"
   },
   {
    "duration": 65,
    "start_time": "2022-07-24T09:03:47.647Z"
   },
   {
    "duration": 314,
    "start_time": "2022-07-24T09:03:47.714Z"
   },
   {
    "duration": 24672,
    "start_time": "2022-07-24T09:03:48.029Z"
   },
   {
    "duration": 2310,
    "start_time": "2022-07-24T09:08:42.760Z"
   },
   {
    "duration": 8,
    "start_time": "2022-07-24T09:08:45.072Z"
   },
   {
    "duration": 261,
    "start_time": "2022-07-24T09:08:45.088Z"
   },
   {
    "duration": 262,
    "start_time": "2022-07-24T09:08:45.352Z"
   },
   {
    "duration": 14,
    "start_time": "2022-07-24T09:08:45.615Z"
   },
   {
    "duration": 9,
    "start_time": "2022-07-24T09:08:45.630Z"
   },
   {
    "duration": 35,
    "start_time": "2022-07-24T09:08:45.641Z"
   },
   {
    "duration": 63,
    "start_time": "2022-07-24T09:08:45.679Z"
   },
   {
    "duration": 359,
    "start_time": "2022-07-24T09:08:45.744Z"
   },
   {
    "duration": 29053,
    "start_time": "2022-07-24T09:08:46.105Z"
   },
   {
    "duration": 14,
    "start_time": "2022-07-24T09:13:36.677Z"
   },
   {
    "duration": 360,
    "start_time": "2022-07-24T09:14:55.982Z"
   },
   {
    "duration": 111,
    "start_time": "2022-07-24T09:15:41.241Z"
   },
   {
    "duration": 18,
    "start_time": "2022-07-24T09:17:07.278Z"
   },
   {
    "duration": 9,
    "start_time": "2022-07-24T09:21:25.817Z"
   },
   {
    "duration": 2562,
    "start_time": "2022-07-24T09:37:11.337Z"
   },
   {
    "duration": 3,
    "start_time": "2022-07-24T09:37:13.901Z"
   },
   {
    "duration": 285,
    "start_time": "2022-07-24T09:37:13.906Z"
   },
   {
    "duration": 238,
    "start_time": "2022-07-24T09:37:14.194Z"
   },
   {
    "duration": 13,
    "start_time": "2022-07-24T09:37:14.434Z"
   },
   {
    "duration": 18,
    "start_time": "2022-07-24T09:37:14.460Z"
   },
   {
    "duration": 34,
    "start_time": "2022-07-24T09:37:14.481Z"
   },
   {
    "duration": 136,
    "start_time": "2022-07-24T09:37:14.516Z"
   },
   {
    "duration": 31,
    "start_time": "2022-07-24T09:37:14.654Z"
   },
   {
    "duration": 133,
    "start_time": "2022-07-24T09:37:14.689Z"
   },
   {
    "duration": 119,
    "start_time": "2022-07-24T09:37:14.824Z"
   },
   {
    "duration": 8,
    "start_time": "2022-07-24T09:37:14.944Z"
   },
   {
    "duration": 361,
    "start_time": "2022-07-24T09:37:14.953Z"
   },
   {
    "duration": 27138,
    "start_time": "2022-07-24T09:37:15.316Z"
   },
   {
    "duration": 56,
    "start_time": "2022-07-24T20:38:41.442Z"
   },
   {
    "duration": 2355,
    "start_time": "2022-07-24T20:39:16.401Z"
   },
   {
    "duration": 4,
    "start_time": "2022-07-24T20:39:19.960Z"
   },
   {
    "duration": 236,
    "start_time": "2022-07-24T20:39:21.264Z"
   },
   {
    "duration": 229,
    "start_time": "2022-07-24T20:39:27.597Z"
   },
   {
    "duration": 2092,
    "start_time": "2022-07-24T20:40:18.761Z"
   },
   {
    "duration": 9,
    "start_time": "2022-07-24T20:40:20.855Z"
   },
   {
    "duration": 247,
    "start_time": "2022-07-24T20:40:20.866Z"
   },
   {
    "duration": 238,
    "start_time": "2022-07-24T20:40:21.116Z"
   },
   {
    "duration": 23,
    "start_time": "2022-07-24T20:40:21.355Z"
   },
   {
    "duration": 12,
    "start_time": "2022-07-24T20:40:21.380Z"
   },
   {
    "duration": 24,
    "start_time": "2022-07-24T20:40:21.394Z"
   },
   {
    "duration": 325,
    "start_time": "2022-07-24T20:40:21.420Z"
   },
   {
    "duration": 18,
    "start_time": "2022-07-24T20:40:21.747Z"
   },
   {
    "duration": 108,
    "start_time": "2022-07-24T20:40:21.768Z"
   },
   {
    "duration": 52,
    "start_time": "2022-07-24T20:40:21.878Z"
   },
   {
    "duration": 9,
    "start_time": "2022-07-24T20:40:21.931Z"
   },
   {
    "duration": 335,
    "start_time": "2022-07-24T20:40:21.941Z"
   },
   {
    "duration": 25520,
    "start_time": "2022-07-24T20:40:22.279Z"
   },
   {
    "duration": 212,
    "start_time": "2022-07-24T20:56:16.581Z"
   },
   {
    "duration": 234,
    "start_time": "2022-07-24T20:57:20.260Z"
   },
   {
    "duration": 343,
    "start_time": "2022-07-24T20:59:04.249Z"
   },
   {
    "duration": 2102,
    "start_time": "2022-07-24T21:08:47.806Z"
   },
   {
    "duration": 6,
    "start_time": "2022-07-24T21:08:49.910Z"
   },
   {
    "duration": 269,
    "start_time": "2022-07-24T21:08:49.918Z"
   },
   {
    "duration": 288,
    "start_time": "2022-07-24T21:08:50.189Z"
   },
   {
    "duration": 18,
    "start_time": "2022-07-24T21:08:50.480Z"
   },
   {
    "duration": 12,
    "start_time": "2022-07-24T21:08:50.500Z"
   },
   {
    "duration": 16,
    "start_time": "2022-07-24T21:08:50.514Z"
   },
   {
    "duration": 129,
    "start_time": "2022-07-24T21:08:50.531Z"
   },
   {
    "duration": 27,
    "start_time": "2022-07-24T21:08:50.661Z"
   },
   {
    "duration": 123,
    "start_time": "2022-07-24T21:08:50.690Z"
   },
   {
    "duration": 73,
    "start_time": "2022-07-24T21:08:50.815Z"
   },
   {
    "duration": 11,
    "start_time": "2022-07-24T21:08:50.890Z"
   },
   {
    "duration": 315,
    "start_time": "2022-07-24T21:08:50.903Z"
   },
   {
    "duration": 26865,
    "start_time": "2022-07-24T21:08:51.221Z"
   },
   {
    "duration": 2051,
    "start_time": "2022-07-24T21:09:47.312Z"
   },
   {
    "duration": 5,
    "start_time": "2022-07-24T21:09:49.366Z"
   },
   {
    "duration": 247,
    "start_time": "2022-07-24T21:09:49.373Z"
   },
   {
    "duration": 244,
    "start_time": "2022-07-24T21:09:49.623Z"
   },
   {
    "duration": 17,
    "start_time": "2022-07-24T21:09:49.870Z"
   },
   {
    "duration": 10,
    "start_time": "2022-07-24T21:09:49.889Z"
   },
   {
    "duration": 19,
    "start_time": "2022-07-24T21:09:49.901Z"
   },
   {
    "duration": 165,
    "start_time": "2022-07-24T21:09:49.922Z"
   },
   {
    "duration": 19,
    "start_time": "2022-07-24T21:09:50.089Z"
   },
   {
    "duration": 118,
    "start_time": "2022-07-24T21:09:50.110Z"
   },
   {
    "duration": 63,
    "start_time": "2022-07-24T21:09:50.229Z"
   },
   {
    "duration": 9,
    "start_time": "2022-07-24T21:09:50.294Z"
   },
   {
    "duration": 347,
    "start_time": "2022-07-24T21:09:50.305Z"
   },
   {
    "duration": 27421,
    "start_time": "2022-07-24T21:09:50.655Z"
   },
   {
    "duration": 2157,
    "start_time": "2022-07-24T21:12:47.744Z"
   },
   {
    "duration": 4,
    "start_time": "2022-07-24T21:12:49.903Z"
   },
   {
    "duration": 261,
    "start_time": "2022-07-24T21:12:49.909Z"
   },
   {
    "duration": 252,
    "start_time": "2022-07-24T21:12:50.172Z"
   },
   {
    "duration": 17,
    "start_time": "2022-07-24T21:12:50.427Z"
   },
   {
    "duration": 28,
    "start_time": "2022-07-24T21:12:50.446Z"
   },
   {
    "duration": 14,
    "start_time": "2022-07-24T21:12:50.476Z"
   },
   {
    "duration": 122,
    "start_time": "2022-07-24T21:12:50.492Z"
   },
   {
    "duration": 19,
    "start_time": "2022-07-24T21:12:50.616Z"
   },
   {
    "duration": 123,
    "start_time": "2022-07-24T21:12:50.637Z"
   },
   {
    "duration": 56,
    "start_time": "2022-07-24T21:12:50.762Z"
   },
   {
    "duration": 10,
    "start_time": "2022-07-24T21:12:50.819Z"
   },
   {
    "duration": 340,
    "start_time": "2022-07-24T21:12:50.830Z"
   },
   {
    "duration": 27349,
    "start_time": "2022-07-24T21:12:51.174Z"
   },
   {
    "duration": 2131,
    "start_time": "2022-07-24T21:14:03.686Z"
   },
   {
    "duration": 4,
    "start_time": "2022-07-24T21:14:05.819Z"
   },
   {
    "duration": 250,
    "start_time": "2022-07-24T21:14:05.824Z"
   },
   {
    "duration": 259,
    "start_time": "2022-07-24T21:14:06.076Z"
   },
   {
    "duration": 15,
    "start_time": "2022-07-24T21:14:06.337Z"
   },
   {
    "duration": 15,
    "start_time": "2022-07-24T21:14:06.365Z"
   },
   {
    "duration": 33,
    "start_time": "2022-07-24T21:14:06.383Z"
   },
   {
    "duration": 144,
    "start_time": "2022-07-24T21:14:06.418Z"
   },
   {
    "duration": 21,
    "start_time": "2022-07-24T21:14:06.564Z"
   },
   {
    "duration": 136,
    "start_time": "2022-07-24T21:14:06.588Z"
   },
   {
    "duration": 90,
    "start_time": "2022-07-24T21:14:06.726Z"
   },
   {
    "duration": 13,
    "start_time": "2022-07-24T21:14:06.818Z"
   },
   {
    "duration": 397,
    "start_time": "2022-07-24T21:14:06.833Z"
   },
   {
    "duration": 6159,
    "start_time": "2022-07-24T21:14:07.232Z"
   },
   {
    "duration": 256,
    "start_time": "2022-07-24T21:14:16.044Z"
   },
   {
    "duration": 2147,
    "start_time": "2022-07-24T21:15:28.275Z"
   },
   {
    "duration": 4,
    "start_time": "2022-07-24T21:15:30.424Z"
   },
   {
    "duration": 291,
    "start_time": "2022-07-24T21:15:30.430Z"
   },
   {
    "duration": 260,
    "start_time": "2022-07-24T21:15:30.723Z"
   },
   {
    "duration": 14,
    "start_time": "2022-07-24T21:15:30.985Z"
   },
   {
    "duration": 11,
    "start_time": "2022-07-24T21:15:31.002Z"
   },
   {
    "duration": 28,
    "start_time": "2022-07-24T21:15:31.016Z"
   },
   {
    "duration": 131,
    "start_time": "2022-07-24T21:15:31.063Z"
   },
   {
    "duration": 27,
    "start_time": "2022-07-24T21:15:31.196Z"
   },
   {
    "duration": 124,
    "start_time": "2022-07-24T21:15:31.225Z"
   },
   {
    "duration": 65,
    "start_time": "2022-07-24T21:15:31.351Z"
   },
   {
    "duration": 10,
    "start_time": "2022-07-24T21:15:31.418Z"
   },
   {
    "duration": 313,
    "start_time": "2022-07-24T21:15:31.430Z"
   },
   {
    "duration": 27179,
    "start_time": "2022-07-24T21:15:31.746Z"
   },
   {
    "duration": 216,
    "start_time": "2022-07-24T21:18:16.610Z"
   },
   {
    "duration": 224,
    "start_time": "2022-07-24T21:21:02.064Z"
   },
   {
    "duration": 197,
    "start_time": "2022-07-24T21:32:34.291Z"
   },
   {
    "duration": 535,
    "start_time": "2022-07-24T21:38:19.944Z"
   },
   {
    "duration": 211,
    "start_time": "2022-07-24T21:42:50.977Z"
   },
   {
    "duration": 217,
    "start_time": "2022-07-24T21:43:29.123Z"
   },
   {
    "duration": 206,
    "start_time": "2022-07-24T21:43:43.800Z"
   },
   {
    "duration": 234,
    "start_time": "2022-07-24T21:48:45.958Z"
   },
   {
    "duration": 170,
    "start_time": "2022-07-24T21:49:56.004Z"
   },
   {
    "duration": 265,
    "start_time": "2022-07-24T21:49:58.220Z"
   },
   {
    "duration": 241,
    "start_time": "2022-07-24T21:50:10.741Z"
   },
   {
    "duration": 212,
    "start_time": "2022-07-24T21:50:26.579Z"
   },
   {
    "duration": 228,
    "start_time": "2022-07-24T21:50:29.843Z"
   },
   {
    "duration": 216,
    "start_time": "2022-07-24T21:50:42.124Z"
   },
   {
    "duration": 267,
    "start_time": "2022-07-24T21:54:32.463Z"
   },
   {
    "duration": 233,
    "start_time": "2022-07-24T21:56:18.437Z"
   },
   {
    "duration": 223,
    "start_time": "2022-07-24T21:58:13.308Z"
   },
   {
    "duration": 206,
    "start_time": "2022-07-24T22:07:42.323Z"
   },
   {
    "duration": 324,
    "start_time": "2022-07-24T22:24:02.318Z"
   },
   {
    "duration": 190,
    "start_time": "2022-07-24T22:33:18.846Z"
   },
   {
    "duration": 11,
    "start_time": "2022-07-24T22:48:34.087Z"
   },
   {
    "duration": 12,
    "start_time": "2022-07-24T22:48:58.863Z"
   },
   {
    "duration": 75,
    "start_time": "2022-07-24T22:49:02.991Z"
   },
   {
    "duration": 200,
    "start_time": "2022-07-24T22:49:25.206Z"
   },
   {
    "duration": 195,
    "start_time": "2022-07-24T22:55:37.036Z"
   },
   {
    "duration": 241,
    "start_time": "2022-07-24T23:06:32.422Z"
   },
   {
    "duration": 210,
    "start_time": "2022-07-24T23:23:11.739Z"
   },
   {
    "duration": 212,
    "start_time": "2022-07-24T23:28:31.315Z"
   },
   {
    "duration": 1879,
    "start_time": "2022-07-24T23:28:51.286Z"
   },
   {
    "duration": 3,
    "start_time": "2022-07-24T23:28:53.167Z"
   },
   {
    "duration": 215,
    "start_time": "2022-07-24T23:28:53.172Z"
   },
   {
    "duration": 208,
    "start_time": "2022-07-24T23:28:53.389Z"
   },
   {
    "duration": 12,
    "start_time": "2022-07-24T23:28:53.599Z"
   },
   {
    "duration": 7,
    "start_time": "2022-07-24T23:28:53.612Z"
   },
   {
    "duration": 15,
    "start_time": "2022-07-24T23:28:53.621Z"
   },
   {
    "duration": 115,
    "start_time": "2022-07-24T23:28:53.638Z"
   },
   {
    "duration": 18,
    "start_time": "2022-07-24T23:28:53.754Z"
   },
   {
    "duration": 102,
    "start_time": "2022-07-24T23:28:53.774Z"
   },
   {
    "duration": 47,
    "start_time": "2022-07-24T23:28:53.878Z"
   },
   {
    "duration": 7,
    "start_time": "2022-07-24T23:28:53.926Z"
   },
   {
    "duration": 257,
    "start_time": "2022-07-24T23:28:53.935Z"
   },
   {
    "duration": 25339,
    "start_time": "2022-07-24T23:28:54.194Z"
   },
   {
    "duration": 221,
    "start_time": "2022-07-24T23:29:19.826Z"
   },
   {
    "duration": 241,
    "start_time": "2022-07-24T23:43:02.526Z"
   },
   {
    "duration": 213,
    "start_time": "2022-07-25T00:51:06.645Z"
   },
   {
    "duration": 24936,
    "start_time": "2022-07-25T01:55:41.456Z"
   },
   {
    "duration": 25065,
    "start_time": "2022-07-25T01:57:52.009Z"
   },
   {
    "duration": 24714,
    "start_time": "2022-07-25T02:46:24.988Z"
   },
   {
    "duration": 1418,
    "start_time": "2022-07-25T02:47:09.237Z"
   },
   {
    "duration": 1861,
    "start_time": "2022-07-25T02:47:16.392Z"
   },
   {
    "duration": 8,
    "start_time": "2022-07-25T02:47:18.255Z"
   },
   {
    "duration": 219,
    "start_time": "2022-07-25T02:47:18.265Z"
   },
   {
    "duration": 219,
    "start_time": "2022-07-25T02:47:18.486Z"
   },
   {
    "duration": 12,
    "start_time": "2022-07-25T02:47:18.706Z"
   },
   {
    "duration": 6,
    "start_time": "2022-07-25T02:47:18.720Z"
   },
   {
    "duration": 13,
    "start_time": "2022-07-25T02:47:18.728Z"
   },
   {
    "duration": 116,
    "start_time": "2022-07-25T02:47:18.763Z"
   },
   {
    "duration": 18,
    "start_time": "2022-07-25T02:47:18.880Z"
   },
   {
    "duration": 107,
    "start_time": "2022-07-25T02:47:18.900Z"
   },
   {
    "duration": 67,
    "start_time": "2022-07-25T02:47:19.009Z"
   },
   {
    "duration": 8,
    "start_time": "2022-07-25T02:47:19.078Z"
   },
   {
    "duration": 250,
    "start_time": "2022-07-25T02:47:19.088Z"
   },
   {
    "duration": 25581,
    "start_time": "2022-07-25T02:47:19.340Z"
   },
   {
    "duration": 25774,
    "start_time": "2022-07-25T02:49:26.765Z"
   },
   {
    "duration": 25346,
    "start_time": "2022-07-25T02:55:47.764Z"
   },
   {
    "duration": 24912,
    "start_time": "2022-07-25T03:15:22.103Z"
   },
   {
    "duration": 24847,
    "start_time": "2022-07-25T03:16:16.418Z"
   },
   {
    "duration": 24773,
    "start_time": "2022-07-25T03:17:03.864Z"
   },
   {
    "duration": 25217,
    "start_time": "2022-07-25T03:18:59.419Z"
   },
   {
    "duration": 24911,
    "start_time": "2022-07-25T03:20:45.492Z"
   },
   {
    "duration": 25375,
    "start_time": "2022-07-25T03:22:29.698Z"
   },
   {
    "duration": 24887,
    "start_time": "2022-07-25T03:24:24.633Z"
   },
   {
    "duration": 25004,
    "start_time": "2022-07-25T03:25:42.909Z"
   },
   {
    "duration": 25209,
    "start_time": "2022-07-25T03:27:44.914Z"
   },
   {
    "duration": 25040,
    "start_time": "2022-07-25T03:30:02.404Z"
   },
   {
    "duration": 24836,
    "start_time": "2022-07-25T03:31:17.400Z"
   },
   {
    "duration": 24747,
    "start_time": "2022-07-25T03:34:49.902Z"
   },
   {
    "duration": 24735,
    "start_time": "2022-07-25T03:36:37.901Z"
   },
   {
    "duration": 25158,
    "start_time": "2022-07-25T03:39:30.961Z"
   },
   {
    "duration": 90,
    "start_time": "2022-07-25T03:42:02.270Z"
   },
   {
    "duration": 125,
    "start_time": "2022-07-25T03:42:12.103Z"
   },
   {
    "duration": 24826,
    "start_time": "2022-07-25T03:42:44.910Z"
   },
   {
    "duration": 25011,
    "start_time": "2022-07-25T03:44:13.694Z"
   },
   {
    "duration": 24643,
    "start_time": "2022-07-25T03:45:24.986Z"
   },
   {
    "duration": 1316,
    "start_time": "2022-07-25T03:52:43.102Z"
   },
   {
    "duration": 1522,
    "start_time": "2022-07-25T03:53:11.099Z"
   },
   {
    "duration": 1433,
    "start_time": "2022-07-25T03:53:21.444Z"
   },
   {
    "duration": 24946,
    "start_time": "2022-07-25T03:53:37.372Z"
   },
   {
    "duration": 25338,
    "start_time": "2022-07-25T04:07:00.708Z"
   },
   {
    "duration": 24449,
    "start_time": "2022-07-25T04:09:14.766Z"
   },
   {
    "duration": 202,
    "start_time": "2022-07-25T04:10:37.772Z"
   },
   {
    "duration": 15,
    "start_time": "2022-07-25T04:10:39.535Z"
   },
   {
    "duration": 10,
    "start_time": "2022-07-25T04:10:40.043Z"
   },
   {
    "duration": 15,
    "start_time": "2022-07-25T04:10:42.075Z"
   },
   {
    "duration": 103,
    "start_time": "2022-07-25T04:10:45.480Z"
   },
   {
    "duration": 19,
    "start_time": "2022-07-25T04:10:46.210Z"
   },
   {
    "duration": 101,
    "start_time": "2022-07-25T04:10:48.843Z"
   },
   {
    "duration": 18,
    "start_time": "2022-07-25T04:10:57.323Z"
   },
   {
    "duration": 8,
    "start_time": "2022-07-25T04:11:01.410Z"
   },
   {
    "duration": 495,
    "start_time": "2022-07-25T04:11:10.435Z"
   },
   {
    "duration": 25635,
    "start_time": "2022-07-25T04:12:02.469Z"
   },
   {
    "duration": 25195,
    "start_time": "2022-07-25T04:14:26.876Z"
   },
   {
    "duration": 25380,
    "start_time": "2022-07-25T04:29:42.643Z"
   },
   {
    "duration": 25738,
    "start_time": "2022-07-25T04:40:34.819Z"
   },
   {
    "duration": 25936,
    "start_time": "2022-07-25T04:41:19.170Z"
   },
   {
    "duration": 25783,
    "start_time": "2022-07-25T04:41:49.620Z"
   },
   {
    "duration": 25608,
    "start_time": "2022-07-25T05:05:15.611Z"
   },
   {
    "duration": 25553,
    "start_time": "2022-07-25T05:07:33.936Z"
   },
   {
    "duration": 25400,
    "start_time": "2022-07-25T05:08:52.528Z"
   },
   {
    "duration": 25560,
    "start_time": "2022-07-25T05:12:04.879Z"
   },
   {
    "duration": 25795,
    "start_time": "2022-07-25T05:13:01.957Z"
   },
   {
    "duration": 56406,
    "start_time": "2022-07-25T05:55:14.941Z"
   },
   {
    "duration": 55477,
    "start_time": "2022-07-25T06:12:37.788Z"
   },
   {
    "duration": 58640,
    "start_time": "2022-07-25T06:43:21.832Z"
   },
   {
    "duration": 56208,
    "start_time": "2022-07-25T06:50:08.883Z"
   },
   {
    "duration": 57634,
    "start_time": "2022-07-25T06:52:19.130Z"
   },
   {
    "duration": 60619,
    "start_time": "2022-07-25T06:56:37.054Z"
   },
   {
    "duration": 58291,
    "start_time": "2022-07-25T07:00:43.659Z"
   },
   {
    "duration": 56621,
    "start_time": "2022-07-25T07:06:45.735Z"
   },
   {
    "duration": 56312,
    "start_time": "2022-07-25T07:18:35.787Z"
   },
   {
    "duration": 56622,
    "start_time": "2022-07-25T07:24:03.930Z"
   },
   {
    "duration": 56314,
    "start_time": "2022-07-25T07:28:49.832Z"
   },
   {
    "duration": 58494,
    "start_time": "2022-07-25T07:36:51.332Z"
   },
   {
    "duration": 60429,
    "start_time": "2022-07-25T07:41:12.424Z"
   },
   {
    "duration": 58753,
    "start_time": "2022-07-25T07:45:17.813Z"
   },
   {
    "duration": 2999,
    "start_time": "2022-07-26T06:57:38.495Z"
   },
   {
    "duration": 5,
    "start_time": "2022-07-26T06:57:41.496Z"
   },
   {
    "duration": 306,
    "start_time": "2022-07-26T06:57:41.503Z"
   },
   {
    "duration": 267,
    "start_time": "2022-07-26T06:57:41.812Z"
   },
   {
    "duration": 14,
    "start_time": "2022-07-26T06:57:42.081Z"
   },
   {
    "duration": 36,
    "start_time": "2022-07-26T06:57:42.097Z"
   },
   {
    "duration": 23,
    "start_time": "2022-07-26T06:57:42.135Z"
   },
   {
    "duration": 393,
    "start_time": "2022-07-26T06:57:42.161Z"
   },
   {
    "duration": 20,
    "start_time": "2022-07-26T06:57:42.562Z"
   },
   {
    "duration": 105,
    "start_time": "2022-07-26T06:57:42.585Z"
   },
   {
    "duration": 90,
    "start_time": "2022-07-26T06:57:42.692Z"
   },
   {
    "duration": 9,
    "start_time": "2022-07-26T06:57:42.785Z"
   },
   {
    "duration": 396,
    "start_time": "2022-07-26T06:57:42.796Z"
   },
   {
    "duration": 59140,
    "start_time": "2022-07-26T06:57:43.194Z"
   },
   {
    "duration": 203,
    "start_time": "2022-07-26T07:16:45.743Z"
   },
   {
    "duration": 132,
    "start_time": "2022-07-26T07:17:03.460Z"
   },
   {
    "duration": 209,
    "start_time": "2022-07-26T07:17:08.981Z"
   },
   {
    "duration": 264,
    "start_time": "2022-07-26T07:17:16.987Z"
   },
   {
    "duration": 270,
    "start_time": "2022-07-26T07:18:05.718Z"
   },
   {
    "duration": 272,
    "start_time": "2022-07-26T07:18:10.214Z"
   },
   {
    "duration": 2230,
    "start_time": "2022-07-26T07:26:13.646Z"
   },
   {
    "duration": 4,
    "start_time": "2022-07-26T07:26:15.878Z"
   },
   {
    "duration": 278,
    "start_time": "2022-07-26T07:26:15.884Z"
   },
   {
    "duration": 184,
    "start_time": "2022-07-26T07:26:16.165Z"
   },
   {
    "duration": 16,
    "start_time": "2022-07-26T07:26:16.350Z"
   },
   {
    "duration": 75,
    "start_time": "2022-07-26T07:26:16.368Z"
   },
   {
    "duration": 16,
    "start_time": "2022-07-26T07:26:16.445Z"
   },
   {
    "duration": 13,
    "start_time": "2022-07-26T07:26:16.463Z"
   },
   {
    "duration": 9,
    "start_time": "2022-07-26T07:26:16.478Z"
   },
   {
    "duration": 12,
    "start_time": "2022-07-26T07:26:16.489Z"
   },
   {
    "duration": 7,
    "start_time": "2022-07-26T07:26:16.503Z"
   },
   {
    "duration": 5,
    "start_time": "2022-07-26T07:26:16.513Z"
   },
   {
    "duration": 27,
    "start_time": "2022-07-26T07:26:16.522Z"
   },
   {
    "duration": 71,
    "start_time": "2022-07-26T07:26:16.551Z"
   },
   {
    "duration": 18,
    "start_time": "2022-07-26T07:26:16.626Z"
   },
   {
    "duration": 301,
    "start_time": "2022-07-26T07:26:16.646Z"
   },
   {
    "duration": 61538,
    "start_time": "2022-07-26T07:26:16.950Z"
   },
   {
    "duration": 250,
    "start_time": "2022-07-26T07:27:18.490Z"
   },
   {
    "duration": 87,
    "start_time": "2022-07-26T11:02:28.744Z"
   },
   {
    "duration": 41,
    "start_time": "2022-07-26T11:02:33.869Z"
   },
   {
    "duration": 6,
    "start_time": "2022-07-26T11:03:15.619Z"
   },
   {
    "duration": 2271,
    "start_time": "2022-07-26T11:03:42.876Z"
   },
   {
    "duration": 4,
    "start_time": "2022-07-26T11:03:45.149Z"
   },
   {
    "duration": 222,
    "start_time": "2022-07-26T11:03:45.154Z"
   },
   {
    "duration": 152,
    "start_time": "2022-07-26T11:03:48.651Z"
   },
   {
    "duration": 15,
    "start_time": "2022-07-26T11:03:51.788Z"
   },
   {
    "duration": 49,
    "start_time": "2022-07-26T11:03:52.363Z"
   },
   {
    "duration": 14,
    "start_time": "2022-07-26T11:03:54.579Z"
   },
   {
    "duration": 3,
    "start_time": "2022-07-26T11:04:00.154Z"
   },
   {
    "duration": 3,
    "start_time": "2022-07-26T11:04:00.388Z"
   },
   {
    "duration": 2,
    "start_time": "2022-07-26T11:04:00.587Z"
   },
   {
    "duration": 298,
    "start_time": "2022-07-26T11:04:24.274Z"
   },
   {
    "duration": 20,
    "start_time": "2022-07-26T11:04:27.838Z"
   },
   {
    "duration": 98,
    "start_time": "2022-07-26T11:05:48.481Z"
   },
   {
    "duration": 101,
    "start_time": "2022-07-26T11:05:54.505Z"
   },
   {
    "duration": 135,
    "start_time": "2022-07-26T11:06:14.257Z"
   },
   {
    "duration": 128,
    "start_time": "2022-07-26T11:26:51.731Z"
   },
   {
    "duration": 47,
    "start_time": "2022-07-26T13:14:36.731Z"
   },
   {
    "duration": 1927,
    "start_time": "2022-07-26T13:14:47.409Z"
   },
   {
    "duration": 4,
    "start_time": "2022-07-26T13:14:49.338Z"
   },
   {
    "duration": 227,
    "start_time": "2022-07-26T13:14:49.343Z"
   },
   {
    "duration": 155,
    "start_time": "2022-07-26T13:14:49.572Z"
   },
   {
    "duration": 18,
    "start_time": "2022-07-26T13:14:49.729Z"
   },
   {
    "duration": 48,
    "start_time": "2022-07-26T13:14:49.752Z"
   },
   {
    "duration": 12,
    "start_time": "2022-07-26T13:14:49.802Z"
   },
   {
    "duration": 2,
    "start_time": "2022-07-26T13:14:49.833Z"
   },
   {
    "duration": 5,
    "start_time": "2022-07-26T13:14:49.837Z"
   },
   {
    "duration": 5,
    "start_time": "2022-07-26T13:14:49.844Z"
   },
   {
    "duration": 120,
    "start_time": "2022-07-26T13:14:49.850Z"
   },
   {
    "duration": 18,
    "start_time": "2022-07-26T13:14:49.971Z"
   },
   {
    "duration": 97,
    "start_time": "2022-07-26T13:14:49.991Z"
   },
   {
    "duration": 64,
    "start_time": "2022-07-26T13:14:50.090Z"
   },
   {
    "duration": 7,
    "start_time": "2022-07-26T13:14:50.156Z"
   },
   {
    "duration": 262,
    "start_time": "2022-07-26T13:14:50.164Z"
   },
   {
    "duration": 46620,
    "start_time": "2022-07-26T13:14:50.428Z"
   },
   {
    "duration": 200,
    "start_time": "2022-07-26T13:15:37.049Z"
   },
   {
    "duration": 1879,
    "start_time": "2022-07-26T13:16:36.056Z"
   },
   {
    "duration": 4,
    "start_time": "2022-07-26T13:16:37.937Z"
   },
   {
    "duration": 257,
    "start_time": "2022-07-26T13:16:37.943Z"
   },
   {
    "duration": 205,
    "start_time": "2022-07-26T13:16:38.202Z"
   },
   {
    "duration": 16,
    "start_time": "2022-07-26T13:16:38.408Z"
   },
   {
    "duration": 43,
    "start_time": "2022-07-26T13:16:38.434Z"
   },
   {
    "duration": 13,
    "start_time": "2022-07-26T13:16:38.478Z"
   },
   {
    "duration": 2,
    "start_time": "2022-07-26T13:16:38.492Z"
   },
   {
    "duration": 7,
    "start_time": "2022-07-26T13:16:38.496Z"
   },
   {
    "duration": 4,
    "start_time": "2022-07-26T13:16:38.506Z"
   },
   {
    "duration": 135,
    "start_time": "2022-07-26T13:16:38.511Z"
   },
   {
    "duration": 17,
    "start_time": "2022-07-26T13:16:38.647Z"
   },
   {
    "duration": 96,
    "start_time": "2022-07-26T13:16:38.666Z"
   },
   {
    "duration": 54,
    "start_time": "2022-07-26T13:16:38.763Z"
   },
   {
    "duration": 17,
    "start_time": "2022-07-26T13:16:38.819Z"
   },
   {
    "duration": 311,
    "start_time": "2022-07-26T13:16:38.838Z"
   },
   {
    "duration": 47166,
    "start_time": "2022-07-26T13:16:39.150Z"
   },
   {
    "duration": 199,
    "start_time": "2022-07-26T13:17:26.318Z"
   },
   {
    "duration": 186,
    "start_time": "2022-07-26T13:17:26.924Z"
   },
   {
    "duration": 195,
    "start_time": "2022-07-26T13:17:39.177Z"
   },
   {
    "duration": 1807,
    "start_time": "2022-07-26T13:19:45.292Z"
   },
   {
    "duration": 4,
    "start_time": "2022-07-26T13:19:47.101Z"
   },
   {
    "duration": 224,
    "start_time": "2022-07-26T13:19:47.106Z"
   },
   {
    "duration": 208,
    "start_time": "2022-07-26T13:19:47.334Z"
   },
   {
    "duration": 12,
    "start_time": "2022-07-26T13:19:47.544Z"
   },
   {
    "duration": 44,
    "start_time": "2022-07-26T13:19:47.557Z"
   },
   {
    "duration": 32,
    "start_time": "2022-07-26T13:19:47.602Z"
   },
   {
    "duration": 1,
    "start_time": "2022-07-26T13:19:47.636Z"
   },
   {
    "duration": 4,
    "start_time": "2022-07-26T13:19:47.639Z"
   },
   {
    "duration": 6,
    "start_time": "2022-07-26T13:19:47.645Z"
   },
   {
    "duration": 117,
    "start_time": "2022-07-26T13:19:47.652Z"
   },
   {
    "duration": 16,
    "start_time": "2022-07-26T13:19:47.770Z"
   },
   {
    "duration": 97,
    "start_time": "2022-07-26T13:19:47.787Z"
   },
   {
    "duration": 53,
    "start_time": "2022-07-26T13:19:47.885Z"
   },
   {
    "duration": 7,
    "start_time": "2022-07-26T13:19:47.940Z"
   },
   {
    "duration": 279,
    "start_time": "2022-07-26T13:19:47.948Z"
   },
   {
    "duration": 1859,
    "start_time": "2022-07-26T13:20:18.687Z"
   },
   {
    "duration": 4,
    "start_time": "2022-07-26T13:20:20.548Z"
   },
   {
    "duration": 231,
    "start_time": "2022-07-26T13:20:20.553Z"
   },
   {
    "duration": 184,
    "start_time": "2022-07-26T13:20:20.787Z"
   },
   {
    "duration": 12,
    "start_time": "2022-07-26T13:20:20.973Z"
   },
   {
    "duration": 65,
    "start_time": "2022-07-26T13:20:20.987Z"
   },
   {
    "duration": 14,
    "start_time": "2022-07-26T13:20:21.054Z"
   },
   {
    "duration": 2,
    "start_time": "2022-07-26T13:20:21.069Z"
   },
   {
    "duration": 4,
    "start_time": "2022-07-26T13:20:21.073Z"
   },
   {
    "duration": 7,
    "start_time": "2022-07-26T13:20:21.079Z"
   },
   {
    "duration": 116,
    "start_time": "2022-07-26T13:20:21.087Z"
   },
   {
    "duration": 16,
    "start_time": "2022-07-26T13:20:21.204Z"
   },
   {
    "duration": 90,
    "start_time": "2022-07-26T13:20:21.222Z"
   },
   {
    "duration": 69,
    "start_time": "2022-07-26T13:20:21.317Z"
   },
   {
    "duration": 9,
    "start_time": "2022-07-26T13:20:21.387Z"
   },
   {
    "duration": 267,
    "start_time": "2022-07-26T13:20:21.398Z"
   },
   {
    "duration": 46699,
    "start_time": "2022-07-26T13:20:21.667Z"
   },
   {
    "duration": 196,
    "start_time": "2022-07-26T13:21:08.368Z"
   },
   {
    "duration": 205,
    "start_time": "2022-07-26T13:23:11.913Z"
   },
   {
    "duration": 1913,
    "start_time": "2022-07-26T13:23:21.555Z"
   },
   {
    "duration": 4,
    "start_time": "2022-07-26T13:23:23.470Z"
   },
   {
    "duration": 224,
    "start_time": "2022-07-26T13:23:23.475Z"
   },
   {
    "duration": 201,
    "start_time": "2022-07-26T13:23:23.700Z"
   },
   {
    "duration": 13,
    "start_time": "2022-07-26T13:23:23.903Z"
   },
   {
    "duration": 56,
    "start_time": "2022-07-26T13:23:23.917Z"
   },
   {
    "duration": 12,
    "start_time": "2022-07-26T13:23:23.974Z"
   },
   {
    "duration": 2,
    "start_time": "2022-07-26T13:23:23.987Z"
   },
   {
    "duration": 4,
    "start_time": "2022-07-26T13:23:23.991Z"
   },
   {
    "duration": 7,
    "start_time": "2022-07-26T13:23:23.996Z"
   },
   {
    "duration": 118,
    "start_time": "2022-07-26T13:23:24.004Z"
   },
   {
    "duration": 17,
    "start_time": "2022-07-26T13:23:24.124Z"
   },
   {
    "duration": 101,
    "start_time": "2022-07-26T13:23:24.143Z"
   },
   {
    "duration": 49,
    "start_time": "2022-07-26T13:23:24.247Z"
   },
   {
    "duration": 8,
    "start_time": "2022-07-26T13:23:24.298Z"
   },
   {
    "duration": 273,
    "start_time": "2022-07-26T13:23:24.308Z"
   },
   {
    "duration": 47057,
    "start_time": "2022-07-26T13:23:24.583Z"
   },
   {
    "duration": 198,
    "start_time": "2022-07-26T13:24:11.642Z"
   },
   {
    "duration": 207,
    "start_time": "2022-07-26T13:32:12.931Z"
   },
   {
    "duration": 1931,
    "start_time": "2022-07-26T13:32:21.072Z"
   },
   {
    "duration": 4,
    "start_time": "2022-07-26T13:32:23.004Z"
   },
   {
    "duration": 240,
    "start_time": "2022-07-26T13:32:23.010Z"
   },
   {
    "duration": 208,
    "start_time": "2022-07-26T13:32:23.252Z"
   },
   {
    "duration": 14,
    "start_time": "2022-07-26T13:32:23.461Z"
   },
   {
    "duration": 58,
    "start_time": "2022-07-26T13:32:23.477Z"
   },
   {
    "duration": 12,
    "start_time": "2022-07-26T13:32:23.537Z"
   },
   {
    "duration": 2,
    "start_time": "2022-07-26T13:32:23.550Z"
   },
   {
    "duration": 9,
    "start_time": "2022-07-26T13:32:23.553Z"
   },
   {
    "duration": 25,
    "start_time": "2022-07-26T13:32:23.564Z"
   },
   {
    "duration": 124,
    "start_time": "2022-07-26T13:32:23.590Z"
   },
   {
    "duration": 23,
    "start_time": "2022-07-26T13:32:23.715Z"
   },
   {
    "duration": 97,
    "start_time": "2022-07-26T13:32:23.739Z"
   },
   {
    "duration": 50,
    "start_time": "2022-07-26T13:32:23.838Z"
   },
   {
    "duration": 7,
    "start_time": "2022-07-26T13:32:23.890Z"
   },
   {
    "duration": 281,
    "start_time": "2022-07-26T13:32:23.899Z"
   },
   {
    "duration": 46927,
    "start_time": "2022-07-26T13:32:24.181Z"
   },
   {
    "duration": 202,
    "start_time": "2022-07-26T13:33:11.110Z"
   },
   {
    "duration": 221,
    "start_time": "2022-07-26T13:35:24.189Z"
   },
   {
    "duration": 1918,
    "start_time": "2022-07-26T13:35:39.224Z"
   },
   {
    "duration": 4,
    "start_time": "2022-07-26T13:35:41.143Z"
   },
   {
    "duration": 244,
    "start_time": "2022-07-26T13:35:41.149Z"
   },
   {
    "duration": 221,
    "start_time": "2022-07-26T13:35:41.395Z"
   },
   {
    "duration": 22,
    "start_time": "2022-07-26T13:35:41.619Z"
   },
   {
    "duration": 48,
    "start_time": "2022-07-26T13:35:41.642Z"
   },
   {
    "duration": 12,
    "start_time": "2022-07-26T13:35:41.691Z"
   },
   {
    "duration": 3,
    "start_time": "2022-07-26T13:35:41.705Z"
   },
   {
    "duration": 10,
    "start_time": "2022-07-26T13:35:41.710Z"
   },
   {
    "duration": 12,
    "start_time": "2022-07-26T13:35:41.734Z"
   },
   {
    "duration": 121,
    "start_time": "2022-07-26T13:35:41.748Z"
   },
   {
    "duration": 26,
    "start_time": "2022-07-26T13:35:41.870Z"
   },
   {
    "duration": 103,
    "start_time": "2022-07-26T13:35:41.898Z"
   },
   {
    "duration": 56,
    "start_time": "2022-07-26T13:35:42.003Z"
   },
   {
    "duration": 8,
    "start_time": "2022-07-26T13:35:42.060Z"
   },
   {
    "duration": 281,
    "start_time": "2022-07-26T13:35:42.069Z"
   },
   {
    "duration": 48234,
    "start_time": "2022-07-26T13:35:42.352Z"
   },
   {
    "duration": 209,
    "start_time": "2022-07-26T13:36:30.588Z"
   },
   {
    "duration": 2092,
    "start_time": "2022-07-26T13:36:36.579Z"
   },
   {
    "duration": 1935,
    "start_time": "2022-07-26T13:36:44.576Z"
   },
   {
    "duration": 5,
    "start_time": "2022-07-26T13:36:46.512Z"
   },
   {
    "duration": 235,
    "start_time": "2022-07-26T13:36:46.518Z"
   },
   {
    "duration": 239,
    "start_time": "2022-07-26T13:36:46.755Z"
   },
   {
    "duration": 14,
    "start_time": "2022-07-26T13:36:46.996Z"
   },
   {
    "duration": 75,
    "start_time": "2022-07-26T13:36:47.012Z"
   },
   {
    "duration": 13,
    "start_time": "2022-07-26T13:36:47.089Z"
   },
   {
    "duration": 2,
    "start_time": "2022-07-26T13:36:47.104Z"
   },
   {
    "duration": 8,
    "start_time": "2022-07-26T13:36:47.108Z"
   },
   {
    "duration": 6,
    "start_time": "2022-07-26T13:36:47.133Z"
   },
   {
    "duration": 118,
    "start_time": "2022-07-26T13:36:47.141Z"
   },
   {
    "duration": 17,
    "start_time": "2022-07-26T13:36:47.261Z"
   },
   {
    "duration": 100,
    "start_time": "2022-07-26T13:36:47.280Z"
   },
   {
    "duration": 59,
    "start_time": "2022-07-26T13:36:47.382Z"
   },
   {
    "duration": 8,
    "start_time": "2022-07-26T13:36:47.443Z"
   },
   {
    "duration": 274,
    "start_time": "2022-07-26T13:36:47.452Z"
   },
   {
    "duration": 47864,
    "start_time": "2022-07-26T13:36:47.728Z"
   },
   {
    "duration": 206,
    "start_time": "2022-07-26T13:37:35.594Z"
   },
   {
    "duration": 2052,
    "start_time": "2022-07-26T14:04:36.932Z"
   },
   {
    "duration": 142,
    "start_time": "2022-07-26T14:04:57.461Z"
   },
   {
    "duration": 2004,
    "start_time": "2022-07-26T14:05:03.718Z"
   },
   {
    "duration": 5,
    "start_time": "2022-07-26T14:05:05.724Z"
   },
   {
    "duration": 239,
    "start_time": "2022-07-26T14:05:05.734Z"
   },
   {
    "duration": 218,
    "start_time": "2022-07-26T14:05:05.976Z"
   },
   {
    "duration": 13,
    "start_time": "2022-07-26T14:05:06.195Z"
   },
   {
    "duration": 42,
    "start_time": "2022-07-26T14:05:06.209Z"
   },
   {
    "duration": 11,
    "start_time": "2022-07-26T14:05:06.253Z"
   },
   {
    "duration": 7,
    "start_time": "2022-07-26T14:05:06.266Z"
   },
   {
    "duration": 9,
    "start_time": "2022-07-26T14:05:06.274Z"
   },
   {
    "duration": 7,
    "start_time": "2022-07-26T14:05:06.286Z"
   },
   {
    "duration": 121,
    "start_time": "2022-07-26T14:05:06.294Z"
   },
   {
    "duration": 26,
    "start_time": "2022-07-26T14:05:06.416Z"
   },
   {
    "duration": 94,
    "start_time": "2022-07-26T14:05:06.444Z"
   },
   {
    "duration": 52,
    "start_time": "2022-07-26T14:05:06.539Z"
   },
   {
    "duration": 7,
    "start_time": "2022-07-26T14:05:06.593Z"
   },
   {
    "duration": 60,
    "start_time": "2022-07-26T14:05:06.602Z"
   },
   {
    "duration": 7757,
    "start_time": "2022-07-26T14:05:06.663Z"
   },
   {
    "duration": 218,
    "start_time": "2022-07-26T14:05:14.421Z"
   },
   {
    "duration": 1904,
    "start_time": "2022-07-26T14:06:07.599Z"
   },
   {
    "duration": 4,
    "start_time": "2022-07-26T14:06:09.504Z"
   },
   {
    "duration": 233,
    "start_time": "2022-07-26T14:06:09.510Z"
   },
   {
    "duration": 228,
    "start_time": "2022-07-26T14:06:09.745Z"
   },
   {
    "duration": 13,
    "start_time": "2022-07-26T14:06:09.976Z"
   },
   {
    "duration": 64,
    "start_time": "2022-07-26T14:06:09.990Z"
   },
   {
    "duration": 13,
    "start_time": "2022-07-26T14:06:10.055Z"
   },
   {
    "duration": 7,
    "start_time": "2022-07-26T14:06:10.070Z"
   },
   {
    "duration": 6,
    "start_time": "2022-07-26T14:06:10.078Z"
   },
   {
    "duration": 8,
    "start_time": "2022-07-26T14:06:10.085Z"
   },
   {
    "duration": 120,
    "start_time": "2022-07-26T14:06:10.095Z"
   },
   {
    "duration": 17,
    "start_time": "2022-07-26T14:06:10.217Z"
   },
   {
    "duration": 90,
    "start_time": "2022-07-26T14:06:10.235Z"
   },
   {
    "duration": 50,
    "start_time": "2022-07-26T14:06:10.335Z"
   },
   {
    "duration": 7,
    "start_time": "2022-07-26T14:06:10.386Z"
   },
   {
    "duration": 270,
    "start_time": "2022-07-26T14:06:10.394Z"
   },
   {
    "duration": 1904,
    "start_time": "2022-07-26T14:06:51.765Z"
   },
   {
    "duration": 4,
    "start_time": "2022-07-26T14:06:53.671Z"
   },
   {
    "duration": 228,
    "start_time": "2022-07-26T14:06:53.677Z"
   },
   {
    "duration": 231,
    "start_time": "2022-07-26T14:06:53.907Z"
   },
   {
    "duration": 14,
    "start_time": "2022-07-26T14:06:54.140Z"
   },
   {
    "duration": 53,
    "start_time": "2022-07-26T14:06:54.155Z"
   },
   {
    "duration": 29,
    "start_time": "2022-07-26T14:06:54.210Z"
   },
   {
    "duration": 2,
    "start_time": "2022-07-26T14:06:54.241Z"
   },
   {
    "duration": 5,
    "start_time": "2022-07-26T14:06:54.245Z"
   },
   {
    "duration": 8,
    "start_time": "2022-07-26T14:06:54.251Z"
   },
   {
    "duration": 114,
    "start_time": "2022-07-26T14:06:54.261Z"
   },
   {
    "duration": 17,
    "start_time": "2022-07-26T14:06:54.377Z"
   },
   {
    "duration": 96,
    "start_time": "2022-07-26T14:06:54.395Z"
   },
   {
    "duration": 56,
    "start_time": "2022-07-26T14:06:54.494Z"
   },
   {
    "duration": 8,
    "start_time": "2022-07-26T14:06:54.551Z"
   },
   {
    "duration": 270,
    "start_time": "2022-07-26T14:06:54.560Z"
   },
   {
    "duration": 48299,
    "start_time": "2022-07-26T14:06:54.834Z"
   },
   {
    "duration": 203,
    "start_time": "2022-07-26T14:07:43.135Z"
   },
   {
    "duration": 54247,
    "start_time": "2022-07-26T14:45:51.531Z"
   },
   {
    "duration": 1969,
    "start_time": "2022-07-26T14:49:46.091Z"
   },
   {
    "duration": 4,
    "start_time": "2022-07-26T14:49:48.062Z"
   },
   {
    "duration": 245,
    "start_time": "2022-07-26T14:49:48.068Z"
   },
   {
    "duration": 239,
    "start_time": "2022-07-26T14:49:48.316Z"
   },
   {
    "duration": 23,
    "start_time": "2022-07-26T14:49:48.556Z"
   },
   {
    "duration": 82,
    "start_time": "2022-07-26T14:49:48.582Z"
   },
   {
    "duration": 14,
    "start_time": "2022-07-26T14:49:48.666Z"
   },
   {
    "duration": 2,
    "start_time": "2022-07-26T14:49:48.681Z"
   },
   {
    "duration": 5,
    "start_time": "2022-07-26T14:49:48.685Z"
   },
   {
    "duration": 6,
    "start_time": "2022-07-26T14:49:48.692Z"
   },
   {
    "duration": 124,
    "start_time": "2022-07-26T14:49:48.699Z"
   },
   {
    "duration": 27,
    "start_time": "2022-07-26T14:49:48.825Z"
   },
   {
    "duration": 115,
    "start_time": "2022-07-26T14:49:48.854Z"
   },
   {
    "duration": 49,
    "start_time": "2022-07-26T14:49:48.971Z"
   },
   {
    "duration": 27,
    "start_time": "2022-07-26T14:49:49.021Z"
   },
   {
    "duration": 280,
    "start_time": "2022-07-26T14:49:49.050Z"
   },
   {
    "duration": 52313,
    "start_time": "2022-07-26T14:49:49.332Z"
   },
   {
    "duration": 243,
    "start_time": "2022-07-26T14:50:41.647Z"
   },
   {
    "duration": 52283,
    "start_time": "2022-07-26T14:53:55.683Z"
   },
   {
    "duration": 49297,
    "start_time": "2022-07-26T14:56:02.161Z"
   },
   {
    "duration": 49424,
    "start_time": "2022-07-26T14:57:53.386Z"
   },
   {
    "duration": 49179,
    "start_time": "2022-07-26T14:59:13.311Z"
   },
   {
    "duration": 1915,
    "start_time": "2022-07-26T15:00:28.840Z"
   },
   {
    "duration": 4,
    "start_time": "2022-07-26T15:00:30.757Z"
   },
   {
    "duration": 249,
    "start_time": "2022-07-26T15:00:30.762Z"
   },
   {
    "duration": 253,
    "start_time": "2022-07-26T15:00:31.013Z"
   },
   {
    "duration": 14,
    "start_time": "2022-07-26T15:00:31.268Z"
   },
   {
    "duration": 72,
    "start_time": "2022-07-26T15:00:31.283Z"
   },
   {
    "duration": 12,
    "start_time": "2022-07-26T15:00:31.357Z"
   },
   {
    "duration": 28,
    "start_time": "2022-07-26T15:00:31.370Z"
   },
   {
    "duration": 15,
    "start_time": "2022-07-26T15:00:31.401Z"
   },
   {
    "duration": 56,
    "start_time": "2022-07-26T15:00:31.419Z"
   },
   {
    "duration": 143,
    "start_time": "2022-07-26T15:00:31.477Z"
   },
   {
    "duration": 23,
    "start_time": "2022-07-26T15:00:31.621Z"
   },
   {
    "duration": 100,
    "start_time": "2022-07-26T15:00:31.645Z"
   },
   {
    "duration": 51,
    "start_time": "2022-07-26T15:00:31.747Z"
   },
   {
    "duration": 7,
    "start_time": "2022-07-26T15:00:31.800Z"
   },
   {
    "duration": 292,
    "start_time": "2022-07-26T15:00:31.808Z"
   },
   {
    "duration": 49082,
    "start_time": "2022-07-26T15:00:32.103Z"
   },
   {
    "duration": 216,
    "start_time": "2022-07-26T15:01:21.186Z"
   },
   {
    "duration": 2277,
    "start_time": "2022-07-26T15:25:35.248Z"
   },
   {
    "duration": 50401,
    "start_time": "2022-07-26T15:26:00.776Z"
   },
   {
    "duration": 35879,
    "start_time": "2022-07-26T15:51:51.944Z"
   },
   {
    "duration": 36953,
    "start_time": "2022-07-26T16:00:57.391Z"
   },
   {
    "duration": 36788,
    "start_time": "2022-07-26T16:06:18.707Z"
   },
   {
    "duration": 36793,
    "start_time": "2022-07-26T16:07:38.419Z"
   },
   {
    "duration": 195,
    "start_time": "2022-07-26T16:08:32.312Z"
   },
   {
    "duration": 212,
    "start_time": "2022-07-26T16:09:02.367Z"
   },
   {
    "duration": 193,
    "start_time": "2022-07-26T16:09:22.815Z"
   },
   {
    "duration": 193,
    "start_time": "2022-07-26T16:09:36.860Z"
   },
   {
    "duration": 195,
    "start_time": "2022-07-26T16:09:40.446Z"
   },
   {
    "duration": 298,
    "start_time": "2022-07-26T16:10:00.037Z"
   },
   {
    "duration": 200,
    "start_time": "2022-07-26T16:10:09.030Z"
   },
   {
    "duration": 227,
    "start_time": "2022-07-26T16:10:26.046Z"
   },
   {
    "duration": 211,
    "start_time": "2022-07-26T16:10:41.543Z"
   },
   {
    "duration": 199,
    "start_time": "2022-07-26T16:11:06.885Z"
   },
   {
    "duration": 310,
    "start_time": "2022-07-26T16:11:10.970Z"
   },
   {
    "duration": 198,
    "start_time": "2022-07-26T16:11:12.982Z"
   },
   {
    "duration": 194,
    "start_time": "2022-07-26T16:11:43.827Z"
   },
   {
    "duration": 180,
    "start_time": "2022-07-26T16:11:48.188Z"
   },
   {
    "duration": 185,
    "start_time": "2022-07-26T16:11:50.580Z"
   },
   {
    "duration": 183,
    "start_time": "2022-07-26T16:12:29.860Z"
   },
   {
    "duration": 288,
    "start_time": "2022-07-26T16:12:38.229Z"
   },
   {
    "duration": 176,
    "start_time": "2022-07-26T16:12:41.084Z"
   },
   {
    "duration": 202,
    "start_time": "2022-07-26T16:13:11.836Z"
   },
   {
    "duration": 184,
    "start_time": "2022-07-26T16:13:14.849Z"
   },
   {
    "duration": 184,
    "start_time": "2022-07-26T16:13:16.734Z"
   },
   {
    "duration": 209,
    "start_time": "2022-07-26T16:13:32.636Z"
   },
   {
    "duration": 183,
    "start_time": "2022-07-26T16:13:40.235Z"
   },
   {
    "duration": 323,
    "start_time": "2022-07-26T16:13:56.523Z"
   },
   {
    "duration": 179,
    "start_time": "2022-07-26T16:14:02.731Z"
   },
   {
    "duration": 180,
    "start_time": "2022-07-26T16:14:17.867Z"
   },
   {
    "duration": 196,
    "start_time": "2022-07-26T16:14:26.946Z"
   },
   {
    "duration": 199,
    "start_time": "2022-07-26T16:14:42.034Z"
   },
   {
    "duration": 190,
    "start_time": "2022-07-26T16:14:53.033Z"
   },
   {
    "duration": 192,
    "start_time": "2022-07-26T16:15:11.026Z"
   },
   {
    "duration": 185,
    "start_time": "2022-07-26T16:15:14.389Z"
   },
   {
    "duration": 236,
    "start_time": "2022-07-26T16:15:29.169Z"
   },
   {
    "duration": 422,
    "start_time": "2022-07-26T16:15:32.193Z"
   },
   {
    "duration": 221,
    "start_time": "2022-07-26T16:15:45.850Z"
   },
   {
    "duration": 138,
    "start_time": "2022-07-26T16:16:08.339Z"
   },
   {
    "duration": 173,
    "start_time": "2022-07-26T16:16:38.881Z"
   },
   {
    "duration": 188,
    "start_time": "2022-07-26T16:16:44.607Z"
   },
   {
    "duration": 5444,
    "start_time": "2022-07-26T16:16:58.784Z"
   },
   {
    "duration": 197,
    "start_time": "2022-07-26T16:17:37.932Z"
   },
   {
    "duration": 188,
    "start_time": "2022-07-26T16:17:41.681Z"
   },
   {
    "duration": 374,
    "start_time": "2022-07-26T16:17:44.209Z"
   },
   {
    "duration": 186,
    "start_time": "2022-07-26T16:18:00.696Z"
   },
   {
    "duration": 180,
    "start_time": "2022-07-26T16:18:03.247Z"
   },
   {
    "duration": 196,
    "start_time": "2022-07-26T16:18:16.329Z"
   },
   {
    "duration": 179,
    "start_time": "2022-07-26T16:18:23.252Z"
   },
   {
    "duration": 188,
    "start_time": "2022-07-26T16:18:26.046Z"
   },
   {
    "duration": 192,
    "start_time": "2022-07-26T16:18:45.447Z"
   },
   {
    "duration": 179,
    "start_time": "2022-07-26T16:18:47.671Z"
   },
   {
    "duration": 188,
    "start_time": "2022-07-26T16:19:00.583Z"
   },
   {
    "duration": 187,
    "start_time": "2022-07-26T16:19:04.606Z"
   },
   {
    "duration": 188,
    "start_time": "2022-07-26T16:19:06.662Z"
   },
   {
    "duration": 391,
    "start_time": "2022-07-26T16:19:18.846Z"
   },
   {
    "duration": 195,
    "start_time": "2022-07-26T16:19:26.550Z"
   },
   {
    "duration": 234,
    "start_time": "2022-07-26T16:19:44.510Z"
   },
   {
    "duration": 197,
    "start_time": "2022-07-26T16:19:46.710Z"
   },
   {
    "duration": 175,
    "start_time": "2022-07-26T16:20:08.389Z"
   },
   {
    "duration": 26616,
    "start_time": "2022-07-26T16:20:11.661Z"
   },
   {
    "duration": 182,
    "start_time": "2022-07-26T16:25:48.754Z"
   },
   {
    "duration": 191,
    "start_time": "2022-07-26T16:38:55.534Z"
   },
   {
    "duration": 181,
    "start_time": "2022-07-26T16:55:57.357Z"
   },
   {
    "duration": 27084,
    "start_time": "2022-07-26T17:39:57.950Z"
   },
   {
    "duration": 5,
    "start_time": "2022-07-26T18:41:23.685Z"
   },
   {
    "duration": 163,
    "start_time": "2022-07-26T18:41:38.830Z"
   },
   {
    "duration": 159,
    "start_time": "2022-07-26T18:42:34.203Z"
   },
   {
    "duration": 147,
    "start_time": "2022-07-26T18:42:50.350Z"
   },
   {
    "duration": 151,
    "start_time": "2022-07-26T18:43:02.970Z"
   },
   {
    "duration": 155,
    "start_time": "2022-07-26T18:43:04.037Z"
   },
   {
    "duration": 158,
    "start_time": "2022-07-26T18:43:42.770Z"
   },
   {
    "duration": 163,
    "start_time": "2022-07-26T18:43:54.889Z"
   },
   {
    "duration": 165,
    "start_time": "2022-07-26T18:43:57.844Z"
   },
   {
    "duration": 51,
    "start_time": "2022-07-26T18:44:12.028Z"
   },
   {
    "duration": 19,
    "start_time": "2022-07-26T18:44:30.220Z"
   },
   {
    "duration": 44,
    "start_time": "2022-07-26T18:44:51.797Z"
   },
   {
    "duration": 18,
    "start_time": "2022-07-26T18:45:01.724Z"
   },
   {
    "duration": 48,
    "start_time": "2022-07-26T18:45:12.841Z"
   },
   {
    "duration": 222,
    "start_time": "2022-07-26T18:45:23.539Z"
   },
   {
    "duration": 224,
    "start_time": "2022-07-26T18:45:27.667Z"
   },
   {
    "duration": 680,
    "start_time": "2022-07-26T18:45:30.995Z"
   },
   {
    "duration": 102,
    "start_time": "2022-07-26T18:46:47.683Z"
   },
   {
    "duration": 337,
    "start_time": "2022-07-26T18:52:52.715Z"
   },
   {
    "duration": 14,
    "start_time": "2022-07-26T18:53:00.940Z"
   },
   {
    "duration": 160,
    "start_time": "2022-07-26T18:53:08.940Z"
   },
   {
    "duration": 149,
    "start_time": "2022-07-26T18:54:05.908Z"
   },
   {
    "duration": 164,
    "start_time": "2022-07-26T18:54:13.971Z"
   },
   {
    "duration": 147,
    "start_time": "2022-07-26T18:54:36.763Z"
   },
   {
    "duration": 159,
    "start_time": "2022-07-26T18:55:12.395Z"
   },
   {
    "duration": 147,
    "start_time": "2022-07-26T18:55:17.083Z"
   },
   {
    "duration": 56,
    "start_time": "2022-07-26T18:56:49.818Z"
   },
   {
    "duration": 160,
    "start_time": "2022-07-26T18:56:55.289Z"
   },
   {
    "duration": 156,
    "start_time": "2022-07-26T18:57:39.617Z"
   },
   {
    "duration": 153,
    "start_time": "2022-07-26T18:57:45.985Z"
   },
   {
    "duration": 114,
    "start_time": "2022-07-26T18:57:58.654Z"
   },
   {
    "duration": 157,
    "start_time": "2022-07-26T18:58:07.464Z"
   },
   {
    "duration": 162,
    "start_time": "2022-07-26T18:59:20.984Z"
   },
   {
    "duration": 157,
    "start_time": "2022-07-26T18:59:50.346Z"
   },
   {
    "duration": 110,
    "start_time": "2022-07-26T18:59:55.144Z"
   },
   {
    "duration": 111,
    "start_time": "2022-07-26T19:00:10.815Z"
   },
   {
    "duration": 150,
    "start_time": "2022-07-26T19:00:16.774Z"
   },
   {
    "duration": 105,
    "start_time": "2022-07-26T19:00:19.901Z"
   },
   {
    "duration": 113,
    "start_time": "2022-07-26T19:00:23.599Z"
   },
   {
    "duration": 108,
    "start_time": "2022-07-26T19:00:27.183Z"
   },
   {
    "duration": 158,
    "start_time": "2022-07-26T19:00:30.790Z"
   },
   {
    "duration": 162,
    "start_time": "2022-07-26T19:00:41.604Z"
   },
   {
    "duration": 150,
    "start_time": "2022-07-26T19:00:45.398Z"
   },
   {
    "duration": 156,
    "start_time": "2022-07-26T19:00:55.717Z"
   },
   {
    "duration": 107,
    "start_time": "2022-07-26T19:01:05.109Z"
   },
   {
    "duration": 108,
    "start_time": "2022-07-26T19:01:09.678Z"
   },
   {
    "duration": 156,
    "start_time": "2022-07-26T19:01:15.189Z"
   },
   {
    "duration": 173,
    "start_time": "2022-07-26T19:03:11.341Z"
   },
   {
    "duration": 190,
    "start_time": "2022-07-26T19:03:22.651Z"
   },
   {
    "duration": 160,
    "start_time": "2022-07-26T19:03:46.027Z"
   },
   {
    "duration": 160,
    "start_time": "2022-07-26T19:05:19.846Z"
   },
   {
    "duration": 160,
    "start_time": "2022-07-26T19:05:33.750Z"
   },
   {
    "duration": 163,
    "start_time": "2022-07-26T19:05:42.113Z"
   },
   {
    "duration": 158,
    "start_time": "2022-07-26T19:05:52.289Z"
   },
   {
    "duration": 51,
    "start_time": "2022-07-26T19:06:06.537Z"
   },
   {
    "duration": 56,
    "start_time": "2022-07-26T19:06:13.264Z"
   },
   {
    "duration": 161,
    "start_time": "2022-07-26T19:06:16.777Z"
   },
   {
    "duration": 1207,
    "start_time": "2022-07-26T19:12:24.264Z"
   },
   {
    "duration": 821,
    "start_time": "2022-07-26T19:12:59.026Z"
   },
   {
    "duration": 166,
    "start_time": "2022-07-26T19:16:21.664Z"
   },
   {
    "duration": 173,
    "start_time": "2022-07-26T19:16:27.232Z"
   },
   {
    "duration": 159,
    "start_time": "2022-07-26T19:16:34.856Z"
   },
   {
    "duration": 698,
    "start_time": "2022-07-26T19:40:27.835Z"
   },
   {
    "duration": 668,
    "start_time": "2022-07-26T19:40:43.379Z"
   },
   {
    "duration": 680,
    "start_time": "2022-07-26T19:41:05.299Z"
   },
   {
    "duration": 51,
    "start_time": "2022-07-26T19:41:44.761Z"
   },
   {
    "duration": 665,
    "start_time": "2022-07-26T19:41:51.457Z"
   },
   {
    "duration": 650,
    "start_time": "2022-07-26T19:41:59.072Z"
   },
   {
    "duration": 102,
    "start_time": "2022-07-26T19:43:19.781Z"
   },
   {
    "duration": 540,
    "start_time": "2022-07-26T19:43:24.022Z"
   },
   {
    "duration": 117,
    "start_time": "2022-07-26T19:43:51.607Z"
   },
   {
    "duration": 116,
    "start_time": "2022-07-26T19:44:39.942Z"
   },
   {
    "duration": 120,
    "start_time": "2022-07-26T19:45:21.766Z"
   },
   {
    "duration": 127,
    "start_time": "2022-07-26T19:45:38.726Z"
   },
   {
    "duration": 141,
    "start_time": "2022-07-26T19:48:01.723Z"
   },
   {
    "duration": 25,
    "start_time": "2022-07-26T19:48:28.826Z"
   },
   {
    "duration": 124,
    "start_time": "2022-07-26T19:48:33.459Z"
   },
   {
    "duration": 114,
    "start_time": "2022-07-26T19:48:46.810Z"
   },
   {
    "duration": 22,
    "start_time": "2022-07-26T19:48:56.132Z"
   },
   {
    "duration": 22,
    "start_time": "2022-07-26T19:49:08.538Z"
   },
   {
    "duration": 121,
    "start_time": "2022-07-26T19:49:31.473Z"
   },
   {
    "duration": 130,
    "start_time": "2022-07-26T19:50:25.026Z"
   },
   {
    "duration": 510,
    "start_time": "2022-07-26T19:50:38.786Z"
   },
   {
    "duration": 128,
    "start_time": "2022-07-26T19:51:47.239Z"
   },
   {
    "duration": 130,
    "start_time": "2022-07-26T19:51:51.656Z"
   },
   {
    "duration": 133,
    "start_time": "2022-07-26T19:51:56.487Z"
   },
   {
    "duration": 136,
    "start_time": "2022-07-26T19:52:40.479Z"
   },
   {
    "duration": 165,
    "start_time": "2022-07-26T19:53:30.540Z"
   },
   {
    "duration": 119,
    "start_time": "2022-07-26T19:54:53.421Z"
   },
   {
    "duration": 159,
    "start_time": "2022-07-26T19:57:13.218Z"
   },
   {
    "duration": 1049,
    "start_time": "2022-07-26T19:58:31.107Z"
   },
   {
    "duration": 169,
    "start_time": "2022-07-26T19:58:49.129Z"
   },
   {
    "duration": 165,
    "start_time": "2022-07-26T19:59:18.473Z"
   },
   {
    "duration": 163,
    "start_time": "2022-07-26T19:59:32.234Z"
   },
   {
    "duration": 152,
    "start_time": "2022-07-26T20:00:18.183Z"
   },
   {
    "duration": 121,
    "start_time": "2022-07-26T20:00:26.878Z"
   },
   {
    "duration": 114,
    "start_time": "2022-07-26T20:00:37.783Z"
   },
   {
    "duration": 163,
    "start_time": "2022-07-26T20:00:46.831Z"
   },
   {
    "duration": 351,
    "start_time": "2022-07-26T20:17:44.385Z"
   },
   {
    "duration": 321,
    "start_time": "2022-07-26T20:18:02.721Z"
   },
   {
    "duration": 463,
    "start_time": "2022-07-26T20:19:08.303Z"
   },
   {
    "duration": 462,
    "start_time": "2022-07-26T20:19:39.982Z"
   },
   {
    "duration": 291,
    "start_time": "2022-07-26T20:20:34.574Z"
   },
   {
    "duration": 204,
    "start_time": "2022-07-26T20:20:43.291Z"
   },
   {
    "duration": 205,
    "start_time": "2022-07-26T20:20:50.933Z"
   },
   {
    "duration": 203,
    "start_time": "2022-07-26T20:21:51.140Z"
   },
   {
    "duration": 10,
    "start_time": "2022-07-26T20:30:39.006Z"
   },
   {
    "duration": 117,
    "start_time": "2022-07-26T20:34:29.033Z"
   },
   {
    "duration": 187,
    "start_time": "2022-07-26T20:35:35.656Z"
   },
   {
    "duration": 185,
    "start_time": "2022-07-26T20:35:57.319Z"
   },
   {
    "duration": 7,
    "start_time": "2022-07-26T20:36:03.784Z"
   },
   {
    "duration": 243,
    "start_time": "2022-07-26T20:37:21.109Z"
   },
   {
    "duration": 236,
    "start_time": "2022-07-26T20:37:30.910Z"
   },
   {
    "duration": 213,
    "start_time": "2022-07-26T20:37:36.766Z"
   },
   {
    "duration": 231,
    "start_time": "2022-07-26T20:38:03.972Z"
   },
   {
    "duration": 227,
    "start_time": "2022-07-26T20:38:19.245Z"
   },
   {
    "duration": 224,
    "start_time": "2022-07-26T20:38:22.918Z"
   },
   {
    "duration": 135,
    "start_time": "2022-07-26T20:38:36.254Z"
   },
   {
    "duration": 101,
    "start_time": "2022-07-26T20:40:11.500Z"
   },
   {
    "duration": 103,
    "start_time": "2022-07-26T20:40:31.636Z"
   },
   {
    "duration": 503,
    "start_time": "2022-07-26T20:40:36.867Z"
   },
   {
    "duration": 111,
    "start_time": "2022-07-26T20:40:47.196Z"
   },
   {
    "duration": 128,
    "start_time": "2022-07-26T20:41:03.706Z"
   },
   {
    "duration": 57,
    "start_time": "2022-07-26T20:41:11.588Z"
   },
   {
    "duration": 144,
    "start_time": "2022-07-26T20:41:14.003Z"
   },
   {
    "duration": 133,
    "start_time": "2022-07-26T20:41:34.779Z"
   },
   {
    "duration": 250,
    "start_time": "2022-07-26T20:42:23.685Z"
   },
   {
    "duration": 140,
    "start_time": "2022-07-26T20:42:34.978Z"
   },
   {
    "duration": 134,
    "start_time": "2022-07-26T20:42:40.106Z"
   },
   {
    "duration": 287,
    "start_time": "2022-07-26T20:43:39.625Z"
   },
   {
    "duration": 295,
    "start_time": "2022-07-26T20:43:47.728Z"
   },
   {
    "duration": 130,
    "start_time": "2022-07-26T20:44:07.448Z"
   },
   {
    "duration": 130,
    "start_time": "2022-07-26T20:44:17.184Z"
   },
   {
    "duration": 134,
    "start_time": "2022-07-26T20:44:36.912Z"
   },
   {
    "duration": 131,
    "start_time": "2022-07-26T20:44:57.398Z"
   },
   {
    "duration": 230,
    "start_time": "2022-07-26T20:46:20.575Z"
   },
   {
    "duration": 243,
    "start_time": "2022-07-26T20:46:29.646Z"
   },
   {
    "duration": 253,
    "start_time": "2022-07-26T20:47:04.759Z"
   },
   {
    "duration": 252,
    "start_time": "2022-07-26T20:47:17.982Z"
   },
   {
    "duration": 132,
    "start_time": "2022-07-26T20:48:04.557Z"
   },
   {
    "duration": 131,
    "start_time": "2022-07-26T20:49:26.388Z"
   },
   {
    "duration": 214,
    "start_time": "2022-07-26T20:50:02.967Z"
   },
   {
    "duration": 30,
    "start_time": "2022-07-26T20:50:36.588Z"
   },
   {
    "duration": 217,
    "start_time": "2022-07-26T20:50:56.643Z"
   },
   {
    "duration": 181,
    "start_time": "2022-07-26T21:04:04.930Z"
   },
   {
    "duration": 2031,
    "start_time": "2022-07-26T21:04:44.642Z"
   },
   {
    "duration": 4,
    "start_time": "2022-07-26T21:04:46.675Z"
   },
   {
    "duration": 228,
    "start_time": "2022-07-26T21:04:46.680Z"
   },
   {
    "duration": 223,
    "start_time": "2022-07-26T21:04:46.911Z"
   },
   {
    "duration": 14,
    "start_time": "2022-07-26T21:04:47.135Z"
   },
   {
    "duration": 46,
    "start_time": "2022-07-26T21:04:47.150Z"
   },
   {
    "duration": 12,
    "start_time": "2022-07-26T21:04:47.197Z"
   },
   {
    "duration": 2,
    "start_time": "2022-07-26T21:04:47.210Z"
   },
   {
    "duration": 6,
    "start_time": "2022-07-26T21:04:47.234Z"
   },
   {
    "duration": 8,
    "start_time": "2022-07-26T21:04:47.242Z"
   },
   {
    "duration": 116,
    "start_time": "2022-07-26T21:04:47.251Z"
   },
   {
    "duration": 17,
    "start_time": "2022-07-26T21:04:47.369Z"
   },
   {
    "duration": 97,
    "start_time": "2022-07-26T21:04:47.387Z"
   },
   {
    "duration": 57,
    "start_time": "2022-07-26T21:04:47.485Z"
   },
   {
    "duration": 7,
    "start_time": "2022-07-26T21:04:47.544Z"
   },
   {
    "duration": 267,
    "start_time": "2022-07-26T21:04:47.552Z"
   },
   {
    "duration": 178,
    "start_time": "2022-07-26T21:04:47.821Z"
   },
   {
    "duration": 198,
    "start_time": "2022-07-26T21:04:48.001Z"
   },
   {
    "duration": 281,
    "start_time": "2022-07-26T21:04:48.200Z"
   },
   {
    "duration": 200,
    "start_time": "2022-07-26T21:04:48.482Z"
   },
   {
    "duration": 210,
    "start_time": "2022-07-26T21:04:48.683Z"
   },
   {
    "duration": 199,
    "start_time": "2022-07-26T21:04:48.895Z"
   },
   {
    "duration": 195,
    "start_time": "2022-07-26T21:04:49.095Z"
   },
   {
    "duration": 256,
    "start_time": "2022-07-26T21:04:49.291Z"
   },
   {
    "duration": 194,
    "start_time": "2022-07-26T21:04:49.549Z"
   },
   {
    "duration": 196,
    "start_time": "2022-07-26T21:04:49.745Z"
   },
   {
    "duration": 193,
    "start_time": "2022-07-26T21:04:49.942Z"
   },
   {
    "duration": 216,
    "start_time": "2022-07-26T21:04:50.138Z"
   },
   {
    "duration": 210,
    "start_time": "2022-07-26T21:04:50.356Z"
   },
   {
    "duration": 279,
    "start_time": "2022-07-26T21:04:50.568Z"
   },
   {
    "duration": 354,
    "start_time": "2022-07-26T21:04:50.849Z"
   },
   {
    "duration": 200,
    "start_time": "2022-07-26T21:04:51.205Z"
   },
   {
    "duration": 201,
    "start_time": "2022-07-26T21:04:51.407Z"
   },
   {
    "duration": 202,
    "start_time": "2022-07-26T21:04:51.610Z"
   },
   {
    "duration": 308,
    "start_time": "2022-07-26T21:04:51.814Z"
   },
   {
    "duration": 205,
    "start_time": "2022-07-26T21:04:52.124Z"
   },
   {
    "duration": 208,
    "start_time": "2022-07-26T21:04:52.331Z"
   },
   {
    "duration": 6,
    "start_time": "2022-07-26T21:04:52.541Z"
   },
   {
    "duration": 195,
    "start_time": "2022-07-26T21:04:52.548Z"
   },
   {
    "duration": 156,
    "start_time": "2022-07-26T21:04:52.745Z"
   },
   {
    "duration": 165,
    "start_time": "2022-07-26T21:04:52.903Z"
   },
   {
    "duration": 172,
    "start_time": "2022-07-26T21:04:53.070Z"
   },
   {
    "duration": 108,
    "start_time": "2022-07-26T21:04:53.243Z"
   },
   {
    "duration": 234,
    "start_time": "2022-07-26T21:04:53.352Z"
   },
   {
    "duration": 101,
    "start_time": "2022-07-26T21:04:53.587Z"
   },
   {
    "duration": 0,
    "start_time": "2022-07-26T21:04:53.690Z"
   },
   {
    "duration": 0,
    "start_time": "2022-07-26T21:04:53.691Z"
   },
   {
    "duration": 211,
    "start_time": "2022-07-26T21:05:46.117Z"
   },
   {
    "duration": 215,
    "start_time": "2022-07-26T21:06:01.370Z"
   },
   {
    "duration": 1854,
    "start_time": "2022-07-26T21:09:34.160Z"
   },
   {
    "duration": 4,
    "start_time": "2022-07-26T21:09:36.016Z"
   },
   {
    "duration": 233,
    "start_time": "2022-07-26T21:09:36.021Z"
   },
   {
    "duration": 223,
    "start_time": "2022-07-26T21:09:36.256Z"
   },
   {
    "duration": 14,
    "start_time": "2022-07-26T21:09:36.481Z"
   },
   {
    "duration": 60,
    "start_time": "2022-07-26T21:09:36.497Z"
   },
   {
    "duration": 13,
    "start_time": "2022-07-26T21:09:36.558Z"
   },
   {
    "duration": 2,
    "start_time": "2022-07-26T21:09:36.573Z"
   },
   {
    "duration": 4,
    "start_time": "2022-07-26T21:09:36.577Z"
   },
   {
    "duration": 6,
    "start_time": "2022-07-26T21:09:36.584Z"
   },
   {
    "duration": 122,
    "start_time": "2022-07-26T21:09:36.592Z"
   },
   {
    "duration": 19,
    "start_time": "2022-07-26T21:09:36.715Z"
   },
   {
    "duration": 88,
    "start_time": "2022-07-26T21:09:36.736Z"
   },
   {
    "duration": 51,
    "start_time": "2022-07-26T21:09:36.833Z"
   },
   {
    "duration": 7,
    "start_time": "2022-07-26T21:09:36.886Z"
   },
   {
    "duration": 269,
    "start_time": "2022-07-26T21:09:36.895Z"
   },
   {
    "duration": 190,
    "start_time": "2022-07-26T21:09:37.165Z"
   },
   {
    "duration": 197,
    "start_time": "2022-07-26T21:09:37.360Z"
   },
   {
    "duration": 273,
    "start_time": "2022-07-26T21:09:37.558Z"
   },
   {
    "duration": 202,
    "start_time": "2022-07-26T21:09:37.833Z"
   },
   {
    "duration": 214,
    "start_time": "2022-07-26T21:09:38.037Z"
   },
   {
    "duration": 201,
    "start_time": "2022-07-26T21:09:38.253Z"
   },
   {
    "duration": 192,
    "start_time": "2022-07-26T21:09:38.455Z"
   },
   {
    "duration": 257,
    "start_time": "2022-07-26T21:09:38.649Z"
   },
   {
    "duration": 192,
    "start_time": "2022-07-26T21:09:38.908Z"
   },
   {
    "duration": 195,
    "start_time": "2022-07-26T21:09:39.101Z"
   },
   {
    "duration": 178,
    "start_time": "2022-07-26T21:09:39.298Z"
   },
   {
    "duration": 202,
    "start_time": "2022-07-26T21:09:39.479Z"
   },
   {
    "duration": 197,
    "start_time": "2022-07-26T21:09:39.682Z"
   },
   {
    "duration": 284,
    "start_time": "2022-07-26T21:09:39.881Z"
   },
   {
    "duration": 321,
    "start_time": "2022-07-26T21:09:40.167Z"
   },
   {
    "duration": 192,
    "start_time": "2022-07-26T21:09:40.490Z"
   },
   {
    "duration": 192,
    "start_time": "2022-07-26T21:09:40.684Z"
   },
   {
    "duration": 206,
    "start_time": "2022-07-26T21:09:40.877Z"
   },
   {
    "duration": 321,
    "start_time": "2022-07-26T21:09:41.085Z"
   },
   {
    "duration": 201,
    "start_time": "2022-07-26T21:09:41.407Z"
   },
   {
    "duration": 207,
    "start_time": "2022-07-26T21:09:41.610Z"
   },
   {
    "duration": 5,
    "start_time": "2022-07-26T21:09:41.818Z"
   },
   {
    "duration": 161,
    "start_time": "2022-07-26T21:09:41.833Z"
   },
   {
    "duration": 168,
    "start_time": "2022-07-26T21:09:41.996Z"
   },
   {
    "duration": 156,
    "start_time": "2022-07-26T21:09:42.166Z"
   },
   {
    "duration": 163,
    "start_time": "2022-07-26T21:09:42.324Z"
   },
   {
    "duration": 127,
    "start_time": "2022-07-26T21:09:42.489Z"
   },
   {
    "duration": 239,
    "start_time": "2022-07-26T21:09:42.618Z"
   },
   {
    "duration": 101,
    "start_time": "2022-07-26T21:09:42.858Z"
   },
   {
    "duration": 0,
    "start_time": "2022-07-26T21:09:42.960Z"
   },
   {
    "duration": 0,
    "start_time": "2022-07-26T21:09:42.961Z"
   },
   {
    "duration": 213,
    "start_time": "2022-07-26T21:10:05.297Z"
   },
   {
    "duration": 1845,
    "start_time": "2022-07-26T21:10:22.589Z"
   },
   {
    "duration": 4,
    "start_time": "2022-07-26T21:10:24.436Z"
   },
   {
    "duration": 232,
    "start_time": "2022-07-26T21:10:24.442Z"
   },
   {
    "duration": 223,
    "start_time": "2022-07-26T21:10:24.676Z"
   },
   {
    "duration": 15,
    "start_time": "2022-07-26T21:10:24.902Z"
   },
   {
    "duration": 47,
    "start_time": "2022-07-26T21:10:24.933Z"
   },
   {
    "duration": 13,
    "start_time": "2022-07-26T21:10:24.982Z"
   },
   {
    "duration": 2,
    "start_time": "2022-07-26T21:10:24.997Z"
   },
   {
    "duration": 11,
    "start_time": "2022-07-26T21:10:25.001Z"
   },
   {
    "duration": 3,
    "start_time": "2022-07-26T21:10:25.033Z"
   },
   {
    "duration": 121,
    "start_time": "2022-07-26T21:10:25.037Z"
   },
   {
    "duration": 17,
    "start_time": "2022-07-26T21:10:25.159Z"
   },
   {
    "duration": 95,
    "start_time": "2022-07-26T21:10:25.177Z"
   },
   {
    "duration": 63,
    "start_time": "2022-07-26T21:10:25.276Z"
   },
   {
    "duration": 8,
    "start_time": "2022-07-26T21:10:25.341Z"
   },
   {
    "duration": 264,
    "start_time": "2022-07-26T21:10:25.351Z"
   },
   {
    "duration": 185,
    "start_time": "2022-07-26T21:10:25.617Z"
   },
   {
    "duration": 201,
    "start_time": "2022-07-26T21:10:25.804Z"
   },
   {
    "duration": 287,
    "start_time": "2022-07-26T21:10:26.007Z"
   },
   {
    "duration": 216,
    "start_time": "2022-07-26T21:10:26.295Z"
   },
   {
    "duration": 203,
    "start_time": "2022-07-26T21:10:26.512Z"
   },
   {
    "duration": 202,
    "start_time": "2022-07-26T21:10:26.716Z"
   },
   {
    "duration": 195,
    "start_time": "2022-07-26T21:10:26.919Z"
   },
   {
    "duration": 253,
    "start_time": "2022-07-26T21:10:27.116Z"
   },
   {
    "duration": 191,
    "start_time": "2022-07-26T21:10:27.370Z"
   },
   {
    "duration": 197,
    "start_time": "2022-07-26T21:10:27.562Z"
   },
   {
    "duration": 182,
    "start_time": "2022-07-26T21:10:27.761Z"
   },
   {
    "duration": 202,
    "start_time": "2022-07-26T21:10:27.945Z"
   },
   {
    "duration": 210,
    "start_time": "2022-07-26T21:10:28.149Z"
   },
   {
    "duration": 287,
    "start_time": "2022-07-26T21:10:28.361Z"
   },
   {
    "duration": 335,
    "start_time": "2022-07-26T21:10:28.650Z"
   },
   {
    "duration": 189,
    "start_time": "2022-07-26T21:10:28.986Z"
   },
   {
    "duration": 196,
    "start_time": "2022-07-26T21:10:29.177Z"
   },
   {
    "duration": 200,
    "start_time": "2022-07-26T21:10:29.375Z"
   },
   {
    "duration": 301,
    "start_time": "2022-07-26T21:10:29.576Z"
   },
   {
    "duration": 198,
    "start_time": "2022-07-26T21:10:29.878Z"
   },
   {
    "duration": 201,
    "start_time": "2022-07-26T21:10:30.078Z"
   },
   {
    "duration": 5,
    "start_time": "2022-07-26T21:10:30.280Z"
   },
   {
    "duration": 176,
    "start_time": "2022-07-26T21:10:30.287Z"
   },
   {
    "duration": 163,
    "start_time": "2022-07-26T21:10:30.465Z"
   },
   {
    "duration": 168,
    "start_time": "2022-07-26T21:10:30.633Z"
   },
   {
    "duration": 175,
    "start_time": "2022-07-26T21:10:30.802Z"
   },
   {
    "duration": 117,
    "start_time": "2022-07-26T21:10:30.979Z"
   },
   {
    "duration": 250,
    "start_time": "2022-07-26T21:10:31.097Z"
   },
   {
    "duration": 120,
    "start_time": "2022-07-26T21:10:31.349Z"
   },
   {
    "duration": 0,
    "start_time": "2022-07-26T21:10:31.471Z"
   },
   {
    "duration": 0,
    "start_time": "2022-07-26T21:10:31.472Z"
   },
   {
    "duration": 203,
    "start_time": "2022-07-26T21:11:08.403Z"
   },
   {
    "duration": 1912,
    "start_time": "2022-07-26T21:11:54.299Z"
   },
   {
    "duration": 5,
    "start_time": "2022-07-26T21:11:56.213Z"
   },
   {
    "duration": 244,
    "start_time": "2022-07-26T21:11:56.220Z"
   },
   {
    "duration": 241,
    "start_time": "2022-07-26T21:11:56.466Z"
   },
   {
    "duration": 13,
    "start_time": "2022-07-26T21:11:56.710Z"
   },
   {
    "duration": 49,
    "start_time": "2022-07-26T21:11:56.734Z"
   },
   {
    "duration": 12,
    "start_time": "2022-07-26T21:11:56.785Z"
   },
   {
    "duration": 2,
    "start_time": "2022-07-26T21:11:56.799Z"
   },
   {
    "duration": 5,
    "start_time": "2022-07-26T21:11:56.802Z"
   },
   {
    "duration": 29,
    "start_time": "2022-07-26T21:11:56.808Z"
   },
   {
    "duration": 127,
    "start_time": "2022-07-26T21:11:56.838Z"
   },
   {
    "duration": 17,
    "start_time": "2022-07-26T21:11:56.966Z"
   },
   {
    "duration": 100,
    "start_time": "2022-07-26T21:11:56.984Z"
   },
   {
    "duration": 55,
    "start_time": "2022-07-26T21:11:57.088Z"
   },
   {
    "duration": 7,
    "start_time": "2022-07-26T21:11:57.146Z"
   },
   {
    "duration": 268,
    "start_time": "2022-07-26T21:11:57.155Z"
   },
   {
    "duration": 189,
    "start_time": "2022-07-26T21:11:57.425Z"
   },
   {
    "duration": 204,
    "start_time": "2022-07-26T21:11:57.616Z"
   },
   {
    "duration": 289,
    "start_time": "2022-07-26T21:11:57.822Z"
   },
   {
    "duration": 202,
    "start_time": "2022-07-26T21:11:58.112Z"
   },
   {
    "duration": 203,
    "start_time": "2022-07-26T21:11:58.315Z"
   },
   {
    "duration": 237,
    "start_time": "2022-07-26T21:11:58.520Z"
   },
   {
    "duration": 195,
    "start_time": "2022-07-26T21:11:58.759Z"
   },
   {
    "duration": 257,
    "start_time": "2022-07-26T21:11:58.956Z"
   },
   {
    "duration": 201,
    "start_time": "2022-07-26T21:11:59.216Z"
   },
   {
    "duration": 186,
    "start_time": "2022-07-26T21:11:59.418Z"
   },
   {
    "duration": 182,
    "start_time": "2022-07-26T21:11:59.606Z"
   },
   {
    "duration": 197,
    "start_time": "2022-07-26T21:11:59.789Z"
   },
   {
    "duration": 214,
    "start_time": "2022-07-26T21:11:59.988Z"
   },
   {
    "duration": 292,
    "start_time": "2022-07-26T21:12:00.204Z"
   },
   {
    "duration": 325,
    "start_time": "2022-07-26T21:12:00.498Z"
   },
   {
    "duration": 198,
    "start_time": "2022-07-26T21:12:00.825Z"
   },
   {
    "duration": 211,
    "start_time": "2022-07-26T21:12:01.024Z"
   },
   {
    "duration": 216,
    "start_time": "2022-07-26T21:12:01.236Z"
   },
   {
    "duration": 308,
    "start_time": "2022-07-26T21:12:01.454Z"
   },
   {
    "duration": 196,
    "start_time": "2022-07-26T21:12:01.763Z"
   },
   {
    "duration": 212,
    "start_time": "2022-07-26T21:12:01.960Z"
   },
   {
    "duration": 5,
    "start_time": "2022-07-26T21:12:02.173Z"
   },
   {
    "duration": 162,
    "start_time": "2022-07-26T21:12:02.179Z"
   },
   {
    "duration": 160,
    "start_time": "2022-07-26T21:12:02.343Z"
   },
   {
    "duration": 197,
    "start_time": "2022-07-26T21:12:02.507Z"
   },
   {
    "duration": 170,
    "start_time": "2022-07-26T21:12:02.705Z"
   },
   {
    "duration": 110,
    "start_time": "2022-07-26T21:12:02.876Z"
   },
   {
    "duration": 225,
    "start_time": "2022-07-26T21:12:02.988Z"
   },
   {
    "duration": 105,
    "start_time": "2022-07-26T21:12:03.214Z"
   },
   {
    "duration": 0,
    "start_time": "2022-07-26T21:12:03.320Z"
   },
   {
    "duration": 0,
    "start_time": "2022-07-26T21:12:03.322Z"
   },
   {
    "duration": 210,
    "start_time": "2022-07-26T21:18:09.464Z"
   },
   {
    "duration": 1863,
    "start_time": "2022-07-26T21:19:23.969Z"
   },
   {
    "duration": 4,
    "start_time": "2022-07-26T21:19:25.834Z"
   },
   {
    "duration": 232,
    "start_time": "2022-07-26T21:19:25.840Z"
   },
   {
    "duration": 73,
    "start_time": "2022-07-26T21:19:26.075Z"
   },
   {
    "duration": 1,
    "start_time": "2022-07-26T21:19:26.150Z"
   },
   {
    "duration": 0,
    "start_time": "2022-07-26T21:19:26.152Z"
   },
   {
    "duration": 0,
    "start_time": "2022-07-26T21:19:26.153Z"
   },
   {
    "duration": 0,
    "start_time": "2022-07-26T21:19:26.154Z"
   },
   {
    "duration": 0,
    "start_time": "2022-07-26T21:19:26.155Z"
   },
   {
    "duration": 0,
    "start_time": "2022-07-26T21:19:26.157Z"
   },
   {
    "duration": 0,
    "start_time": "2022-07-26T21:19:26.158Z"
   },
   {
    "duration": 0,
    "start_time": "2022-07-26T21:19:26.160Z"
   },
   {
    "duration": 0,
    "start_time": "2022-07-26T21:19:26.161Z"
   },
   {
    "duration": 0,
    "start_time": "2022-07-26T21:19:26.162Z"
   },
   {
    "duration": 0,
    "start_time": "2022-07-26T21:19:26.163Z"
   },
   {
    "duration": 0,
    "start_time": "2022-07-26T21:19:26.165Z"
   },
   {
    "duration": 0,
    "start_time": "2022-07-26T21:19:26.166Z"
   },
   {
    "duration": 0,
    "start_time": "2022-07-26T21:19:26.167Z"
   },
   {
    "duration": 0,
    "start_time": "2022-07-26T21:19:26.169Z"
   },
   {
    "duration": 0,
    "start_time": "2022-07-26T21:19:26.170Z"
   },
   {
    "duration": 0,
    "start_time": "2022-07-26T21:19:26.171Z"
   },
   {
    "duration": 0,
    "start_time": "2022-07-26T21:19:26.172Z"
   },
   {
    "duration": 0,
    "start_time": "2022-07-26T21:19:26.173Z"
   },
   {
    "duration": 0,
    "start_time": "2022-07-26T21:19:26.175Z"
   },
   {
    "duration": 0,
    "start_time": "2022-07-26T21:19:26.176Z"
   },
   {
    "duration": 0,
    "start_time": "2022-07-26T21:19:26.177Z"
   },
   {
    "duration": 0,
    "start_time": "2022-07-26T21:19:26.179Z"
   },
   {
    "duration": 0,
    "start_time": "2022-07-26T21:19:26.180Z"
   },
   {
    "duration": 0,
    "start_time": "2022-07-26T21:19:26.182Z"
   },
   {
    "duration": 0,
    "start_time": "2022-07-26T21:19:26.183Z"
   },
   {
    "duration": 0,
    "start_time": "2022-07-26T21:19:26.184Z"
   },
   {
    "duration": 0,
    "start_time": "2022-07-26T21:19:26.185Z"
   },
   {
    "duration": 0,
    "start_time": "2022-07-26T21:19:26.186Z"
   },
   {
    "duration": 0,
    "start_time": "2022-07-26T21:19:26.188Z"
   },
   {
    "duration": 0,
    "start_time": "2022-07-26T21:19:26.189Z"
   },
   {
    "duration": 0,
    "start_time": "2022-07-26T21:19:26.234Z"
   },
   {
    "duration": 0,
    "start_time": "2022-07-26T21:19:26.235Z"
   },
   {
    "duration": 0,
    "start_time": "2022-07-26T21:19:26.237Z"
   },
   {
    "duration": 0,
    "start_time": "2022-07-26T21:19:26.238Z"
   },
   {
    "duration": 0,
    "start_time": "2022-07-26T21:19:26.240Z"
   },
   {
    "duration": 0,
    "start_time": "2022-07-26T21:19:26.241Z"
   },
   {
    "duration": 0,
    "start_time": "2022-07-26T21:19:26.242Z"
   },
   {
    "duration": 0,
    "start_time": "2022-07-26T21:19:26.243Z"
   },
   {
    "duration": 0,
    "start_time": "2022-07-26T21:19:26.245Z"
   },
   {
    "duration": 0,
    "start_time": "2022-07-26T21:19:26.246Z"
   },
   {
    "duration": 0,
    "start_time": "2022-07-26T21:19:26.247Z"
   },
   {
    "duration": 0,
    "start_time": "2022-07-26T21:19:26.249Z"
   },
   {
    "duration": 1937,
    "start_time": "2022-07-26T21:20:09.524Z"
   },
   {
    "duration": 4,
    "start_time": "2022-07-26T21:20:11.462Z"
   },
   {
    "duration": 230,
    "start_time": "2022-07-26T21:20:11.468Z"
   },
   {
    "duration": 222,
    "start_time": "2022-07-26T21:20:11.700Z"
   },
   {
    "duration": 22,
    "start_time": "2022-07-26T21:20:11.924Z"
   },
   {
    "duration": 48,
    "start_time": "2022-07-26T21:20:11.948Z"
   },
   {
    "duration": 12,
    "start_time": "2022-07-26T21:20:11.998Z"
   },
   {
    "duration": 3,
    "start_time": "2022-07-26T21:20:12.034Z"
   },
   {
    "duration": 5,
    "start_time": "2022-07-26T21:20:12.039Z"
   },
   {
    "duration": 13,
    "start_time": "2022-07-26T21:20:12.047Z"
   },
   {
    "duration": 117,
    "start_time": "2022-07-26T21:20:12.062Z"
   },
   {
    "duration": 18,
    "start_time": "2022-07-26T21:20:12.180Z"
   },
   {
    "duration": 96,
    "start_time": "2022-07-26T21:20:12.199Z"
   },
   {
    "duration": 59,
    "start_time": "2022-07-26T21:20:12.297Z"
   },
   {
    "duration": 7,
    "start_time": "2022-07-26T21:20:12.358Z"
   },
   {
    "duration": 293,
    "start_time": "2022-07-26T21:20:12.367Z"
   },
   {
    "duration": 181,
    "start_time": "2022-07-26T21:20:12.661Z"
   },
   {
    "duration": 202,
    "start_time": "2022-07-26T21:20:12.844Z"
   },
   {
    "duration": 263,
    "start_time": "2022-07-26T21:20:13.048Z"
   },
   {
    "duration": 196,
    "start_time": "2022-07-26T21:20:13.313Z"
   },
   {
    "duration": 199,
    "start_time": "2022-07-26T21:20:13.511Z"
   },
   {
    "duration": 211,
    "start_time": "2022-07-26T21:20:13.711Z"
   },
   {
    "duration": 207,
    "start_time": "2022-07-26T21:20:13.924Z"
   },
   {
    "duration": 248,
    "start_time": "2022-07-26T21:20:14.133Z"
   },
   {
    "duration": 192,
    "start_time": "2022-07-26T21:20:14.382Z"
   },
   {
    "duration": 194,
    "start_time": "2022-07-26T21:20:14.575Z"
   },
   {
    "duration": 187,
    "start_time": "2022-07-26T21:20:14.771Z"
   },
   {
    "duration": 202,
    "start_time": "2022-07-26T21:20:14.961Z"
   },
   {
    "duration": 204,
    "start_time": "2022-07-26T21:20:15.165Z"
   },
   {
    "duration": 283,
    "start_time": "2022-07-26T21:20:15.370Z"
   },
   {
    "duration": 318,
    "start_time": "2022-07-26T21:20:15.655Z"
   },
   {
    "duration": 203,
    "start_time": "2022-07-26T21:20:15.974Z"
   },
   {
    "duration": 196,
    "start_time": "2022-07-26T21:20:16.179Z"
   },
   {
    "duration": 199,
    "start_time": "2022-07-26T21:20:16.376Z"
   },
   {
    "duration": 296,
    "start_time": "2022-07-26T21:20:16.576Z"
   },
   {
    "duration": 195,
    "start_time": "2022-07-26T21:20:16.874Z"
   },
   {
    "duration": 201,
    "start_time": "2022-07-26T21:20:17.071Z"
   },
   {
    "duration": 5,
    "start_time": "2022-07-26T21:20:17.274Z"
   },
   {
    "duration": 163,
    "start_time": "2022-07-26T21:20:17.280Z"
   },
   {
    "duration": 154,
    "start_time": "2022-07-26T21:20:17.444Z"
   },
   {
    "duration": 166,
    "start_time": "2022-07-26T21:20:17.600Z"
   },
   {
    "duration": 177,
    "start_time": "2022-07-26T21:20:17.767Z"
   },
   {
    "duration": 105,
    "start_time": "2022-07-26T21:20:17.945Z"
   },
   {
    "duration": 233,
    "start_time": "2022-07-26T21:20:18.051Z"
   },
   {
    "duration": 96,
    "start_time": "2022-07-26T21:20:18.286Z"
   },
   {
    "duration": 0,
    "start_time": "2022-07-26T21:20:18.384Z"
   },
   {
    "duration": 0,
    "start_time": "2022-07-26T21:20:18.385Z"
   },
   {
    "duration": 187,
    "start_time": "2022-07-26T21:21:33.913Z"
   },
   {
    "duration": 176,
    "start_time": "2022-07-26T21:21:56.478Z"
   },
   {
    "duration": 173,
    "start_time": "2022-07-26T21:21:58.946Z"
   },
   {
    "duration": 189,
    "start_time": "2022-07-26T21:22:05.914Z"
   },
   {
    "duration": 193,
    "start_time": "2022-07-26T21:22:17.332Z"
   },
   {
    "duration": 313,
    "start_time": "2022-07-26T21:22:46.882Z"
   },
   {
    "duration": 170,
    "start_time": "2022-07-26T21:23:21.730Z"
   },
   {
    "duration": 169,
    "start_time": "2022-07-26T21:23:41.865Z"
   },
   {
    "duration": 25,
    "start_time": "2022-07-26T21:24:51.080Z"
   },
   {
    "duration": 24,
    "start_time": "2022-07-26T21:25:19.096Z"
   },
   {
    "duration": 26,
    "start_time": "2022-07-26T21:25:56.704Z"
   },
   {
    "duration": 209,
    "start_time": "2022-07-26T21:26:16.926Z"
   },
   {
    "duration": 52,
    "start_time": "2022-07-26T21:28:24.607Z"
   },
   {
    "duration": 224,
    "start_time": "2022-07-26T21:29:01.525Z"
   },
   {
    "duration": 237,
    "start_time": "2022-07-26T21:29:58.132Z"
   },
   {
    "duration": 228,
    "start_time": "2022-07-26T21:30:51.954Z"
   },
   {
    "duration": 227,
    "start_time": "2022-07-26T21:31:07.970Z"
   },
   {
    "duration": 242,
    "start_time": "2022-07-26T21:31:17.146Z"
   },
   {
    "duration": 41,
    "start_time": "2022-07-26T21:32:21.820Z"
   },
   {
    "duration": 39,
    "start_time": "2022-07-26T21:32:24.656Z"
   },
   {
    "duration": 232,
    "start_time": "2022-07-26T21:32:27.737Z"
   },
   {
    "duration": 224,
    "start_time": "2022-07-26T21:32:38.048Z"
   },
   {
    "duration": 38,
    "start_time": "2022-07-26T21:34:23.536Z"
   },
   {
    "duration": 38,
    "start_time": "2022-07-26T21:34:28.941Z"
   },
   {
    "duration": 38,
    "start_time": "2022-07-26T21:35:01.238Z"
   },
   {
    "duration": 222,
    "start_time": "2022-07-26T21:35:14.815Z"
   },
   {
    "duration": 228,
    "start_time": "2022-07-26T21:35:35.265Z"
   },
   {
    "duration": 221,
    "start_time": "2022-07-26T21:35:48.542Z"
   },
   {
    "duration": 950,
    "start_time": "2022-07-26T21:36:04.981Z"
   },
   {
    "duration": 218,
    "start_time": "2022-07-26T21:37:16.222Z"
   },
   {
    "duration": 212,
    "start_time": "2022-07-26T21:41:44.005Z"
   },
   {
    "duration": 203,
    "start_time": "2022-07-26T21:42:35.560Z"
   },
   {
    "duration": 219,
    "start_time": "2022-07-26T21:42:50.640Z"
   },
   {
    "duration": 242,
    "start_time": "2022-07-26T21:44:26.006Z"
   },
   {
    "duration": 242,
    "start_time": "2022-07-26T21:44:38.800Z"
   },
   {
    "duration": 52,
    "start_time": "2022-07-26T21:46:56.508Z"
   },
   {
    "duration": 37,
    "start_time": "2022-07-26T21:47:04.215Z"
   },
   {
    "duration": 38,
    "start_time": "2022-07-26T21:47:18.274Z"
   },
   {
    "duration": 66,
    "start_time": "2022-07-26T21:47:30.204Z"
   },
   {
    "duration": 38,
    "start_time": "2022-07-26T21:47:36.835Z"
   },
   {
    "duration": 50,
    "start_time": "2022-07-26T21:48:11.738Z"
   },
   {
    "duration": 44,
    "start_time": "2022-07-26T21:48:16.155Z"
   },
   {
    "duration": 233,
    "start_time": "2022-07-26T21:48:25.876Z"
   },
   {
    "duration": 361,
    "start_time": "2022-07-26T21:49:01.323Z"
   },
   {
    "duration": 222,
    "start_time": "2022-07-26T21:49:29.674Z"
   },
   {
    "duration": 225,
    "start_time": "2022-07-26T21:53:46.398Z"
   },
   {
    "duration": 220,
    "start_time": "2022-07-26T21:54:00.174Z"
   },
   {
    "duration": 227,
    "start_time": "2022-07-26T21:54:05.221Z"
   },
   {
    "duration": 126,
    "start_time": "2022-07-26T21:54:27.893Z"
   },
   {
    "duration": 127,
    "start_time": "2022-07-26T21:55:51.637Z"
   },
   {
    "duration": 124,
    "start_time": "2022-07-26T21:56:01.107Z"
   },
   {
    "duration": 127,
    "start_time": "2022-07-26T21:56:18.899Z"
   },
   {
    "duration": 120,
    "start_time": "2022-07-26T21:56:29.677Z"
   },
   {
    "duration": 62,
    "start_time": "2022-07-26T23:13:11.535Z"
   },
   {
    "duration": 226,
    "start_time": "2022-07-26T23:13:34.880Z"
   },
   {
    "duration": 223,
    "start_time": "2022-07-26T23:15:48.124Z"
   },
   {
    "duration": 229,
    "start_time": "2022-07-26T23:16:21.251Z"
   },
   {
    "duration": 39,
    "start_time": "2022-07-26T23:17:10.378Z"
   },
   {
    "duration": 40,
    "start_time": "2022-07-26T23:18:01.867Z"
   },
   {
    "duration": 242,
    "start_time": "2022-07-26T23:19:07.633Z"
   },
   {
    "duration": 220,
    "start_time": "2022-07-26T23:20:06.175Z"
   },
   {
    "duration": 219,
    "start_time": "2022-07-26T23:20:14.856Z"
   },
   {
    "duration": 222,
    "start_time": "2022-07-26T23:20:28.680Z"
   },
   {
    "duration": 37,
    "start_time": "2022-07-26T23:22:28.951Z"
   },
   {
    "duration": 36,
    "start_time": "2022-07-26T23:23:42.246Z"
   },
   {
    "duration": 40,
    "start_time": "2022-07-26T23:23:53.572Z"
   },
   {
    "duration": 40,
    "start_time": "2022-07-26T23:24:27.228Z"
   },
   {
    "duration": 5,
    "start_time": "2022-07-26T23:24:59.076Z"
   },
   {
    "duration": 37,
    "start_time": "2022-07-26T23:25:17.411Z"
   },
   {
    "duration": 37,
    "start_time": "2022-07-26T23:34:13.772Z"
   },
   {
    "duration": 41,
    "start_time": "2022-07-26T23:34:29.524Z"
   },
   {
    "duration": 39,
    "start_time": "2022-07-26T23:34:42.139Z"
   },
   {
    "duration": 5,
    "start_time": "2022-07-26T23:35:46.243Z"
   },
   {
    "duration": 219,
    "start_time": "2022-07-26T23:35:50.522Z"
   },
   {
    "duration": 219,
    "start_time": "2022-07-26T23:36:14.459Z"
   },
   {
    "duration": 219,
    "start_time": "2022-07-26T23:36:28.843Z"
   },
   {
    "duration": 170,
    "start_time": "2022-07-26T23:51:44.108Z"
   },
   {
    "duration": 427,
    "start_time": "2022-07-26T23:59:03.150Z"
   },
   {
    "duration": 1865,
    "start_time": "2022-07-27T00:01:19.255Z"
   },
   {
    "duration": 5,
    "start_time": "2022-07-27T00:01:21.121Z"
   },
   {
    "duration": 219,
    "start_time": "2022-07-27T00:01:21.133Z"
   },
   {
    "duration": 195,
    "start_time": "2022-07-27T00:01:21.354Z"
   },
   {
    "duration": 13,
    "start_time": "2022-07-27T00:01:21.551Z"
   },
   {
    "duration": 45,
    "start_time": "2022-07-27T00:01:21.566Z"
   },
   {
    "duration": 28,
    "start_time": "2022-07-27T00:01:21.613Z"
   },
   {
    "duration": 2,
    "start_time": "2022-07-27T00:01:21.643Z"
   },
   {
    "duration": 8,
    "start_time": "2022-07-27T00:01:21.646Z"
   },
   {
    "duration": 6,
    "start_time": "2022-07-27T00:01:21.656Z"
   },
   {
    "duration": 115,
    "start_time": "2022-07-27T00:01:21.663Z"
   },
   {
    "duration": 15,
    "start_time": "2022-07-27T00:01:21.780Z"
   },
   {
    "duration": 104,
    "start_time": "2022-07-27T00:01:21.797Z"
   },
   {
    "duration": 59,
    "start_time": "2022-07-27T00:01:21.903Z"
   },
   {
    "duration": 7,
    "start_time": "2022-07-27T00:01:21.963Z"
   },
   {
    "duration": 277,
    "start_time": "2022-07-27T00:01:21.971Z"
   },
   {
    "duration": 178,
    "start_time": "2022-07-27T00:01:22.249Z"
   },
   {
    "duration": 278,
    "start_time": "2022-07-27T00:01:22.433Z"
   },
   {
    "duration": 192,
    "start_time": "2022-07-27T00:01:22.713Z"
   },
   {
    "duration": 192,
    "start_time": "2022-07-27T00:01:22.907Z"
   },
   {
    "duration": 195,
    "start_time": "2022-07-27T00:01:23.100Z"
   },
   {
    "duration": 201,
    "start_time": "2022-07-27T00:01:23.296Z"
   },
   {
    "duration": 180,
    "start_time": "2022-07-27T00:01:23.498Z"
   },
   {
    "duration": 243,
    "start_time": "2022-07-27T00:01:23.680Z"
   },
   {
    "duration": 199,
    "start_time": "2022-07-27T00:01:23.925Z"
   },
   {
    "duration": 188,
    "start_time": "2022-07-27T00:01:24.125Z"
   },
   {
    "duration": 175,
    "start_time": "2022-07-27T00:01:24.315Z"
   },
   {
    "duration": 198,
    "start_time": "2022-07-27T00:01:24.494Z"
   },
   {
    "duration": 271,
    "start_time": "2022-07-27T00:01:24.693Z"
   },
   {
    "duration": 201,
    "start_time": "2022-07-27T00:01:24.966Z"
   },
   {
    "duration": 326,
    "start_time": "2022-07-27T00:01:25.169Z"
   },
   {
    "duration": 185,
    "start_time": "2022-07-27T00:01:25.497Z"
   },
   {
    "duration": 196,
    "start_time": "2022-07-27T00:01:25.684Z"
   },
   {
    "duration": 295,
    "start_time": "2022-07-27T00:01:25.882Z"
   },
   {
    "duration": 204,
    "start_time": "2022-07-27T00:01:26.179Z"
   },
   {
    "duration": 192,
    "start_time": "2022-07-27T00:01:26.385Z"
   },
   {
    "duration": 208,
    "start_time": "2022-07-27T00:01:26.579Z"
   },
   {
    "duration": 6,
    "start_time": "2022-07-27T00:01:26.789Z"
   },
   {
    "duration": 154,
    "start_time": "2022-07-27T00:01:26.796Z"
   },
   {
    "duration": 154,
    "start_time": "2022-07-27T00:01:26.952Z"
   },
   {
    "duration": 160,
    "start_time": "2022-07-27T00:01:27.108Z"
   },
   {
    "duration": 156,
    "start_time": "2022-07-27T00:01:27.270Z"
   },
   {
    "duration": 109,
    "start_time": "2022-07-27T00:01:27.428Z"
   },
   {
    "duration": 227,
    "start_time": "2022-07-27T00:01:27.539Z"
   },
   {
    "duration": 236,
    "start_time": "2022-07-27T00:01:27.768Z"
   },
   {
    "duration": 135,
    "start_time": "2022-07-27T00:01:28.005Z"
   },
   {
    "duration": 314,
    "start_time": "2022-07-27T00:01:28.141Z"
   },
   {
    "duration": 270,
    "start_time": "2022-07-27T00:02:43.829Z"
   },
   {
    "duration": 182,
    "start_time": "2022-07-27T00:03:42.533Z"
   },
   {
    "duration": 214,
    "start_time": "2022-07-27T00:10:02.711Z"
   },
   {
    "duration": 140,
    "start_time": "2022-07-27T00:10:11.239Z"
   },
   {
    "duration": 173,
    "start_time": "2022-07-27T00:10:25.370Z"
   },
   {
    "duration": 284,
    "start_time": "2022-07-27T00:10:40.598Z"
   },
   {
    "duration": 67,
    "start_time": "2022-07-27T00:11:37.694Z"
   },
   {
    "duration": 174,
    "start_time": "2022-07-27T00:13:30.820Z"
   },
   {
    "duration": 268,
    "start_time": "2022-07-27T00:40:34.868Z"
   },
   {
    "duration": 107,
    "start_time": "2022-07-27T00:40:48.363Z"
   },
   {
    "duration": 1829,
    "start_time": "2022-07-27T00:41:04.550Z"
   },
   {
    "duration": 4,
    "start_time": "2022-07-27T00:41:06.381Z"
   },
   {
    "duration": 223,
    "start_time": "2022-07-27T00:41:06.386Z"
   },
   {
    "duration": 181,
    "start_time": "2022-07-27T00:41:06.612Z"
   },
   {
    "duration": 178,
    "start_time": "2022-07-27T00:41:06.794Z"
   },
   {
    "duration": 14,
    "start_time": "2022-07-27T00:41:06.973Z"
   },
   {
    "duration": 56,
    "start_time": "2022-07-27T00:41:06.988Z"
   },
   {
    "duration": 12,
    "start_time": "2022-07-27T00:41:07.045Z"
   },
   {
    "duration": 2,
    "start_time": "2022-07-27T00:41:07.059Z"
   },
   {
    "duration": 9,
    "start_time": "2022-07-27T00:41:07.063Z"
   },
   {
    "duration": 9,
    "start_time": "2022-07-27T00:41:07.073Z"
   },
   {
    "duration": 119,
    "start_time": "2022-07-27T00:41:07.083Z"
   },
   {
    "duration": 17,
    "start_time": "2022-07-27T00:41:07.203Z"
   },
   {
    "duration": 95,
    "start_time": "2022-07-27T00:41:07.221Z"
   },
   {
    "duration": 58,
    "start_time": "2022-07-27T00:41:07.317Z"
   },
   {
    "duration": 7,
    "start_time": "2022-07-27T00:41:07.376Z"
   },
   {
    "duration": 275,
    "start_time": "2022-07-27T00:41:07.385Z"
   },
   {
    "duration": 175,
    "start_time": "2022-07-27T00:41:07.662Z"
   },
   {
    "duration": 263,
    "start_time": "2022-07-27T00:41:07.838Z"
   },
   {
    "duration": 190,
    "start_time": "2022-07-27T00:41:08.102Z"
   },
   {
    "duration": 189,
    "start_time": "2022-07-27T00:41:08.294Z"
   },
   {
    "duration": 199,
    "start_time": "2022-07-27T00:41:08.485Z"
   },
   {
    "duration": 202,
    "start_time": "2022-07-27T00:41:08.686Z"
   },
   {
    "duration": 246,
    "start_time": "2022-07-27T00:41:08.890Z"
   },
   {
    "duration": 183,
    "start_time": "2022-07-27T00:41:09.138Z"
   },
   {
    "duration": 193,
    "start_time": "2022-07-27T00:41:09.323Z"
   },
   {
    "duration": 187,
    "start_time": "2022-07-27T00:41:09.517Z"
   },
   {
    "duration": 177,
    "start_time": "2022-07-27T00:41:09.707Z"
   },
   {
    "duration": 197,
    "start_time": "2022-07-27T00:41:09.886Z"
   },
   {
    "duration": 275,
    "start_time": "2022-07-27T00:41:10.084Z"
   },
   {
    "duration": 194,
    "start_time": "2022-07-27T00:41:10.360Z"
   },
   {
    "duration": 317,
    "start_time": "2022-07-27T00:41:10.555Z"
   },
   {
    "duration": 192,
    "start_time": "2022-07-27T00:41:10.874Z"
   },
   {
    "duration": 196,
    "start_time": "2022-07-27T00:41:11.067Z"
   },
   {
    "duration": 286,
    "start_time": "2022-07-27T00:41:11.264Z"
   },
   {
    "duration": 202,
    "start_time": "2022-07-27T00:41:11.551Z"
   },
   {
    "duration": 196,
    "start_time": "2022-07-27T00:41:11.755Z"
   },
   {
    "duration": 202,
    "start_time": "2022-07-27T00:41:11.952Z"
   },
   {
    "duration": 5,
    "start_time": "2022-07-27T00:41:12.155Z"
   },
   {
    "duration": 153,
    "start_time": "2022-07-27T00:41:12.161Z"
   },
   {
    "duration": 146,
    "start_time": "2022-07-27T00:41:12.315Z"
   },
   {
    "duration": 171,
    "start_time": "2022-07-27T00:41:12.463Z"
   },
   {
    "duration": 157,
    "start_time": "2022-07-27T00:41:12.635Z"
   },
   {
    "duration": 101,
    "start_time": "2022-07-27T00:41:12.794Z"
   },
   {
    "duration": 225,
    "start_time": "2022-07-27T00:41:12.897Z"
   },
   {
    "duration": 236,
    "start_time": "2022-07-27T00:41:13.124Z"
   },
   {
    "duration": 130,
    "start_time": "2022-07-27T00:41:13.362Z"
   },
   {
    "duration": 307,
    "start_time": "2022-07-27T00:41:13.493Z"
   },
   {
    "duration": 123,
    "start_time": "2022-07-27T00:41:43.848Z"
   },
   {
    "duration": 105,
    "start_time": "2022-07-27T00:41:51.751Z"
   },
   {
    "duration": 125,
    "start_time": "2022-07-27T00:41:56.648Z"
   },
   {
    "duration": 1892,
    "start_time": "2022-07-27T00:42:01.514Z"
   },
   {
    "duration": 4,
    "start_time": "2022-07-27T00:42:03.407Z"
   },
   {
    "duration": 230,
    "start_time": "2022-07-27T00:42:03.412Z"
   },
   {
    "duration": 208,
    "start_time": "2022-07-27T00:42:03.644Z"
   },
   {
    "duration": 64,
    "start_time": "2022-07-27T00:42:03.853Z"
   },
   {
    "duration": 22,
    "start_time": "2022-07-27T00:42:03.919Z"
   },
   {
    "duration": 45,
    "start_time": "2022-07-27T00:42:03.943Z"
   },
   {
    "duration": 14,
    "start_time": "2022-07-27T00:42:03.989Z"
   },
   {
    "duration": 2,
    "start_time": "2022-07-27T00:42:04.005Z"
   },
   {
    "duration": 5,
    "start_time": "2022-07-27T00:42:04.009Z"
   },
   {
    "duration": 11,
    "start_time": "2022-07-27T00:42:04.015Z"
   },
   {
    "duration": 131,
    "start_time": "2022-07-27T00:42:04.027Z"
   },
   {
    "duration": 16,
    "start_time": "2022-07-27T00:42:04.160Z"
   },
   {
    "duration": 165,
    "start_time": "2022-07-27T00:42:04.178Z"
   },
   {
    "duration": 48,
    "start_time": "2022-07-27T00:42:04.345Z"
   },
   {
    "duration": 6,
    "start_time": "2022-07-27T00:42:04.395Z"
   },
   {
    "duration": 303,
    "start_time": "2022-07-27T00:42:04.403Z"
   },
   {
    "duration": 178,
    "start_time": "2022-07-27T00:42:04.707Z"
   },
   {
    "duration": 271,
    "start_time": "2022-07-27T00:42:04.887Z"
   },
   {
    "duration": 190,
    "start_time": "2022-07-27T00:42:05.160Z"
   },
   {
    "duration": 186,
    "start_time": "2022-07-27T00:42:05.351Z"
   },
   {
    "duration": 206,
    "start_time": "2022-07-27T00:42:05.538Z"
   },
   {
    "duration": 196,
    "start_time": "2022-07-27T00:42:05.746Z"
   },
   {
    "duration": 183,
    "start_time": "2022-07-27T00:42:05.944Z"
   },
   {
    "duration": 239,
    "start_time": "2022-07-27T00:42:06.128Z"
   },
   {
    "duration": 192,
    "start_time": "2022-07-27T00:42:06.369Z"
   },
   {
    "duration": 190,
    "start_time": "2022-07-27T00:42:06.563Z"
   },
   {
    "duration": 180,
    "start_time": "2022-07-27T00:42:06.757Z"
   },
   {
    "duration": 192,
    "start_time": "2022-07-27T00:42:06.939Z"
   },
   {
    "duration": 272,
    "start_time": "2022-07-27T00:42:07.134Z"
   },
   {
    "duration": 196,
    "start_time": "2022-07-27T00:42:07.408Z"
   },
   {
    "duration": 311,
    "start_time": "2022-07-27T00:42:07.606Z"
   },
   {
    "duration": 192,
    "start_time": "2022-07-27T00:42:07.919Z"
   },
   {
    "duration": 193,
    "start_time": "2022-07-27T00:42:08.112Z"
   },
   {
    "duration": 282,
    "start_time": "2022-07-27T00:42:08.307Z"
   },
   {
    "duration": 198,
    "start_time": "2022-07-27T00:42:08.591Z"
   },
   {
    "duration": 199,
    "start_time": "2022-07-27T00:42:08.791Z"
   },
   {
    "duration": 201,
    "start_time": "2022-07-27T00:42:08.991Z"
   },
   {
    "duration": 5,
    "start_time": "2022-07-27T00:42:09.193Z"
   },
   {
    "duration": 153,
    "start_time": "2022-07-27T00:42:09.199Z"
   },
   {
    "duration": 149,
    "start_time": "2022-07-27T00:42:09.353Z"
   },
   {
    "duration": 161,
    "start_time": "2022-07-27T00:42:09.504Z"
   },
   {
    "duration": 156,
    "start_time": "2022-07-27T00:42:09.666Z"
   },
   {
    "duration": 99,
    "start_time": "2022-07-27T00:42:09.824Z"
   },
   {
    "duration": 218,
    "start_time": "2022-07-27T00:42:09.933Z"
   },
   {
    "duration": 236,
    "start_time": "2022-07-27T00:42:10.153Z"
   },
   {
    "duration": 128,
    "start_time": "2022-07-27T00:42:10.391Z"
   },
   {
    "duration": 312,
    "start_time": "2022-07-27T00:42:10.521Z"
   },
   {
    "duration": 1778,
    "start_time": "2022-07-27T00:43:17.478Z"
   },
   {
    "duration": 4,
    "start_time": "2022-07-27T00:43:19.258Z"
   },
   {
    "duration": 225,
    "start_time": "2022-07-27T00:43:19.263Z"
   },
   {
    "duration": 225,
    "start_time": "2022-07-27T00:43:19.490Z"
   },
   {
    "duration": 68,
    "start_time": "2022-07-27T00:43:19.717Z"
   },
   {
    "duration": 13,
    "start_time": "2022-07-27T00:43:19.786Z"
   },
   {
    "duration": 58,
    "start_time": "2022-07-27T00:43:19.800Z"
   },
   {
    "duration": 12,
    "start_time": "2022-07-27T00:43:19.859Z"
   },
   {
    "duration": 2,
    "start_time": "2022-07-27T00:43:19.872Z"
   },
   {
    "duration": 5,
    "start_time": "2022-07-27T00:43:19.876Z"
   },
   {
    "duration": 7,
    "start_time": "2022-07-27T00:43:19.882Z"
   },
   {
    "duration": 113,
    "start_time": "2022-07-27T00:43:19.890Z"
   },
   {
    "duration": 17,
    "start_time": "2022-07-27T00:43:20.005Z"
   },
   {
    "duration": 87,
    "start_time": "2022-07-27T00:43:20.034Z"
   },
   {
    "duration": 58,
    "start_time": "2022-07-27T00:43:20.123Z"
   },
   {
    "duration": 7,
    "start_time": "2022-07-27T00:43:20.183Z"
   },
   {
    "duration": 282,
    "start_time": "2022-07-27T00:43:20.191Z"
   },
   {
    "duration": 175,
    "start_time": "2022-07-27T00:43:20.475Z"
   },
   {
    "duration": 272,
    "start_time": "2022-07-27T00:43:20.651Z"
   },
   {
    "duration": 199,
    "start_time": "2022-07-27T00:43:20.925Z"
   },
   {
    "duration": 188,
    "start_time": "2022-07-27T00:43:21.133Z"
   },
   {
    "duration": 202,
    "start_time": "2022-07-27T00:43:21.322Z"
   },
   {
    "duration": 202,
    "start_time": "2022-07-27T00:43:21.526Z"
   },
   {
    "duration": 183,
    "start_time": "2022-07-27T00:43:21.730Z"
   },
   {
    "duration": 243,
    "start_time": "2022-07-27T00:43:21.914Z"
   },
   {
    "duration": 195,
    "start_time": "2022-07-27T00:43:22.159Z"
   },
   {
    "duration": 200,
    "start_time": "2022-07-27T00:43:22.356Z"
   },
   {
    "duration": 191,
    "start_time": "2022-07-27T00:43:22.560Z"
   },
   {
    "duration": 190,
    "start_time": "2022-07-27T00:43:22.752Z"
   },
   {
    "duration": 279,
    "start_time": "2022-07-27T00:43:22.943Z"
   },
   {
    "duration": 193,
    "start_time": "2022-07-27T00:43:23.223Z"
   },
   {
    "duration": 322,
    "start_time": "2022-07-27T00:43:23.417Z"
   },
   {
    "duration": 182,
    "start_time": "2022-07-27T00:43:23.741Z"
   },
   {
    "duration": 188,
    "start_time": "2022-07-27T00:43:23.925Z"
   },
   {
    "duration": 290,
    "start_time": "2022-07-27T00:43:24.114Z"
   },
   {
    "duration": 194,
    "start_time": "2022-07-27T00:43:24.405Z"
   },
   {
    "duration": 196,
    "start_time": "2022-07-27T00:43:24.600Z"
   },
   {
    "duration": 197,
    "start_time": "2022-07-27T00:43:24.798Z"
   },
   {
    "duration": 6,
    "start_time": "2022-07-27T00:43:24.997Z"
   },
   {
    "duration": 156,
    "start_time": "2022-07-27T00:43:25.004Z"
   },
   {
    "duration": 145,
    "start_time": "2022-07-27T00:43:25.162Z"
   },
   {
    "duration": 165,
    "start_time": "2022-07-27T00:43:25.309Z"
   },
   {
    "duration": 159,
    "start_time": "2022-07-27T00:43:25.475Z"
   },
   {
    "duration": 103,
    "start_time": "2022-07-27T00:43:25.635Z"
   },
   {
    "duration": 218,
    "start_time": "2022-07-27T00:43:25.740Z"
   },
   {
    "duration": 234,
    "start_time": "2022-07-27T00:43:25.960Z"
   },
   {
    "duration": 124,
    "start_time": "2022-07-27T00:43:26.195Z"
   },
   {
    "duration": 316,
    "start_time": "2022-07-27T00:43:26.321Z"
   },
   {
    "duration": 121,
    "start_time": "2022-07-27T00:43:39.468Z"
   },
   {
    "duration": 1816,
    "start_time": "2022-07-27T00:43:45.481Z"
   },
   {
    "duration": 4,
    "start_time": "2022-07-27T00:43:47.299Z"
   },
   {
    "duration": 224,
    "start_time": "2022-07-27T00:43:47.304Z"
   },
   {
    "duration": 188,
    "start_time": "2022-07-27T00:43:47.533Z"
   },
   {
    "duration": 65,
    "start_time": "2022-07-27T00:43:47.723Z"
   },
   {
    "duration": 13,
    "start_time": "2022-07-27T00:43:47.789Z"
   },
   {
    "duration": 62,
    "start_time": "2022-07-27T00:43:47.803Z"
   },
   {
    "duration": 11,
    "start_time": "2022-07-27T00:43:47.867Z"
   },
   {
    "duration": 1,
    "start_time": "2022-07-27T00:43:47.880Z"
   },
   {
    "duration": 5,
    "start_time": "2022-07-27T00:43:47.884Z"
   },
   {
    "duration": 7,
    "start_time": "2022-07-27T00:43:47.890Z"
   },
   {
    "duration": 113,
    "start_time": "2022-07-27T00:43:47.899Z"
   },
   {
    "duration": 21,
    "start_time": "2022-07-27T00:43:48.014Z"
   },
   {
    "duration": 87,
    "start_time": "2022-07-27T00:43:48.036Z"
   },
   {
    "duration": 49,
    "start_time": "2022-07-27T00:43:48.133Z"
   },
   {
    "duration": 7,
    "start_time": "2022-07-27T00:43:48.183Z"
   },
   {
    "duration": 281,
    "start_time": "2022-07-27T00:43:48.192Z"
   },
   {
    "duration": 171,
    "start_time": "2022-07-27T00:43:48.475Z"
   },
   {
    "duration": 262,
    "start_time": "2022-07-27T00:43:48.648Z"
   },
   {
    "duration": 183,
    "start_time": "2022-07-27T00:43:48.912Z"
   },
   {
    "duration": 196,
    "start_time": "2022-07-27T00:43:49.096Z"
   },
   {
    "duration": 197,
    "start_time": "2022-07-27T00:43:49.293Z"
   },
   {
    "duration": 199,
    "start_time": "2022-07-27T00:43:49.491Z"
   },
   {
    "duration": 186,
    "start_time": "2022-07-27T00:43:49.691Z"
   },
   {
    "duration": 232,
    "start_time": "2022-07-27T00:43:49.879Z"
   },
   {
    "duration": 192,
    "start_time": "2022-07-27T00:43:50.113Z"
   },
   {
    "duration": 191,
    "start_time": "2022-07-27T00:43:50.307Z"
   },
   {
    "duration": 179,
    "start_time": "2022-07-27T00:43:50.501Z"
   },
   {
    "duration": 190,
    "start_time": "2022-07-27T00:43:50.681Z"
   },
   {
    "duration": 281,
    "start_time": "2022-07-27T00:43:50.873Z"
   },
   {
    "duration": 196,
    "start_time": "2022-07-27T00:43:51.156Z"
   },
   {
    "duration": 325,
    "start_time": "2022-07-27T00:43:51.354Z"
   },
   {
    "duration": 183,
    "start_time": "2022-07-27T00:43:51.681Z"
   },
   {
    "duration": 193,
    "start_time": "2022-07-27T00:43:51.866Z"
   },
   {
    "duration": 285,
    "start_time": "2022-07-27T00:43:52.061Z"
   },
   {
    "duration": 207,
    "start_time": "2022-07-27T00:43:52.347Z"
   },
   {
    "duration": 201,
    "start_time": "2022-07-27T00:43:52.556Z"
   },
   {
    "duration": 208,
    "start_time": "2022-07-27T00:43:52.758Z"
   },
   {
    "duration": 5,
    "start_time": "2022-07-27T00:43:52.967Z"
   },
   {
    "duration": 155,
    "start_time": "2022-07-27T00:43:52.973Z"
   },
   {
    "duration": 149,
    "start_time": "2022-07-27T00:43:53.130Z"
   },
   {
    "duration": 159,
    "start_time": "2022-07-27T00:43:53.281Z"
   },
   {
    "duration": 155,
    "start_time": "2022-07-27T00:43:53.442Z"
   },
   {
    "duration": 101,
    "start_time": "2022-07-27T00:43:53.599Z"
   },
   {
    "duration": 219,
    "start_time": "2022-07-27T00:43:53.702Z"
   },
   {
    "duration": 235,
    "start_time": "2022-07-27T00:43:53.923Z"
   },
   {
    "duration": 128,
    "start_time": "2022-07-27T00:43:54.159Z"
   },
   {
    "duration": 307,
    "start_time": "2022-07-27T00:43:54.289Z"
   },
   {
    "duration": 53,
    "start_time": "2022-07-27T21:02:07.524Z"
   },
   {
    "duration": 12,
    "start_time": "2022-07-27T21:02:13.137Z"
   },
   {
    "duration": 8,
    "start_time": "2022-07-27T21:02:17.409Z"
   },
   {
    "duration": 2510,
    "start_time": "2022-07-27T21:02:25.329Z"
   },
   {
    "duration": 4,
    "start_time": "2022-07-27T21:02:27.842Z"
   },
   {
    "duration": 233,
    "start_time": "2022-07-27T21:02:27.848Z"
   },
   {
    "duration": 193,
    "start_time": "2022-07-27T21:02:28.752Z"
   },
   {
    "duration": 42,
    "start_time": "2022-07-27T21:02:30.320Z"
   },
   {
    "duration": 16,
    "start_time": "2022-07-27T21:02:34.175Z"
   },
   {
    "duration": 63,
    "start_time": "2022-07-27T21:02:35.121Z"
   },
   {
    "duration": 11,
    "start_time": "2022-07-27T21:06:17.045Z"
   },
   {
    "duration": 8,
    "start_time": "2022-07-27T21:06:25.610Z"
   },
   {
    "duration": 2129,
    "start_time": "2022-07-27T21:08:23.889Z"
   },
   {
    "duration": 5,
    "start_time": "2022-07-27T21:08:26.020Z"
   },
   {
    "duration": 246,
    "start_time": "2022-07-27T21:08:26.026Z"
   },
   {
    "duration": 231,
    "start_time": "2022-07-27T21:08:26.274Z"
   },
   {
    "duration": 3,
    "start_time": "2022-07-27T21:08:26.507Z"
   },
   {
    "duration": 18,
    "start_time": "2022-07-27T21:08:26.524Z"
   },
   {
    "duration": 20,
    "start_time": "2022-07-27T21:08:26.543Z"
   },
   {
    "duration": 9,
    "start_time": "2022-07-27T21:08:26.565Z"
   },
   {
    "duration": 28,
    "start_time": "2022-07-27T21:08:26.576Z"
   },
   {
    "duration": 60,
    "start_time": "2022-07-27T21:08:26.624Z"
   },
   {
    "duration": 13,
    "start_time": "2022-07-27T21:08:26.685Z"
   },
   {
    "duration": 2,
    "start_time": "2022-07-27T21:08:26.700Z"
   },
   {
    "duration": 13,
    "start_time": "2022-07-27T21:08:26.704Z"
   },
   {
    "duration": 8,
    "start_time": "2022-07-27T21:08:26.720Z"
   },
   {
    "duration": 337,
    "start_time": "2022-07-27T21:08:26.730Z"
   },
   {
    "duration": 19,
    "start_time": "2022-07-27T21:08:27.069Z"
   },
   {
    "duration": 196,
    "start_time": "2022-07-27T21:08:27.089Z"
   },
   {
    "duration": 80,
    "start_time": "2022-07-27T21:08:27.287Z"
   },
   {
    "duration": 9,
    "start_time": "2022-07-27T21:08:27.369Z"
   },
   {
    "duration": 336,
    "start_time": "2022-07-27T21:08:27.380Z"
   },
   {
    "duration": 203,
    "start_time": "2022-07-27T21:08:27.718Z"
   },
   {
    "duration": 291,
    "start_time": "2022-07-27T21:08:27.924Z"
   },
   {
    "duration": 220,
    "start_time": "2022-07-27T21:08:28.217Z"
   },
   {
    "duration": 215,
    "start_time": "2022-07-27T21:08:28.439Z"
   },
   {
    "duration": 248,
    "start_time": "2022-07-27T21:08:28.655Z"
   },
   {
    "duration": 221,
    "start_time": "2022-07-27T21:08:28.904Z"
   },
   {
    "duration": 298,
    "start_time": "2022-07-27T21:08:29.127Z"
   },
   {
    "duration": 233,
    "start_time": "2022-07-27T21:08:29.427Z"
   },
   {
    "duration": 211,
    "start_time": "2022-07-27T21:08:29.662Z"
   },
   {
    "duration": 235,
    "start_time": "2022-07-27T21:08:29.875Z"
   },
   {
    "duration": 215,
    "start_time": "2022-07-27T21:08:30.111Z"
   },
   {
    "duration": 229,
    "start_time": "2022-07-27T21:08:30.328Z"
   },
   {
    "duration": 320,
    "start_time": "2022-07-27T21:08:30.559Z"
   },
   {
    "duration": 228,
    "start_time": "2022-07-27T21:08:30.881Z"
   },
   {
    "duration": 350,
    "start_time": "2022-07-27T21:08:31.111Z"
   },
   {
    "duration": 229,
    "start_time": "2022-07-27T21:08:31.463Z"
   },
   {
    "duration": 220,
    "start_time": "2022-07-27T21:08:31.694Z"
   },
   {
    "duration": 333,
    "start_time": "2022-07-27T21:08:31.916Z"
   },
   {
    "duration": 223,
    "start_time": "2022-07-27T21:08:32.250Z"
   },
   {
    "duration": 227,
    "start_time": "2022-07-27T21:08:32.475Z"
   },
   {
    "duration": 219,
    "start_time": "2022-07-27T21:08:32.706Z"
   },
   {
    "duration": 5,
    "start_time": "2022-07-27T21:08:32.927Z"
   },
   {
    "duration": 166,
    "start_time": "2022-07-27T21:08:32.933Z"
   },
   {
    "duration": 152,
    "start_time": "2022-07-27T21:08:33.101Z"
   },
   {
    "duration": 164,
    "start_time": "2022-07-27T21:08:33.254Z"
   },
   {
    "duration": 170,
    "start_time": "2022-07-27T21:08:33.420Z"
   },
   {
    "duration": 116,
    "start_time": "2022-07-27T21:08:33.592Z"
   },
   {
    "duration": 233,
    "start_time": "2022-07-27T21:08:33.710Z"
   },
   {
    "duration": 257,
    "start_time": "2022-07-27T21:08:33.944Z"
   },
   {
    "duration": 140,
    "start_time": "2022-07-27T21:08:34.202Z"
   },
   {
    "duration": 408,
    "start_time": "2022-07-27T21:08:34.344Z"
   },
   {
    "duration": 83,
    "start_time": "2022-07-27T21:10:01.302Z"
   },
   {
    "duration": 83,
    "start_time": "2022-07-27T21:30:27.858Z"
   },
   {
    "duration": 20,
    "start_time": "2022-07-27T21:30:54.536Z"
   },
   {
    "duration": 107,
    "start_time": "2022-07-27T22:27:57.118Z"
   },
   {
    "duration": 83,
    "start_time": "2022-07-27T22:29:05.240Z"
   },
   {
    "duration": 50,
    "start_time": "2022-07-27T22:32:02.628Z"
   },
   {
    "duration": 203,
    "start_time": "2022-07-27T22:32:25.499Z"
   },
   {
    "duration": 9,
    "start_time": "2022-07-27T22:32:54.069Z"
   },
   {
    "duration": 10,
    "start_time": "2022-07-27T22:33:07.970Z"
   },
   {
    "duration": 147,
    "start_time": "2022-07-27T22:33:14.971Z"
   },
   {
    "duration": 9,
    "start_time": "2022-07-27T22:33:16.234Z"
   },
   {
    "duration": 80,
    "start_time": "2022-07-27T22:33:56.718Z"
   },
   {
    "duration": 48,
    "start_time": "2022-07-27T22:36:07.841Z"
   },
   {
    "duration": 77,
    "start_time": "2022-07-27T22:36:19.097Z"
   },
   {
    "duration": 78,
    "start_time": "2022-07-27T22:47:43.184Z"
   },
   {
    "duration": 2132,
    "start_time": "2022-07-27T22:47:55.598Z"
   },
   {
    "duration": 4,
    "start_time": "2022-07-27T22:47:57.732Z"
   },
   {
    "duration": 241,
    "start_time": "2022-07-27T22:47:57.737Z"
   },
   {
    "duration": 203,
    "start_time": "2022-07-27T22:47:57.980Z"
   },
   {
    "duration": 4,
    "start_time": "2022-07-27T22:47:58.185Z"
   },
   {
    "duration": 138,
    "start_time": "2022-07-27T22:47:58.190Z"
   },
   {
    "duration": 19,
    "start_time": "2022-07-27T22:47:58.330Z"
   },
   {
    "duration": 10,
    "start_time": "2022-07-27T22:47:58.350Z"
   },
   {
    "duration": 14,
    "start_time": "2022-07-27T22:47:58.361Z"
   },
   {
    "duration": 106,
    "start_time": "2022-07-27T22:47:58.377Z"
   },
   {
    "duration": 14,
    "start_time": "2022-07-27T22:47:58.485Z"
   },
   {
    "duration": 2,
    "start_time": "2022-07-27T22:47:58.501Z"
   },
   {
    "duration": 19,
    "start_time": "2022-07-27T22:47:58.505Z"
   },
   {
    "duration": 6,
    "start_time": "2022-07-27T22:47:58.526Z"
   },
   {
    "duration": 127,
    "start_time": "2022-07-27T22:47:58.534Z"
   },
   {
    "duration": 21,
    "start_time": "2022-07-27T22:47:58.663Z"
   },
   {
    "duration": 103,
    "start_time": "2022-07-27T22:47:58.686Z"
   },
   {
    "duration": 57,
    "start_time": "2022-07-27T22:47:58.791Z"
   },
   {
    "duration": 7,
    "start_time": "2022-07-27T22:47:58.850Z"
   },
   {
    "duration": 318,
    "start_time": "2022-07-27T22:47:58.859Z"
   },
   {
    "duration": 208,
    "start_time": "2022-07-27T22:47:59.178Z"
   },
   {
    "duration": 327,
    "start_time": "2022-07-27T22:47:59.387Z"
   },
   {
    "duration": 241,
    "start_time": "2022-07-27T22:47:59.716Z"
   },
   {
    "duration": 266,
    "start_time": "2022-07-27T22:47:59.959Z"
   },
   {
    "duration": 271,
    "start_time": "2022-07-27T22:48:00.226Z"
   },
   {
    "duration": 218,
    "start_time": "2022-07-27T22:48:00.499Z"
   },
   {
    "duration": 278,
    "start_time": "2022-07-27T22:48:00.724Z"
   },
   {
    "duration": 224,
    "start_time": "2022-07-27T22:48:01.007Z"
   },
   {
    "duration": 236,
    "start_time": "2022-07-27T22:48:01.233Z"
   },
   {
    "duration": 261,
    "start_time": "2022-07-27T22:48:01.471Z"
   },
   {
    "duration": 222,
    "start_time": "2022-07-27T22:48:01.734Z"
   },
   {
    "duration": 251,
    "start_time": "2022-07-27T22:48:01.958Z"
   },
   {
    "duration": 356,
    "start_time": "2022-07-27T22:48:02.211Z"
   },
   {
    "duration": 243,
    "start_time": "2022-07-27T22:48:02.569Z"
   },
   {
    "duration": 398,
    "start_time": "2022-07-27T22:48:02.814Z"
   },
   {
    "duration": 328,
    "start_time": "2022-07-27T22:48:03.214Z"
   },
   {
    "duration": 251,
    "start_time": "2022-07-27T22:48:03.545Z"
   },
   {
    "duration": 378,
    "start_time": "2022-07-27T22:48:03.798Z"
   },
   {
    "duration": 240,
    "start_time": "2022-07-27T22:48:04.178Z"
   },
   {
    "duration": 270,
    "start_time": "2022-07-27T22:48:04.423Z"
   },
   {
    "duration": 244,
    "start_time": "2022-07-27T22:48:04.694Z"
   },
   {
    "duration": 5,
    "start_time": "2022-07-27T22:48:04.940Z"
   },
   {
    "duration": 177,
    "start_time": "2022-07-27T22:48:04.947Z"
   },
   {
    "duration": 169,
    "start_time": "2022-07-27T22:48:05.126Z"
   },
   {
    "duration": 184,
    "start_time": "2022-07-27T22:48:05.297Z"
   },
   {
    "duration": 181,
    "start_time": "2022-07-27T22:48:05.482Z"
   },
   {
    "duration": 122,
    "start_time": "2022-07-27T22:48:05.665Z"
   },
   {
    "duration": 244,
    "start_time": "2022-07-27T22:48:05.789Z"
   },
   {
    "duration": 248,
    "start_time": "2022-07-27T22:48:06.035Z"
   },
   {
    "duration": 158,
    "start_time": "2022-07-27T22:48:06.284Z"
   },
   {
    "duration": 381,
    "start_time": "2022-07-27T22:48:06.444Z"
   },
   {
    "duration": 2153,
    "start_time": "2022-07-27T22:50:16.325Z"
   },
   {
    "duration": 3,
    "start_time": "2022-07-27T22:50:18.480Z"
   },
   {
    "duration": 233,
    "start_time": "2022-07-27T22:50:18.485Z"
   },
   {
    "duration": 201,
    "start_time": "2022-07-27T22:50:18.723Z"
   },
   {
    "duration": 4,
    "start_time": "2022-07-27T22:50:18.925Z"
   },
   {
    "duration": 147,
    "start_time": "2022-07-27T22:50:18.930Z"
   },
   {
    "duration": 19,
    "start_time": "2022-07-27T22:50:19.078Z"
   },
   {
    "duration": 26,
    "start_time": "2022-07-27T22:50:19.098Z"
   },
   {
    "duration": 15,
    "start_time": "2022-07-27T22:50:19.126Z"
   },
   {
    "duration": 93,
    "start_time": "2022-07-27T22:50:19.144Z"
   },
   {
    "duration": 14,
    "start_time": "2022-07-27T22:50:19.239Z"
   },
   {
    "duration": 2,
    "start_time": "2022-07-27T22:50:19.255Z"
   },
   {
    "duration": 10,
    "start_time": "2022-07-27T22:50:19.259Z"
   },
   {
    "duration": 13,
    "start_time": "2022-07-27T22:50:19.271Z"
   },
   {
    "duration": 128,
    "start_time": "2022-07-27T22:50:19.286Z"
   },
   {
    "duration": 21,
    "start_time": "2022-07-27T22:50:19.416Z"
   },
   {
    "duration": 100,
    "start_time": "2022-07-27T22:50:19.439Z"
   },
   {
    "duration": 50,
    "start_time": "2022-07-27T22:50:19.541Z"
   },
   {
    "duration": 7,
    "start_time": "2022-07-27T22:50:19.593Z"
   },
   {
    "duration": 314,
    "start_time": "2022-07-27T22:50:19.601Z"
   },
   {
    "duration": 242,
    "start_time": "2022-07-27T22:50:19.917Z"
   },
   {
    "duration": 379,
    "start_time": "2022-07-27T22:50:20.161Z"
   },
   {
    "duration": 241,
    "start_time": "2022-07-27T22:50:20.542Z"
   },
   {
    "duration": 229,
    "start_time": "2022-07-27T22:50:20.785Z"
   },
   {
    "duration": 256,
    "start_time": "2022-07-27T22:50:21.023Z"
   },
   {
    "duration": 1963,
    "start_time": "2022-07-27T22:50:21.281Z"
   },
   {
    "duration": 606,
    "start_time": "2022-07-27T22:50:23.246Z"
   },
   {
    "duration": 217,
    "start_time": "2022-07-27T22:50:23.856Z"
   },
   {
    "duration": 394,
    "start_time": "2022-07-27T22:50:24.075Z"
   },
   {
    "duration": 286,
    "start_time": "2022-07-27T22:50:24.471Z"
   },
   {
    "duration": 244,
    "start_time": "2022-07-27T22:50:24.759Z"
   },
   {
    "duration": 247,
    "start_time": "2022-07-27T22:50:25.005Z"
   },
   {
    "duration": 352,
    "start_time": "2022-07-27T22:50:25.254Z"
   },
   {
    "duration": 227,
    "start_time": "2022-07-27T22:50:25.609Z"
   },
   {
    "duration": 335,
    "start_time": "2022-07-27T22:50:25.838Z"
   },
   {
    "duration": 238,
    "start_time": "2022-07-27T22:50:26.174Z"
   },
   {
    "duration": 289,
    "start_time": "2022-07-27T22:50:26.414Z"
   },
   {
    "duration": 532,
    "start_time": "2022-07-27T22:50:26.705Z"
   },
   {
    "duration": 264,
    "start_time": "2022-07-27T22:50:27.239Z"
   },
   {
    "duration": 234,
    "start_time": "2022-07-27T22:50:27.505Z"
   },
   {
    "duration": 224,
    "start_time": "2022-07-27T22:50:27.741Z"
   },
   {
    "duration": 5,
    "start_time": "2022-07-27T22:50:27.966Z"
   },
   {
    "duration": 164,
    "start_time": "2022-07-27T22:50:27.972Z"
   },
   {
    "duration": 162,
    "start_time": "2022-07-27T22:50:28.138Z"
   },
   {
    "duration": 183,
    "start_time": "2022-07-27T22:50:28.302Z"
   },
   {
    "duration": 191,
    "start_time": "2022-07-27T22:50:28.487Z"
   },
   {
    "duration": 118,
    "start_time": "2022-07-27T22:50:28.680Z"
   },
   {
    "duration": 240,
    "start_time": "2022-07-27T22:50:28.800Z"
   },
   {
    "duration": 268,
    "start_time": "2022-07-27T22:50:29.041Z"
   },
   {
    "duration": 149,
    "start_time": "2022-07-27T22:50:29.311Z"
   },
   {
    "duration": 388,
    "start_time": "2022-07-27T22:50:29.462Z"
   },
   {
    "duration": 108,
    "start_time": "2022-07-27T23:00:43.630Z"
   },
   {
    "duration": 109,
    "start_time": "2022-07-27T23:01:07.601Z"
   },
   {
    "duration": 2033,
    "start_time": "2022-07-27T23:01:22.694Z"
   },
   {
    "duration": 4,
    "start_time": "2022-07-27T23:01:24.728Z"
   },
   {
    "duration": 247,
    "start_time": "2022-07-27T23:01:24.734Z"
   },
   {
    "duration": 200,
    "start_time": "2022-07-27T23:01:24.984Z"
   },
   {
    "duration": 3,
    "start_time": "2022-07-27T23:01:25.186Z"
   },
   {
    "duration": 17,
    "start_time": "2022-07-27T23:01:25.191Z"
   },
   {
    "duration": 86,
    "start_time": "2022-07-27T23:01:25.223Z"
   },
   {
    "duration": 0,
    "start_time": "2022-07-27T23:01:25.325Z"
   },
   {
    "duration": 0,
    "start_time": "2022-07-27T23:01:25.327Z"
   },
   {
    "duration": 0,
    "start_time": "2022-07-27T23:01:25.328Z"
   },
   {
    "duration": 0,
    "start_time": "2022-07-27T23:01:25.329Z"
   },
   {
    "duration": 0,
    "start_time": "2022-07-27T23:01:25.331Z"
   },
   {
    "duration": 0,
    "start_time": "2022-07-27T23:01:25.332Z"
   },
   {
    "duration": 0,
    "start_time": "2022-07-27T23:01:25.333Z"
   },
   {
    "duration": 0,
    "start_time": "2022-07-27T23:01:25.334Z"
   },
   {
    "duration": 0,
    "start_time": "2022-07-27T23:01:25.335Z"
   },
   {
    "duration": 0,
    "start_time": "2022-07-27T23:01:25.336Z"
   },
   {
    "duration": 0,
    "start_time": "2022-07-27T23:01:25.337Z"
   },
   {
    "duration": 0,
    "start_time": "2022-07-27T23:01:25.338Z"
   },
   {
    "duration": 0,
    "start_time": "2022-07-27T23:01:25.339Z"
   },
   {
    "duration": 0,
    "start_time": "2022-07-27T23:01:25.340Z"
   },
   {
    "duration": 0,
    "start_time": "2022-07-27T23:01:25.341Z"
   },
   {
    "duration": 0,
    "start_time": "2022-07-27T23:01:25.342Z"
   },
   {
    "duration": 0,
    "start_time": "2022-07-27T23:01:25.343Z"
   },
   {
    "duration": 0,
    "start_time": "2022-07-27T23:01:25.344Z"
   },
   {
    "duration": 0,
    "start_time": "2022-07-27T23:01:25.345Z"
   },
   {
    "duration": 0,
    "start_time": "2022-07-27T23:01:25.346Z"
   },
   {
    "duration": 0,
    "start_time": "2022-07-27T23:01:25.347Z"
   },
   {
    "duration": 0,
    "start_time": "2022-07-27T23:01:25.348Z"
   },
   {
    "duration": 0,
    "start_time": "2022-07-27T23:01:25.349Z"
   },
   {
    "duration": 0,
    "start_time": "2022-07-27T23:01:25.350Z"
   },
   {
    "duration": 0,
    "start_time": "2022-07-27T23:01:25.351Z"
   },
   {
    "duration": 0,
    "start_time": "2022-07-27T23:01:25.352Z"
   },
   {
    "duration": 0,
    "start_time": "2022-07-27T23:01:25.353Z"
   },
   {
    "duration": 0,
    "start_time": "2022-07-27T23:01:25.354Z"
   },
   {
    "duration": 0,
    "start_time": "2022-07-27T23:01:25.355Z"
   },
   {
    "duration": 0,
    "start_time": "2022-07-27T23:01:25.356Z"
   },
   {
    "duration": 0,
    "start_time": "2022-07-27T23:01:25.357Z"
   },
   {
    "duration": 0,
    "start_time": "2022-07-27T23:01:25.358Z"
   },
   {
    "duration": 0,
    "start_time": "2022-07-27T23:01:25.359Z"
   },
   {
    "duration": 0,
    "start_time": "2022-07-27T23:01:25.359Z"
   },
   {
    "duration": 0,
    "start_time": "2022-07-27T23:01:25.360Z"
   },
   {
    "duration": 0,
    "start_time": "2022-07-27T23:01:25.362Z"
   },
   {
    "duration": 0,
    "start_time": "2022-07-27T23:01:25.363Z"
   },
   {
    "duration": 0,
    "start_time": "2022-07-27T23:01:25.424Z"
   },
   {
    "duration": 0,
    "start_time": "2022-07-27T23:01:25.425Z"
   },
   {
    "duration": 0,
    "start_time": "2022-07-27T23:01:25.426Z"
   },
   {
    "duration": 0,
    "start_time": "2022-07-27T23:01:25.427Z"
   },
   {
    "duration": 0,
    "start_time": "2022-07-27T23:01:25.428Z"
   },
   {
    "duration": 0,
    "start_time": "2022-07-27T23:01:25.429Z"
   },
   {
    "duration": 0,
    "start_time": "2022-07-27T23:01:25.430Z"
   },
   {
    "duration": 1947,
    "start_time": "2022-07-27T23:01:59.137Z"
   },
   {
    "duration": 4,
    "start_time": "2022-07-27T23:02:01.086Z"
   },
   {
    "duration": 233,
    "start_time": "2022-07-27T23:02:01.091Z"
   },
   {
    "duration": 200,
    "start_time": "2022-07-27T23:02:01.326Z"
   },
   {
    "duration": 4,
    "start_time": "2022-07-27T23:02:01.527Z"
   },
   {
    "duration": 139,
    "start_time": "2022-07-27T23:02:01.532Z"
   },
   {
    "duration": 18,
    "start_time": "2022-07-27T23:02:01.673Z"
   },
   {
    "duration": 9,
    "start_time": "2022-07-27T23:02:01.693Z"
   },
   {
    "duration": 33,
    "start_time": "2022-07-27T23:02:01.703Z"
   },
   {
    "duration": 87,
    "start_time": "2022-07-27T23:02:01.738Z"
   },
   {
    "duration": 12,
    "start_time": "2022-07-27T23:02:01.826Z"
   },
   {
    "duration": 14,
    "start_time": "2022-07-27T23:02:01.840Z"
   },
   {
    "duration": 14,
    "start_time": "2022-07-27T23:02:01.855Z"
   },
   {
    "duration": 14,
    "start_time": "2022-07-27T23:02:01.871Z"
   },
   {
    "duration": 126,
    "start_time": "2022-07-27T23:02:01.886Z"
   },
   {
    "duration": 24,
    "start_time": "2022-07-27T23:02:02.014Z"
   },
   {
    "duration": 104,
    "start_time": "2022-07-27T23:02:02.040Z"
   },
   {
    "duration": 51,
    "start_time": "2022-07-27T23:02:02.146Z"
   },
   {
    "duration": 25,
    "start_time": "2022-07-27T23:02:02.199Z"
   },
   {
    "duration": 294,
    "start_time": "2022-07-27T23:02:02.226Z"
   },
   {
    "duration": 219,
    "start_time": "2022-07-27T23:02:02.521Z"
   },
   {
    "duration": 287,
    "start_time": "2022-07-27T23:02:02.742Z"
   },
   {
    "duration": 211,
    "start_time": "2022-07-27T23:02:03.030Z"
   },
   {
    "duration": 206,
    "start_time": "2022-07-27T23:02:03.242Z"
   },
   {
    "duration": 222,
    "start_time": "2022-07-27T23:02:03.450Z"
   },
   {
    "duration": 208,
    "start_time": "2022-07-27T23:02:03.674Z"
   },
   {
    "duration": 275,
    "start_time": "2022-07-27T23:02:03.884Z"
   },
   {
    "duration": 224,
    "start_time": "2022-07-27T23:02:04.162Z"
   },
   {
    "duration": 236,
    "start_time": "2022-07-27T23:02:04.388Z"
   },
   {
    "duration": 222,
    "start_time": "2022-07-27T23:02:04.626Z"
   },
   {
    "duration": 202,
    "start_time": "2022-07-27T23:02:04.849Z"
   },
   {
    "duration": 230,
    "start_time": "2022-07-27T23:02:05.053Z"
   },
   {
    "duration": 337,
    "start_time": "2022-07-27T23:02:05.284Z"
   },
   {
    "duration": 246,
    "start_time": "2022-07-27T23:02:05.624Z"
   },
   {
    "duration": 384,
    "start_time": "2022-07-27T23:02:05.872Z"
   },
   {
    "duration": 262,
    "start_time": "2022-07-27T23:02:06.258Z"
   },
   {
    "duration": 221,
    "start_time": "2022-07-27T23:02:06.523Z"
   },
   {
    "duration": 350,
    "start_time": "2022-07-27T23:02:06.746Z"
   },
   {
    "duration": 316,
    "start_time": "2022-07-27T23:02:07.099Z"
   },
   {
    "duration": 270,
    "start_time": "2022-07-27T23:02:07.418Z"
   },
   {
    "duration": 236,
    "start_time": "2022-07-27T23:02:07.690Z"
   },
   {
    "duration": 4,
    "start_time": "2022-07-27T23:02:07.928Z"
   },
   {
    "duration": 173,
    "start_time": "2022-07-27T23:02:07.934Z"
   },
   {
    "duration": 201,
    "start_time": "2022-07-27T23:02:08.109Z"
   },
   {
    "duration": 188,
    "start_time": "2022-07-27T23:02:08.312Z"
   },
   {
    "duration": 184,
    "start_time": "2022-07-27T23:02:08.502Z"
   },
   {
    "duration": 138,
    "start_time": "2022-07-27T23:02:08.688Z"
   },
   {
    "duration": 249,
    "start_time": "2022-07-27T23:02:08.827Z"
   },
   {
    "duration": 263,
    "start_time": "2022-07-27T23:02:09.078Z"
   },
   {
    "duration": 157,
    "start_time": "2022-07-27T23:02:09.342Z"
   },
   {
    "duration": 373,
    "start_time": "2022-07-27T23:02:09.500Z"
   },
   {
    "duration": 174,
    "start_time": "2022-07-27T23:15:30.184Z"
   },
   {
    "duration": 82,
    "start_time": "2022-07-27T23:15:44.799Z"
   },
   {
    "duration": 12,
    "start_time": "2022-07-27T23:16:42.414Z"
   },
   {
    "duration": 190,
    "start_time": "2022-07-27T23:16:47.974Z"
   },
   {
    "duration": 170,
    "start_time": "2022-07-27T23:17:04.030Z"
   },
   {
    "duration": 2030,
    "start_time": "2022-07-27T23:37:20.160Z"
   },
   {
    "duration": 4,
    "start_time": "2022-07-27T23:37:22.191Z"
   },
   {
    "duration": 246,
    "start_time": "2022-07-27T23:37:22.196Z"
   },
   {
    "duration": 211,
    "start_time": "2022-07-27T23:37:22.444Z"
   },
   {
    "duration": 4,
    "start_time": "2022-07-27T23:37:22.657Z"
   },
   {
    "duration": 34,
    "start_time": "2022-07-27T23:37:22.662Z"
   },
   {
    "duration": 112,
    "start_time": "2022-07-27T23:37:22.698Z"
   },
   {
    "duration": 0,
    "start_time": "2022-07-27T23:37:22.813Z"
   },
   {
    "duration": 0,
    "start_time": "2022-07-27T23:37:22.815Z"
   },
   {
    "duration": 0,
    "start_time": "2022-07-27T23:37:22.825Z"
   },
   {
    "duration": 0,
    "start_time": "2022-07-27T23:37:22.826Z"
   },
   {
    "duration": 0,
    "start_time": "2022-07-27T23:37:22.828Z"
   },
   {
    "duration": 0,
    "start_time": "2022-07-27T23:37:22.829Z"
   },
   {
    "duration": 0,
    "start_time": "2022-07-27T23:37:22.831Z"
   },
   {
    "duration": 0,
    "start_time": "2022-07-27T23:37:22.832Z"
   },
   {
    "duration": 0,
    "start_time": "2022-07-27T23:37:22.834Z"
   },
   {
    "duration": 0,
    "start_time": "2022-07-27T23:37:22.835Z"
   },
   {
    "duration": 0,
    "start_time": "2022-07-27T23:37:22.837Z"
   },
   {
    "duration": 0,
    "start_time": "2022-07-27T23:37:22.839Z"
   },
   {
    "duration": 0,
    "start_time": "2022-07-27T23:37:22.840Z"
   },
   {
    "duration": 0,
    "start_time": "2022-07-27T23:37:22.842Z"
   },
   {
    "duration": 0,
    "start_time": "2022-07-27T23:37:22.844Z"
   },
   {
    "duration": 0,
    "start_time": "2022-07-27T23:37:22.845Z"
   },
   {
    "duration": 0,
    "start_time": "2022-07-27T23:37:22.846Z"
   },
   {
    "duration": 0,
    "start_time": "2022-07-27T23:37:22.848Z"
   },
   {
    "duration": 0,
    "start_time": "2022-07-27T23:37:22.849Z"
   },
   {
    "duration": 0,
    "start_time": "2022-07-27T23:37:22.851Z"
   },
   {
    "duration": 1,
    "start_time": "2022-07-27T23:37:22.852Z"
   },
   {
    "duration": 0,
    "start_time": "2022-07-27T23:37:22.854Z"
   },
   {
    "duration": 0,
    "start_time": "2022-07-27T23:37:22.855Z"
   },
   {
    "duration": 0,
    "start_time": "2022-07-27T23:37:22.857Z"
   },
   {
    "duration": 0,
    "start_time": "2022-07-27T23:37:22.858Z"
   },
   {
    "duration": 0,
    "start_time": "2022-07-27T23:37:22.859Z"
   },
   {
    "duration": 0,
    "start_time": "2022-07-27T23:37:22.861Z"
   },
   {
    "duration": 0,
    "start_time": "2022-07-27T23:37:22.862Z"
   },
   {
    "duration": 0,
    "start_time": "2022-07-27T23:37:22.864Z"
   },
   {
    "duration": 0,
    "start_time": "2022-07-27T23:37:22.924Z"
   },
   {
    "duration": 0,
    "start_time": "2022-07-27T23:37:22.926Z"
   },
   {
    "duration": 0,
    "start_time": "2022-07-27T23:37:22.927Z"
   },
   {
    "duration": 0,
    "start_time": "2022-07-27T23:37:22.929Z"
   },
   {
    "duration": 0,
    "start_time": "2022-07-27T23:37:22.930Z"
   },
   {
    "duration": 0,
    "start_time": "2022-07-27T23:37:22.931Z"
   },
   {
    "duration": 0,
    "start_time": "2022-07-27T23:37:22.932Z"
   },
   {
    "duration": 0,
    "start_time": "2022-07-27T23:37:22.933Z"
   },
   {
    "duration": 0,
    "start_time": "2022-07-27T23:37:22.934Z"
   },
   {
    "duration": 0,
    "start_time": "2022-07-27T23:37:22.935Z"
   },
   {
    "duration": 0,
    "start_time": "2022-07-27T23:37:22.936Z"
   },
   {
    "duration": 0,
    "start_time": "2022-07-27T23:37:22.937Z"
   },
   {
    "duration": 0,
    "start_time": "2022-07-27T23:37:22.939Z"
   },
   {
    "duration": 0,
    "start_time": "2022-07-27T23:37:22.940Z"
   },
   {
    "duration": 0,
    "start_time": "2022-07-27T23:37:22.941Z"
   },
   {
    "duration": 116,
    "start_time": "2022-07-27T23:38:16.684Z"
   },
   {
    "duration": 10,
    "start_time": "2022-07-27T23:38:19.657Z"
   },
   {
    "duration": 10,
    "start_time": "2022-07-27T23:38:22.664Z"
   },
   {
    "duration": 14,
    "start_time": "2022-07-27T23:38:24.314Z"
   },
   {
    "duration": 89,
    "start_time": "2022-07-27T23:38:27.139Z"
   },
   {
    "duration": 199,
    "start_time": "2022-07-27T23:39:16.529Z"
   },
   {
    "duration": 207,
    "start_time": "2022-07-27T23:39:16.897Z"
   },
   {
    "duration": 369,
    "start_time": "2022-07-27T23:39:17.106Z"
   },
   {
    "duration": 213,
    "start_time": "2022-07-27T23:39:17.477Z"
   },
   {
    "duration": 234,
    "start_time": "2022-07-27T23:39:17.691Z"
   },
   {
    "duration": 206,
    "start_time": "2022-07-27T23:39:17.928Z"
   },
   {
    "duration": 194,
    "start_time": "2022-07-27T23:39:18.577Z"
   },
   {
    "duration": 8,
    "start_time": "2022-07-27T23:39:18.773Z"
   },
   {
    "duration": 192,
    "start_time": "2022-07-27T23:39:18.866Z"
   },
   {
    "duration": 293,
    "start_time": "2022-07-27T23:39:19.060Z"
   },
   {
    "duration": 194,
    "start_time": "2022-07-27T23:39:19.355Z"
   },
   {
    "duration": 214,
    "start_time": "2022-07-27T23:39:19.550Z"
   },
   {
    "duration": 8,
    "start_time": "2022-07-27T23:39:19.766Z"
   },
   {
    "duration": 0,
    "start_time": "2022-07-27T23:39:19.776Z"
   },
   {
    "duration": 0,
    "start_time": "2022-07-27T23:39:19.777Z"
   },
   {
    "duration": 202,
    "start_time": "2022-07-27T23:39:19.879Z"
   },
   {
    "duration": 224,
    "start_time": "2022-07-27T23:39:20.083Z"
   },
   {
    "duration": 322,
    "start_time": "2022-07-27T23:39:20.309Z"
   },
   {
    "duration": 220,
    "start_time": "2022-07-27T23:39:20.632Z"
   },
   {
    "duration": 1991,
    "start_time": "2022-07-27T23:39:30.520Z"
   },
   {
    "duration": 10,
    "start_time": "2022-07-27T23:39:32.514Z"
   },
   {
    "duration": 226,
    "start_time": "2022-07-27T23:39:32.526Z"
   },
   {
    "duration": 202,
    "start_time": "2022-07-27T23:39:32.754Z"
   },
   {
    "duration": 4,
    "start_time": "2022-07-27T23:39:32.958Z"
   },
   {
    "duration": 136,
    "start_time": "2022-07-27T23:39:32.963Z"
   },
   {
    "duration": 21,
    "start_time": "2022-07-27T23:39:33.102Z"
   },
   {
    "duration": 10,
    "start_time": "2022-07-27T23:39:33.125Z"
   },
   {
    "duration": 15,
    "start_time": "2022-07-27T23:39:33.137Z"
   },
   {
    "duration": 93,
    "start_time": "2022-07-27T23:39:33.154Z"
   },
   {
    "duration": 14,
    "start_time": "2022-07-27T23:39:33.249Z"
   },
   {
    "duration": 15,
    "start_time": "2022-07-27T23:39:33.264Z"
   },
   {
    "duration": 7,
    "start_time": "2022-07-27T23:39:33.281Z"
   },
   {
    "duration": 7,
    "start_time": "2022-07-27T23:39:33.291Z"
   },
   {
    "duration": 113,
    "start_time": "2022-07-27T23:39:33.300Z"
   },
   {
    "duration": 21,
    "start_time": "2022-07-27T23:39:33.414Z"
   },
   {
    "duration": 93,
    "start_time": "2022-07-27T23:39:33.437Z"
   },
   {
    "duration": 50,
    "start_time": "2022-07-27T23:39:33.533Z"
   },
   {
    "duration": 7,
    "start_time": "2022-07-27T23:39:33.585Z"
   },
   {
    "duration": 313,
    "start_time": "2022-07-27T23:39:33.594Z"
   },
   {
    "duration": 281,
    "start_time": "2022-07-27T23:39:33.909Z"
   },
   {
    "duration": 227,
    "start_time": "2022-07-27T23:39:34.193Z"
   },
   {
    "duration": 233,
    "start_time": "2022-07-27T23:39:34.422Z"
   },
   {
    "duration": 222,
    "start_time": "2022-07-27T23:39:34.657Z"
   },
   {
    "duration": 226,
    "start_time": "2022-07-27T23:39:34.881Z"
   },
   {
    "duration": 210,
    "start_time": "2022-07-27T23:39:35.108Z"
   },
   {
    "duration": 266,
    "start_time": "2022-07-27T23:39:35.323Z"
   },
   {
    "duration": 204,
    "start_time": "2022-07-27T23:39:35.591Z"
   },
   {
    "duration": 203,
    "start_time": "2022-07-27T23:39:35.796Z"
   },
   {
    "duration": 208,
    "start_time": "2022-07-27T23:39:36.001Z"
   },
   {
    "duration": 202,
    "start_time": "2022-07-27T23:39:36.211Z"
   },
   {
    "duration": 308,
    "start_time": "2022-07-27T23:39:36.414Z"
   },
   {
    "duration": 228,
    "start_time": "2022-07-27T23:39:36.724Z"
   },
   {
    "duration": 235,
    "start_time": "2022-07-27T23:39:36.954Z"
   },
   {
    "duration": 382,
    "start_time": "2022-07-27T23:39:37.191Z"
   },
   {
    "duration": 212,
    "start_time": "2022-07-27T23:39:37.575Z"
   },
   {
    "duration": 210,
    "start_time": "2022-07-27T23:39:37.789Z"
   },
   {
    "duration": 317,
    "start_time": "2022-07-27T23:39:38.001Z"
   },
   {
    "duration": 235,
    "start_time": "2022-07-27T23:39:38.324Z"
   },
   {
    "duration": 224,
    "start_time": "2022-07-27T23:39:38.561Z"
   },
   {
    "duration": 239,
    "start_time": "2022-07-27T23:39:38.788Z"
   },
   {
    "duration": 5,
    "start_time": "2022-07-27T23:39:39.029Z"
   },
   {
    "duration": 166,
    "start_time": "2022-07-27T23:39:39.035Z"
   },
   {
    "duration": 155,
    "start_time": "2022-07-27T23:39:39.203Z"
   },
   {
    "duration": 170,
    "start_time": "2022-07-27T23:39:39.360Z"
   },
   {
    "duration": 162,
    "start_time": "2022-07-27T23:39:39.532Z"
   },
   {
    "duration": 106,
    "start_time": "2022-07-27T23:39:39.696Z"
   },
   {
    "duration": 249,
    "start_time": "2022-07-27T23:39:39.804Z"
   },
   {
    "duration": 273,
    "start_time": "2022-07-27T23:39:40.056Z"
   },
   {
    "duration": 154,
    "start_time": "2022-07-27T23:39:40.331Z"
   },
   {
    "duration": 378,
    "start_time": "2022-07-27T23:39:40.487Z"
   },
   {
    "duration": 292,
    "start_time": "2022-07-27T23:40:41.126Z"
   },
   {
    "duration": 289,
    "start_time": "2022-07-27T23:40:49.858Z"
   },
   {
    "duration": 305,
    "start_time": "2022-07-27T23:41:00.377Z"
   },
   {
    "duration": 2822,
    "start_time": "2022-07-28T15:10:30.694Z"
   },
   {
    "duration": 4,
    "start_time": "2022-07-28T15:10:33.519Z"
   },
   {
    "duration": 519,
    "start_time": "2022-07-28T15:10:33.525Z"
   },
   {
    "duration": 481,
    "start_time": "2022-07-28T15:10:34.047Z"
   },
   {
    "duration": 3,
    "start_time": "2022-07-28T15:10:34.530Z"
   },
   {
    "duration": 296,
    "start_time": "2022-07-28T15:10:34.535Z"
   },
   {
    "duration": 71,
    "start_time": "2022-07-28T15:10:34.833Z"
   },
   {
    "duration": 11,
    "start_time": "2022-07-28T15:10:34.906Z"
   },
   {
    "duration": 26,
    "start_time": "2022-07-28T15:10:34.919Z"
   },
   {
    "duration": 193,
    "start_time": "2022-07-28T15:10:34.950Z"
   },
   {
    "duration": 14,
    "start_time": "2022-07-28T15:10:35.145Z"
   },
   {
    "duration": 2,
    "start_time": "2022-07-28T15:10:35.161Z"
   },
   {
    "duration": 9,
    "start_time": "2022-07-28T15:10:35.165Z"
   },
   {
    "duration": 11,
    "start_time": "2022-07-28T15:10:35.176Z"
   },
   {
    "duration": 157,
    "start_time": "2022-07-28T15:10:35.189Z"
   },
   {
    "duration": 25,
    "start_time": "2022-07-28T15:10:35.348Z"
   },
   {
    "duration": 118,
    "start_time": "2022-07-28T15:10:35.375Z"
   },
   {
    "duration": 66,
    "start_time": "2022-07-28T15:10:35.496Z"
   },
   {
    "duration": 9,
    "start_time": "2022-07-28T15:10:35.565Z"
   },
   {
    "duration": 402,
    "start_time": "2022-07-28T15:10:35.576Z"
   },
   {
    "duration": 263,
    "start_time": "2022-07-28T15:10:35.980Z"
   },
   {
    "duration": 394,
    "start_time": "2022-07-28T15:10:36.245Z"
   },
   {
    "duration": 281,
    "start_time": "2022-07-28T15:10:36.641Z"
   },
   {
    "duration": 242,
    "start_time": "2022-07-28T15:10:36.924Z"
   },
   {
    "duration": 264,
    "start_time": "2022-07-28T15:10:37.168Z"
   },
   {
    "duration": 248,
    "start_time": "2022-07-28T15:10:37.435Z"
   },
   {
    "duration": 326,
    "start_time": "2022-07-28T15:10:37.685Z"
   },
   {
    "duration": 265,
    "start_time": "2022-07-28T15:10:38.017Z"
   },
   {
    "duration": 246,
    "start_time": "2022-07-28T15:10:38.284Z"
   },
   {
    "duration": 278,
    "start_time": "2022-07-28T15:10:38.533Z"
   },
   {
    "duration": 255,
    "start_time": "2022-07-28T15:10:38.813Z"
   },
   {
    "duration": 252,
    "start_time": "2022-07-28T15:10:39.069Z"
   },
   {
    "duration": 375,
    "start_time": "2022-07-28T15:10:39.323Z"
   },
   {
    "duration": 242,
    "start_time": "2022-07-28T15:10:39.703Z"
   },
   {
    "duration": 418,
    "start_time": "2022-07-28T15:10:39.946Z"
   },
   {
    "duration": 257,
    "start_time": "2022-07-28T15:10:40.366Z"
   },
   {
    "duration": 255,
    "start_time": "2022-07-28T15:10:40.626Z"
   },
   {
    "duration": 368,
    "start_time": "2022-07-28T15:10:40.883Z"
   },
   {
    "duration": 275,
    "start_time": "2022-07-28T15:10:41.253Z"
   },
   {
    "duration": 253,
    "start_time": "2022-07-28T15:10:41.530Z"
   },
   {
    "duration": 254,
    "start_time": "2022-07-28T15:10:41.784Z"
   },
   {
    "duration": 6,
    "start_time": "2022-07-28T15:10:42.040Z"
   },
   {
    "duration": 209,
    "start_time": "2022-07-28T15:10:42.048Z"
   },
   {
    "duration": 183,
    "start_time": "2022-07-28T15:10:42.259Z"
   },
   {
    "duration": 209,
    "start_time": "2022-07-28T15:10:42.444Z"
   },
   {
    "duration": 194,
    "start_time": "2022-07-28T15:10:42.655Z"
   },
   {
    "duration": 130,
    "start_time": "2022-07-28T15:10:42.850Z"
   },
   {
    "duration": 280,
    "start_time": "2022-07-28T15:10:42.982Z"
   },
   {
    "duration": 291,
    "start_time": "2022-07-28T15:10:43.264Z"
   },
   {
    "duration": 159,
    "start_time": "2022-07-28T15:10:43.557Z"
   },
   {
    "duration": 395,
    "start_time": "2022-07-28T15:10:43.718Z"
   },
   {
    "duration": 6,
    "start_time": "2022-07-28T15:14:20.680Z"
   },
   {
    "duration": 131,
    "start_time": "2022-07-28T15:15:27.939Z"
   },
   {
    "duration": 2397,
    "start_time": "2022-07-28T15:25:35.990Z"
   },
   {
    "duration": 5,
    "start_time": "2022-07-28T15:25:38.389Z"
   },
   {
    "duration": 268,
    "start_time": "2022-07-28T15:25:38.405Z"
   },
   {
    "duration": 272,
    "start_time": "2022-07-28T15:25:38.674Z"
   },
   {
    "duration": 5,
    "start_time": "2022-07-28T15:25:38.949Z"
   },
   {
    "duration": 158,
    "start_time": "2022-07-28T15:25:38.955Z"
   },
   {
    "duration": 23,
    "start_time": "2022-07-28T15:25:39.115Z"
   },
   {
    "duration": 14,
    "start_time": "2022-07-28T15:25:39.139Z"
   },
   {
    "duration": 18,
    "start_time": "2022-07-28T15:25:39.155Z"
   },
   {
    "duration": 116,
    "start_time": "2022-07-28T15:25:39.175Z"
   },
   {
    "duration": 18,
    "start_time": "2022-07-28T15:25:39.303Z"
   },
   {
    "duration": 3,
    "start_time": "2022-07-28T15:25:39.324Z"
   },
   {
    "duration": 9,
    "start_time": "2022-07-28T15:25:39.329Z"
   },
   {
    "duration": 17,
    "start_time": "2022-07-28T15:25:39.342Z"
   },
   {
    "duration": 146,
    "start_time": "2022-07-28T15:25:39.361Z"
   },
   {
    "duration": 21,
    "start_time": "2022-07-28T15:25:39.509Z"
   },
   {
    "duration": 125,
    "start_time": "2022-07-28T15:25:39.531Z"
   },
   {
    "duration": 67,
    "start_time": "2022-07-28T15:25:39.658Z"
   },
   {
    "duration": 8,
    "start_time": "2022-07-28T15:25:39.728Z"
   },
   {
    "duration": 345,
    "start_time": "2022-07-28T15:25:39.738Z"
   },
   {
    "duration": 388,
    "start_time": "2022-07-28T15:25:40.085Z"
   },
   {
    "duration": 248,
    "start_time": "2022-07-28T15:25:40.475Z"
   },
   {
    "duration": 256,
    "start_time": "2022-07-28T15:25:40.725Z"
   },
   {
    "duration": 242,
    "start_time": "2022-07-28T15:25:40.983Z"
   },
   {
    "duration": 258,
    "start_time": "2022-07-28T15:25:41.227Z"
   },
   {
    "duration": 241,
    "start_time": "2022-07-28T15:25:41.487Z"
   },
   {
    "duration": 323,
    "start_time": "2022-07-28T15:25:41.730Z"
   },
   {
    "duration": 239,
    "start_time": "2022-07-28T15:25:42.055Z"
   },
   {
    "duration": 257,
    "start_time": "2022-07-28T15:25:42.296Z"
   },
   {
    "duration": 242,
    "start_time": "2022-07-28T15:25:42.555Z"
   },
   {
    "duration": 231,
    "start_time": "2022-07-28T15:25:42.804Z"
   },
   {
    "duration": 369,
    "start_time": "2022-07-28T15:25:43.037Z"
   },
   {
    "duration": 267,
    "start_time": "2022-07-28T15:25:43.408Z"
   },
   {
    "duration": 260,
    "start_time": "2022-07-28T15:25:43.677Z"
   },
   {
    "duration": 418,
    "start_time": "2022-07-28T15:25:43.940Z"
   },
   {
    "duration": 253,
    "start_time": "2022-07-28T15:25:44.361Z"
   },
   {
    "duration": 254,
    "start_time": "2022-07-28T15:25:44.616Z"
   },
   {
    "duration": 399,
    "start_time": "2022-07-28T15:25:44.873Z"
   },
   {
    "duration": 272,
    "start_time": "2022-07-28T15:25:45.273Z"
   },
   {
    "duration": 275,
    "start_time": "2022-07-28T15:25:45.547Z"
   },
   {
    "duration": 268,
    "start_time": "2022-07-28T15:25:45.827Z"
   },
   {
    "duration": 6,
    "start_time": "2022-07-28T15:25:46.104Z"
   },
   {
    "duration": 189,
    "start_time": "2022-07-28T15:25:46.111Z"
   },
   {
    "duration": 192,
    "start_time": "2022-07-28T15:25:46.303Z"
   },
   {
    "duration": 262,
    "start_time": "2022-07-28T15:25:46.506Z"
   },
   {
    "duration": 208,
    "start_time": "2022-07-28T15:25:46.771Z"
   },
   {
    "duration": 160,
    "start_time": "2022-07-28T15:25:46.982Z"
   },
   {
    "duration": 287,
    "start_time": "2022-07-28T15:25:47.144Z"
   },
   {
    "duration": 318,
    "start_time": "2022-07-28T15:25:47.434Z"
   },
   {
    "duration": 180,
    "start_time": "2022-07-28T15:25:47.755Z"
   },
   {
    "duration": 334,
    "start_time": "2022-07-28T15:25:47.937Z"
   },
   {
    "duration": 253,
    "start_time": "2022-07-28T15:25:48.273Z"
   },
   {
    "duration": 146,
    "start_time": "2022-07-28T15:26:12.376Z"
   },
   {
    "duration": 150,
    "start_time": "2022-07-28T15:26:31.641Z"
   },
   {
    "duration": 49,
    "start_time": "2022-07-28T20:11:48.249Z"
   },
   {
    "duration": 2352,
    "start_time": "2022-07-28T20:12:18.309Z"
   },
   {
    "duration": 4,
    "start_time": "2022-07-28T20:12:20.664Z"
   },
   {
    "duration": 245,
    "start_time": "2022-07-28T20:12:20.669Z"
   },
   {
    "duration": 200,
    "start_time": "2022-07-28T20:12:20.916Z"
   },
   {
    "duration": 3,
    "start_time": "2022-07-28T20:12:21.123Z"
   },
   {
    "duration": 138,
    "start_time": "2022-07-28T20:12:21.128Z"
   },
   {
    "duration": 18,
    "start_time": "2022-07-28T20:12:21.268Z"
   },
   {
    "duration": 19,
    "start_time": "2022-07-28T20:12:21.288Z"
   },
   {
    "duration": 22,
    "start_time": "2022-07-28T20:12:21.310Z"
   },
   {
    "duration": 74,
    "start_time": "2022-07-28T20:12:21.336Z"
   },
   {
    "duration": 14,
    "start_time": "2022-07-28T20:12:21.424Z"
   },
   {
    "duration": 2,
    "start_time": "2022-07-28T20:12:21.440Z"
   },
   {
    "duration": 7,
    "start_time": "2022-07-28T20:12:21.444Z"
   },
   {
    "duration": 9,
    "start_time": "2022-07-28T20:12:21.453Z"
   },
   {
    "duration": 343,
    "start_time": "2022-07-28T20:12:21.464Z"
   },
   {
    "duration": 18,
    "start_time": "2022-07-28T20:12:21.809Z"
   },
   {
    "duration": 98,
    "start_time": "2022-07-28T20:12:21.829Z"
   },
   {
    "duration": 52,
    "start_time": "2022-07-28T20:12:21.928Z"
   },
   {
    "duration": 8,
    "start_time": "2022-07-28T20:12:21.982Z"
   },
   {
    "duration": 309,
    "start_time": "2022-07-28T20:12:21.992Z"
   },
   {
    "duration": 233,
    "start_time": "2022-07-28T20:12:22.303Z"
   },
   {
    "duration": 326,
    "start_time": "2022-07-28T20:12:22.540Z"
   },
   {
    "duration": 223,
    "start_time": "2022-07-28T20:12:22.868Z"
   },
   {
    "duration": 222,
    "start_time": "2022-07-28T20:12:23.093Z"
   },
   {
    "duration": 238,
    "start_time": "2022-07-28T20:12:23.317Z"
   },
   {
    "duration": 206,
    "start_time": "2022-07-28T20:12:23.557Z"
   },
   {
    "duration": 287,
    "start_time": "2022-07-28T20:12:23.765Z"
   },
   {
    "duration": 211,
    "start_time": "2022-07-28T20:12:24.056Z"
   },
   {
    "duration": 239,
    "start_time": "2022-07-28T20:12:24.269Z"
   },
   {
    "duration": 244,
    "start_time": "2022-07-28T20:12:24.510Z"
   },
   {
    "duration": 207,
    "start_time": "2022-07-28T20:12:24.755Z"
   },
   {
    "duration": 236,
    "start_time": "2022-07-28T20:12:24.964Z"
   },
   {
    "duration": 317,
    "start_time": "2022-07-28T20:12:25.202Z"
   },
   {
    "duration": 224,
    "start_time": "2022-07-28T20:12:25.524Z"
   },
   {
    "duration": 367,
    "start_time": "2022-07-28T20:12:25.750Z"
   },
   {
    "duration": 249,
    "start_time": "2022-07-28T20:12:26.123Z"
   },
   {
    "duration": 244,
    "start_time": "2022-07-28T20:12:26.373Z"
   },
   {
    "duration": 384,
    "start_time": "2022-07-28T20:12:26.623Z"
   },
   {
    "duration": 248,
    "start_time": "2022-07-28T20:12:27.008Z"
   },
   {
    "duration": 308,
    "start_time": "2022-07-28T20:12:27.258Z"
   },
   {
    "duration": 226,
    "start_time": "2022-07-28T20:12:27.568Z"
   },
   {
    "duration": 5,
    "start_time": "2022-07-28T20:12:27.795Z"
   },
   {
    "duration": 178,
    "start_time": "2022-07-28T20:12:27.801Z"
   },
   {
    "duration": 173,
    "start_time": "2022-07-28T20:12:27.981Z"
   },
   {
    "duration": 179,
    "start_time": "2022-07-28T20:12:28.155Z"
   },
   {
    "duration": 201,
    "start_time": "2022-07-28T20:12:28.338Z"
   },
   {
    "duration": 121,
    "start_time": "2022-07-28T20:12:28.541Z"
   },
   {
    "duration": 237,
    "start_time": "2022-07-28T20:12:28.664Z"
   },
   {
    "duration": 251,
    "start_time": "2022-07-28T20:12:28.903Z"
   },
   {
    "duration": 146,
    "start_time": "2022-07-28T20:12:29.156Z"
   },
   {
    "duration": 132,
    "start_time": "2022-07-28T20:12:29.304Z"
   },
   {
    "duration": 361,
    "start_time": "2022-07-28T20:12:29.438Z"
   },
   {
    "duration": 167,
    "start_time": "2022-07-28T20:13:03.957Z"
   },
   {
    "duration": 149,
    "start_time": "2022-07-28T20:13:33.429Z"
   },
   {
    "duration": 161,
    "start_time": "2022-07-28T20:13:51.581Z"
   },
   {
    "duration": 161,
    "start_time": "2022-07-28T20:14:43.348Z"
   },
   {
    "duration": 177,
    "start_time": "2022-07-28T20:15:16.730Z"
   },
   {
    "duration": 175,
    "start_time": "2022-07-28T20:16:10.898Z"
   },
   {
    "duration": 506,
    "start_time": "2022-07-28T20:16:52.082Z"
   },
   {
    "duration": 115,
    "start_time": "2022-07-28T20:17:15.009Z"
   },
   {
    "duration": 256,
    "start_time": "2022-07-28T20:17:39.925Z"
   },
   {
    "duration": 256,
    "start_time": "2022-07-28T20:17:47.906Z"
   },
   {
    "duration": 754,
    "start_time": "2022-07-28T20:32:49.412Z"
   },
   {
    "duration": 757,
    "start_time": "2022-07-28T20:37:41.847Z"
   },
   {
    "duration": 777,
    "start_time": "2022-07-28T20:38:46.108Z"
   },
   {
    "duration": 781,
    "start_time": "2022-07-28T20:39:02.167Z"
   },
   {
    "duration": 139,
    "start_time": "2022-07-28T20:40:30.556Z"
   },
   {
    "duration": 46,
    "start_time": "2022-10-27T13:04:12.009Z"
   },
   {
    "duration": 1167,
    "start_time": "2022-10-27T13:04:29.813Z"
   },
   {
    "duration": 4,
    "start_time": "2022-10-27T13:04:30.982Z"
   },
   {
    "duration": 401,
    "start_time": "2022-10-27T13:04:30.987Z"
   },
   {
    "duration": 182,
    "start_time": "2022-10-27T13:04:31.389Z"
   },
   {
    "duration": 4,
    "start_time": "2022-10-27T13:04:31.573Z"
   },
   {
    "duration": 129,
    "start_time": "2022-10-27T13:04:31.578Z"
   },
   {
    "duration": 19,
    "start_time": "2022-10-27T13:04:31.709Z"
   },
   {
    "duration": 9,
    "start_time": "2022-10-27T13:04:31.729Z"
   },
   {
    "duration": 16,
    "start_time": "2022-10-27T13:04:31.739Z"
   },
   {
    "duration": 78,
    "start_time": "2022-10-27T13:04:31.757Z"
   },
   {
    "duration": 11,
    "start_time": "2022-10-27T13:04:31.837Z"
   },
   {
    "duration": 9,
    "start_time": "2022-10-27T13:04:31.849Z"
   },
   {
    "duration": 7,
    "start_time": "2022-10-27T13:04:31.859Z"
   },
   {
    "duration": 15,
    "start_time": "2022-10-27T13:04:31.867Z"
   },
   {
    "duration": 115,
    "start_time": "2022-10-27T13:04:31.883Z"
   },
   {
    "duration": 15,
    "start_time": "2022-10-27T13:04:32.000Z"
   },
   {
    "duration": 87,
    "start_time": "2022-10-27T13:04:32.022Z"
   },
   {
    "duration": 24,
    "start_time": "2022-10-27T13:04:32.111Z"
   },
   {
    "duration": 8,
    "start_time": "2022-10-27T13:04:32.137Z"
   },
   {
    "duration": 295,
    "start_time": "2022-10-27T13:04:32.147Z"
   },
   {
    "duration": 192,
    "start_time": "2022-10-27T13:04:32.444Z"
   },
   {
    "duration": 201,
    "start_time": "2022-10-27T13:04:32.638Z"
   },
   {
    "duration": 204,
    "start_time": "2022-10-27T13:04:32.841Z"
   },
   {
    "duration": 206,
    "start_time": "2022-10-27T13:04:33.047Z"
   },
   {
    "duration": 345,
    "start_time": "2022-10-27T13:04:33.254Z"
   },
   {
    "duration": 197,
    "start_time": "2022-10-27T13:04:33.601Z"
   },
   {
    "duration": 187,
    "start_time": "2022-10-27T13:04:33.799Z"
   },
   {
    "duration": 189,
    "start_time": "2022-10-27T13:04:33.988Z"
   },
   {
    "duration": 197,
    "start_time": "2022-10-27T13:04:34.179Z"
   },
   {
    "duration": 218,
    "start_time": "2022-10-27T13:04:34.377Z"
   },
   {
    "duration": 202,
    "start_time": "2022-10-27T13:04:34.597Z"
   },
   {
    "duration": 213,
    "start_time": "2022-10-27T13:04:34.800Z"
   },
   {
    "duration": 378,
    "start_time": "2022-10-27T13:04:35.014Z"
   },
   {
    "duration": 194,
    "start_time": "2022-10-27T13:04:35.394Z"
   },
   {
    "duration": 300,
    "start_time": "2022-10-27T13:04:35.589Z"
   },
   {
    "duration": 201,
    "start_time": "2022-10-27T13:04:35.891Z"
   },
   {
    "duration": 202,
    "start_time": "2022-10-27T13:04:36.094Z"
   },
   {
    "duration": 205,
    "start_time": "2022-10-27T13:04:36.298Z"
   },
   {
    "duration": 204,
    "start_time": "2022-10-27T13:04:36.504Z"
   },
   {
    "duration": 212,
    "start_time": "2022-10-27T13:04:36.710Z"
   },
   {
    "duration": 218,
    "start_time": "2022-10-27T13:04:36.924Z"
   },
   {
    "duration": 4,
    "start_time": "2022-10-27T13:04:37.144Z"
   },
   {
    "duration": 155,
    "start_time": "2022-10-27T13:04:37.149Z"
   },
   {
    "duration": 160,
    "start_time": "2022-10-27T13:04:37.306Z"
   },
   {
    "duration": 174,
    "start_time": "2022-10-27T13:04:37.468Z"
   },
   {
    "duration": 163,
    "start_time": "2022-10-27T13:04:37.644Z"
   },
   {
    "duration": 103,
    "start_time": "2022-10-27T13:04:37.808Z"
   },
   {
    "duration": 890,
    "start_time": "2022-10-27T13:04:37.913Z"
   },
   {
    "duration": 296,
    "start_time": "2022-10-27T13:04:38.804Z"
   },
   {
    "duration": 132,
    "start_time": "2022-10-27T13:04:39.102Z"
   },
   {
    "duration": 122,
    "start_time": "2022-10-27T13:04:39.236Z"
   },
   {
    "duration": 210,
    "start_time": "2022-10-27T13:04:39.360Z"
   },
   {
    "duration": 6,
    "start_time": "2022-10-27T13:04:55.053Z"
   }
  ],
  "kernelspec": {
   "display_name": "Python 3 (ipykernel)",
   "language": "python",
   "name": "python3"
  },
  "language_info": {
   "codemirror_mode": {
    "name": "ipython",
    "version": 3
   },
   "file_extension": ".py",
   "mimetype": "text/x-python",
   "name": "python",
   "nbconvert_exporter": "python",
   "pygments_lexer": "ipython3",
   "version": "3.9.5"
  },
  "toc": {
   "base_numbering": 1,
   "nav_menu": {},
   "number_sections": true,
   "sideBar": true,
   "skip_h1_title": true,
   "title_cell": "Table of Contents",
   "title_sidebar": "Contents",
   "toc_cell": false,
   "toc_position": {
    "height": "478px",
    "left": "440px",
    "top": "111.125px",
    "width": "165px"
   },
   "toc_section_display": true,
   "toc_window_display": true
  }
 },
 "nbformat": 4,
 "nbformat_minor": 2
}
