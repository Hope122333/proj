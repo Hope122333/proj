{
 "cells": [
  {
   "cell_type": "markdown",
   "id": "c81daeeb",
   "metadata": {
    "deletable": false,
    "id": "c81daeeb"
   },
   "source": [
    "# Исследование надежности заемщиков\n"
   ]
  },
  {
   "cell_type": "markdown",
   "id": "744d7639",
   "metadata": {
    "deletable": false,
    "id": "744d7639"
   },
   "source": [
    "## Откройте таблицу и изучите общую информацию о данных"
   ]
  },
  {
   "cell_type": "markdown",
   "id": "e7a14c31",
   "metadata": {
    "deletable": false,
    "id": "e7a14c31"
   },
   "source": [
    "**Задание 1. Импортируйте библиотеку pandas. Считайте данные из csv-файла в датафрейм и сохраните в переменную `data`. Путь к файлу:**\n",
    "\n",
    "`/datasets/data.csv`"
   ]
  },
  {
   "cell_type": "code",
   "execution_count": 1,
   "id": "7bcf75c9",
   "metadata": {
    "deletable": false,
    "id": "7bcf75c9"
   },
   "outputs": [],
   "source": [
    "import pandas as pd\n",
    "\n",
    "try:\n",
    "    data = pd.read_csv('data4.csv')\n",
    "except:\n",
    "    data = pd.read_csv('https://code.s3.yandex.net/datasets/data.csv')"
   ]
  },
  {
   "cell_type": "markdown",
   "id": "b8038fe3",
   "metadata": {
    "deletable": false,
    "id": "b8038fe3"
   },
   "source": [
    "**Задание 2. Выведите первые 20 строчек датафрейма `data` на экран.**"
   ]
  },
  {
   "cell_type": "code",
   "execution_count": 204,
   "id": "2a7cab99",
   "metadata": {
    "deletable": false,
    "id": "2a7cab99",
    "outputId": "1a8f3ef2-d323-4ec2-ddf7-89670b5944c4"
   },
   "outputs": [
    {
     "data": {
      "text/html": [
       "<div>\n",
       "<style scoped>\n",
       "    .dataframe tbody tr th:only-of-type {\n",
       "        vertical-align: middle;\n",
       "    }\n",
       "\n",
       "    .dataframe tbody tr th {\n",
       "        vertical-align: top;\n",
       "    }\n",
       "\n",
       "    .dataframe thead th {\n",
       "        text-align: right;\n",
       "    }\n",
       "</style>\n",
       "<table border=\"1\" class=\"dataframe\">\n",
       "  <thead>\n",
       "    <tr style=\"text-align: right;\">\n",
       "      <th></th>\n",
       "      <th>children</th>\n",
       "      <th>days_employed</th>\n",
       "      <th>dob_years</th>\n",
       "      <th>education</th>\n",
       "      <th>education_id</th>\n",
       "      <th>family_status</th>\n",
       "      <th>family_status_id</th>\n",
       "      <th>gender</th>\n",
       "      <th>income_type</th>\n",
       "      <th>debt</th>\n",
       "      <th>total_income</th>\n",
       "      <th>purpose</th>\n",
       "      <th>total_income_category</th>\n",
       "      <th>purpose_category</th>\n",
       "      <th>children_group</th>\n",
       "      <th>status</th>\n",
       "    </tr>\n",
       "  </thead>\n",
       "  <tbody>\n",
       "    <tr>\n",
       "      <th>0</th>\n",
       "      <td>1</td>\n",
       "      <td>8437.673028</td>\n",
       "      <td>42</td>\n",
       "      <td>высшее</td>\n",
       "      <td>0</td>\n",
       "      <td>женат / замужем</td>\n",
       "      <td>0</td>\n",
       "      <td>F</td>\n",
       "      <td>сотрудник</td>\n",
       "      <td>0</td>\n",
       "      <td>253875</td>\n",
       "      <td>покупка жилья</td>\n",
       "      <td>B</td>\n",
       "      <td>операции с недвижимостью</td>\n",
       "      <td>Дети есть</td>\n",
       "      <td>Очень богатый</td>\n",
       "    </tr>\n",
       "    <tr>\n",
       "      <th>1</th>\n",
       "      <td>1</td>\n",
       "      <td>4024.803754</td>\n",
       "      <td>36</td>\n",
       "      <td>среднее</td>\n",
       "      <td>1</td>\n",
       "      <td>женат / замужем</td>\n",
       "      <td>0</td>\n",
       "      <td>F</td>\n",
       "      <td>сотрудник</td>\n",
       "      <td>0</td>\n",
       "      <td>112080</td>\n",
       "      <td>приобретение автомобиля</td>\n",
       "      <td>C</td>\n",
       "      <td>операции с автомобилем</td>\n",
       "      <td>Дети есть</td>\n",
       "      <td>Бедный</td>\n",
       "    </tr>\n",
       "    <tr>\n",
       "      <th>2</th>\n",
       "      <td>0</td>\n",
       "      <td>5623.422610</td>\n",
       "      <td>33</td>\n",
       "      <td>среднее</td>\n",
       "      <td>1</td>\n",
       "      <td>женат / замужем</td>\n",
       "      <td>0</td>\n",
       "      <td>M</td>\n",
       "      <td>сотрудник</td>\n",
       "      <td>0</td>\n",
       "      <td>145885</td>\n",
       "      <td>покупка жилья</td>\n",
       "      <td>C</td>\n",
       "      <td>операции с недвижимостью</td>\n",
       "      <td>Нет детей</td>\n",
       "      <td>Средний</td>\n",
       "    </tr>\n",
       "    <tr>\n",
       "      <th>3</th>\n",
       "      <td>3</td>\n",
       "      <td>4124.747207</td>\n",
       "      <td>32</td>\n",
       "      <td>среднее</td>\n",
       "      <td>1</td>\n",
       "      <td>женат / замужем</td>\n",
       "      <td>0</td>\n",
       "      <td>M</td>\n",
       "      <td>сотрудник</td>\n",
       "      <td>0</td>\n",
       "      <td>267628</td>\n",
       "      <td>дополнительное образование</td>\n",
       "      <td>B</td>\n",
       "      <td>получение образования</td>\n",
       "      <td>Дети есть</td>\n",
       "      <td>Очень богатый</td>\n",
       "    </tr>\n",
       "    <tr>\n",
       "      <th>4</th>\n",
       "      <td>0</td>\n",
       "      <td>340266.072047</td>\n",
       "      <td>53</td>\n",
       "      <td>среднее</td>\n",
       "      <td>1</td>\n",
       "      <td>гражданский брак</td>\n",
       "      <td>1</td>\n",
       "      <td>F</td>\n",
       "      <td>пенсионер</td>\n",
       "      <td>0</td>\n",
       "      <td>158616</td>\n",
       "      <td>сыграть свадьбу</td>\n",
       "      <td>C</td>\n",
       "      <td>проведение свадьбы</td>\n",
       "      <td>Нет детей</td>\n",
       "      <td>Средний</td>\n",
       "    </tr>\n",
       "    <tr>\n",
       "      <th>5</th>\n",
       "      <td>0</td>\n",
       "      <td>926.185831</td>\n",
       "      <td>27</td>\n",
       "      <td>высшее</td>\n",
       "      <td>0</td>\n",
       "      <td>гражданский брак</td>\n",
       "      <td>1</td>\n",
       "      <td>M</td>\n",
       "      <td>компаньон</td>\n",
       "      <td>0</td>\n",
       "      <td>255763</td>\n",
       "      <td>покупка жилья</td>\n",
       "      <td>B</td>\n",
       "      <td>операции с недвижимостью</td>\n",
       "      <td>Нет детей</td>\n",
       "      <td>Очень богатый</td>\n",
       "    </tr>\n",
       "    <tr>\n",
       "      <th>6</th>\n",
       "      <td>0</td>\n",
       "      <td>2879.202052</td>\n",
       "      <td>43</td>\n",
       "      <td>высшее</td>\n",
       "      <td>0</td>\n",
       "      <td>женат / замужем</td>\n",
       "      <td>0</td>\n",
       "      <td>F</td>\n",
       "      <td>компаньон</td>\n",
       "      <td>0</td>\n",
       "      <td>240525</td>\n",
       "      <td>операции с жильем</td>\n",
       "      <td>B</td>\n",
       "      <td>операции с недвижимостью</td>\n",
       "      <td>Нет детей</td>\n",
       "      <td>Очень богатый</td>\n",
       "    </tr>\n",
       "    <tr>\n",
       "      <th>7</th>\n",
       "      <td>0</td>\n",
       "      <td>152.779569</td>\n",
       "      <td>50</td>\n",
       "      <td>среднее</td>\n",
       "      <td>1</td>\n",
       "      <td>женат / замужем</td>\n",
       "      <td>0</td>\n",
       "      <td>M</td>\n",
       "      <td>сотрудник</td>\n",
       "      <td>0</td>\n",
       "      <td>135823</td>\n",
       "      <td>образование</td>\n",
       "      <td>C</td>\n",
       "      <td>получение образования</td>\n",
       "      <td>Нет детей</td>\n",
       "      <td>Средний</td>\n",
       "    </tr>\n",
       "    <tr>\n",
       "      <th>8</th>\n",
       "      <td>2</td>\n",
       "      <td>6929.865299</td>\n",
       "      <td>35</td>\n",
       "      <td>высшее</td>\n",
       "      <td>0</td>\n",
       "      <td>гражданский брак</td>\n",
       "      <td>1</td>\n",
       "      <td>F</td>\n",
       "      <td>сотрудник</td>\n",
       "      <td>0</td>\n",
       "      <td>95856</td>\n",
       "      <td>на проведение свадьбы</td>\n",
       "      <td>C</td>\n",
       "      <td>проведение свадьбы</td>\n",
       "      <td>Дети есть</td>\n",
       "      <td>Нищий</td>\n",
       "    </tr>\n",
       "    <tr>\n",
       "      <th>9</th>\n",
       "      <td>0</td>\n",
       "      <td>2188.756445</td>\n",
       "      <td>41</td>\n",
       "      <td>среднее</td>\n",
       "      <td>1</td>\n",
       "      <td>женат / замужем</td>\n",
       "      <td>0</td>\n",
       "      <td>M</td>\n",
       "      <td>сотрудник</td>\n",
       "      <td>0</td>\n",
       "      <td>144425</td>\n",
       "      <td>покупка жилья для семьи</td>\n",
       "      <td>C</td>\n",
       "      <td>операции с недвижимостью</td>\n",
       "      <td>Нет детей</td>\n",
       "      <td>Средний</td>\n",
       "    </tr>\n",
       "    <tr>\n",
       "      <th>10</th>\n",
       "      <td>2</td>\n",
       "      <td>4171.483647</td>\n",
       "      <td>36</td>\n",
       "      <td>высшее</td>\n",
       "      <td>0</td>\n",
       "      <td>женат / замужем</td>\n",
       "      <td>0</td>\n",
       "      <td>M</td>\n",
       "      <td>компаньон</td>\n",
       "      <td>0</td>\n",
       "      <td>113943</td>\n",
       "      <td>покупка недвижимости</td>\n",
       "      <td>C</td>\n",
       "      <td>операции с недвижимостью</td>\n",
       "      <td>Дети есть</td>\n",
       "      <td>Бедный</td>\n",
       "    </tr>\n",
       "    <tr>\n",
       "      <th>11</th>\n",
       "      <td>0</td>\n",
       "      <td>792.701887</td>\n",
       "      <td>40</td>\n",
       "      <td>среднее</td>\n",
       "      <td>1</td>\n",
       "      <td>женат / замужем</td>\n",
       "      <td>0</td>\n",
       "      <td>F</td>\n",
       "      <td>сотрудник</td>\n",
       "      <td>0</td>\n",
       "      <td>77069</td>\n",
       "      <td>покупка коммерческой недвижимости</td>\n",
       "      <td>C</td>\n",
       "      <td>операции с недвижимостью</td>\n",
       "      <td>Нет детей</td>\n",
       "      <td>Нищий</td>\n",
       "    </tr>\n",
       "    <tr>\n",
       "      <th>12</th>\n",
       "      <td>0</td>\n",
       "      <td>365286.622650</td>\n",
       "      <td>65</td>\n",
       "      <td>среднее</td>\n",
       "      <td>1</td>\n",
       "      <td>гражданский брак</td>\n",
       "      <td>1</td>\n",
       "      <td>M</td>\n",
       "      <td>пенсионер</td>\n",
       "      <td>0</td>\n",
       "      <td>118514</td>\n",
       "      <td>сыграть свадьбу</td>\n",
       "      <td>C</td>\n",
       "      <td>проведение свадьбы</td>\n",
       "      <td>Нет детей</td>\n",
       "      <td>Бедный</td>\n",
       "    </tr>\n",
       "    <tr>\n",
       "      <th>13</th>\n",
       "      <td>0</td>\n",
       "      <td>1846.641941</td>\n",
       "      <td>54</td>\n",
       "      <td>неоконченное высшее</td>\n",
       "      <td>2</td>\n",
       "      <td>женат / замужем</td>\n",
       "      <td>0</td>\n",
       "      <td>F</td>\n",
       "      <td>сотрудник</td>\n",
       "      <td>0</td>\n",
       "      <td>130458</td>\n",
       "      <td>приобретение автомобиля</td>\n",
       "      <td>C</td>\n",
       "      <td>операции с автомобилем</td>\n",
       "      <td>Нет детей</td>\n",
       "      <td>Бедный</td>\n",
       "    </tr>\n",
       "    <tr>\n",
       "      <th>14</th>\n",
       "      <td>0</td>\n",
       "      <td>1844.956182</td>\n",
       "      <td>56</td>\n",
       "      <td>высшее</td>\n",
       "      <td>0</td>\n",
       "      <td>гражданский брак</td>\n",
       "      <td>1</td>\n",
       "      <td>F</td>\n",
       "      <td>компаньон</td>\n",
       "      <td>1</td>\n",
       "      <td>165127</td>\n",
       "      <td>покупка жилой недвижимости</td>\n",
       "      <td>C</td>\n",
       "      <td>операции с недвижимостью</td>\n",
       "      <td>Нет детей</td>\n",
       "      <td>Богатый</td>\n",
       "    </tr>\n",
       "    <tr>\n",
       "      <th>15</th>\n",
       "      <td>1</td>\n",
       "      <td>972.364419</td>\n",
       "      <td>26</td>\n",
       "      <td>среднее</td>\n",
       "      <td>1</td>\n",
       "      <td>женат / замужем</td>\n",
       "      <td>0</td>\n",
       "      <td>F</td>\n",
       "      <td>сотрудник</td>\n",
       "      <td>0</td>\n",
       "      <td>116820</td>\n",
       "      <td>строительство собственной недвижимости</td>\n",
       "      <td>C</td>\n",
       "      <td>операции с недвижимостью</td>\n",
       "      <td>Дети есть</td>\n",
       "      <td>Бедный</td>\n",
       "    </tr>\n",
       "    <tr>\n",
       "      <th>16</th>\n",
       "      <td>0</td>\n",
       "      <td>1719.934226</td>\n",
       "      <td>35</td>\n",
       "      <td>среднее</td>\n",
       "      <td>1</td>\n",
       "      <td>женат / замужем</td>\n",
       "      <td>0</td>\n",
       "      <td>F</td>\n",
       "      <td>сотрудник</td>\n",
       "      <td>0</td>\n",
       "      <td>289202</td>\n",
       "      <td>недвижимость</td>\n",
       "      <td>B</td>\n",
       "      <td>операции с недвижимостью</td>\n",
       "      <td>Нет детей</td>\n",
       "      <td>Очень богатый</td>\n",
       "    </tr>\n",
       "    <tr>\n",
       "      <th>17</th>\n",
       "      <td>0</td>\n",
       "      <td>2369.999720</td>\n",
       "      <td>33</td>\n",
       "      <td>высшее</td>\n",
       "      <td>0</td>\n",
       "      <td>гражданский брак</td>\n",
       "      <td>1</td>\n",
       "      <td>M</td>\n",
       "      <td>сотрудник</td>\n",
       "      <td>0</td>\n",
       "      <td>90410</td>\n",
       "      <td>строительство недвижимости</td>\n",
       "      <td>C</td>\n",
       "      <td>операции с недвижимостью</td>\n",
       "      <td>Нет детей</td>\n",
       "      <td>Нищий</td>\n",
       "    </tr>\n",
       "    <tr>\n",
       "      <th>18</th>\n",
       "      <td>0</td>\n",
       "      <td>400281.136913</td>\n",
       "      <td>53</td>\n",
       "      <td>среднее</td>\n",
       "      <td>1</td>\n",
       "      <td>вдовец / вдова</td>\n",
       "      <td>2</td>\n",
       "      <td>F</td>\n",
       "      <td>пенсионер</td>\n",
       "      <td>0</td>\n",
       "      <td>56823</td>\n",
       "      <td>на покупку подержанного автомобиля</td>\n",
       "      <td>C</td>\n",
       "      <td>операции с автомобилем</td>\n",
       "      <td>Нет детей</td>\n",
       "      <td>Нищий</td>\n",
       "    </tr>\n",
       "    <tr>\n",
       "      <th>19</th>\n",
       "      <td>0</td>\n",
       "      <td>10038.818549</td>\n",
       "      <td>48</td>\n",
       "      <td>среднее</td>\n",
       "      <td>1</td>\n",
       "      <td>в разводе</td>\n",
       "      <td>3</td>\n",
       "      <td>F</td>\n",
       "      <td>сотрудник</td>\n",
       "      <td>0</td>\n",
       "      <td>242831</td>\n",
       "      <td>на покупку своего автомобиля</td>\n",
       "      <td>B</td>\n",
       "      <td>операции с автомобилем</td>\n",
       "      <td>Нет детей</td>\n",
       "      <td>Очень богатый</td>\n",
       "    </tr>\n",
       "  </tbody>\n",
       "</table>\n",
       "</div>"
      ],
      "text/plain": [
       "    children  days_employed  dob_years            education  education_id  \\\n",
       "0          1    8437.673028         42               высшее             0   \n",
       "1          1    4024.803754         36              среднее             1   \n",
       "2          0    5623.422610         33              среднее             1   \n",
       "3          3    4124.747207         32              среднее             1   \n",
       "4          0  340266.072047         53              среднее             1   \n",
       "5          0     926.185831         27               высшее             0   \n",
       "6          0    2879.202052         43               высшее             0   \n",
       "7          0     152.779569         50              среднее             1   \n",
       "8          2    6929.865299         35               высшее             0   \n",
       "9          0    2188.756445         41              среднее             1   \n",
       "10         2    4171.483647         36               высшее             0   \n",
       "11         0     792.701887         40              среднее             1   \n",
       "12         0  365286.622650         65              среднее             1   \n",
       "13         0    1846.641941         54  неоконченное высшее             2   \n",
       "14         0    1844.956182         56               высшее             0   \n",
       "15         1     972.364419         26              среднее             1   \n",
       "16         0    1719.934226         35              среднее             1   \n",
       "17         0    2369.999720         33               высшее             0   \n",
       "18         0  400281.136913         53              среднее             1   \n",
       "19         0   10038.818549         48              среднее             1   \n",
       "\n",
       "       family_status  family_status_id gender income_type  debt  total_income  \\\n",
       "0    женат / замужем                 0      F   сотрудник     0        253875   \n",
       "1    женат / замужем                 0      F   сотрудник     0        112080   \n",
       "2    женат / замужем                 0      M   сотрудник     0        145885   \n",
       "3    женат / замужем                 0      M   сотрудник     0        267628   \n",
       "4   гражданский брак                 1      F   пенсионер     0        158616   \n",
       "5   гражданский брак                 1      M   компаньон     0        255763   \n",
       "6    женат / замужем                 0      F   компаньон     0        240525   \n",
       "7    женат / замужем                 0      M   сотрудник     0        135823   \n",
       "8   гражданский брак                 1      F   сотрудник     0         95856   \n",
       "9    женат / замужем                 0      M   сотрудник     0        144425   \n",
       "10   женат / замужем                 0      M   компаньон     0        113943   \n",
       "11   женат / замужем                 0      F   сотрудник     0         77069   \n",
       "12  гражданский брак                 1      M   пенсионер     0        118514   \n",
       "13   женат / замужем                 0      F   сотрудник     0        130458   \n",
       "14  гражданский брак                 1      F   компаньон     1        165127   \n",
       "15   женат / замужем                 0      F   сотрудник     0        116820   \n",
       "16   женат / замужем                 0      F   сотрудник     0        289202   \n",
       "17  гражданский брак                 1      M   сотрудник     0         90410   \n",
       "18    вдовец / вдова                 2      F   пенсионер     0         56823   \n",
       "19         в разводе                 3      F   сотрудник     0        242831   \n",
       "\n",
       "                                   purpose total_income_category  \\\n",
       "0                            покупка жилья                     B   \n",
       "1                  приобретение автомобиля                     C   \n",
       "2                            покупка жилья                     C   \n",
       "3               дополнительное образование                     B   \n",
       "4                          сыграть свадьбу                     C   \n",
       "5                            покупка жилья                     B   \n",
       "6                        операции с жильем                     B   \n",
       "7                              образование                     C   \n",
       "8                    на проведение свадьбы                     C   \n",
       "9                  покупка жилья для семьи                     C   \n",
       "10                    покупка недвижимости                     C   \n",
       "11       покупка коммерческой недвижимости                     C   \n",
       "12                         сыграть свадьбу                     C   \n",
       "13                 приобретение автомобиля                     C   \n",
       "14              покупка жилой недвижимости                     C   \n",
       "15  строительство собственной недвижимости                     C   \n",
       "16                            недвижимость                     B   \n",
       "17              строительство недвижимости                     C   \n",
       "18      на покупку подержанного автомобиля                     C   \n",
       "19            на покупку своего автомобиля                     B   \n",
       "\n",
       "            purpose_category children_group         status  \n",
       "0   операции с недвижимостью      Дети есть  Очень богатый  \n",
       "1     операции с автомобилем      Дети есть         Бедный  \n",
       "2   операции с недвижимостью      Нет детей        Средний  \n",
       "3      получение образования      Дети есть  Очень богатый  \n",
       "4         проведение свадьбы      Нет детей        Средний  \n",
       "5   операции с недвижимостью      Нет детей  Очень богатый  \n",
       "6   операции с недвижимостью      Нет детей  Очень богатый  \n",
       "7      получение образования      Нет детей        Средний  \n",
       "8         проведение свадьбы      Дети есть          Нищий  \n",
       "9   операции с недвижимостью      Нет детей        Средний  \n",
       "10  операции с недвижимостью      Дети есть         Бедный  \n",
       "11  операции с недвижимостью      Нет детей          Нищий  \n",
       "12        проведение свадьбы      Нет детей         Бедный  \n",
       "13    операции с автомобилем      Нет детей         Бедный  \n",
       "14  операции с недвижимостью      Нет детей        Богатый  \n",
       "15  операции с недвижимостью      Дети есть         Бедный  \n",
       "16  операции с недвижимостью      Нет детей  Очень богатый  \n",
       "17  операции с недвижимостью      Нет детей          Нищий  \n",
       "18    операции с автомобилем      Нет детей          Нищий  \n",
       "19    операции с автомобилем      Нет детей  Очень богатый  "
      ]
     },
     "metadata": {},
     "output_type": "display_data"
    }
   ],
   "source": [
    "display(data.head(20))"
   ]
  },
  {
   "cell_type": "markdown",
   "id": "1c12e233",
   "metadata": {
    "deletable": false,
    "id": "1c12e233"
   },
   "source": [
    "**Задание 3. Выведите основную информацию о датафрейме с помощью метода `info()`.**"
   ]
  },
  {
   "cell_type": "code",
   "execution_count": 203,
   "id": "2b757bca",
   "metadata": {
    "deletable": false,
    "id": "2b757bca",
    "outputId": "15376089-8dad-46c9-b520-c05248d43158"
   },
   "outputs": [
    {
     "name": "stdout",
     "output_type": "stream",
     "text": [
      "<class 'pandas.core.frame.DataFrame'>\n",
      "Int64Index: 21331 entries, 0 to 21524\n",
      "Data columns (total 16 columns):\n",
      " #   Column                 Non-Null Count  Dtype   \n",
      "---  ------                 --------------  -----   \n",
      " 0   children               21331 non-null  int64   \n",
      " 1   days_employed          21331 non-null  float64 \n",
      " 2   dob_years              21331 non-null  int64   \n",
      " 3   education              21331 non-null  object  \n",
      " 4   education_id           21331 non-null  int64   \n",
      " 5   family_status          21331 non-null  object  \n",
      " 6   family_status_id       21331 non-null  int64   \n",
      " 7   gender                 21331 non-null  object  \n",
      " 8   income_type            21331 non-null  object  \n",
      " 9   debt                   21331 non-null  int64   \n",
      " 10  total_income           21331 non-null  int32   \n",
      " 11  purpose                21331 non-null  object  \n",
      " 12  total_income_category  21331 non-null  object  \n",
      " 13  purpose_category       21331 non-null  object  \n",
      " 14  children_group         21331 non-null  object  \n",
      " 15  status                 21331 non-null  category\n",
      "dtypes: category(1), float64(1), int32(1), int64(5), object(8)\n",
      "memory usage: 2.5+ MB\n"
     ]
    }
   ],
   "source": [
    "data.info(memory_usage=True)\n",
    "\n"
   ]
  },
  {
   "cell_type": "markdown",
   "id": "333ec665",
   "metadata": {
    "deletable": false,
    "id": "333ec665"
   },
   "source": [
    "## Предобработка данных"
   ]
  },
  {
   "cell_type": "markdown",
   "id": "02d92d53",
   "metadata": {
    "deletable": false,
    "id": "02d92d53"
   },
   "source": [
    "### Удаление пропусков"
   ]
  },
  {
   "cell_type": "markdown",
   "id": "cd84967c",
   "metadata": {
    "deletable": false,
    "id": "cd84967c"
   },
   "source": [
    "**Задание 4. Выведите количество пропущенных значений для каждого столбца. Используйте комбинацию двух методов.**"
   ]
  },
  {
   "cell_type": "code",
   "execution_count": 172,
   "id": "7f9b2309",
   "metadata": {
    "deletable": false,
    "id": "7f9b2309",
    "outputId": "81f4d817-781c-465c-ed15-91ce4446810d"
   },
   "outputs": [
    {
     "data": {
      "text/html": [
       "<div>\n",
       "<style scoped>\n",
       "    .dataframe tbody tr th:only-of-type {\n",
       "        vertical-align: middle;\n",
       "    }\n",
       "\n",
       "    .dataframe tbody tr th {\n",
       "        vertical-align: top;\n",
       "    }\n",
       "\n",
       "    .dataframe thead th {\n",
       "        text-align: right;\n",
       "    }\n",
       "</style>\n",
       "<table border=\"1\" class=\"dataframe\">\n",
       "  <thead>\n",
       "    <tr style=\"text-align: right;\">\n",
       "      <th></th>\n",
       "      <th>index</th>\n",
       "      <th>0</th>\n",
       "    </tr>\n",
       "  </thead>\n",
       "  <tbody>\n",
       "    <tr>\n",
       "      <th>0</th>\n",
       "      <td>children</td>\n",
       "      <td>0</td>\n",
       "    </tr>\n",
       "    <tr>\n",
       "      <th>1</th>\n",
       "      <td>days_employed</td>\n",
       "      <td>0</td>\n",
       "    </tr>\n",
       "    <tr>\n",
       "      <th>2</th>\n",
       "      <td>dob_years</td>\n",
       "      <td>0</td>\n",
       "    </tr>\n",
       "    <tr>\n",
       "      <th>3</th>\n",
       "      <td>education</td>\n",
       "      <td>0</td>\n",
       "    </tr>\n",
       "    <tr>\n",
       "      <th>4</th>\n",
       "      <td>education_id</td>\n",
       "      <td>0</td>\n",
       "    </tr>\n",
       "    <tr>\n",
       "      <th>5</th>\n",
       "      <td>family_status</td>\n",
       "      <td>0</td>\n",
       "    </tr>\n",
       "    <tr>\n",
       "      <th>6</th>\n",
       "      <td>family_status_id</td>\n",
       "      <td>0</td>\n",
       "    </tr>\n",
       "    <tr>\n",
       "      <th>7</th>\n",
       "      <td>gender</td>\n",
       "      <td>0</td>\n",
       "    </tr>\n",
       "    <tr>\n",
       "      <th>8</th>\n",
       "      <td>income_type</td>\n",
       "      <td>0</td>\n",
       "    </tr>\n",
       "    <tr>\n",
       "      <th>9</th>\n",
       "      <td>debt</td>\n",
       "      <td>0</td>\n",
       "    </tr>\n",
       "    <tr>\n",
       "      <th>10</th>\n",
       "      <td>total_income</td>\n",
       "      <td>0</td>\n",
       "    </tr>\n",
       "    <tr>\n",
       "      <th>11</th>\n",
       "      <td>purpose</td>\n",
       "      <td>0</td>\n",
       "    </tr>\n",
       "    <tr>\n",
       "      <th>12</th>\n",
       "      <td>total_income_category</td>\n",
       "      <td>0</td>\n",
       "    </tr>\n",
       "    <tr>\n",
       "      <th>13</th>\n",
       "      <td>purpose_category</td>\n",
       "      <td>0</td>\n",
       "    </tr>\n",
       "    <tr>\n",
       "      <th>14</th>\n",
       "      <td>children_group</td>\n",
       "      <td>0</td>\n",
       "    </tr>\n",
       "    <tr>\n",
       "      <th>15</th>\n",
       "      <td>status</td>\n",
       "      <td>0</td>\n",
       "    </tr>\n",
       "  </tbody>\n",
       "</table>\n",
       "</div>"
      ],
      "text/plain": [
       "                    index  0\n",
       "0                children  0\n",
       "1           days_employed  0\n",
       "2               dob_years  0\n",
       "3               education  0\n",
       "4            education_id  0\n",
       "5           family_status  0\n",
       "6        family_status_id  0\n",
       "7                  gender  0\n",
       "8             income_type  0\n",
       "9                    debt  0\n",
       "10           total_income  0\n",
       "11                purpose  0\n",
       "12  total_income_category  0\n",
       "13       purpose_category  0\n",
       "14         children_group  0\n",
       "15                 status  0"
      ]
     },
     "execution_count": 172,
     "metadata": {},
     "output_type": "execute_result"
    }
   ],
   "source": [
    "data.isna().sum().reset_index()"
   ]
  },
  {
   "cell_type": "markdown",
   "id": "db86e27b",
   "metadata": {
    "deletable": false,
    "id": "db86e27b"
   },
   "source": [
    "**Задание 5. В двух столбцах есть пропущенные значения. Один из них — `days_employed`. Пропуски в этом столбце вы обработаете на следующем этапе. Другой столбец с пропущенными значениями — `total_income` — хранит данные о доходах. На сумму дохода сильнее всего влияет тип занятости, поэтому заполнить пропуски в этом столбце нужно медианным значением по каждому типу из столбца `income_type`. Например, у человека с типом занятости `сотрудник` пропуск в столбце `total_income` должен быть заполнен медианным доходом среди всех записей с тем же типом.**"
   ]
  },
  {
   "cell_type": "code",
   "execution_count": 111,
   "id": "42006a93",
   "metadata": {
    "deletable": false,
    "id": "42006a93"
   },
   "outputs": [
    {
     "data": {
      "text/html": [
       "<div>\n",
       "<style scoped>\n",
       "    .dataframe tbody tr th:only-of-type {\n",
       "        vertical-align: middle;\n",
       "    }\n",
       "\n",
       "    .dataframe tbody tr th {\n",
       "        vertical-align: top;\n",
       "    }\n",
       "\n",
       "    .dataframe thead th {\n",
       "        text-align: right;\n",
       "    }\n",
       "</style>\n",
       "<table border=\"1\" class=\"dataframe\">\n",
       "  <thead>\n",
       "    <tr style=\"text-align: right;\">\n",
       "      <th></th>\n",
       "      <th>children</th>\n",
       "      <th>days_employed</th>\n",
       "      <th>dob_years</th>\n",
       "      <th>education</th>\n",
       "      <th>education_id</th>\n",
       "      <th>family_status</th>\n",
       "      <th>family_status_id</th>\n",
       "      <th>gender</th>\n",
       "      <th>income_type</th>\n",
       "      <th>debt</th>\n",
       "      <th>total_income</th>\n",
       "      <th>purpose</th>\n",
       "      <th>total_income_category</th>\n",
       "      <th>purpose_category</th>\n",
       "      <th>children_group</th>\n",
       "      <th>status</th>\n",
       "    </tr>\n",
       "  </thead>\n",
       "  <tbody>\n",
       "    <tr>\n",
       "      <th>0</th>\n",
       "      <td>1</td>\n",
       "      <td>8437.673028</td>\n",
       "      <td>42</td>\n",
       "      <td>высшее</td>\n",
       "      <td>0</td>\n",
       "      <td>женат / замужем</td>\n",
       "      <td>0</td>\n",
       "      <td>F</td>\n",
       "      <td>сотрудник</td>\n",
       "      <td>0</td>\n",
       "      <td>253875</td>\n",
       "      <td>покупка жилья</td>\n",
       "      <td>B</td>\n",
       "      <td>операции с недвижимостью</td>\n",
       "      <td>Дети есть</td>\n",
       "      <td>Очень богатый</td>\n",
       "    </tr>\n",
       "    <tr>\n",
       "      <th>1</th>\n",
       "      <td>1</td>\n",
       "      <td>4024.803754</td>\n",
       "      <td>36</td>\n",
       "      <td>среднее</td>\n",
       "      <td>1</td>\n",
       "      <td>женат / замужем</td>\n",
       "      <td>0</td>\n",
       "      <td>F</td>\n",
       "      <td>сотрудник</td>\n",
       "      <td>0</td>\n",
       "      <td>112080</td>\n",
       "      <td>приобретение автомобиля</td>\n",
       "      <td>C</td>\n",
       "      <td>операции с автомобилем</td>\n",
       "      <td>Дети есть</td>\n",
       "      <td>Бедный</td>\n",
       "    </tr>\n",
       "    <tr>\n",
       "      <th>2</th>\n",
       "      <td>0</td>\n",
       "      <td>5623.422610</td>\n",
       "      <td>33</td>\n",
       "      <td>среднее</td>\n",
       "      <td>1</td>\n",
       "      <td>женат / замужем</td>\n",
       "      <td>0</td>\n",
       "      <td>M</td>\n",
       "      <td>сотрудник</td>\n",
       "      <td>0</td>\n",
       "      <td>145885</td>\n",
       "      <td>покупка жилья</td>\n",
       "      <td>C</td>\n",
       "      <td>операции с недвижимостью</td>\n",
       "      <td>Нет детей</td>\n",
       "      <td>Средний</td>\n",
       "    </tr>\n",
       "    <tr>\n",
       "      <th>3</th>\n",
       "      <td>3</td>\n",
       "      <td>4124.747207</td>\n",
       "      <td>32</td>\n",
       "      <td>среднее</td>\n",
       "      <td>1</td>\n",
       "      <td>женат / замужем</td>\n",
       "      <td>0</td>\n",
       "      <td>M</td>\n",
       "      <td>сотрудник</td>\n",
       "      <td>0</td>\n",
       "      <td>267628</td>\n",
       "      <td>дополнительное образование</td>\n",
       "      <td>B</td>\n",
       "      <td>получение образования</td>\n",
       "      <td>Дети есть</td>\n",
       "      <td>Очень богатый</td>\n",
       "    </tr>\n",
       "    <tr>\n",
       "      <th>4</th>\n",
       "      <td>0</td>\n",
       "      <td>340266.072047</td>\n",
       "      <td>53</td>\n",
       "      <td>среднее</td>\n",
       "      <td>1</td>\n",
       "      <td>гражданский брак</td>\n",
       "      <td>1</td>\n",
       "      <td>F</td>\n",
       "      <td>пенсионер</td>\n",
       "      <td>0</td>\n",
       "      <td>158616</td>\n",
       "      <td>сыграть свадьбу</td>\n",
       "      <td>C</td>\n",
       "      <td>проведение свадьбы</td>\n",
       "      <td>Нет детей</td>\n",
       "      <td>Средний</td>\n",
       "    </tr>\n",
       "  </tbody>\n",
       "</table>\n",
       "</div>"
      ],
      "text/plain": [
       "   children  days_employed  dob_years education  education_id  \\\n",
       "0         1    8437.673028         42    высшее             0   \n",
       "1         1    4024.803754         36   среднее             1   \n",
       "2         0    5623.422610         33   среднее             1   \n",
       "3         3    4124.747207         32   среднее             1   \n",
       "4         0  340266.072047         53   среднее             1   \n",
       "\n",
       "      family_status  family_status_id gender income_type  debt  total_income  \\\n",
       "0   женат / замужем                 0      F   сотрудник     0        253875   \n",
       "1   женат / замужем                 0      F   сотрудник     0        112080   \n",
       "2   женат / замужем                 0      M   сотрудник     0        145885   \n",
       "3   женат / замужем                 0      M   сотрудник     0        267628   \n",
       "4  гражданский брак                 1      F   пенсионер     0        158616   \n",
       "\n",
       "                      purpose total_income_category          purpose_category  \\\n",
       "0               покупка жилья                     B  операции с недвижимостью   \n",
       "1     приобретение автомобиля                     C    операции с автомобилем   \n",
       "2               покупка жилья                     C  операции с недвижимостью   \n",
       "3  дополнительное образование                     B     получение образования   \n",
       "4             сыграть свадьбу                     C        проведение свадьбы   \n",
       "\n",
       "  children_group         status  \n",
       "0      Дети есть  Очень богатый  \n",
       "1      Дети есть         Бедный  \n",
       "2      Нет детей        Средний  \n",
       "3      Дети есть  Очень богатый  \n",
       "4      Нет детей        Средний  "
      ]
     },
     "metadata": {},
     "output_type": "display_data"
    }
   ],
   "source": [
    "for t in data['income_type'].unique():\n",
    "    data.loc[(data['income_type'] == t) & (data['total_income'].isna()), 'total_income'] = \\\n",
    "    data.loc[(data['income_type'] == t), 'total_income'].median()\n",
    "display(data.head())"
   ]
  },
  {
   "cell_type": "markdown",
   "id": "89da5ece",
   "metadata": {
    "deletable": false,
    "id": "89da5ece"
   },
   "source": [
    "### Обработка аномальных значений"
   ]
  },
  {
   "cell_type": "markdown",
   "id": "57964554",
   "metadata": {
    "deletable": false,
    "id": "57964554"
   },
   "source": [
    "**Задание 6. В данных могут встречаться артефакты (аномалии) — значения, которые не отражают действительность и появились по какой-то ошибке. таким артефактом будет отрицательное количество дней трудового стажа в столбце `days_employed`. Для реальных данных это нормально. Обработайте значения в этом столбце: замените все отрицательные значения положительными с помощью метода `abs()`.**"
   ]
  },
  {
   "cell_type": "code",
   "execution_count": 6,
   "id": "f6f055bf",
   "metadata": {
    "deletable": false,
    "id": "f6f055bf"
   },
   "outputs": [],
   "source": [
    "data['days_employed'] = data['days_employed'].abs()"
   ]
  },
  {
   "cell_type": "markdown",
   "id": "6107dd2f",
   "metadata": {
    "deletable": false,
    "id": "6107dd2f"
   },
   "source": [
    "**Задание 7. Для каждого типа занятости выведите медианное значение трудового стажа `days_employed` в днях.**"
   ]
  },
  {
   "cell_type": "code",
   "execution_count": 173,
   "id": "85a5faf6",
   "metadata": {
    "deletable": false,
    "id": "85a5faf6",
    "outputId": "801ef80e-522b-4668-f34e-565af7432bcf"
   },
   "outputs": [
    {
     "data": {
      "text/html": [
       "<div>\n",
       "<style scoped>\n",
       "    .dataframe tbody tr th:only-of-type {\n",
       "        vertical-align: middle;\n",
       "    }\n",
       "\n",
       "    .dataframe tbody tr th {\n",
       "        vertical-align: top;\n",
       "    }\n",
       "\n",
       "    .dataframe thead th {\n",
       "        text-align: right;\n",
       "    }\n",
       "</style>\n",
       "<table border=\"1\" class=\"dataframe\">\n",
       "  <thead>\n",
       "    <tr style=\"text-align: right;\">\n",
       "      <th></th>\n",
       "      <th>income_type</th>\n",
       "      <th>days_employed</th>\n",
       "    </tr>\n",
       "  </thead>\n",
       "  <tbody>\n",
       "    <tr>\n",
       "      <th>0</th>\n",
       "      <td>безработный</td>\n",
       "      <td>366413.652744</td>\n",
       "    </tr>\n",
       "    <tr>\n",
       "      <th>1</th>\n",
       "      <td>в декрете</td>\n",
       "      <td>3296.759962</td>\n",
       "    </tr>\n",
       "    <tr>\n",
       "      <th>2</th>\n",
       "      <td>госслужащий</td>\n",
       "      <td>2689.137274</td>\n",
       "    </tr>\n",
       "    <tr>\n",
       "      <th>3</th>\n",
       "      <td>компаньон</td>\n",
       "      <td>1555.947387</td>\n",
       "    </tr>\n",
       "    <tr>\n",
       "      <th>4</th>\n",
       "      <td>пенсионер</td>\n",
       "      <td>365286.622650</td>\n",
       "    </tr>\n",
       "    <tr>\n",
       "      <th>5</th>\n",
       "      <td>предприниматель</td>\n",
       "      <td>520.848083</td>\n",
       "    </tr>\n",
       "    <tr>\n",
       "      <th>6</th>\n",
       "      <td>сотрудник</td>\n",
       "      <td>1572.328285</td>\n",
       "    </tr>\n",
       "    <tr>\n",
       "      <th>7</th>\n",
       "      <td>студент</td>\n",
       "      <td>578.751554</td>\n",
       "    </tr>\n",
       "  </tbody>\n",
       "</table>\n",
       "</div>"
      ],
      "text/plain": [
       "       income_type  days_employed\n",
       "0      безработный  366413.652744\n",
       "1        в декрете    3296.759962\n",
       "2      госслужащий    2689.137274\n",
       "3        компаньон    1555.947387\n",
       "4        пенсионер  365286.622650\n",
       "5  предприниматель     520.848083\n",
       "6        сотрудник    1572.328285\n",
       "7          студент     578.751554"
      ]
     },
     "execution_count": 173,
     "metadata": {},
     "output_type": "execute_result"
    }
   ],
   "source": [
    "data.groupby('income_type')['days_employed'].agg('median').reset_index()"
   ]
  },
  {
   "cell_type": "markdown",
   "id": "38d1a030",
   "metadata": {
    "deletable": false,
    "id": "38d1a030"
   },
   "source": [
    "У двух типов (безработные и пенсионеры) получатся аномально большие значения. Исправить такие значения сложно, поэтому оставьте их как есть. Тем более этот столбец не понадобится вам для исследования."
   ]
  },
  {
   "cell_type": "markdown",
   "id": "d8a9f147",
   "metadata": {
    "deletable": false,
    "id": "d8a9f147"
   },
   "source": [
    "**Задание 8. Выведите перечень уникальных значений столбца `children`.**"
   ]
  },
  {
   "cell_type": "code",
   "execution_count": 8,
   "id": "ef5056eb",
   "metadata": {
    "deletable": false,
    "id": "ef5056eb",
    "outputId": "6975b15c-7f95-4697-d16d-a0c79b657b03"
   },
   "outputs": [
    {
     "data": {
      "text/plain": [
       "array([ 1,  0,  3,  2, -1,  4, 20,  5], dtype=int64)"
      ]
     },
     "execution_count": 8,
     "metadata": {},
     "output_type": "execute_result"
    }
   ],
   "source": [
    "data['children'].unique()"
   ]
  },
  {
   "cell_type": "markdown",
   "id": "40b9ebf2",
   "metadata": {
    "deletable": false,
    "id": "40b9ebf2"
   },
   "source": [
    "**Задание 9. В столбце `children` есть два аномальных значения. Удалите строки, в которых встречаются такие аномальные значения из датафрейма `data`.**"
   ]
  },
  {
   "cell_type": "code",
   "execution_count": 170,
   "id": "3ff9801d",
   "metadata": {
    "deletable": false,
    "id": "3ff9801d"
   },
   "outputs": [
    {
     "data": {
      "text/plain": [
       "array([1, 0, 3, 2, 4, 5], dtype=int64)"
      ]
     },
     "execution_count": 170,
     "metadata": {},
     "output_type": "execute_result"
    }
   ],
   "source": [
    "data = data[(data['children'] != -1) & (data['children'] != 20)]\n",
    "data['children'].unique()"
   ]
  },
  {
   "cell_type": "markdown",
   "id": "bbc4d0ce",
   "metadata": {
    "deletable": false,
    "id": "bbc4d0ce"
   },
   "source": [
    "**Задание 10. Ещё раз выведите перечень уникальных значений столбца `children`, чтобы убедиться, что артефакты удалены.**"
   ]
  },
  {
   "cell_type": "code",
   "execution_count": 169,
   "id": "ad4fa8b7",
   "metadata": {
    "deletable": false,
    "id": "ad4fa8b7",
    "outputId": "b2097101-d49d-44d9-901b-32a65c9463d1"
   },
   "outputs": [
    {
     "name": "stdout",
     "output_type": "stream",
     "text": [
      "Уникальные значения количества детей равны: 1 0 3 2 4 5\n"
     ]
    }
   ],
   "source": [
    "number_of_children = data['children'].unique()\n",
    "print('Уникальные значения количества детей равны:',  *number_of_children)"
   ]
  },
  {
   "cell_type": "markdown",
   "id": "75440b63",
   "metadata": {
    "deletable": false,
    "id": "75440b63"
   },
   "source": [
    "### Удаление пропусков (продолжение)"
   ]
  },
  {
   "cell_type": "markdown",
   "id": "f4ea573f",
   "metadata": {
    "deletable": false,
    "id": "f4ea573f"
   },
   "source": [
    "**Задание 11. Заполните пропуски в столбце `days_employed` медианными значениями по каждого типа занятости `income_type`.**"
   ]
  },
  {
   "cell_type": "code",
   "execution_count": 11,
   "id": "af6b1a7e",
   "metadata": {
    "deletable": false,
    "id": "af6b1a7e"
   },
   "outputs": [],
   "source": [
    "for t in data['income_type'].unique():\n",
    "    data.loc[(data['income_type'] == t) & (data['days_employed'].isna()), 'days_employed'] = \\\n",
    "    data.loc[(data['income_type'] == t), 'days_employed'].median()"
   ]
  },
  {
   "cell_type": "markdown",
   "id": "2753f40d",
   "metadata": {
    "deletable": false,
    "id": "2753f40d"
   },
   "source": [
    "**Задание 12. Убедитесь, что все пропуски заполнены. Проверьте себя и ещё раз выведите количество пропущенных значений для каждого столбца с помощью двух методов.**"
   ]
  },
  {
   "cell_type": "code",
   "execution_count": 78,
   "id": "55f78bc2",
   "metadata": {
    "deletable": false,
    "id": "55f78bc2",
    "outputId": "8da1e4e1-358e-4e87-98c9-f261bce0a7b2"
   },
   "outputs": [
    {
     "data": {
      "text/html": [
       "<div>\n",
       "<style scoped>\n",
       "    .dataframe tbody tr th:only-of-type {\n",
       "        vertical-align: middle;\n",
       "    }\n",
       "\n",
       "    .dataframe tbody tr th {\n",
       "        vertical-align: top;\n",
       "    }\n",
       "\n",
       "    .dataframe thead th {\n",
       "        text-align: right;\n",
       "    }\n",
       "</style>\n",
       "<table border=\"1\" class=\"dataframe\">\n",
       "  <thead>\n",
       "    <tr style=\"text-align: right;\">\n",
       "      <th></th>\n",
       "      <th>index</th>\n",
       "      <th>0</th>\n",
       "    </tr>\n",
       "  </thead>\n",
       "  <tbody>\n",
       "    <tr>\n",
       "      <th>0</th>\n",
       "      <td>children</td>\n",
       "      <td>0</td>\n",
       "    </tr>\n",
       "    <tr>\n",
       "      <th>1</th>\n",
       "      <td>days_employed</td>\n",
       "      <td>0</td>\n",
       "    </tr>\n",
       "    <tr>\n",
       "      <th>2</th>\n",
       "      <td>dob_years</td>\n",
       "      <td>0</td>\n",
       "    </tr>\n",
       "    <tr>\n",
       "      <th>3</th>\n",
       "      <td>education</td>\n",
       "      <td>0</td>\n",
       "    </tr>\n",
       "    <tr>\n",
       "      <th>4</th>\n",
       "      <td>education_id</td>\n",
       "      <td>0</td>\n",
       "    </tr>\n",
       "    <tr>\n",
       "      <th>5</th>\n",
       "      <td>family_status</td>\n",
       "      <td>0</td>\n",
       "    </tr>\n",
       "    <tr>\n",
       "      <th>6</th>\n",
       "      <td>family_status_id</td>\n",
       "      <td>0</td>\n",
       "    </tr>\n",
       "    <tr>\n",
       "      <th>7</th>\n",
       "      <td>gender</td>\n",
       "      <td>0</td>\n",
       "    </tr>\n",
       "    <tr>\n",
       "      <th>8</th>\n",
       "      <td>income_type</td>\n",
       "      <td>0</td>\n",
       "    </tr>\n",
       "    <tr>\n",
       "      <th>9</th>\n",
       "      <td>debt</td>\n",
       "      <td>0</td>\n",
       "    </tr>\n",
       "    <tr>\n",
       "      <th>10</th>\n",
       "      <td>total_income</td>\n",
       "      <td>0</td>\n",
       "    </tr>\n",
       "    <tr>\n",
       "      <th>11</th>\n",
       "      <td>purpose</td>\n",
       "      <td>0</td>\n",
       "    </tr>\n",
       "    <tr>\n",
       "      <th>12</th>\n",
       "      <td>total_income_category</td>\n",
       "      <td>0</td>\n",
       "    </tr>\n",
       "    <tr>\n",
       "      <th>13</th>\n",
       "      <td>purpose_category</td>\n",
       "      <td>0</td>\n",
       "    </tr>\n",
       "    <tr>\n",
       "      <th>14</th>\n",
       "      <td>children_group</td>\n",
       "      <td>0</td>\n",
       "    </tr>\n",
       "    <tr>\n",
       "      <th>15</th>\n",
       "      <td>status</td>\n",
       "      <td>0</td>\n",
       "    </tr>\n",
       "  </tbody>\n",
       "</table>\n",
       "</div>"
      ],
      "text/plain": [
       "                    index  0\n",
       "0                children  0\n",
       "1           days_employed  0\n",
       "2               dob_years  0\n",
       "3               education  0\n",
       "4            education_id  0\n",
       "5           family_status  0\n",
       "6        family_status_id  0\n",
       "7                  gender  0\n",
       "8             income_type  0\n",
       "9                    debt  0\n",
       "10           total_income  0\n",
       "11                purpose  0\n",
       "12  total_income_category  0\n",
       "13       purpose_category  0\n",
       "14         children_group  0\n",
       "15                 status  0"
      ]
     },
     "execution_count": 78,
     "metadata": {},
     "output_type": "execute_result"
    }
   ],
   "source": [
    "data.isna().sum().reset_index()"
   ]
  },
  {
   "cell_type": "markdown",
   "id": "ddc81e43",
   "metadata": {
    "deletable": false,
    "id": "ddc81e43"
   },
   "source": [
    "### Изменение типов данных"
   ]
  },
  {
   "cell_type": "markdown",
   "id": "42d19d24",
   "metadata": {
    "deletable": false,
    "id": "42d19d24"
   },
   "source": [
    "**Задание 13. Замените вещественный тип данных в столбце `total_income` на целочисленный с помощью метода `astype()`.**"
   ]
  },
  {
   "cell_type": "code",
   "execution_count": 13,
   "id": "920b65ad",
   "metadata": {
    "deletable": false,
    "id": "920b65ad"
   },
   "outputs": [],
   "source": [
    "data['total_income'] = data['total_income'].astype(int)"
   ]
  },
  {
   "cell_type": "markdown",
   "id": "80c420ba",
   "metadata": {
    "deletable": false,
    "id": "80c420ba"
   },
   "source": [
    "### Обработка дубликатов"
   ]
  },
  {
   "cell_type": "markdown",
   "id": "dc587695",
   "metadata": {
    "deletable": false,
    "id": "dc587695"
   },
   "source": [
    "**Задание 14. Выведите на экран количество строк-дубликатов в данных. Если такие строки присутствуют, удалите их.**"
   ]
  },
  {
   "cell_type": "code",
   "execution_count": 75,
   "id": "3ee445e4",
   "metadata": {
    "deletable": false,
    "id": "3ee445e4",
    "outputId": "9684deba-1934-42d1-99e1-cda61740f822"
   },
   "outputs": [
    {
     "name": "stdout",
     "output_type": "stream",
     "text": [
      "Количество дубликатов равно: 17\n"
     ]
    }
   ],
   "source": [
    "print('Количество дубликатов равно:', data.duplicated().sum())"
   ]
  },
  {
   "cell_type": "code",
   "execution_count": 77,
   "id": "8575fe05",
   "metadata": {
    "deletable": false,
    "id": "8575fe05"
   },
   "outputs": [
    {
     "name": "stdout",
     "output_type": "stream",
     "text": [
      "Количество дубликатов стало равно: 0\n"
     ]
    }
   ],
   "source": [
    "data = data.drop_duplicates()\n",
    "print('Количество дубликатов стало равно:', data.duplicated().sum())"
   ]
  },
  {
   "cell_type": "markdown",
   "id": "9771a76c",
   "metadata": {
    "deletable": false,
    "id": "9771a76c"
   },
   "source": [
    "**Задание 15. Обработайте неявные дубликаты в столбце `education`. В этом столбце есть одни и те же значения, но записанные по-разному: с использованием заглавных и строчных букв. Приведите их к нижнему регистру. Проверьте остальные столбцы.**"
   ]
  },
  {
   "cell_type": "code",
   "execution_count": 16,
   "id": "a9f8e2bf",
   "metadata": {
    "deletable": false,
    "id": "a9f8e2bf"
   },
   "outputs": [],
   "source": [
    "data['education'] = data['education'].str.lower()"
   ]
  },
  {
   "cell_type": "markdown",
   "id": "9904cf55",
   "metadata": {
    "deletable": false,
    "id": "9904cf55"
   },
   "source": [
    "### Категоризация данных"
   ]
  },
  {
   "cell_type": "markdown",
   "id": "72fcc8a2",
   "metadata": {
    "deletable": false,
    "id": "72fcc8a2"
   },
   "source": [
    "**Задание 16. На основании диапазонов, указанных ниже, создайте в датафрейме `data` столбец `total_income_category` с категориями:**\n",
    "\n",
    "- 0–30000 — `'E'`;\n",
    "- 30001–50000 — `'D'`;\n",
    "- 50001–200000 — `'C'`;\n",
    "- 200001–1000000 — `'B'`;\n",
    "- 1000001 и выше — `'A'`.\n",
    "\n",
    "\n",
    "**Например, кредитополучателю с доходом 25000 нужно назначить категорию `'E'`, а клиенту, получающему 235000, — `'B'`. Используйте собственную функцию с именем `categorize_income()` и метод `apply()`.**"
   ]
  },
  {
   "cell_type": "code",
   "execution_count": 17,
   "id": "e1771346",
   "metadata": {
    "deletable": false,
    "id": "e1771346"
   },
   "outputs": [],
   "source": [
    "def categorize_income(income):\n",
    "    try:\n",
    "        if 0 <= income <= 30000:\n",
    "            return 'E'\n",
    "        elif 30001 <= income <= 50000:\n",
    "            return 'D'\n",
    "        elif 50001 <= income <= 200000:\n",
    "            return 'C'\n",
    "        elif 200001 <= income <= 1000000:\n",
    "            return 'B'\n",
    "        elif income >= 1000001:\n",
    "            return 'A'\n",
    "    except:\n",
    "        pass"
   ]
  },
  {
   "cell_type": "code",
   "execution_count": 74,
   "id": "d5f3586d",
   "metadata": {
    "deletable": false,
    "id": "d5f3586d"
   },
   "outputs": [
    {
     "data": {
      "text/html": [
       "<div>\n",
       "<style scoped>\n",
       "    .dataframe tbody tr th:only-of-type {\n",
       "        vertical-align: middle;\n",
       "    }\n",
       "\n",
       "    .dataframe tbody tr th {\n",
       "        vertical-align: top;\n",
       "    }\n",
       "\n",
       "    .dataframe thead th {\n",
       "        text-align: right;\n",
       "    }\n",
       "</style>\n",
       "<table border=\"1\" class=\"dataframe\">\n",
       "  <thead>\n",
       "    <tr style=\"text-align: right;\">\n",
       "      <th></th>\n",
       "      <th>children</th>\n",
       "      <th>days_employed</th>\n",
       "      <th>dob_years</th>\n",
       "      <th>education</th>\n",
       "      <th>education_id</th>\n",
       "      <th>family_status</th>\n",
       "      <th>family_status_id</th>\n",
       "      <th>gender</th>\n",
       "      <th>income_type</th>\n",
       "      <th>debt</th>\n",
       "      <th>total_income</th>\n",
       "      <th>purpose</th>\n",
       "      <th>total_income_category</th>\n",
       "      <th>purpose_category</th>\n",
       "      <th>children_group</th>\n",
       "      <th>status</th>\n",
       "    </tr>\n",
       "  </thead>\n",
       "  <tbody>\n",
       "    <tr>\n",
       "      <th>0</th>\n",
       "      <td>1</td>\n",
       "      <td>8437.673028</td>\n",
       "      <td>42</td>\n",
       "      <td>высшее</td>\n",
       "      <td>0</td>\n",
       "      <td>женат / замужем</td>\n",
       "      <td>0</td>\n",
       "      <td>F</td>\n",
       "      <td>сотрудник</td>\n",
       "      <td>0</td>\n",
       "      <td>253875</td>\n",
       "      <td>покупка жилья</td>\n",
       "      <td>B</td>\n",
       "      <td>операции с недвижимостью</td>\n",
       "      <td>Дети есть</td>\n",
       "      <td>Очень богатый</td>\n",
       "    </tr>\n",
       "    <tr>\n",
       "      <th>1</th>\n",
       "      <td>1</td>\n",
       "      <td>4024.803754</td>\n",
       "      <td>36</td>\n",
       "      <td>среднее</td>\n",
       "      <td>1</td>\n",
       "      <td>женат / замужем</td>\n",
       "      <td>0</td>\n",
       "      <td>F</td>\n",
       "      <td>сотрудник</td>\n",
       "      <td>0</td>\n",
       "      <td>112080</td>\n",
       "      <td>приобретение автомобиля</td>\n",
       "      <td>C</td>\n",
       "      <td>операции с автомобилем</td>\n",
       "      <td>Дети есть</td>\n",
       "      <td>Бедный</td>\n",
       "    </tr>\n",
       "    <tr>\n",
       "      <th>2</th>\n",
       "      <td>0</td>\n",
       "      <td>5623.422610</td>\n",
       "      <td>33</td>\n",
       "      <td>среднее</td>\n",
       "      <td>1</td>\n",
       "      <td>женат / замужем</td>\n",
       "      <td>0</td>\n",
       "      <td>M</td>\n",
       "      <td>сотрудник</td>\n",
       "      <td>0</td>\n",
       "      <td>145885</td>\n",
       "      <td>покупка жилья</td>\n",
       "      <td>C</td>\n",
       "      <td>операции с недвижимостью</td>\n",
       "      <td>Нет детей</td>\n",
       "      <td>Средний</td>\n",
       "    </tr>\n",
       "    <tr>\n",
       "      <th>3</th>\n",
       "      <td>3</td>\n",
       "      <td>4124.747207</td>\n",
       "      <td>32</td>\n",
       "      <td>среднее</td>\n",
       "      <td>1</td>\n",
       "      <td>женат / замужем</td>\n",
       "      <td>0</td>\n",
       "      <td>M</td>\n",
       "      <td>сотрудник</td>\n",
       "      <td>0</td>\n",
       "      <td>267628</td>\n",
       "      <td>дополнительное образование</td>\n",
       "      <td>B</td>\n",
       "      <td>получение образования</td>\n",
       "      <td>Дети есть</td>\n",
       "      <td>Очень богатый</td>\n",
       "    </tr>\n",
       "    <tr>\n",
       "      <th>4</th>\n",
       "      <td>0</td>\n",
       "      <td>340266.072047</td>\n",
       "      <td>53</td>\n",
       "      <td>среднее</td>\n",
       "      <td>1</td>\n",
       "      <td>гражданский брак</td>\n",
       "      <td>1</td>\n",
       "      <td>F</td>\n",
       "      <td>пенсионер</td>\n",
       "      <td>0</td>\n",
       "      <td>158616</td>\n",
       "      <td>сыграть свадьбу</td>\n",
       "      <td>C</td>\n",
       "      <td>проведение свадьбы</td>\n",
       "      <td>Нет детей</td>\n",
       "      <td>Средний</td>\n",
       "    </tr>\n",
       "  </tbody>\n",
       "</table>\n",
       "</div>"
      ],
      "text/plain": [
       "   children  days_employed  dob_years education  education_id  \\\n",
       "0         1    8437.673028         42    высшее             0   \n",
       "1         1    4024.803754         36   среднее             1   \n",
       "2         0    5623.422610         33   среднее             1   \n",
       "3         3    4124.747207         32   среднее             1   \n",
       "4         0  340266.072047         53   среднее             1   \n",
       "\n",
       "      family_status  family_status_id gender income_type  debt  total_income  \\\n",
       "0   женат / замужем                 0      F   сотрудник     0        253875   \n",
       "1   женат / замужем                 0      F   сотрудник     0        112080   \n",
       "2   женат / замужем                 0      M   сотрудник     0        145885   \n",
       "3   женат / замужем                 0      M   сотрудник     0        267628   \n",
       "4  гражданский брак                 1      F   пенсионер     0        158616   \n",
       "\n",
       "                      purpose total_income_category          purpose_category  \\\n",
       "0               покупка жилья                     B  операции с недвижимостью   \n",
       "1     приобретение автомобиля                     C    операции с автомобилем   \n",
       "2               покупка жилья                     C  операции с недвижимостью   \n",
       "3  дополнительное образование                     B     получение образования   \n",
       "4             сыграть свадьбу                     C        проведение свадьбы   \n",
       "\n",
       "  children_group         status  \n",
       "0      Дети есть  Очень богатый  \n",
       "1      Дети есть         Бедный  \n",
       "2      Нет детей        Средний  \n",
       "3      Дети есть  Очень богатый  \n",
       "4      Нет детей        Средний  "
      ]
     },
     "metadata": {},
     "output_type": "display_data"
    }
   ],
   "source": [
    "data['total_income_category'] = data['total_income'].apply(categorize_income)\n",
    "display(data.head())"
   ]
  },
  {
   "cell_type": "markdown",
   "id": "dde49b5c",
   "metadata": {
    "deletable": false,
    "id": "dde49b5c"
   },
   "source": [
    "**Задание 17. Выведите на экран перечень уникальных целей взятия кредита из столбца `purpose`.**"
   ]
  },
  {
   "cell_type": "code",
   "execution_count": 178,
   "id": "f67ce9b3",
   "metadata": {
    "deletable": false,
    "id": "f67ce9b3",
    "outputId": "673c12d9-7d7e-4ae0-9812-c622c89dd244"
   },
   "outputs": [
    {
     "data": {
      "text/plain": [
       "['покупка жилья',\n",
       " 'приобретение автомобиля',\n",
       " 'дополнительное образование',\n",
       " 'сыграть свадьбу',\n",
       " 'операции с жильем',\n",
       " 'образование',\n",
       " 'на проведение свадьбы',\n",
       " 'покупка жилья для семьи',\n",
       " 'покупка недвижимости',\n",
       " 'покупка коммерческой недвижимости',\n",
       " 'покупка жилой недвижимости',\n",
       " 'строительство собственной недвижимости',\n",
       " 'недвижимость',\n",
       " 'строительство недвижимости',\n",
       " 'на покупку подержанного автомобиля',\n",
       " 'на покупку своего автомобиля',\n",
       " 'операции с коммерческой недвижимостью',\n",
       " 'строительство жилой недвижимости',\n",
       " 'жилье',\n",
       " 'операции со своей недвижимостью',\n",
       " 'автомобили',\n",
       " 'заняться образованием',\n",
       " 'сделка с подержанным автомобилем',\n",
       " 'получение образования',\n",
       " 'автомобиль',\n",
       " 'свадьба',\n",
       " 'получение дополнительного образования',\n",
       " 'покупка своего жилья',\n",
       " 'операции с недвижимостью',\n",
       " 'получение высшего образования',\n",
       " 'свой автомобиль',\n",
       " 'сделка с автомобилем',\n",
       " 'профильное образование',\n",
       " 'высшее образование',\n",
       " 'покупка жилья для сдачи',\n",
       " 'на покупку автомобиля',\n",
       " 'ремонт жилью',\n",
       " 'заняться высшим образованием']"
      ]
     },
     "execution_count": 178,
     "metadata": {},
     "output_type": "execute_result"
    }
   ],
   "source": [
    "data['purpose'].unique().tolist()"
   ]
  },
  {
   "cell_type": "markdown",
   "id": "85d0aef0",
   "metadata": {
    "deletable": false,
    "id": "85d0aef0"
   },
   "source": [
    "**Задание 18. Создайте функцию, которая на основании данных из столбца `purpose` сформирует новый столбец `purpose_category`, в который войдут следующие категории:**\n",
    "\n",
    "- `'операции с автомобилем'`,\n",
    "- `'операции с недвижимостью'`,\n",
    "- `'проведение свадьбы'`,\n",
    "- `'получение образования'`.\n",
    "\n",
    "**Например, если в столбце `purpose` находится подстрока `'на покупку автомобиля'`, то в столбце `purpose_category` должна появиться строка `'операции с автомобилем'`.**\n",
    "\n",
    "**Используйте собственную функцию с именем `categorize_purpose()` и метод `apply()`. Изучите данные в столбце `purpose` и определите, какие подстроки помогут вам правильно определить категорию.**"
   ]
  },
  {
   "cell_type": "code",
   "execution_count": 20,
   "id": "e149fab4",
   "metadata": {
    "deletable": false,
    "id": "e149fab4"
   },
   "outputs": [],
   "source": [
    "def categorize_purpose(row):\n",
    "    try:\n",
    "        if 'автом' in row:\n",
    "            return 'операции с автомобилем'\n",
    "        elif 'жил' in row or 'недвиж' in row:\n",
    "            return 'операции с недвижимостью'\n",
    "        elif 'свад' in row:\n",
    "            return 'проведение свадьбы'\n",
    "        elif 'образов' in row:\n",
    "            return 'получение образования'\n",
    "    except:\n",
    "        return 'нет категории'"
   ]
  },
  {
   "cell_type": "code",
   "execution_count": 179,
   "id": "bf36e69b",
   "metadata": {
    "deletable": false,
    "id": "bf36e69b"
   },
   "outputs": [
    {
     "data": {
      "text/html": [
       "<div>\n",
       "<style scoped>\n",
       "    .dataframe tbody tr th:only-of-type {\n",
       "        vertical-align: middle;\n",
       "    }\n",
       "\n",
       "    .dataframe tbody tr th {\n",
       "        vertical-align: top;\n",
       "    }\n",
       "\n",
       "    .dataframe thead th {\n",
       "        text-align: right;\n",
       "    }\n",
       "</style>\n",
       "<table border=\"1\" class=\"dataframe\">\n",
       "  <thead>\n",
       "    <tr style=\"text-align: right;\">\n",
       "      <th></th>\n",
       "      <th>children</th>\n",
       "      <th>days_employed</th>\n",
       "      <th>dob_years</th>\n",
       "      <th>education</th>\n",
       "      <th>education_id</th>\n",
       "      <th>family_status</th>\n",
       "      <th>family_status_id</th>\n",
       "      <th>gender</th>\n",
       "      <th>income_type</th>\n",
       "      <th>debt</th>\n",
       "      <th>total_income</th>\n",
       "      <th>purpose</th>\n",
       "      <th>total_income_category</th>\n",
       "      <th>purpose_category</th>\n",
       "      <th>children_group</th>\n",
       "      <th>status</th>\n",
       "    </tr>\n",
       "  </thead>\n",
       "  <tbody>\n",
       "    <tr>\n",
       "      <th>0</th>\n",
       "      <td>1</td>\n",
       "      <td>8437.673028</td>\n",
       "      <td>42</td>\n",
       "      <td>высшее</td>\n",
       "      <td>0</td>\n",
       "      <td>женат / замужем</td>\n",
       "      <td>0</td>\n",
       "      <td>F</td>\n",
       "      <td>сотрудник</td>\n",
       "      <td>0</td>\n",
       "      <td>253875</td>\n",
       "      <td>покупка жилья</td>\n",
       "      <td>B</td>\n",
       "      <td>операции с недвижимостью</td>\n",
       "      <td>Дети есть</td>\n",
       "      <td>Очень богатый</td>\n",
       "    </tr>\n",
       "    <tr>\n",
       "      <th>1</th>\n",
       "      <td>1</td>\n",
       "      <td>4024.803754</td>\n",
       "      <td>36</td>\n",
       "      <td>среднее</td>\n",
       "      <td>1</td>\n",
       "      <td>женат / замужем</td>\n",
       "      <td>0</td>\n",
       "      <td>F</td>\n",
       "      <td>сотрудник</td>\n",
       "      <td>0</td>\n",
       "      <td>112080</td>\n",
       "      <td>приобретение автомобиля</td>\n",
       "      <td>C</td>\n",
       "      <td>операции с автомобилем</td>\n",
       "      <td>Дети есть</td>\n",
       "      <td>Бедный</td>\n",
       "    </tr>\n",
       "    <tr>\n",
       "      <th>2</th>\n",
       "      <td>0</td>\n",
       "      <td>5623.422610</td>\n",
       "      <td>33</td>\n",
       "      <td>среднее</td>\n",
       "      <td>1</td>\n",
       "      <td>женат / замужем</td>\n",
       "      <td>0</td>\n",
       "      <td>M</td>\n",
       "      <td>сотрудник</td>\n",
       "      <td>0</td>\n",
       "      <td>145885</td>\n",
       "      <td>покупка жилья</td>\n",
       "      <td>C</td>\n",
       "      <td>операции с недвижимостью</td>\n",
       "      <td>Нет детей</td>\n",
       "      <td>Средний</td>\n",
       "    </tr>\n",
       "    <tr>\n",
       "      <th>3</th>\n",
       "      <td>3</td>\n",
       "      <td>4124.747207</td>\n",
       "      <td>32</td>\n",
       "      <td>среднее</td>\n",
       "      <td>1</td>\n",
       "      <td>женат / замужем</td>\n",
       "      <td>0</td>\n",
       "      <td>M</td>\n",
       "      <td>сотрудник</td>\n",
       "      <td>0</td>\n",
       "      <td>267628</td>\n",
       "      <td>дополнительное образование</td>\n",
       "      <td>B</td>\n",
       "      <td>получение образования</td>\n",
       "      <td>Дети есть</td>\n",
       "      <td>Очень богатый</td>\n",
       "    </tr>\n",
       "    <tr>\n",
       "      <th>4</th>\n",
       "      <td>0</td>\n",
       "      <td>340266.072047</td>\n",
       "      <td>53</td>\n",
       "      <td>среднее</td>\n",
       "      <td>1</td>\n",
       "      <td>гражданский брак</td>\n",
       "      <td>1</td>\n",
       "      <td>F</td>\n",
       "      <td>пенсионер</td>\n",
       "      <td>0</td>\n",
       "      <td>158616</td>\n",
       "      <td>сыграть свадьбу</td>\n",
       "      <td>C</td>\n",
       "      <td>проведение свадьбы</td>\n",
       "      <td>Нет детей</td>\n",
       "      <td>Средний</td>\n",
       "    </tr>\n",
       "  </tbody>\n",
       "</table>\n",
       "</div>"
      ],
      "text/plain": [
       "   children  days_employed  dob_years education  education_id  \\\n",
       "0         1    8437.673028         42    высшее             0   \n",
       "1         1    4024.803754         36   среднее             1   \n",
       "2         0    5623.422610         33   среднее             1   \n",
       "3         3    4124.747207         32   среднее             1   \n",
       "4         0  340266.072047         53   среднее             1   \n",
       "\n",
       "      family_status  family_status_id gender income_type  debt  total_income  \\\n",
       "0   женат / замужем                 0      F   сотрудник     0        253875   \n",
       "1   женат / замужем                 0      F   сотрудник     0        112080   \n",
       "2   женат / замужем                 0      M   сотрудник     0        145885   \n",
       "3   женат / замужем                 0      M   сотрудник     0        267628   \n",
       "4  гражданский брак                 1      F   пенсионер     0        158616   \n",
       "\n",
       "                      purpose total_income_category          purpose_category  \\\n",
       "0               покупка жилья                     B  операции с недвижимостью   \n",
       "1     приобретение автомобиля                     C    операции с автомобилем   \n",
       "2               покупка жилья                     C  операции с недвижимостью   \n",
       "3  дополнительное образование                     B     получение образования   \n",
       "4             сыграть свадьбу                     C        проведение свадьбы   \n",
       "\n",
       "  children_group         status  \n",
       "0      Дети есть  Очень богатый  \n",
       "1      Дети есть         Бедный  \n",
       "2      Нет детей        Средний  \n",
       "3      Дети есть  Очень богатый  \n",
       "4      Нет детей        Средний  "
      ]
     },
     "metadata": {},
     "output_type": "display_data"
    }
   ],
   "source": [
    "data['purpose_category'] = data['purpose'].apply(categorize_purpose)\n",
    "display(data.head())"
   ]
  },
  {
   "cell_type": "markdown",
   "id": "09b242bf",
   "metadata": {
    "deletable": false,
    "editable": false,
    "id": "09b242bf"
   },
   "source": [
    "## Исследуйте данные и ответьте на вопросы"
   ]
  },
  {
   "cell_type": "markdown",
   "id": "c5d66278",
   "metadata": {
    "deletable": false,
    "editable": false,
    "id": "c5d66278"
   },
   "source": [
    "**Задание 19. Есть ли зависимость между количеством детей и возвратом кредита в срок?**"
   ]
  },
  {
   "cell_type": "code",
   "execution_count": 29,
   "id": "2cacfc4a",
   "metadata": {
    "id": "2cacfc4a"
   },
   "outputs": [
    {
     "data": {
      "text/html": [
       "<style type=\"text/css\">\n",
       "#T_a81ad_row0_col0, #T_a81ad_row1_col0 {\n",
       "  background-color: #fdb97d;\n",
       "  color: #000000;\n",
       "}\n",
       "#T_a81ad_row0_col1 {\n",
       "  background-color: #fff2e6;\n",
       "  color: #000000;\n",
       "}\n",
       "#T_a81ad_row0_col2 {\n",
       "  background-color: #f67723;\n",
       "  color: #f1f1f1;\n",
       "}\n",
       "#T_a81ad_row0_col4, #T_a81ad_row0_col6, #T_a81ad_row0_col9, #T_a81ad_row1_col6, #T_a81ad_row1_col9, #T_a81ad_row2_col0, #T_a81ad_row2_col6, #T_a81ad_row2_col9, #T_a81ad_row3_col6, #T_a81ad_row3_col9, #T_a81ad_row4_col0, #T_a81ad_row4_col9, #T_a81ad_row5_col0, #T_a81ad_row5_col1, #T_a81ad_row5_col2, #T_a81ad_row5_col4, #T_a81ad_row5_col9, #T_a81ad_row6_col0, #T_a81ad_row6_col4, #T_a81ad_row6_col6, #T_a81ad_row6_col9, #T_a81ad_row7_col0, #T_a81ad_row7_col1, #T_a81ad_row7_col6, #T_a81ad_row7_col9, #T_a81ad_row8_col4, #T_a81ad_row8_col9, #T_a81ad_row8_col10, #T_a81ad_row9_col0, #T_a81ad_row9_col6, #T_a81ad_row9_col9 {\n",
       "  background-color: #fff5eb;\n",
       "  color: #000000;\n",
       "}\n",
       "#T_a81ad_row0_col10 {\n",
       "  background-color: #973003;\n",
       "  color: #f1f1f1;\n",
       "}\n",
       "#T_a81ad_row1_col1, #T_a81ad_row3_col1, #T_a81ad_row6_col1 {\n",
       "  background-color: #fff4e9;\n",
       "  color: #000000;\n",
       "}\n",
       "#T_a81ad_row1_col2 {\n",
       "  background-color: #fdb678;\n",
       "  color: #000000;\n",
       "}\n",
       "#T_a81ad_row1_col4, #T_a81ad_row2_col4, #T_a81ad_row3_col0, #T_a81ad_row3_col4, #T_a81ad_row3_col10, #T_a81ad_row4_col1, #T_a81ad_row4_col2, #T_a81ad_row4_col4, #T_a81ad_row4_col6, #T_a81ad_row5_col6, #T_a81ad_row7_col4, #T_a81ad_row8_col6, #T_a81ad_row9_col4 {\n",
       "  background-color: #7f2704;\n",
       "  color: #f1f1f1;\n",
       "}\n",
       "#T_a81ad_row1_col10 {\n",
       "  background-color: #feead5;\n",
       "  color: #000000;\n",
       "}\n",
       "#T_a81ad_row2_col1 {\n",
       "  background-color: #fff3e7;\n",
       "  color: #000000;\n",
       "}\n",
       "#T_a81ad_row2_col2, #T_a81ad_row7_col10 {\n",
       "  background-color: #fdd3a9;\n",
       "  color: #000000;\n",
       "}\n",
       "#T_a81ad_row2_col10 {\n",
       "  background-color: #fdc590;\n",
       "  color: #000000;\n",
       "}\n",
       "#T_a81ad_row3_col2 {\n",
       "  background-color: #fddab6;\n",
       "  color: #000000;\n",
       "}\n",
       "#T_a81ad_row4_col10 {\n",
       "  background-color: #fdb170;\n",
       "  color: #000000;\n",
       "}\n",
       "#T_a81ad_row5_col10 {\n",
       "  background-color: #942f03;\n",
       "  color: #f1f1f1;\n",
       "}\n",
       "#T_a81ad_row6_col2 {\n",
       "  background-color: #f26c16;\n",
       "  color: #f1f1f1;\n",
       "}\n",
       "#T_a81ad_row6_col10 {\n",
       "  background-color: #b33b02;\n",
       "  color: #f1f1f1;\n",
       "}\n",
       "#T_a81ad_row7_col2 {\n",
       "  background-color: #a23503;\n",
       "  color: #f1f1f1;\n",
       "}\n",
       "#T_a81ad_row8_col0 {\n",
       "  background-color: #e95e0d;\n",
       "  color: #f1f1f1;\n",
       "}\n",
       "#T_a81ad_row8_col1 {\n",
       "  background-color: #fff3e6;\n",
       "  color: #000000;\n",
       "}\n",
       "#T_a81ad_row8_col2 {\n",
       "  background-color: #fdc189;\n",
       "  color: #000000;\n",
       "}\n",
       "#T_a81ad_row9_col1 {\n",
       "  background-color: #fff5ea;\n",
       "  color: #000000;\n",
       "}\n",
       "#T_a81ad_row9_col2 {\n",
       "  background-color: #f98230;\n",
       "  color: #f1f1f1;\n",
       "}\n",
       "#T_a81ad_row9_col10 {\n",
       "  background-color: #fdc794;\n",
       "  color: #000000;\n",
       "}\n",
       "</style>\n",
       "<table id=\"T_a81ad\">\n",
       "  <thead>\n",
       "    <tr>\n",
       "      <th id=\"T_a81ad_level0_col0\" class=\"col_heading level0 col0\" >children</th>\n",
       "      <th id=\"T_a81ad_level0_col1\" class=\"col_heading level0 col1\" >days_employed</th>\n",
       "      <th id=\"T_a81ad_level0_col2\" class=\"col_heading level0 col2\" >dob_years</th>\n",
       "      <th id=\"T_a81ad_level0_col3\" class=\"col_heading level0 col3\" >education</th>\n",
       "      <th id=\"T_a81ad_level0_col4\" class=\"col_heading level0 col4\" >education_id</th>\n",
       "      <th id=\"T_a81ad_level0_col5\" class=\"col_heading level0 col5\" >family_status</th>\n",
       "      <th id=\"T_a81ad_level0_col6\" class=\"col_heading level0 col6\" >family_status_id</th>\n",
       "      <th id=\"T_a81ad_level0_col7\" class=\"col_heading level0 col7\" >gender</th>\n",
       "      <th id=\"T_a81ad_level0_col8\" class=\"col_heading level0 col8\" >income_type</th>\n",
       "      <th id=\"T_a81ad_level0_col9\" class=\"col_heading level0 col9\" >debt</th>\n",
       "      <th id=\"T_a81ad_level0_col10\" class=\"col_heading level0 col10\" >total_income</th>\n",
       "      <th id=\"T_a81ad_level0_col11\" class=\"col_heading level0 col11\" >purpose</th>\n",
       "      <th id=\"T_a81ad_level0_col12\" class=\"col_heading level0 col12\" >total_income_category</th>\n",
       "      <th id=\"T_a81ad_level0_col13\" class=\"col_heading level0 col13\" >purpose_category</th>\n",
       "      <th id=\"T_a81ad_level0_col14\" class=\"col_heading level0 col14\" >children_group</th>\n",
       "      <th id=\"T_a81ad_level0_col15\" class=\"col_heading level0 col15\" >status</th>\n",
       "    </tr>\n",
       "  </thead>\n",
       "  <tbody>\n",
       "    <tr>\n",
       "      <td id=\"T_a81ad_row0_col0\" class=\"data row0 col0\" >1</td>\n",
       "      <td id=\"T_a81ad_row0_col1\" class=\"data row0 col1\" >8437.673028</td>\n",
       "      <td id=\"T_a81ad_row0_col2\" class=\"data row0 col2\" >42</td>\n",
       "      <td id=\"T_a81ad_row0_col3\" class=\"data row0 col3\" >высшее</td>\n",
       "      <td id=\"T_a81ad_row0_col4\" class=\"data row0 col4\" >0</td>\n",
       "      <td id=\"T_a81ad_row0_col5\" class=\"data row0 col5\" >женат / замужем</td>\n",
       "      <td id=\"T_a81ad_row0_col6\" class=\"data row0 col6\" >0</td>\n",
       "      <td id=\"T_a81ad_row0_col7\" class=\"data row0 col7\" >F</td>\n",
       "      <td id=\"T_a81ad_row0_col8\" class=\"data row0 col8\" >сотрудник</td>\n",
       "      <td id=\"T_a81ad_row0_col9\" class=\"data row0 col9\" >0</td>\n",
       "      <td id=\"T_a81ad_row0_col10\" class=\"data row0 col10\" >253875</td>\n",
       "      <td id=\"T_a81ad_row0_col11\" class=\"data row0 col11\" >покупка жилья</td>\n",
       "      <td id=\"T_a81ad_row0_col12\" class=\"data row0 col12\" >B</td>\n",
       "      <td id=\"T_a81ad_row0_col13\" class=\"data row0 col13\" >операции с недвижимостью</td>\n",
       "      <td id=\"T_a81ad_row0_col14\" class=\"data row0 col14\" >Дети есть</td>\n",
       "      <td id=\"T_a81ad_row0_col15\" class=\"data row0 col15\" >Очень богатый</td>\n",
       "    </tr>\n",
       "    <tr>\n",
       "      <td id=\"T_a81ad_row1_col0\" class=\"data row1 col0\" >1</td>\n",
       "      <td id=\"T_a81ad_row1_col1\" class=\"data row1 col1\" >4024.803754</td>\n",
       "      <td id=\"T_a81ad_row1_col2\" class=\"data row1 col2\" >36</td>\n",
       "      <td id=\"T_a81ad_row1_col3\" class=\"data row1 col3\" >среднее</td>\n",
       "      <td id=\"T_a81ad_row1_col4\" class=\"data row1 col4\" >1</td>\n",
       "      <td id=\"T_a81ad_row1_col5\" class=\"data row1 col5\" >женат / замужем</td>\n",
       "      <td id=\"T_a81ad_row1_col6\" class=\"data row1 col6\" >0</td>\n",
       "      <td id=\"T_a81ad_row1_col7\" class=\"data row1 col7\" >F</td>\n",
       "      <td id=\"T_a81ad_row1_col8\" class=\"data row1 col8\" >сотрудник</td>\n",
       "      <td id=\"T_a81ad_row1_col9\" class=\"data row1 col9\" >0</td>\n",
       "      <td id=\"T_a81ad_row1_col10\" class=\"data row1 col10\" >112080</td>\n",
       "      <td id=\"T_a81ad_row1_col11\" class=\"data row1 col11\" >приобретение автомобиля</td>\n",
       "      <td id=\"T_a81ad_row1_col12\" class=\"data row1 col12\" >C</td>\n",
       "      <td id=\"T_a81ad_row1_col13\" class=\"data row1 col13\" >операции с автомобилем</td>\n",
       "      <td id=\"T_a81ad_row1_col14\" class=\"data row1 col14\" >Дети есть</td>\n",
       "      <td id=\"T_a81ad_row1_col15\" class=\"data row1 col15\" >Бедный</td>\n",
       "    </tr>\n",
       "    <tr>\n",
       "      <td id=\"T_a81ad_row2_col0\" class=\"data row2 col0\" >0</td>\n",
       "      <td id=\"T_a81ad_row2_col1\" class=\"data row2 col1\" >5623.422610</td>\n",
       "      <td id=\"T_a81ad_row2_col2\" class=\"data row2 col2\" >33</td>\n",
       "      <td id=\"T_a81ad_row2_col3\" class=\"data row2 col3\" >среднее</td>\n",
       "      <td id=\"T_a81ad_row2_col4\" class=\"data row2 col4\" >1</td>\n",
       "      <td id=\"T_a81ad_row2_col5\" class=\"data row2 col5\" >женат / замужем</td>\n",
       "      <td id=\"T_a81ad_row2_col6\" class=\"data row2 col6\" >0</td>\n",
       "      <td id=\"T_a81ad_row2_col7\" class=\"data row2 col7\" >M</td>\n",
       "      <td id=\"T_a81ad_row2_col8\" class=\"data row2 col8\" >сотрудник</td>\n",
       "      <td id=\"T_a81ad_row2_col9\" class=\"data row2 col9\" >0</td>\n",
       "      <td id=\"T_a81ad_row2_col10\" class=\"data row2 col10\" >145885</td>\n",
       "      <td id=\"T_a81ad_row2_col11\" class=\"data row2 col11\" >покупка жилья</td>\n",
       "      <td id=\"T_a81ad_row2_col12\" class=\"data row2 col12\" >C</td>\n",
       "      <td id=\"T_a81ad_row2_col13\" class=\"data row2 col13\" >операции с недвижимостью</td>\n",
       "      <td id=\"T_a81ad_row2_col14\" class=\"data row2 col14\" >Нет детей</td>\n",
       "      <td id=\"T_a81ad_row2_col15\" class=\"data row2 col15\" >Средний</td>\n",
       "    </tr>\n",
       "    <tr>\n",
       "      <td id=\"T_a81ad_row3_col0\" class=\"data row3 col0\" >3</td>\n",
       "      <td id=\"T_a81ad_row3_col1\" class=\"data row3 col1\" >4124.747207</td>\n",
       "      <td id=\"T_a81ad_row3_col2\" class=\"data row3 col2\" >32</td>\n",
       "      <td id=\"T_a81ad_row3_col3\" class=\"data row3 col3\" >среднее</td>\n",
       "      <td id=\"T_a81ad_row3_col4\" class=\"data row3 col4\" >1</td>\n",
       "      <td id=\"T_a81ad_row3_col5\" class=\"data row3 col5\" >женат / замужем</td>\n",
       "      <td id=\"T_a81ad_row3_col6\" class=\"data row3 col6\" >0</td>\n",
       "      <td id=\"T_a81ad_row3_col7\" class=\"data row3 col7\" >M</td>\n",
       "      <td id=\"T_a81ad_row3_col8\" class=\"data row3 col8\" >сотрудник</td>\n",
       "      <td id=\"T_a81ad_row3_col9\" class=\"data row3 col9\" >0</td>\n",
       "      <td id=\"T_a81ad_row3_col10\" class=\"data row3 col10\" >267628</td>\n",
       "      <td id=\"T_a81ad_row3_col11\" class=\"data row3 col11\" >дополнительное образование</td>\n",
       "      <td id=\"T_a81ad_row3_col12\" class=\"data row3 col12\" >B</td>\n",
       "      <td id=\"T_a81ad_row3_col13\" class=\"data row3 col13\" >получение образования</td>\n",
       "      <td id=\"T_a81ad_row3_col14\" class=\"data row3 col14\" >Дети есть</td>\n",
       "      <td id=\"T_a81ad_row3_col15\" class=\"data row3 col15\" >Очень богатый</td>\n",
       "    </tr>\n",
       "    <tr>\n",
       "      <td id=\"T_a81ad_row4_col0\" class=\"data row4 col0\" >0</td>\n",
       "      <td id=\"T_a81ad_row4_col1\" class=\"data row4 col1\" >340266.072047</td>\n",
       "      <td id=\"T_a81ad_row4_col2\" class=\"data row4 col2\" >53</td>\n",
       "      <td id=\"T_a81ad_row4_col3\" class=\"data row4 col3\" >среднее</td>\n",
       "      <td id=\"T_a81ad_row4_col4\" class=\"data row4 col4\" >1</td>\n",
       "      <td id=\"T_a81ad_row4_col5\" class=\"data row4 col5\" >гражданский брак</td>\n",
       "      <td id=\"T_a81ad_row4_col6\" class=\"data row4 col6\" >1</td>\n",
       "      <td id=\"T_a81ad_row4_col7\" class=\"data row4 col7\" >F</td>\n",
       "      <td id=\"T_a81ad_row4_col8\" class=\"data row4 col8\" >пенсионер</td>\n",
       "      <td id=\"T_a81ad_row4_col9\" class=\"data row4 col9\" >0</td>\n",
       "      <td id=\"T_a81ad_row4_col10\" class=\"data row4 col10\" >158616</td>\n",
       "      <td id=\"T_a81ad_row4_col11\" class=\"data row4 col11\" >сыграть свадьбу</td>\n",
       "      <td id=\"T_a81ad_row4_col12\" class=\"data row4 col12\" >C</td>\n",
       "      <td id=\"T_a81ad_row4_col13\" class=\"data row4 col13\" >проведение свадьбы</td>\n",
       "      <td id=\"T_a81ad_row4_col14\" class=\"data row4 col14\" >Нет детей</td>\n",
       "      <td id=\"T_a81ad_row4_col15\" class=\"data row4 col15\" >Средний</td>\n",
       "    </tr>\n",
       "    <tr>\n",
       "      <td id=\"T_a81ad_row5_col0\" class=\"data row5 col0\" >0</td>\n",
       "      <td id=\"T_a81ad_row5_col1\" class=\"data row5 col1\" >926.185831</td>\n",
       "      <td id=\"T_a81ad_row5_col2\" class=\"data row5 col2\" >27</td>\n",
       "      <td id=\"T_a81ad_row5_col3\" class=\"data row5 col3\" >высшее</td>\n",
       "      <td id=\"T_a81ad_row5_col4\" class=\"data row5 col4\" >0</td>\n",
       "      <td id=\"T_a81ad_row5_col5\" class=\"data row5 col5\" >гражданский брак</td>\n",
       "      <td id=\"T_a81ad_row5_col6\" class=\"data row5 col6\" >1</td>\n",
       "      <td id=\"T_a81ad_row5_col7\" class=\"data row5 col7\" >M</td>\n",
       "      <td id=\"T_a81ad_row5_col8\" class=\"data row5 col8\" >компаньон</td>\n",
       "      <td id=\"T_a81ad_row5_col9\" class=\"data row5 col9\" >0</td>\n",
       "      <td id=\"T_a81ad_row5_col10\" class=\"data row5 col10\" >255763</td>\n",
       "      <td id=\"T_a81ad_row5_col11\" class=\"data row5 col11\" >покупка жилья</td>\n",
       "      <td id=\"T_a81ad_row5_col12\" class=\"data row5 col12\" >B</td>\n",
       "      <td id=\"T_a81ad_row5_col13\" class=\"data row5 col13\" >операции с недвижимостью</td>\n",
       "      <td id=\"T_a81ad_row5_col14\" class=\"data row5 col14\" >Нет детей</td>\n",
       "      <td id=\"T_a81ad_row5_col15\" class=\"data row5 col15\" >Очень богатый</td>\n",
       "    </tr>\n",
       "    <tr>\n",
       "      <td id=\"T_a81ad_row6_col0\" class=\"data row6 col0\" >0</td>\n",
       "      <td id=\"T_a81ad_row6_col1\" class=\"data row6 col1\" >2879.202052</td>\n",
       "      <td id=\"T_a81ad_row6_col2\" class=\"data row6 col2\" >43</td>\n",
       "      <td id=\"T_a81ad_row6_col3\" class=\"data row6 col3\" >высшее</td>\n",
       "      <td id=\"T_a81ad_row6_col4\" class=\"data row6 col4\" >0</td>\n",
       "      <td id=\"T_a81ad_row6_col5\" class=\"data row6 col5\" >женат / замужем</td>\n",
       "      <td id=\"T_a81ad_row6_col6\" class=\"data row6 col6\" >0</td>\n",
       "      <td id=\"T_a81ad_row6_col7\" class=\"data row6 col7\" >F</td>\n",
       "      <td id=\"T_a81ad_row6_col8\" class=\"data row6 col8\" >компаньон</td>\n",
       "      <td id=\"T_a81ad_row6_col9\" class=\"data row6 col9\" >0</td>\n",
       "      <td id=\"T_a81ad_row6_col10\" class=\"data row6 col10\" >240525</td>\n",
       "      <td id=\"T_a81ad_row6_col11\" class=\"data row6 col11\" >операции с жильем</td>\n",
       "      <td id=\"T_a81ad_row6_col12\" class=\"data row6 col12\" >B</td>\n",
       "      <td id=\"T_a81ad_row6_col13\" class=\"data row6 col13\" >операции с недвижимостью</td>\n",
       "      <td id=\"T_a81ad_row6_col14\" class=\"data row6 col14\" >Нет детей</td>\n",
       "      <td id=\"T_a81ad_row6_col15\" class=\"data row6 col15\" >Очень богатый</td>\n",
       "    </tr>\n",
       "    <tr>\n",
       "      <td id=\"T_a81ad_row7_col0\" class=\"data row7 col0\" >0</td>\n",
       "      <td id=\"T_a81ad_row7_col1\" class=\"data row7 col1\" >152.779569</td>\n",
       "      <td id=\"T_a81ad_row7_col2\" class=\"data row7 col2\" >50</td>\n",
       "      <td id=\"T_a81ad_row7_col3\" class=\"data row7 col3\" >среднее</td>\n",
       "      <td id=\"T_a81ad_row7_col4\" class=\"data row7 col4\" >1</td>\n",
       "      <td id=\"T_a81ad_row7_col5\" class=\"data row7 col5\" >женат / замужем</td>\n",
       "      <td id=\"T_a81ad_row7_col6\" class=\"data row7 col6\" >0</td>\n",
       "      <td id=\"T_a81ad_row7_col7\" class=\"data row7 col7\" >M</td>\n",
       "      <td id=\"T_a81ad_row7_col8\" class=\"data row7 col8\" >сотрудник</td>\n",
       "      <td id=\"T_a81ad_row7_col9\" class=\"data row7 col9\" >0</td>\n",
       "      <td id=\"T_a81ad_row7_col10\" class=\"data row7 col10\" >135823</td>\n",
       "      <td id=\"T_a81ad_row7_col11\" class=\"data row7 col11\" >образование</td>\n",
       "      <td id=\"T_a81ad_row7_col12\" class=\"data row7 col12\" >C</td>\n",
       "      <td id=\"T_a81ad_row7_col13\" class=\"data row7 col13\" >получение образования</td>\n",
       "      <td id=\"T_a81ad_row7_col14\" class=\"data row7 col14\" >Нет детей</td>\n",
       "      <td id=\"T_a81ad_row7_col15\" class=\"data row7 col15\" >Средний</td>\n",
       "    </tr>\n",
       "    <tr>\n",
       "      <td id=\"T_a81ad_row8_col0\" class=\"data row8 col0\" >2</td>\n",
       "      <td id=\"T_a81ad_row8_col1\" class=\"data row8 col1\" >6929.865299</td>\n",
       "      <td id=\"T_a81ad_row8_col2\" class=\"data row8 col2\" >35</td>\n",
       "      <td id=\"T_a81ad_row8_col3\" class=\"data row8 col3\" >высшее</td>\n",
       "      <td id=\"T_a81ad_row8_col4\" class=\"data row8 col4\" >0</td>\n",
       "      <td id=\"T_a81ad_row8_col5\" class=\"data row8 col5\" >гражданский брак</td>\n",
       "      <td id=\"T_a81ad_row8_col6\" class=\"data row8 col6\" >1</td>\n",
       "      <td id=\"T_a81ad_row8_col7\" class=\"data row8 col7\" >F</td>\n",
       "      <td id=\"T_a81ad_row8_col8\" class=\"data row8 col8\" >сотрудник</td>\n",
       "      <td id=\"T_a81ad_row8_col9\" class=\"data row8 col9\" >0</td>\n",
       "      <td id=\"T_a81ad_row8_col10\" class=\"data row8 col10\" >95856</td>\n",
       "      <td id=\"T_a81ad_row8_col11\" class=\"data row8 col11\" >на проведение свадьбы</td>\n",
       "      <td id=\"T_a81ad_row8_col12\" class=\"data row8 col12\" >C</td>\n",
       "      <td id=\"T_a81ad_row8_col13\" class=\"data row8 col13\" >проведение свадьбы</td>\n",
       "      <td id=\"T_a81ad_row8_col14\" class=\"data row8 col14\" >Дети есть</td>\n",
       "      <td id=\"T_a81ad_row8_col15\" class=\"data row8 col15\" >Нищий</td>\n",
       "    </tr>\n",
       "    <tr>\n",
       "      <td id=\"T_a81ad_row9_col0\" class=\"data row9 col0\" >0</td>\n",
       "      <td id=\"T_a81ad_row9_col1\" class=\"data row9 col1\" >2188.756445</td>\n",
       "      <td id=\"T_a81ad_row9_col2\" class=\"data row9 col2\" >41</td>\n",
       "      <td id=\"T_a81ad_row9_col3\" class=\"data row9 col3\" >среднее</td>\n",
       "      <td id=\"T_a81ad_row9_col4\" class=\"data row9 col4\" >1</td>\n",
       "      <td id=\"T_a81ad_row9_col5\" class=\"data row9 col5\" >женат / замужем</td>\n",
       "      <td id=\"T_a81ad_row9_col6\" class=\"data row9 col6\" >0</td>\n",
       "      <td id=\"T_a81ad_row9_col7\" class=\"data row9 col7\" >M</td>\n",
       "      <td id=\"T_a81ad_row9_col8\" class=\"data row9 col8\" >сотрудник</td>\n",
       "      <td id=\"T_a81ad_row9_col9\" class=\"data row9 col9\" >0</td>\n",
       "      <td id=\"T_a81ad_row9_col10\" class=\"data row9 col10\" >144425</td>\n",
       "      <td id=\"T_a81ad_row9_col11\" class=\"data row9 col11\" >покупка жилья для семьи</td>\n",
       "      <td id=\"T_a81ad_row9_col12\" class=\"data row9 col12\" >C</td>\n",
       "      <td id=\"T_a81ad_row9_col13\" class=\"data row9 col13\" >операции с недвижимостью</td>\n",
       "      <td id=\"T_a81ad_row9_col14\" class=\"data row9 col14\" >Нет детей</td>\n",
       "      <td id=\"T_a81ad_row9_col15\" class=\"data row9 col15\" >Средний</td>\n",
       "    </tr>\n",
       "  </tbody>\n",
       "</table>\n"
      ],
      "text/plain": [
       "<pandas.io.formats.style.Styler at 0x2523e7e1580>"
      ]
     },
     "execution_count": 29,
     "metadata": {},
     "output_type": "execute_result"
    }
   ],
   "source": [
    "children_debt = pd.DataFrame()\n",
    "children_debt['count_children']=data.groupby('children')['debt'].count()\n",
    "children_debt['sum_children']=data.groupby('children')['debt'].sum()\n",
    "children_debt['result_children']=children_debt['sum_children']/children_debt['count_children']*100\n",
    "children_debt.sort_values('result_children',ascending=False)\n",
    "children_debt.reset_index()\n",
    "#оранжевый стиль\n",
    "\n",
    "data.head(10).style.format({\"BasePay\": \"${:20,.0f}\", \n",
    "                          \"OtherPay\": \"${:20,.0f}\", \n",
    "                          \"TotalPay\": \"${:20,.0f}\",\n",
    "                          \"TotalPayBenefits\":\"${:20,.0f}\"})\\\n",
    "                 .format({\"JobTitle\": lambda x:x.lower(),\n",
    "                          \"EmployeeName\": lambda x:x.lower()})\\\n",
    "                 .hide(axis=\"index\")\\\n",
    "                 .background_gradient(cmap='Oranges')\n",
    "\n"
   ]
  },
  {
   "cell_type": "markdown",
   "id": "0b826983",
   "metadata": {},
   "source": []
  },
  {
   "cell_type": "code",
   "execution_count": 72,
   "id": "c0c78aa9",
   "metadata": {},
   "outputs": [
    {
     "data": {
      "text/html": [
       "<div>\n",
       "<style scoped>\n",
       "    .dataframe tbody tr th:only-of-type {\n",
       "        vertical-align: middle;\n",
       "    }\n",
       "\n",
       "    .dataframe tbody tr th {\n",
       "        vertical-align: top;\n",
       "    }\n",
       "\n",
       "    .dataframe thead th {\n",
       "        text-align: right;\n",
       "    }\n",
       "</style>\n",
       "<table border=\"1\" class=\"dataframe\">\n",
       "  <thead>\n",
       "    <tr style=\"text-align: right;\">\n",
       "      <th></th>\n",
       "      <th>Наличие детей</th>\n",
       "      <th>Кол-во пользователей</th>\n",
       "      <th>Кол-во должников</th>\n",
       "      <th>% должников</th>\n",
       "      <th>% НЕдолжников</th>\n",
       "    </tr>\n",
       "  </thead>\n",
       "  <tbody>\n",
       "    <tr>\n",
       "      <th>0</th>\n",
       "      <td>Дети есть</td>\n",
       "      <td>7241</td>\n",
       "      <td>669</td>\n",
       "      <td>0.092391</td>\n",
       "      <td>0.907609</td>\n",
       "    </tr>\n",
       "    <tr>\n",
       "      <th>1</th>\n",
       "      <td>Нет детей</td>\n",
       "      <td>14107</td>\n",
       "      <td>1063</td>\n",
       "      <td>0.075353</td>\n",
       "      <td>0.924647</td>\n",
       "    </tr>\n",
       "  </tbody>\n",
       "</table>\n",
       "</div>"
      ],
      "text/plain": [
       "  Наличие детей  Кол-во пользователей  Кол-во должников  % должников  \\\n",
       "0     Дети есть                  7241               669     0.092391   \n",
       "1     Нет детей                 14107              1063     0.075353   \n",
       "\n",
       "   % НЕдолжников  \n",
       "0       0.907609  \n",
       "1       0.924647  "
      ]
     },
     "execution_count": 72,
     "metadata": {},
     "output_type": "execute_result"
    }
   ],
   "source": [
    "data['children_group'] = data['children'].apply(lambda x: 'Нет детей' if x == 0 else 'Дети есть')\n",
    "\n",
    "df_example = data.pivot_table(index = 'children_group', values = 'debt', aggfunc = \\\n",
    "                              ['count', 'sum', 'mean', lambda x: 1 - x.mean()])\n",
    "df_example.reset_index(level =['children_group'], inplace = True)\n",
    "df_example.columns = ['Наличие детей','Кол-во пользователей', 'Кол-во должников', '% должников', '% НЕдолжников']\n",
    "df_example"
   ]
  },
  {
   "cell_type": "markdown",
   "id": "3a6b99ec",
   "metadata": {
    "deletable": false,
    "id": "3a6b99ec"
   },
   "source": [
    "Самый лучший показатель - у людей, которые не имеют детей.У людей, которые имеют троих детей, показатель на втором месте. Самый высокий показатель-у людей, которые имеют 4 детей. Значит, разрыв есть, хоть и небольшой."
   ]
  },
  {
   "cell_type": "markdown",
   "id": "97be82ca",
   "metadata": {
    "deletable": false,
    "editable": false,
    "id": "97be82ca"
   },
   "source": [
    "**Задание 20. Есть ли зависимость между семейным положением и возвратом кредита в срок?**"
   ]
  },
  {
   "cell_type": "code",
   "execution_count": 24,
   "id": "dc3f7ee8",
   "metadata": {
    "id": "dc3f7ee8"
   },
   "outputs": [
    {
     "data": {
      "text/html": [
       "<div>\n",
       "<style scoped>\n",
       "    .dataframe tbody tr th:only-of-type {\n",
       "        vertical-align: middle;\n",
       "    }\n",
       "\n",
       "    .dataframe tbody tr th {\n",
       "        vertical-align: top;\n",
       "    }\n",
       "\n",
       "    .dataframe thead th {\n",
       "        text-align: right;\n",
       "    }\n",
       "</style>\n",
       "<table border=\"1\" class=\"dataframe\">\n",
       "  <thead>\n",
       "    <tr style=\"text-align: right;\">\n",
       "      <th></th>\n",
       "      <th>children</th>\n",
       "      <th>count_children</th>\n",
       "      <th>sum_children</th>\n",
       "      <th>result_children</th>\n",
       "    </tr>\n",
       "  </thead>\n",
       "  <tbody>\n",
       "    <tr>\n",
       "      <th>0</th>\n",
       "      <td>0</td>\n",
       "      <td>14107</td>\n",
       "      <td>1063</td>\n",
       "      <td>7.535266</td>\n",
       "    </tr>\n",
       "    <tr>\n",
       "      <th>1</th>\n",
       "      <td>1</td>\n",
       "      <td>4809</td>\n",
       "      <td>444</td>\n",
       "      <td>9.232689</td>\n",
       "    </tr>\n",
       "    <tr>\n",
       "      <th>2</th>\n",
       "      <td>2</td>\n",
       "      <td>2052</td>\n",
       "      <td>194</td>\n",
       "      <td>9.454191</td>\n",
       "    </tr>\n",
       "    <tr>\n",
       "      <th>3</th>\n",
       "      <td>3</td>\n",
       "      <td>330</td>\n",
       "      <td>27</td>\n",
       "      <td>8.181818</td>\n",
       "    </tr>\n",
       "    <tr>\n",
       "      <th>4</th>\n",
       "      <td>4</td>\n",
       "      <td>41</td>\n",
       "      <td>4</td>\n",
       "      <td>9.756098</td>\n",
       "    </tr>\n",
       "    <tr>\n",
       "      <th>5</th>\n",
       "      <td>5</td>\n",
       "      <td>9</td>\n",
       "      <td>0</td>\n",
       "      <td>0.000000</td>\n",
       "    </tr>\n",
       "  </tbody>\n",
       "</table>\n",
       "</div>"
      ],
      "text/plain": [
       "   children  count_children  sum_children  result_children\n",
       "0         0           14107          1063         7.535266\n",
       "1         1            4809           444         9.232689\n",
       "2         2            2052           194         9.454191\n",
       "3         3             330            27         8.181818\n",
       "4         4              41             4         9.756098\n",
       "5         5               9             0         0.000000"
      ]
     },
     "execution_count": 24,
     "metadata": {},
     "output_type": "execute_result"
    }
   ],
   "source": [
    "children_debt['sum_children'] = pd.pivot_table(data,\n",
    "              index = ['children'],\n",
    "              values = ['debt'],\n",
    "              aggfunc = 'sum',\n",
    "              fill_value = 0)\n",
    "children_debt['count_children'] = pd.pivot_table(data,\n",
    "              index = ['children'],\n",
    "              values = ['debt'],\n",
    "              aggfunc = 'count',\n",
    "              fill_value = 0)\n",
    "children_debt['result_children'] = children_debt['sum_children'] / children_debt['count_children'] * 100\n",
    "children_debt.sort_values('result_children',ascending=False)\n",
    "children_debt.reset_index()\n"
   ]
  },
  {
   "cell_type": "markdown",
   "id": "1cef7837",
   "metadata": {
    "deletable": false,
    "id": "1cef7837"
   },
   "source": [
    "По результатам теста можно сделать вывод, что чаще платят вдовы и разведенные. Люди, которые не вступили еще в брак выплачивают во время позже."
   ]
  },
  {
   "cell_type": "markdown",
   "id": "1e8b2fca",
   "metadata": {
    "deletable": false,
    "editable": false,
    "id": "1e8b2fca"
   },
   "source": [
    "**Задание 21. Есть ли зависимость между уровнем дохода и возвратом кредита в срок?**"
   ]
  },
  {
   "cell_type": "code",
   "execution_count": 171,
   "id": "cd7e3720",
   "metadata": {
    "id": "cd7e3720"
   },
   "outputs": [
    {
     "data": {
      "text/html": [
       "<div>\n",
       "<style scoped>\n",
       "    .dataframe tbody tr th:only-of-type {\n",
       "        vertical-align: middle;\n",
       "    }\n",
       "\n",
       "    .dataframe tbody tr th {\n",
       "        vertical-align: top;\n",
       "    }\n",
       "\n",
       "    .dataframe thead th {\n",
       "        text-align: right;\n",
       "    }\n",
       "</style>\n",
       "<table border=\"1\" class=\"dataframe\">\n",
       "  <thead>\n",
       "    <tr style=\"text-align: right;\">\n",
       "      <th></th>\n",
       "      <th>status</th>\n",
       "      <th>sum</th>\n",
       "      <th>count</th>\n",
       "      <th>conversion</th>\n",
       "    </tr>\n",
       "  </thead>\n",
       "  <tbody>\n",
       "    <tr>\n",
       "      <th>0</th>\n",
       "      <td>Нищий</td>\n",
       "      <td>344</td>\n",
       "      <td>4267</td>\n",
       "      <td>8.061870</td>\n",
       "    </tr>\n",
       "    <tr>\n",
       "      <th>1</th>\n",
       "      <td>Бедный</td>\n",
       "      <td>358</td>\n",
       "      <td>4266</td>\n",
       "      <td>8.391936</td>\n",
       "    </tr>\n",
       "    <tr>\n",
       "      <th>2</th>\n",
       "      <td>Средний</td>\n",
       "      <td>373</td>\n",
       "      <td>4266</td>\n",
       "      <td>8.743554</td>\n",
       "    </tr>\n",
       "    <tr>\n",
       "      <th>3</th>\n",
       "      <td>Богатый</td>\n",
       "      <td>358</td>\n",
       "      <td>4266</td>\n",
       "      <td>8.391936</td>\n",
       "    </tr>\n",
       "    <tr>\n",
       "      <th>4</th>\n",
       "      <td>Очень богатый</td>\n",
       "      <td>299</td>\n",
       "      <td>4266</td>\n",
       "      <td>7.008908</td>\n",
       "    </tr>\n",
       "  </tbody>\n",
       "</table>\n",
       "</div>"
      ],
      "text/plain": [
       "          status  sum  count  conversion\n",
       "0          Нищий  344   4267    8.061870\n",
       "1         Бедный  358   4266    8.391936\n",
       "2        Средний  373   4266    8.743554\n",
       "3        Богатый  358   4266    8.391936\n",
       "4  Очень богатый  299   4266    7.008908"
      ]
     },
     "execution_count": 171,
     "metadata": {},
     "output_type": "execute_result"
    }
   ],
   "source": [
    "labels = ['Нищий', 'Бедный', 'Средний', 'Богатый', 'Очень богатый']\n",
    "data['status'] = pd.qcut(data['total_income'],\n",
    "                              q=[0, .2, .4, .6, .8, 1],\n",
    "                              labels = labels)\n",
    "debt_from_total_income = pd.DataFrame()\n",
    "debt_from_total_income['sum'] = data.groupby('status')['debt'].sum()\n",
    "debt_from_total_income['count'] = data.groupby('status')['debt'].count()\n",
    "debt_from_total_income['conversion'] = debt_from_total_income['sum'] / debt_from_total_income['count'] * 100\n",
    "debt_from_total_income.sort_values('conversion', ascending = False)\n",
    "debt_from_total_income.reset_index()"
   ]
  },
  {
   "cell_type": "markdown",
   "id": "e8593def",
   "metadata": {
    "deletable": false,
    "id": "e8593def"
   },
   "source": [
    "Мы разделили людей на категории по уровню запрплаты и выяснили, что зависимости между разными категориями примерно одинаковы, и поэтому можно сказать что уровень дохода не влияет на плтажеспособность человека по выплате кредита во время."
   ]
  },
  {
   "cell_type": "markdown",
   "id": "99ecbd1f",
   "metadata": {
    "deletable": false,
    "editable": false,
    "id": "99ecbd1f"
   },
   "source": [
    "**Задание 22. Как разные цели кредита влияют на его возврат в срок?**"
   ]
  },
  {
   "cell_type": "code",
   "execution_count": 34,
   "id": "2b687290",
   "metadata": {
    "id": "2b687290"
   },
   "outputs": [
    {
     "data": {
      "text/html": [
       "<div>\n",
       "<style scoped>\n",
       "    .dataframe tbody tr th:only-of-type {\n",
       "        vertical-align: middle;\n",
       "    }\n",
       "\n",
       "    .dataframe tbody tr th {\n",
       "        vertical-align: top;\n",
       "    }\n",
       "\n",
       "    .dataframe thead th {\n",
       "        text-align: right;\n",
       "    }\n",
       "</style>\n",
       "<table border=\"1\" class=\"dataframe\">\n",
       "  <thead>\n",
       "    <tr style=\"text-align: right;\">\n",
       "      <th></th>\n",
       "      <th>purpose_category</th>\n",
       "      <th>sum_purpose_category</th>\n",
       "      <th>count_purpose_category</th>\n",
       "      <th>result_purpose_category</th>\n",
       "    </tr>\n",
       "  </thead>\n",
       "  <tbody>\n",
       "    <tr>\n",
       "      <th>0</th>\n",
       "      <td>операции с автомобилем</td>\n",
       "      <td>400</td>\n",
       "      <td>4281</td>\n",
       "      <td>9.34</td>\n",
       "    </tr>\n",
       "    <tr>\n",
       "      <th>1</th>\n",
       "      <td>операции с недвижимостью</td>\n",
       "      <td>780</td>\n",
       "      <td>10754</td>\n",
       "      <td>7.25</td>\n",
       "    </tr>\n",
       "    <tr>\n",
       "      <th>2</th>\n",
       "      <td>получение образования</td>\n",
       "      <td>369</td>\n",
       "      <td>3989</td>\n",
       "      <td>9.25</td>\n",
       "    </tr>\n",
       "    <tr>\n",
       "      <th>3</th>\n",
       "      <td>проведение свадьбы</td>\n",
       "      <td>183</td>\n",
       "      <td>2324</td>\n",
       "      <td>7.87</td>\n",
       "    </tr>\n",
       "  </tbody>\n",
       "</table>\n",
       "</div>"
      ],
      "text/plain": [
       "           purpose_category  sum_purpose_category  count_purpose_category  \\\n",
       "0    операции с автомобилем                   400                    4281   \n",
       "1  операции с недвижимостью                   780                   10754   \n",
       "2     получение образования                   369                    3989   \n",
       "3        проведение свадьбы                   183                    2324   \n",
       "\n",
       "   result_purpose_category  \n",
       "0                     9.34  \n",
       "1                     7.25  \n",
       "2                     9.25  \n",
       "3                     7.87  "
      ]
     },
     "execution_count": 34,
     "metadata": {},
     "output_type": "execute_result"
    }
   ],
   "source": [
    "purpose_debt = pd.DataFrame()\n",
    "purpose_debt['sum_purpose_category'] = data.groupby('purpose_category')['debt'].sum()\n",
    "purpose_debt['count_purpose_category'] = data.groupby('purpose_category')['debt'].count()\n",
    "purpose_debt['result_purpose_category'] = purpose_debt['sum_purpose_category'] / purpose_debt['count_purpose_category'] *100 \n",
    "purpose_debt.sort_values('result_purpose_category', ascending = False)\n",
    "round(purpose_debt.reset_index(), 2)"
   ]
  },
  {
   "cell_type": "markdown",
   "id": "b4bb2ce6",
   "metadata": {
    "deletable": false,
    "id": "b4bb2ce6"
   },
   "source": [
    "По результатам теста мы выяснили, что люди, которые получают кредит на дополнительное образование-реже выплачивают его в более чем два раза, чем люди, которые получают кредит на покупку жилья. Выходит, что люди, которые берут кредит на покупку жилья или недвижимости в большей мере возращают его вовремя."
   ]
  },
  {
   "cell_type": "markdown",
   "id": "09c3ac4c",
   "metadata": {
    "deletable": false,
    "editable": false,
    "id": "09c3ac4c"
   },
   "source": [
    "**Задание 23. Приведите возможные причины появления пропусков в исходных данных.**"
   ]
  },
  {
   "cell_type": "markdown",
   "id": "9da2ceda",
   "metadata": {
    "deletable": false,
    "id": "9da2ceda"
   },
   "source": [
    "1.Человеческий фактор.\n",
    "\n",
    "2.Техническая проблема."
   ]
  },
  {
   "cell_type": "markdown",
   "id": "7b0487d6",
   "metadata": {
    "deletable": false,
    "editable": false,
    "id": "7b0487d6"
   },
   "source": [
    "**Задание 24. Объясните, почему заполнить пропуски медианным значением — лучшее решение для количественных переменных.**"
   ]
  },
  {
   "cell_type": "markdown",
   "id": "7ecf2b8e",
   "metadata": {
    "deletable": false,
    "id": "7ecf2b8e"
   },
   "source": [
    "Потому что выборка может быть неоднородна.Тогда постарадают люди, у которых какие то показатели низкие, например, зарплата, потому что их зарплата будет переоценена."
   ]
  },
  {
   "cell_type": "markdown",
   "id": "6db5255a",
   "metadata": {
    "deletable": false,
    "editable": false,
    "id": "6db5255a"
   },
   "source": [
    "## Общий вывод."
   ]
  },
  {
   "cell_type": "markdown",
   "id": "bad65432",
   "metadata": {
    "id": "bad65432"
   },
   "source": [
    "Анализ показал, что люди, которые берут кредит  на приобритение автомобиля , дополнительного или высшего образования возращают его реже, чем при других целях. Одиннадцать с половиной процентов людей не возращают долг во время, при указании цели на дополнительное образование. Это самый высокий показатель , который мы получили. Поэтому стоит к нему отнестись внимательнее. В то же время, самые отвественные люди по выплате кредита-это люди с уровнем зарплаты от 400 до 500 тысяч рублей. Стоит это также отметить. "
   ]
  }
 ],
 "metadata": {
  "ExecuteTimeLog": [
   {
    "duration": 51,
    "start_time": "2022-07-03T17:57:02.794Z"
   },
   {
    "duration": 6,
    "start_time": "2022-07-03T17:57:20.702Z"
   },
   {
    "duration": 6,
    "start_time": "2022-07-03T17:58:09.239Z"
   },
   {
    "duration": 7,
    "start_time": "2022-07-03T17:58:09.942Z"
   },
   {
    "duration": 6,
    "start_time": "2022-07-03T17:58:12.903Z"
   },
   {
    "duration": 10,
    "start_time": "2022-07-03T18:00:26.564Z"
   },
   {
    "duration": 7,
    "start_time": "2022-07-03T18:00:29.117Z"
   },
   {
    "duration": 458,
    "start_time": "2022-07-03T18:00:51.716Z"
   },
   {
    "duration": 11,
    "start_time": "2022-07-03T18:04:16.157Z"
   },
   {
    "duration": 8,
    "start_time": "2022-07-03T18:08:22.365Z"
   },
   {
    "duration": 12,
    "start_time": "2022-07-03T18:08:38.163Z"
   },
   {
    "duration": 10,
    "start_time": "2022-07-03T18:11:47.858Z"
   },
   {
    "duration": 12,
    "start_time": "2022-07-03T18:12:28.680Z"
   },
   {
    "duration": 11,
    "start_time": "2022-07-03T18:16:19.571Z"
   },
   {
    "duration": 10,
    "start_time": "2022-07-03T18:18:58.149Z"
   },
   {
    "duration": 10,
    "start_time": "2022-07-03T18:22:05.153Z"
   },
   {
    "duration": 8,
    "start_time": "2022-07-03T18:24:24.085Z"
   },
   {
    "duration": 8,
    "start_time": "2022-07-03T18:24:31.893Z"
   },
   {
    "duration": 19,
    "start_time": "2022-07-03T18:24:42.415Z"
   },
   {
    "duration": 55,
    "start_time": "2022-07-03T18:26:13.157Z"
   },
   {
    "duration": 12,
    "start_time": "2022-07-03T18:26:19.803Z"
   },
   {
    "duration": 10,
    "start_time": "2022-07-03T18:32:53.295Z"
   },
   {
    "duration": 11,
    "start_time": "2022-07-03T18:37:54.299Z"
   },
   {
    "duration": 16,
    "start_time": "2022-07-03T18:42:16.119Z"
   },
   {
    "duration": 11,
    "start_time": "2022-07-03T18:56:17.826Z"
   },
   {
    "duration": 333,
    "start_time": "2022-07-03T19:12:16.008Z"
   },
   {
    "duration": 24,
    "start_time": "2022-07-03T19:12:16.343Z"
   },
   {
    "duration": 15,
    "start_time": "2022-07-03T19:12:16.369Z"
   },
   {
    "duration": 9,
    "start_time": "2022-07-03T19:12:16.386Z"
   },
   {
    "duration": 53,
    "start_time": "2022-07-03T19:12:16.396Z"
   },
   {
    "duration": 3,
    "start_time": "2022-07-03T19:12:16.451Z"
   },
   {
    "duration": 9,
    "start_time": "2022-07-03T19:12:16.456Z"
   },
   {
    "duration": 4,
    "start_time": "2022-07-03T19:12:16.467Z"
   },
   {
    "duration": 27,
    "start_time": "2022-07-03T19:12:16.473Z"
   },
   {
    "duration": 14,
    "start_time": "2022-07-03T19:12:16.503Z"
   },
   {
    "duration": 35,
    "start_time": "2022-07-03T19:12:16.525Z"
   },
   {
    "duration": 11,
    "start_time": "2022-07-03T19:12:16.562Z"
   },
   {
    "duration": 4,
    "start_time": "2022-07-03T19:12:16.577Z"
   },
   {
    "duration": 48,
    "start_time": "2022-07-03T19:12:16.583Z"
   },
   {
    "duration": 19,
    "start_time": "2022-07-03T19:12:16.633Z"
   },
   {
    "duration": 13,
    "start_time": "2022-07-03T19:12:16.654Z"
   },
   {
    "duration": 12,
    "start_time": "2022-07-03T19:12:16.669Z"
   },
   {
    "duration": 16,
    "start_time": "2022-07-03T19:12:16.683Z"
   },
   {
    "duration": 31,
    "start_time": "2022-07-03T19:12:16.700Z"
   },
   {
    "duration": 5,
    "start_time": "2022-07-03T19:12:16.733Z"
   },
   {
    "duration": 16,
    "start_time": "2022-07-03T19:12:16.740Z"
   },
   {
    "duration": 16,
    "start_time": "2022-07-03T19:12:16.758Z"
   },
   {
    "duration": 15,
    "start_time": "2022-07-03T19:12:16.776Z"
   },
   {
    "duration": 2,
    "start_time": "2022-07-03T19:12:16.793Z"
   },
   {
    "duration": 45,
    "start_time": "2022-07-03T19:12:16.797Z"
   },
   {
    "duration": 527,
    "start_time": "2022-07-04T14:11:00.753Z"
   },
   {
    "duration": 10,
    "start_time": "2022-07-04T14:11:08.026Z"
   },
   {
    "duration": 8,
    "start_time": "2022-07-04T14:11:08.989Z"
   },
   {
    "duration": 343,
    "start_time": "2022-07-04T14:11:21.621Z"
   },
   {
    "duration": 20,
    "start_time": "2022-07-04T14:11:21.966Z"
   },
   {
    "duration": 12,
    "start_time": "2022-07-04T14:11:21.988Z"
   },
   {
    "duration": 8,
    "start_time": "2022-07-04T14:11:22.002Z"
   },
   {
    "duration": 51,
    "start_time": "2022-07-04T14:11:22.011Z"
   },
   {
    "duration": 3,
    "start_time": "2022-07-04T14:11:22.063Z"
   },
   {
    "duration": 9,
    "start_time": "2022-07-04T14:11:22.067Z"
   },
   {
    "duration": 4,
    "start_time": "2022-07-04T14:11:22.077Z"
   },
   {
    "duration": 7,
    "start_time": "2022-07-04T14:11:22.082Z"
   },
   {
    "duration": 4,
    "start_time": "2022-07-04T14:11:22.091Z"
   },
   {
    "duration": 65,
    "start_time": "2022-07-04T14:11:22.096Z"
   },
   {
    "duration": 9,
    "start_time": "2022-07-04T14:11:22.162Z"
   },
   {
    "duration": 6,
    "start_time": "2022-07-04T14:11:22.172Z"
   },
   {
    "duration": 23,
    "start_time": "2022-07-04T14:11:22.180Z"
   },
   {
    "duration": 14,
    "start_time": "2022-07-04T14:11:22.204Z"
   },
   {
    "duration": 15,
    "start_time": "2022-07-04T14:11:22.228Z"
   },
   {
    "duration": 19,
    "start_time": "2022-07-04T14:11:22.247Z"
   },
   {
    "duration": 13,
    "start_time": "2022-07-04T14:11:22.267Z"
   },
   {
    "duration": 16,
    "start_time": "2022-07-04T14:11:22.281Z"
   },
   {
    "duration": 4,
    "start_time": "2022-07-04T14:11:22.298Z"
   },
   {
    "duration": 15,
    "start_time": "2022-07-04T14:11:22.303Z"
   },
   {
    "duration": 19,
    "start_time": "2022-07-04T14:11:22.320Z"
   },
   {
    "duration": 29,
    "start_time": "2022-07-04T14:11:22.341Z"
   },
   {
    "duration": 19,
    "start_time": "2022-07-04T14:11:22.371Z"
   },
   {
    "duration": 20,
    "start_time": "2022-07-04T14:11:22.391Z"
   },
   {
    "duration": 20,
    "start_time": "2022-07-04T14:50:46.548Z"
   },
   {
    "duration": 25,
    "start_time": "2022-07-04T14:51:56.484Z"
   },
   {
    "duration": 27,
    "start_time": "2022-07-04T14:52:00.020Z"
   },
   {
    "duration": 21,
    "start_time": "2022-07-04T14:53:00.826Z"
   },
   {
    "duration": 13,
    "start_time": "2022-07-04T14:54:04.107Z"
   },
   {
    "duration": 30,
    "start_time": "2022-07-04T15:06:20.870Z"
   },
   {
    "duration": 21,
    "start_time": "2022-07-04T15:06:59.153Z"
   },
   {
    "duration": 1939,
    "start_time": "2022-07-04T15:07:24.314Z"
   },
   {
    "duration": 1408,
    "start_time": "2022-07-04T15:07:27.017Z"
   },
   {
    "duration": 19,
    "start_time": "2022-07-04T15:07:51.169Z"
   },
   {
    "duration": 16,
    "start_time": "2022-07-04T15:08:38.305Z"
   },
   {
    "duration": 17,
    "start_time": "2022-07-04T15:08:43.392Z"
   },
   {
    "duration": 27,
    "start_time": "2022-07-04T15:08:49.185Z"
   },
   {
    "duration": 20,
    "start_time": "2022-07-04T15:08:53.871Z"
   },
   {
    "duration": 24,
    "start_time": "2022-07-04T15:09:36.728Z"
   },
   {
    "duration": 11,
    "start_time": "2022-07-04T15:09:44.993Z"
   },
   {
    "duration": 17,
    "start_time": "2022-07-04T15:09:56.644Z"
   },
   {
    "duration": 17,
    "start_time": "2022-07-04T15:11:35.456Z"
   },
   {
    "duration": 14,
    "start_time": "2022-07-04T15:11:46.496Z"
   },
   {
    "duration": 25,
    "start_time": "2022-07-04T15:12:46.295Z"
   },
   {
    "duration": 18,
    "start_time": "2022-07-04T15:12:57.361Z"
   },
   {
    "duration": 15,
    "start_time": "2022-07-04T15:13:02.560Z"
   },
   {
    "duration": 17,
    "start_time": "2022-07-04T15:13:12.407Z"
   },
   {
    "duration": 21,
    "start_time": "2022-07-04T15:13:22.599Z"
   },
   {
    "duration": 34,
    "start_time": "2022-07-04T15:13:30.120Z"
   },
   {
    "duration": 29,
    "start_time": "2022-07-04T15:13:36.080Z"
   },
   {
    "duration": 28,
    "start_time": "2022-07-04T15:13:42.720Z"
   },
   {
    "duration": 13,
    "start_time": "2022-07-04T15:15:00.764Z"
   },
   {
    "duration": 16,
    "start_time": "2022-07-04T15:15:53.552Z"
   },
   {
    "duration": 446,
    "start_time": "2022-07-05T11:27:34.782Z"
   },
   {
    "duration": 20,
    "start_time": "2022-07-05T11:27:35.230Z"
   },
   {
    "duration": 24,
    "start_time": "2022-07-05T11:27:35.252Z"
   },
   {
    "duration": 10,
    "start_time": "2022-07-05T11:27:35.278Z"
   },
   {
    "duration": 39,
    "start_time": "2022-07-05T11:27:35.290Z"
   },
   {
    "duration": 4,
    "start_time": "2022-07-05T11:27:35.331Z"
   },
   {
    "duration": 30,
    "start_time": "2022-07-05T11:27:35.337Z"
   },
   {
    "duration": 8,
    "start_time": "2022-07-05T11:27:35.368Z"
   },
   {
    "duration": 11,
    "start_time": "2022-07-05T11:27:35.377Z"
   },
   {
    "duration": 8,
    "start_time": "2022-07-05T11:27:35.391Z"
   },
   {
    "duration": 34,
    "start_time": "2022-07-05T11:27:35.400Z"
   },
   {
    "duration": 9,
    "start_time": "2022-07-05T11:27:35.436Z"
   },
   {
    "duration": 7,
    "start_time": "2022-07-05T11:27:35.446Z"
   },
   {
    "duration": 20,
    "start_time": "2022-07-05T11:27:35.455Z"
   },
   {
    "duration": 16,
    "start_time": "2022-07-05T11:27:35.477Z"
   },
   {
    "duration": 10,
    "start_time": "2022-07-05T11:27:35.495Z"
   },
   {
    "duration": 21,
    "start_time": "2022-07-05T11:27:35.507Z"
   },
   {
    "duration": 13,
    "start_time": "2022-07-05T11:27:35.530Z"
   },
   {
    "duration": 15,
    "start_time": "2022-07-05T11:27:35.544Z"
   },
   {
    "duration": 5,
    "start_time": "2022-07-05T11:27:35.561Z"
   },
   {
    "duration": 15,
    "start_time": "2022-07-05T11:27:35.567Z"
   },
   {
    "duration": 20,
    "start_time": "2022-07-05T11:27:35.584Z"
   },
   {
    "duration": 25,
    "start_time": "2022-07-05T11:27:35.605Z"
   },
   {
    "duration": 23,
    "start_time": "2022-07-05T11:27:35.631Z"
   },
   {
    "duration": 20,
    "start_time": "2022-07-05T11:27:35.655Z"
   },
   {
    "duration": 457,
    "start_time": "2022-07-05T13:13:14.248Z"
   },
   {
    "duration": 25,
    "start_time": "2022-07-05T13:13:14.707Z"
   },
   {
    "duration": 16,
    "start_time": "2022-07-05T13:13:14.734Z"
   },
   {
    "duration": 11,
    "start_time": "2022-07-05T13:13:14.753Z"
   },
   {
    "duration": 60,
    "start_time": "2022-07-05T13:13:14.766Z"
   },
   {
    "duration": 4,
    "start_time": "2022-07-05T13:13:14.828Z"
   },
   {
    "duration": 12,
    "start_time": "2022-07-05T13:13:14.833Z"
   },
   {
    "duration": 4,
    "start_time": "2022-07-05T13:13:14.847Z"
   },
   {
    "duration": 13,
    "start_time": "2022-07-05T13:13:14.853Z"
   },
   {
    "duration": 10,
    "start_time": "2022-07-05T13:13:14.869Z"
   },
   {
    "duration": 57,
    "start_time": "2022-07-05T13:13:14.881Z"
   },
   {
    "duration": 11,
    "start_time": "2022-07-05T13:13:14.940Z"
   },
   {
    "duration": 15,
    "start_time": "2022-07-05T13:13:14.952Z"
   },
   {
    "duration": 28,
    "start_time": "2022-07-05T13:13:14.968Z"
   },
   {
    "duration": 29,
    "start_time": "2022-07-05T13:13:14.997Z"
   },
   {
    "duration": 13,
    "start_time": "2022-07-05T13:13:15.028Z"
   },
   {
    "duration": 9,
    "start_time": "2022-07-05T13:13:15.043Z"
   },
   {
    "duration": 13,
    "start_time": "2022-07-05T13:13:15.054Z"
   },
   {
    "duration": 14,
    "start_time": "2022-07-05T13:13:15.069Z"
   },
   {
    "duration": 13,
    "start_time": "2022-07-05T13:13:15.085Z"
   },
   {
    "duration": 26,
    "start_time": "2022-07-05T13:13:15.100Z"
   },
   {
    "duration": 26,
    "start_time": "2022-07-05T13:13:15.128Z"
   },
   {
    "duration": 19,
    "start_time": "2022-07-05T13:13:15.156Z"
   },
   {
    "duration": 27,
    "start_time": "2022-07-05T13:13:15.177Z"
   },
   {
    "duration": 39,
    "start_time": "2022-07-05T13:13:15.205Z"
   },
   {
    "duration": 486,
    "start_time": "2022-07-05T13:14:12.409Z"
   },
   {
    "duration": 50,
    "start_time": "2022-07-05T17:59:52.333Z"
   },
   {
    "duration": 535,
    "start_time": "2022-07-05T18:00:04.718Z"
   },
   {
    "duration": 32,
    "start_time": "2022-07-05T18:00:05.256Z"
   },
   {
    "duration": 16,
    "start_time": "2022-07-05T18:00:05.290Z"
   },
   {
    "duration": 23,
    "start_time": "2022-07-05T18:00:05.308Z"
   },
   {
    "duration": 38,
    "start_time": "2022-07-05T18:00:05.334Z"
   },
   {
    "duration": 4,
    "start_time": "2022-07-05T18:00:05.374Z"
   },
   {
    "duration": 19,
    "start_time": "2022-07-05T18:00:05.380Z"
   },
   {
    "duration": 24,
    "start_time": "2022-07-05T18:00:05.401Z"
   },
   {
    "duration": 10,
    "start_time": "2022-07-05T18:00:05.427Z"
   },
   {
    "duration": 12,
    "start_time": "2022-07-05T18:00:05.439Z"
   },
   {
    "duration": 70,
    "start_time": "2022-07-05T18:00:05.453Z"
   },
   {
    "duration": 14,
    "start_time": "2022-07-05T18:00:05.528Z"
   },
   {
    "duration": 25,
    "start_time": "2022-07-05T18:00:05.545Z"
   },
   {
    "duration": 54,
    "start_time": "2022-07-05T18:00:05.574Z"
   },
   {
    "duration": 26,
    "start_time": "2022-07-05T18:00:05.630Z"
   },
   {
    "duration": 17,
    "start_time": "2022-07-05T18:00:05.658Z"
   },
   {
    "duration": 23,
    "start_time": "2022-07-05T18:00:05.677Z"
   },
   {
    "duration": 26,
    "start_time": "2022-07-05T18:00:05.702Z"
   },
   {
    "duration": 28,
    "start_time": "2022-07-05T18:00:05.730Z"
   },
   {
    "duration": 24,
    "start_time": "2022-07-05T18:00:05.760Z"
   },
   {
    "duration": 24,
    "start_time": "2022-07-05T18:00:05.786Z"
   },
   {
    "duration": 43,
    "start_time": "2022-07-05T18:00:05.812Z"
   },
   {
    "duration": 493,
    "start_time": "2022-07-05T18:00:05.857Z"
   },
   {
    "duration": 23,
    "start_time": "2022-07-05T18:00:06.352Z"
   },
   {
    "duration": 48,
    "start_time": "2022-07-05T18:00:06.377Z"
   },
   {
    "duration": 45,
    "start_time": "2022-07-05T18:00:06.426Z"
   },
   {
    "duration": 49,
    "start_time": "2022-07-05T22:38:50.719Z"
   },
   {
    "duration": 536,
    "start_time": "2022-07-05T22:39:02.661Z"
   },
   {
    "duration": 23,
    "start_time": "2022-07-05T22:39:03.199Z"
   },
   {
    "duration": 15,
    "start_time": "2022-07-05T22:39:03.224Z"
   },
   {
    "duration": 9,
    "start_time": "2022-07-05T22:39:03.241Z"
   },
   {
    "duration": 39,
    "start_time": "2022-07-05T22:39:03.252Z"
   },
   {
    "duration": 3,
    "start_time": "2022-07-05T22:39:03.293Z"
   },
   {
    "duration": 17,
    "start_time": "2022-07-05T22:39:03.297Z"
   },
   {
    "duration": 6,
    "start_time": "2022-07-05T22:39:03.315Z"
   },
   {
    "duration": 25,
    "start_time": "2022-07-05T22:39:03.322Z"
   },
   {
    "duration": 5,
    "start_time": "2022-07-05T22:39:03.351Z"
   },
   {
    "duration": 38,
    "start_time": "2022-07-05T22:39:03.357Z"
   },
   {
    "duration": 8,
    "start_time": "2022-07-05T22:39:03.397Z"
   },
   {
    "duration": 3,
    "start_time": "2022-07-05T22:39:03.407Z"
   },
   {
    "duration": 48,
    "start_time": "2022-07-05T22:39:03.412Z"
   },
   {
    "duration": 17,
    "start_time": "2022-07-05T22:39:03.461Z"
   },
   {
    "duration": 11,
    "start_time": "2022-07-05T22:39:03.480Z"
   },
   {
    "duration": 15,
    "start_time": "2022-07-05T22:39:03.493Z"
   },
   {
    "duration": 32,
    "start_time": "2022-07-05T22:39:03.510Z"
   },
   {
    "duration": 6,
    "start_time": "2022-07-05T22:39:03.543Z"
   },
   {
    "duration": 13,
    "start_time": "2022-07-05T22:39:03.551Z"
   },
   {
    "duration": 16,
    "start_time": "2022-07-05T22:39:03.566Z"
   },
   {
    "duration": 19,
    "start_time": "2022-07-05T22:39:03.584Z"
   },
   {
    "duration": 456,
    "start_time": "2022-07-05T22:39:03.605Z"
   },
   {
    "duration": 21,
    "start_time": "2022-07-05T22:39:04.062Z"
   },
   {
    "duration": 29,
    "start_time": "2022-07-05T22:39:04.084Z"
   },
   {
    "duration": 41,
    "start_time": "2022-07-05T22:39:04.115Z"
   },
   {
    "duration": 49,
    "start_time": "2022-07-05T22:42:22.013Z"
   },
   {
    "duration": 70,
    "start_time": "2022-07-05T22:42:26.705Z"
   },
   {
    "duration": 18,
    "start_time": "2022-07-05T22:42:26.777Z"
   },
   {
    "duration": 26,
    "start_time": "2022-07-05T22:42:26.797Z"
   },
   {
    "duration": 21,
    "start_time": "2022-07-05T22:42:26.825Z"
   },
   {
    "duration": 35,
    "start_time": "2022-07-05T22:42:26.849Z"
   },
   {
    "duration": 4,
    "start_time": "2022-07-05T22:42:26.885Z"
   },
   {
    "duration": 12,
    "start_time": "2022-07-05T22:42:26.891Z"
   },
   {
    "duration": 5,
    "start_time": "2022-07-05T22:42:26.905Z"
   },
   {
    "duration": 7,
    "start_time": "2022-07-05T22:42:26.943Z"
   },
   {
    "duration": 6,
    "start_time": "2022-07-05T22:42:26.952Z"
   },
   {
    "duration": 35,
    "start_time": "2022-07-05T22:42:26.960Z"
   },
   {
    "duration": 10,
    "start_time": "2022-07-05T22:42:26.997Z"
   },
   {
    "duration": 33,
    "start_time": "2022-07-05T22:42:27.009Z"
   },
   {
    "duration": 20,
    "start_time": "2022-07-05T22:42:27.045Z"
   },
   {
    "duration": 18,
    "start_time": "2022-07-05T22:42:27.066Z"
   },
   {
    "duration": 12,
    "start_time": "2022-07-05T22:42:27.086Z"
   },
   {
    "duration": 8,
    "start_time": "2022-07-05T22:42:27.099Z"
   },
   {
    "duration": 34,
    "start_time": "2022-07-05T22:42:27.109Z"
   },
   {
    "duration": 25,
    "start_time": "2022-07-05T22:42:27.145Z"
   },
   {
    "duration": 9,
    "start_time": "2022-07-05T22:42:27.171Z"
   },
   {
    "duration": 16,
    "start_time": "2022-07-05T22:42:27.182Z"
   },
   {
    "duration": 25,
    "start_time": "2022-07-05T22:42:27.200Z"
   },
   {
    "duration": 18,
    "start_time": "2022-07-05T22:42:27.227Z"
   },
   {
    "duration": 19,
    "start_time": "2022-07-05T22:42:27.247Z"
   },
   {
    "duration": 16,
    "start_time": "2022-07-05T22:42:27.267Z"
   },
   {
    "duration": 0,
    "start_time": "2022-07-05T22:42:27.284Z"
   },
   {
    "duration": 16,
    "start_time": "2022-07-05T22:43:03.676Z"
   },
   {
    "duration": 60,
    "start_time": "2022-07-05T22:43:06.564Z"
   },
   {
    "duration": 16,
    "start_time": "2022-07-05T22:43:06.626Z"
   },
   {
    "duration": 17,
    "start_time": "2022-07-05T22:43:06.644Z"
   },
   {
    "duration": 11,
    "start_time": "2022-07-05T22:43:06.662Z"
   },
   {
    "duration": 36,
    "start_time": "2022-07-05T22:43:06.676Z"
   },
   {
    "duration": 30,
    "start_time": "2022-07-05T22:43:06.714Z"
   },
   {
    "duration": 13,
    "start_time": "2022-07-05T22:43:06.747Z"
   },
   {
    "duration": 8,
    "start_time": "2022-07-05T22:43:06.762Z"
   },
   {
    "duration": 18,
    "start_time": "2022-07-05T22:43:06.772Z"
   },
   {
    "duration": 8,
    "start_time": "2022-07-05T22:43:06.795Z"
   },
   {
    "duration": 56,
    "start_time": "2022-07-05T22:43:06.806Z"
   },
   {
    "duration": 11,
    "start_time": "2022-07-05T22:43:06.865Z"
   },
   {
    "duration": 4,
    "start_time": "2022-07-05T22:43:06.879Z"
   },
   {
    "duration": 27,
    "start_time": "2022-07-05T22:43:06.887Z"
   },
   {
    "duration": 40,
    "start_time": "2022-07-05T22:43:06.916Z"
   },
   {
    "duration": 12,
    "start_time": "2022-07-05T22:43:06.957Z"
   },
   {
    "duration": 5,
    "start_time": "2022-07-05T22:43:06.971Z"
   },
   {
    "duration": 12,
    "start_time": "2022-07-05T22:43:06.978Z"
   },
   {
    "duration": 11,
    "start_time": "2022-07-05T22:43:06.993Z"
   },
   {
    "duration": 5,
    "start_time": "2022-07-05T22:43:07.007Z"
   },
   {
    "duration": 42,
    "start_time": "2022-07-05T22:43:07.013Z"
   },
   {
    "duration": 17,
    "start_time": "2022-07-05T22:43:07.058Z"
   },
   {
    "duration": 20,
    "start_time": "2022-07-05T22:43:07.077Z"
   },
   {
    "duration": 54,
    "start_time": "2022-07-05T22:43:07.099Z"
   },
   {
    "duration": 17,
    "start_time": "2022-07-05T22:43:07.155Z"
   },
   {
    "duration": 0,
    "start_time": "2022-07-05T22:43:07.174Z"
   },
   {
    "duration": 23,
    "start_time": "2022-07-05T22:43:56.989Z"
   },
   {
    "duration": 38,
    "start_time": "2022-07-05T22:46:38.434Z"
   },
   {
    "duration": 23,
    "start_time": "2022-07-05T22:46:59.065Z"
   },
   {
    "duration": 40,
    "start_time": "2022-07-05T22:47:12.123Z"
   },
   {
    "duration": 22,
    "start_time": "2022-07-05T22:47:33.970Z"
   },
   {
    "duration": 20,
    "start_time": "2022-07-05T22:54:30.716Z"
   },
   {
    "duration": 22,
    "start_time": "2022-07-05T22:54:34.572Z"
   },
   {
    "duration": 24,
    "start_time": "2022-07-05T22:56:41.411Z"
   },
   {
    "duration": 25,
    "start_time": "2022-07-05T22:56:47.162Z"
   },
   {
    "duration": 21,
    "start_time": "2022-07-05T22:56:55.914Z"
   },
   {
    "duration": 19,
    "start_time": "2022-07-05T23:11:21.715Z"
   },
   {
    "duration": 11,
    "start_time": "2022-07-05T23:21:38.862Z"
   },
   {
    "duration": 57,
    "start_time": "2022-07-05T23:21:47.568Z"
   },
   {
    "duration": 15,
    "start_time": "2022-07-05T23:21:47.627Z"
   },
   {
    "duration": 20,
    "start_time": "2022-07-05T23:21:47.643Z"
   },
   {
    "duration": 10,
    "start_time": "2022-07-05T23:21:47.664Z"
   },
   {
    "duration": 35,
    "start_time": "2022-07-05T23:21:47.676Z"
   },
   {
    "duration": 3,
    "start_time": "2022-07-05T23:21:47.713Z"
   },
   {
    "duration": 33,
    "start_time": "2022-07-05T23:21:47.718Z"
   },
   {
    "duration": 5,
    "start_time": "2022-07-05T23:21:47.753Z"
   },
   {
    "duration": 8,
    "start_time": "2022-07-05T23:21:47.760Z"
   },
   {
    "duration": 9,
    "start_time": "2022-07-05T23:21:47.770Z"
   },
   {
    "duration": 34,
    "start_time": "2022-07-05T23:21:47.781Z"
   },
   {
    "duration": 34,
    "start_time": "2022-07-05T23:21:47.817Z"
   },
   {
    "duration": 5,
    "start_time": "2022-07-05T23:21:47.852Z"
   },
   {
    "duration": 19,
    "start_time": "2022-07-05T23:21:47.860Z"
   },
   {
    "duration": 17,
    "start_time": "2022-07-05T23:21:47.881Z"
   },
   {
    "duration": 44,
    "start_time": "2022-07-05T23:21:47.900Z"
   },
   {
    "duration": 6,
    "start_time": "2022-07-05T23:21:47.946Z"
   },
   {
    "duration": 18,
    "start_time": "2022-07-05T23:21:47.954Z"
   },
   {
    "duration": 7,
    "start_time": "2022-07-05T23:21:47.973Z"
   },
   {
    "duration": 7,
    "start_time": "2022-07-05T23:21:47.982Z"
   },
   {
    "duration": 15,
    "start_time": "2022-07-05T23:21:47.991Z"
   },
   {
    "duration": 38,
    "start_time": "2022-07-05T23:21:48.008Z"
   },
   {
    "duration": 17,
    "start_time": "2022-07-05T23:21:48.048Z"
   },
   {
    "duration": 9,
    "start_time": "2022-07-05T23:21:48.066Z"
   },
   {
    "duration": 0,
    "start_time": "2022-07-05T23:21:48.077Z"
   },
   {
    "duration": 0,
    "start_time": "2022-07-05T23:21:48.078Z"
   },
   {
    "duration": 28,
    "start_time": "2022-07-05T23:22:07.756Z"
   },
   {
    "duration": 22,
    "start_time": "2022-07-05T23:27:00.744Z"
   },
   {
    "duration": 21,
    "start_time": "2022-07-06T00:05:34.501Z"
   },
   {
    "duration": 55,
    "start_time": "2022-07-06T00:05:55.613Z"
   },
   {
    "duration": 15,
    "start_time": "2022-07-06T00:05:55.670Z"
   },
   {
    "duration": 16,
    "start_time": "2022-07-06T00:05:55.686Z"
   },
   {
    "duration": 9,
    "start_time": "2022-07-06T00:05:55.704Z"
   },
   {
    "duration": 56,
    "start_time": "2022-07-06T00:05:55.715Z"
   },
   {
    "duration": 3,
    "start_time": "2022-07-06T00:05:55.773Z"
   },
   {
    "duration": 14,
    "start_time": "2022-07-06T00:05:55.778Z"
   },
   {
    "duration": 5,
    "start_time": "2022-07-06T00:05:55.794Z"
   },
   {
    "duration": 6,
    "start_time": "2022-07-06T00:05:55.801Z"
   },
   {
    "duration": 7,
    "start_time": "2022-07-06T00:05:55.808Z"
   },
   {
    "duration": 32,
    "start_time": "2022-07-06T00:05:55.843Z"
   },
   {
    "duration": 10,
    "start_time": "2022-07-06T00:05:55.876Z"
   },
   {
    "duration": 3,
    "start_time": "2022-07-06T00:05:55.888Z"
   },
   {
    "duration": 22,
    "start_time": "2022-07-06T00:05:55.894Z"
   },
   {
    "duration": 38,
    "start_time": "2022-07-06T00:05:55.918Z"
   },
   {
    "duration": 10,
    "start_time": "2022-07-06T00:05:55.958Z"
   },
   {
    "duration": 8,
    "start_time": "2022-07-06T00:05:55.970Z"
   },
   {
    "duration": 16,
    "start_time": "2022-07-06T00:05:55.980Z"
   },
   {
    "duration": 10,
    "start_time": "2022-07-06T00:05:55.997Z"
   },
   {
    "duration": 5,
    "start_time": "2022-07-06T00:05:56.009Z"
   },
   {
    "duration": 28,
    "start_time": "2022-07-06T00:05:56.016Z"
   },
   {
    "duration": 19,
    "start_time": "2022-07-06T00:05:56.046Z"
   },
   {
    "duration": 0,
    "start_time": "2022-07-06T00:05:56.066Z"
   },
   {
    "duration": 0,
    "start_time": "2022-07-06T00:05:56.068Z"
   },
   {
    "duration": 0,
    "start_time": "2022-07-06T00:05:56.070Z"
   },
   {
    "duration": 0,
    "start_time": "2022-07-06T00:05:56.071Z"
   },
   {
    "duration": 18,
    "start_time": "2022-07-06T00:06:05.335Z"
   },
   {
    "duration": 20,
    "start_time": "2022-07-06T00:06:11.054Z"
   },
   {
    "duration": 24,
    "start_time": "2022-07-06T00:06:15.804Z"
   },
   {
    "duration": 18,
    "start_time": "2022-07-06T00:06:20.964Z"
   },
   {
    "duration": 19,
    "start_time": "2022-07-06T00:08:07.371Z"
   },
   {
    "duration": 21,
    "start_time": "2022-07-06T00:09:51.026Z"
   },
   {
    "duration": 16,
    "start_time": "2022-07-06T00:12:11.904Z"
   },
   {
    "duration": 17,
    "start_time": "2022-07-06T00:14:09.422Z"
   },
   {
    "duration": 15,
    "start_time": "2022-07-06T00:14:34.839Z"
   },
   {
    "duration": 58,
    "start_time": "2022-07-06T00:14:41.369Z"
   },
   {
    "duration": 15,
    "start_time": "2022-07-06T00:14:41.434Z"
   },
   {
    "duration": 22,
    "start_time": "2022-07-06T00:14:41.451Z"
   },
   {
    "duration": 10,
    "start_time": "2022-07-06T00:14:41.475Z"
   },
   {
    "duration": 39,
    "start_time": "2022-07-06T00:14:41.488Z"
   },
   {
    "duration": 4,
    "start_time": "2022-07-06T00:14:41.543Z"
   },
   {
    "duration": 16,
    "start_time": "2022-07-06T00:14:41.549Z"
   },
   {
    "duration": 5,
    "start_time": "2022-07-06T00:14:41.567Z"
   },
   {
    "duration": 15,
    "start_time": "2022-07-06T00:14:41.573Z"
   },
   {
    "duration": 5,
    "start_time": "2022-07-06T00:14:41.589Z"
   },
   {
    "duration": 47,
    "start_time": "2022-07-06T00:14:41.595Z"
   },
   {
    "duration": 9,
    "start_time": "2022-07-06T00:14:41.644Z"
   },
   {
    "duration": 4,
    "start_time": "2022-07-06T00:14:41.655Z"
   },
   {
    "duration": 18,
    "start_time": "2022-07-06T00:14:41.662Z"
   },
   {
    "duration": 17,
    "start_time": "2022-07-06T00:14:41.681Z"
   },
   {
    "duration": 10,
    "start_time": "2022-07-06T00:14:41.700Z"
   },
   {
    "duration": 30,
    "start_time": "2022-07-06T00:14:41.712Z"
   },
   {
    "duration": 14,
    "start_time": "2022-07-06T00:14:41.744Z"
   },
   {
    "duration": 8,
    "start_time": "2022-07-06T00:14:41.760Z"
   },
   {
    "duration": 3,
    "start_time": "2022-07-06T00:14:41.770Z"
   },
   {
    "duration": 12,
    "start_time": "2022-07-06T00:14:41.775Z"
   },
   {
    "duration": 15,
    "start_time": "2022-07-06T00:14:41.789Z"
   },
   {
    "duration": 0,
    "start_time": "2022-07-06T00:14:41.806Z"
   },
   {
    "duration": 0,
    "start_time": "2022-07-06T00:14:41.807Z"
   },
   {
    "duration": 0,
    "start_time": "2022-07-06T00:14:41.809Z"
   },
   {
    "duration": 0,
    "start_time": "2022-07-06T00:14:41.810Z"
   },
   {
    "duration": 14,
    "start_time": "2022-07-06T00:14:54.260Z"
   },
   {
    "duration": 16,
    "start_time": "2022-07-06T00:15:30.751Z"
   },
   {
    "duration": 17,
    "start_time": "2022-07-06T00:15:57.135Z"
   },
   {
    "duration": 21,
    "start_time": "2022-07-06T00:18:31.657Z"
   },
   {
    "duration": 23,
    "start_time": "2022-07-06T00:18:36.480Z"
   },
   {
    "duration": 16,
    "start_time": "2022-07-06T00:18:42.338Z"
   },
   {
    "duration": 18,
    "start_time": "2022-07-06T00:19:02.562Z"
   }
  ],
  "colab": {
   "name": "dpp_template_part2.ipynb",
   "provenance": []
  },
  "kernelspec": {
   "display_name": "Python 3 (ipykernel)",
   "language": "python",
   "name": "python3"
  },
  "language_info": {
   "codemirror_mode": {
    "name": "ipython",
    "version": 3
   },
   "file_extension": ".py",
   "mimetype": "text/x-python",
   "name": "python",
   "nbconvert_exporter": "python",
   "pygments_lexer": "ipython3",
   "version": "3.9.12"
  },
  "toc": {
   "base_numbering": 1,
   "nav_menu": {},
   "number_sections": true,
   "sideBar": true,
   "skip_h1_title": true,
   "title_cell": "Table of Contents",
   "title_sidebar": "Contents",
   "toc_cell": false,
   "toc_position": {},
   "toc_section_display": true,
   "toc_window_display": false
  }
 },
 "nbformat": 4,
 "nbformat_minor": 5
}
