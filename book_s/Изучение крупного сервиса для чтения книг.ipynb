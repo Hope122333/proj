{
 "cells": [
  {
   "cell_type": "markdown",
   "id": "6c5b8d49",
   "metadata": {},
   "source": [
    "# Изучение крупного сервиса для чтения книг."
   ]
  },
  {
   "cell_type": "markdown",
   "id": "45818f86",
   "metadata": {},
   "source": [
    "## Цель исследования:\n",
    "изучить пользовательские предпочтения по отношению к книгам, чтобы составить предложение, актуальное для большинства пользователей."
   ]
  },
  {
   "cell_type": "markdown",
   "id": "e7898df9",
   "metadata": {},
   "source": [
    ">Таблица books\n",
    "\n",
    ">Содержит данные о книгах:\n",
    "\n",
    ">>book_id — идентификатор книги;\n",
    "\n",
    ">>author_id — идентификатор автора;\n",
    "\n",
    ">>title — название книги;\n",
    "\n",
    ">>num_pages — количество страниц;\n",
    "\n",
    ">>publication_date — дата публикации книги;\n",
    "\n",
    ">>publisher_id — идентификатор издателя.\n",
    "\n",
    ">Таблица authors\n",
    "\n",
    ">Содержит данные об авторах:\n",
    "\n",
    ">>author_id — идентификатор автора;\n",
    "\n",
    ">>author — имя автора.\n",
    "\n",
    ">Таблица publishers\n",
    "\n",
    ">Содержит данные об издательствах:\n",
    "\n",
    ">>publisher_id — идентификатор издательства;\n",
    "\n",
    ">>publisher — название издательства;\n",
    "\n",
    ">Таблица ratings\n",
    "\n",
    ">Содержит данные о пользовательских оценках книг:\n",
    "\n",
    ">>rating_id — идентификатор оценки;\n",
    "\n",
    ">>book_id — идентификатор книги;\n",
    "\n",
    ">>username — имя пользователя, оставившего оценку;\n",
    "\n",
    ">>rating — оценка книги.\n",
    "\n",
    ">Таблица reviews\n",
    "\n",
    ">Содержит данные о пользовательских обзорах:\n",
    "\n",
    ">>review_id — идентификатор обзора;\n",
    "\n",
    ">>book_id — идентификатор книги;\n",
    "\n",
    ">>username — имя автора обзора;\n",
    "\n",
    ">>text — текст обзора."
   ]
  },
  {
   "cell_type": "code",
   "execution_count": 1,
   "id": "e3f2caa5",
   "metadata": {},
   "outputs": [],
   "source": [
    "# импортируем библиотеки\n",
    "import pandas as pd \n",
    "from sqlalchemy import create_engine "
   ]
  },
  {
   "cell_type": "code",
   "execution_count": 2,
   "id": "88bde5bc",
   "metadata": {},
   "outputs": [],
   "source": [
    "# устанавливаем параметры\n",
    "db_config = {'user': 'praktikum_student', # имя пользователя\n",
    "'pwd': 'Sdf4$2;d-d30pp', # пароль\n",
    "'host': 'rc1b-wcoijxj3yxfsf3fs.mdb.yandexcloud.net', \n",
    "'port': 6432, # порт подключения\n",
    "'db': 'data-analyst-final-project-db'} # название базы данных"
   ]
  },
  {
   "cell_type": "code",
   "execution_count": 3,
   "id": "190f31ed",
   "metadata": {},
   "outputs": [],
   "source": [
    "connection_string = 'postgresql://{}:{}@{}:{}/{}'.format(db_config['user'], \n",
    " db_config['pwd'], \n",
    " db_config['host'], \n",
    " db_config['port'], \n",
    " db_config['db']) "
   ]
  },
  {
   "cell_type": "code",
   "execution_count": 4,
   "id": "6065eae7",
   "metadata": {},
   "outputs": [],
   "source": [
    "# сохраняем коннектор\n",
    "engine = create_engine(connection_string, connect_args={'sslmode':'require'})"
   ]
  },
  {
   "cell_type": "markdown",
   "id": "0000f2b1",
   "metadata": {},
   "source": [
    "Изучить данные."
   ]
  },
  {
   "cell_type": "code",
   "execution_count": 5,
   "id": "af87dc30",
   "metadata": {},
   "outputs": [],
   "source": [
    "sql = '''SELECT *\n",
    "FROM Books LIMIT 20'''"
   ]
  },
  {
   "cell_type": "code",
   "execution_count": 6,
   "id": "f30bb912",
   "metadata": {},
   "outputs": [
    {
     "data": {
      "text/html": [
       "<div>\n",
       "<style scoped>\n",
       "    .dataframe tbody tr th:only-of-type {\n",
       "        vertical-align: middle;\n",
       "    }\n",
       "\n",
       "    .dataframe tbody tr th {\n",
       "        vertical-align: top;\n",
       "    }\n",
       "\n",
       "    .dataframe thead th {\n",
       "        text-align: right;\n",
       "    }\n",
       "</style>\n",
       "<table border=\"1\" class=\"dataframe\">\n",
       "  <thead>\n",
       "    <tr style=\"text-align: right;\">\n",
       "      <th></th>\n",
       "      <th>book_id</th>\n",
       "      <th>author_id</th>\n",
       "      <th>title</th>\n",
       "      <th>num_pages</th>\n",
       "      <th>publication_date</th>\n",
       "      <th>publisher_id</th>\n",
       "    </tr>\n",
       "  </thead>\n",
       "  <tbody>\n",
       "    <tr>\n",
       "      <th>0</th>\n",
       "      <td>1</td>\n",
       "      <td>546</td>\n",
       "      <td>'Salem's Lot</td>\n",
       "      <td>594</td>\n",
       "      <td>2005-11-01</td>\n",
       "      <td>93</td>\n",
       "    </tr>\n",
       "    <tr>\n",
       "      <th>1</th>\n",
       "      <td>2</td>\n",
       "      <td>465</td>\n",
       "      <td>1 000 Places to See Before You Die</td>\n",
       "      <td>992</td>\n",
       "      <td>2003-05-22</td>\n",
       "      <td>336</td>\n",
       "    </tr>\n",
       "    <tr>\n",
       "      <th>2</th>\n",
       "      <td>3</td>\n",
       "      <td>407</td>\n",
       "      <td>13 Little Blue Envelopes (Little Blue Envelope...</td>\n",
       "      <td>322</td>\n",
       "      <td>2010-12-21</td>\n",
       "      <td>135</td>\n",
       "    </tr>\n",
       "    <tr>\n",
       "      <th>3</th>\n",
       "      <td>4</td>\n",
       "      <td>82</td>\n",
       "      <td>1491: New Revelations of the Americas Before C...</td>\n",
       "      <td>541</td>\n",
       "      <td>2006-10-10</td>\n",
       "      <td>309</td>\n",
       "    </tr>\n",
       "    <tr>\n",
       "      <th>4</th>\n",
       "      <td>5</td>\n",
       "      <td>125</td>\n",
       "      <td>1776</td>\n",
       "      <td>386</td>\n",
       "      <td>2006-07-04</td>\n",
       "      <td>268</td>\n",
       "    </tr>\n",
       "    <tr>\n",
       "      <th>5</th>\n",
       "      <td>6</td>\n",
       "      <td>257</td>\n",
       "      <td>1st to Die (Women's Murder Club  #1)</td>\n",
       "      <td>424</td>\n",
       "      <td>2005-05-20</td>\n",
       "      <td>116</td>\n",
       "    </tr>\n",
       "    <tr>\n",
       "      <th>6</th>\n",
       "      <td>7</td>\n",
       "      <td>258</td>\n",
       "      <td>2nd Chance (Women's Murder Club  #2)</td>\n",
       "      <td>400</td>\n",
       "      <td>2005-05-20</td>\n",
       "      <td>116</td>\n",
       "    </tr>\n",
       "    <tr>\n",
       "      <th>7</th>\n",
       "      <td>8</td>\n",
       "      <td>260</td>\n",
       "      <td>4th of July (Women's Murder Club  #4)</td>\n",
       "      <td>448</td>\n",
       "      <td>2006-06-01</td>\n",
       "      <td>318</td>\n",
       "    </tr>\n",
       "    <tr>\n",
       "      <th>8</th>\n",
       "      <td>9</td>\n",
       "      <td>563</td>\n",
       "      <td>A Beautiful Mind</td>\n",
       "      <td>461</td>\n",
       "      <td>2002-02-04</td>\n",
       "      <td>104</td>\n",
       "    </tr>\n",
       "    <tr>\n",
       "      <th>9</th>\n",
       "      <td>10</td>\n",
       "      <td>445</td>\n",
       "      <td>A Bend in the Road</td>\n",
       "      <td>341</td>\n",
       "      <td>2005-04-01</td>\n",
       "      <td>116</td>\n",
       "    </tr>\n",
       "    <tr>\n",
       "      <th>10</th>\n",
       "      <td>11</td>\n",
       "      <td>130</td>\n",
       "      <td>A Breath of Snow and Ashes (Outlander  #6)</td>\n",
       "      <td>980</td>\n",
       "      <td>2006-08-29</td>\n",
       "      <td>83</td>\n",
       "    </tr>\n",
       "    <tr>\n",
       "      <th>11</th>\n",
       "      <td>12</td>\n",
       "      <td>541</td>\n",
       "      <td>A Brief History of Time</td>\n",
       "      <td>212</td>\n",
       "      <td>1998-09-01</td>\n",
       "      <td>36</td>\n",
       "    </tr>\n",
       "    <tr>\n",
       "      <th>12</th>\n",
       "      <td>13</td>\n",
       "      <td>359</td>\n",
       "      <td>A Caress of Twilight (Merry Gentry  #2)</td>\n",
       "      <td>348</td>\n",
       "      <td>2005-03-15</td>\n",
       "      <td>33</td>\n",
       "    </tr>\n",
       "    <tr>\n",
       "      <th>13</th>\n",
       "      <td>14</td>\n",
       "      <td>85</td>\n",
       "      <td>A Christmas Carol and Other Christmas Writings</td>\n",
       "      <td>288</td>\n",
       "      <td>2003-10-30</td>\n",
       "      <td>217</td>\n",
       "    </tr>\n",
       "    <tr>\n",
       "      <th>14</th>\n",
       "      <td>15</td>\n",
       "      <td>198</td>\n",
       "      <td>A Clash of Kings  (A Song of Ice and Fire  #2)</td>\n",
       "      <td>969</td>\n",
       "      <td>2002-05-28</td>\n",
       "      <td>35</td>\n",
       "    </tr>\n",
       "    <tr>\n",
       "      <th>15</th>\n",
       "      <td>16</td>\n",
       "      <td>505</td>\n",
       "      <td>A Crown of Swords (The Wheel of Time  #7)</td>\n",
       "      <td>880</td>\n",
       "      <td>1997-11-15</td>\n",
       "      <td>297</td>\n",
       "    </tr>\n",
       "    <tr>\n",
       "      <th>16</th>\n",
       "      <td>17</td>\n",
       "      <td>94</td>\n",
       "      <td>A Dirty Job (Grim Reaper  #1)</td>\n",
       "      <td>387</td>\n",
       "      <td>2006-03-21</td>\n",
       "      <td>331</td>\n",
       "    </tr>\n",
       "    <tr>\n",
       "      <th>17</th>\n",
       "      <td>18</td>\n",
       "      <td>129</td>\n",
       "      <td>A Drink Before the War (Kenzie &amp; Gennaro  #1)</td>\n",
       "      <td>282</td>\n",
       "      <td>2003-09-15</td>\n",
       "      <td>178</td>\n",
       "    </tr>\n",
       "    <tr>\n",
       "      <th>18</th>\n",
       "      <td>19</td>\n",
       "      <td>517</td>\n",
       "      <td>A Fine Balance</td>\n",
       "      <td>603</td>\n",
       "      <td>2001-11-30</td>\n",
       "      <td>309</td>\n",
       "    </tr>\n",
       "    <tr>\n",
       "      <th>19</th>\n",
       "      <td>20</td>\n",
       "      <td>349</td>\n",
       "      <td>A Fistful of Charms (The Hollows  #4)</td>\n",
       "      <td>510</td>\n",
       "      <td>2006-06-27</td>\n",
       "      <td>143</td>\n",
       "    </tr>\n",
       "  </tbody>\n",
       "</table>\n",
       "</div>"
      ],
      "text/plain": [
       "    book_id  author_id                                              title  \\\n",
       "0         1        546                                       'Salem's Lot   \n",
       "1         2        465                 1 000 Places to See Before You Die   \n",
       "2         3        407  13 Little Blue Envelopes (Little Blue Envelope...   \n",
       "3         4         82  1491: New Revelations of the Americas Before C...   \n",
       "4         5        125                                               1776   \n",
       "5         6        257               1st to Die (Women's Murder Club  #1)   \n",
       "6         7        258               2nd Chance (Women's Murder Club  #2)   \n",
       "7         8        260              4th of July (Women's Murder Club  #4)   \n",
       "8         9        563                                   A Beautiful Mind   \n",
       "9        10        445                                 A Bend in the Road   \n",
       "10       11        130         A Breath of Snow and Ashes (Outlander  #6)   \n",
       "11       12        541                            A Brief History of Time   \n",
       "12       13        359            A Caress of Twilight (Merry Gentry  #2)   \n",
       "13       14         85     A Christmas Carol and Other Christmas Writings   \n",
       "14       15        198     A Clash of Kings  (A Song of Ice and Fire  #2)   \n",
       "15       16        505          A Crown of Swords (The Wheel of Time  #7)   \n",
       "16       17         94                      A Dirty Job (Grim Reaper  #1)   \n",
       "17       18        129      A Drink Before the War (Kenzie & Gennaro  #1)   \n",
       "18       19        517                                     A Fine Balance   \n",
       "19       20        349              A Fistful of Charms (The Hollows  #4)   \n",
       "\n",
       "    num_pages publication_date  publisher_id  \n",
       "0         594       2005-11-01            93  \n",
       "1         992       2003-05-22           336  \n",
       "2         322       2010-12-21           135  \n",
       "3         541       2006-10-10           309  \n",
       "4         386       2006-07-04           268  \n",
       "5         424       2005-05-20           116  \n",
       "6         400       2005-05-20           116  \n",
       "7         448       2006-06-01           318  \n",
       "8         461       2002-02-04           104  \n",
       "9         341       2005-04-01           116  \n",
       "10        980       2006-08-29            83  \n",
       "11        212       1998-09-01            36  \n",
       "12        348       2005-03-15            33  \n",
       "13        288       2003-10-30           217  \n",
       "14        969       2002-05-28            35  \n",
       "15        880       1997-11-15           297  \n",
       "16        387       2006-03-21           331  \n",
       "17        282       2003-09-15           178  \n",
       "18        603       2001-11-30           309  \n",
       "19        510       2006-06-27           143  "
      ]
     },
     "execution_count": 6,
     "metadata": {},
     "output_type": "execute_result"
    }
   ],
   "source": [
    "pd.io.sql.read_sql(sql, con = engine)"
   ]
  },
  {
   "cell_type": "markdown",
   "id": "9a2d1719",
   "metadata": {},
   "source": [
    "В датасете содержатся названия книг, страницы, дата публикации и айди. Мы можем увидеть, что большинство книг являются достаточно большими, люди очень любят читать, они любят длинные осмысленные книги, в которых есть история, и неважно в каком году даже была эта книга написана, важнее история."
   ]
  },
  {
   "cell_type": "code",
   "execution_count": 7,
   "id": "af84949c",
   "metadata": {},
   "outputs": [],
   "source": [
    "sql = '''SELECT *\n",
    "FROM authors '''"
   ]
  },
  {
   "cell_type": "code",
   "execution_count": 8,
   "id": "250509a2",
   "metadata": {},
   "outputs": [
    {
     "data": {
      "text/html": [
       "<div>\n",
       "<style scoped>\n",
       "    .dataframe tbody tr th:only-of-type {\n",
       "        vertical-align: middle;\n",
       "    }\n",
       "\n",
       "    .dataframe tbody tr th {\n",
       "        vertical-align: top;\n",
       "    }\n",
       "\n",
       "    .dataframe thead th {\n",
       "        text-align: right;\n",
       "    }\n",
       "</style>\n",
       "<table border=\"1\" class=\"dataframe\">\n",
       "  <thead>\n",
       "    <tr style=\"text-align: right;\">\n",
       "      <th></th>\n",
       "      <th>author_id</th>\n",
       "      <th>author</th>\n",
       "    </tr>\n",
       "  </thead>\n",
       "  <tbody>\n",
       "    <tr>\n",
       "      <th>0</th>\n",
       "      <td>1</td>\n",
       "      <td>A.S. Byatt</td>\n",
       "    </tr>\n",
       "    <tr>\n",
       "      <th>1</th>\n",
       "      <td>2</td>\n",
       "      <td>Aesop/Laura Harris/Laura Gibbs</td>\n",
       "    </tr>\n",
       "    <tr>\n",
       "      <th>2</th>\n",
       "      <td>3</td>\n",
       "      <td>Agatha Christie</td>\n",
       "    </tr>\n",
       "    <tr>\n",
       "      <th>3</th>\n",
       "      <td>4</td>\n",
       "      <td>Alan Brennert</td>\n",
       "    </tr>\n",
       "    <tr>\n",
       "      <th>4</th>\n",
       "      <td>5</td>\n",
       "      <td>Alan Moore/David   Lloyd</td>\n",
       "    </tr>\n",
       "    <tr>\n",
       "      <th>...</th>\n",
       "      <td>...</td>\n",
       "      <td>...</td>\n",
       "    </tr>\n",
       "    <tr>\n",
       "      <th>631</th>\n",
       "      <td>632</td>\n",
       "      <td>William Strunk Jr./E.B. White</td>\n",
       "    </tr>\n",
       "    <tr>\n",
       "      <th>632</th>\n",
       "      <td>633</td>\n",
       "      <td>Zadie Smith</td>\n",
       "    </tr>\n",
       "    <tr>\n",
       "      <th>633</th>\n",
       "      <td>634</td>\n",
       "      <td>Zilpha Keatley Snyder</td>\n",
       "    </tr>\n",
       "    <tr>\n",
       "      <th>634</th>\n",
       "      <td>635</td>\n",
       "      <td>Zora Neale Hurston</td>\n",
       "    </tr>\n",
       "    <tr>\n",
       "      <th>635</th>\n",
       "      <td>636</td>\n",
       "      <td>Åsne Seierstad/Ingrid Christopherson</td>\n",
       "    </tr>\n",
       "  </tbody>\n",
       "</table>\n",
       "<p>636 rows × 2 columns</p>\n",
       "</div>"
      ],
      "text/plain": [
       "     author_id                                author\n",
       "0            1                            A.S. Byatt\n",
       "1            2        Aesop/Laura Harris/Laura Gibbs\n",
       "2            3                       Agatha Christie\n",
       "3            4                         Alan Brennert\n",
       "4            5              Alan Moore/David   Lloyd\n",
       "..         ...                                   ...\n",
       "631        632         William Strunk Jr./E.B. White\n",
       "632        633                           Zadie Smith\n",
       "633        634                 Zilpha Keatley Snyder\n",
       "634        635                    Zora Neale Hurston\n",
       "635        636  Åsne Seierstad/Ingrid Christopherson\n",
       "\n",
       "[636 rows x 2 columns]"
      ]
     },
     "execution_count": 8,
     "metadata": {},
     "output_type": "execute_result"
    }
   ],
   "source": [
    "pd.io.sql.read_sql(sql, con = engine)"
   ]
  },
  {
   "cell_type": "markdown",
   "id": "d139af2c",
   "metadata": {},
   "source": [
    "В таблице содержаться большое количество авторов,у каждого из них в таблице есть свой айди."
   ]
  },
  {
   "cell_type": "code",
   "execution_count": 9,
   "id": "20d465f1",
   "metadata": {},
   "outputs": [],
   "source": [
    "sql = '''SELECT *\n",
    "FROM publishers '''"
   ]
  },
  {
   "cell_type": "code",
   "execution_count": 10,
   "id": "a7afe38e",
   "metadata": {},
   "outputs": [
    {
     "data": {
      "text/html": [
       "<div>\n",
       "<style scoped>\n",
       "    .dataframe tbody tr th:only-of-type {\n",
       "        vertical-align: middle;\n",
       "    }\n",
       "\n",
       "    .dataframe tbody tr th {\n",
       "        vertical-align: top;\n",
       "    }\n",
       "\n",
       "    .dataframe thead th {\n",
       "        text-align: right;\n",
       "    }\n",
       "</style>\n",
       "<table border=\"1\" class=\"dataframe\">\n",
       "  <thead>\n",
       "    <tr style=\"text-align: right;\">\n",
       "      <th></th>\n",
       "      <th>publisher_id</th>\n",
       "      <th>publisher</th>\n",
       "    </tr>\n",
       "  </thead>\n",
       "  <tbody>\n",
       "    <tr>\n",
       "      <th>0</th>\n",
       "      <td>1</td>\n",
       "      <td>Ace</td>\n",
       "    </tr>\n",
       "    <tr>\n",
       "      <th>1</th>\n",
       "      <td>2</td>\n",
       "      <td>Ace Book</td>\n",
       "    </tr>\n",
       "    <tr>\n",
       "      <th>2</th>\n",
       "      <td>3</td>\n",
       "      <td>Ace Books</td>\n",
       "    </tr>\n",
       "    <tr>\n",
       "      <th>3</th>\n",
       "      <td>4</td>\n",
       "      <td>Ace Hardcover</td>\n",
       "    </tr>\n",
       "    <tr>\n",
       "      <th>4</th>\n",
       "      <td>5</td>\n",
       "      <td>Addison Wesley Publishing Company</td>\n",
       "    </tr>\n",
       "    <tr>\n",
       "      <th>...</th>\n",
       "      <td>...</td>\n",
       "      <td>...</td>\n",
       "    </tr>\n",
       "    <tr>\n",
       "      <th>335</th>\n",
       "      <td>336</td>\n",
       "      <td>Workman Publishing Company</td>\n",
       "    </tr>\n",
       "    <tr>\n",
       "      <th>336</th>\n",
       "      <td>337</td>\n",
       "      <td>Wyatt Book</td>\n",
       "    </tr>\n",
       "    <tr>\n",
       "      <th>337</th>\n",
       "      <td>338</td>\n",
       "      <td>Yale University Press</td>\n",
       "    </tr>\n",
       "    <tr>\n",
       "      <th>338</th>\n",
       "      <td>339</td>\n",
       "      <td>Yearling</td>\n",
       "    </tr>\n",
       "    <tr>\n",
       "      <th>339</th>\n",
       "      <td>340</td>\n",
       "      <td>Yearling Books</td>\n",
       "    </tr>\n",
       "  </tbody>\n",
       "</table>\n",
       "<p>340 rows × 2 columns</p>\n",
       "</div>"
      ],
      "text/plain": [
       "     publisher_id                          publisher\n",
       "0               1                                Ace\n",
       "1               2                           Ace Book\n",
       "2               3                          Ace Books\n",
       "3               4                      Ace Hardcover\n",
       "4               5  Addison Wesley Publishing Company\n",
       "..            ...                                ...\n",
       "335           336         Workman Publishing Company\n",
       "336           337                         Wyatt Book\n",
       "337           338              Yale University Press\n",
       "338           339                           Yearling\n",
       "339           340                     Yearling Books\n",
       "\n",
       "[340 rows x 2 columns]"
      ]
     },
     "execution_count": 10,
     "metadata": {},
     "output_type": "execute_result"
    }
   ],
   "source": [
    "pd.io.sql.read_sql(sql, con = engine)"
   ]
  },
  {
   "cell_type": "markdown",
   "id": "89616c5e",
   "metadata": {},
   "source": [
    "Также в таблице имеется большое количество издательств. Каждое из них как ячейка для хранения большого количества книг. Мы можем заполнить каждую эту ячейку не одной очень интересной историей."
   ]
  },
  {
   "cell_type": "code",
   "execution_count": 11,
   "id": "59b04fde",
   "metadata": {},
   "outputs": [],
   "source": [
    "sql = '''SELECT *\n",
    "FROM ratings LIMIT 20'''"
   ]
  },
  {
   "cell_type": "code",
   "execution_count": 12,
   "id": "fb0ff3b2",
   "metadata": {},
   "outputs": [
    {
     "data": {
      "text/html": [
       "<div>\n",
       "<style scoped>\n",
       "    .dataframe tbody tr th:only-of-type {\n",
       "        vertical-align: middle;\n",
       "    }\n",
       "\n",
       "    .dataframe tbody tr th {\n",
       "        vertical-align: top;\n",
       "    }\n",
       "\n",
       "    .dataframe thead th {\n",
       "        text-align: right;\n",
       "    }\n",
       "</style>\n",
       "<table border=\"1\" class=\"dataframe\">\n",
       "  <thead>\n",
       "    <tr style=\"text-align: right;\">\n",
       "      <th></th>\n",
       "      <th>rating_id</th>\n",
       "      <th>book_id</th>\n",
       "      <th>username</th>\n",
       "      <th>rating</th>\n",
       "    </tr>\n",
       "  </thead>\n",
       "  <tbody>\n",
       "    <tr>\n",
       "      <th>0</th>\n",
       "      <td>1</td>\n",
       "      <td>1</td>\n",
       "      <td>ryanfranco</td>\n",
       "      <td>4</td>\n",
       "    </tr>\n",
       "    <tr>\n",
       "      <th>1</th>\n",
       "      <td>2</td>\n",
       "      <td>1</td>\n",
       "      <td>grantpatricia</td>\n",
       "      <td>2</td>\n",
       "    </tr>\n",
       "    <tr>\n",
       "      <th>2</th>\n",
       "      <td>3</td>\n",
       "      <td>1</td>\n",
       "      <td>brandtandrea</td>\n",
       "      <td>5</td>\n",
       "    </tr>\n",
       "    <tr>\n",
       "      <th>3</th>\n",
       "      <td>4</td>\n",
       "      <td>2</td>\n",
       "      <td>lorichen</td>\n",
       "      <td>3</td>\n",
       "    </tr>\n",
       "    <tr>\n",
       "      <th>4</th>\n",
       "      <td>5</td>\n",
       "      <td>2</td>\n",
       "      <td>mariokeller</td>\n",
       "      <td>2</td>\n",
       "    </tr>\n",
       "    <tr>\n",
       "      <th>5</th>\n",
       "      <td>6</td>\n",
       "      <td>3</td>\n",
       "      <td>johnsonamanda</td>\n",
       "      <td>4</td>\n",
       "    </tr>\n",
       "    <tr>\n",
       "      <th>6</th>\n",
       "      <td>7</td>\n",
       "      <td>3</td>\n",
       "      <td>scotttamara</td>\n",
       "      <td>5</td>\n",
       "    </tr>\n",
       "    <tr>\n",
       "      <th>7</th>\n",
       "      <td>8</td>\n",
       "      <td>3</td>\n",
       "      <td>lesliegibbs</td>\n",
       "      <td>5</td>\n",
       "    </tr>\n",
       "    <tr>\n",
       "      <th>8</th>\n",
       "      <td>9</td>\n",
       "      <td>4</td>\n",
       "      <td>abbottjames</td>\n",
       "      <td>5</td>\n",
       "    </tr>\n",
       "    <tr>\n",
       "      <th>9</th>\n",
       "      <td>10</td>\n",
       "      <td>4</td>\n",
       "      <td>valenciaanne</td>\n",
       "      <td>4</td>\n",
       "    </tr>\n",
       "    <tr>\n",
       "      <th>10</th>\n",
       "      <td>11</td>\n",
       "      <td>5</td>\n",
       "      <td>jeromebowen</td>\n",
       "      <td>4</td>\n",
       "    </tr>\n",
       "    <tr>\n",
       "      <th>11</th>\n",
       "      <td>12</td>\n",
       "      <td>5</td>\n",
       "      <td>staylor</td>\n",
       "      <td>4</td>\n",
       "    </tr>\n",
       "    <tr>\n",
       "      <th>12</th>\n",
       "      <td>13</td>\n",
       "      <td>5</td>\n",
       "      <td>susan85</td>\n",
       "      <td>3</td>\n",
       "    </tr>\n",
       "    <tr>\n",
       "      <th>13</th>\n",
       "      <td>14</td>\n",
       "      <td>5</td>\n",
       "      <td>npowers</td>\n",
       "      <td>4</td>\n",
       "    </tr>\n",
       "    <tr>\n",
       "      <th>14</th>\n",
       "      <td>15</td>\n",
       "      <td>5</td>\n",
       "      <td>znelson</td>\n",
       "      <td>5</td>\n",
       "    </tr>\n",
       "    <tr>\n",
       "      <th>15</th>\n",
       "      <td>16</td>\n",
       "      <td>5</td>\n",
       "      <td>thomas49</td>\n",
       "      <td>4</td>\n",
       "    </tr>\n",
       "    <tr>\n",
       "      <th>16</th>\n",
       "      <td>17</td>\n",
       "      <td>6</td>\n",
       "      <td>eallen</td>\n",
       "      <td>2</td>\n",
       "    </tr>\n",
       "    <tr>\n",
       "      <th>17</th>\n",
       "      <td>18</td>\n",
       "      <td>6</td>\n",
       "      <td>shermannatalie</td>\n",
       "      <td>3</td>\n",
       "    </tr>\n",
       "    <tr>\n",
       "      <th>18</th>\n",
       "      <td>19</td>\n",
       "      <td>6</td>\n",
       "      <td>martinadam</td>\n",
       "      <td>3</td>\n",
       "    </tr>\n",
       "    <tr>\n",
       "      <th>19</th>\n",
       "      <td>20</td>\n",
       "      <td>6</td>\n",
       "      <td>serranoangela</td>\n",
       "      <td>5</td>\n",
       "    </tr>\n",
       "  </tbody>\n",
       "</table>\n",
       "</div>"
      ],
      "text/plain": [
       "    rating_id  book_id        username  rating\n",
       "0           1        1      ryanfranco       4\n",
       "1           2        1   grantpatricia       2\n",
       "2           3        1    brandtandrea       5\n",
       "3           4        2        lorichen       3\n",
       "4           5        2     mariokeller       2\n",
       "5           6        3   johnsonamanda       4\n",
       "6           7        3     scotttamara       5\n",
       "7           8        3     lesliegibbs       5\n",
       "8           9        4     abbottjames       5\n",
       "9          10        4    valenciaanne       4\n",
       "10         11        5     jeromebowen       4\n",
       "11         12        5         staylor       4\n",
       "12         13        5         susan85       3\n",
       "13         14        5         npowers       4\n",
       "14         15        5         znelson       5\n",
       "15         16        5        thomas49       4\n",
       "16         17        6          eallen       2\n",
       "17         18        6  shermannatalie       3\n",
       "18         19        6      martinadam       3\n",
       "19         20        6   serranoangela       5"
      ]
     },
     "execution_count": 12,
     "metadata": {},
     "output_type": "execute_result"
    }
   ],
   "source": [
    "pd.io.sql.read_sql(sql, con = engine)"
   ]
  },
  {
   "cell_type": "markdown",
   "id": "6d4e1f82",
   "metadata": {},
   "source": [
    "У каждой книги есть свой читатель, который вносит в нее свою оценку, далее эта оценка может использоваться другими людьми для понимания того насколько желаемо прочтение , поэтому оценки могут мотивировать одних людей читать новые книги, и делать их еще более желанными для других."
   ]
  },
  {
   "cell_type": "code",
   "execution_count": 13,
   "id": "e9fafc69",
   "metadata": {},
   "outputs": [],
   "source": [
    "sql = '''SELECT *\n",
    "FROM reviews LIMIT 20'''"
   ]
  },
  {
   "cell_type": "code",
   "execution_count": 14,
   "id": "b5697962",
   "metadata": {},
   "outputs": [
    {
     "data": {
      "text/html": [
       "<div>\n",
       "<style scoped>\n",
       "    .dataframe tbody tr th:only-of-type {\n",
       "        vertical-align: middle;\n",
       "    }\n",
       "\n",
       "    .dataframe tbody tr th {\n",
       "        vertical-align: top;\n",
       "    }\n",
       "\n",
       "    .dataframe thead th {\n",
       "        text-align: right;\n",
       "    }\n",
       "</style>\n",
       "<table border=\"1\" class=\"dataframe\">\n",
       "  <thead>\n",
       "    <tr style=\"text-align: right;\">\n",
       "      <th></th>\n",
       "      <th>review_id</th>\n",
       "      <th>book_id</th>\n",
       "      <th>username</th>\n",
       "      <th>text</th>\n",
       "    </tr>\n",
       "  </thead>\n",
       "  <tbody>\n",
       "    <tr>\n",
       "      <th>0</th>\n",
       "      <td>1</td>\n",
       "      <td>1</td>\n",
       "      <td>brandtandrea</td>\n",
       "      <td>Mention society tell send professor analysis. ...</td>\n",
       "    </tr>\n",
       "    <tr>\n",
       "      <th>1</th>\n",
       "      <td>2</td>\n",
       "      <td>1</td>\n",
       "      <td>ryanfranco</td>\n",
       "      <td>Foot glass pretty audience hit themselves. Amo...</td>\n",
       "    </tr>\n",
       "    <tr>\n",
       "      <th>2</th>\n",
       "      <td>3</td>\n",
       "      <td>2</td>\n",
       "      <td>lorichen</td>\n",
       "      <td>Listen treat keep worry. Miss husband tax but ...</td>\n",
       "    </tr>\n",
       "    <tr>\n",
       "      <th>3</th>\n",
       "      <td>4</td>\n",
       "      <td>3</td>\n",
       "      <td>johnsonamanda</td>\n",
       "      <td>Finally month interesting blue could nature cu...</td>\n",
       "    </tr>\n",
       "    <tr>\n",
       "      <th>4</th>\n",
       "      <td>5</td>\n",
       "      <td>3</td>\n",
       "      <td>scotttamara</td>\n",
       "      <td>Nation purpose heavy give wait song will. List...</td>\n",
       "    </tr>\n",
       "    <tr>\n",
       "      <th>5</th>\n",
       "      <td>6</td>\n",
       "      <td>3</td>\n",
       "      <td>lesliegibbs</td>\n",
       "      <td>Analysis no several cause international.</td>\n",
       "    </tr>\n",
       "    <tr>\n",
       "      <th>6</th>\n",
       "      <td>7</td>\n",
       "      <td>4</td>\n",
       "      <td>valenciaanne</td>\n",
       "      <td>One there cost another. Say type save. With pe...</td>\n",
       "    </tr>\n",
       "    <tr>\n",
       "      <th>7</th>\n",
       "      <td>8</td>\n",
       "      <td>4</td>\n",
       "      <td>abbottjames</td>\n",
       "      <td>Within enough mother. There at system full rec...</td>\n",
       "    </tr>\n",
       "    <tr>\n",
       "      <th>8</th>\n",
       "      <td>9</td>\n",
       "      <td>5</td>\n",
       "      <td>npowers</td>\n",
       "      <td>Thank now focus realize economy focus fly. Ite...</td>\n",
       "    </tr>\n",
       "    <tr>\n",
       "      <th>9</th>\n",
       "      <td>10</td>\n",
       "      <td>5</td>\n",
       "      <td>staylor</td>\n",
       "      <td>Game push lot reduce where remember. Including...</td>\n",
       "    </tr>\n",
       "    <tr>\n",
       "      <th>10</th>\n",
       "      <td>11</td>\n",
       "      <td>5</td>\n",
       "      <td>thomas49</td>\n",
       "      <td>Their physical over rise. Couple doctor seven ...</td>\n",
       "    </tr>\n",
       "    <tr>\n",
       "      <th>11</th>\n",
       "      <td>12</td>\n",
       "      <td>5</td>\n",
       "      <td>znelson</td>\n",
       "      <td>Explain individual record wonder we must turn ...</td>\n",
       "    </tr>\n",
       "    <tr>\n",
       "      <th>12</th>\n",
       "      <td>13</td>\n",
       "      <td>6</td>\n",
       "      <td>walter49</td>\n",
       "      <td>Western anyone until executive. Add teach ago ...</td>\n",
       "    </tr>\n",
       "    <tr>\n",
       "      <th>13</th>\n",
       "      <td>14</td>\n",
       "      <td>6</td>\n",
       "      <td>jasongoodman</td>\n",
       "      <td>Much responsibility feel fund media. Wind musi...</td>\n",
       "    </tr>\n",
       "    <tr>\n",
       "      <th>14</th>\n",
       "      <td>15</td>\n",
       "      <td>6</td>\n",
       "      <td>eallen</td>\n",
       "      <td>Money arm first above.</td>\n",
       "    </tr>\n",
       "    <tr>\n",
       "      <th>15</th>\n",
       "      <td>16</td>\n",
       "      <td>6</td>\n",
       "      <td>sfitzgerald</td>\n",
       "      <td>Miss effort gun strong surface civil. Resource...</td>\n",
       "    </tr>\n",
       "    <tr>\n",
       "      <th>16</th>\n",
       "      <td>17</td>\n",
       "      <td>7</td>\n",
       "      <td>carla64</td>\n",
       "      <td>Poor have radio environment it reduce build. S...</td>\n",
       "    </tr>\n",
       "    <tr>\n",
       "      <th>17</th>\n",
       "      <td>18</td>\n",
       "      <td>7</td>\n",
       "      <td>kevin78</td>\n",
       "      <td>Feel really serve quickly fight. Anyone daught...</td>\n",
       "    </tr>\n",
       "    <tr>\n",
       "      <th>18</th>\n",
       "      <td>19</td>\n",
       "      <td>7</td>\n",
       "      <td>robert56</td>\n",
       "      <td>Energy doctor cup. Nice low room out other.</td>\n",
       "    </tr>\n",
       "    <tr>\n",
       "      <th>19</th>\n",
       "      <td>20</td>\n",
       "      <td>8</td>\n",
       "      <td>richard89</td>\n",
       "      <td>Sister statement than reflect. Crime hot guess...</td>\n",
       "    </tr>\n",
       "  </tbody>\n",
       "</table>\n",
       "</div>"
      ],
      "text/plain": [
       "    review_id  book_id       username  \\\n",
       "0           1        1   brandtandrea   \n",
       "1           2        1     ryanfranco   \n",
       "2           3        2       lorichen   \n",
       "3           4        3  johnsonamanda   \n",
       "4           5        3    scotttamara   \n",
       "5           6        3    lesliegibbs   \n",
       "6           7        4   valenciaanne   \n",
       "7           8        4    abbottjames   \n",
       "8           9        5        npowers   \n",
       "9          10        5        staylor   \n",
       "10         11        5       thomas49   \n",
       "11         12        5        znelson   \n",
       "12         13        6       walter49   \n",
       "13         14        6   jasongoodman   \n",
       "14         15        6         eallen   \n",
       "15         16        6    sfitzgerald   \n",
       "16         17        7        carla64   \n",
       "17         18        7        kevin78   \n",
       "18         19        7       robert56   \n",
       "19         20        8      richard89   \n",
       "\n",
       "                                                 text  \n",
       "0   Mention society tell send professor analysis. ...  \n",
       "1   Foot glass pretty audience hit themselves. Amo...  \n",
       "2   Listen treat keep worry. Miss husband tax but ...  \n",
       "3   Finally month interesting blue could nature cu...  \n",
       "4   Nation purpose heavy give wait song will. List...  \n",
       "5            Analysis no several cause international.  \n",
       "6   One there cost another. Say type save. With pe...  \n",
       "7   Within enough mother. There at system full rec...  \n",
       "8   Thank now focus realize economy focus fly. Ite...  \n",
       "9   Game push lot reduce where remember. Including...  \n",
       "10  Their physical over rise. Couple doctor seven ...  \n",
       "11  Explain individual record wonder we must turn ...  \n",
       "12  Western anyone until executive. Add teach ago ...  \n",
       "13  Much responsibility feel fund media. Wind musi...  \n",
       "14                             Money arm first above.  \n",
       "15  Miss effort gun strong surface civil. Resource...  \n",
       "16  Poor have radio environment it reduce build. S...  \n",
       "17  Feel really serve quickly fight. Anyone daught...  \n",
       "18        Energy doctor cup. Nice low room out other.  \n",
       "19  Sister statement than reflect. Crime hot guess...  "
      ]
     },
     "execution_count": 14,
     "metadata": {},
     "output_type": "execute_result"
    }
   ],
   "source": [
    "pd.io.sql.read_sql(sql, con = engine)"
   ]
  },
  {
   "cell_type": "markdown",
   "id": "c7e9be86",
   "metadata": {},
   "source": [
    "Мы можем также изучить обзор на книги, которые создают еще одну важную часть истории перед прочтением книги, поэтому каждый обзор очень важен, один обзор способен внести больше желания чем 100 оценок, умение красиво передавать мысли создает желание заполучить то, что стоит за этими словами."
   ]
  },
  {
   "cell_type": "code",
   "execution_count": 15,
   "id": "d5df2de2",
   "metadata": {},
   "outputs": [
    {
     "name": "stdout",
     "output_type": "stream",
     "text": [
      "SELECT reltuples AS estimate FROM pg_class WHERE relname = 'books';\n"
     ]
    },
    {
     "data": {
      "text/html": [
       "<div>\n",
       "<style scoped>\n",
       "    .dataframe tbody tr th:only-of-type {\n",
       "        vertical-align: middle;\n",
       "    }\n",
       "\n",
       "    .dataframe tbody tr th {\n",
       "        vertical-align: top;\n",
       "    }\n",
       "\n",
       "    .dataframe thead th {\n",
       "        text-align: right;\n",
       "    }\n",
       "</style>\n",
       "<table border=\"1\" class=\"dataframe\">\n",
       "  <thead>\n",
       "    <tr style=\"text-align: right;\">\n",
       "      <th></th>\n",
       "      <th>estimate</th>\n",
       "    </tr>\n",
       "  </thead>\n",
       "  <tbody>\n",
       "    <tr>\n",
       "      <th>0</th>\n",
       "      <td>1000.0</td>\n",
       "    </tr>\n",
       "  </tbody>\n",
       "</table>\n",
       "</div>"
      ],
      "text/plain": [
       "   estimate\n",
       "0    1000.0"
      ]
     },
     "metadata": {},
     "output_type": "display_data"
    },
    {
     "name": "stdout",
     "output_type": "stream",
     "text": [
      "\n",
      "SELECT *\n",
      "FROM information_schema.\"columns\" c \n",
      "WHERE table_name = 'books';\n"
     ]
    },
    {
     "data": {
      "text/html": [
       "<div>\n",
       "<style scoped>\n",
       "    .dataframe tbody tr th:only-of-type {\n",
       "        vertical-align: middle;\n",
       "    }\n",
       "\n",
       "    .dataframe tbody tr th {\n",
       "        vertical-align: top;\n",
       "    }\n",
       "\n",
       "    .dataframe thead th {\n",
       "        text-align: right;\n",
       "    }\n",
       "</style>\n",
       "<table border=\"1\" class=\"dataframe\">\n",
       "  <thead>\n",
       "    <tr style=\"text-align: right;\">\n",
       "      <th></th>\n",
       "      <th>table_catalog</th>\n",
       "      <th>table_schema</th>\n",
       "      <th>table_name</th>\n",
       "      <th>column_name</th>\n",
       "      <th>ordinal_position</th>\n",
       "      <th>column_default</th>\n",
       "      <th>is_nullable</th>\n",
       "      <th>data_type</th>\n",
       "      <th>character_maximum_length</th>\n",
       "      <th>character_octet_length</th>\n",
       "      <th>...</th>\n",
       "      <th>is_identity</th>\n",
       "      <th>identity_generation</th>\n",
       "      <th>identity_start</th>\n",
       "      <th>identity_increment</th>\n",
       "      <th>identity_maximum</th>\n",
       "      <th>identity_minimum</th>\n",
       "      <th>identity_cycle</th>\n",
       "      <th>is_generated</th>\n",
       "      <th>generation_expression</th>\n",
       "      <th>is_updatable</th>\n",
       "    </tr>\n",
       "  </thead>\n",
       "  <tbody>\n",
       "    <tr>\n",
       "      <th>0</th>\n",
       "      <td>data-analyst-final-project-db</td>\n",
       "      <td>public</td>\n",
       "      <td>books</td>\n",
       "      <td>book_id</td>\n",
       "      <td>1</td>\n",
       "      <td>None</td>\n",
       "      <td>NO</td>\n",
       "      <td>integer</td>\n",
       "      <td>None</td>\n",
       "      <td>NaN</td>\n",
       "      <td>...</td>\n",
       "      <td>NO</td>\n",
       "      <td>None</td>\n",
       "      <td>None</td>\n",
       "      <td>None</td>\n",
       "      <td>None</td>\n",
       "      <td>None</td>\n",
       "      <td>NO</td>\n",
       "      <td>NEVER</td>\n",
       "      <td>None</td>\n",
       "      <td>YES</td>\n",
       "    </tr>\n",
       "    <tr>\n",
       "      <th>1</th>\n",
       "      <td>data-analyst-final-project-db</td>\n",
       "      <td>public</td>\n",
       "      <td>books</td>\n",
       "      <td>author_id</td>\n",
       "      <td>2</td>\n",
       "      <td>None</td>\n",
       "      <td>YES</td>\n",
       "      <td>integer</td>\n",
       "      <td>None</td>\n",
       "      <td>NaN</td>\n",
       "      <td>...</td>\n",
       "      <td>NO</td>\n",
       "      <td>None</td>\n",
       "      <td>None</td>\n",
       "      <td>None</td>\n",
       "      <td>None</td>\n",
       "      <td>None</td>\n",
       "      <td>NO</td>\n",
       "      <td>NEVER</td>\n",
       "      <td>None</td>\n",
       "      <td>YES</td>\n",
       "    </tr>\n",
       "    <tr>\n",
       "      <th>2</th>\n",
       "      <td>data-analyst-final-project-db</td>\n",
       "      <td>public</td>\n",
       "      <td>books</td>\n",
       "      <td>title</td>\n",
       "      <td>3</td>\n",
       "      <td>None</td>\n",
       "      <td>YES</td>\n",
       "      <td>text</td>\n",
       "      <td>None</td>\n",
       "      <td>1.073742e+09</td>\n",
       "      <td>...</td>\n",
       "      <td>NO</td>\n",
       "      <td>None</td>\n",
       "      <td>None</td>\n",
       "      <td>None</td>\n",
       "      <td>None</td>\n",
       "      <td>None</td>\n",
       "      <td>NO</td>\n",
       "      <td>NEVER</td>\n",
       "      <td>None</td>\n",
       "      <td>YES</td>\n",
       "    </tr>\n",
       "    <tr>\n",
       "      <th>3</th>\n",
       "      <td>data-analyst-final-project-db</td>\n",
       "      <td>public</td>\n",
       "      <td>books</td>\n",
       "      <td>num_pages</td>\n",
       "      <td>4</td>\n",
       "      <td>None</td>\n",
       "      <td>YES</td>\n",
       "      <td>integer</td>\n",
       "      <td>None</td>\n",
       "      <td>NaN</td>\n",
       "      <td>...</td>\n",
       "      <td>NO</td>\n",
       "      <td>None</td>\n",
       "      <td>None</td>\n",
       "      <td>None</td>\n",
       "      <td>None</td>\n",
       "      <td>None</td>\n",
       "      <td>NO</td>\n",
       "      <td>NEVER</td>\n",
       "      <td>None</td>\n",
       "      <td>YES</td>\n",
       "    </tr>\n",
       "    <tr>\n",
       "      <th>4</th>\n",
       "      <td>data-analyst-final-project-db</td>\n",
       "      <td>public</td>\n",
       "      <td>books</td>\n",
       "      <td>publication_date</td>\n",
       "      <td>5</td>\n",
       "      <td>None</td>\n",
       "      <td>YES</td>\n",
       "      <td>date</td>\n",
       "      <td>None</td>\n",
       "      <td>NaN</td>\n",
       "      <td>...</td>\n",
       "      <td>NO</td>\n",
       "      <td>None</td>\n",
       "      <td>None</td>\n",
       "      <td>None</td>\n",
       "      <td>None</td>\n",
       "      <td>None</td>\n",
       "      <td>NO</td>\n",
       "      <td>NEVER</td>\n",
       "      <td>None</td>\n",
       "      <td>YES</td>\n",
       "    </tr>\n",
       "    <tr>\n",
       "      <th>5</th>\n",
       "      <td>data-analyst-final-project-db</td>\n",
       "      <td>public</td>\n",
       "      <td>books</td>\n",
       "      <td>publisher_id</td>\n",
       "      <td>6</td>\n",
       "      <td>None</td>\n",
       "      <td>YES</td>\n",
       "      <td>integer</td>\n",
       "      <td>None</td>\n",
       "      <td>NaN</td>\n",
       "      <td>...</td>\n",
       "      <td>NO</td>\n",
       "      <td>None</td>\n",
       "      <td>None</td>\n",
       "      <td>None</td>\n",
       "      <td>None</td>\n",
       "      <td>None</td>\n",
       "      <td>NO</td>\n",
       "      <td>NEVER</td>\n",
       "      <td>None</td>\n",
       "      <td>YES</td>\n",
       "    </tr>\n",
       "  </tbody>\n",
       "</table>\n",
       "<p>6 rows × 44 columns</p>\n",
       "</div>"
      ],
      "text/plain": [
       "                   table_catalog table_schema table_name       column_name  \\\n",
       "0  data-analyst-final-project-db       public      books           book_id   \n",
       "1  data-analyst-final-project-db       public      books         author_id   \n",
       "2  data-analyst-final-project-db       public      books             title   \n",
       "3  data-analyst-final-project-db       public      books         num_pages   \n",
       "4  data-analyst-final-project-db       public      books  publication_date   \n",
       "5  data-analyst-final-project-db       public      books      publisher_id   \n",
       "\n",
       "   ordinal_position column_default is_nullable data_type  \\\n",
       "0                 1           None          NO   integer   \n",
       "1                 2           None         YES   integer   \n",
       "2                 3           None         YES      text   \n",
       "3                 4           None         YES   integer   \n",
       "4                 5           None         YES      date   \n",
       "5                 6           None         YES   integer   \n",
       "\n",
       "  character_maximum_length  character_octet_length  ...  is_identity  \\\n",
       "0                     None                     NaN  ...           NO   \n",
       "1                     None                     NaN  ...           NO   \n",
       "2                     None            1.073742e+09  ...           NO   \n",
       "3                     None                     NaN  ...           NO   \n",
       "4                     None                     NaN  ...           NO   \n",
       "5                     None                     NaN  ...           NO   \n",
       "\n",
       "   identity_generation  identity_start  identity_increment identity_maximum  \\\n",
       "0                 None            None                None             None   \n",
       "1                 None            None                None             None   \n",
       "2                 None            None                None             None   \n",
       "3                 None            None                None             None   \n",
       "4                 None            None                None             None   \n",
       "5                 None            None                None             None   \n",
       "\n",
       "  identity_minimum identity_cycle is_generated generation_expression  \\\n",
       "0             None             NO        NEVER                  None   \n",
       "1             None             NO        NEVER                  None   \n",
       "2             None             NO        NEVER                  None   \n",
       "3             None             NO        NEVER                  None   \n",
       "4             None             NO        NEVER                  None   \n",
       "5             None             NO        NEVER                  None   \n",
       "\n",
       "  is_updatable  \n",
       "0          YES  \n",
       "1          YES  \n",
       "2          YES  \n",
       "3          YES  \n",
       "4          YES  \n",
       "5          YES  \n",
       "\n",
       "[6 rows x 44 columns]"
      ]
     },
     "metadata": {},
     "output_type": "display_data"
    },
    {
     "name": "stdout",
     "output_type": "stream",
     "text": [
      "\n"
     ]
    }
   ],
   "source": [
    "#CODE REVIEW\n",
    "queries = [\"\"\"SELECT reltuples AS estimate FROM pg_class WHERE relname = 'books';\"\"\",\n",
    "           \"\"\"SELECT *\n",
    "FROM information_schema.\"columns\" c \n",
    "WHERE table_name = 'books';\"\"\"\n",
    "          ]\n",
    "\n",
    "for q in queries:\n",
    "    print(q)\n",
    "    with engine.connect() as con:\n",
    "        res = con.execute(q)\n",
    "        df = pd.DataFrame(res, columns=res.keys())\n",
    "        display(df)\n",
    "        print()"
   ]
  },
  {
   "cell_type": "markdown",
   "id": "15948d6e",
   "metadata": {},
   "source": [
    "Посчитать, сколько книг вышло после 1 января 2000 года."
   ]
  },
  {
   "cell_type": "code",
   "execution_count": 16,
   "id": "e5b4d344",
   "metadata": {},
   "outputs": [],
   "source": [
    "sql = '''SELECT COUNT(publication_date)\n",
    "FROM Books WHERE publication_date > '2000-01-01' '''"
   ]
  },
  {
   "cell_type": "code",
   "execution_count": 17,
   "id": "c325b849",
   "metadata": {},
   "outputs": [
    {
     "data": {
      "text/html": [
       "<div>\n",
       "<style scoped>\n",
       "    .dataframe tbody tr th:only-of-type {\n",
       "        vertical-align: middle;\n",
       "    }\n",
       "\n",
       "    .dataframe tbody tr th {\n",
       "        vertical-align: top;\n",
       "    }\n",
       "\n",
       "    .dataframe thead th {\n",
       "        text-align: right;\n",
       "    }\n",
       "</style>\n",
       "<table border=\"1\" class=\"dataframe\">\n",
       "  <thead>\n",
       "    <tr style=\"text-align: right;\">\n",
       "      <th></th>\n",
       "      <th>count</th>\n",
       "    </tr>\n",
       "  </thead>\n",
       "  <tbody>\n",
       "    <tr>\n",
       "      <th>0</th>\n",
       "      <td>819</td>\n",
       "    </tr>\n",
       "  </tbody>\n",
       "</table>\n",
       "</div>"
      ],
      "text/plain": [
       "   count\n",
       "0    819"
      ]
     },
     "execution_count": 17,
     "metadata": {},
     "output_type": "execute_result"
    }
   ],
   "source": [
    "pd.io.sql.read_sql(sql, con = engine)"
   ]
  },
  {
   "cell_type": "markdown",
   "id": "b886016c",
   "metadata": {},
   "source": [
    "После 1 января было выпущено 819 книг, это не так много, мы могли бы увеличить оборот книг, привлечь к нашему сайту новых авторов, талантливых и обладающих универсальным и современным мышлением, чтобы поднять эту планку."
   ]
  },
  {
   "cell_type": "markdown",
   "id": "d77dc8bb",
   "metadata": {},
   "source": [
    "Для каждой книги посчитать количество обзоров и среднюю оценку."
   ]
  },
  {
   "cell_type": "code",
   "execution_count": 18,
   "id": "aa3fb75a",
   "metadata": {},
   "outputs": [],
   "source": [
    "sql = '''SELECT b.title, AVG(r.rating), COUNT(re.review_id)\n",
    "FROM books AS b\n",
    "LEFT JOIN ratings AS r ON b.book_id = r.book_id\n",
    "LEFT JOIN reviews AS re ON b.book_id = re.book_id\n",
    "GROUP BY b.book_id\n",
    "ORDER BY avg DESC '''"
   ]
  },
  {
   "cell_type": "code",
   "execution_count": 19,
   "id": "12f80791",
   "metadata": {},
   "outputs": [
    {
     "data": {
      "text/html": [
       "<div>\n",
       "<style scoped>\n",
       "    .dataframe tbody tr th:only-of-type {\n",
       "        vertical-align: middle;\n",
       "    }\n",
       "\n",
       "    .dataframe tbody tr th {\n",
       "        vertical-align: top;\n",
       "    }\n",
       "\n",
       "    .dataframe thead th {\n",
       "        text-align: right;\n",
       "    }\n",
       "</style>\n",
       "<table border=\"1\" class=\"dataframe\">\n",
       "  <thead>\n",
       "    <tr style=\"text-align: right;\">\n",
       "      <th></th>\n",
       "      <th>title</th>\n",
       "      <th>avg</th>\n",
       "      <th>count</th>\n",
       "    </tr>\n",
       "  </thead>\n",
       "  <tbody>\n",
       "    <tr>\n",
       "      <th>0</th>\n",
       "      <td>Pop Goes the Weasel (Alex Cross  #5)</td>\n",
       "      <td>5.00</td>\n",
       "      <td>4</td>\n",
       "    </tr>\n",
       "    <tr>\n",
       "      <th>1</th>\n",
       "      <td>The Ghost Map: The Story of London's Most Terr...</td>\n",
       "      <td>5.00</td>\n",
       "      <td>4</td>\n",
       "    </tr>\n",
       "    <tr>\n",
       "      <th>2</th>\n",
       "      <td>In the Hand of the Goddess (Song of the Liones...</td>\n",
       "      <td>5.00</td>\n",
       "      <td>6</td>\n",
       "    </tr>\n",
       "    <tr>\n",
       "      <th>3</th>\n",
       "      <td>Tai-Pan (Asian Saga  #2)</td>\n",
       "      <td>5.00</td>\n",
       "      <td>4</td>\n",
       "    </tr>\n",
       "    <tr>\n",
       "      <th>4</th>\n",
       "      <td>How to Be a Domestic Goddess: Baking and the A...</td>\n",
       "      <td>5.00</td>\n",
       "      <td>2</td>\n",
       "    </tr>\n",
       "    <tr>\n",
       "      <th>...</th>\n",
       "      <td>...</td>\n",
       "      <td>...</td>\n",
       "      <td>...</td>\n",
       "    </tr>\n",
       "    <tr>\n",
       "      <th>995</th>\n",
       "      <td>The World Is Flat: A Brief History of the Twen...</td>\n",
       "      <td>2.25</td>\n",
       "      <td>12</td>\n",
       "    </tr>\n",
       "    <tr>\n",
       "      <th>996</th>\n",
       "      <td>Junky</td>\n",
       "      <td>2.00</td>\n",
       "      <td>4</td>\n",
       "    </tr>\n",
       "    <tr>\n",
       "      <th>997</th>\n",
       "      <td>His Excellency: George Washington</td>\n",
       "      <td>2.00</td>\n",
       "      <td>4</td>\n",
       "    </tr>\n",
       "    <tr>\n",
       "      <th>998</th>\n",
       "      <td>Drowning Ruth</td>\n",
       "      <td>2.00</td>\n",
       "      <td>9</td>\n",
       "    </tr>\n",
       "    <tr>\n",
       "      <th>999</th>\n",
       "      <td>Harvesting the Heart</td>\n",
       "      <td>1.50</td>\n",
       "      <td>4</td>\n",
       "    </tr>\n",
       "  </tbody>\n",
       "</table>\n",
       "<p>1000 rows × 3 columns</p>\n",
       "</div>"
      ],
      "text/plain": [
       "                                                 title   avg  count\n",
       "0                 Pop Goes the Weasel (Alex Cross  #5)  5.00      4\n",
       "1    The Ghost Map: The Story of London's Most Terr...  5.00      4\n",
       "2    In the Hand of the Goddess (Song of the Liones...  5.00      6\n",
       "3                             Tai-Pan (Asian Saga  #2)  5.00      4\n",
       "4    How to Be a Domestic Goddess: Baking and the A...  5.00      2\n",
       "..                                                 ...   ...    ...\n",
       "995  The World Is Flat: A Brief History of the Twen...  2.25     12\n",
       "996                                              Junky  2.00      4\n",
       "997                  His Excellency: George Washington  2.00      4\n",
       "998                                      Drowning Ruth  2.00      9\n",
       "999                               Harvesting the Heart  1.50      4\n",
       "\n",
       "[1000 rows x 3 columns]"
      ]
     },
     "execution_count": 19,
     "metadata": {},
     "output_type": "execute_result"
    }
   ],
   "source": [
    "pd.io.sql.read_sql(sql, con = engine)"
   ]
  },
  {
   "cell_type": "markdown",
   "id": "a658d562",
   "metadata": {},
   "source": [
    "Мы можем сказать, что количества обзоров не хватает для книг, которые обладают высоким рейтингом. Можно попытаться это также исправить, мотивировать людей чаще оставлять отзывы , чтобы поднять популярность книг среди отзывов а не только среди рейтингов."
   ]
  },
  {
   "cell_type": "markdown",
   "id": "b6c0d59d",
   "metadata": {},
   "source": [
    "Определить издательство, которое выпустило наибольшее число книг толще 50 страниц — чтобы исключить из анализа брошюры."
   ]
  },
  {
   "cell_type": "code",
   "execution_count": 20,
   "id": "a5047cb9",
   "metadata": {},
   "outputs": [],
   "source": [
    "sql = '''SELECT COUNT(title),p.publisher\n",
    "FROM publishers AS p\n",
    "JOIN books AS b ON  p.publisher_id= b.publisher_id \n",
    "WHERE b.num_pages >=50 \n",
    "GROUP BY p.publisher \n",
    "ORDER BY count DESC LIMIT 1'''\n"
   ]
  },
  {
   "cell_type": "code",
   "execution_count": 21,
   "id": "94b5e931",
   "metadata": {},
   "outputs": [
    {
     "data": {
      "text/html": [
       "<div>\n",
       "<style scoped>\n",
       "    .dataframe tbody tr th:only-of-type {\n",
       "        vertical-align: middle;\n",
       "    }\n",
       "\n",
       "    .dataframe tbody tr th {\n",
       "        vertical-align: top;\n",
       "    }\n",
       "\n",
       "    .dataframe thead th {\n",
       "        text-align: right;\n",
       "    }\n",
       "</style>\n",
       "<table border=\"1\" class=\"dataframe\">\n",
       "  <thead>\n",
       "    <tr style=\"text-align: right;\">\n",
       "      <th></th>\n",
       "      <th>count</th>\n",
       "      <th>publisher</th>\n",
       "    </tr>\n",
       "  </thead>\n",
       "  <tbody>\n",
       "    <tr>\n",
       "      <th>0</th>\n",
       "      <td>42</td>\n",
       "      <td>Penguin Books</td>\n",
       "    </tr>\n",
       "  </tbody>\n",
       "</table>\n",
       "</div>"
      ],
      "text/plain": [
       "   count      publisher\n",
       "0     42  Penguin Books"
      ]
     },
     "execution_count": 21,
     "metadata": {},
     "output_type": "execute_result"
    }
   ],
   "source": [
    "pd.io.sql.read_sql(sql, con = engine)"
   ]
  },
  {
   "cell_type": "markdown",
   "id": "99211e7e",
   "metadata": {},
   "source": [
    "Мы можем увидеть, что самое популярное издательство по количеству книг-это издательство 'Penguin Books', возможно, у нас на сайте не хватает книг с других издательств, или каким то пользователям больше нравятся книги других издательств? почему бы это не узнать у них"
   ]
  },
  {
   "cell_type": "markdown",
   "id": "bc71d449",
   "metadata": {},
   "source": [
    "Определить автора с самой высокой средней оценкой книг — учитывать только книги с 50 и более оценками."
   ]
  },
  {
   "cell_type": "code",
   "execution_count": 22,
   "id": "e7f135bb",
   "metadata": {},
   "outputs": [],
   "source": [
    "sql = '''WITH a  AS\n",
    "(SELECT book_id, COUNT(rating)\n",
    "FROM ratings\n",
    "GROUP BY book_id\n",
    "HAVING COUNT(rating) >= 50)\n",
    "SELECT AVG(r.rating), au.author\n",
    "FROM a JOIN books AS b ON a.book_id = b.book_id \n",
    "JOIN ratings AS r ON b.book_id = r.book_id\n",
    "JOIN authors AS au ON b.author_id  = au.author_id \n",
    "\n",
    "GROUP BY au.author_id\n",
    "ORDER BY avg DESC\n",
    "LIMIT 1\n",
    "'''"
   ]
  },
  {
   "cell_type": "code",
   "execution_count": 23,
   "id": "2b2c3fbd",
   "metadata": {},
   "outputs": [
    {
     "data": {
      "text/html": [
       "<div>\n",
       "<style scoped>\n",
       "    .dataframe tbody tr th:only-of-type {\n",
       "        vertical-align: middle;\n",
       "    }\n",
       "\n",
       "    .dataframe tbody tr th {\n",
       "        vertical-align: top;\n",
       "    }\n",
       "\n",
       "    .dataframe thead th {\n",
       "        text-align: right;\n",
       "    }\n",
       "</style>\n",
       "<table border=\"1\" class=\"dataframe\">\n",
       "  <thead>\n",
       "    <tr style=\"text-align: right;\">\n",
       "      <th></th>\n",
       "      <th>avg</th>\n",
       "      <th>author</th>\n",
       "    </tr>\n",
       "  </thead>\n",
       "  <tbody>\n",
       "    <tr>\n",
       "      <th>0</th>\n",
       "      <td>4.287097</td>\n",
       "      <td>J.K. Rowling/Mary GrandPré</td>\n",
       "    </tr>\n",
       "  </tbody>\n",
       "</table>\n",
       "</div>"
      ],
      "text/plain": [
       "        avg                      author\n",
       "0  4.287097  J.K. Rowling/Mary GrandPré"
      ]
     },
     "execution_count": 23,
     "metadata": {},
     "output_type": "execute_result"
    }
   ],
   "source": [
    "pd.io.sql.read_sql(sql, con = engine)"
   ]
  },
  {
   "cell_type": "markdown",
   "id": "a99e41a5",
   "metadata": {},
   "source": [
    "Мы выделили книги с большим количеством оценок, и выбрали всего лишь одного автора по рейтингу. Им оказался John Grisham, его книги нравятся людям. Есть ли книги его написания , которых по какой-то причине нет на нашем сайте? или может все они есть только издатества Penguin Books? нам нужно обратить на это внимание, чтобы максимально отразить пользовательские симпатии."
   ]
  },
  {
   "cell_type": "markdown",
   "id": "d6c635c4",
   "metadata": {},
   "source": [
    "Посчитать среднее количество обзоров от пользователей, которые поставили больше 50 оценок."
   ]
  },
  {
   "cell_type": "code",
   "execution_count": 24,
   "id": "f99d5a63",
   "metadata": {},
   "outputs": [],
   "source": [
    "sql = '''WITH a  AS\n",
    "(SELECT COUNT(rating), username\n",
    "FROM ratings\n",
    "GROUP BY username\n",
    "HAVING COUNT(rating) > 50),\n",
    "b as \n",
    "(SELECT COUNT(r.review_id),r.username \n",
    "FROM reviews AS r\n",
    "RIGHT JOIN books AS b ON  r.book_id= b.book_id \n",
    "GROUP BY r.username)\n",
    "SELECT AVG(b.count)\n",
    "FROM b RIGHT JOIN a ON b.username = a.username;  '''\n"
   ]
  },
  {
   "cell_type": "code",
   "execution_count": 25,
   "id": "038f9056",
   "metadata": {
    "scrolled": false
   },
   "outputs": [
    {
     "data": {
      "text/html": [
       "<div>\n",
       "<style scoped>\n",
       "    .dataframe tbody tr th:only-of-type {\n",
       "        vertical-align: middle;\n",
       "    }\n",
       "\n",
       "    .dataframe tbody tr th {\n",
       "        vertical-align: top;\n",
       "    }\n",
       "\n",
       "    .dataframe thead th {\n",
       "        text-align: right;\n",
       "    }\n",
       "</style>\n",
       "<table border=\"1\" class=\"dataframe\">\n",
       "  <thead>\n",
       "    <tr style=\"text-align: right;\">\n",
       "      <th></th>\n",
       "      <th>avg</th>\n",
       "    </tr>\n",
       "  </thead>\n",
       "  <tbody>\n",
       "    <tr>\n",
       "      <th>0</th>\n",
       "      <td>24.333333</td>\n",
       "    </tr>\n",
       "  </tbody>\n",
       "</table>\n",
       "</div>"
      ],
      "text/plain": [
       "         avg\n",
       "0  24.333333"
      ]
     },
     "execution_count": 25,
     "metadata": {},
     "output_type": "execute_result"
    }
   ],
   "source": [
    "pd.io.sql.read_sql(sql, con = engine)"
   ]
  },
  {
   "cell_type": "markdown",
   "id": "716ed187",
   "metadata": {},
   "source": [
    "Мы можем сказать, что людям , которые часто проставляют оценки так же часто пишут и отзывы, это здорово, мы можем использовать это понимание для определения самых активных пользователей, чтобы в первую очередь отражать их интересы среди наших книжных полок на сайте."
   ]
  },
  {
   "cell_type": "markdown",
   "id": "0c2fa578",
   "metadata": {},
   "source": [
    "## Общий вывод\n",
    "Я считаю, что стоит более детально изучить данные , чтобы выделить все возможные особенности во взаимодействии людей с сайтом, их желания и их предпочтения в образе сайта. Стоит изучить все намного лучше, и тогда многие вещи станут понятнее, и тогда развивать ресурс станет намного проще."
   ]
  }
 ],
 "metadata": {
  "ExecuteTimeLog": [
   {
    "duration": 9212,
    "start_time": "2022-12-19T04:37:07.301Z"
   },
   {
    "duration": 3,
    "start_time": "2022-12-19T04:37:16.515Z"
   },
   {
    "duration": 79,
    "start_time": "2022-12-19T04:37:16.519Z"
   },
   {
    "duration": 3,
    "start_time": "2022-12-19T04:37:16.600Z"
   },
   {
    "duration": 29,
    "start_time": "2022-12-19T04:37:16.605Z"
   },
   {
    "duration": 15,
    "start_time": "2022-12-19T04:37:16.636Z"
   },
   {
    "duration": 56,
    "start_time": "2022-12-19T04:37:16.654Z"
   },
   {
    "duration": 9,
    "start_time": "2022-12-19T04:37:16.712Z"
   },
   {
    "duration": 29,
    "start_time": "2022-12-19T04:37:16.722Z"
   },
   {
    "duration": 29,
    "start_time": "2022-12-19T04:37:16.755Z"
   },
   {
    "duration": 41,
    "start_time": "2022-12-19T04:37:16.786Z"
   },
   {
    "duration": 3,
    "start_time": "2022-12-19T04:37:16.829Z"
   },
   {
    "duration": 42,
    "start_time": "2022-12-19T04:37:16.834Z"
   },
   {
    "duration": 11,
    "start_time": "2022-12-19T04:37:16.877Z"
   },
   {
    "duration": 44,
    "start_time": "2022-12-19T04:37:16.890Z"
   },
   {
    "duration": 3,
    "start_time": "2022-12-19T04:37:16.936Z"
   },
   {
    "duration": 36,
    "start_time": "2022-12-19T04:37:16.941Z"
   },
   {
    "duration": 8,
    "start_time": "2022-12-19T04:37:16.978Z"
   },
   {
    "duration": 52,
    "start_time": "2022-12-19T04:37:16.988Z"
   },
   {
    "duration": 28,
    "start_time": "2022-12-19T04:37:17.042Z"
   },
   {
    "duration": 35,
    "start_time": "2022-12-19T04:37:17.072Z"
   },
   {
    "duration": 50,
    "start_time": "2022-12-19T04:43:27.901Z"
   },
   {
    "duration": 5246,
    "start_time": "2022-12-19T06:12:41.674Z"
   },
   {
    "duration": 3,
    "start_time": "2022-12-19T06:12:46.922Z"
   },
   {
    "duration": 292,
    "start_time": "2022-12-19T06:12:46.927Z"
   },
   {
    "duration": 3,
    "start_time": "2022-12-19T06:12:47.221Z"
   },
   {
    "duration": 93,
    "start_time": "2022-12-19T06:12:47.227Z"
   },
   {
    "duration": 3,
    "start_time": "2022-12-19T06:12:47.322Z"
   },
   {
    "duration": 86,
    "start_time": "2022-12-19T06:12:47.327Z"
   },
   {
    "duration": 2,
    "start_time": "2022-12-19T06:12:47.416Z"
   },
   {
    "duration": 86,
    "start_time": "2022-12-19T06:12:47.421Z"
   },
   {
    "duration": 3,
    "start_time": "2022-12-19T06:12:47.509Z"
   },
   {
    "duration": 92,
    "start_time": "2022-12-19T06:12:47.514Z"
   },
   {
    "duration": 122,
    "start_time": "2022-12-19T06:12:47.608Z"
   },
   {
    "duration": 3,
    "start_time": "2022-12-19T06:12:47.733Z"
   },
   {
    "duration": 87,
    "start_time": "2022-12-19T06:12:47.740Z"
   },
   {
    "duration": 3,
    "start_time": "2022-12-19T06:12:47.829Z"
   },
   {
    "duration": 96,
    "start_time": "2022-12-19T06:12:47.835Z"
   },
   {
    "duration": 3,
    "start_time": "2022-12-19T06:12:47.933Z"
   },
   {
    "duration": 86,
    "start_time": "2022-12-19T06:12:47.938Z"
   },
   {
    "duration": 3,
    "start_time": "2022-12-19T06:12:48.027Z"
   },
   {
    "duration": 87,
    "start_time": "2022-12-19T06:12:48.032Z"
   },
   {
    "duration": 3,
    "start_time": "2022-12-19T06:12:48.121Z"
   },
   {
    "duration": 89,
    "start_time": "2022-12-19T06:12:48.126Z"
   },
   {
    "duration": 3,
    "start_time": "2022-12-19T06:15:20.497Z"
   },
   {
    "duration": 81,
    "start_time": "2022-12-19T06:15:21.115Z"
   },
   {
    "duration": 2,
    "start_time": "2022-12-19T06:15:55.363Z"
   },
   {
    "duration": 90,
    "start_time": "2022-12-19T06:15:55.738Z"
   },
   {
    "duration": 3,
    "start_time": "2022-12-19T06:16:13.500Z"
   },
   {
    "duration": 79,
    "start_time": "2022-12-19T06:16:13.923Z"
   },
   {
    "duration": 2,
    "start_time": "2022-12-19T06:16:27.531Z"
   },
   {
    "duration": 77,
    "start_time": "2022-12-19T06:16:29.698Z"
   },
   {
    "duration": 3,
    "start_time": "2022-12-19T06:16:46.705Z"
   },
   {
    "duration": 80,
    "start_time": "2022-12-19T06:16:47.369Z"
   },
   {
    "duration": 3,
    "start_time": "2022-12-19T06:17:40.458Z"
   },
   {
    "duration": 79,
    "start_time": "2022-12-19T06:17:40.954Z"
   },
   {
    "duration": 6,
    "start_time": "2022-12-19T06:18:41.560Z"
   },
   {
    "duration": 96,
    "start_time": "2022-12-19T06:18:42.036Z"
   },
   {
    "duration": 2,
    "start_time": "2022-12-19T06:20:07.286Z"
   },
   {
    "duration": 78,
    "start_time": "2022-12-19T06:20:07.853Z"
   },
   {
    "duration": 3,
    "start_time": "2022-12-19T06:20:51.206Z"
   },
   {
    "duration": 83,
    "start_time": "2022-12-19T06:20:51.805Z"
   },
   {
    "duration": 3,
    "start_time": "2022-12-19T06:22:17.629Z"
   },
   {
    "duration": 79,
    "start_time": "2022-12-19T06:22:18.037Z"
   },
   {
    "duration": 6164,
    "start_time": "2022-12-19T06:22:25.034Z"
   },
   {
    "duration": 4,
    "start_time": "2022-12-19T06:22:31.200Z"
   },
   {
    "duration": 282,
    "start_time": "2022-12-19T06:22:31.206Z"
   },
   {
    "duration": 3,
    "start_time": "2022-12-19T06:22:31.490Z"
   },
   {
    "duration": 112,
    "start_time": "2022-12-19T06:22:31.497Z"
   },
   {
    "duration": 3,
    "start_time": "2022-12-19T06:22:31.611Z"
   },
   {
    "duration": 86,
    "start_time": "2022-12-19T06:22:31.616Z"
   },
   {
    "duration": 2,
    "start_time": "2022-12-19T06:22:31.704Z"
   },
   {
    "duration": 78,
    "start_time": "2022-12-19T06:22:31.708Z"
   },
   {
    "duration": 3,
    "start_time": "2022-12-19T06:22:31.788Z"
   },
   {
    "duration": 86,
    "start_time": "2022-12-19T06:22:31.793Z"
   },
   {
    "duration": 111,
    "start_time": "2022-12-19T06:22:31.881Z"
   },
   {
    "duration": 3,
    "start_time": "2022-12-19T06:22:31.994Z"
   },
   {
    "duration": 78,
    "start_time": "2022-12-19T06:22:31.999Z"
   },
   {
    "duration": 4,
    "start_time": "2022-12-19T06:22:32.080Z"
   },
   {
    "duration": 104,
    "start_time": "2022-12-19T06:22:32.086Z"
   },
   {
    "duration": 3,
    "start_time": "2022-12-19T06:22:32.193Z"
   },
   {
    "duration": 81,
    "start_time": "2022-12-19T06:22:32.198Z"
   },
   {
    "duration": 3,
    "start_time": "2022-12-19T06:22:32.282Z"
   },
   {
    "duration": 82,
    "start_time": "2022-12-19T06:22:32.287Z"
   },
   {
    "duration": 3,
    "start_time": "2022-12-19T06:22:32.371Z"
   },
   {
    "duration": 79,
    "start_time": "2022-12-19T06:22:32.375Z"
   },
   {
    "duration": 2,
    "start_time": "2022-12-19T06:33:46.970Z"
   },
   {
    "duration": 87,
    "start_time": "2022-12-19T06:33:47.433Z"
   },
   {
    "duration": 87,
    "start_time": "2022-12-19T06:45:24.807Z"
   },
   {
    "duration": 3,
    "start_time": "2022-12-19T06:45:31.655Z"
   },
   {
    "duration": 5,
    "start_time": "2022-12-19T06:50:52.203Z"
   },
   {
    "duration": 85,
    "start_time": "2022-12-19T06:51:07.825Z"
   },
   {
    "duration": 3,
    "start_time": "2022-12-19T06:51:09.722Z"
   },
   {
    "duration": 79,
    "start_time": "2022-12-19T06:51:10.146Z"
   },
   {
    "duration": 3,
    "start_time": "2022-12-19T06:56:05.887Z"
   },
   {
    "duration": 77,
    "start_time": "2022-12-19T06:56:08.150Z"
   },
   {
    "duration": 3,
    "start_time": "2022-12-19T06:57:09.613Z"
   },
   {
    "duration": 211,
    "start_time": "2022-12-19T06:57:10.750Z"
   },
   {
    "duration": 3,
    "start_time": "2022-12-19T06:57:30.140Z"
   },
   {
    "duration": 85,
    "start_time": "2022-12-19T06:57:30.749Z"
   },
   {
    "duration": 4,
    "start_time": "2022-12-19T06:58:46.972Z"
   },
   {
    "duration": 149,
    "start_time": "2022-12-19T06:58:47.283Z"
   },
   {
    "duration": 3,
    "start_time": "2022-12-19T06:58:55.770Z"
   },
   {
    "duration": 92,
    "start_time": "2022-12-19T06:58:56.403Z"
   },
   {
    "duration": 3,
    "start_time": "2022-12-19T06:59:53.274Z"
   },
   {
    "duration": 131,
    "start_time": "2022-12-19T06:59:53.554Z"
   },
   {
    "duration": 3,
    "start_time": "2022-12-19T07:00:06.531Z"
   },
   {
    "duration": 77,
    "start_time": "2022-12-19T07:00:06.770Z"
   },
   {
    "duration": 3,
    "start_time": "2022-12-19T07:02:25.678Z"
   },
   {
    "duration": 100,
    "start_time": "2022-12-19T07:02:26.371Z"
   },
   {
    "duration": 2,
    "start_time": "2022-12-19T07:02:57.440Z"
   },
   {
    "duration": 140,
    "start_time": "2022-12-19T07:02:57.663Z"
   },
   {
    "duration": 3,
    "start_time": "2022-12-19T07:03:17.048Z"
   },
   {
    "duration": 82,
    "start_time": "2022-12-19T07:03:17.344Z"
   },
   {
    "duration": 3,
    "start_time": "2022-12-19T07:08:56.057Z"
   },
   {
    "duration": 175,
    "start_time": "2022-12-19T07:08:56.441Z"
   },
   {
    "duration": 3,
    "start_time": "2022-12-19T07:09:10.169Z"
   },
   {
    "duration": 87,
    "start_time": "2022-12-19T07:09:10.346Z"
   },
   {
    "duration": 2,
    "start_time": "2022-12-19T07:11:52.303Z"
   },
   {
    "duration": 132,
    "start_time": "2022-12-19T07:11:52.527Z"
   },
   {
    "duration": 3,
    "start_time": "2022-12-19T07:12:01.750Z"
   },
   {
    "duration": 143,
    "start_time": "2022-12-19T07:12:02.040Z"
   },
   {
    "duration": 3,
    "start_time": "2022-12-19T07:12:08.543Z"
   },
   {
    "duration": 135,
    "start_time": "2022-12-19T07:12:08.824Z"
   },
   {
    "duration": 3,
    "start_time": "2022-12-19T07:12:20.032Z"
   },
   {
    "duration": 139,
    "start_time": "2022-12-19T07:12:20.232Z"
   },
   {
    "duration": 5,
    "start_time": "2022-12-19T07:12:38.797Z"
   },
   {
    "duration": 174,
    "start_time": "2022-12-19T07:12:38.983Z"
   },
   {
    "duration": 3,
    "start_time": "2022-12-19T07:12:57.333Z"
   },
   {
    "duration": 112,
    "start_time": "2022-12-19T07:12:57.599Z"
   },
   {
    "duration": 4,
    "start_time": "2022-12-19T07:13:44.173Z"
   },
   {
    "duration": 157,
    "start_time": "2022-12-19T07:13:44.573Z"
   },
   {
    "duration": 4,
    "start_time": "2022-12-19T07:13:48.773Z"
   },
   {
    "duration": 113,
    "start_time": "2022-12-19T07:13:48.901Z"
   },
   {
    "duration": 3,
    "start_time": "2022-12-19T07:14:00.461Z"
   },
   {
    "duration": 154,
    "start_time": "2022-12-19T07:14:00.669Z"
   },
   {
    "duration": 3,
    "start_time": "2022-12-19T07:17:11.926Z"
   },
   {
    "duration": 83,
    "start_time": "2022-12-19T07:17:12.153Z"
   },
   {
    "duration": 3,
    "start_time": "2022-12-19T07:18:13.327Z"
   },
   {
    "duration": 76,
    "start_time": "2022-12-19T07:18:13.526Z"
   },
   {
    "duration": 3,
    "start_time": "2022-12-19T07:18:24.544Z"
   },
   {
    "duration": 76,
    "start_time": "2022-12-19T07:18:24.728Z"
   },
   {
    "duration": 9,
    "start_time": "2022-12-19T07:18:40.313Z"
   },
   {
    "duration": 132,
    "start_time": "2022-12-19T07:18:40.552Z"
   },
   {
    "duration": 2,
    "start_time": "2022-12-19T07:21:07.638Z"
   },
   {
    "duration": 80,
    "start_time": "2022-12-19T07:21:07.887Z"
   },
   {
    "duration": 3,
    "start_time": "2022-12-19T07:21:27.724Z"
   },
   {
    "duration": 77,
    "start_time": "2022-12-19T07:21:27.951Z"
   },
   {
    "duration": 3,
    "start_time": "2022-12-19T07:21:36.654Z"
   },
   {
    "duration": 79,
    "start_time": "2022-12-19T07:21:36.805Z"
   },
   {
    "duration": 4,
    "start_time": "2022-12-19T07:21:51.093Z"
   },
   {
    "duration": 77,
    "start_time": "2022-12-19T07:21:51.277Z"
   },
   {
    "duration": 3,
    "start_time": "2022-12-19T07:32:52.107Z"
   },
   {
    "duration": 146,
    "start_time": "2022-12-19T07:32:52.420Z"
   },
   {
    "duration": 3,
    "start_time": "2022-12-19T07:33:01.691Z"
   },
   {
    "duration": 79,
    "start_time": "2022-12-19T07:33:02.316Z"
   },
   {
    "duration": 3,
    "start_time": "2022-12-19T07:33:25.426Z"
   },
   {
    "duration": 106,
    "start_time": "2022-12-19T07:33:26.111Z"
   },
   {
    "duration": 3,
    "start_time": "2022-12-19T07:33:32.794Z"
   },
   {
    "duration": 83,
    "start_time": "2022-12-19T07:33:33.042Z"
   },
   {
    "duration": 3,
    "start_time": "2022-12-19T07:35:26.752Z"
   },
   {
    "duration": 124,
    "start_time": "2022-12-19T07:35:28.721Z"
   },
   {
    "duration": 3,
    "start_time": "2022-12-19T07:36:31.471Z"
   },
   {
    "duration": 131,
    "start_time": "2022-12-19T07:36:31.864Z"
   },
   {
    "duration": 3,
    "start_time": "2022-12-19T07:36:46.779Z"
   },
   {
    "duration": 123,
    "start_time": "2022-12-19T07:36:47.143Z"
   },
   {
    "duration": 3,
    "start_time": "2022-12-19T07:37:34.262Z"
   },
   {
    "duration": 76,
    "start_time": "2022-12-19T07:37:34.687Z"
   },
   {
    "duration": 3,
    "start_time": "2022-12-19T07:37:58.870Z"
   },
   {
    "duration": 171,
    "start_time": "2022-12-19T07:37:59.166Z"
   },
   {
    "duration": 4,
    "start_time": "2022-12-19T07:38:16.570Z"
   },
   {
    "duration": 120,
    "start_time": "2022-12-19T07:38:16.718Z"
   },
   {
    "duration": 3,
    "start_time": "2022-12-19T07:40:07.428Z"
   },
   {
    "duration": 135,
    "start_time": "2022-12-19T07:40:07.668Z"
   },
   {
    "duration": 3,
    "start_time": "2022-12-19T07:41:53.578Z"
   },
   {
    "duration": 78,
    "start_time": "2022-12-19T07:41:53.890Z"
   },
   {
    "duration": 3,
    "start_time": "2022-12-19T07:42:52.450Z"
   },
   {
    "duration": 77,
    "start_time": "2022-12-19T07:42:54.122Z"
   },
   {
    "duration": 3,
    "start_time": "2022-12-19T07:43:21.009Z"
   },
   {
    "duration": 75,
    "start_time": "2022-12-19T07:43:21.520Z"
   },
   {
    "duration": 3,
    "start_time": "2022-12-19T07:43:26.747Z"
   },
   {
    "duration": 78,
    "start_time": "2022-12-19T07:43:27.190Z"
   },
   {
    "duration": 3,
    "start_time": "2022-12-19T07:43:36.232Z"
   },
   {
    "duration": 77,
    "start_time": "2022-12-19T07:43:36.483Z"
   },
   {
    "duration": 85,
    "start_time": "2022-12-19T07:43:41.607Z"
   },
   {
    "duration": 5,
    "start_time": "2022-12-19T07:55:13.216Z"
   },
   {
    "duration": 3,
    "start_time": "2022-12-19T07:55:26.094Z"
   },
   {
    "duration": 4,
    "start_time": "2022-12-19T07:55:34.613Z"
   },
   {
    "duration": 4,
    "start_time": "2022-12-19T07:55:40.518Z"
   },
   {
    "duration": 2,
    "start_time": "2022-12-19T07:55:44.070Z"
   },
   {
    "duration": 609,
    "start_time": "2022-12-19T07:55:49.621Z"
   },
   {
    "duration": 4,
    "start_time": "2022-12-19T07:55:50.232Z"
   },
   {
    "duration": 13,
    "start_time": "2022-12-19T07:55:50.238Z"
   },
   {
    "duration": 6344,
    "start_time": "2022-12-19T07:55:50.255Z"
   },
   {
    "duration": 6,
    "start_time": "2022-12-19T07:55:56.601Z"
   },
   {
    "duration": 288,
    "start_time": "2022-12-19T07:55:56.609Z"
   },
   {
    "duration": 4,
    "start_time": "2022-12-19T07:55:56.898Z"
   },
   {
    "duration": 104,
    "start_time": "2022-12-19T07:55:56.904Z"
   },
   {
    "duration": 3,
    "start_time": "2022-12-19T07:55:57.010Z"
   },
   {
    "duration": 92,
    "start_time": "2022-12-19T07:55:57.016Z"
   },
   {
    "duration": 18,
    "start_time": "2022-12-19T07:55:57.110Z"
   },
   {
    "duration": 91,
    "start_time": "2022-12-19T07:55:57.131Z"
   },
   {
    "duration": 2,
    "start_time": "2022-12-19T07:55:57.224Z"
   },
   {
    "duration": 84,
    "start_time": "2022-12-19T07:55:57.228Z"
   },
   {
    "duration": 111,
    "start_time": "2022-12-19T07:55:57.315Z"
   },
   {
    "duration": 3,
    "start_time": "2022-12-19T07:55:57.428Z"
   },
   {
    "duration": 91,
    "start_time": "2022-12-19T07:55:57.433Z"
   },
   {
    "duration": 5,
    "start_time": "2022-12-19T07:55:57.526Z"
   },
   {
    "duration": 95,
    "start_time": "2022-12-19T07:55:57.534Z"
   },
   {
    "duration": 3,
    "start_time": "2022-12-19T07:55:57.632Z"
   },
   {
    "duration": 117,
    "start_time": "2022-12-19T07:55:57.637Z"
   },
   {
    "duration": 3,
    "start_time": "2022-12-19T07:55:57.756Z"
   },
   {
    "duration": 116,
    "start_time": "2022-12-19T07:55:57.761Z"
   },
   {
    "duration": 3,
    "start_time": "2022-12-19T07:55:57.879Z"
   },
   {
    "duration": 130,
    "start_time": "2022-12-19T07:55:57.884Z"
   },
   {
    "duration": 4,
    "start_time": "2022-12-19T07:55:58.018Z"
   },
   {
    "duration": 114,
    "start_time": "2022-12-19T07:55:58.023Z"
   },
   {
    "duration": 532,
    "start_time": "2022-12-20T03:46:14.498Z"
   },
   {
    "duration": 2,
    "start_time": "2022-12-20T03:46:15.032Z"
   },
   {
    "duration": 9,
    "start_time": "2022-12-20T03:46:15.036Z"
   },
   {
    "duration": 5161,
    "start_time": "2022-12-20T03:46:15.047Z"
   },
   {
    "duration": 3,
    "start_time": "2022-12-20T03:46:20.209Z"
   },
   {
    "duration": 273,
    "start_time": "2022-12-20T03:46:20.213Z"
   },
   {
    "duration": 3,
    "start_time": "2022-12-20T03:46:20.487Z"
   },
   {
    "duration": 93,
    "start_time": "2022-12-20T03:46:20.492Z"
   },
   {
    "duration": 3,
    "start_time": "2022-12-20T03:46:20.587Z"
   },
   {
    "duration": 90,
    "start_time": "2022-12-20T03:46:20.592Z"
   },
   {
    "duration": 2,
    "start_time": "2022-12-20T03:46:20.684Z"
   },
   {
    "duration": 82,
    "start_time": "2022-12-20T03:46:20.688Z"
   },
   {
    "duration": 3,
    "start_time": "2022-12-20T03:46:20.772Z"
   },
   {
    "duration": 83,
    "start_time": "2022-12-20T03:46:20.776Z"
   },
   {
    "duration": 103,
    "start_time": "2022-12-20T03:46:20.861Z"
   },
   {
    "duration": 3,
    "start_time": "2022-12-20T03:46:20.966Z"
   },
   {
    "duration": 82,
    "start_time": "2022-12-20T03:46:20.971Z"
   },
   {
    "duration": 3,
    "start_time": "2022-12-20T03:46:21.056Z"
   },
   {
    "duration": 93,
    "start_time": "2022-12-20T03:46:21.061Z"
   },
   {
    "duration": 3,
    "start_time": "2022-12-20T03:46:21.156Z"
   },
   {
    "duration": 120,
    "start_time": "2022-12-20T03:46:21.161Z"
   },
   {
    "duration": 3,
    "start_time": "2022-12-20T03:46:21.283Z"
   },
   {
    "duration": 90,
    "start_time": "2022-12-20T03:46:21.287Z"
   },
   {
    "duration": 2,
    "start_time": "2022-12-20T03:46:21.379Z"
   },
   {
    "duration": 94,
    "start_time": "2022-12-20T03:46:21.383Z"
   },
   {
    "duration": 2,
    "start_time": "2022-12-20T03:46:21.479Z"
   },
   {
    "duration": 81,
    "start_time": "2022-12-20T03:46:21.483Z"
   },
   {
    "duration": 2,
    "start_time": "2022-12-20T03:46:57.968Z"
   },
   {
    "duration": 108,
    "start_time": "2022-12-20T03:46:59.083Z"
   },
   {
    "duration": 110,
    "start_time": "2022-12-20T03:47:31.963Z"
   },
   {
    "duration": 107,
    "start_time": "2022-12-20T03:48:39.071Z"
   },
   {
    "duration": 7,
    "start_time": "2022-12-20T04:22:33.939Z"
   },
   {
    "duration": 40,
    "start_time": "2022-12-20T04:22:34.376Z"
   },
   {
    "duration": 490,
    "start_time": "2022-12-20T04:22:40.122Z"
   },
   {
    "duration": 3,
    "start_time": "2022-12-20T04:22:40.614Z"
   },
   {
    "duration": 5,
    "start_time": "2022-12-20T04:22:40.618Z"
   },
   {
    "duration": 5046,
    "start_time": "2022-12-20T04:22:40.625Z"
   },
   {
    "duration": 3,
    "start_time": "2022-12-20T04:22:45.673Z"
   },
   {
    "duration": 258,
    "start_time": "2022-12-20T04:22:45.677Z"
   },
   {
    "duration": 2,
    "start_time": "2022-12-20T04:22:45.937Z"
   },
   {
    "duration": 87,
    "start_time": "2022-12-20T04:22:45.940Z"
   },
   {
    "duration": 2,
    "start_time": "2022-12-20T04:22:46.029Z"
   },
   {
    "duration": 77,
    "start_time": "2022-12-20T04:22:46.032Z"
   },
   {
    "duration": 3,
    "start_time": "2022-12-20T04:22:46.110Z"
   },
   {
    "duration": 74,
    "start_time": "2022-12-20T04:22:46.114Z"
   },
   {
    "duration": 3,
    "start_time": "2022-12-20T04:22:46.190Z"
   },
   {
    "duration": 95,
    "start_time": "2022-12-20T04:22:46.196Z"
   },
   {
    "duration": 107,
    "start_time": "2022-12-20T04:22:46.293Z"
   },
   {
    "duration": 3,
    "start_time": "2022-12-20T04:22:46.402Z"
   },
   {
    "duration": 78,
    "start_time": "2022-12-20T04:22:46.407Z"
   },
   {
    "duration": 3,
    "start_time": "2022-12-20T04:22:46.486Z"
   },
   {
    "duration": 101,
    "start_time": "2022-12-20T04:22:46.490Z"
   },
   {
    "duration": 112,
    "start_time": "2022-12-20T04:22:46.593Z"
   },
   {
    "duration": 3,
    "start_time": "2022-12-20T04:22:46.706Z"
   },
   {
    "duration": 76,
    "start_time": "2022-12-20T04:22:46.710Z"
   },
   {
    "duration": 2,
    "start_time": "2022-12-20T04:22:46.787Z"
   },
   {
    "duration": 76,
    "start_time": "2022-12-20T04:22:46.791Z"
   },
   {
    "duration": 3,
    "start_time": "2022-12-20T04:22:46.868Z"
   },
   {
    "duration": 75,
    "start_time": "2022-12-20T04:22:46.873Z"
   },
   {
    "duration": 3,
    "start_time": "2022-12-20T04:22:46.950Z"
   },
   {
    "duration": 74,
    "start_time": "2022-12-20T04:22:46.955Z"
   },
   {
    "duration": 2,
    "start_time": "2022-12-20T04:23:23.047Z"
   },
   {
    "duration": 105,
    "start_time": "2022-12-20T04:23:23.304Z"
   },
   {
    "duration": 2,
    "start_time": "2022-12-20T04:23:32.302Z"
   },
   {
    "duration": 119,
    "start_time": "2022-12-20T04:23:33.198Z"
   },
   {
    "duration": 478,
    "start_time": "2022-12-20T06:01:20.669Z"
   },
   {
    "duration": 3,
    "start_time": "2022-12-20T06:01:21.148Z"
   },
   {
    "duration": 15,
    "start_time": "2022-12-20T06:01:21.154Z"
   },
   {
    "duration": 4999,
    "start_time": "2022-12-20T06:01:21.171Z"
   },
   {
    "duration": 3,
    "start_time": "2022-12-20T06:01:26.171Z"
   },
   {
    "duration": 291,
    "start_time": "2022-12-20T06:01:26.176Z"
   },
   {
    "duration": 2,
    "start_time": "2022-12-20T06:01:26.469Z"
   },
   {
    "duration": 91,
    "start_time": "2022-12-20T06:01:26.473Z"
   },
   {
    "duration": 2,
    "start_time": "2022-12-20T06:01:26.565Z"
   },
   {
    "duration": 75,
    "start_time": "2022-12-20T06:01:26.570Z"
   },
   {
    "duration": 2,
    "start_time": "2022-12-20T06:01:26.647Z"
   },
   {
    "duration": 79,
    "start_time": "2022-12-20T06:01:26.651Z"
   },
   {
    "duration": 3,
    "start_time": "2022-12-20T06:01:26.731Z"
   },
   {
    "duration": 77,
    "start_time": "2022-12-20T06:01:26.736Z"
   },
   {
    "duration": 101,
    "start_time": "2022-12-20T06:01:26.815Z"
   },
   {
    "duration": 3,
    "start_time": "2022-12-20T06:01:26.917Z"
   },
   {
    "duration": 74,
    "start_time": "2022-12-20T06:01:26.921Z"
   },
   {
    "duration": 2,
    "start_time": "2022-12-20T06:01:26.996Z"
   },
   {
    "duration": 102,
    "start_time": "2022-12-20T06:01:27.000Z"
   },
   {
    "duration": 87,
    "start_time": "2022-12-20T06:01:27.104Z"
   },
   {
    "duration": 3,
    "start_time": "2022-12-20T06:01:27.192Z"
   },
   {
    "duration": 76,
    "start_time": "2022-12-20T06:01:27.196Z"
   },
   {
    "duration": 2,
    "start_time": "2022-12-20T06:01:27.273Z"
   },
   {
    "duration": 79,
    "start_time": "2022-12-20T06:01:27.277Z"
   },
   {
    "duration": 3,
    "start_time": "2022-12-20T06:01:27.358Z"
   },
   {
    "duration": 80,
    "start_time": "2022-12-20T06:01:27.363Z"
   },
   {
    "duration": 2,
    "start_time": "2022-12-20T06:01:27.445Z"
   },
   {
    "duration": 77,
    "start_time": "2022-12-20T06:01:27.450Z"
   }
  ],
  "kernelspec": {
   "display_name": "Python 3 (ipykernel)",
   "language": "python",
   "name": "python3"
  },
  "language_info": {
   "codemirror_mode": {
    "name": "ipython",
    "version": 3
   },
   "file_extension": ".py",
   "mimetype": "text/x-python",
   "name": "python",
   "nbconvert_exporter": "python",
   "pygments_lexer": "ipython3",
   "version": "3.9.12"
  },
  "toc": {
   "base_numbering": 1,
   "nav_menu": {},
   "number_sections": true,
   "sideBar": true,
   "skip_h1_title": true,
   "title_cell": "Table of Contents",
   "title_sidebar": "Contents",
   "toc_cell": false,
   "toc_position": {},
   "toc_section_display": true,
   "toc_window_display": false
  }
 },
 "nbformat": 4,
 "nbformat_minor": 5
}
