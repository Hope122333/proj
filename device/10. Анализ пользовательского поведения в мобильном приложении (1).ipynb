{
 "cells": [
  {
   "cell_type": "markdown",
   "metadata": {},
   "source": [
    "# Анализ пользовательского поведения в мобильном приложении."
   ]
  },
  {
   "cell_type": "markdown",
   "metadata": {},
   "source": [
    "## Описание данных\n",
    "Каждая запись в логе — это действие пользователя, или событие.\n",
    "\n",
    "EventName — название события;\n",
    "\n",
    "DeviceIDHash — уникальный идентификатор пользователя;\n",
    "\n",
    "EventTimestamp — время события;\n",
    "\n",
    "ExpId — номер эксперимента: 246 и 247 — контрольные группы, а 248 — экспериментальная.\n"
   ]
  },
  {
   "cell_type": "markdown",
   "metadata": {},
   "source": [
    " ## Цели исследования:\n",
    " - Подготовить данные;\n",
    " - Изучить и проверить данные;\n",
    " - Построить воронку событий;\n",
    " - Провести A/B-тестирование;\n",
    " - Изучите результаты эксперимента;\n",
    "##  Задачи исследования:\n",
    " - Импортировать библиотеки и загрузить данные;\n",
    " - Изучить 'info' данные;\n",
    " - Поработать над форматом времени;\n",
    " - Проверить наличие пропусков в данных;\n",
    " - Оценить наличие дубликатов в данных. Визуализировать оценку;\n",
    " - Оценить количество событий в логе;\n",
    " - Оценить количество уникальных пользователей в логе;\n",
    " - Ответить на вопрос: сколько в среднем событий приходится на одного пользователя;\n",
    " - Определить минимальную и максимальную дату времени эксперимента для оценки данных;\n",
    " - Обнаружить и очистить аномальные зоны;\n",
    " - Оценить долю пользователей для каждого типа события;\n",
    " - Определить границы эксперимента;\n",
    " - Создать сводную таблицу для воронки, обозначить ее составляющие и иерархию, визуализировать по убыванию;\n",
    " - Определить долю пользователей , которая доходит с главной страницы до оплаты;\n",
    " - Для каждой группы определить долю потерянных пользователей после посещения главной страницы;\n",
    " - Для каждой группы определить сколько процентов пользователей остается при прохождении страниц;\n",
    " - Добавить метод для проверки разницы статистических критериев;\n",
    " - Обработать информацию для теста методом;\n",
    " - Сформулировать гипотезы и провести тесты;\n",
    " - Установить самое популярное событие;\n",
    " - Посчитать количество совершивших переход на главную страницу;\n",
    " - Посчитать долю совершивших переход на главную страницу от всех пользователей совершивших переход на главную страницу;\n",
    " - Установить количество пользователей в каждой группе.\n",
    " - Составить общий вывод;"
   ]
  },
  {
   "cell_type": "code",
   "execution_count": 1,
   "metadata": {},
   "outputs": [],
   "source": [
    "import pandas as pd\n",
    "import datetime as dt\n",
    "import numpy as np\n",
    "import matplotlib.pyplot as plt\n",
    "import scipy.stats as st\n",
    "import seaborn as sns\n",
    "import math as mth"
   ]
  },
  {
   "cell_type": "code",
   "execution_count": 2,
   "metadata": {},
   "outputs": [],
   "source": [
    "data_log = pd.read_csv('logs_exp.csv',sep='\\t')"
   ]
  },
  {
   "cell_type": "code",
   "execution_count": 3,
   "metadata": {},
   "outputs": [
    {
     "data": {
      "text/html": [
       "<div>\n",
       "<style scoped>\n",
       "    .dataframe tbody tr th:only-of-type {\n",
       "        vertical-align: middle;\n",
       "    }\n",
       "\n",
       "    .dataframe tbody tr th {\n",
       "        vertical-align: top;\n",
       "    }\n",
       "\n",
       "    .dataframe thead th {\n",
       "        text-align: right;\n",
       "    }\n",
       "</style>\n",
       "<table border=\"1\" class=\"dataframe\">\n",
       "  <thead>\n",
       "    <tr style=\"text-align: right;\">\n",
       "      <th></th>\n",
       "      <th>event_name</th>\n",
       "      <th>user_id</th>\n",
       "      <th>event_date</th>\n",
       "      <th>exp_id</th>\n",
       "    </tr>\n",
       "  </thead>\n",
       "  <tbody>\n",
       "    <tr>\n",
       "      <th>0</th>\n",
       "      <td>MainScreenAppear</td>\n",
       "      <td>4575588528974610257</td>\n",
       "      <td>1564029816</td>\n",
       "      <td>246</td>\n",
       "    </tr>\n",
       "    <tr>\n",
       "      <th>1</th>\n",
       "      <td>MainScreenAppear</td>\n",
       "      <td>7416695313311560658</td>\n",
       "      <td>1564053102</td>\n",
       "      <td>246</td>\n",
       "    </tr>\n",
       "    <tr>\n",
       "      <th>2</th>\n",
       "      <td>PaymentScreenSuccessful</td>\n",
       "      <td>3518123091307005509</td>\n",
       "      <td>1564054127</td>\n",
       "      <td>248</td>\n",
       "    </tr>\n",
       "    <tr>\n",
       "      <th>3</th>\n",
       "      <td>CartScreenAppear</td>\n",
       "      <td>3518123091307005509</td>\n",
       "      <td>1564054127</td>\n",
       "      <td>248</td>\n",
       "    </tr>\n",
       "    <tr>\n",
       "      <th>4</th>\n",
       "      <td>PaymentScreenSuccessful</td>\n",
       "      <td>6217807653094995999</td>\n",
       "      <td>1564055322</td>\n",
       "      <td>248</td>\n",
       "    </tr>\n",
       "    <tr>\n",
       "      <th>...</th>\n",
       "      <td>...</td>\n",
       "      <td>...</td>\n",
       "      <td>...</td>\n",
       "      <td>...</td>\n",
       "    </tr>\n",
       "    <tr>\n",
       "      <th>244121</th>\n",
       "      <td>MainScreenAppear</td>\n",
       "      <td>4599628364049201812</td>\n",
       "      <td>1565212345</td>\n",
       "      <td>247</td>\n",
       "    </tr>\n",
       "    <tr>\n",
       "      <th>244122</th>\n",
       "      <td>MainScreenAppear</td>\n",
       "      <td>5849806612437486590</td>\n",
       "      <td>1565212439</td>\n",
       "      <td>246</td>\n",
       "    </tr>\n",
       "    <tr>\n",
       "      <th>244123</th>\n",
       "      <td>MainScreenAppear</td>\n",
       "      <td>5746969938801999050</td>\n",
       "      <td>1565212483</td>\n",
       "      <td>246</td>\n",
       "    </tr>\n",
       "    <tr>\n",
       "      <th>244124</th>\n",
       "      <td>MainScreenAppear</td>\n",
       "      <td>5746969938801999050</td>\n",
       "      <td>1565212498</td>\n",
       "      <td>246</td>\n",
       "    </tr>\n",
       "    <tr>\n",
       "      <th>244125</th>\n",
       "      <td>OffersScreenAppear</td>\n",
       "      <td>5746969938801999050</td>\n",
       "      <td>1565212517</td>\n",
       "      <td>246</td>\n",
       "    </tr>\n",
       "  </tbody>\n",
       "</table>\n",
       "<p>244126 rows × 4 columns</p>\n",
       "</div>"
      ],
      "text/plain": [
       "                     event_name              user_id  event_date  exp_id\n",
       "0              MainScreenAppear  4575588528974610257  1564029816     246\n",
       "1              MainScreenAppear  7416695313311560658  1564053102     246\n",
       "2       PaymentScreenSuccessful  3518123091307005509  1564054127     248\n",
       "3              CartScreenAppear  3518123091307005509  1564054127     248\n",
       "4       PaymentScreenSuccessful  6217807653094995999  1564055322     248\n",
       "...                         ...                  ...         ...     ...\n",
       "244121         MainScreenAppear  4599628364049201812  1565212345     247\n",
       "244122         MainScreenAppear  5849806612437486590  1565212439     246\n",
       "244123         MainScreenAppear  5746969938801999050  1565212483     246\n",
       "244124         MainScreenAppear  5746969938801999050  1565212498     246\n",
       "244125       OffersScreenAppear  5746969938801999050  1565212517     246\n",
       "\n",
       "[244126 rows x 4 columns]"
      ]
     },
     "execution_count": 3,
     "metadata": {},
     "output_type": "execute_result"
    }
   ],
   "source": [
    "data_log = data_log.rename(columns={'EventName':'event_name','DeviceIDHash':'user_id', 'EventTimestamp':'event_date', 'ExpId':'exp_id'})\n",
    "data_log"
   ]
  },
  {
   "cell_type": "markdown",
   "metadata": {},
   "source": [
    "Перевести время в нужный формат: datetime64."
   ]
  },
  {
   "cell_type": "code",
   "execution_count": 4,
   "metadata": {},
   "outputs": [
    {
     "data": {
      "text/html": [
       "<div>\n",
       "<style scoped>\n",
       "    .dataframe tbody tr th:only-of-type {\n",
       "        vertical-align: middle;\n",
       "    }\n",
       "\n",
       "    .dataframe tbody tr th {\n",
       "        vertical-align: top;\n",
       "    }\n",
       "\n",
       "    .dataframe thead th {\n",
       "        text-align: right;\n",
       "    }\n",
       "</style>\n",
       "<table border=\"1\" class=\"dataframe\">\n",
       "  <thead>\n",
       "    <tr style=\"text-align: right;\">\n",
       "      <th></th>\n",
       "      <th>event_name</th>\n",
       "      <th>user_id</th>\n",
       "      <th>event_date</th>\n",
       "      <th>exp_id</th>\n",
       "    </tr>\n",
       "  </thead>\n",
       "  <tbody>\n",
       "    <tr>\n",
       "      <th>0</th>\n",
       "      <td>MainScreenAppear</td>\n",
       "      <td>4575588528974610257</td>\n",
       "      <td>2019-07-25 04:43:36</td>\n",
       "      <td>246</td>\n",
       "    </tr>\n",
       "    <tr>\n",
       "      <th>1</th>\n",
       "      <td>MainScreenAppear</td>\n",
       "      <td>7416695313311560658</td>\n",
       "      <td>2019-07-25 11:11:42</td>\n",
       "      <td>246</td>\n",
       "    </tr>\n",
       "    <tr>\n",
       "      <th>2</th>\n",
       "      <td>PaymentScreenSuccessful</td>\n",
       "      <td>3518123091307005509</td>\n",
       "      <td>2019-07-25 11:28:47</td>\n",
       "      <td>248</td>\n",
       "    </tr>\n",
       "    <tr>\n",
       "      <th>3</th>\n",
       "      <td>CartScreenAppear</td>\n",
       "      <td>3518123091307005509</td>\n",
       "      <td>2019-07-25 11:28:47</td>\n",
       "      <td>248</td>\n",
       "    </tr>\n",
       "    <tr>\n",
       "      <th>4</th>\n",
       "      <td>PaymentScreenSuccessful</td>\n",
       "      <td>6217807653094995999</td>\n",
       "      <td>2019-07-25 11:48:42</td>\n",
       "      <td>248</td>\n",
       "    </tr>\n",
       "  </tbody>\n",
       "</table>\n",
       "</div>"
      ],
      "text/plain": [
       "                event_name              user_id          event_date  exp_id\n",
       "0         MainScreenAppear  4575588528974610257 2019-07-25 04:43:36     246\n",
       "1         MainScreenAppear  7416695313311560658 2019-07-25 11:11:42     246\n",
       "2  PaymentScreenSuccessful  3518123091307005509 2019-07-25 11:28:47     248\n",
       "3         CartScreenAppear  3518123091307005509 2019-07-25 11:28:47     248\n",
       "4  PaymentScreenSuccessful  6217807653094995999 2019-07-25 11:48:42     248"
      ]
     },
     "execution_count": 4,
     "metadata": {},
     "output_type": "execute_result"
    }
   ],
   "source": [
    "data_log['event_date'] = data_log['event_date'].astype('datetime64[s]')\n",
    "data_log.head()"
   ]
  },
  {
   "cell_type": "markdown",
   "metadata": {},
   "source": [
    "Добавить столбец с датой и временем."
   ]
  },
  {
   "cell_type": "code",
   "execution_count": 5,
   "metadata": {},
   "outputs": [],
   "source": [
    "data_log['date']  = data_log['event_date'].copy()"
   ]
  },
  {
   "cell_type": "markdown",
   "metadata": {},
   "source": [
    "Перевести даты в нужный формат: datetime64 , без учета времени."
   ]
  },
  {
   "cell_type": "code",
   "execution_count": 6,
   "metadata": {},
   "outputs": [
    {
     "data": {
      "text/html": [
       "<div>\n",
       "<style scoped>\n",
       "    .dataframe tbody tr th:only-of-type {\n",
       "        vertical-align: middle;\n",
       "    }\n",
       "\n",
       "    .dataframe tbody tr th {\n",
       "        vertical-align: top;\n",
       "    }\n",
       "\n",
       "    .dataframe thead th {\n",
       "        text-align: right;\n",
       "    }\n",
       "</style>\n",
       "<table border=\"1\" class=\"dataframe\">\n",
       "  <thead>\n",
       "    <tr style=\"text-align: right;\">\n",
       "      <th></th>\n",
       "      <th>event_name</th>\n",
       "      <th>user_id</th>\n",
       "      <th>event_date</th>\n",
       "      <th>exp_id</th>\n",
       "      <th>date</th>\n",
       "    </tr>\n",
       "  </thead>\n",
       "  <tbody>\n",
       "    <tr>\n",
       "      <th>0</th>\n",
       "      <td>MainScreenAppear</td>\n",
       "      <td>4575588528974610257</td>\n",
       "      <td>2019-07-25</td>\n",
       "      <td>246</td>\n",
       "      <td>2019-07-25 04:43:36</td>\n",
       "    </tr>\n",
       "    <tr>\n",
       "      <th>1</th>\n",
       "      <td>MainScreenAppear</td>\n",
       "      <td>7416695313311560658</td>\n",
       "      <td>2019-07-25</td>\n",
       "      <td>246</td>\n",
       "      <td>2019-07-25 11:11:42</td>\n",
       "    </tr>\n",
       "    <tr>\n",
       "      <th>2</th>\n",
       "      <td>PaymentScreenSuccessful</td>\n",
       "      <td>3518123091307005509</td>\n",
       "      <td>2019-07-25</td>\n",
       "      <td>248</td>\n",
       "      <td>2019-07-25 11:28:47</td>\n",
       "    </tr>\n",
       "    <tr>\n",
       "      <th>3</th>\n",
       "      <td>CartScreenAppear</td>\n",
       "      <td>3518123091307005509</td>\n",
       "      <td>2019-07-25</td>\n",
       "      <td>248</td>\n",
       "      <td>2019-07-25 11:28:47</td>\n",
       "    </tr>\n",
       "    <tr>\n",
       "      <th>4</th>\n",
       "      <td>PaymentScreenSuccessful</td>\n",
       "      <td>6217807653094995999</td>\n",
       "      <td>2019-07-25</td>\n",
       "      <td>248</td>\n",
       "      <td>2019-07-25 11:48:42</td>\n",
       "    </tr>\n",
       "  </tbody>\n",
       "</table>\n",
       "</div>"
      ],
      "text/plain": [
       "                event_name              user_id event_date  exp_id  \\\n",
       "0         MainScreenAppear  4575588528974610257 2019-07-25     246   \n",
       "1         MainScreenAppear  7416695313311560658 2019-07-25     246   \n",
       "2  PaymentScreenSuccessful  3518123091307005509 2019-07-25     248   \n",
       "3         CartScreenAppear  3518123091307005509 2019-07-25     248   \n",
       "4  PaymentScreenSuccessful  6217807653094995999 2019-07-25     248   \n",
       "\n",
       "                 date  \n",
       "0 2019-07-25 04:43:36  \n",
       "1 2019-07-25 11:11:42  \n",
       "2 2019-07-25 11:28:47  \n",
       "3 2019-07-25 11:28:47  \n",
       "4 2019-07-25 11:48:42  "
      ]
     },
     "execution_count": 6,
     "metadata": {},
     "output_type": "execute_result"
    }
   ],
   "source": [
    "data_log['event_date'] = data_log['event_date'].astype('datetime64[D]')\n",
    "data_log.head()"
   ]
  },
  {
   "cell_type": "markdown",
   "metadata": {},
   "source": [
    "Изучить типы данных, которые у нас имеются."
   ]
  },
  {
   "cell_type": "code",
   "execution_count": 7,
   "metadata": {},
   "outputs": [
    {
     "name": "stdout",
     "output_type": "stream",
     "text": [
      "<class 'pandas.core.frame.DataFrame'>\n",
      "RangeIndex: 244126 entries, 0 to 244125\n",
      "Data columns (total 5 columns):\n",
      " #   Column      Non-Null Count   Dtype         \n",
      "---  ------      --------------   -----         \n",
      " 0   event_name  244126 non-null  object        \n",
      " 1   user_id     244126 non-null  int64         \n",
      " 2   event_date  244126 non-null  datetime64[ns]\n",
      " 3   exp_id      244126 non-null  int64         \n",
      " 4   date        244126 non-null  datetime64[ns]\n",
      "dtypes: datetime64[ns](2), int64(2), object(1)\n",
      "memory usage: 9.3+ MB\n"
     ]
    }
   ],
   "source": [
    "data_log.info()"
   ]
  },
  {
   "cell_type": "markdown",
   "metadata": {},
   "source": [
    "Проверить наличие пропусков в данных."
   ]
  },
  {
   "cell_type": "code",
   "execution_count": 8,
   "metadata": {},
   "outputs": [
    {
     "data": {
      "text/plain": [
       "event_name    0\n",
       "user_id       0\n",
       "event_date    0\n",
       "exp_id        0\n",
       "date          0\n",
       "dtype: int64"
      ]
     },
     "execution_count": 8,
     "metadata": {},
     "output_type": "execute_result"
    }
   ],
   "source": [
    "data_log.isna().sum()"
   ]
  },
  {
   "cell_type": "markdown",
   "metadata": {},
   "source": [
    "Оценить наличие дубликатов в данных. Визуализировать оценку."
   ]
  },
  {
   "cell_type": "code",
   "execution_count": 9,
   "metadata": {},
   "outputs": [
    {
     "data": {
      "text/html": [
       "<div>\n",
       "<style scoped>\n",
       "    .dataframe tbody tr th:only-of-type {\n",
       "        vertical-align: middle;\n",
       "    }\n",
       "\n",
       "    .dataframe tbody tr th {\n",
       "        vertical-align: top;\n",
       "    }\n",
       "\n",
       "    .dataframe thead th {\n",
       "        text-align: right;\n",
       "    }\n",
       "</style>\n",
       "<table border=\"1\" class=\"dataframe\">\n",
       "  <thead>\n",
       "    <tr style=\"text-align: right;\">\n",
       "      <th></th>\n",
       "      <th>event_date</th>\n",
       "      <th>user_id</th>\n",
       "    </tr>\n",
       "  </thead>\n",
       "  <tbody>\n",
       "    <tr>\n",
       "      <th>2</th>\n",
       "      <td>2019-08-01</td>\n",
       "      <td>88</td>\n",
       "    </tr>\n",
       "    <tr>\n",
       "      <th>4</th>\n",
       "      <td>2019-08-03</td>\n",
       "      <td>69</td>\n",
       "    </tr>\n",
       "    <tr>\n",
       "      <th>5</th>\n",
       "      <td>2019-08-04</td>\n",
       "      <td>65</td>\n",
       "    </tr>\n",
       "    <tr>\n",
       "      <th>6</th>\n",
       "      <td>2019-08-05</td>\n",
       "      <td>55</td>\n",
       "    </tr>\n",
       "    <tr>\n",
       "      <th>3</th>\n",
       "      <td>2019-08-02</td>\n",
       "      <td>52</td>\n",
       "    </tr>\n",
       "    <tr>\n",
       "      <th>8</th>\n",
       "      <td>2019-08-07</td>\n",
       "      <td>48</td>\n",
       "    </tr>\n",
       "    <tr>\n",
       "      <th>7</th>\n",
       "      <td>2019-08-06</td>\n",
       "      <td>34</td>\n",
       "    </tr>\n",
       "    <tr>\n",
       "      <th>0</th>\n",
       "      <td>2019-07-30</td>\n",
       "      <td>1</td>\n",
       "    </tr>\n",
       "    <tr>\n",
       "      <th>1</th>\n",
       "      <td>2019-07-31</td>\n",
       "      <td>1</td>\n",
       "    </tr>\n",
       "  </tbody>\n",
       "</table>\n",
       "</div>"
      ],
      "text/plain": [
       "  event_date  user_id\n",
       "2 2019-08-01       88\n",
       "4 2019-08-03       69\n",
       "5 2019-08-04       65\n",
       "6 2019-08-05       55\n",
       "3 2019-08-02       52\n",
       "8 2019-08-07       48\n",
       "7 2019-08-06       34\n",
       "0 2019-07-30        1\n",
       "1 2019-07-31        1"
      ]
     },
     "execution_count": 9,
     "metadata": {},
     "output_type": "execute_result"
    }
   ],
   "source": [
    "uplicateRows = data_log[data_log.duplicated ()]\n",
    "uplicateRows = uplicateRows.pivot_table(values = 'user_id', index = 'event_date', aggfunc = 'count').reset_index().\\\n",
    "sort_values(by = 'user_id',ascending = False)\n",
    "\n",
    "uplicateRows"
   ]
  },
  {
   "cell_type": "code",
   "execution_count": 10,
   "metadata": {},
   "outputs": [
    {
     "data": {
      "image/png": "[encoded data removed]",
      "text/plain": [
       "<Figure size 720x504 with 1 Axes>"
      ]
     },
     "metadata": {
      "needs_background": "light"
     },
     "output_type": "display_data"
    }
   ],
   "source": [
    "fig, ax = plt.subplots(figsize=(10,7))\n",
    "sns.barplot(data=uplicateRows, x=\"event_date\", y ='user_id' ,ci = False)\n",
    "\n",
    "plt.xlabel(\"Дата события\")\n",
    "plt.ylabel(\"Количество дубликатов\")\n",
    "ax.set_facecolor('lightblue')\n",
    "\n",
    "plt.xticks([0, 1, 2, 3, 4, 5, 6, 7, 8 ],['2019-08-01','2019-08-03','2019-08-04','2019-08-05', '2019-08-02', '2019-08-07',\\\n",
    "'2019-08-06', '2019-07-30', '2019-07-31']);"
   ]
  },
  {
   "cell_type": "markdown",
   "metadata": {},
   "source": [
    "Больше всего дубликатов у нас за 30 число, данные которые мы как раз очистим ниже. Не думаю что стоит убирать дубликаты, потому что они у нас достаточно одинаково распределены и если мы удалим например дубликаты за 6 число, потому что там больший показатель дубликатов, то нам придется также удалить и все остальные дубликаты, с других чисел. Иначе возникнет перекос по дубликатам , что может исказить данные дальнейших исследований. Дубликаты при посещении страниц могли возникнуть по разным причинам, одна из возможных: некорректная прогрузка сайта, когда данные о посещениях перезаписывались."
   ]
  },
  {
   "cell_type": "markdown",
   "metadata": {},
   "source": [
    "Посчитать количество событий в логе."
   ]
  },
  {
   "cell_type": "code",
   "execution_count": 11,
   "metadata": {},
   "outputs": [
    {
     "data": {
      "text/html": [
       "<div>\n",
       "<style scoped>\n",
       "    .dataframe tbody tr th:only-of-type {\n",
       "        vertical-align: middle;\n",
       "    }\n",
       "\n",
       "    .dataframe tbody tr th {\n",
       "        vertical-align: top;\n",
       "    }\n",
       "\n",
       "    .dataframe thead th {\n",
       "        text-align: right;\n",
       "    }\n",
       "</style>\n",
       "<table border=\"1\" class=\"dataframe\">\n",
       "  <thead>\n",
       "    <tr style=\"text-align: right;\">\n",
       "      <th></th>\n",
       "      <th>event_name</th>\n",
       "      <th>event_date</th>\n",
       "    </tr>\n",
       "  </thead>\n",
       "  <tbody>\n",
       "    <tr>\n",
       "      <th>0</th>\n",
       "      <td>CartScreenAppear</td>\n",
       "      <td>42731</td>\n",
       "    </tr>\n",
       "    <tr>\n",
       "      <th>1</th>\n",
       "      <td>MainScreenAppear</td>\n",
       "      <td>119205</td>\n",
       "    </tr>\n",
       "    <tr>\n",
       "      <th>2</th>\n",
       "      <td>OffersScreenAppear</td>\n",
       "      <td>46825</td>\n",
       "    </tr>\n",
       "    <tr>\n",
       "      <th>3</th>\n",
       "      <td>PaymentScreenSuccessful</td>\n",
       "      <td>34313</td>\n",
       "    </tr>\n",
       "    <tr>\n",
       "      <th>4</th>\n",
       "      <td>Tutorial</td>\n",
       "      <td>1052</td>\n",
       "    </tr>\n",
       "  </tbody>\n",
       "</table>\n",
       "</div>"
      ],
      "text/plain": [
       "                event_name  event_date\n",
       "0         CartScreenAppear       42731\n",
       "1         MainScreenAppear      119205\n",
       "2       OffersScreenAppear       46825\n",
       "3  PaymentScreenSuccessful       34313\n",
       "4                 Tutorial        1052"
      ]
     },
     "execution_count": 11,
     "metadata": {},
     "output_type": "execute_result"
    }
   ],
   "source": [
    "data_log.groupby('event_name').agg({'event_date':'count'}).reset_index()"
   ]
  },
  {
   "cell_type": "markdown",
   "metadata": {},
   "source": [
    "Посчитать количество уникальных пользователей в логе."
   ]
  },
  {
   "cell_type": "code",
   "execution_count": 12,
   "metadata": {},
   "outputs": [
    {
     "name": "stdout",
     "output_type": "stream",
     "text": [
      "Общее количество уникальных пользователей перед удалением аномальных пользователей: 7551 \n",
      " Общее количество данных перед удалением аномальных пользователей: 244126\n"
     ]
    },
    {
     "data": {
      "text/html": [
       "<div>\n",
       "<style scoped>\n",
       "    .dataframe tbody tr th:only-of-type {\n",
       "        vertical-align: middle;\n",
       "    }\n",
       "\n",
       "    .dataframe tbody tr th {\n",
       "        vertical-align: top;\n",
       "    }\n",
       "\n",
       "    .dataframe thead th {\n",
       "        text-align: right;\n",
       "    }\n",
       "</style>\n",
       "<table border=\"1\" class=\"dataframe\">\n",
       "  <thead>\n",
       "    <tr style=\"text-align: right;\">\n",
       "      <th></th>\n",
       "      <th>event_name</th>\n",
       "      <th>user_id</th>\n",
       "    </tr>\n",
       "  </thead>\n",
       "  <tbody>\n",
       "    <tr>\n",
       "      <th>0</th>\n",
       "      <td>CartScreenAppear</td>\n",
       "      <td>3749</td>\n",
       "    </tr>\n",
       "    <tr>\n",
       "      <th>1</th>\n",
       "      <td>MainScreenAppear</td>\n",
       "      <td>7439</td>\n",
       "    </tr>\n",
       "    <tr>\n",
       "      <th>2</th>\n",
       "      <td>OffersScreenAppear</td>\n",
       "      <td>4613</td>\n",
       "    </tr>\n",
       "    <tr>\n",
       "      <th>3</th>\n",
       "      <td>PaymentScreenSuccessful</td>\n",
       "      <td>3547</td>\n",
       "    </tr>\n",
       "    <tr>\n",
       "      <th>4</th>\n",
       "      <td>Tutorial</td>\n",
       "      <td>847</td>\n",
       "    </tr>\n",
       "  </tbody>\n",
       "</table>\n",
       "</div>"
      ],
      "text/plain": [
       "                event_name  user_id\n",
       "0         CartScreenAppear     3749\n",
       "1         MainScreenAppear     7439\n",
       "2       OffersScreenAppear     4613\n",
       "3  PaymentScreenSuccessful     3547\n",
       "4                 Tutorial      847"
      ]
     },
     "metadata": {},
     "output_type": "display_data"
    }
   ],
   "source": [
    "number_of_users = data_log.groupby('event_name').agg({'user_id':'nunique'}).reset_index()\n",
    "total_number_of_users = data_log['user_id'].nunique()\n",
    "total_amount_of_data = data_log['user_id'].count()\n",
    "\n",
    "print(\"Общее количество уникальных пользователей перед удалением аномальных пользователей:\",total_number_of_users,\n",
    "      '\\n',\n",
    "      \"Общее количество данных перед удалением аномальных пользователей:\",total_amount_of_data) \n",
    "display(number_of_users)"
   ]
  },
  {
   "cell_type": "markdown",
   "metadata": {},
   "source": [
    "Посчитать сколько в среднем событий приходится на одного пользователя."
   ]
  },
  {
   "cell_type": "code",
   "execution_count": 13,
   "metadata": {},
   "outputs": [
    {
     "name": "stdout",
     "output_type": "stream",
     "text": [
      "Среднее количество событий на пользователя равно:  32\n"
     ]
    },
    {
     "data": {
      "text/html": [
       "<div>\n",
       "<style scoped>\n",
       "    .dataframe tbody tr th:only-of-type {\n",
       "        vertical-align: middle;\n",
       "    }\n",
       "\n",
       "    .dataframe tbody tr th {\n",
       "        vertical-align: top;\n",
       "    }\n",
       "\n",
       "    .dataframe thead th {\n",
       "        text-align: right;\n",
       "    }\n",
       "</style>\n",
       "<table border=\"1\" class=\"dataframe\">\n",
       "  <thead>\n",
       "    <tr style=\"text-align: right;\">\n",
       "      <th></th>\n",
       "      <th>user_id</th>\n",
       "      <th>event_name</th>\n",
       "    </tr>\n",
       "  </thead>\n",
       "  <tbody>\n",
       "    <tr>\n",
       "      <th>5116</th>\n",
       "      <td>6304868067479728361</td>\n",
       "      <td>2308</td>\n",
       "    </tr>\n",
       "    <tr>\n",
       "      <th>147</th>\n",
       "      <td>197027893265565660</td>\n",
       "      <td>2003</td>\n",
       "    </tr>\n",
       "    <tr>\n",
       "      <th>3714</th>\n",
       "      <td>4623191541214045580</td>\n",
       "      <td>1771</td>\n",
       "    </tr>\n",
       "    <tr>\n",
       "      <th>5590</th>\n",
       "      <td>6932517045703054087</td>\n",
       "      <td>1448</td>\n",
       "    </tr>\n",
       "    <tr>\n",
       "      <th>1391</th>\n",
       "      <td>1754140665440434215</td>\n",
       "      <td>1222</td>\n",
       "    </tr>\n",
       "    <tr>\n",
       "      <th>...</th>\n",
       "      <td>...</td>\n",
       "      <td>...</td>\n",
       "    </tr>\n",
       "    <tr>\n",
       "      <th>5656</th>\n",
       "      <td>7003124882657797758</td>\n",
       "      <td>33</td>\n",
       "    </tr>\n",
       "    <tr>\n",
       "      <th>4040</th>\n",
       "      <td>4993960573648336100</td>\n",
       "      <td>33</td>\n",
       "    </tr>\n",
       "    <tr>\n",
       "      <th>5046</th>\n",
       "      <td>6224840966394928541</td>\n",
       "      <td>33</td>\n",
       "    </tr>\n",
       "    <tr>\n",
       "      <th>6110</th>\n",
       "      <td>7525415361824974551</td>\n",
       "      <td>33</td>\n",
       "    </tr>\n",
       "    <tr>\n",
       "      <th>5477</th>\n",
       "      <td>6802134361559051562</td>\n",
       "      <td>32</td>\n",
       "    </tr>\n",
       "  </tbody>\n",
       "</table>\n",
       "<p>2289 rows × 2 columns</p>\n",
       "</div>"
      ],
      "text/plain": [
       "                  user_id  event_name\n",
       "5116  6304868067479728361        2308\n",
       "147    197027893265565660        2003\n",
       "3714  4623191541214045580        1771\n",
       "5590  6932517045703054087        1448\n",
       "1391  1754140665440434215        1222\n",
       "...                   ...         ...\n",
       "5656  7003124882657797758          33\n",
       "4040  4993960573648336100          33\n",
       "5046  6224840966394928541          33\n",
       "6110  7525415361824974551          33\n",
       "5477  6802134361559051562          32\n",
       "\n",
       "[2289 rows x 2 columns]"
      ]
     },
     "execution_count": 13,
     "metadata": {},
     "output_type": "execute_result"
    }
   ],
   "source": [
    "print('Среднее количество событий на пользователя равно: ',\\\n",
    "      int(np.round(data_log.groupby('user_id').agg({'event_name':'count'}).mean())))\n",
    "data_log.groupby('user_id').agg({'event_name':'count'}).reset_index().sort_values(by = 'event_name', ascending = False).head(2289)"
   ]
  },
  {
   "cell_type": "code",
   "execution_count": 14,
   "metadata": {},
   "outputs": [
    {
     "data": {
      "text/plain": [
       "7551"
      ]
     },
     "execution_count": 14,
     "metadata": {},
     "output_type": "execute_result"
    }
   ],
   "source": [
    "sum_event = data_log.groupby('user_id').agg({'event_name':'count'}).reset_index()\n",
    "sum_event['event_name'].count()"
   ]
  },
  {
   "cell_type": "markdown",
   "metadata": {},
   "source": [
    "Определить минимальную и максимальную дату времени эксперимента до очистки данных."
   ]
  },
  {
   "cell_type": "code",
   "execution_count": 15,
   "metadata": {},
   "outputs": [
    {
     "name": "stdout",
     "output_type": "stream",
     "text": [
      "Первая дата событий: 2019-07-25 00:00:00 \n",
      " Последняя дата событий: 2019-08-07 00:00:00\n"
     ]
    }
   ],
   "source": [
    "print(\"Первая дата событий:\",data_log['event_date'].min(),\"\\n\",\"Последняя дата событий:\",data_log['event_date'].max())"
   ]
  },
  {
   "cell_type": "markdown",
   "metadata": {},
   "source": [
    "Первая дата событий это 25  июля.Поэтому чтобы определить аномальные зоны пользователей, которые могли прийти в приложение раньше, чем начался эксперимент , мы срежем первые дни эксперимента и посмотрим на активность пользователей в эти дни, и если окажется что там менее активные зоны, то скорее всего, они не относятся к эксперименту и данные этих пользователей могут исказить резуьтаты исследования, которое мы проводим."
   ]
  },
  {
   "cell_type": "markdown",
   "metadata": {},
   "source": [
    "Сделать срез для проверки аномальных зон."
   ]
  },
  {
   "cell_type": "code",
   "execution_count": 16,
   "metadata": {},
   "outputs": [
    {
     "data": {
      "text/html": [
       "<div>\n",
       "<style scoped>\n",
       "    .dataframe tbody tr th:only-of-type {\n",
       "        vertical-align: middle;\n",
       "    }\n",
       "\n",
       "    .dataframe tbody tr th {\n",
       "        vertical-align: top;\n",
       "    }\n",
       "\n",
       "    .dataframe thead th {\n",
       "        text-align: right;\n",
       "    }\n",
       "</style>\n",
       "<table border=\"1\" class=\"dataframe\">\n",
       "  <thead>\n",
       "    <tr style=\"text-align: right;\">\n",
       "      <th></th>\n",
       "      <th>event_name</th>\n",
       "      <th>user_id</th>\n",
       "      <th>event_date</th>\n",
       "      <th>exp_id</th>\n",
       "      <th>date</th>\n",
       "    </tr>\n",
       "  </thead>\n",
       "  <tbody>\n",
       "    <tr>\n",
       "      <th>9</th>\n",
       "      <td>MainScreenAppear</td>\n",
       "      <td>5407636962369102641</td>\n",
       "      <td>2019-07-26</td>\n",
       "      <td>246</td>\n",
       "      <td>2019-07-26 03:35:12</td>\n",
       "    </tr>\n",
       "    <tr>\n",
       "      <th>10</th>\n",
       "      <td>MainScreenAppear</td>\n",
       "      <td>948465712512390382</td>\n",
       "      <td>2019-07-26</td>\n",
       "      <td>247</td>\n",
       "      <td>2019-07-26 05:33:34</td>\n",
       "    </tr>\n",
       "    <tr>\n",
       "      <th>11</th>\n",
       "      <td>MainScreenAppear</td>\n",
       "      <td>2547684315586332355</td>\n",
       "      <td>2019-07-26</td>\n",
       "      <td>248</td>\n",
       "      <td>2019-07-26 06:50:26</td>\n",
       "    </tr>\n",
       "    <tr>\n",
       "      <th>12</th>\n",
       "      <td>MainScreenAppear</td>\n",
       "      <td>8885295911290764495</td>\n",
       "      <td>2019-07-26</td>\n",
       "      <td>248</td>\n",
       "      <td>2019-07-26 06:54:45</td>\n",
       "    </tr>\n",
       "    <tr>\n",
       "      <th>13</th>\n",
       "      <td>MainScreenAppear</td>\n",
       "      <td>2140904690380565988</td>\n",
       "      <td>2019-07-26</td>\n",
       "      <td>247</td>\n",
       "      <td>2019-07-26 07:22:12</td>\n",
       "    </tr>\n",
       "    <tr>\n",
       "      <th>...</th>\n",
       "      <td>...</td>\n",
       "      <td>...</td>\n",
       "      <td>...</td>\n",
       "      <td>...</td>\n",
       "      <td>...</td>\n",
       "    </tr>\n",
       "    <tr>\n",
       "      <th>74658</th>\n",
       "      <td>MainScreenAppear</td>\n",
       "      <td>8652127031019540255</td>\n",
       "      <td>2019-08-02</td>\n",
       "      <td>247</td>\n",
       "      <td>2019-08-02 23:59:27</td>\n",
       "    </tr>\n",
       "    <tr>\n",
       "      <th>74659</th>\n",
       "      <td>MainScreenAppear</td>\n",
       "      <td>813201901330563996</td>\n",
       "      <td>2019-08-02</td>\n",
       "      <td>247</td>\n",
       "      <td>2019-08-02 23:59:31</td>\n",
       "    </tr>\n",
       "    <tr>\n",
       "      <th>74660</th>\n",
       "      <td>OffersScreenAppear</td>\n",
       "      <td>8652127031019540255</td>\n",
       "      <td>2019-08-02</td>\n",
       "      <td>247</td>\n",
       "      <td>2019-08-02 23:59:33</td>\n",
       "    </tr>\n",
       "    <tr>\n",
       "      <th>74661</th>\n",
       "      <td>OffersScreenAppear</td>\n",
       "      <td>813201901330563996</td>\n",
       "      <td>2019-08-02</td>\n",
       "      <td>247</td>\n",
       "      <td>2019-08-02 23:59:35</td>\n",
       "    </tr>\n",
       "    <tr>\n",
       "      <th>74662</th>\n",
       "      <td>OffersScreenAppear</td>\n",
       "      <td>813201901330563996</td>\n",
       "      <td>2019-08-02</td>\n",
       "      <td>247</td>\n",
       "      <td>2019-08-02 23:59:45</td>\n",
       "    </tr>\n",
       "  </tbody>\n",
       "</table>\n",
       "<p>74654 rows × 5 columns</p>\n",
       "</div>"
      ],
      "text/plain": [
       "               event_name              user_id event_date  exp_id  \\\n",
       "9        MainScreenAppear  5407636962369102641 2019-07-26     246   \n",
       "10       MainScreenAppear   948465712512390382 2019-07-26     247   \n",
       "11       MainScreenAppear  2547684315586332355 2019-07-26     248   \n",
       "12       MainScreenAppear  8885295911290764495 2019-07-26     248   \n",
       "13       MainScreenAppear  2140904690380565988 2019-07-26     247   \n",
       "...                   ...                  ...        ...     ...   \n",
       "74658    MainScreenAppear  8652127031019540255 2019-08-02     247   \n",
       "74659    MainScreenAppear   813201901330563996 2019-08-02     247   \n",
       "74660  OffersScreenAppear  8652127031019540255 2019-08-02     247   \n",
       "74661  OffersScreenAppear   813201901330563996 2019-08-02     247   \n",
       "74662  OffersScreenAppear   813201901330563996 2019-08-02     247   \n",
       "\n",
       "                     date  \n",
       "9     2019-07-26 03:35:12  \n",
       "10    2019-07-26 05:33:34  \n",
       "11    2019-07-26 06:50:26  \n",
       "12    2019-07-26 06:54:45  \n",
       "13    2019-07-26 07:22:12  \n",
       "...                   ...  \n",
       "74658 2019-08-02 23:59:27  \n",
       "74659 2019-08-02 23:59:31  \n",
       "74660 2019-08-02 23:59:33  \n",
       "74661 2019-08-02 23:59:35  \n",
       "74662 2019-08-02 23:59:45  \n",
       "\n",
       "[74654 rows x 5 columns]"
      ]
     },
     "execution_count": 16,
     "metadata": {},
     "output_type": "execute_result"
    }
   ],
   "source": [
    "df = data_log[(data_log['event_date']> \"2019-07-25\") & (data_log['event_date']<= \"2019-08-02\")]\n",
    "df"
   ]
  },
  {
   "cell_type": "markdown",
   "metadata": {},
   "source": [
    "Сделать сводную таблицу для проверки аномальных зон."
   ]
  },
  {
   "cell_type": "code",
   "execution_count": 17,
   "metadata": {},
   "outputs": [
    {
     "data": {
      "text/html": [
       "<div>\n",
       "<style scoped>\n",
       "    .dataframe tbody tr th:only-of-type {\n",
       "        vertical-align: middle;\n",
       "    }\n",
       "\n",
       "    .dataframe tbody tr th {\n",
       "        vertical-align: top;\n",
       "    }\n",
       "\n",
       "    .dataframe thead th {\n",
       "        text-align: right;\n",
       "    }\n",
       "</style>\n",
       "<table border=\"1\" class=\"dataframe\">\n",
       "  <thead>\n",
       "    <tr style=\"text-align: right;\">\n",
       "      <th></th>\n",
       "      <th>event_date</th>\n",
       "      <th>user_id</th>\n",
       "    </tr>\n",
       "  </thead>\n",
       "  <tbody>\n",
       "    <tr>\n",
       "      <th>0</th>\n",
       "      <td>2019-07-26</td>\n",
       "      <td>22</td>\n",
       "    </tr>\n",
       "    <tr>\n",
       "      <th>1</th>\n",
       "      <td>2019-07-27</td>\n",
       "      <td>39</td>\n",
       "    </tr>\n",
       "    <tr>\n",
       "      <th>2</th>\n",
       "      <td>2019-07-28</td>\n",
       "      <td>69</td>\n",
       "    </tr>\n",
       "    <tr>\n",
       "      <th>3</th>\n",
       "      <td>2019-07-29</td>\n",
       "      <td>135</td>\n",
       "    </tr>\n",
       "    <tr>\n",
       "      <th>4</th>\n",
       "      <td>2019-07-30</td>\n",
       "      <td>296</td>\n",
       "    </tr>\n",
       "    <tr>\n",
       "      <th>5</th>\n",
       "      <td>2019-07-31</td>\n",
       "      <td>924</td>\n",
       "    </tr>\n",
       "    <tr>\n",
       "      <th>6</th>\n",
       "      <td>2019-08-01</td>\n",
       "      <td>3703</td>\n",
       "    </tr>\n",
       "    <tr>\n",
       "      <th>7</th>\n",
       "      <td>2019-08-02</td>\n",
       "      <td>3647</td>\n",
       "    </tr>\n",
       "  </tbody>\n",
       "</table>\n",
       "</div>"
      ],
      "text/plain": [
       "  event_date  user_id\n",
       "0 2019-07-26       22\n",
       "1 2019-07-27       39\n",
       "2 2019-07-28       69\n",
       "3 2019-07-29      135\n",
       "4 2019-07-30      296\n",
       "5 2019-07-31      924\n",
       "6 2019-08-01     3703\n",
       "7 2019-08-02     3647"
      ]
     },
     "execution_count": 17,
     "metadata": {},
     "output_type": "execute_result"
    }
   ],
   "source": [
    "abnormal_users_pivot_table = (\n",
    "    df.pivot_table(index='event_date', values='user_id', aggfunc = 'nunique')\n",
    "    .reset_index()\n",
    ")\n",
    "abnormal_users_pivot_table"
   ]
  },
  {
   "cell_type": "markdown",
   "metadata": {},
   "source": [
    "Построить график, отображающий аномальные зоны."
   ]
  },
  {
   "cell_type": "code",
   "execution_count": 18,
   "metadata": {},
   "outputs": [
    {
     "data": {
      "image/png": "[encoded data removed]",
      "text/plain": [
       "<Figure size 720x504 with 1 Axes>"
      ]
     },
     "metadata": {
      "needs_background": "light"
     },
     "output_type": "display_data"
    }
   ],
   "source": [
    "fig, ax = plt.subplots(figsize=(10,7))\n",
    "sns.barplot(data=abnormal_users_pivot_table, x=\"event_date\", y=\"user_id\")\n",
    "ax.set_xticklabels(abnormal_users_pivot_table.event_date.dt.date)\n",
    "plt.xlabel(\"Дата события\")\n",
    "plt.ylabel(\"Количество уникальных пользователей\")\n",
    "ax.set_facecolor('lightblue');"
   ]
  },
  {
   "cell_type": "markdown",
   "metadata": {},
   "source": [
    "Можно сделать вывод, что количество пользователей начинает расти только 1 числа 8 месяца, а это значит, что информация за предыдущие дни может исказить достоверность исследования, поэтому нам стоит ее исключить из анализа."
   ]
  },
  {
   "cell_type": "markdown",
   "metadata": {},
   "source": [
    "Удалить аномальных пользователей."
   ]
  },
  {
   "cell_type": "code",
   "execution_count": 68,
   "metadata": {},
   "outputs": [
    {
     "data": {
      "text/html": [
       "<div>\n",
       "<style scoped>\n",
       "    .dataframe tbody tr th:only-of-type {\n",
       "        vertical-align: middle;\n",
       "    }\n",
       "\n",
       "    .dataframe tbody tr th {\n",
       "        vertical-align: top;\n",
       "    }\n",
       "\n",
       "    .dataframe thead th {\n",
       "        text-align: right;\n",
       "    }\n",
       "</style>\n",
       "<table border=\"1\" class=\"dataframe\">\n",
       "  <thead>\n",
       "    <tr style=\"text-align: right;\">\n",
       "      <th></th>\n",
       "      <th>event_name</th>\n",
       "      <th>user_id</th>\n",
       "      <th>event_date</th>\n",
       "      <th>exp_id</th>\n",
       "      <th>date</th>\n",
       "    </tr>\n",
       "  </thead>\n",
       "  <tbody>\n",
       "    <tr>\n",
       "      <th>2828</th>\n",
       "      <td>Tutorial</td>\n",
       "      <td>3737462046622621720</td>\n",
       "      <td>2019-08-01</td>\n",
       "      <td>A</td>\n",
       "      <td>2019-08-01 00:07:28</td>\n",
       "    </tr>\n",
       "    <tr>\n",
       "      <th>2829</th>\n",
       "      <td>MainScreenAppear</td>\n",
       "      <td>3737462046622621720</td>\n",
       "      <td>2019-08-01</td>\n",
       "      <td>A</td>\n",
       "      <td>2019-08-01 00:08:00</td>\n",
       "    </tr>\n",
       "    <tr>\n",
       "      <th>2830</th>\n",
       "      <td>MainScreenAppear</td>\n",
       "      <td>3737462046622621720</td>\n",
       "      <td>2019-08-01</td>\n",
       "      <td>A</td>\n",
       "      <td>2019-08-01 00:08:55</td>\n",
       "    </tr>\n",
       "    <tr>\n",
       "      <th>2831</th>\n",
       "      <td>OffersScreenAppear</td>\n",
       "      <td>3737462046622621720</td>\n",
       "      <td>2019-08-01</td>\n",
       "      <td>A</td>\n",
       "      <td>2019-08-01 00:08:58</td>\n",
       "    </tr>\n",
       "    <tr>\n",
       "      <th>2832</th>\n",
       "      <td>MainScreenAppear</td>\n",
       "      <td>1433840883824088890</td>\n",
       "      <td>2019-08-01</td>\n",
       "      <td>B</td>\n",
       "      <td>2019-08-01 00:08:59</td>\n",
       "    </tr>\n",
       "    <tr>\n",
       "      <th>...</th>\n",
       "      <td>...</td>\n",
       "      <td>...</td>\n",
       "      <td>...</td>\n",
       "      <td>...</td>\n",
       "      <td>...</td>\n",
       "    </tr>\n",
       "    <tr>\n",
       "      <th>244121</th>\n",
       "      <td>MainScreenAppear</td>\n",
       "      <td>4599628364049201812</td>\n",
       "      <td>2019-08-07</td>\n",
       "      <td>B</td>\n",
       "      <td>2019-08-07 21:12:25</td>\n",
       "    </tr>\n",
       "    <tr>\n",
       "      <th>244122</th>\n",
       "      <td>MainScreenAppear</td>\n",
       "      <td>5849806612437486590</td>\n",
       "      <td>2019-08-07</td>\n",
       "      <td>A</td>\n",
       "      <td>2019-08-07 21:13:59</td>\n",
       "    </tr>\n",
       "    <tr>\n",
       "      <th>244123</th>\n",
       "      <td>MainScreenAppear</td>\n",
       "      <td>5746969938801999050</td>\n",
       "      <td>2019-08-07</td>\n",
       "      <td>A</td>\n",
       "      <td>2019-08-07 21:14:43</td>\n",
       "    </tr>\n",
       "    <tr>\n",
       "      <th>244124</th>\n",
       "      <td>MainScreenAppear</td>\n",
       "      <td>5746969938801999050</td>\n",
       "      <td>2019-08-07</td>\n",
       "      <td>A</td>\n",
       "      <td>2019-08-07 21:14:58</td>\n",
       "    </tr>\n",
       "    <tr>\n",
       "      <th>244125</th>\n",
       "      <td>OffersScreenAppear</td>\n",
       "      <td>5746969938801999050</td>\n",
       "      <td>2019-08-07</td>\n",
       "      <td>A</td>\n",
       "      <td>2019-08-07 21:15:17</td>\n",
       "    </tr>\n",
       "  </tbody>\n",
       "</table>\n",
       "<p>241298 rows × 5 columns</p>\n",
       "</div>"
      ],
      "text/plain": [
       "                event_name              user_id event_date exp_id  \\\n",
       "2828              Tutorial  3737462046622621720 2019-08-01      A   \n",
       "2829      MainScreenAppear  3737462046622621720 2019-08-01      A   \n",
       "2830      MainScreenAppear  3737462046622621720 2019-08-01      A   \n",
       "2831    OffersScreenAppear  3737462046622621720 2019-08-01      A   \n",
       "2832      MainScreenAppear  1433840883824088890 2019-08-01      B   \n",
       "...                    ...                  ...        ...    ...   \n",
       "244121    MainScreenAppear  4599628364049201812 2019-08-07      B   \n",
       "244122    MainScreenAppear  5849806612437486590 2019-08-07      A   \n",
       "244123    MainScreenAppear  5746969938801999050 2019-08-07      A   \n",
       "244124    MainScreenAppear  5746969938801999050 2019-08-07      A   \n",
       "244125  OffersScreenAppear  5746969938801999050 2019-08-07      A   \n",
       "\n",
       "                      date  \n",
       "2828   2019-08-01 00:07:28  \n",
       "2829   2019-08-01 00:08:00  \n",
       "2830   2019-08-01 00:08:55  \n",
       "2831   2019-08-01 00:08:58  \n",
       "2832   2019-08-01 00:08:59  \n",
       "...                    ...  \n",
       "244121 2019-08-07 21:12:25  \n",
       "244122 2019-08-07 21:13:59  \n",
       "244123 2019-08-07 21:14:43  \n",
       "244124 2019-08-07 21:14:58  \n",
       "244125 2019-08-07 21:15:17  \n",
       "\n",
       "[241298 rows x 5 columns]"
      ]
     },
     "execution_count": 68,
     "metadata": {},
     "output_type": "execute_result"
    }
   ],
   "source": [
    "data_log = data_log.loc[data_log['event_date'] >'2019-07-31']\n",
    "data_log"
   ]
  },
  {
   "cell_type": "markdown",
   "metadata": {},
   "source": [
    "Посчитать количество уникальных пользователей после очистки данных."
   ]
  },
  {
   "cell_type": "code",
   "execution_count": 69,
   "metadata": {
    "scrolled": false
   },
   "outputs": [
    {
     "data": {
      "text/plain": [
       "'было:'"
      ]
     },
     "metadata": {},
     "output_type": "display_data"
    },
    {
     "data": {
      "text/html": [
       "<div>\n",
       "<style scoped>\n",
       "    .dataframe tbody tr th:only-of-type {\n",
       "        vertical-align: middle;\n",
       "    }\n",
       "\n",
       "    .dataframe tbody tr th {\n",
       "        vertical-align: top;\n",
       "    }\n",
       "\n",
       "    .dataframe thead th {\n",
       "        text-align: right;\n",
       "    }\n",
       "</style>\n",
       "<table border=\"1\" class=\"dataframe\">\n",
       "  <thead>\n",
       "    <tr style=\"text-align: right;\">\n",
       "      <th></th>\n",
       "      <th>event_name</th>\n",
       "      <th>user_id</th>\n",
       "    </tr>\n",
       "  </thead>\n",
       "  <tbody>\n",
       "    <tr>\n",
       "      <th>0</th>\n",
       "      <td>CartScreenAppear</td>\n",
       "      <td>3749</td>\n",
       "    </tr>\n",
       "    <tr>\n",
       "      <th>1</th>\n",
       "      <td>MainScreenAppear</td>\n",
       "      <td>7439</td>\n",
       "    </tr>\n",
       "    <tr>\n",
       "      <th>2</th>\n",
       "      <td>OffersScreenAppear</td>\n",
       "      <td>4613</td>\n",
       "    </tr>\n",
       "    <tr>\n",
       "      <th>3</th>\n",
       "      <td>PaymentScreenSuccessful</td>\n",
       "      <td>3547</td>\n",
       "    </tr>\n",
       "    <tr>\n",
       "      <th>4</th>\n",
       "      <td>Tutorial</td>\n",
       "      <td>847</td>\n",
       "    </tr>\n",
       "  </tbody>\n",
       "</table>\n",
       "</div>"
      ],
      "text/plain": [
       "                event_name  user_id\n",
       "0         CartScreenAppear     3749\n",
       "1         MainScreenAppear     7439\n",
       "2       OffersScreenAppear     4613\n",
       "3  PaymentScreenSuccessful     3547\n",
       "4                 Tutorial      847"
      ]
     },
     "metadata": {},
     "output_type": "display_data"
    },
    {
     "data": {
      "text/plain": [
       "'стало:'"
      ]
     },
     "metadata": {},
     "output_type": "display_data"
    },
    {
     "data": {
      "text/html": [
       "<div>\n",
       "<style scoped>\n",
       "    .dataframe tbody tr th:only-of-type {\n",
       "        vertical-align: middle;\n",
       "    }\n",
       "\n",
       "    .dataframe tbody tr th {\n",
       "        vertical-align: top;\n",
       "    }\n",
       "\n",
       "    .dataframe thead th {\n",
       "        text-align: right;\n",
       "    }\n",
       "</style>\n",
       "<table border=\"1\" class=\"dataframe\">\n",
       "  <thead>\n",
       "    <tr style=\"text-align: right;\">\n",
       "      <th></th>\n",
       "      <th>event_name</th>\n",
       "      <th>user_id</th>\n",
       "    </tr>\n",
       "  </thead>\n",
       "  <tbody>\n",
       "    <tr>\n",
       "      <th>0</th>\n",
       "      <td>CartScreenAppear</td>\n",
       "      <td>3734</td>\n",
       "    </tr>\n",
       "    <tr>\n",
       "      <th>1</th>\n",
       "      <td>MainScreenAppear</td>\n",
       "      <td>7419</td>\n",
       "    </tr>\n",
       "    <tr>\n",
       "      <th>2</th>\n",
       "      <td>OffersScreenAppear</td>\n",
       "      <td>4593</td>\n",
       "    </tr>\n",
       "    <tr>\n",
       "      <th>3</th>\n",
       "      <td>PaymentScreenSuccessful</td>\n",
       "      <td>3539</td>\n",
       "    </tr>\n",
       "    <tr>\n",
       "      <th>4</th>\n",
       "      <td>Tutorial</td>\n",
       "      <td>840</td>\n",
       "    </tr>\n",
       "  </tbody>\n",
       "</table>\n",
       "</div>"
      ],
      "text/plain": [
       "                event_name  user_id\n",
       "0         CartScreenAppear     3734\n",
       "1         MainScreenAppear     7419\n",
       "2       OffersScreenAppear     4593\n",
       "3  PaymentScreenSuccessful     3539\n",
       "4                 Tutorial      840"
      ]
     },
     "metadata": {},
     "output_type": "display_data"
    },
    {
     "name": "stdout",
     "output_type": "stream",
     "text": [
      "Общее количество уникальных пользователей после удаления аномальных пользователей: 7534 \n",
      " Общее количество уникальных пользователей до удаления аномальных пользователей: 7551 \n",
      " Общее число удаленных пользователей:  17 \n",
      " Общее количество данных перед удалением аномальных пользователей: 244126 \n",
      " Общее количество данных после удаления аномальных пользователей: 241298 \n",
      " Общее число удаленных данных: 2828\n"
     ]
    }
   ],
   "source": [
    "number_of_users_after_cleaning = data_log.groupby('event_name').agg({'user_id':'nunique'}).reset_index()\n",
    "total_number_of_users_after_cleaning = data_log['user_id'].nunique()\n",
    "total_amount_of_data_after = data_log['user_id'].count()\n",
    "display(\"было:\",number_of_users,'стало:',number_of_users_after_cleaning)\n",
    "print(\"Общее количество уникальных пользователей после удаления аномальных пользователей:\",total_number_of_users_after_cleaning,\n",
    "      '\\n',\n",
    "     \"Общее количество уникальных пользователей до удаления аномальных пользователей:\",total_number_of_users,\n",
    "      '\\n',\n",
    "      \"Общее число удаленных пользователей: \", total_number_of_users - total_number_of_users_after_cleaning,\n",
    "      '\\n',\n",
    "      \"Общее количество данных перед удалением аномальных пользователей:\",total_amount_of_data,\n",
    "      '\\n',\n",
    "      \"Общее количество данных после удаления аномальных пользователей:\",total_amount_of_data_after,\n",
    "      '\\n',\n",
    "      'Общее число удаленных данных:', total_amount_of_data - total_amount_of_data_after\n",
    "     )\n"
   ]
  },
  {
   "cell_type": "markdown",
   "metadata": {},
   "source": [
    "Общая потеря среди пользователей составила : 17 пользователей."
   ]
  },
  {
   "cell_type": "markdown",
   "metadata": {},
   "source": [
    "Определить границы эксперимента после очистки даннных."
   ]
  },
  {
   "cell_type": "code",
   "execution_count": 21,
   "metadata": {},
   "outputs": [
    {
     "name": "stdout",
     "output_type": "stream",
     "text": [
      "Первая дата событий: 2019-08-01 00:00:00 \n",
      " Последняя дата событий: 2019-08-07 00:00:00\n"
     ]
    }
   ],
   "source": [
    "print(\"Первая дата событий:\",data_log['event_date'].min(),\"\\n\",\"Последняя дата событий:\",data_log['event_date'].max())"
   ]
  },
  {
   "cell_type": "markdown",
   "metadata": {},
   "source": [
    "Выходит, что настоящий период , который мы исследуем в нашем эксперименте - это период с 1 числа восьмого месяца по 7 число того же месяца, то есть 1 неделя."
   ]
  },
  {
   "cell_type": "markdown",
   "metadata": {},
   "source": [
    "Проверить наличие всех трех групп для дальнейшего анализа."
   ]
  },
  {
   "cell_type": "code",
   "execution_count": 22,
   "metadata": {},
   "outputs": [
    {
     "data": {
      "text/plain": [
       "array([246, 247, 248], dtype=int64)"
      ]
     },
     "execution_count": 22,
     "metadata": {},
     "output_type": "execute_result"
    }
   ],
   "source": [
    "data_log['exp_id'].unique()"
   ]
  },
  {
   "cell_type": "code",
   "execution_count": 70,
   "metadata": {},
   "outputs": [
    {
     "data": {
      "text/html": [
       "<div>\n",
       "<style scoped>\n",
       "    .dataframe tbody tr th:only-of-type {\n",
       "        vertical-align: middle;\n",
       "    }\n",
       "\n",
       "    .dataframe tbody tr th {\n",
       "        vertical-align: top;\n",
       "    }\n",
       "\n",
       "    .dataframe thead th {\n",
       "        text-align: right;\n",
       "    }\n",
       "</style>\n",
       "<table border=\"1\" class=\"dataframe\">\n",
       "  <thead>\n",
       "    <tr style=\"text-align: right;\">\n",
       "      <th></th>\n",
       "      <th>event_name</th>\n",
       "      <th>user_id</th>\n",
       "    </tr>\n",
       "  </thead>\n",
       "  <tbody>\n",
       "    <tr>\n",
       "      <th>0</th>\n",
       "      <td>MainScreenAppear</td>\n",
       "      <td>117431</td>\n",
       "    </tr>\n",
       "    <tr>\n",
       "      <th>1</th>\n",
       "      <td>OffersScreenAppear</td>\n",
       "      <td>46350</td>\n",
       "    </tr>\n",
       "    <tr>\n",
       "      <th>2</th>\n",
       "      <td>CartScreenAppear</td>\n",
       "      <td>42365</td>\n",
       "    </tr>\n",
       "    <tr>\n",
       "      <th>3</th>\n",
       "      <td>PaymentScreenSuccessful</td>\n",
       "      <td>34113</td>\n",
       "    </tr>\n",
       "    <tr>\n",
       "      <th>4</th>\n",
       "      <td>Tutorial</td>\n",
       "      <td>1039</td>\n",
       "    </tr>\n",
       "  </tbody>\n",
       "</table>\n",
       "</div>"
      ],
      "text/plain": [
       "                event_name  user_id\n",
       "0         MainScreenAppear   117431\n",
       "1       OffersScreenAppear    46350\n",
       "2         CartScreenAppear    42365\n",
       "3  PaymentScreenSuccessful    34113\n",
       "4                 Tutorial     1039"
      ]
     },
     "execution_count": 70,
     "metadata": {},
     "output_type": "execute_result"
    }
   ],
   "source": [
    "data_log.groupby('event_name')['user_id'].count().sort_values(ascending = False).reset_index()"
   ]
  },
  {
   "cell_type": "markdown",
   "metadata": {},
   "source": [
    "Чаще других встречается событие \"MainScreenAppear\", оно в 117 раз встречается чаще чем последнее по популярности событие, а именно: \"Tutorial\"."
   ]
  },
  {
   "cell_type": "markdown",
   "metadata": {},
   "source": [
    "Подсчитать долю пользователей для каждого типа события."
   ]
  },
  {
   "cell_type": "code",
   "execution_count": 24,
   "metadata": {},
   "outputs": [
    {
     "data": {
      "text/html": [
       "<div>\n",
       "<style scoped>\n",
       "    .dataframe tbody tr th:only-of-type {\n",
       "        vertical-align: middle;\n",
       "    }\n",
       "\n",
       "    .dataframe tbody tr th {\n",
       "        vertical-align: top;\n",
       "    }\n",
       "\n",
       "    .dataframe thead th {\n",
       "        text-align: right;\n",
       "    }\n",
       "</style>\n",
       "<table border=\"1\" class=\"dataframe\">\n",
       "  <thead>\n",
       "    <tr style=\"text-align: right;\">\n",
       "      <th></th>\n",
       "      <th>event_name</th>\n",
       "      <th>user_id</th>\n",
       "    </tr>\n",
       "  </thead>\n",
       "  <tbody>\n",
       "    <tr>\n",
       "      <th>0</th>\n",
       "      <td>MainScreenAppear</td>\n",
       "      <td>98.473586</td>\n",
       "    </tr>\n",
       "    <tr>\n",
       "      <th>1</th>\n",
       "      <td>OffersScreenAppear</td>\n",
       "      <td>60.963632</td>\n",
       "    </tr>\n",
       "    <tr>\n",
       "      <th>2</th>\n",
       "      <td>CartScreenAppear</td>\n",
       "      <td>49.561986</td>\n",
       "    </tr>\n",
       "    <tr>\n",
       "      <th>3</th>\n",
       "      <td>PaymentScreenSuccessful</td>\n",
       "      <td>46.973719</td>\n",
       "    </tr>\n",
       "    <tr>\n",
       "      <th>4</th>\n",
       "      <td>Tutorial</td>\n",
       "      <td>11.149456</td>\n",
       "    </tr>\n",
       "  </tbody>\n",
       "</table>\n",
       "</div>"
      ],
      "text/plain": [
       "                event_name    user_id\n",
       "0         MainScreenAppear  98.473586\n",
       "1       OffersScreenAppear  60.963632\n",
       "2         CartScreenAppear  49.561986\n",
       "3  PaymentScreenSuccessful  46.973719\n",
       "4                 Tutorial  11.149456"
      ]
     },
     "execution_count": 24,
     "metadata": {},
     "output_type": "execute_result"
    }
   ],
   "source": [
    "number_in_logs = data_log.groupby('event_name').agg({'user_id':'nunique'}).\\\n",
    "sort_values(by = 'user_id' , ascending = False).reset_index()\n",
    "the_number_of_total_logs = data_log['user_id'].nunique()\n",
    "number_in_logs['user_id'] = number_in_logs['user_id'] / the_number_of_total_logs * 100 \n",
    "number_in_logs"
   ]
  },
  {
   "cell_type": "markdown",
   "metadata": {},
   "source": [
    "Заменить названия групп тестирования."
   ]
  },
  {
   "cell_type": "code",
   "execution_count": 25,
   "metadata": {},
   "outputs": [],
   "source": [
    "data_log = data_log.replace({'exp_id' : { 246: 'A', 247 : 'B', 248 : 'C'}})"
   ]
  },
  {
   "cell_type": "markdown",
   "metadata": {},
   "source": [
    "### Сделать воронку для групп тестирования."
   ]
  },
  {
   "cell_type": "markdown",
   "metadata": {},
   "source": [
    "Подсчитать общее количество уникальных пользователей для каждой группы."
   ]
  },
  {
   "cell_type": "code",
   "execution_count": 26,
   "metadata": {},
   "outputs": [],
   "source": [
    "group_a = data_log.loc[data_log['exp_id'] == 'A']['user_id'].nunique()\n",
    "group_b = data_log.loc[data_log['exp_id'] == 'B']['user_id'].nunique()\n",
    "group_c = data_log.loc[data_log['exp_id'] == 'C']['user_id'].nunique()\n"
   ]
  },
  {
   "cell_type": "markdown",
   "metadata": {},
   "source": [
    "Подсчитать количество уникальных пользователей по каждому логу для группы А."
   ]
  },
  {
   "cell_type": "code",
   "execution_count": 27,
   "metadata": {},
   "outputs": [],
   "source": [
    "a =  data_log.loc[data_log['exp_id'] == 'A'].groupby(['event_name']).agg({ 'user_id':'nunique'}).reset_index().\\\n",
    "sort_values(by = 'user_id', ascending = False)"
   ]
  },
  {
   "cell_type": "markdown",
   "metadata": {},
   "source": [
    "Подсчитать долю каждого лога от общего количества пользователей в логе для группы А."
   ]
  },
  {
   "cell_type": "code",
   "execution_count": 28,
   "metadata": {},
   "outputs": [],
   "source": [
    "a['user_id'] = a['user_id'] / group_a * 100"
   ]
  },
  {
   "cell_type": "markdown",
   "metadata": {},
   "source": [
    "Добавить название группы в отдельный столбец."
   ]
  },
  {
   "cell_type": "code",
   "execution_count": 29,
   "metadata": {},
   "outputs": [],
   "source": [
    "a['group'] = 'A'"
   ]
  },
  {
   "cell_type": "markdown",
   "metadata": {},
   "source": [
    "Подсчитать количество уникальных пользователей по каждому логу для группы В."
   ]
  },
  {
   "cell_type": "code",
   "execution_count": 30,
   "metadata": {},
   "outputs": [],
   "source": [
    "b = data_log.loc[data_log['exp_id'] == 'B'].groupby(['event_name']).agg({ 'user_id':'nunique'}).reset_index().\\\n",
    "sort_values(by = 'user_id', ascending = False)"
   ]
  },
  {
   "cell_type": "markdown",
   "metadata": {},
   "source": [
    "Подсчитать долю каждого лога от общего количества пользователей в логе для группы В."
   ]
  },
  {
   "cell_type": "code",
   "execution_count": 31,
   "metadata": {},
   "outputs": [],
   "source": [
    "b['user_id'] = b['user_id'] / group_b * 100"
   ]
  },
  {
   "cell_type": "markdown",
   "metadata": {},
   "source": [
    "Добавить название группы в отдельный столбец."
   ]
  },
  {
   "cell_type": "code",
   "execution_count": 32,
   "metadata": {},
   "outputs": [],
   "source": [
    "b['group'] = 'B'"
   ]
  },
  {
   "cell_type": "markdown",
   "metadata": {},
   "source": [
    "Подсчитать количество уникальных пользователей по каждому логу для группы С."
   ]
  },
  {
   "cell_type": "code",
   "execution_count": 33,
   "metadata": {},
   "outputs": [],
   "source": [
    "c = data_log.loc[data_log['exp_id'] == 'C'].groupby(['event_name']).agg({ 'user_id':'nunique'}).reset_index().\\\n",
    "sort_values(by = 'user_id', ascending = False)"
   ]
  },
  {
   "cell_type": "markdown",
   "metadata": {},
   "source": [
    "Подсчитать долю каждого лога от общего количества пользователей в логе для группы С."
   ]
  },
  {
   "cell_type": "code",
   "execution_count": 34,
   "metadata": {},
   "outputs": [],
   "source": [
    "c['user_id'] = c['user_id'] / group_c * 100"
   ]
  },
  {
   "cell_type": "markdown",
   "metadata": {},
   "source": [
    "Добавить название группы в отдельный столбец."
   ]
  },
  {
   "cell_type": "code",
   "execution_count": 35,
   "metadata": {},
   "outputs": [],
   "source": [
    "c['group'] = 'C'"
   ]
  },
  {
   "cell_type": "markdown",
   "metadata": {},
   "source": [
    "\"Склеить\" таблицы."
   ]
  },
  {
   "cell_type": "code",
   "execution_count": 36,
   "metadata": {},
   "outputs": [],
   "source": [
    "abc = pd.concat([a, b, c], ignore_index=True, sort=False)"
   ]
  },
  {
   "cell_type": "markdown",
   "metadata": {},
   "source": [
    "Закрепить нужные значения за воронкой."
   ]
  },
  {
   "cell_type": "code",
   "execution_count": 37,
   "metadata": {},
   "outputs": [
    {
     "data": {
      "text/html": [
       "<div>\n",
       "<style scoped>\n",
       "    .dataframe tbody tr th:only-of-type {\n",
       "        vertical-align: middle;\n",
       "    }\n",
       "\n",
       "    .dataframe tbody tr th {\n",
       "        vertical-align: top;\n",
       "    }\n",
       "\n",
       "    .dataframe thead th {\n",
       "        text-align: right;\n",
       "    }\n",
       "</style>\n",
       "<table border=\"1\" class=\"dataframe\">\n",
       "  <thead>\n",
       "    <tr style=\"text-align: right;\">\n",
       "      <th></th>\n",
       "      <th>event_name</th>\n",
       "      <th>user_id</th>\n",
       "      <th>group</th>\n",
       "    </tr>\n",
       "  </thead>\n",
       "  <tbody>\n",
       "    <tr>\n",
       "      <th>0</th>\n",
       "      <td>MainScreenAppear</td>\n",
       "      <td>98.631240</td>\n",
       "      <td>A</td>\n",
       "    </tr>\n",
       "    <tr>\n",
       "      <th>1</th>\n",
       "      <td>OffersScreenAppear</td>\n",
       "      <td>62.077295</td>\n",
       "      <td>A</td>\n",
       "    </tr>\n",
       "    <tr>\n",
       "      <th>2</th>\n",
       "      <td>CartScreenAppear</td>\n",
       "      <td>50.966184</td>\n",
       "      <td>A</td>\n",
       "    </tr>\n",
       "    <tr>\n",
       "      <th>3</th>\n",
       "      <td>PaymentScreenSuccessful</td>\n",
       "      <td>48.309179</td>\n",
       "      <td>A</td>\n",
       "    </tr>\n",
       "    <tr>\n",
       "      <th>5</th>\n",
       "      <td>MainScreenAppear</td>\n",
       "      <td>98.527656</td>\n",
       "      <td>B</td>\n",
       "    </tr>\n",
       "    <tr>\n",
       "      <th>6</th>\n",
       "      <td>OffersScreenAppear</td>\n",
       "      <td>60.485476</td>\n",
       "      <td>B</td>\n",
       "    </tr>\n",
       "    <tr>\n",
       "      <th>7</th>\n",
       "      <td>CartScreenAppear</td>\n",
       "      <td>49.263828</td>\n",
       "      <td>B</td>\n",
       "    </tr>\n",
       "    <tr>\n",
       "      <th>8</th>\n",
       "      <td>PaymentScreenSuccessful</td>\n",
       "      <td>46.080382</td>\n",
       "      <td>B</td>\n",
       "    </tr>\n",
       "    <tr>\n",
       "      <th>10</th>\n",
       "      <td>MainScreenAppear</td>\n",
       "      <td>98.265668</td>\n",
       "      <td>C</td>\n",
       "    </tr>\n",
       "    <tr>\n",
       "      <th>11</th>\n",
       "      <td>OffersScreenAppear</td>\n",
       "      <td>60.346866</td>\n",
       "      <td>C</td>\n",
       "    </tr>\n",
       "    <tr>\n",
       "      <th>12</th>\n",
       "      <td>CartScreenAppear</td>\n",
       "      <td>48.482460</td>\n",
       "      <td>C</td>\n",
       "    </tr>\n",
       "    <tr>\n",
       "      <th>13</th>\n",
       "      <td>PaymentScreenSuccessful</td>\n",
       "      <td>46.551045</td>\n",
       "      <td>C</td>\n",
       "    </tr>\n",
       "  </tbody>\n",
       "</table>\n",
       "</div>"
      ],
      "text/plain": [
       "                 event_name    user_id group\n",
       "0          MainScreenAppear  98.631240     A\n",
       "1        OffersScreenAppear  62.077295     A\n",
       "2          CartScreenAppear  50.966184     A\n",
       "3   PaymentScreenSuccessful  48.309179     A\n",
       "5          MainScreenAppear  98.527656     B\n",
       "6        OffersScreenAppear  60.485476     B\n",
       "7          CartScreenAppear  49.263828     B\n",
       "8   PaymentScreenSuccessful  46.080382     B\n",
       "10         MainScreenAppear  98.265668     C\n",
       "11       OffersScreenAppear  60.346866     C\n",
       "12         CartScreenAppear  48.482460     C\n",
       "13  PaymentScreenSuccessful  46.551045     C"
      ]
     },
     "execution_count": 37,
     "metadata": {},
     "output_type": "execute_result"
    }
   ],
   "source": [
    "abc=abc[abc['event_name']!='Tutorial']\n",
    "abc"
   ]
  },
  {
   "cell_type": "markdown",
   "metadata": {},
   "source": [
    "По получившимся данным можно построить воронку событий: MainScreenAppear=>OffersScreenAppear=>CartScreenAppear=>PaymentScreenSuccessful\n",
    "\n",
    "Tutorial не будет относиться к воронке, потому что это необязательный шаг к прохождению от главной страницы до страницы с оплатой. Этот шаг проходится по желанию и отдельно."
   ]
  },
  {
   "cell_type": "markdown",
   "metadata": {},
   "source": [
    "Построить график распределения пользователей по логам для каждой группы."
   ]
  },
  {
   "cell_type": "code",
   "execution_count": 54,
   "metadata": {},
   "outputs": [
    {
     "data": {
      "image/png": "[encoded data removed]",
      "text/plain": [
       "<Figure size 864x504 with 1 Axes>"
      ]
     },
     "metadata": {
      "needs_background": "light"
     },
     "output_type": "display_data"
    }
   ],
   "source": [
    "fig, ax = plt.subplots(figsize=(12,7))\n",
    "sns.barplot(data=abc, x=\"event_name\", y=\"user_id\", hue = 'group')\n",
    "plt.xlabel(\"Пользователи\")\n",
    "plt.ylabel(\"Название лога\")\n",
    "ax.set_facecolor('lightpink');"
   ]
  },
  {
   "cell_type": "markdown",
   "metadata": {},
   "source": [
    "Как мы можем увидеть, у нас равномерное распределение трех групп по существующим логам . Проблем при распределении не обнаружено: каждая группа в одинаковых пропорциях проходит все страницы сайта. Самая высокая активность установлена на главной странице, что также доказывает правильность данных для дальнейшего анализа.\n",
    "Самая большая потеря пользователей происходит при переходе с главной страницы на страницу предложений. \n"
   ]
  },
  {
   "cell_type": "code",
   "execution_count": 39,
   "metadata": {},
   "outputs": [
    {
     "name": "stdout",
     "output_type": "stream",
     "text": [
      "Доля пользователей для группы А равна : 48.97959183673469 \n",
      " Доля пользователей для группы В равна : 46.93877551020408 \n",
      " Доля пользователей для группы C равна : 46.93877551020408\n"
     ]
    }
   ],
   "source": [
    "fraction_a = int(a.loc[a['event_name']=='PaymentScreenSuccessful']['user_id'])\\\n",
    "/ int(a.loc[a['event_name']=='MainScreenAppear']['user_id']) * 100\n",
    "fraction_b =  int(b.loc[b['event_name']=='PaymentScreenSuccessful']['user_id'])\\\n",
    "/ int(b.loc[b['event_name']=='MainScreenAppear']['user_id']) * 100\n",
    "fraction_c = int(c.loc[c['event_name']=='PaymentScreenSuccessful']['user_id'])\\\n",
    "/ int(c.loc[c['event_name']=='MainScreenAppear']['user_id']) * 100\n",
    "print('Доля пользователей для группы А равна :',fraction_a,'\\n','Доля пользователей для группы В равна :', fraction_b,'\\n',\n",
    "      'Доля пользователей для группы C равна :', fraction_c)"
   ]
  },
  {
   "cell_type": "markdown",
   "metadata": {},
   "source": [
    "Доля пользователей , которая доходит с главной страницы до оплаты это : 48,97 процентов для группы А и 46,94 для групп B и С."
   ]
  },
  {
   "cell_type": "code",
   "execution_count": 40,
   "metadata": {},
   "outputs": [
    {
     "name": "stdout",
     "output_type": "stream",
     "text": [
      "Доля потерянных пользователей после посещения главной страницы, перед переходом на предложение для группы А составила: 36 \n",
      " Доля потерянных пользователей после посещения главной страницы, перед переходом на предложение для группы B составила: 38 \n",
      " Доля потерянных пользователей после посещения главной страницы, перед переходом на предложение для группы C составила: 38\n"
     ]
    }
   ],
   "source": [
    "lost_users_for_group_a = int(a.loc[a['event_name']=='MainScreenAppear']['user_id'])\\\n",
    "- int(a.loc[a['event_name']=='OffersScreenAppear']['user_id'])\n",
    "lost_users_for_group_b = int(b.loc[b['event_name']=='MainScreenAppear']['user_id'])\\\n",
    "- int(b.loc[b['event_name']=='OffersScreenAppear']['user_id'])\n",
    "lost_users_for_group_c = int(c.loc[c['event_name']=='MainScreenAppear']['user_id'])\\\n",
    "- int(c.loc[c['event_name']=='OffersScreenAppear']['user_id'])\n",
    "print('Доля потерянных пользователей после посещения главной страницы, перед переходом на предложение для группы А составила:'\n",
    "      ,lost_users_for_group_a, '\\n', 'Доля потерянных пользователей после посещения '\n",
    "      'главной страницы, перед переходом на предложение для группы B составила:', lost_users_for_group_b, '\\n',\n",
    "     'Доля потерянных пользователей после посещения главной страницы, перед переходом на предложение для группы C составила:',\n",
    "     lost_users_for_group_c)"
   ]
  },
  {
   "cell_type": "markdown",
   "metadata": {},
   "source": [
    "Если подсчитать какая потеря происходит, то это: 36 % для группы А; 38 процентов для группы B и столько же сколько для группы B для группы C. "
   ]
  },
  {
   "cell_type": "markdown",
   "metadata": {},
   "source": [
    "Подсчитать отношение предыдущей группы к следующей по количеству пользователей, чтобы определить разницу в прохождении между группами."
   ]
  },
  {
   "cell_type": "code",
   "execution_count": 73,
   "metadata": {},
   "outputs": [
    {
     "data": {
      "text/html": [
       "<div>\n",
       "<style scoped>\n",
       "    .dataframe tbody tr th:only-of-type {\n",
       "        vertical-align: middle;\n",
       "    }\n",
       "\n",
       "    .dataframe tbody tr th {\n",
       "        vertical-align: top;\n",
       "    }\n",
       "\n",
       "    .dataframe thead th {\n",
       "        text-align: right;\n",
       "    }\n",
       "</style>\n",
       "<table border=\"1\" class=\"dataframe\">\n",
       "  <thead>\n",
       "    <tr style=\"text-align: right;\">\n",
       "      <th></th>\n",
       "      <th>event_name</th>\n",
       "      <th>user_id</th>\n",
       "      <th>group</th>\n",
       "    </tr>\n",
       "  </thead>\n",
       "  <tbody>\n",
       "    <tr>\n",
       "      <th>0</th>\n",
       "      <td>MainScreenAppear</td>\n",
       "      <td>104.111854</td>\n",
       "      <td>BA</td>\n",
       "    </tr>\n",
       "    <tr>\n",
       "      <th>1</th>\n",
       "      <td>OffersScreenAppear</td>\n",
       "      <td>407.305215</td>\n",
       "      <td>BA</td>\n",
       "    </tr>\n",
       "    <tr>\n",
       "      <th>2</th>\n",
       "      <td>CartScreenAppear</td>\n",
       "      <td>730.129170</td>\n",
       "      <td>BA</td>\n",
       "    </tr>\n",
       "    <tr>\n",
       "      <th>3</th>\n",
       "      <td>PaymentScreenSuccessful</td>\n",
       "      <td>846.052772</td>\n",
       "      <td>BA</td>\n",
       "    </tr>\n",
       "    <tr>\n",
       "      <th>4</th>\n",
       "      <td>Tutorial</td>\n",
       "      <td>71782.921422</td>\n",
       "      <td>BA</td>\n",
       "    </tr>\n",
       "    <tr>\n",
       "      <th>5</th>\n",
       "      <td>MainScreenAppear</td>\n",
       "      <td>95.996669</td>\n",
       "      <td>CB</td>\n",
       "    </tr>\n",
       "    <tr>\n",
       "      <th>6</th>\n",
       "      <td>OffersScreenAppear</td>\n",
       "      <td>25.801623</td>\n",
       "      <td>CB</td>\n",
       "    </tr>\n",
       "    <tr>\n",
       "      <th>7</th>\n",
       "      <td>CartScreenAppear</td>\n",
       "      <td>14.426624</td>\n",
       "      <td>CB</td>\n",
       "    </tr>\n",
       "    <tr>\n",
       "      <th>8</th>\n",
       "      <td>PaymentScreenSuccessful</td>\n",
       "      <td>13.123301</td>\n",
       "      <td>CB</td>\n",
       "    </tr>\n",
       "    <tr>\n",
       "      <th>9</th>\n",
       "      <td>Tutorial</td>\n",
       "      <td>0.134359</td>\n",
       "      <td>CB</td>\n",
       "    </tr>\n",
       "  </tbody>\n",
       "</table>\n",
       "</div>"
      ],
      "text/plain": [
       "                event_name       user_id group\n",
       "0         MainScreenAppear    104.111854    BA\n",
       "1       OffersScreenAppear    407.305215    BA\n",
       "2         CartScreenAppear    730.129170    BA\n",
       "3  PaymentScreenSuccessful    846.052772    BA\n",
       "4                 Tutorial  71782.921422    BA\n",
       "5         MainScreenAppear     95.996669    CB\n",
       "6       OffersScreenAppear     25.801623    CB\n",
       "7         CartScreenAppear     14.426624    CB\n",
       "8  PaymentScreenSuccessful     13.123301    CB\n",
       "9                 Tutorial      0.134359    CB"
      ]
     },
     "execution_count": 73,
     "metadata": {},
     "output_type": "execute_result"
    }
   ],
   "source": [
    "new_b = b.copy()\n",
    "b['user_id'] = b['user_id'] / a['user_id'] * 100\n",
    "b['group'] = 'BA'\n",
    "c['user_id'] = c['user_id'] / new_b['user_id'] * 100\n",
    "c['group'] = 'CB'\n",
    "a_b_c = pd.concat([b, c], ignore_index=True, sort=False)\n",
    "a_b_c"
   ]
  },
  {
   "cell_type": "markdown",
   "metadata": {},
   "source": [
    "Мы нашли процент пользователей от группы А в группе В для каждого лога и процент пользователей от группы В в группе С для каждого лога."
   ]
  },
  {
   "cell_type": "markdown",
   "metadata": {},
   "source": [
    "Построить график прохождения пользователей по группам."
   ]
  },
  {
   "cell_type": "code",
   "execution_count": 55,
   "metadata": {},
   "outputs": [
    {
     "data": {
      "image/png": "[encoded data removed]",
      "text/plain": [
       "<Figure size 864x504 with 1 Axes>"
      ]
     },
     "metadata": {
      "needs_background": "light"
     },
     "output_type": "display_data"
    }
   ],
   "source": [
    "fig, ax = plt.subplots(figsize=(12,7))\n",
    "sns.barplot(data=a_b_c, x=\"event_name\", y=\"user_id\", hue = 'group')\n",
    "plt.xlabel(\"Название лога\")\n",
    "plt.ylabel(\"Пользователи\")\n",
    "ax.set_facecolor('lightpink');"
   ]
  },
  {
   "cell_type": "markdown",
   "metadata": {},
   "source": [
    "Как мы можем увидеть, пользователи примерно одинаково движутся по страницам от группы к группе. Различия в небольшом изменении лидерства по активности, различном на разных этапах равномерно для каждого перехода между группами."
   ]
  },
  {
   "cell_type": "markdown",
   "metadata": {},
   "source": [
    "#### Построить сводную таблицу количества уникальных пользователей по группам для каждого лога и общее количество для каждого лога."
   ]
  },
  {
   "cell_type": "code",
   "execution_count": 57,
   "metadata": {},
   "outputs": [
    {
     "data": {
      "text/html": [
       "<div>\n",
       "<style scoped>\n",
       "    .dataframe tbody tr th:only-of-type {\n",
       "        vertical-align: middle;\n",
       "    }\n",
       "\n",
       "    .dataframe tbody tr th {\n",
       "        vertical-align: top;\n",
       "    }\n",
       "\n",
       "    .dataframe thead th {\n",
       "        text-align: right;\n",
       "    }\n",
       "</style>\n",
       "<table border=\"1\" class=\"dataframe\">\n",
       "  <thead>\n",
       "    <tr style=\"text-align: right;\">\n",
       "      <th></th>\n",
       "      <th>event_name</th>\n",
       "      <th>A</th>\n",
       "      <th>B</th>\n",
       "      <th>C</th>\n",
       "      <th>count_a</th>\n",
       "      <th>count_b</th>\n",
       "      <th>count_c</th>\n",
       "      <th>A + B</th>\n",
       "      <th>count_A + count_B</th>\n",
       "    </tr>\n",
       "  </thead>\n",
       "  <tbody>\n",
       "    <tr>\n",
       "      <th>0</th>\n",
       "      <td>CartScreenAppear</td>\n",
       "      <td>1266</td>\n",
       "      <td>1238</td>\n",
       "      <td>1230</td>\n",
       "      <td>2484</td>\n",
       "      <td>2513</td>\n",
       "      <td>2537</td>\n",
       "      <td>2504</td>\n",
       "      <td>4997</td>\n",
       "    </tr>\n",
       "    <tr>\n",
       "      <th>1</th>\n",
       "      <td>MainScreenAppear</td>\n",
       "      <td>2450</td>\n",
       "      <td>2476</td>\n",
       "      <td>2493</td>\n",
       "      <td>2484</td>\n",
       "      <td>2513</td>\n",
       "      <td>2537</td>\n",
       "      <td>4926</td>\n",
       "      <td>4997</td>\n",
       "    </tr>\n",
       "    <tr>\n",
       "      <th>2</th>\n",
       "      <td>OffersScreenAppear</td>\n",
       "      <td>1542</td>\n",
       "      <td>1520</td>\n",
       "      <td>1531</td>\n",
       "      <td>2484</td>\n",
       "      <td>2513</td>\n",
       "      <td>2537</td>\n",
       "      <td>3062</td>\n",
       "      <td>4997</td>\n",
       "    </tr>\n",
       "    <tr>\n",
       "      <th>3</th>\n",
       "      <td>PaymentScreenSuccessful</td>\n",
       "      <td>1200</td>\n",
       "      <td>1158</td>\n",
       "      <td>1181</td>\n",
       "      <td>2484</td>\n",
       "      <td>2513</td>\n",
       "      <td>2537</td>\n",
       "      <td>2358</td>\n",
       "      <td>4997</td>\n",
       "    </tr>\n",
       "    <tr>\n",
       "      <th>4</th>\n",
       "      <td>Tutorial</td>\n",
       "      <td>278</td>\n",
       "      <td>283</td>\n",
       "      <td>279</td>\n",
       "      <td>2484</td>\n",
       "      <td>2513</td>\n",
       "      <td>2537</td>\n",
       "      <td>561</td>\n",
       "      <td>4997</td>\n",
       "    </tr>\n",
       "  </tbody>\n",
       "</table>\n",
       "</div>"
      ],
      "text/plain": [
       "                event_name     A     B     C  count_a  count_b  count_c  \\\n",
       "0         CartScreenAppear  1266  1238  1230     2484     2513     2537   \n",
       "1         MainScreenAppear  2450  2476  2493     2484     2513     2537   \n",
       "2       OffersScreenAppear  1542  1520  1531     2484     2513     2537   \n",
       "3  PaymentScreenSuccessful  1200  1158  1181     2484     2513     2537   \n",
       "4                 Tutorial   278   283   279     2484     2513     2537   \n",
       "\n",
       "   A + B  count_A + count_B  \n",
       "0   2504               4997  \n",
       "1   4926               4997  \n",
       "2   3062               4997  \n",
       "3   2358               4997  \n",
       "4    561               4997  "
      ]
     },
     "execution_count": 57,
     "metadata": {},
     "output_type": "execute_result"
    }
   ],
   "source": [
    "data_log_h =  data_log.copy()\n",
    "data_log_h1 = data_log_h[data_log_h['exp_id'] == 'A'].groupby('event_name').agg({'user_id':'nunique'})\\\n",
    ".reset_index().rename(columns={'user_id':'A'})\n",
    "data_log_h2 = data_log_h[data_log_h['exp_id'] == 'B'].groupby('event_name').agg({'user_id':'nunique'}).\\\n",
    "reset_index().rename(columns={'user_id':'B'})\n",
    "data_log_h3 = data_log[data_log['exp_id'] == 'C'].groupby('event_name').agg({'user_id':'nunique'}).\\\n",
    "reset_index().rename(columns={'user_id':'C'})\n",
    "\n",
    "\n",
    "\n",
    "result = pd.merge(data_log_h1, data_log_h2, how=\"left\", on='event_name')\n",
    "result = pd.merge(result,data_log_h3, how =\"left\", on ='event_name' )\n",
    "\n",
    "result['count_a'] =  data_log_h[data_log_h['exp_id'] == 'A']['user_id'].nunique()\n",
    "result['count_b'] = data_log_h[data_log_h['exp_id'] == 'B']['user_id'].nunique()\n",
    "result['count_c'] = data_log_h[data_log_h['exp_id'] == 'C']['user_id'].nunique()\n",
    "\n",
    "result['A + B'] = result['A'] + result['B']\n",
    "result['count_A + count_B'] = result['count_a'] + result['count_b']\n",
    "\n",
    "result"
   ]
  },
  {
   "cell_type": "markdown",
   "metadata": {},
   "source": [
    "Добавить тест для проверки разницы статистических критериев."
   ]
  },
  {
   "cell_type": "code",
   "execution_count": 59,
   "metadata": {},
   "outputs": [],
   "source": [
    "def test_stat(successes,trials):\n",
    "    alpha = .05 # критический уровень статистической значимости\n",
    "    \n",
    "    # пропорция успехов в первой группе:\n",
    "    p1 = successes[0]/trials[0]\n",
    "\n",
    "    # пропорция успехов во второй группе:\n",
    "    p2 = successes[1]/trials[1]\n",
    "\n",
    "    # пропорция успехов в комбинированном датасете:\n",
    "    p_combined = (successes[0] + successes[1]) / (trials[0] + trials[1])\n",
    "\n",
    "    # разница пропорций в датасетах\n",
    "    difference = p1 - p2 \n",
    "        # считаем статистику в ст.отклонениях стандартного нормального распределения\n",
    "    z_value = difference / mth.sqrt(p_combined * (1 - p_combined) * (1/trials[0] + 1/trials[1]))\n",
    "\n",
    "    # задаем стандартное нормальное распределение (среднее 0, ст.отклонение 1)\n",
    "    distr = st.norm(0, 1)  \n",
    "    p_value = (1 - distr.cdf(abs(z_value))) * 2\n",
    "\n",
    "    print('p-значение: ', p_value)\n",
    "\n",
    "    if p_value < alpha:\n",
    "        print('Отвергаем нулевую гипотезу: между долями есть значимая разница')\n",
    "    else:\n",
    "        print(\n",
    "            'Не получилось отвергнуть нулевую гипотезу, нет оснований считать доли разными'\n",
    "        ) "
   ]
  },
  {
   "cell_type": "markdown",
   "metadata": {},
   "source": [
    "Написать метод для обработки информации для теста."
   ]
  },
  {
   "cell_type": "code",
   "execution_count": 74,
   "metadata": {},
   "outputs": [],
   "source": [
    "def preparing_data_for_the_test(the_first_private, the_second_private, the_first_general, the_second_general):\n",
    "    p1 = [0,0]\n",
    "    p2 = [0,0]\n",
    "    for letter in result['event_name']:\n",
    "        b = result[result['event_name']== letter]\n",
    "        p1[0] = b[the_first_private].iloc[0]\n",
    "        p1[1] = b[the_second_private].iloc[0]\n",
    "        p2[0] = b[the_first_general].iloc[0]\n",
    "        p2[1] = b[the_second_general].iloc[0]\n",
    "        test_stat(p1,p2)"
   ]
  },
  {
   "cell_type": "markdown",
   "metadata": {},
   "source": [
    "Уровень значимости для проверки гипотез α=0,05\n",
    "\n",
    "Гипотеза H0: конверсии пользователей группы А и группы B совершивших целевое событие равны\n",
    "\n",
    "Гипотеза H1: конверсии пользователей группы А и группы B совершивших целевое событие не равны "
   ]
  },
  {
   "cell_type": "markdown",
   "metadata": {},
   "source": [
    "Провести тесты для проверки гипотезы."
   ]
  },
  {
   "cell_type": "code",
   "execution_count": 61,
   "metadata": {},
   "outputs": [
    {
     "name": "stdout",
     "output_type": "stream",
     "text": [
      "p-значение:  0.22883372237997213\n",
      "Не получилось отвергнуть нулевую гипотезу, нет оснований считать доли разными\n",
      "p-значение:  0.7570597232046099\n",
      "Не получилось отвергнуть нулевую гипотезу, нет оснований считать доли разными\n",
      "p-значение:  0.2480954578522181\n",
      "Не получилось отвергнуть нулевую гипотезу, нет оснований считать доли разными\n",
      "p-значение:  0.11456679313141849\n",
      "Не получилось отвергнуть нулевую гипотезу, нет оснований считать доли разными\n",
      "p-значение:  0.9376996189257114\n",
      "Не получилось отвергнуть нулевую гипотезу, нет оснований считать доли разными\n"
     ]
    }
   ],
   "source": [
    "preparing_data_for_the_test('A','B', 'count_a','count_b')"
   ]
  },
  {
   "cell_type": "markdown",
   "metadata": {},
   "source": [
    "Статистически значимые отличия не обнаружены, значит мы можем предположить, что разницы между результатами показателей групп нет."
   ]
  },
  {
   "cell_type": "markdown",
   "metadata": {},
   "source": [
    "Гипотеза H0: конверсии пользователей группы В и группы С совершивших целевое событие равны\n",
    "\n",
    "Гипотеза H1: конверсии пользователей группы В и группы С совершивших целевое событие не равны "
   ]
  },
  {
   "cell_type": "code",
   "execution_count": 47,
   "metadata": {},
   "outputs": [
    {
     "name": "stdout",
     "output_type": "stream",
     "text": [
      "p-значение:  0.5786197879539783\n",
      "Не получилось отвергнуть нулевую гипотезу, нет оснований считать доли разными\n",
      "p-значение:  0.4587053616621515\n",
      "Не получилось отвергнуть нулевую гипотезу, нет оснований считать доли разными\n",
      "p-значение:  0.9197817830592261\n",
      "Не получилось отвергнуть нулевую гипотезу, нет оснований считать доли разными\n",
      "p-значение:  0.7373415053803964\n",
      "Не получилось отвергнуть нулевую гипотезу, нет оснований считать доли разными\n",
      "p-значение:  0.765323922474501\n",
      "Не получилось отвергнуть нулевую гипотезу, нет оснований считать доли разными\n"
     ]
    }
   ],
   "source": [
    "preparing_data_for_the_test('B','C', 'count_b','count_c')"
   ]
  },
  {
   "cell_type": "markdown",
   "metadata": {},
   "source": [
    "Статистически значимые отличия не обнаружены, значит мы можем предположить, что разницы между результатами показателей групп нет."
   ]
  },
  {
   "cell_type": "markdown",
   "metadata": {},
   "source": [
    "Гипотеза H0: конверсии пользователей группы А и группы C совершивших целевое событие равны\n",
    "\n",
    "Гипотеза H1: конверсии пользователей группы А и группы C совершивших целевое событие не равны "
   ]
  },
  {
   "cell_type": "code",
   "execution_count": 48,
   "metadata": {},
   "outputs": [
    {
     "name": "stdout",
     "output_type": "stream",
     "text": [
      "p-значение:  0.07842923237520116\n",
      "Не получилось отвергнуть нулевую гипотезу, нет оснований считать доли разными\n",
      "p-значение:  0.2949721933554552\n",
      "Не получилось отвергнуть нулевую гипотезу, нет оснований считать доли разными\n",
      "p-значение:  0.20836205402738917\n",
      "Не получилось отвергнуть нулевую гипотезу, нет оснований считать доли разными\n",
      "p-значение:  0.2122553275697796\n",
      "Не получилось отвергнуть нулевую гипотезу, нет оснований считать доли разными\n",
      "p-значение:  0.8264294010087645\n",
      "Не получилось отвергнуть нулевую гипотезу, нет оснований считать доли разными\n"
     ]
    }
   ],
   "source": [
    "preparing_data_for_the_test('A','C', 'count_a','count_c')"
   ]
  },
  {
   "cell_type": "markdown",
   "metadata": {},
   "source": [
    "Статистически значимые отличия не обнаружены, значит мы можем предположить, что разницы между результатами показателей групп нет."
   ]
  },
  {
   "cell_type": "markdown",
   "metadata": {},
   "source": [
    "Гипотеза H0: конверсии пользователей группы А+B и группы C совершивших целевое событие равны\n",
    "\n",
    "Гипотеза H1: конверсии пользователей группы А+B и группы C совершивших целевое событие не равны "
   ]
  },
  {
   "cell_type": "code",
   "execution_count": 49,
   "metadata": {},
   "outputs": [
    {
     "name": "stdout",
     "output_type": "stream",
     "text": [
      "p-значение:  0.18175875284404386\n",
      "Не получилось отвергнуть нулевую гипотезу, нет оснований считать доли разными\n",
      "p-значение:  0.29424526837179577\n",
      "Не получилось отвергнуть нулевую гипотезу, нет оснований считать доли разными\n",
      "p-значение:  0.43425549655188256\n",
      "Не получилось отвергнуть нулевую гипотезу, нет оснований считать доли разными\n",
      "p-значение:  0.6004294282308704\n",
      "Не получилось отвергнуть нулевую гипотезу, нет оснований считать доли разными\n",
      "p-значение:  0.764862472531507\n",
      "Не получилось отвергнуть нулевую гипотезу, нет оснований считать доли разными\n"
     ]
    }
   ],
   "source": [
    "preparing_data_for_the_test('A + B','C', 'count_A + count_B','count_c')"
   ]
  },
  {
   "cell_type": "markdown",
   "metadata": {},
   "source": [
    "Статистически значимые отличия не обнаружены, значит мы можем предположить, что разницы между результатами показателей групп нет."
   ]
  },
  {
   "cell_type": "markdown",
   "metadata": {},
   "source": [
    "Установить самое популярное событие."
   ]
  },
  {
   "cell_type": "code",
   "execution_count": 63,
   "metadata": {},
   "outputs": [
    {
     "data": {
      "text/html": [
       "<div>\n",
       "<style scoped>\n",
       "    .dataframe tbody tr th:only-of-type {\n",
       "        vertical-align: middle;\n",
       "    }\n",
       "\n",
       "    .dataframe tbody tr th {\n",
       "        vertical-align: top;\n",
       "    }\n",
       "\n",
       "    .dataframe thead th {\n",
       "        text-align: right;\n",
       "    }\n",
       "</style>\n",
       "<table border=\"1\" class=\"dataframe\">\n",
       "  <thead>\n",
       "    <tr style=\"text-align: right;\">\n",
       "      <th></th>\n",
       "      <th>event_name</th>\n",
       "      <th>user_id</th>\n",
       "    </tr>\n",
       "  </thead>\n",
       "  <tbody>\n",
       "    <tr>\n",
       "      <th>0</th>\n",
       "      <td>MainScreenAppear</td>\n",
       "      <td>7419</td>\n",
       "    </tr>\n",
       "    <tr>\n",
       "      <th>1</th>\n",
       "      <td>OffersScreenAppear</td>\n",
       "      <td>4593</td>\n",
       "    </tr>\n",
       "    <tr>\n",
       "      <th>2</th>\n",
       "      <td>CartScreenAppear</td>\n",
       "      <td>3734</td>\n",
       "    </tr>\n",
       "    <tr>\n",
       "      <th>3</th>\n",
       "      <td>PaymentScreenSuccessful</td>\n",
       "      <td>3539</td>\n",
       "    </tr>\n",
       "    <tr>\n",
       "      <th>4</th>\n",
       "      <td>Tutorial</td>\n",
       "      <td>840</td>\n",
       "    </tr>\n",
       "  </tbody>\n",
       "</table>\n",
       "</div>"
      ],
      "text/plain": [
       "                event_name  user_id\n",
       "0         MainScreenAppear     7419\n",
       "1       OffersScreenAppear     4593\n",
       "2         CartScreenAppear     3734\n",
       "3  PaymentScreenSuccessful     3539\n",
       "4                 Tutorial      840"
      ]
     },
     "execution_count": 63,
     "metadata": {},
     "output_type": "execute_result"
    }
   ],
   "source": [
    "the_most_popular_event = data_log.groupby('event_name').agg({'user_id':'nunique'}).\\\n",
    "sort_values(by = 'user_id', ascending = False).reset_index()\n",
    "the_most_popular_event"
   ]
  },
  {
   "cell_type": "markdown",
   "metadata": {},
   "source": [
    "Посчитать количество совершивших переход на главную страницу среди групп."
   ]
  },
  {
   "cell_type": "code",
   "execution_count": 65,
   "metadata": {},
   "outputs": [
    {
     "data": {
      "text/html": [
       "<div>\n",
       "<style scoped>\n",
       "    .dataframe tbody tr th:only-of-type {\n",
       "        vertical-align: middle;\n",
       "    }\n",
       "\n",
       "    .dataframe tbody tr th {\n",
       "        vertical-align: top;\n",
       "    }\n",
       "\n",
       "    .dataframe thead th {\n",
       "        text-align: right;\n",
       "    }\n",
       "</style>\n",
       "<table border=\"1\" class=\"dataframe\">\n",
       "  <thead>\n",
       "    <tr style=\"text-align: right;\">\n",
       "      <th></th>\n",
       "      <th>exp_id</th>\n",
       "      <th>user_id</th>\n",
       "    </tr>\n",
       "  </thead>\n",
       "  <tbody>\n",
       "    <tr>\n",
       "      <th>0</th>\n",
       "      <td>A</td>\n",
       "      <td>2450</td>\n",
       "    </tr>\n",
       "    <tr>\n",
       "      <th>1</th>\n",
       "      <td>B</td>\n",
       "      <td>2476</td>\n",
       "    </tr>\n",
       "    <tr>\n",
       "      <th>2</th>\n",
       "      <td>C</td>\n",
       "      <td>2493</td>\n",
       "    </tr>\n",
       "  </tbody>\n",
       "</table>\n",
       "</div>"
      ],
      "text/plain": [
       "  exp_id  user_id\n",
       "0      A     2450\n",
       "1      B     2476\n",
       "2      C     2493"
      ]
     },
     "execution_count": 65,
     "metadata": {},
     "output_type": "execute_result"
    }
   ],
   "source": [
    "transitions_to_the_main_page = data_log[data_log['event_name'] == 'MainScreenAppear'].\\\n",
    "groupby('exp_id').agg({'user_id':'nunique'}).reset_index()\n",
    "transitions_to_the_main_page"
   ]
  },
  {
   "cell_type": "markdown",
   "metadata": {},
   "source": [
    "Посчитать долю совершивших переход на главную страницу от всех пользователей совершивших переход на главную страницу по группам."
   ]
  },
  {
   "cell_type": "code",
   "execution_count": 66,
   "metadata": {},
   "outputs": [
    {
     "data": {
      "text/html": [
       "<div>\n",
       "<style scoped>\n",
       "    .dataframe tbody tr th:only-of-type {\n",
       "        vertical-align: middle;\n",
       "    }\n",
       "\n",
       "    .dataframe tbody tr th {\n",
       "        vertical-align: top;\n",
       "    }\n",
       "\n",
       "    .dataframe thead th {\n",
       "        text-align: right;\n",
       "    }\n",
       "</style>\n",
       "<table border=\"1\" class=\"dataframe\">\n",
       "  <thead>\n",
       "    <tr style=\"text-align: right;\">\n",
       "      <th></th>\n",
       "      <th>exp_id</th>\n",
       "      <th>user_id</th>\n",
       "      <th>percent</th>\n",
       "    </tr>\n",
       "  </thead>\n",
       "  <tbody>\n",
       "    <tr>\n",
       "      <th>0</th>\n",
       "      <td>A</td>\n",
       "      <td>2450</td>\n",
       "      <td>0.330233</td>\n",
       "    </tr>\n",
       "    <tr>\n",
       "      <th>1</th>\n",
       "      <td>B</td>\n",
       "      <td>2476</td>\n",
       "      <td>0.539081</td>\n",
       "    </tr>\n",
       "    <tr>\n",
       "      <th>2</th>\n",
       "      <td>C</td>\n",
       "      <td>2493</td>\n",
       "      <td>0.667649</td>\n",
       "    </tr>\n",
       "  </tbody>\n",
       "</table>\n",
       "</div>"
      ],
      "text/plain": [
       "  exp_id  user_id   percent\n",
       "0      A     2450  0.330233\n",
       "1      B     2476  0.539081\n",
       "2      C     2493  0.667649"
      ]
     },
     "execution_count": 66,
     "metadata": {},
     "output_type": "execute_result"
    }
   ],
   "source": [
    "transitions_to_the_main_page['percent'] = transitions_to_the_main_page['user_id'] / the_most_popular_event['user_id']\n",
    "transitions_to_the_main_page"
   ]
  },
  {
   "cell_type": "markdown",
   "metadata": {},
   "source": [
    "Больше всего переходов на главную страницу от всех пользователей совершивших это действие было выявлено у группы С. Этот факт нельзя было бы исключить из расмотрения, однако , проведенный нами тест выше показывает, что статистически можно доказать только отсутствие различий в показателях между группами."
   ]
  },
  {
   "cell_type": "markdown",
   "metadata": {},
   "source": [
    "Установить количество пользователей в каждой группе."
   ]
  },
  {
   "cell_type": "code",
   "execution_count": 67,
   "metadata": {},
   "outputs": [
    {
     "data": {
      "text/html": [
       "<div>\n",
       "<style scoped>\n",
       "    .dataframe tbody tr th:only-of-type {\n",
       "        vertical-align: middle;\n",
       "    }\n",
       "\n",
       "    .dataframe tbody tr th {\n",
       "        vertical-align: top;\n",
       "    }\n",
       "\n",
       "    .dataframe thead th {\n",
       "        text-align: right;\n",
       "    }\n",
       "</style>\n",
       "<table border=\"1\" class=\"dataframe\">\n",
       "  <thead>\n",
       "    <tr style=\"text-align: right;\">\n",
       "      <th></th>\n",
       "      <th>user_id</th>\n",
       "    </tr>\n",
       "    <tr>\n",
       "      <th>exp_id</th>\n",
       "      <th></th>\n",
       "    </tr>\n",
       "  </thead>\n",
       "  <tbody>\n",
       "    <tr>\n",
       "      <th>A</th>\n",
       "      <td>2484</td>\n",
       "    </tr>\n",
       "    <tr>\n",
       "      <th>B</th>\n",
       "      <td>2513</td>\n",
       "    </tr>\n",
       "    <tr>\n",
       "      <th>C</th>\n",
       "      <td>2537</td>\n",
       "    </tr>\n",
       "  </tbody>\n",
       "</table>\n",
       "</div>"
      ],
      "text/plain": [
       "        user_id\n",
       "exp_id         \n",
       "A          2484\n",
       "B          2513\n",
       "C          2537"
      ]
     },
     "execution_count": 67,
     "metadata": {},
     "output_type": "execute_result"
    }
   ],
   "source": [
    "data_log.groupby('exp_id').agg({'user_id':'nunique'})"
   ]
  },
  {
   "cell_type": "markdown",
   "metadata": {},
   "source": [
    "Количество пользователей в каждой группе можно назвать правильными распределением,  над которым воможно проводить тесты, которые были проведены выше и установление факта отсутствия отличий между группами не будет интерпретироваться не правильно, потому что распределение по группам доказывает что результаты эксперимента зависят от реальных показателей, которые не отличаются количественно."
   ]
  },
  {
   "cell_type": "markdown",
   "metadata": {},
   "source": [
    "## Написать вывод."
   ]
  },
  {
   "cell_type": "markdown",
   "metadata": {},
   "source": [
    "Нами был выбран уровень значимости 0.05, в данном случае этот уровень является более чем оптимальным, потому что большинство результатов теста превышает статистический порог в 0,10 , который был также предложен как один из возможных статистических критериев. Мы провели 20 проверок гипотез, по 5 на каждую пару групп + проверка суммарных показателей двух экспериментальных групп с контрольной. По итогам тестирования сделаны выводы, что изменения предложенные в данном случае являются не оптимальным решением за отсутствием у него положительных показателей в сторону минимальной статистической значимости, которая не была достигнута ни в одном из проведенных нами тестов. Стоит прекратить это исследование и изучить более оптимальный способ повышения продаж и совершения покупок на странице оплаты , до которой дошла меньшая часть пользователей группы С, чем группы А (для группы А количество пользователей , дошевших до оплаты: 48 процентов; для группы C количество пользователей , дошедших до оплаты: 46 процентов), что доказывает несостоятельность показателей по количеству проведенных оплат для группы С, а значит, эксперимент можно считать завершенным а изменения , связанные с изменениями в контрольной группе - несостоявшимися."
   ]
  }
 ],
 "metadata": {
  "ExecuteTimeLog": [
   {
    "duration": 43,
    "start_time": "2022-10-26T18:44:58.922Z"
   },
   {
    "duration": 1209,
    "start_time": "2022-10-26T18:45:12.318Z"
   },
   {
    "duration": 62,
    "start_time": "2022-10-26T18:45:13.529Z"
   },
   {
    "duration": 9,
    "start_time": "2022-10-26T18:45:36.894Z"
   },
   {
    "duration": 820,
    "start_time": "2022-10-26T18:45:45.663Z"
   },
   {
    "duration": 276,
    "start_time": "2022-10-26T18:45:50.446Z"
   },
   {
    "duration": 12,
    "start_time": "2022-10-26T18:45:54.789Z"
   },
   {
    "duration": 282,
    "start_time": "2022-10-26T18:46:06.335Z"
   },
   {
    "duration": 9,
    "start_time": "2022-10-26T18:46:07.293Z"
   },
   {
    "duration": 271,
    "start_time": "2022-10-26T18:46:10.237Z"
   },
   {
    "duration": 7,
    "start_time": "2022-10-26T18:46:10.655Z"
   },
   {
    "duration": 77,
    "start_time": "2022-10-26T18:46:23.445Z"
   },
   {
    "duration": 146,
    "start_time": "2022-10-26T18:46:34.893Z"
   },
   {
    "duration": 10,
    "start_time": "2022-10-26T18:46:36.083Z"
   },
   {
    "duration": 3,
    "start_time": "2022-10-26T18:48:14.500Z"
   },
   {
    "duration": 23,
    "start_time": "2022-10-26T18:48:22.675Z"
   },
   {
    "duration": 11,
    "start_time": "2022-10-26T18:49:59.035Z"
   },
   {
    "duration": 1093,
    "start_time": "2022-10-26T18:50:04.774Z"
   },
   {
    "duration": 153,
    "start_time": "2022-10-26T18:50:05.869Z"
   },
   {
    "duration": 15,
    "start_time": "2022-10-26T18:50:06.023Z"
   },
   {
    "duration": 70,
    "start_time": "2022-10-26T18:52:07.890Z"
   },
   {
    "duration": 14,
    "start_time": "2022-10-26T18:52:55.360Z"
   },
   {
    "duration": 18,
    "start_time": "2022-10-26T18:54:19.542Z"
   },
   {
    "duration": 12,
    "start_time": "2022-10-26T18:55:29.944Z"
   },
   {
    "duration": 57,
    "start_time": "2022-10-26T18:57:46.751Z"
   },
   {
    "duration": 20,
    "start_time": "2022-10-26T18:59:27.402Z"
   },
   {
    "duration": 808,
    "start_time": "2022-10-26T19:07:32.307Z"
   },
   {
    "duration": 859,
    "start_time": "2022-10-26T19:08:09.396Z"
   },
   {
    "duration": 775,
    "start_time": "2022-10-26T19:08:40.320Z"
   },
   {
    "duration": 734,
    "start_time": "2022-10-26T19:08:47.850Z"
   },
   {
    "duration": 801,
    "start_time": "2022-10-26T19:08:56.522Z"
   },
   {
    "duration": 10,
    "start_time": "2022-10-26T19:11:52.696Z"
   },
   {
    "duration": 12,
    "start_time": "2022-10-26T19:12:07.942Z"
   },
   {
    "duration": 10,
    "start_time": "2022-10-26T19:12:12.143Z"
   },
   {
    "duration": 755,
    "start_time": "2022-10-26T19:13:57.005Z"
   },
   {
    "duration": 766,
    "start_time": "2022-10-26T19:14:03.868Z"
   },
   {
    "duration": 90,
    "start_time": "2022-10-26T19:14:23.108Z"
   },
   {
    "duration": 857,
    "start_time": "2022-10-26T19:14:32.045Z"
   },
   {
    "duration": 20,
    "start_time": "2022-10-26T19:16:01.508Z"
   },
   {
    "duration": 28,
    "start_time": "2022-10-26T19:16:08.132Z"
   },
   {
    "duration": 29,
    "start_time": "2022-10-26T19:17:31.698Z"
   },
   {
    "duration": 1068,
    "start_time": "2022-10-26T19:17:37.742Z"
   },
   {
    "duration": 158,
    "start_time": "2022-10-26T19:17:38.812Z"
   },
   {
    "duration": 25,
    "start_time": "2022-10-26T19:17:38.972Z"
   },
   {
    "duration": 25,
    "start_time": "2022-10-26T19:17:38.999Z"
   },
   {
    "duration": 16,
    "start_time": "2022-10-26T19:17:39.027Z"
   },
   {
    "duration": 69,
    "start_time": "2022-10-26T19:17:39.045Z"
   },
   {
    "duration": 31,
    "start_time": "2022-10-26T19:17:39.115Z"
   },
   {
    "duration": 31,
    "start_time": "2022-10-26T19:17:53.639Z"
   },
   {
    "duration": 70,
    "start_time": "2022-10-26T19:28:55.184Z"
   },
   {
    "duration": 55,
    "start_time": "2022-10-26T19:30:10.034Z"
   },
   {
    "duration": 30,
    "start_time": "2022-10-26T19:30:29.235Z"
   },
   {
    "duration": 25,
    "start_time": "2022-10-26T19:30:36.687Z"
   },
   {
    "duration": 114,
    "start_time": "2022-10-26T19:31:25.898Z"
   },
   {
    "duration": 69,
    "start_time": "2022-10-26T19:32:05.025Z"
   },
   {
    "duration": 103,
    "start_time": "2022-10-26T19:32:19.490Z"
   },
   {
    "duration": 55,
    "start_time": "2022-10-26T19:33:41.616Z"
   },
   {
    "duration": 103,
    "start_time": "2022-10-26T19:33:57.096Z"
   },
   {
    "duration": 136,
    "start_time": "2022-10-26T19:34:45.503Z"
   },
   {
    "duration": 1091,
    "start_time": "2022-10-26T19:35:10.389Z"
   },
   {
    "duration": 172,
    "start_time": "2022-10-26T19:35:11.487Z"
   },
   {
    "duration": 35,
    "start_time": "2022-10-26T19:35:11.661Z"
   },
   {
    "duration": 25,
    "start_time": "2022-10-26T19:35:11.698Z"
   },
   {
    "duration": 15,
    "start_time": "2022-10-26T19:35:11.725Z"
   },
   {
    "duration": 61,
    "start_time": "2022-10-26T19:35:11.741Z"
   },
   {
    "duration": 32,
    "start_time": "2022-10-26T19:35:11.804Z"
   },
   {
    "duration": 187,
    "start_time": "2022-10-26T19:35:11.838Z"
   },
   {
    "duration": 67,
    "start_time": "2022-10-26T19:37:06.143Z"
   },
   {
    "duration": 58,
    "start_time": "2022-10-26T19:37:43.326Z"
   },
   {
    "duration": 133,
    "start_time": "2022-10-26T19:38:13.116Z"
   },
   {
    "duration": 27,
    "start_time": "2022-10-26T19:38:19.054Z"
   },
   {
    "duration": 39,
    "start_time": "2022-10-26T19:39:59.905Z"
   },
   {
    "duration": 50,
    "start_time": "2022-10-26T19:40:17.735Z"
   },
   {
    "duration": 51,
    "start_time": "2022-10-26T19:40:29.498Z"
   },
   {
    "duration": 16,
    "start_time": "2022-10-26T19:42:40.343Z"
   },
   {
    "duration": 23,
    "start_time": "2022-10-26T19:44:24.543Z"
   },
   {
    "duration": 27,
    "start_time": "2022-10-26T19:44:56.966Z"
   },
   {
    "duration": 10,
    "start_time": "2022-10-26T19:46:15.510Z"
   },
   {
    "duration": 24,
    "start_time": "2022-10-26T19:46:27.642Z"
   },
   {
    "duration": 4,
    "start_time": "2022-10-26T19:50:06.473Z"
   },
   {
    "duration": 10,
    "start_time": "2022-10-26T19:50:41.987Z"
   },
   {
    "duration": 21,
    "start_time": "2022-10-26T19:50:50.781Z"
   },
   {
    "duration": 56,
    "start_time": "2022-10-26T19:52:30.187Z"
   },
   {
    "duration": 80,
    "start_time": "2022-10-26T19:52:44.102Z"
   },
   {
    "duration": 61,
    "start_time": "2022-10-26T19:53:31.798Z"
   },
   {
    "duration": 9,
    "start_time": "2022-10-26T19:53:47.445Z"
   },
   {
    "duration": 10,
    "start_time": "2022-10-26T19:54:32.309Z"
   },
   {
    "duration": 58,
    "start_time": "2022-10-26T19:55:01.101Z"
   },
   {
    "duration": 61,
    "start_time": "2022-10-26T19:55:08.534Z"
   },
   {
    "duration": 56,
    "start_time": "2022-10-26T19:55:16.516Z"
   },
   {
    "duration": 63,
    "start_time": "2022-10-26T19:55:22.172Z"
   },
   {
    "duration": 65,
    "start_time": "2022-10-26T19:55:30.737Z"
   },
   {
    "duration": 55,
    "start_time": "2022-10-26T19:55:41.219Z"
   },
   {
    "duration": 57,
    "start_time": "2022-10-26T19:56:52.443Z"
   },
   {
    "duration": 83,
    "start_time": "2022-10-26T19:56:58.862Z"
   },
   {
    "duration": 76,
    "start_time": "2022-10-26T19:57:01.554Z"
   },
   {
    "duration": 14,
    "start_time": "2022-10-26T19:59:10.536Z"
   },
   {
    "duration": 22,
    "start_time": "2022-10-26T19:59:24.170Z"
   },
   {
    "duration": 17,
    "start_time": "2022-10-26T19:59:31.688Z"
   },
   {
    "duration": 21,
    "start_time": "2022-10-26T19:59:35.664Z"
   },
   {
    "duration": 19,
    "start_time": "2022-10-26T19:59:42.872Z"
   },
   {
    "duration": 15,
    "start_time": "2022-10-26T20:00:07.013Z"
   },
   {
    "duration": 14,
    "start_time": "2022-10-26T20:00:11.083Z"
   },
   {
    "duration": 6,
    "start_time": "2022-10-26T20:00:24.512Z"
   },
   {
    "duration": 323,
    "start_time": "2022-10-26T20:55:52.675Z"
   },
   {
    "duration": 180,
    "start_time": "2022-10-26T20:57:01.228Z"
   },
   {
    "duration": 202,
    "start_time": "2022-10-26T20:59:19.648Z"
   },
   {
    "duration": 195,
    "start_time": "2022-10-26T20:59:30.600Z"
   },
   {
    "duration": 13,
    "start_time": "2022-10-26T20:59:46.049Z"
   },
   {
    "duration": 11,
    "start_time": "2022-10-26T21:01:25.335Z"
   },
   {
    "duration": 12,
    "start_time": "2022-10-26T21:01:42.194Z"
   },
   {
    "duration": 11,
    "start_time": "2022-10-26T21:03:36.490Z"
   },
   {
    "duration": 8,
    "start_time": "2022-10-26T21:04:15.892Z"
   },
   {
    "duration": 8,
    "start_time": "2022-10-26T21:04:21.524Z"
   },
   {
    "duration": 8,
    "start_time": "2022-10-26T21:04:33.859Z"
   },
   {
    "duration": 8,
    "start_time": "2022-10-26T21:04:43.203Z"
   },
   {
    "duration": 9,
    "start_time": "2022-10-26T21:05:27.323Z"
   },
   {
    "duration": 11,
    "start_time": "2022-10-26T21:09:07.854Z"
   },
   {
    "duration": 9,
    "start_time": "2022-10-26T21:09:09.215Z"
   },
   {
    "duration": 8,
    "start_time": "2022-10-26T21:09:20.631Z"
   },
   {
    "duration": 10,
    "start_time": "2022-10-26T21:09:25.691Z"
   },
   {
    "duration": 12,
    "start_time": "2022-10-26T21:12:01.717Z"
   },
   {
    "duration": 12,
    "start_time": "2022-10-26T21:12:09.125Z"
   },
   {
    "duration": 8,
    "start_time": "2022-10-26T21:12:12.497Z"
   },
   {
    "duration": 5,
    "start_time": "2022-10-26T21:12:41.260Z"
   },
   {
    "duration": 11,
    "start_time": "2022-10-26T21:13:01.852Z"
   },
   {
    "duration": 9,
    "start_time": "2022-10-26T21:14:25.810Z"
   },
   {
    "duration": 15,
    "start_time": "2022-10-26T21:14:57.475Z"
   },
   {
    "duration": 19,
    "start_time": "2022-10-26T21:15:03.922Z"
   },
   {
    "duration": 8,
    "start_time": "2022-10-26T21:15:22.458Z"
   },
   {
    "duration": 1041,
    "start_time": "2022-10-26T21:15:33.944Z"
   },
   {
    "duration": 156,
    "start_time": "2022-10-26T21:15:34.997Z"
   },
   {
    "duration": 39,
    "start_time": "2022-10-26T21:15:35.156Z"
   },
   {
    "duration": 27,
    "start_time": "2022-10-26T21:15:35.198Z"
   },
   {
    "duration": 12,
    "start_time": "2022-10-26T21:15:35.227Z"
   },
   {
    "duration": 69,
    "start_time": "2022-10-26T21:15:35.240Z"
   },
   {
    "duration": 31,
    "start_time": "2022-10-26T21:15:35.311Z"
   },
   {
    "duration": 39,
    "start_time": "2022-10-26T21:15:35.344Z"
   },
   {
    "duration": 53,
    "start_time": "2022-10-26T21:15:35.384Z"
   },
   {
    "duration": 64,
    "start_time": "2022-10-26T21:15:35.439Z"
   },
   {
    "duration": 100,
    "start_time": "2022-10-26T21:15:35.505Z"
   },
   {
    "duration": 0,
    "start_time": "2022-10-26T21:15:35.607Z"
   },
   {
    "duration": 11,
    "start_time": "2022-10-26T21:20:10.097Z"
   },
   {
    "duration": 8,
    "start_time": "2022-10-26T21:20:38.529Z"
   },
   {
    "duration": 28,
    "start_time": "2022-10-26T21:23:32.976Z"
   },
   {
    "duration": 34,
    "start_time": "2022-10-26T21:23:38.774Z"
   },
   {
    "duration": 36,
    "start_time": "2022-10-26T21:25:25.956Z"
   },
   {
    "duration": 273,
    "start_time": "2022-10-26T21:25:40.763Z"
   },
   {
    "duration": 139,
    "start_time": "2022-10-26T21:26:16.694Z"
   },
   {
    "duration": 2,
    "start_time": "2022-10-26T21:26:30.355Z"
   },
   {
    "duration": 178,
    "start_time": "2022-10-26T21:26:32.067Z"
   },
   {
    "duration": 1025,
    "start_time": "2022-10-26T21:26:37.843Z"
   },
   {
    "duration": 154,
    "start_time": "2022-10-26T21:26:38.870Z"
   },
   {
    "duration": 18,
    "start_time": "2022-10-26T21:26:39.026Z"
   },
   {
    "duration": 28,
    "start_time": "2022-10-26T21:26:39.046Z"
   },
   {
    "duration": 33,
    "start_time": "2022-10-26T21:26:39.075Z"
   },
   {
    "duration": 82,
    "start_time": "2022-10-26T21:26:39.110Z"
   },
   {
    "duration": 29,
    "start_time": "2022-10-26T21:26:39.194Z"
   },
   {
    "duration": 25,
    "start_time": "2022-10-26T21:26:39.224Z"
   },
   {
    "duration": 56,
    "start_time": "2022-10-26T21:26:39.250Z"
   },
   {
    "duration": 51,
    "start_time": "2022-10-26T21:26:39.308Z"
   },
   {
    "duration": 21,
    "start_time": "2022-10-26T21:26:39.361Z"
   },
   {
    "duration": 266,
    "start_time": "2022-10-26T21:26:39.383Z"
   },
   {
    "duration": 148,
    "start_time": "2022-10-26T21:29:56.476Z"
   },
   {
    "duration": 153,
    "start_time": "2022-10-26T21:30:11.244Z"
   },
   {
    "duration": 154,
    "start_time": "2022-10-26T21:30:33.108Z"
   },
   {
    "duration": 154,
    "start_time": "2022-10-26T21:48:32.500Z"
   },
   {
    "duration": 27,
    "start_time": "2022-10-26T21:48:58.236Z"
   },
   {
    "duration": 5,
    "start_time": "2022-10-26T21:49:07.043Z"
   },
   {
    "duration": 1086,
    "start_time": "2022-10-26T21:50:23.216Z"
   },
   {
    "duration": 147,
    "start_time": "2022-10-26T21:50:24.304Z"
   },
   {
    "duration": 19,
    "start_time": "2022-10-26T21:50:24.453Z"
   },
   {
    "duration": 24,
    "start_time": "2022-10-26T21:50:24.479Z"
   },
   {
    "duration": 12,
    "start_time": "2022-10-26T21:50:24.504Z"
   },
   {
    "duration": 11,
    "start_time": "2022-10-26T21:50:24.517Z"
   },
   {
    "duration": 111,
    "start_time": "2022-10-26T21:50:24.529Z"
   },
   {
    "duration": 0,
    "start_time": "2022-10-26T21:50:24.641Z"
   },
   {
    "duration": 0,
    "start_time": "2022-10-26T21:50:24.642Z"
   },
   {
    "duration": 0,
    "start_time": "2022-10-26T21:50:24.644Z"
   },
   {
    "duration": 0,
    "start_time": "2022-10-26T21:50:24.645Z"
   },
   {
    "duration": 0,
    "start_time": "2022-10-26T21:50:24.646Z"
   },
   {
    "duration": 33,
    "start_time": "2022-10-26T21:50:35.461Z"
   },
   {
    "duration": 53,
    "start_time": "2022-10-26T21:50:35.783Z"
   },
   {
    "duration": 64,
    "start_time": "2022-10-26T21:50:36.228Z"
   },
   {
    "duration": 32,
    "start_time": "2022-10-26T21:50:37.916Z"
   },
   {
    "duration": 16,
    "start_time": "2022-10-26T21:50:42.387Z"
   },
   {
    "duration": 227,
    "start_time": "2022-10-26T21:50:56.836Z"
   },
   {
    "duration": 166,
    "start_time": "2022-10-26T21:53:08.707Z"
   },
   {
    "duration": 405,
    "start_time": "2022-10-26T21:53:16.418Z"
   },
   {
    "duration": 171,
    "start_time": "2022-10-26T21:53:23.202Z"
   },
   {
    "duration": 172,
    "start_time": "2022-10-26T21:53:33.288Z"
   },
   {
    "duration": 5,
    "start_time": "2022-10-26T21:56:56.216Z"
   },
   {
    "duration": 7,
    "start_time": "2022-10-26T21:57:17.743Z"
   },
   {
    "duration": 5296,
    "start_time": "2022-10-26T22:03:44.704Z"
   },
   {
    "duration": 13,
    "start_time": "2022-10-26T22:05:14.087Z"
   },
   {
    "duration": 16,
    "start_time": "2022-10-26T22:05:19.096Z"
   },
   {
    "duration": 14,
    "start_time": "2022-10-26T22:06:40.184Z"
   },
   {
    "duration": 788,
    "start_time": "2022-10-26T22:08:41.403Z"
   },
   {
    "duration": 24361,
    "start_time": "2022-10-26T22:09:16.777Z"
   },
   {
    "duration": 12,
    "start_time": "2022-10-26T22:10:57.233Z"
   },
   {
    "duration": 13,
    "start_time": "2022-10-26T22:11:21.162Z"
   },
   {
    "duration": 24571,
    "start_time": "2022-10-26T22:11:23.895Z"
   },
   {
    "duration": 64,
    "start_time": "2022-10-26T22:11:57.625Z"
   },
   {
    "duration": 34,
    "start_time": "2022-10-26T22:12:09.545Z"
   },
   {
    "duration": 6,
    "start_time": "2022-10-26T22:12:14.017Z"
   },
   {
    "duration": 15,
    "start_time": "2022-10-26T22:12:22.883Z"
   },
   {
    "duration": 52,
    "start_time": "2022-10-26T22:14:03.471Z"
   },
   {
    "duration": 34,
    "start_time": "2022-10-26T22:16:34.100Z"
   },
   {
    "duration": 95,
    "start_time": "2022-10-26T22:19:46.094Z"
   },
   {
    "duration": 12,
    "start_time": "2022-10-26T22:21:41.221Z"
   },
   {
    "duration": 41,
    "start_time": "2022-10-26T22:21:52.468Z"
   },
   {
    "duration": 943,
    "start_time": "2022-10-26T22:25:06.000Z"
   },
   {
    "duration": 26,
    "start_time": "2022-10-26T22:25:14.749Z"
   },
   {
    "duration": 18,
    "start_time": "2022-10-26T22:28:15.475Z"
   },
   {
    "duration": 18,
    "start_time": "2022-10-26T22:34:00.903Z"
   },
   {
    "duration": 17,
    "start_time": "2022-10-26T22:38:37.497Z"
   },
   {
    "duration": 14,
    "start_time": "2022-10-26T22:39:06.235Z"
   },
   {
    "duration": 1063,
    "start_time": "2022-10-26T22:41:03.257Z"
   },
   {
    "duration": 145,
    "start_time": "2022-10-26T22:41:04.322Z"
   },
   {
    "duration": 28,
    "start_time": "2022-10-26T22:41:04.469Z"
   },
   {
    "duration": 18,
    "start_time": "2022-10-26T22:41:04.498Z"
   },
   {
    "duration": 13,
    "start_time": "2022-10-26T22:41:04.518Z"
   },
   {
    "duration": 9,
    "start_time": "2022-10-26T22:41:04.532Z"
   },
   {
    "duration": 114,
    "start_time": "2022-10-26T22:41:04.542Z"
   },
   {
    "duration": 0,
    "start_time": "2022-10-26T22:41:04.658Z"
   },
   {
    "duration": 0,
    "start_time": "2022-10-26T22:41:04.659Z"
   },
   {
    "duration": 0,
    "start_time": "2022-10-26T22:41:04.660Z"
   },
   {
    "duration": 0,
    "start_time": "2022-10-26T22:41:04.661Z"
   },
   {
    "duration": 0,
    "start_time": "2022-10-26T22:41:04.662Z"
   },
   {
    "duration": 0,
    "start_time": "2022-10-26T22:41:04.681Z"
   },
   {
    "duration": 0,
    "start_time": "2022-10-26T22:41:04.681Z"
   },
   {
    "duration": 0,
    "start_time": "2022-10-26T22:41:04.682Z"
   },
   {
    "duration": 0,
    "start_time": "2022-10-26T22:41:04.683Z"
   },
   {
    "duration": 0,
    "start_time": "2022-10-26T22:41:04.684Z"
   },
   {
    "duration": 0,
    "start_time": "2022-10-26T22:41:04.685Z"
   },
   {
    "duration": 0,
    "start_time": "2022-10-26T22:41:04.685Z"
   },
   {
    "duration": 27,
    "start_time": "2022-10-26T22:41:15.613Z"
   },
   {
    "duration": 49,
    "start_time": "2022-10-26T22:41:16.012Z"
   },
   {
    "duration": 55,
    "start_time": "2022-10-26T22:41:16.252Z"
   },
   {
    "duration": 30,
    "start_time": "2022-10-26T22:41:16.420Z"
   },
   {
    "duration": 7,
    "start_time": "2022-10-26T22:41:16.572Z"
   },
   {
    "duration": 250,
    "start_time": "2022-10-26T22:41:17.053Z"
   },
   {
    "duration": 3363,
    "start_time": "2022-10-26T22:41:17.469Z"
   },
   {
    "duration": 19,
    "start_time": "2022-10-26T22:41:23.172Z"
   },
   {
    "duration": 9,
    "start_time": "2022-10-26T22:41:23.573Z"
   },
   {
    "duration": 1066,
    "start_time": "2022-10-26T22:43:12.249Z"
   },
   {
    "duration": 149,
    "start_time": "2022-10-26T22:43:13.317Z"
   },
   {
    "duration": 23,
    "start_time": "2022-10-26T22:43:13.467Z"
   },
   {
    "duration": 18,
    "start_time": "2022-10-26T22:43:13.495Z"
   },
   {
    "duration": 12,
    "start_time": "2022-10-26T22:43:13.515Z"
   },
   {
    "duration": 9,
    "start_time": "2022-10-26T22:43:13.528Z"
   },
   {
    "duration": 53,
    "start_time": "2022-10-26T22:43:13.539Z"
   },
   {
    "duration": 48,
    "start_time": "2022-10-26T22:43:13.594Z"
   },
   {
    "duration": 63,
    "start_time": "2022-10-26T22:43:13.643Z"
   },
   {
    "duration": 30,
    "start_time": "2022-10-26T22:43:13.708Z"
   },
   {
    "duration": 4,
    "start_time": "2022-10-26T22:43:13.740Z"
   },
   {
    "duration": 276,
    "start_time": "2022-10-26T22:43:13.746Z"
   },
   {
    "duration": 3391,
    "start_time": "2022-10-26T22:43:14.024Z"
   },
   {
    "duration": 14,
    "start_time": "2022-10-26T22:43:17.418Z"
   },
   {
    "duration": 9,
    "start_time": "2022-10-26T22:43:17.433Z"
   },
   {
    "duration": 95,
    "start_time": "2022-10-26T22:43:17.443Z"
   },
   {
    "duration": 0,
    "start_time": "2022-10-26T22:43:17.540Z"
   },
   {
    "duration": 0,
    "start_time": "2022-10-26T22:43:17.541Z"
   },
   {
    "duration": 1043,
    "start_time": "2022-10-26T22:44:17.049Z"
   },
   {
    "duration": 148,
    "start_time": "2022-10-26T22:44:18.094Z"
   },
   {
    "duration": 18,
    "start_time": "2022-10-26T22:44:18.243Z"
   },
   {
    "duration": 33,
    "start_time": "2022-10-26T22:44:18.262Z"
   },
   {
    "duration": 11,
    "start_time": "2022-10-26T22:44:18.297Z"
   },
   {
    "duration": 9,
    "start_time": "2022-10-26T22:44:18.310Z"
   },
   {
    "duration": 30,
    "start_time": "2022-10-26T22:44:18.320Z"
   },
   {
    "duration": 73,
    "start_time": "2022-10-26T22:44:18.351Z"
   },
   {
    "duration": 64,
    "start_time": "2022-10-26T22:44:18.426Z"
   },
   {
    "duration": 31,
    "start_time": "2022-10-26T22:44:18.495Z"
   },
   {
    "duration": 4,
    "start_time": "2022-10-26T22:44:18.527Z"
   },
   {
    "duration": 268,
    "start_time": "2022-10-26T22:44:18.533Z"
   },
   {
    "duration": 3400,
    "start_time": "2022-10-26T22:44:18.803Z"
   },
   {
    "duration": 15,
    "start_time": "2022-10-26T22:44:22.206Z"
   },
   {
    "duration": 8,
    "start_time": "2022-10-26T22:44:22.222Z"
   },
   {
    "duration": 101,
    "start_time": "2022-10-26T22:44:22.232Z"
   },
   {
    "duration": 0,
    "start_time": "2022-10-26T22:44:22.335Z"
   },
   {
    "duration": 0,
    "start_time": "2022-10-26T22:44:22.336Z"
   },
   {
    "duration": 11,
    "start_time": "2022-10-26T22:45:44.203Z"
   },
   {
    "duration": 1718,
    "start_time": "2022-10-26T22:45:54.755Z"
   },
   {
    "duration": 1774,
    "start_time": "2022-10-26T22:46:17.056Z"
   },
   {
    "duration": 1688,
    "start_time": "2022-10-26T22:46:24.761Z"
   },
   {
    "duration": 1772,
    "start_time": "2022-10-26T22:47:11.958Z"
   },
   {
    "duration": 1738,
    "start_time": "2022-10-26T22:47:18.231Z"
   },
   {
    "duration": 1849,
    "start_time": "2022-10-26T22:48:17.311Z"
   },
   {
    "duration": 1748,
    "start_time": "2022-10-26T22:48:29.822Z"
   },
   {
    "duration": 70,
    "start_time": "2022-10-26T22:52:09.003Z"
   },
   {
    "duration": 79,
    "start_time": "2022-10-26T22:52:12.378Z"
   },
   {
    "duration": 1958,
    "start_time": "2022-10-26T22:52:15.396Z"
   },
   {
    "duration": 16,
    "start_time": "2022-10-26T22:52:53.041Z"
   },
   {
    "duration": 1048,
    "start_time": "2022-10-26T22:53:28.997Z"
   },
   {
    "duration": 152,
    "start_time": "2022-10-26T22:53:30.047Z"
   },
   {
    "duration": 19,
    "start_time": "2022-10-26T22:53:30.201Z"
   },
   {
    "duration": 19,
    "start_time": "2022-10-26T22:53:30.221Z"
   },
   {
    "duration": 36,
    "start_time": "2022-10-26T22:53:30.242Z"
   },
   {
    "duration": 20,
    "start_time": "2022-10-26T22:53:30.280Z"
   },
   {
    "duration": 42,
    "start_time": "2022-10-26T22:53:30.301Z"
   },
   {
    "duration": 57,
    "start_time": "2022-10-26T22:53:30.344Z"
   },
   {
    "duration": 55,
    "start_time": "2022-10-26T22:53:30.402Z"
   },
   {
    "duration": 43,
    "start_time": "2022-10-26T22:53:30.459Z"
   },
   {
    "duration": 5,
    "start_time": "2022-10-26T22:53:30.504Z"
   },
   {
    "duration": 289,
    "start_time": "2022-10-26T22:53:30.511Z"
   },
   {
    "duration": 96,
    "start_time": "2022-10-26T22:53:30.802Z"
   },
   {
    "duration": 0,
    "start_time": "2022-10-26T22:53:30.900Z"
   },
   {
    "duration": 0,
    "start_time": "2022-10-26T22:53:30.901Z"
   },
   {
    "duration": 0,
    "start_time": "2022-10-26T22:53:30.902Z"
   },
   {
    "duration": 0,
    "start_time": "2022-10-26T22:53:30.903Z"
   },
   {
    "duration": 1157,
    "start_time": "2022-10-26T22:53:40.606Z"
   },
   {
    "duration": 163,
    "start_time": "2022-10-26T22:53:41.765Z"
   },
   {
    "duration": 17,
    "start_time": "2022-10-26T22:53:41.930Z"
   },
   {
    "duration": 35,
    "start_time": "2022-10-26T22:53:41.949Z"
   },
   {
    "duration": 17,
    "start_time": "2022-10-26T22:53:41.986Z"
   },
   {
    "duration": 12,
    "start_time": "2022-10-26T22:53:42.005Z"
   },
   {
    "duration": 38,
    "start_time": "2022-10-26T22:53:42.019Z"
   },
   {
    "duration": 69,
    "start_time": "2022-10-26T22:53:42.058Z"
   },
   {
    "duration": 66,
    "start_time": "2022-10-26T22:53:42.129Z"
   },
   {
    "duration": 30,
    "start_time": "2022-10-26T22:53:42.198Z"
   },
   {
    "duration": 5,
    "start_time": "2022-10-26T22:53:42.229Z"
   },
   {
    "duration": 274,
    "start_time": "2022-10-26T22:53:42.235Z"
   },
   {
    "duration": 7,
    "start_time": "2022-10-26T22:53:42.511Z"
   },
   {
    "duration": 122,
    "start_time": "2022-10-26T22:53:42.520Z"
   },
   {
    "duration": 0,
    "start_time": "2022-10-26T22:53:42.644Z"
   },
   {
    "duration": 0,
    "start_time": "2022-10-26T22:53:42.645Z"
   },
   {
    "duration": 1064,
    "start_time": "2022-10-26T22:56:43.451Z"
   },
   {
    "duration": 144,
    "start_time": "2022-10-26T22:56:44.517Z"
   },
   {
    "duration": 32,
    "start_time": "2022-10-26T22:56:44.663Z"
   },
   {
    "duration": 17,
    "start_time": "2022-10-26T22:56:44.698Z"
   },
   {
    "duration": 11,
    "start_time": "2022-10-26T22:56:44.717Z"
   },
   {
    "duration": 8,
    "start_time": "2022-10-26T22:56:44.730Z"
   },
   {
    "duration": 49,
    "start_time": "2022-10-26T22:56:44.740Z"
   },
   {
    "duration": 49,
    "start_time": "2022-10-26T22:56:44.790Z"
   },
   {
    "duration": 64,
    "start_time": "2022-10-26T22:56:44.841Z"
   },
   {
    "duration": 30,
    "start_time": "2022-10-26T22:56:44.907Z"
   },
   {
    "duration": 5,
    "start_time": "2022-10-26T22:56:44.938Z"
   },
   {
    "duration": 276,
    "start_time": "2022-10-26T22:56:44.945Z"
   },
   {
    "duration": 5,
    "start_time": "2022-10-26T22:56:45.223Z"
   },
   {
    "duration": 1004,
    "start_time": "2022-10-26T22:57:58.145Z"
   },
   {
    "duration": 154,
    "start_time": "2022-10-26T22:57:59.151Z"
   },
   {
    "duration": 19,
    "start_time": "2022-10-26T22:57:59.306Z"
   },
   {
    "duration": 25,
    "start_time": "2022-10-26T22:57:59.326Z"
   },
   {
    "duration": 44,
    "start_time": "2022-10-26T22:57:59.353Z"
   },
   {
    "duration": 11,
    "start_time": "2022-10-26T22:57:59.399Z"
   },
   {
    "duration": 31,
    "start_time": "2022-10-26T22:57:59.411Z"
   },
   {
    "duration": 60,
    "start_time": "2022-10-26T22:57:59.443Z"
   },
   {
    "duration": 52,
    "start_time": "2022-10-26T22:57:59.504Z"
   },
   {
    "duration": 50,
    "start_time": "2022-10-26T22:57:59.558Z"
   },
   {
    "duration": 5,
    "start_time": "2022-10-26T22:57:59.610Z"
   },
   {
    "duration": 297,
    "start_time": "2022-10-26T22:57:59.616Z"
   },
   {
    "duration": 7,
    "start_time": "2022-10-26T22:57:59.915Z"
   },
   {
    "duration": 2067,
    "start_time": "2022-10-26T22:57:59.925Z"
   },
   {
    "duration": 96,
    "start_time": "2022-10-26T22:58:01.993Z"
   },
   {
    "duration": 0,
    "start_time": "2022-10-26T22:58:02.090Z"
   },
   {
    "duration": 1076,
    "start_time": "2022-10-26T22:58:57.495Z"
   },
   {
    "duration": 157,
    "start_time": "2022-10-26T22:58:58.573Z"
   },
   {
    "duration": 17,
    "start_time": "2022-10-26T22:58:58.732Z"
   },
   {
    "duration": 27,
    "start_time": "2022-10-26T22:58:58.751Z"
   },
   {
    "duration": 17,
    "start_time": "2022-10-26T22:58:58.785Z"
   },
   {
    "duration": 11,
    "start_time": "2022-10-26T22:58:58.803Z"
   },
   {
    "duration": 29,
    "start_time": "2022-10-26T22:58:58.816Z"
   },
   {
    "duration": 63,
    "start_time": "2022-10-26T22:58:58.846Z"
   },
   {
    "duration": 48,
    "start_time": "2022-10-26T22:58:58.911Z"
   },
   {
    "duration": 48,
    "start_time": "2022-10-26T22:58:58.961Z"
   },
   {
    "duration": 7,
    "start_time": "2022-10-26T22:58:59.010Z"
   },
   {
    "duration": 284,
    "start_time": "2022-10-26T22:58:59.018Z"
   },
   {
    "duration": 5,
    "start_time": "2022-10-26T22:58:59.303Z"
   },
   {
    "duration": 1055,
    "start_time": "2022-10-26T22:59:29.851Z"
   },
   {
    "duration": 148,
    "start_time": "2022-10-26T22:59:30.908Z"
   },
   {
    "duration": 26,
    "start_time": "2022-10-26T22:59:31.058Z"
   },
   {
    "duration": 20,
    "start_time": "2022-10-26T22:59:31.086Z"
   },
   {
    "duration": 12,
    "start_time": "2022-10-26T22:59:31.108Z"
   },
   {
    "duration": 9,
    "start_time": "2022-10-26T22:59:31.121Z"
   },
   {
    "duration": 54,
    "start_time": "2022-10-26T22:59:31.131Z"
   },
   {
    "duration": 52,
    "start_time": "2022-10-26T22:59:31.187Z"
   },
   {
    "duration": 66,
    "start_time": "2022-10-26T22:59:31.241Z"
   },
   {
    "duration": 34,
    "start_time": "2022-10-26T22:59:31.309Z"
   },
   {
    "duration": 5,
    "start_time": "2022-10-26T22:59:31.344Z"
   },
   {
    "duration": 279,
    "start_time": "2022-10-26T22:59:31.351Z"
   },
   {
    "duration": 5,
    "start_time": "2022-10-26T22:59:31.632Z"
   },
   {
    "duration": 1869,
    "start_time": "2022-10-26T22:59:31.638Z"
   },
   {
    "duration": 102,
    "start_time": "2022-10-26T22:59:33.508Z"
   },
   {
    "duration": 0,
    "start_time": "2022-10-26T22:59:33.611Z"
   },
   {
    "duration": 11,
    "start_time": "2022-10-26T22:59:45.725Z"
   },
   {
    "duration": 40,
    "start_time": "2022-10-26T23:00:10.567Z"
   },
   {
    "duration": 4,
    "start_time": "2022-10-26T23:03:51.791Z"
   },
   {
    "duration": 5,
    "start_time": "2022-10-26T23:03:56.392Z"
   },
   {
    "duration": 11,
    "start_time": "2022-10-26T23:04:58.458Z"
   },
   {
    "duration": 10,
    "start_time": "2022-10-26T23:05:10.155Z"
   },
   {
    "duration": 1052,
    "start_time": "2022-10-26T23:05:43.669Z"
   },
   {
    "duration": 146,
    "start_time": "2022-10-26T23:05:44.723Z"
   },
   {
    "duration": 24,
    "start_time": "2022-10-26T23:05:44.870Z"
   },
   {
    "duration": 18,
    "start_time": "2022-10-26T23:05:44.896Z"
   },
   {
    "duration": 13,
    "start_time": "2022-10-26T23:05:44.916Z"
   },
   {
    "duration": 9,
    "start_time": "2022-10-26T23:05:44.930Z"
   },
   {
    "duration": 50,
    "start_time": "2022-10-26T23:05:44.941Z"
   },
   {
    "duration": 51,
    "start_time": "2022-10-26T23:05:44.993Z"
   },
   {
    "duration": 64,
    "start_time": "2022-10-26T23:05:45.046Z"
   },
   {
    "duration": 9,
    "start_time": "2022-10-26T23:05:45.111Z"
   },
   {
    "duration": 5,
    "start_time": "2022-10-26T23:05:45.122Z"
   },
   {
    "duration": 187,
    "start_time": "2022-10-26T23:05:45.128Z"
   },
   {
    "duration": 100,
    "start_time": "2022-10-26T23:05:45.317Z"
   },
   {
    "duration": 0,
    "start_time": "2022-10-26T23:05:45.418Z"
   },
   {
    "duration": 0,
    "start_time": "2022-10-26T23:05:45.419Z"
   },
   {
    "duration": 0,
    "start_time": "2022-10-26T23:05:45.420Z"
   },
   {
    "duration": 42,
    "start_time": "2022-10-26T23:10:46.643Z"
   },
   {
    "duration": 6,
    "start_time": "2022-10-26T23:10:52.275Z"
   },
   {
    "duration": 110,
    "start_time": "2022-10-26T23:12:06.914Z"
   },
   {
    "duration": 34,
    "start_time": "2022-10-26T23:12:22.054Z"
   },
   {
    "duration": 419,
    "start_time": "2022-10-26T23:12:57.652Z"
   },
   {
    "duration": 160,
    "start_time": "2022-10-26T23:13:11.856Z"
   },
   {
    "duration": 6,
    "start_time": "2022-10-26T23:13:32.864Z"
   },
   {
    "duration": 1069,
    "start_time": "2022-10-26T23:13:37.553Z"
   },
   {
    "duration": 151,
    "start_time": "2022-10-26T23:13:38.627Z"
   },
   {
    "duration": 20,
    "start_time": "2022-10-26T23:13:38.785Z"
   },
   {
    "duration": 16,
    "start_time": "2022-10-26T23:13:38.807Z"
   },
   {
    "duration": 11,
    "start_time": "2022-10-26T23:13:38.825Z"
   },
   {
    "duration": 65,
    "start_time": "2022-10-26T23:13:38.838Z"
   },
   {
    "duration": 36,
    "start_time": "2022-10-26T23:13:38.912Z"
   },
   {
    "duration": 81,
    "start_time": "2022-10-26T23:13:38.950Z"
   },
   {
    "duration": 67,
    "start_time": "2022-10-26T23:13:39.034Z"
   },
   {
    "duration": 12,
    "start_time": "2022-10-26T23:13:39.102Z"
   },
   {
    "duration": 8,
    "start_time": "2022-10-26T23:13:39.115Z"
   },
   {
    "duration": 273,
    "start_time": "2022-10-26T23:13:39.125Z"
   },
   {
    "duration": 104,
    "start_time": "2022-10-26T23:13:39.399Z"
   },
   {
    "duration": 0,
    "start_time": "2022-10-26T23:13:39.505Z"
   },
   {
    "duration": 0,
    "start_time": "2022-10-26T23:13:39.506Z"
   },
   {
    "duration": 0,
    "start_time": "2022-10-26T23:13:39.507Z"
   },
   {
    "duration": 27,
    "start_time": "2022-10-26T23:14:19.640Z"
   },
   {
    "duration": 1018,
    "start_time": "2022-10-26T23:14:24.355Z"
   },
   {
    "duration": 154,
    "start_time": "2022-10-26T23:14:25.375Z"
   },
   {
    "duration": 19,
    "start_time": "2022-10-26T23:14:25.531Z"
   },
   {
    "duration": 32,
    "start_time": "2022-10-26T23:14:25.552Z"
   },
   {
    "duration": 23,
    "start_time": "2022-10-26T23:14:25.586Z"
   },
   {
    "duration": 31,
    "start_time": "2022-10-26T23:14:25.611Z"
   },
   {
    "duration": 71,
    "start_time": "2022-10-26T23:14:25.644Z"
   },
   {
    "duration": 50,
    "start_time": "2022-10-26T23:14:25.717Z"
   },
   {
    "duration": 47,
    "start_time": "2022-10-26T23:14:25.768Z"
   },
   {
    "duration": 5,
    "start_time": "2022-10-26T23:14:25.817Z"
   },
   {
    "duration": 283,
    "start_time": "2022-10-26T23:14:25.824Z"
   },
   {
    "duration": 99,
    "start_time": "2022-10-26T23:14:26.108Z"
   },
   {
    "duration": 0,
    "start_time": "2022-10-26T23:14:26.209Z"
   },
   {
    "duration": 0,
    "start_time": "2022-10-26T23:14:26.210Z"
   },
   {
    "duration": 0,
    "start_time": "2022-10-26T23:14:26.211Z"
   },
   {
    "duration": 197,
    "start_time": "2022-10-26T23:14:34.087Z"
   },
   {
    "duration": 310,
    "start_time": "2022-10-26T23:15:34.130Z"
   },
   {
    "duration": 205,
    "start_time": "2022-10-26T23:15:58.720Z"
   },
   {
    "duration": 12,
    "start_time": "2022-10-26T23:17:30.857Z"
   },
   {
    "duration": 29,
    "start_time": "2022-10-26T23:18:06.959Z"
   },
   {
    "duration": 24,
    "start_time": "2022-10-26T23:18:19.097Z"
   },
   {
    "duration": 20,
    "start_time": "2022-10-26T23:19:45.672Z"
   },
   {
    "duration": 299,
    "start_time": "2022-10-26T23:20:02.718Z"
   },
   {
    "duration": 11,
    "start_time": "2022-10-26T23:20:19.413Z"
   },
   {
    "duration": 1107,
    "start_time": "2022-10-26T23:21:06.006Z"
   },
   {
    "duration": 152,
    "start_time": "2022-10-26T23:21:07.115Z"
   },
   {
    "duration": 30,
    "start_time": "2022-10-26T23:21:07.268Z"
   },
   {
    "duration": 22,
    "start_time": "2022-10-26T23:21:07.300Z"
   },
   {
    "duration": 13,
    "start_time": "2022-10-26T23:21:07.324Z"
   },
   {
    "duration": 55,
    "start_time": "2022-10-26T23:21:07.339Z"
   },
   {
    "duration": 61,
    "start_time": "2022-10-26T23:21:07.397Z"
   },
   {
    "duration": 64,
    "start_time": "2022-10-26T23:21:07.460Z"
   },
   {
    "duration": 32,
    "start_time": "2022-10-26T23:21:07.525Z"
   },
   {
    "duration": 27,
    "start_time": "2022-10-26T23:21:07.558Z"
   },
   {
    "duration": 336,
    "start_time": "2022-10-26T23:21:07.587Z"
   },
   {
    "duration": 146,
    "start_time": "2022-10-26T23:21:07.924Z"
   },
   {
    "duration": 0,
    "start_time": "2022-10-26T23:21:08.072Z"
   },
   {
    "duration": 0,
    "start_time": "2022-10-26T23:21:08.078Z"
   },
   {
    "duration": 1004,
    "start_time": "2022-10-26T23:21:57.923Z"
   },
   {
    "duration": 149,
    "start_time": "2022-10-26T23:21:58.929Z"
   },
   {
    "duration": 21,
    "start_time": "2022-10-26T23:21:59.082Z"
   },
   {
    "duration": 18,
    "start_time": "2022-10-26T23:21:59.105Z"
   },
   {
    "duration": 12,
    "start_time": "2022-10-26T23:21:59.124Z"
   },
   {
    "duration": 59,
    "start_time": "2022-10-26T23:21:59.138Z"
   },
   {
    "duration": 50,
    "start_time": "2022-10-26T23:21:59.198Z"
   },
   {
    "duration": 77,
    "start_time": "2022-10-26T23:21:59.249Z"
   },
   {
    "duration": 30,
    "start_time": "2022-10-26T23:21:59.327Z"
   },
   {
    "duration": 4,
    "start_time": "2022-10-26T23:21:59.359Z"
   },
   {
    "duration": 276,
    "start_time": "2022-10-26T23:21:59.365Z"
   },
   {
    "duration": 2,
    "start_time": "2022-10-26T23:21:59.642Z"
   },
   {
    "duration": 281,
    "start_time": "2022-10-26T23:21:59.646Z"
   },
   {
    "duration": 966,
    "start_time": "2022-10-26T23:27:05.939Z"
   },
   {
    "duration": 148,
    "start_time": "2022-10-26T23:27:06.907Z"
   },
   {
    "duration": 33,
    "start_time": "2022-10-26T23:27:07.057Z"
   },
   {
    "duration": 18,
    "start_time": "2022-10-26T23:27:07.091Z"
   },
   {
    "duration": 24,
    "start_time": "2022-10-26T23:27:07.111Z"
   },
   {
    "duration": 28,
    "start_time": "2022-10-26T23:27:07.136Z"
   },
   {
    "duration": 55,
    "start_time": "2022-10-26T23:27:07.165Z"
   },
   {
    "duration": 69,
    "start_time": "2022-10-26T23:27:07.222Z"
   },
   {
    "duration": 44,
    "start_time": "2022-10-26T23:27:07.296Z"
   },
   {
    "duration": 5,
    "start_time": "2022-10-26T23:27:07.342Z"
   },
   {
    "duration": 295,
    "start_time": "2022-10-26T23:27:07.348Z"
   },
   {
    "duration": 4,
    "start_time": "2022-10-26T23:27:07.646Z"
   },
   {
    "duration": 307,
    "start_time": "2022-10-26T23:27:07.656Z"
   },
   {
    "duration": 0,
    "start_time": "2022-10-26T23:28:51.734Z"
   },
   {
    "duration": 0,
    "start_time": "2022-10-26T23:28:51.735Z"
   },
   {
    "duration": 0,
    "start_time": "2022-10-26T23:28:51.737Z"
   },
   {
    "duration": 0,
    "start_time": "2022-10-26T23:28:51.737Z"
   },
   {
    "duration": 0,
    "start_time": "2022-10-26T23:28:51.738Z"
   },
   {
    "duration": 0,
    "start_time": "2022-10-26T23:28:51.739Z"
   },
   {
    "duration": 0,
    "start_time": "2022-10-26T23:28:51.740Z"
   },
   {
    "duration": 0,
    "start_time": "2022-10-26T23:28:51.741Z"
   },
   {
    "duration": 0,
    "start_time": "2022-10-26T23:28:51.742Z"
   },
   {
    "duration": 0,
    "start_time": "2022-10-26T23:28:51.743Z"
   },
   {
    "duration": 0,
    "start_time": "2022-10-26T23:28:51.744Z"
   },
   {
    "duration": 0,
    "start_time": "2022-10-26T23:28:51.744Z"
   },
   {
    "duration": 0,
    "start_time": "2022-10-26T23:28:51.746Z"
   },
   {
    "duration": 0,
    "start_time": "2022-10-26T23:28:51.747Z"
   },
   {
    "duration": 0,
    "start_time": "2022-10-26T23:29:09.369Z"
   },
   {
    "duration": 0,
    "start_time": "2022-10-26T23:29:09.371Z"
   },
   {
    "duration": 0,
    "start_time": "2022-10-26T23:29:09.372Z"
   },
   {
    "duration": 0,
    "start_time": "2022-10-26T23:29:09.373Z"
   },
   {
    "duration": 0,
    "start_time": "2022-10-26T23:29:09.376Z"
   },
   {
    "duration": 0,
    "start_time": "2022-10-26T23:29:09.377Z"
   },
   {
    "duration": 0,
    "start_time": "2022-10-26T23:29:09.378Z"
   },
   {
    "duration": 0,
    "start_time": "2022-10-26T23:29:09.379Z"
   },
   {
    "duration": 0,
    "start_time": "2022-10-26T23:29:09.379Z"
   },
   {
    "duration": 0,
    "start_time": "2022-10-26T23:29:09.380Z"
   },
   {
    "duration": 0,
    "start_time": "2022-10-26T23:29:09.380Z"
   },
   {
    "duration": 0,
    "start_time": "2022-10-26T23:29:09.381Z"
   },
   {
    "duration": 0,
    "start_time": "2022-10-26T23:29:09.381Z"
   },
   {
    "duration": 0,
    "start_time": "2022-10-26T23:29:09.382Z"
   },
   {
    "duration": 30,
    "start_time": "2022-10-26T23:29:14.551Z"
   },
   {
    "duration": 49,
    "start_time": "2022-10-26T23:29:14.709Z"
   },
   {
    "duration": 58,
    "start_time": "2022-10-26T23:29:14.869Z"
   },
   {
    "duration": 31,
    "start_time": "2022-10-26T23:29:15.038Z"
   },
   {
    "duration": 6,
    "start_time": "2022-10-26T23:29:15.198Z"
   },
   {
    "duration": 208,
    "start_time": "2022-10-26T23:29:15.387Z"
   },
   {
    "duration": 2,
    "start_time": "2022-10-26T23:29:17.326Z"
   },
   {
    "duration": 275,
    "start_time": "2022-10-26T23:29:17.705Z"
   },
   {
    "duration": 12,
    "start_time": "2022-10-26T23:29:17.989Z"
   },
   {
    "duration": 10,
    "start_time": "2022-10-26T23:29:39.405Z"
   },
   {
    "duration": 8,
    "start_time": "2022-10-26T23:29:48.325Z"
   },
   {
    "duration": 0,
    "start_time": "2022-10-26T23:29:57.804Z"
   },
   {
    "duration": 0,
    "start_time": "2022-10-26T23:29:57.805Z"
   },
   {
    "duration": 0,
    "start_time": "2022-10-26T23:29:57.807Z"
   },
   {
    "duration": 0,
    "start_time": "2022-10-26T23:29:57.807Z"
   },
   {
    "duration": 0,
    "start_time": "2022-10-26T23:29:57.808Z"
   },
   {
    "duration": 0,
    "start_time": "2022-10-26T23:29:57.809Z"
   },
   {
    "duration": 0,
    "start_time": "2022-10-26T23:29:57.810Z"
   },
   {
    "duration": 0,
    "start_time": "2022-10-26T23:29:57.811Z"
   },
   {
    "duration": 0,
    "start_time": "2022-10-26T23:29:57.812Z"
   },
   {
    "duration": 0,
    "start_time": "2022-10-26T23:29:57.813Z"
   },
   {
    "duration": 0,
    "start_time": "2022-10-26T23:29:57.814Z"
   },
   {
    "duration": 0,
    "start_time": "2022-10-26T23:29:57.815Z"
   },
   {
    "duration": 0,
    "start_time": "2022-10-26T23:29:57.816Z"
   },
   {
    "duration": 0,
    "start_time": "2022-10-26T23:29:57.817Z"
   },
   {
    "duration": 166,
    "start_time": "2022-10-26T23:30:00.868Z"
   },
   {
    "duration": 13,
    "start_time": "2022-10-26T23:30:01.036Z"
   },
   {
    "duration": 16,
    "start_time": "2022-10-26T23:30:01.157Z"
   },
   {
    "duration": 21,
    "start_time": "2022-10-26T23:30:01.372Z"
   },
   {
    "duration": 31,
    "start_time": "2022-10-26T23:30:01.844Z"
   },
   {
    "duration": 48,
    "start_time": "2022-10-26T23:30:02.108Z"
   },
   {
    "duration": 49,
    "start_time": "2022-10-26T23:30:02.296Z"
   },
   {
    "duration": 28,
    "start_time": "2022-10-26T23:30:02.844Z"
   },
   {
    "duration": 5,
    "start_time": "2022-10-26T23:30:03.412Z"
   },
   {
    "duration": 186,
    "start_time": "2022-10-26T23:30:04.524Z"
   },
   {
    "duration": 2,
    "start_time": "2022-10-26T23:30:05.096Z"
   },
   {
    "duration": 213,
    "start_time": "2022-10-26T23:30:05.651Z"
   },
   {
    "duration": 19,
    "start_time": "2022-10-26T23:30:05.866Z"
   },
   {
    "duration": 942,
    "start_time": "2022-10-26T23:30:15.859Z"
   },
   {
    "duration": 109,
    "start_time": "2022-10-26T23:30:34.900Z"
   },
   {
    "duration": 1103,
    "start_time": "2022-10-26T23:32:37.258Z"
   },
   {
    "duration": 155,
    "start_time": "2022-10-26T23:32:38.362Z"
   },
   {
    "duration": 18,
    "start_time": "2022-10-26T23:32:38.519Z"
   },
   {
    "duration": 18,
    "start_time": "2022-10-26T23:32:38.539Z"
   },
   {
    "duration": 32,
    "start_time": "2022-10-26T23:32:38.559Z"
   },
   {
    "duration": 35,
    "start_time": "2022-10-26T23:32:38.598Z"
   },
   {
    "duration": 59,
    "start_time": "2022-10-26T23:32:38.635Z"
   },
   {
    "duration": 59,
    "start_time": "2022-10-26T23:32:38.698Z"
   },
   {
    "duration": 48,
    "start_time": "2022-10-26T23:32:38.759Z"
   },
   {
    "duration": 5,
    "start_time": "2022-10-26T23:32:38.808Z"
   },
   {
    "duration": 290,
    "start_time": "2022-10-26T23:32:38.815Z"
   },
   {
    "duration": 2,
    "start_time": "2022-10-26T23:32:39.107Z"
   },
   {
    "duration": 50,
    "start_time": "2022-10-26T23:32:39.111Z"
   },
   {
    "duration": 15,
    "start_time": "2022-10-26T23:32:39.164Z"
   },
   {
    "duration": 25,
    "start_time": "2022-10-26T23:32:39.181Z"
   },
   {
    "duration": 1926,
    "start_time": "2022-10-26T23:34:03.237Z"
   },
   {
    "duration": 1898,
    "start_time": "2022-10-26T23:35:01.117Z"
   },
   {
    "duration": 57,
    "start_time": "2022-10-26T23:57:54.097Z"
   },
   {
    "duration": 1093,
    "start_time": "2022-10-26T23:58:13.935Z"
   },
   {
    "duration": 778,
    "start_time": "2022-10-26T23:58:15.030Z"
   },
   {
    "duration": 20,
    "start_time": "2022-10-26T23:58:15.810Z"
   },
   {
    "duration": 19,
    "start_time": "2022-10-26T23:58:15.832Z"
   },
   {
    "duration": 11,
    "start_time": "2022-10-26T23:58:15.852Z"
   },
   {
    "duration": 39,
    "start_time": "2022-10-26T23:58:15.865Z"
   },
   {
    "duration": 52,
    "start_time": "2022-10-26T23:58:15.905Z"
   },
   {
    "duration": 84,
    "start_time": "2022-10-26T23:58:15.959Z"
   },
   {
    "duration": 30,
    "start_time": "2022-10-26T23:58:16.045Z"
   },
   {
    "duration": 16,
    "start_time": "2022-10-26T23:58:16.078Z"
   },
   {
    "duration": 266,
    "start_time": "2022-10-26T23:58:16.100Z"
   },
   {
    "duration": 19,
    "start_time": "2022-10-26T23:58:16.368Z"
   },
   {
    "duration": 12,
    "start_time": "2022-10-26T23:58:16.388Z"
   },
   {
    "duration": 51,
    "start_time": "2022-10-26T23:58:16.402Z"
   },
   {
    "duration": 2,
    "start_time": "2022-10-26T23:58:16.455Z"
   },
   {
    "duration": 13,
    "start_time": "2022-10-26T23:58:16.458Z"
   },
   {
    "duration": 104,
    "start_time": "2022-10-26T23:59:11.131Z"
   },
   {
    "duration": 335,
    "start_time": "2022-10-26T23:59:27.171Z"
   },
   {
    "duration": 11,
    "start_time": "2022-10-27T00:03:29.543Z"
   },
   {
    "duration": 35,
    "start_time": "2022-10-27T00:03:37.902Z"
   },
   {
    "duration": 13,
    "start_time": "2022-10-27T00:04:17.629Z"
   },
   {
    "duration": 10,
    "start_time": "2022-10-27T00:04:44.337Z"
   },
   {
    "duration": 1542,
    "start_time": "2022-10-27T00:04:55.572Z"
   },
   {
    "duration": 11,
    "start_time": "2022-10-27T00:05:09.696Z"
   },
   {
    "duration": 1298,
    "start_time": "2022-10-27T00:05:17.340Z"
   },
   {
    "duration": 14,
    "start_time": "2022-10-27T00:05:29.615Z"
   },
   {
    "duration": 1325,
    "start_time": "2022-10-27T00:05:39.372Z"
   },
   {
    "duration": 96,
    "start_time": "2022-10-27T00:05:42.975Z"
   },
   {
    "duration": 9,
    "start_time": "2022-10-27T00:06:06.076Z"
   },
   {
    "duration": 323,
    "start_time": "2022-10-27T00:06:31.435Z"
   },
   {
    "duration": 6,
    "start_time": "2022-10-27T00:08:00.306Z"
   },
   {
    "duration": 10,
    "start_time": "2022-10-27T00:08:06.219Z"
   },
   {
    "duration": 13,
    "start_time": "2022-10-27T00:08:10.793Z"
   },
   {
    "duration": 9,
    "start_time": "2022-10-27T00:08:17.137Z"
   },
   {
    "duration": 99,
    "start_time": "2022-10-27T00:08:24.200Z"
   },
   {
    "duration": 10,
    "start_time": "2022-10-27T00:08:29.241Z"
   },
   {
    "duration": 86,
    "start_time": "2022-10-27T00:08:39.312Z"
   },
   {
    "duration": 87,
    "start_time": "2022-10-27T00:08:46.744Z"
   },
   {
    "duration": 2943,
    "start_time": "2022-10-27T00:10:08.231Z"
   },
   {
    "duration": 3220,
    "start_time": "2022-10-27T00:10:30.600Z"
   },
   {
    "duration": 88,
    "start_time": "2022-10-27T00:11:57.501Z"
   },
   {
    "duration": 8,
    "start_time": "2022-10-27T00:12:23.061Z"
   },
   {
    "duration": 4,
    "start_time": "2022-10-27T00:12:47.801Z"
   },
   {
    "duration": 4,
    "start_time": "2022-10-27T00:12:58.908Z"
   },
   {
    "duration": 15,
    "start_time": "2022-10-27T00:13:10.973Z"
   },
   {
    "duration": 3,
    "start_time": "2022-10-27T00:13:20.564Z"
   },
   {
    "duration": 93,
    "start_time": "2022-10-27T00:13:35.052Z"
   },
   {
    "duration": 1309,
    "start_time": "2022-10-27T00:14:55.114Z"
   },
   {
    "duration": 1968,
    "start_time": "2022-10-27T00:15:09.842Z"
   },
   {
    "duration": 103,
    "start_time": "2022-10-27T00:17:58.224Z"
   },
   {
    "duration": 5934,
    "start_time": "2022-10-27T00:20:02.233Z"
   },
   {
    "duration": 2088,
    "start_time": "2022-10-27T00:23:07.199Z"
   },
   {
    "duration": 85,
    "start_time": "2022-10-27T00:23:14.923Z"
   },
   {
    "duration": 83,
    "start_time": "2022-10-27T00:25:22.121Z"
   },
   {
    "duration": 90,
    "start_time": "2022-10-27T00:25:48.568Z"
   },
   {
    "duration": 112,
    "start_time": "2022-10-27T00:26:34.985Z"
   },
   {
    "duration": 96,
    "start_time": "2022-10-27T00:29:51.373Z"
   },
   {
    "duration": 1452,
    "start_time": "2022-10-27T00:30:03.348Z"
   },
   {
    "duration": 87,
    "start_time": "2022-10-27T00:30:20.896Z"
   },
   {
    "duration": 116,
    "start_time": "2022-10-27T00:30:27.599Z"
   },
   {
    "duration": 3,
    "start_time": "2022-10-27T00:31:57.675Z"
   },
   {
    "duration": 1041,
    "start_time": "2022-10-27T00:33:13.353Z"
   },
   {
    "duration": 155,
    "start_time": "2022-10-27T00:33:14.396Z"
   },
   {
    "duration": 18,
    "start_time": "2022-10-27T00:33:14.552Z"
   },
   {
    "duration": 35,
    "start_time": "2022-10-27T00:33:14.571Z"
   },
   {
    "duration": 19,
    "start_time": "2022-10-27T00:33:14.609Z"
   },
   {
    "duration": 26,
    "start_time": "2022-10-27T00:33:14.630Z"
   },
   {
    "duration": 63,
    "start_time": "2022-10-27T00:33:14.657Z"
   },
   {
    "duration": 72,
    "start_time": "2022-10-27T00:33:14.721Z"
   },
   {
    "duration": 31,
    "start_time": "2022-10-27T00:33:14.799Z"
   },
   {
    "duration": 5,
    "start_time": "2022-10-27T00:33:14.832Z"
   },
   {
    "duration": 271,
    "start_time": "2022-10-27T00:33:14.839Z"
   },
   {
    "duration": 24,
    "start_time": "2022-10-27T00:33:15.112Z"
   },
   {
    "duration": 101,
    "start_time": "2022-10-27T00:33:15.138Z"
   },
   {
    "duration": 2,
    "start_time": "2022-10-27T00:33:15.242Z"
   },
   {
    "duration": 72,
    "start_time": "2022-10-27T00:33:15.246Z"
   },
   {
    "duration": 111,
    "start_time": "2022-10-27T00:33:15.319Z"
   },
   {
    "duration": 0,
    "start_time": "2022-10-27T00:33:15.432Z"
   },
   {
    "duration": 548,
    "start_time": "2022-10-27T00:33:28.670Z"
   },
   {
    "duration": 18,
    "start_time": "2022-10-27T00:33:58.198Z"
   },
   {
    "duration": 328,
    "start_time": "2022-10-27T00:34:20.022Z"
   },
   {
    "duration": 468,
    "start_time": "2022-10-27T00:34:32.333Z"
   },
   {
    "duration": 18,
    "start_time": "2022-10-27T00:35:08.797Z"
   },
   {
    "duration": 445,
    "start_time": "2022-10-27T00:35:20.372Z"
   },
   {
    "duration": 1133,
    "start_time": "2022-10-27T00:36:06.202Z"
   },
   {
    "duration": 169,
    "start_time": "2022-10-27T00:36:07.336Z"
   },
   {
    "duration": 23,
    "start_time": "2022-10-27T00:36:07.508Z"
   },
   {
    "duration": 17,
    "start_time": "2022-10-27T00:36:07.532Z"
   },
   {
    "duration": 29,
    "start_time": "2022-10-27T00:36:07.551Z"
   },
   {
    "duration": 36,
    "start_time": "2022-10-27T00:36:07.581Z"
   },
   {
    "duration": 68,
    "start_time": "2022-10-27T00:36:07.619Z"
   },
   {
    "duration": 58,
    "start_time": "2022-10-27T00:36:07.690Z"
   },
   {
    "duration": 56,
    "start_time": "2022-10-27T00:36:07.749Z"
   },
   {
    "duration": 6,
    "start_time": "2022-10-27T00:36:07.807Z"
   },
   {
    "duration": 286,
    "start_time": "2022-10-27T00:36:07.815Z"
   },
   {
    "duration": 26,
    "start_time": "2022-10-27T00:36:08.103Z"
   },
   {
    "duration": 100,
    "start_time": "2022-10-27T00:36:08.130Z"
   },
   {
    "duration": 2,
    "start_time": "2022-10-27T00:36:08.233Z"
   },
   {
    "duration": 67,
    "start_time": "2022-10-27T00:36:08.237Z"
   },
   {
    "duration": 337,
    "start_time": "2022-10-27T00:36:08.306Z"
   },
   {
    "duration": 11,
    "start_time": "2022-10-27T00:36:08.645Z"
   },
   {
    "duration": 12,
    "start_time": "2022-10-27T00:37:46.038Z"
   },
   {
    "duration": 175,
    "start_time": "2022-10-27T00:37:46.051Z"
   },
   {
    "duration": 13,
    "start_time": "2022-10-27T00:37:46.227Z"
   },
   {
    "duration": 16,
    "start_time": "2022-10-27T00:37:46.242Z"
   },
   {
    "duration": 30,
    "start_time": "2022-10-27T00:37:46.259Z"
   },
   {
    "duration": 24,
    "start_time": "2022-10-27T00:37:46.296Z"
   },
   {
    "duration": 47,
    "start_time": "2022-10-27T00:37:46.321Z"
   },
   {
    "duration": 58,
    "start_time": "2022-10-27T00:37:46.379Z"
   },
   {
    "duration": 27,
    "start_time": "2022-10-27T00:37:46.439Z"
   },
   {
    "duration": 16,
    "start_time": "2022-10-27T00:37:46.467Z"
   },
   {
    "duration": 190,
    "start_time": "2022-10-27T00:37:46.486Z"
   },
   {
    "duration": 31,
    "start_time": "2022-10-27T00:37:46.684Z"
   },
   {
    "duration": 97,
    "start_time": "2022-10-27T00:37:46.717Z"
   },
   {
    "duration": 2,
    "start_time": "2022-10-27T00:37:46.816Z"
   },
   {
    "duration": 13,
    "start_time": "2022-10-27T00:37:46.820Z"
   },
   {
    "duration": 63,
    "start_time": "2022-10-27T00:37:46.834Z"
   },
   {
    "duration": 16,
    "start_time": "2022-10-27T00:37:46.899Z"
   },
   {
    "duration": 1188,
    "start_time": "2022-10-27T00:42:30.375Z"
   },
   {
    "duration": 174,
    "start_time": "2022-10-27T00:42:31.564Z"
   },
   {
    "duration": 19,
    "start_time": "2022-10-27T00:42:31.740Z"
   },
   {
    "duration": 35,
    "start_time": "2022-10-27T00:42:31.760Z"
   },
   {
    "duration": 15,
    "start_time": "2022-10-27T00:42:31.798Z"
   },
   {
    "duration": 30,
    "start_time": "2022-10-27T00:42:31.814Z"
   },
   {
    "duration": 68,
    "start_time": "2022-10-27T00:42:31.845Z"
   },
   {
    "duration": 55,
    "start_time": "2022-10-27T00:42:31.914Z"
   },
   {
    "duration": 45,
    "start_time": "2022-10-27T00:42:31.979Z"
   },
   {
    "duration": 4,
    "start_time": "2022-10-27T00:42:32.026Z"
   },
   {
    "duration": 314,
    "start_time": "2022-10-27T00:42:32.032Z"
   },
   {
    "duration": 34,
    "start_time": "2022-10-27T00:42:32.348Z"
   },
   {
    "duration": 99,
    "start_time": "2022-10-27T00:42:32.384Z"
   },
   {
    "duration": 10,
    "start_time": "2022-10-27T00:42:32.485Z"
   },
   {
    "duration": 57,
    "start_time": "2022-10-27T00:42:32.497Z"
   },
   {
    "duration": 2,
    "start_time": "2022-10-27T00:42:32.556Z"
   },
   {
    "duration": 369,
    "start_time": "2022-10-27T00:42:32.560Z"
   },
   {
    "duration": 209,
    "start_time": "2022-10-27T00:42:52.560Z"
   },
   {
    "duration": 336,
    "start_time": "2022-10-27T00:43:17.453Z"
   },
   {
    "duration": 186,
    "start_time": "2022-10-27T00:43:22.214Z"
   },
   {
    "duration": 242,
    "start_time": "2022-10-27T00:43:31.197Z"
   },
   {
    "duration": 16,
    "start_time": "2022-10-27T00:46:06.515Z"
   },
   {
    "duration": 14,
    "start_time": "2022-10-27T00:47:59.235Z"
   },
   {
    "duration": 101,
    "start_time": "2022-10-27T00:48:06.930Z"
   },
   {
    "duration": 204,
    "start_time": "2022-10-27T00:48:59.328Z"
   },
   {
    "duration": 176,
    "start_time": "2022-10-27T00:49:51.996Z"
   },
   {
    "duration": 47,
    "start_time": "2022-10-27T13:08:25.823Z"
   },
   {
    "duration": 0,
    "start_time": "2022-10-27T13:08:36.343Z"
   },
   {
    "duration": 0,
    "start_time": "2022-10-27T13:08:36.344Z"
   },
   {
    "duration": 0,
    "start_time": "2022-10-27T13:08:36.345Z"
   },
   {
    "duration": 0,
    "start_time": "2022-10-27T13:08:36.346Z"
   },
   {
    "duration": 0,
    "start_time": "2022-10-27T13:08:36.346Z"
   },
   {
    "duration": 0,
    "start_time": "2022-10-27T13:08:36.347Z"
   },
   {
    "duration": 0,
    "start_time": "2022-10-27T13:08:36.348Z"
   },
   {
    "duration": 0,
    "start_time": "2022-10-27T13:08:36.349Z"
   },
   {
    "duration": 0,
    "start_time": "2022-10-27T13:08:36.350Z"
   },
   {
    "duration": 0,
    "start_time": "2022-10-27T13:08:36.351Z"
   },
   {
    "duration": 0,
    "start_time": "2022-10-27T13:08:36.352Z"
   },
   {
    "duration": 0,
    "start_time": "2022-10-27T13:08:36.353Z"
   },
   {
    "duration": 0,
    "start_time": "2022-10-27T13:08:36.354Z"
   },
   {
    "duration": 0,
    "start_time": "2022-10-27T13:08:36.354Z"
   },
   {
    "duration": 0,
    "start_time": "2022-10-27T13:08:36.355Z"
   },
   {
    "duration": 0,
    "start_time": "2022-10-27T13:08:36.356Z"
   },
   {
    "duration": 0,
    "start_time": "2022-10-27T13:08:36.357Z"
   },
   {
    "duration": 1028,
    "start_time": "2022-10-27T13:08:42.626Z"
   },
   {
    "duration": 153,
    "start_time": "2022-10-27T13:08:43.656Z"
   },
   {
    "duration": 21,
    "start_time": "2022-10-27T13:08:43.810Z"
   },
   {
    "duration": 18,
    "start_time": "2022-10-27T13:08:43.833Z"
   },
   {
    "duration": 13,
    "start_time": "2022-10-27T13:08:43.853Z"
   },
   {
    "duration": 55,
    "start_time": "2022-10-27T13:08:43.868Z"
   },
   {
    "duration": 49,
    "start_time": "2022-10-27T13:08:43.925Z"
   },
   {
    "duration": 75,
    "start_time": "2022-10-27T13:08:43.975Z"
   },
   {
    "duration": 30,
    "start_time": "2022-10-27T13:08:44.051Z"
   },
   {
    "duration": 4,
    "start_time": "2022-10-27T13:08:44.082Z"
   },
   {
    "duration": 266,
    "start_time": "2022-10-27T13:08:44.088Z"
   },
   {
    "duration": 25,
    "start_time": "2022-10-27T13:08:44.355Z"
   },
   {
    "duration": 107,
    "start_time": "2022-10-27T13:08:44.381Z"
   },
   {
    "duration": 10,
    "start_time": "2022-10-27T13:08:44.490Z"
   },
   {
    "duration": 108,
    "start_time": "2022-10-27T13:08:44.502Z"
   },
   {
    "duration": 0,
    "start_time": "2022-10-27T13:08:44.612Z"
   },
   {
    "duration": 0,
    "start_time": "2022-10-27T13:08:44.622Z"
   },
   {
    "duration": 18,
    "start_time": "2022-10-27T13:09:57.962Z"
   },
   {
    "duration": 1336,
    "start_time": "2022-10-27T13:10:06.362Z"
   },
   {
    "duration": 1042,
    "start_time": "2022-10-27T13:11:11.002Z"
   },
   {
    "duration": 153,
    "start_time": "2022-10-27T13:11:12.047Z"
   },
   {
    "duration": 21,
    "start_time": "2022-10-27T13:11:12.203Z"
   },
   {
    "duration": 24,
    "start_time": "2022-10-27T13:11:12.225Z"
   },
   {
    "duration": 15,
    "start_time": "2022-10-27T13:11:12.252Z"
   },
   {
    "duration": 41,
    "start_time": "2022-10-27T13:11:12.269Z"
   },
   {
    "duration": 75,
    "start_time": "2022-10-27T13:11:12.323Z"
   },
   {
    "duration": 74,
    "start_time": "2022-10-27T13:11:12.400Z"
   },
   {
    "duration": 35,
    "start_time": "2022-10-27T13:11:12.476Z"
   },
   {
    "duration": 5,
    "start_time": "2022-10-27T13:11:12.521Z"
   },
   {
    "duration": 268,
    "start_time": "2022-10-27T13:11:12.528Z"
   },
   {
    "duration": 33,
    "start_time": "2022-10-27T13:11:12.798Z"
   },
   {
    "duration": 96,
    "start_time": "2022-10-27T13:11:12.832Z"
   },
   {
    "duration": 11,
    "start_time": "2022-10-27T13:11:12.930Z"
   },
   {
    "duration": 37045,
    "start_time": "2022-10-27T13:11:12.942Z"
   },
   {
    "duration": 181,
    "start_time": "2022-10-27T13:11:49.989Z"
   },
   {
    "duration": 11,
    "start_time": "2022-10-27T13:11:50.172Z"
   },
   {
    "duration": 39305,
    "start_time": "2022-10-27T13:17:22.079Z"
   },
   {
    "duration": 96,
    "start_time": "2022-10-27T13:18:01.386Z"
   },
   {
    "duration": 8,
    "start_time": "2022-10-27T13:18:27.726Z"
   },
   {
    "duration": 1244,
    "start_time": "2022-10-27T13:19:55.325Z"
   },
   {
    "duration": 1143,
    "start_time": "2022-10-27T13:21:10.411Z"
   },
   {
    "duration": 163,
    "start_time": "2022-10-27T13:21:11.556Z"
   },
   {
    "duration": 21,
    "start_time": "2022-10-27T13:21:11.722Z"
   },
   {
    "duration": 21,
    "start_time": "2022-10-27T13:21:11.746Z"
   },
   {
    "duration": 17,
    "start_time": "2022-10-27T13:21:11.768Z"
   },
   {
    "duration": 55,
    "start_time": "2022-10-27T13:21:11.787Z"
   },
   {
    "duration": 54,
    "start_time": "2022-10-27T13:21:11.844Z"
   },
   {
    "duration": 79,
    "start_time": "2022-10-27T13:21:11.900Z"
   },
   {
    "duration": 31,
    "start_time": "2022-10-27T13:21:11.981Z"
   },
   {
    "duration": 5,
    "start_time": "2022-10-27T13:21:12.023Z"
   },
   {
    "duration": 277,
    "start_time": "2022-10-27T13:21:12.029Z"
   },
   {
    "duration": 29,
    "start_time": "2022-10-27T13:21:12.307Z"
   },
   {
    "duration": 100,
    "start_time": "2022-10-27T13:21:12.337Z"
   },
   {
    "duration": 13,
    "start_time": "2022-10-27T13:21:12.439Z"
   },
   {
    "duration": 38474,
    "start_time": "2022-10-27T13:21:12.454Z"
   },
   {
    "duration": 1015,
    "start_time": "2022-10-27T13:24:10.181Z"
   },
   {
    "duration": 158,
    "start_time": "2022-10-27T13:24:11.198Z"
   },
   {
    "duration": 18,
    "start_time": "2022-10-27T13:24:11.358Z"
   },
   {
    "duration": 20,
    "start_time": "2022-10-27T13:24:11.377Z"
   },
   {
    "duration": 32,
    "start_time": "2022-10-27T13:24:11.400Z"
   },
   {
    "duration": 29,
    "start_time": "2022-10-27T13:24:11.433Z"
   },
   {
    "duration": 67,
    "start_time": "2022-10-27T13:24:11.464Z"
   },
   {
    "duration": 55,
    "start_time": "2022-10-27T13:24:11.533Z"
   },
   {
    "duration": 64,
    "start_time": "2022-10-27T13:24:11.590Z"
   },
   {
    "duration": 6,
    "start_time": "2022-10-27T13:24:11.656Z"
   },
   {
    "duration": 283,
    "start_time": "2022-10-27T13:24:11.664Z"
   },
   {
    "duration": 27,
    "start_time": "2022-10-27T13:24:11.948Z"
   },
   {
    "duration": 98,
    "start_time": "2022-10-27T13:24:11.976Z"
   },
   {
    "duration": 10,
    "start_time": "2022-10-27T13:24:12.076Z"
   },
   {
    "duration": 375,
    "start_time": "2022-10-27T13:24:12.087Z"
   },
   {
    "duration": 0,
    "start_time": "2022-10-27T13:24:12.464Z"
   },
   {
    "duration": 0,
    "start_time": "2022-10-27T13:24:12.466Z"
   },
   {
    "duration": 0,
    "start_time": "2022-10-27T13:24:12.466Z"
   },
   {
    "duration": 116,
    "start_time": "2022-10-27T13:28:22.621Z"
   },
   {
    "duration": 122,
    "start_time": "2022-10-27T13:29:15.892Z"
   },
   {
    "duration": 1019,
    "start_time": "2022-10-27T13:30:02.665Z"
   },
   {
    "duration": 159,
    "start_time": "2022-10-27T13:30:03.685Z"
   },
   {
    "duration": 19,
    "start_time": "2022-10-27T13:30:03.845Z"
   },
   {
    "duration": 22,
    "start_time": "2022-10-27T13:30:03.865Z"
   },
   {
    "duration": 33,
    "start_time": "2022-10-27T13:30:03.890Z"
   },
   {
    "duration": 30,
    "start_time": "2022-10-27T13:30:03.925Z"
   },
   {
    "duration": 76,
    "start_time": "2022-10-27T13:30:03.957Z"
   },
   {
    "duration": 55,
    "start_time": "2022-10-27T13:30:04.035Z"
   },
   {
    "duration": 51,
    "start_time": "2022-10-27T13:30:04.092Z"
   },
   {
    "duration": 6,
    "start_time": "2022-10-27T13:30:04.145Z"
   },
   {
    "duration": 275,
    "start_time": "2022-10-27T13:30:04.153Z"
   },
   {
    "duration": 27,
    "start_time": "2022-10-27T13:30:04.431Z"
   },
   {
    "duration": 107,
    "start_time": "2022-10-27T13:30:04.459Z"
   },
   {
    "duration": 11,
    "start_time": "2022-10-27T13:30:04.569Z"
   },
   {
    "duration": 276,
    "start_time": "2022-10-27T13:30:04.582Z"
   },
   {
    "duration": 0,
    "start_time": "2022-10-27T13:30:04.860Z"
   },
   {
    "duration": 0,
    "start_time": "2022-10-27T13:30:04.861Z"
   },
   {
    "duration": 0,
    "start_time": "2022-10-27T13:30:04.862Z"
   },
   {
    "duration": 1054,
    "start_time": "2022-10-27T13:31:31.604Z"
   },
   {
    "duration": 153,
    "start_time": "2022-10-27T13:31:32.660Z"
   },
   {
    "duration": 21,
    "start_time": "2022-10-27T13:31:32.817Z"
   },
   {
    "duration": 20,
    "start_time": "2022-10-27T13:31:32.841Z"
   },
   {
    "duration": 15,
    "start_time": "2022-10-27T13:31:32.863Z"
   },
   {
    "duration": 53,
    "start_time": "2022-10-27T13:31:32.880Z"
   },
   {
    "duration": 52,
    "start_time": "2022-10-27T13:31:32.935Z"
   },
   {
    "duration": 66,
    "start_time": "2022-10-27T13:31:32.989Z"
   },
   {
    "duration": 35,
    "start_time": "2022-10-27T13:31:33.056Z"
   },
   {
    "duration": 10,
    "start_time": "2022-10-27T13:31:33.092Z"
   },
   {
    "duration": 277,
    "start_time": "2022-10-27T13:31:33.104Z"
   },
   {
    "duration": 27,
    "start_time": "2022-10-27T13:31:33.382Z"
   },
   {
    "duration": 86,
    "start_time": "2022-10-27T13:31:33.421Z"
   },
   {
    "duration": 21,
    "start_time": "2022-10-27T13:31:33.508Z"
   },
   {
    "duration": 65,
    "start_time": "2022-10-27T13:31:33.531Z"
   },
   {
    "duration": 998,
    "start_time": "2022-10-27T13:32:11.974Z"
   },
   {
    "duration": 172,
    "start_time": "2022-10-27T13:32:12.974Z"
   },
   {
    "duration": 18,
    "start_time": "2022-10-27T13:32:13.147Z"
   },
   {
    "duration": 18,
    "start_time": "2022-10-27T13:32:13.167Z"
   },
   {
    "duration": 35,
    "start_time": "2022-10-27T13:32:13.188Z"
   },
   {
    "duration": 27,
    "start_time": "2022-10-27T13:32:13.225Z"
   },
   {
    "duration": 48,
    "start_time": "2022-10-27T13:32:13.254Z"
   },
   {
    "duration": 51,
    "start_time": "2022-10-27T13:32:13.322Z"
   },
   {
    "duration": 31,
    "start_time": "2022-10-27T13:32:13.375Z"
   },
   {
    "duration": 5,
    "start_time": "2022-10-27T13:32:13.422Z"
   },
   {
    "duration": 260,
    "start_time": "2022-10-27T13:32:13.429Z"
   },
   {
    "duration": 31,
    "start_time": "2022-10-27T13:32:13.691Z"
   },
   {
    "duration": 102,
    "start_time": "2022-10-27T13:32:13.723Z"
   },
   {
    "duration": 13,
    "start_time": "2022-10-27T13:32:13.827Z"
   },
   {
    "duration": 68,
    "start_time": "2022-10-27T13:32:13.841Z"
   },
   {
    "duration": 9,
    "start_time": "2022-10-27T13:32:13.921Z"
   },
   {
    "duration": 99,
    "start_time": "2022-10-27T13:36:18.616Z"
   },
   {
    "duration": 10,
    "start_time": "2022-10-27T13:38:07.862Z"
   },
   {
    "duration": 12,
    "start_time": "2022-10-27T13:38:14.639Z"
   },
   {
    "duration": 9,
    "start_time": "2022-10-27T13:39:27.125Z"
   },
   {
    "duration": 3,
    "start_time": "2022-10-27T13:40:00.581Z"
   },
   {
    "duration": 4,
    "start_time": "2022-10-27T13:40:08.228Z"
   },
   {
    "duration": 8,
    "start_time": "2022-10-27T13:40:39.532Z"
   },
   {
    "duration": 9,
    "start_time": "2022-10-27T13:41:00.252Z"
   },
   {
    "duration": 258,
    "start_time": "2022-10-27T13:41:12.636Z"
   },
   {
    "duration": 261,
    "start_time": "2022-10-27T13:41:21.215Z"
   },
   {
    "duration": 3,
    "start_time": "2022-10-27T13:46:34.208Z"
   },
   {
    "duration": 5,
    "start_time": "2022-10-27T13:46:44.584Z"
   },
   {
    "duration": 17,
    "start_time": "2022-10-27T13:48:23.077Z"
   },
   {
    "duration": 289,
    "start_time": "2022-10-27T13:48:47.485Z"
   },
   {
    "duration": 184,
    "start_time": "2022-10-27T13:48:54.206Z"
   },
   {
    "duration": 75,
    "start_time": "2022-10-27T13:48:58.308Z"
   },
   {
    "duration": 15,
    "start_time": "2022-10-27T13:49:27.372Z"
   },
   {
    "duration": 30,
    "start_time": "2022-10-27T13:49:34.684Z"
   },
   {
    "duration": 579,
    "start_time": "2022-10-27T13:49:53.916Z"
   },
   {
    "duration": 290,
    "start_time": "2022-10-27T13:50:01.804Z"
   },
   {
    "duration": 18,
    "start_time": "2022-10-27T13:50:07.372Z"
   },
   {
    "duration": 1051,
    "start_time": "2022-10-27T13:50:14.333Z"
   },
   {
    "duration": 158,
    "start_time": "2022-10-27T13:50:15.386Z"
   },
   {
    "duration": 21,
    "start_time": "2022-10-27T13:50:15.546Z"
   },
   {
    "duration": 21,
    "start_time": "2022-10-27T13:50:15.569Z"
   },
   {
    "duration": 38,
    "start_time": "2022-10-27T13:50:15.593Z"
   },
   {
    "duration": 32,
    "start_time": "2022-10-27T13:50:15.633Z"
   },
   {
    "duration": 75,
    "start_time": "2022-10-27T13:50:15.667Z"
   },
   {
    "duration": 53,
    "start_time": "2022-10-27T13:50:15.744Z"
   },
   {
    "duration": 4,
    "start_time": "2022-10-27T13:50:15.799Z"
   },
   {
    "duration": 163,
    "start_time": "2022-10-27T13:50:15.822Z"
   },
   {
    "duration": 62,
    "start_time": "2022-10-27T13:50:15.987Z"
   },
   {
    "duration": 88,
    "start_time": "2022-10-27T13:50:16.051Z"
   },
   {
    "duration": 6,
    "start_time": "2022-10-27T13:50:16.140Z"
   },
   {
    "duration": 16,
    "start_time": "2022-10-27T13:50:16.148Z"
   },
   {
    "duration": 75,
    "start_time": "2022-10-27T13:50:16.166Z"
   },
   {
    "duration": 102,
    "start_time": "2022-10-27T13:50:16.243Z"
   },
   {
    "duration": 29,
    "start_time": "2022-10-27T13:51:43.539Z"
   },
   {
    "duration": 16,
    "start_time": "2022-10-27T13:52:46.333Z"
   },
   {
    "duration": 19,
    "start_time": "2022-10-27T13:52:55.945Z"
   },
   {
    "duration": 1059,
    "start_time": "2022-10-27T13:53:23.590Z"
   },
   {
    "duration": 154,
    "start_time": "2022-10-27T13:53:24.651Z"
   },
   {
    "duration": 24,
    "start_time": "2022-10-27T13:53:24.807Z"
   },
   {
    "duration": 19,
    "start_time": "2022-10-27T13:53:24.833Z"
   },
   {
    "duration": 13,
    "start_time": "2022-10-27T13:53:24.854Z"
   },
   {
    "duration": 57,
    "start_time": "2022-10-27T13:53:24.868Z"
   },
   {
    "duration": 51,
    "start_time": "2022-10-27T13:53:24.927Z"
   },
   {
    "duration": 66,
    "start_time": "2022-10-27T13:53:24.980Z"
   },
   {
    "duration": 4,
    "start_time": "2022-10-27T13:53:25.047Z"
   },
   {
    "duration": 184,
    "start_time": "2022-10-27T13:53:25.053Z"
   },
   {
    "duration": 44,
    "start_time": "2022-10-27T13:53:25.238Z"
   },
   {
    "duration": 97,
    "start_time": "2022-10-27T13:53:25.283Z"
   },
   {
    "duration": 6,
    "start_time": "2022-10-27T13:53:25.382Z"
   },
   {
    "duration": 18,
    "start_time": "2022-10-27T13:53:25.389Z"
   },
   {
    "duration": 69,
    "start_time": "2022-10-27T13:53:25.408Z"
   },
   {
    "duration": 98,
    "start_time": "2022-10-27T13:53:25.479Z"
   },
   {
    "duration": 6,
    "start_time": "2022-10-27T13:54:15.838Z"
   },
   {
    "duration": 20,
    "start_time": "2022-10-27T13:59:41.023Z"
   },
   {
    "duration": 26,
    "start_time": "2022-10-27T13:59:50.672Z"
   },
   {
    "duration": 1021,
    "start_time": "2022-10-27T14:00:05.174Z"
   },
   {
    "duration": 153,
    "start_time": "2022-10-27T14:00:06.197Z"
   },
   {
    "duration": 18,
    "start_time": "2022-10-27T14:00:06.352Z"
   },
   {
    "duration": 18,
    "start_time": "2022-10-27T14:00:06.372Z"
   },
   {
    "duration": 31,
    "start_time": "2022-10-27T14:00:06.392Z"
   },
   {
    "duration": 27,
    "start_time": "2022-10-27T14:00:06.424Z"
   },
   {
    "duration": 49,
    "start_time": "2022-10-27T14:00:06.452Z"
   },
   {
    "duration": 66,
    "start_time": "2022-10-27T14:00:06.502Z"
   },
   {
    "duration": 5,
    "start_time": "2022-10-27T14:00:06.569Z"
   },
   {
    "duration": 177,
    "start_time": "2022-10-27T14:00:06.576Z"
   },
   {
    "duration": 30,
    "start_time": "2022-10-27T14:00:06.755Z"
   },
   {
    "duration": 100,
    "start_time": "2022-10-27T14:00:06.787Z"
   },
   {
    "duration": 13,
    "start_time": "2022-10-27T14:00:06.888Z"
   },
   {
    "duration": 27,
    "start_time": "2022-10-27T14:00:06.903Z"
   },
   {
    "duration": 68,
    "start_time": "2022-10-27T14:00:06.932Z"
   },
   {
    "duration": 121,
    "start_time": "2022-10-27T14:00:07.001Z"
   },
   {
    "duration": 15,
    "start_time": "2022-10-27T14:00:29.831Z"
   },
   {
    "duration": 35,
    "start_time": "2022-10-27T14:00:33.974Z"
   },
   {
    "duration": 13,
    "start_time": "2022-10-27T14:03:17.335Z"
   },
   {
    "duration": 104,
    "start_time": "2022-10-27T14:03:36.079Z"
   },
   {
    "duration": 12,
    "start_time": "2022-10-27T14:04:07.380Z"
   },
   {
    "duration": 16,
    "start_time": "2022-10-27T14:04:13.251Z"
   },
   {
    "duration": 87,
    "start_time": "2022-10-27T14:05:16.563Z"
   },
   {
    "duration": 22,
    "start_time": "2022-10-27T14:05:21.411Z"
   },
   {
    "duration": 165,
    "start_time": "2022-10-27T14:07:40.361Z"
   },
   {
    "duration": 173,
    "start_time": "2022-10-27T14:10:30.741Z"
   },
   {
    "duration": 158,
    "start_time": "2022-10-27T14:10:39.454Z"
   },
   {
    "duration": 165,
    "start_time": "2022-10-27T14:10:44.366Z"
   },
   {
    "duration": 168,
    "start_time": "2022-10-27T14:11:00.308Z"
   },
   {
    "duration": 242,
    "start_time": "2022-10-27T14:11:52.088Z"
   },
   {
    "duration": 175,
    "start_time": "2022-10-27T14:12:00.237Z"
   },
   {
    "duration": 145,
    "start_time": "2022-10-27T14:12:06.804Z"
   },
   {
    "duration": 172,
    "start_time": "2022-10-27T14:12:15.848Z"
   },
   {
    "duration": 180,
    "start_time": "2022-10-27T14:12:25.620Z"
   },
   {
    "duration": 183,
    "start_time": "2022-10-27T14:12:35.003Z"
   },
   {
    "duration": 196,
    "start_time": "2022-10-27T14:14:10.986Z"
   },
   {
    "duration": 7,
    "start_time": "2022-10-27T14:14:29.377Z"
   },
   {
    "duration": 1170,
    "start_time": "2022-10-27T14:15:29.185Z"
   },
   {
    "duration": 159,
    "start_time": "2022-10-27T14:15:36.252Z"
   },
   {
    "duration": 12,
    "start_time": "2022-10-27T14:17:40.711Z"
   },
   {
    "duration": 39,
    "start_time": "2022-10-27T14:22:12.356Z"
   },
   {
    "duration": 10,
    "start_time": "2022-10-27T14:22:16.276Z"
   },
   {
    "duration": 13,
    "start_time": "2022-10-27T14:22:22.426Z"
   },
   {
    "duration": 13,
    "start_time": "2022-10-27T14:23:19.587Z"
   },
   {
    "duration": 15,
    "start_time": "2022-10-27T14:23:30.059Z"
   },
   {
    "duration": 12,
    "start_time": "2022-10-27T14:23:44.667Z"
   },
   {
    "duration": 1002,
    "start_time": "2022-10-27T14:23:53.163Z"
   },
   {
    "duration": 169,
    "start_time": "2022-10-27T14:23:54.167Z"
   },
   {
    "duration": 18,
    "start_time": "2022-10-27T14:23:54.338Z"
   },
   {
    "duration": 21,
    "start_time": "2022-10-27T14:23:54.358Z"
   },
   {
    "duration": 15,
    "start_time": "2022-10-27T14:23:54.381Z"
   },
   {
    "duration": 51,
    "start_time": "2022-10-27T14:23:54.397Z"
   },
   {
    "duration": 51,
    "start_time": "2022-10-27T14:23:54.450Z"
   },
   {
    "duration": 63,
    "start_time": "2022-10-27T14:23:54.502Z"
   },
   {
    "duration": 3,
    "start_time": "2022-10-27T14:23:54.567Z"
   },
   {
    "duration": 179,
    "start_time": "2022-10-27T14:23:54.571Z"
   },
   {
    "duration": 456,
    "start_time": "2022-10-27T14:23:54.751Z"
   },
   {
    "duration": 0,
    "start_time": "2022-10-27T14:23:55.208Z"
   },
   {
    "duration": 0,
    "start_time": "2022-10-27T14:23:55.210Z"
   },
   {
    "duration": 0,
    "start_time": "2022-10-27T14:23:55.211Z"
   },
   {
    "duration": 0,
    "start_time": "2022-10-27T14:23:55.212Z"
   },
   {
    "duration": 0,
    "start_time": "2022-10-27T14:23:55.212Z"
   },
   {
    "duration": 382,
    "start_time": "2022-10-27T14:24:39.753Z"
   },
   {
    "duration": 55,
    "start_time": "2022-10-27T14:24:46.425Z"
   },
   {
    "duration": 20,
    "start_time": "2022-10-27T14:24:57.785Z"
   },
   {
    "duration": 990,
    "start_time": "2022-10-27T14:25:06.176Z"
   },
   {
    "duration": 152,
    "start_time": "2022-10-27T14:25:07.168Z"
   },
   {
    "duration": 19,
    "start_time": "2022-10-27T14:25:07.324Z"
   },
   {
    "duration": 18,
    "start_time": "2022-10-27T14:25:07.345Z"
   },
   {
    "duration": 13,
    "start_time": "2022-10-27T14:25:07.364Z"
   },
   {
    "duration": 49,
    "start_time": "2022-10-27T14:25:07.379Z"
   },
   {
    "duration": 51,
    "start_time": "2022-10-27T14:25:07.430Z"
   },
   {
    "duration": 72,
    "start_time": "2022-10-27T14:25:07.482Z"
   },
   {
    "duration": 4,
    "start_time": "2022-10-27T14:25:07.555Z"
   },
   {
    "duration": 166,
    "start_time": "2022-10-27T14:25:07.560Z"
   },
   {
    "duration": 439,
    "start_time": "2022-10-27T14:25:07.727Z"
   },
   {
    "duration": 0,
    "start_time": "2022-10-27T14:25:08.168Z"
   },
   {
    "duration": 0,
    "start_time": "2022-10-27T14:25:08.168Z"
   },
   {
    "duration": 0,
    "start_time": "2022-10-27T14:25:08.169Z"
   },
   {
    "duration": 0,
    "start_time": "2022-10-27T14:25:08.170Z"
   },
   {
    "duration": 1,
    "start_time": "2022-10-27T14:25:08.171Z"
   },
   {
    "duration": 571,
    "start_time": "2022-10-27T14:27:28.331Z"
   },
   {
    "duration": 35,
    "start_time": "2022-10-27T14:27:41.467Z"
   },
   {
    "duration": 32,
    "start_time": "2022-10-27T14:27:58.827Z"
   },
   {
    "duration": 14,
    "start_time": "2022-10-27T14:28:03.337Z"
   },
   {
    "duration": 29,
    "start_time": "2022-10-27T14:28:08.906Z"
   },
   {
    "duration": 87,
    "start_time": "2022-10-27T14:28:13.524Z"
   },
   {
    "duration": 83,
    "start_time": "2022-10-27T14:28:17.498Z"
   },
   {
    "duration": 156,
    "start_time": "2022-10-27T14:28:21.266Z"
   },
   {
    "duration": 153,
    "start_time": "2022-10-27T14:28:36.265Z"
   },
   {
    "duration": 156,
    "start_time": "2022-10-27T14:32:41.110Z"
   },
   {
    "duration": 176,
    "start_time": "2022-10-27T14:33:13.078Z"
   },
   {
    "duration": 164,
    "start_time": "2022-10-27T14:37:45.553Z"
   },
   {
    "duration": 164,
    "start_time": "2022-10-27T14:44:23.938Z"
   },
   {
    "duration": 222,
    "start_time": "2022-10-27T14:44:29.396Z"
   },
   {
    "duration": 170,
    "start_time": "2022-10-27T14:45:03.427Z"
   },
   {
    "duration": 210,
    "start_time": "2022-10-27T14:45:30.297Z"
   },
   {
    "duration": 155,
    "start_time": "2022-10-27T14:45:46.161Z"
   },
   {
    "duration": 140,
    "start_time": "2022-10-27T14:47:38.352Z"
   },
   {
    "duration": 151,
    "start_time": "2022-10-27T14:47:51.994Z"
   },
   {
    "duration": 142,
    "start_time": "2022-10-27T14:47:58.095Z"
   },
   {
    "duration": 158,
    "start_time": "2022-10-27T14:48:06.607Z"
   },
   {
    "duration": 101,
    "start_time": "2022-10-27T14:48:30.592Z"
   },
   {
    "duration": 147,
    "start_time": "2022-10-27T14:48:40.486Z"
   },
   {
    "duration": 237,
    "start_time": "2022-10-27T14:48:55.909Z"
   },
   {
    "duration": 166,
    "start_time": "2022-10-27T14:51:44.220Z"
   },
   {
    "duration": 153,
    "start_time": "2022-10-27T14:51:50.964Z"
   },
   {
    "duration": 11,
    "start_time": "2022-10-27T14:52:22.643Z"
   },
   {
    "duration": 155,
    "start_time": "2022-10-27T14:52:38.067Z"
   },
   {
    "duration": 130,
    "start_time": "2022-10-27T14:57:14.271Z"
   },
   {
    "duration": 155,
    "start_time": "2022-10-27T14:59:13.106Z"
   },
   {
    "duration": 136,
    "start_time": "2022-10-27T14:59:23.302Z"
   },
   {
    "duration": 134,
    "start_time": "2022-10-27T14:59:43.525Z"
   },
   {
    "duration": 157,
    "start_time": "2022-10-27T15:00:12.509Z"
   },
   {
    "duration": 163,
    "start_time": "2022-10-27T15:00:23.219Z"
   },
   {
    "duration": 221,
    "start_time": "2022-10-27T15:00:32.356Z"
   },
   {
    "duration": 159,
    "start_time": "2022-10-27T15:01:35.771Z"
   },
   {
    "duration": 157,
    "start_time": "2022-10-27T15:01:40.741Z"
   },
   {
    "duration": 45,
    "start_time": "2022-10-27T15:01:53.070Z"
   },
   {
    "duration": 164,
    "start_time": "2022-10-27T15:01:58.306Z"
   },
   {
    "duration": 39,
    "start_time": "2022-10-27T15:02:26.851Z"
   },
   {
    "duration": 86,
    "start_time": "2022-10-27T15:02:30.851Z"
   },
   {
    "duration": 154,
    "start_time": "2022-10-27T15:02:34.154Z"
   },
   {
    "duration": 55,
    "start_time": "2022-10-27T15:02:45.201Z"
   },
   {
    "duration": 166,
    "start_time": "2022-10-27T15:03:03.369Z"
   },
   {
    "duration": 162,
    "start_time": "2022-10-27T15:03:58.504Z"
   },
   {
    "duration": 150,
    "start_time": "2022-10-27T15:04:09.417Z"
   },
   {
    "duration": 161,
    "start_time": "2022-10-27T15:04:24.105Z"
   },
   {
    "duration": 153,
    "start_time": "2022-10-27T15:04:30.024Z"
   },
   {
    "duration": 30,
    "start_time": "2022-10-27T15:32:37.310Z"
   },
   {
    "duration": 1038,
    "start_time": "2022-10-27T15:32:44.225Z"
   },
   {
    "duration": 154,
    "start_time": "2022-10-27T15:32:45.264Z"
   },
   {
    "duration": 19,
    "start_time": "2022-10-27T15:32:45.420Z"
   },
   {
    "duration": 19,
    "start_time": "2022-10-27T15:32:45.441Z"
   },
   {
    "duration": 14,
    "start_time": "2022-10-27T15:32:45.461Z"
   },
   {
    "duration": 52,
    "start_time": "2022-10-27T15:32:45.476Z"
   },
   {
    "duration": 50,
    "start_time": "2022-10-27T15:32:45.530Z"
   },
   {
    "duration": 72,
    "start_time": "2022-10-27T15:32:45.582Z"
   },
   {
    "duration": 32,
    "start_time": "2022-10-27T15:32:45.656Z"
   },
   {
    "duration": 38,
    "start_time": "2022-10-27T15:32:45.690Z"
   },
   {
    "duration": 98,
    "start_time": "2022-10-27T15:32:45.730Z"
   },
   {
    "duration": 10,
    "start_time": "2022-10-27T15:32:45.830Z"
   },
   {
    "duration": 84,
    "start_time": "2022-10-27T15:32:45.842Z"
   },
   {
    "duration": 154,
    "start_time": "2022-10-27T15:32:45.928Z"
   },
   {
    "duration": 45,
    "start_time": "2022-10-27T15:58:02.348Z"
   },
   {
    "duration": 49,
    "start_time": "2022-10-27T15:58:07.652Z"
   },
   {
    "duration": 153,
    "start_time": "2022-10-27T15:58:10.669Z"
   },
   {
    "duration": 152,
    "start_time": "2022-10-27T15:59:47.827Z"
   },
   {
    "duration": 156,
    "start_time": "2022-10-27T15:59:54.178Z"
   },
   {
    "duration": 148,
    "start_time": "2022-10-27T15:59:58.291Z"
   },
   {
    "duration": 200,
    "start_time": "2022-10-27T16:02:39.873Z"
   },
   {
    "duration": 157,
    "start_time": "2022-10-27T16:02:46.865Z"
   },
   {
    "duration": 175,
    "start_time": "2022-10-27T16:03:35.624Z"
   },
   {
    "duration": 221,
    "start_time": "2022-10-27T16:03:50.720Z"
   },
   {
    "duration": 115,
    "start_time": "2022-10-27T16:05:48.808Z"
   },
   {
    "duration": 12,
    "start_time": "2022-10-27T16:06:14.942Z"
   },
   {
    "duration": 175,
    "start_time": "2022-10-27T16:06:20.222Z"
   },
   {
    "duration": 160,
    "start_time": "2022-10-27T16:06:35.902Z"
   },
   {
    "duration": 9,
    "start_time": "2022-10-27T16:06:52.845Z"
   },
   {
    "duration": 166,
    "start_time": "2022-10-27T16:07:15.437Z"
   },
   {
    "duration": 158,
    "start_time": "2022-10-27T16:07:26.118Z"
   },
   {
    "duration": 151,
    "start_time": "2022-10-27T16:07:34.565Z"
   },
   {
    "duration": 156,
    "start_time": "2022-10-27T16:07:53.288Z"
   },
   {
    "duration": 135,
    "start_time": "2022-10-27T16:08:52.930Z"
   },
   {
    "duration": 183,
    "start_time": "2022-10-27T16:09:05.699Z"
   },
   {
    "duration": 173,
    "start_time": "2022-10-27T16:09:17.440Z"
   },
   {
    "duration": 194,
    "start_time": "2022-10-27T16:14:09.383Z"
   },
   {
    "duration": 21,
    "start_time": "2022-10-27T16:14:11.534Z"
   },
   {
    "duration": 163,
    "start_time": "2022-10-27T16:14:11.926Z"
   },
   {
    "duration": 20,
    "start_time": "2022-10-27T16:14:32.973Z"
   },
   {
    "duration": 154,
    "start_time": "2022-10-27T16:14:33.262Z"
   },
   {
    "duration": 2,
    "start_time": "2022-10-27T16:15:17.408Z"
   },
   {
    "duration": 24,
    "start_time": "2022-10-27T16:16:35.348Z"
   },
   {
    "duration": 55,
    "start_time": "2022-10-27T16:16:44.476Z"
   },
   {
    "duration": 53,
    "start_time": "2022-10-27T16:16:52.020Z"
   },
   {
    "duration": 28,
    "start_time": "2022-10-27T16:16:59.484Z"
   },
   {
    "duration": 28,
    "start_time": "2022-10-27T16:17:02.564Z"
   },
   {
    "duration": 21,
    "start_time": "2022-10-27T16:17:09.669Z"
   },
   {
    "duration": 99,
    "start_time": "2022-10-27T16:17:20.955Z"
   },
   {
    "duration": 20,
    "start_time": "2022-10-27T16:17:42.155Z"
   },
   {
    "duration": 158,
    "start_time": "2022-10-27T16:17:50.013Z"
   },
   {
    "duration": 152,
    "start_time": "2022-10-27T16:17:53.915Z"
   },
   {
    "duration": 29,
    "start_time": "2022-10-27T16:21:25.088Z"
   },
   {
    "duration": 26,
    "start_time": "2022-10-27T16:21:40.704Z"
   },
   {
    "duration": 23,
    "start_time": "2022-10-27T16:21:46.631Z"
   },
   {
    "duration": 23,
    "start_time": "2022-10-27T16:22:15.208Z"
   },
   {
    "duration": 844,
    "start_time": "2022-10-27T16:23:46.897Z"
   },
   {
    "duration": 25,
    "start_time": "2022-10-27T16:23:49.934Z"
   },
   {
    "duration": 56,
    "start_time": "2022-10-27T16:24:17.486Z"
   },
   {
    "duration": 63,
    "start_time": "2022-10-27T16:25:05.421Z"
   },
   {
    "duration": 54,
    "start_time": "2022-10-27T16:25:11.924Z"
   },
   {
    "duration": 768,
    "start_time": "2022-10-27T16:27:29.476Z"
   },
   {
    "duration": 104,
    "start_time": "2022-10-27T16:27:35.987Z"
   },
   {
    "duration": 25,
    "start_time": "2022-10-27T16:29:27.656Z"
   },
   {
    "duration": 1099,
    "start_time": "2022-10-27T16:29:40.906Z"
   },
   {
    "duration": 155,
    "start_time": "2022-10-27T16:29:42.007Z"
   },
   {
    "duration": 18,
    "start_time": "2022-10-27T16:29:42.163Z"
   },
   {
    "duration": 20,
    "start_time": "2022-10-27T16:29:42.183Z"
   },
   {
    "duration": 24,
    "start_time": "2022-10-27T16:29:42.204Z"
   },
   {
    "duration": 40,
    "start_time": "2022-10-27T16:29:42.230Z"
   },
   {
    "duration": 52,
    "start_time": "2022-10-27T16:29:42.272Z"
   },
   {
    "duration": 54,
    "start_time": "2022-10-27T16:29:42.326Z"
   },
   {
    "duration": 50,
    "start_time": "2022-10-27T16:29:42.382Z"
   },
   {
    "duration": 20,
    "start_time": "2022-10-27T16:29:42.434Z"
   },
   {
    "duration": 97,
    "start_time": "2022-10-27T16:29:42.456Z"
   },
   {
    "duration": 20,
    "start_time": "2022-10-27T16:29:42.554Z"
   },
   {
    "duration": 272,
    "start_time": "2022-10-27T16:29:42.576Z"
   },
   {
    "duration": 0,
    "start_time": "2022-10-27T16:29:42.849Z"
   },
   {
    "duration": 152,
    "start_time": "2022-10-27T16:30:00.312Z"
   },
   {
    "duration": 22,
    "start_time": "2022-10-27T16:30:02.977Z"
   },
   {
    "duration": 22,
    "start_time": "2022-10-27T16:31:29.223Z"
   },
   {
    "duration": 24,
    "start_time": "2022-10-27T16:32:20.710Z"
   },
   {
    "duration": 55,
    "start_time": "2022-10-27T16:35:08.011Z"
   },
   {
    "duration": 18,
    "start_time": "2022-10-27T16:35:40.428Z"
   },
   {
    "duration": 54,
    "start_time": "2022-10-27T16:35:40.780Z"
   },
   {
    "duration": 1022,
    "start_time": "2022-10-27T16:37:08.781Z"
   },
   {
    "duration": 154,
    "start_time": "2022-10-27T16:37:09.805Z"
   },
   {
    "duration": 18,
    "start_time": "2022-10-27T16:37:09.960Z"
   },
   {
    "duration": 18,
    "start_time": "2022-10-27T16:37:09.980Z"
   },
   {
    "duration": 27,
    "start_time": "2022-10-27T16:37:10.000Z"
   },
   {
    "duration": 38,
    "start_time": "2022-10-27T16:37:10.029Z"
   },
   {
    "duration": 56,
    "start_time": "2022-10-27T16:37:10.069Z"
   },
   {
    "duration": 52,
    "start_time": "2022-10-27T16:37:10.127Z"
   },
   {
    "duration": 43,
    "start_time": "2022-10-27T16:37:10.180Z"
   },
   {
    "duration": 21,
    "start_time": "2022-10-27T16:37:10.224Z"
   },
   {
    "duration": 97,
    "start_time": "2022-10-27T16:37:10.246Z"
   },
   {
    "duration": 21,
    "start_time": "2022-10-27T16:37:10.344Z"
   },
   {
    "duration": 174,
    "start_time": "2022-10-27T16:37:10.366Z"
   },
   {
    "duration": 21,
    "start_time": "2022-10-27T16:37:10.542Z"
   },
   {
    "duration": 65,
    "start_time": "2022-10-27T16:37:10.564Z"
   },
   {
    "duration": 53,
    "start_time": "2022-10-27T16:38:41.033Z"
   },
   {
    "duration": 25,
    "start_time": "2022-10-27T16:40:27.908Z"
   },
   {
    "duration": 6,
    "start_time": "2022-10-27T16:42:14.703Z"
   },
   {
    "duration": 5,
    "start_time": "2022-10-27T16:42:32.134Z"
   },
   {
    "duration": 5,
    "start_time": "2022-10-27T16:42:36.600Z"
   },
   {
    "duration": 5,
    "start_time": "2022-10-27T16:43:18.285Z"
   },
   {
    "duration": 5,
    "start_time": "2022-10-27T16:47:52.905Z"
   },
   {
    "duration": 5,
    "start_time": "2022-10-27T16:48:16.992Z"
   },
   {
    "duration": 18,
    "start_time": "2022-10-27T16:51:11.013Z"
   },
   {
    "duration": 15,
    "start_time": "2022-10-27T16:51:27.588Z"
   },
   {
    "duration": 21,
    "start_time": "2022-10-27T16:54:04.596Z"
   },
   {
    "duration": 15,
    "start_time": "2022-10-27T16:54:49.377Z"
   },
   {
    "duration": 14,
    "start_time": "2022-10-27T16:55:06.942Z"
   },
   {
    "duration": 19,
    "start_time": "2022-10-27T16:55:25.160Z"
   },
   {
    "duration": 112,
    "start_time": "2022-10-27T16:55:31.209Z"
   },
   {
    "duration": 111,
    "start_time": "2022-10-27T16:55:53.097Z"
   },
   {
    "duration": 5,
    "start_time": "2022-10-27T16:56:42.208Z"
   },
   {
    "duration": 1095,
    "start_time": "2022-10-27T16:56:47.209Z"
   },
   {
    "duration": 154,
    "start_time": "2022-10-27T16:56:48.306Z"
   },
   {
    "duration": 17,
    "start_time": "2022-10-27T16:56:48.461Z"
   },
   {
    "duration": 18,
    "start_time": "2022-10-27T16:56:48.480Z"
   },
   {
    "duration": 30,
    "start_time": "2022-10-27T16:56:48.500Z"
   },
   {
    "duration": 48,
    "start_time": "2022-10-27T16:56:48.532Z"
   },
   {
    "duration": 58,
    "start_time": "2022-10-27T16:56:48.581Z"
   },
   {
    "duration": 51,
    "start_time": "2022-10-27T16:56:48.640Z"
   },
   {
    "duration": 47,
    "start_time": "2022-10-27T16:56:48.693Z"
   },
   {
    "duration": 22,
    "start_time": "2022-10-27T16:56:48.741Z"
   },
   {
    "duration": 4,
    "start_time": "2022-10-27T16:56:48.765Z"
   },
   {
    "duration": 18,
    "start_time": "2022-10-27T16:56:48.771Z"
   },
   {
    "duration": 43,
    "start_time": "2022-10-27T16:56:48.791Z"
   },
   {
    "duration": 222,
    "start_time": "2022-10-27T16:56:48.837Z"
   },
   {
    "duration": 26,
    "start_time": "2022-10-27T16:56:49.061Z"
   },
   {
    "duration": 78,
    "start_time": "2022-10-27T16:56:49.089Z"
   },
   {
    "duration": 5,
    "start_time": "2022-10-27T16:56:49.168Z"
   },
   {
    "duration": 44,
    "start_time": "2022-10-27T20:24:29.228Z"
   },
   {
    "duration": 1302,
    "start_time": "2022-10-27T20:24:34.781Z"
   },
   {
    "duration": 479,
    "start_time": "2022-10-27T20:24:36.085Z"
   },
   {
    "duration": 20,
    "start_time": "2022-10-27T20:24:36.568Z"
   },
   {
    "duration": 19,
    "start_time": "2022-10-27T20:24:36.589Z"
   },
   {
    "duration": 29,
    "start_time": "2022-10-27T20:24:36.610Z"
   },
   {
    "duration": 30,
    "start_time": "2022-10-27T20:24:36.641Z"
   },
   {
    "duration": 86,
    "start_time": "2022-10-27T20:24:36.673Z"
   },
   {
    "duration": 58,
    "start_time": "2022-10-27T20:24:36.761Z"
   },
   {
    "duration": 46,
    "start_time": "2022-10-27T20:24:36.822Z"
   },
   {
    "duration": 25,
    "start_time": "2022-10-27T20:24:36.870Z"
   },
   {
    "duration": 6,
    "start_time": "2022-10-27T20:24:36.897Z"
   },
   {
    "duration": 21,
    "start_time": "2022-10-27T20:24:36.939Z"
   },
   {
    "duration": 23,
    "start_time": "2022-10-27T20:24:36.962Z"
   },
   {
    "duration": 214,
    "start_time": "2022-10-27T20:24:36.986Z"
   },
   {
    "duration": 37,
    "start_time": "2022-10-27T20:24:37.202Z"
   },
   {
    "duration": 70,
    "start_time": "2022-10-27T20:24:37.241Z"
   },
   {
    "duration": 26,
    "start_time": "2022-10-27T20:24:37.313Z"
   },
   {
    "duration": 4,
    "start_time": "2022-10-27T20:26:13.365Z"
   },
   {
    "duration": 5,
    "start_time": "2022-10-27T20:26:22.974Z"
   },
   {
    "duration": 1108,
    "start_time": "2022-10-27T20:28:04.933Z"
   },
   {
    "duration": 161,
    "start_time": "2022-10-27T20:28:06.042Z"
   },
   {
    "duration": 21,
    "start_time": "2022-10-27T20:28:06.204Z"
   },
   {
    "duration": 28,
    "start_time": "2022-10-27T20:28:06.227Z"
   },
   {
    "duration": 14,
    "start_time": "2022-10-27T20:28:06.257Z"
   },
   {
    "duration": 28,
    "start_time": "2022-10-27T20:28:06.273Z"
   },
   {
    "duration": 83,
    "start_time": "2022-10-27T20:28:06.302Z"
   },
   {
    "duration": 66,
    "start_time": "2022-10-27T20:28:06.387Z"
   },
   {
    "duration": 34,
    "start_time": "2022-10-27T20:28:06.455Z"
   },
   {
    "duration": 5,
    "start_time": "2022-10-27T20:28:06.491Z"
   },
   {
    "duration": 59,
    "start_time": "2022-10-27T20:28:06.497Z"
   },
   {
    "duration": 6,
    "start_time": "2022-10-27T20:28:06.557Z"
   },
   {
    "duration": 24,
    "start_time": "2022-10-27T20:28:06.564Z"
   },
   {
    "duration": 50,
    "start_time": "2022-10-27T20:28:06.590Z"
   },
   {
    "duration": 189,
    "start_time": "2022-10-27T20:28:06.642Z"
   },
   {
    "duration": 29,
    "start_time": "2022-10-27T20:28:06.832Z"
   },
   {
    "duration": 66,
    "start_time": "2022-10-27T20:28:06.862Z"
   },
   {
    "duration": 12,
    "start_time": "2022-10-27T20:28:06.929Z"
   },
   {
    "duration": 4,
    "start_time": "2022-10-27T20:29:09.021Z"
   },
   {
    "duration": 1088,
    "start_time": "2022-10-27T20:29:13.942Z"
   },
   {
    "duration": 155,
    "start_time": "2022-10-27T20:29:15.032Z"
   },
   {
    "duration": 22,
    "start_time": "2022-10-27T20:29:15.188Z"
   },
   {
    "duration": 42,
    "start_time": "2022-10-27T20:29:15.212Z"
   },
   {
    "duration": 15,
    "start_time": "2022-10-27T20:29:15.256Z"
   },
   {
    "duration": 31,
    "start_time": "2022-10-27T20:29:15.273Z"
   },
   {
    "duration": 82,
    "start_time": "2022-10-27T20:29:15.305Z"
   },
   {
    "duration": 75,
    "start_time": "2022-10-27T20:29:15.389Z"
   },
   {
    "duration": 33,
    "start_time": "2022-10-27T20:29:15.466Z"
   },
   {
    "duration": 6,
    "start_time": "2022-10-27T20:29:15.501Z"
   },
   {
    "duration": 50,
    "start_time": "2022-10-27T20:29:15.508Z"
   },
   {
    "duration": 6,
    "start_time": "2022-10-27T20:29:15.560Z"
   },
   {
    "duration": 22,
    "start_time": "2022-10-27T20:29:15.568Z"
   },
   {
    "duration": 55,
    "start_time": "2022-10-27T20:29:15.593Z"
   },
   {
    "duration": 188,
    "start_time": "2022-10-27T20:29:15.650Z"
   },
   {
    "duration": 25,
    "start_time": "2022-10-27T20:29:15.840Z"
   },
   {
    "duration": 75,
    "start_time": "2022-10-27T20:29:15.867Z"
   },
   {
    "duration": 6,
    "start_time": "2022-10-27T20:29:15.944Z"
   },
   {
    "duration": 4,
    "start_time": "2022-10-27T20:31:05.157Z"
   },
   {
    "duration": 6,
    "start_time": "2022-10-27T20:31:25.967Z"
   },
   {
    "duration": 28,
    "start_time": "2022-10-27T20:34:53.969Z"
   },
   {
    "duration": 1132,
    "start_time": "2022-10-27T20:35:49.520Z"
   },
   {
    "duration": 171,
    "start_time": "2022-10-27T20:35:50.653Z"
   },
   {
    "duration": 25,
    "start_time": "2022-10-27T20:35:50.826Z"
   },
   {
    "duration": 20,
    "start_time": "2022-10-27T20:35:50.852Z"
   },
   {
    "duration": 15,
    "start_time": "2022-10-27T20:35:50.874Z"
   },
   {
    "duration": 49,
    "start_time": "2022-10-27T20:35:50.890Z"
   },
   {
    "duration": 56,
    "start_time": "2022-10-27T20:35:50.941Z"
   },
   {
    "duration": 70,
    "start_time": "2022-10-27T20:35:50.999Z"
   },
   {
    "duration": 32,
    "start_time": "2022-10-27T20:35:51.071Z"
   },
   {
    "duration": 4,
    "start_time": "2022-10-27T20:35:51.105Z"
   },
   {
    "duration": 46,
    "start_time": "2022-10-27T20:35:51.110Z"
   },
   {
    "duration": 5,
    "start_time": "2022-10-27T20:35:51.158Z"
   },
   {
    "duration": 21,
    "start_time": "2022-10-27T20:35:51.164Z"
   },
   {
    "duration": 21,
    "start_time": "2022-10-27T20:35:51.188Z"
   },
   {
    "duration": 197,
    "start_time": "2022-10-27T20:35:51.210Z"
   },
   {
    "duration": 33,
    "start_time": "2022-10-27T20:35:51.408Z"
   },
   {
    "duration": 56,
    "start_time": "2022-10-27T20:35:51.443Z"
   },
   {
    "duration": 5,
    "start_time": "2022-10-27T20:35:51.501Z"
   },
   {
    "duration": 6,
    "start_time": "2022-10-27T20:35:51.508Z"
   },
   {
    "duration": 1134,
    "start_time": "2022-10-27T20:35:59.004Z"
   },
   {
    "duration": 163,
    "start_time": "2022-10-27T20:36:00.140Z"
   },
   {
    "duration": 20,
    "start_time": "2022-10-27T20:36:00.305Z"
   },
   {
    "duration": 29,
    "start_time": "2022-10-27T20:36:00.327Z"
   },
   {
    "duration": 14,
    "start_time": "2022-10-27T20:36:00.357Z"
   },
   {
    "duration": 30,
    "start_time": "2022-10-27T20:36:00.373Z"
   },
   {
    "duration": 78,
    "start_time": "2022-10-27T20:36:00.405Z"
   },
   {
    "duration": 63,
    "start_time": "2022-10-27T20:36:00.485Z"
   },
   {
    "duration": 34,
    "start_time": "2022-10-27T20:36:00.550Z"
   },
   {
    "duration": 5,
    "start_time": "2022-10-27T20:36:00.586Z"
   },
   {
    "duration": 48,
    "start_time": "2022-10-27T20:36:00.592Z"
   },
   {
    "duration": 6,
    "start_time": "2022-10-27T20:36:00.642Z"
   },
   {
    "duration": 30,
    "start_time": "2022-10-27T20:36:00.650Z"
   },
   {
    "duration": 27,
    "start_time": "2022-10-27T20:36:00.681Z"
   },
   {
    "duration": 204,
    "start_time": "2022-10-27T20:36:00.710Z"
   },
   {
    "duration": 40,
    "start_time": "2022-10-27T20:36:00.916Z"
   },
   {
    "duration": 59,
    "start_time": "2022-10-27T20:36:00.958Z"
   },
   {
    "duration": 22,
    "start_time": "2022-10-27T20:36:01.018Z"
   },
   {
    "duration": 15,
    "start_time": "2022-10-27T20:36:01.041Z"
   },
   {
    "duration": 141,
    "start_time": "2022-10-27T20:36:59.975Z"
   },
   {
    "duration": 96,
    "start_time": "2022-10-27T20:37:44.270Z"
   },
   {
    "duration": 117,
    "start_time": "2022-10-27T20:37:47.853Z"
   },
   {
    "duration": 45,
    "start_time": "2022-10-27T20:38:31.853Z"
   },
   {
    "duration": 57,
    "start_time": "2022-10-27T20:38:36.589Z"
   },
   {
    "duration": 35,
    "start_time": "2022-10-27T20:38:50.517Z"
   },
   {
    "duration": 63,
    "start_time": "2022-10-27T20:39:15.702Z"
   },
   {
    "duration": 61,
    "start_time": "2022-10-27T20:39:24.340Z"
   },
   {
    "duration": 61,
    "start_time": "2022-10-27T20:39:45.276Z"
   },
   {
    "duration": 31,
    "start_time": "2022-10-27T20:40:38.643Z"
   },
   {
    "duration": 25,
    "start_time": "2022-10-27T20:40:55.668Z"
   },
   {
    "duration": 24,
    "start_time": "2022-10-27T20:41:05.148Z"
   },
   {
    "duration": 24,
    "start_time": "2022-10-27T20:41:14.749Z"
   },
   {
    "duration": 23,
    "start_time": "2022-10-27T20:41:18.658Z"
   },
   {
    "duration": 28,
    "start_time": "2022-10-27T20:41:27.298Z"
   },
   {
    "duration": 30,
    "start_time": "2022-10-27T20:41:30.699Z"
   },
   {
    "duration": 42,
    "start_time": "2022-10-27T20:41:53.395Z"
   },
   {
    "duration": 45,
    "start_time": "2022-10-27T20:42:02.333Z"
   },
   {
    "duration": 26,
    "start_time": "2022-10-27T20:42:09.371Z"
   },
   {
    "duration": 22,
    "start_time": "2022-10-27T20:43:26.026Z"
   },
   {
    "duration": 55,
    "start_time": "2022-10-27T20:48:01.463Z"
   },
   {
    "duration": 49,
    "start_time": "2022-10-27T20:48:22.070Z"
   },
   {
    "duration": 54,
    "start_time": "2022-10-27T20:48:36.373Z"
   },
   {
    "duration": 7,
    "start_time": "2022-10-27T20:56:28.999Z"
   },
   {
    "duration": 58,
    "start_time": "2022-10-27T21:00:14.598Z"
   },
   {
    "duration": 67,
    "start_time": "2022-10-27T21:55:58.509Z"
   },
   {
    "duration": 52,
    "start_time": "2022-10-27T21:56:03.481Z"
   },
   {
    "duration": 47,
    "start_time": "2022-10-27T21:57:40.136Z"
   },
   {
    "duration": 64,
    "start_time": "2022-10-27T21:57:48.728Z"
   },
   {
    "duration": 47,
    "start_time": "2022-10-27T21:58:38.672Z"
   },
   {
    "duration": 49,
    "start_time": "2022-10-27T21:58:42.408Z"
   },
   {
    "duration": 7,
    "start_time": "2022-10-27T21:59:33.487Z"
   },
   {
    "duration": 3,
    "start_time": "2022-10-27T22:00:20.176Z"
   },
   {
    "duration": 3,
    "start_time": "2022-10-27T22:00:26.791Z"
   },
   {
    "duration": 3,
    "start_time": "2022-10-27T22:00:36.878Z"
   },
   {
    "duration": 49,
    "start_time": "2022-10-27T22:06:52.904Z"
   },
   {
    "duration": 902,
    "start_time": "2022-10-27T22:09:00.960Z"
   },
   {
    "duration": 65,
    "start_time": "2022-10-27T22:09:07.135Z"
   },
   {
    "duration": 62,
    "start_time": "2022-10-27T22:09:32.862Z"
   },
   {
    "duration": 56,
    "start_time": "2022-10-27T22:09:39.915Z"
   },
   {
    "duration": 51,
    "start_time": "2022-10-27T22:10:11.439Z"
   },
   {
    "duration": 50,
    "start_time": "2022-10-27T22:10:17.982Z"
   },
   {
    "duration": 50,
    "start_time": "2022-10-27T22:10:33.173Z"
   },
   {
    "duration": 49,
    "start_time": "2022-10-27T22:10:37.725Z"
   },
   {
    "duration": 50,
    "start_time": "2022-10-27T22:11:25.660Z"
   },
   {
    "duration": 56,
    "start_time": "2022-10-27T22:11:30.156Z"
   },
   {
    "duration": 56,
    "start_time": "2022-10-27T22:11:45.747Z"
   },
   {
    "duration": 55,
    "start_time": "2022-10-27T22:12:45.860Z"
   },
   {
    "duration": 101,
    "start_time": "2022-10-27T22:13:20.067Z"
   },
   {
    "duration": 106,
    "start_time": "2022-10-27T22:15:42.533Z"
   },
   {
    "duration": 101,
    "start_time": "2022-10-27T22:15:51.040Z"
   },
   {
    "duration": 1056,
    "start_time": "2022-10-27T22:47:09.374Z"
   },
   {
    "duration": 160,
    "start_time": "2022-10-27T22:47:10.432Z"
   },
   {
    "duration": 18,
    "start_time": "2022-10-27T22:47:10.594Z"
   },
   {
    "duration": 38,
    "start_time": "2022-10-27T22:47:10.614Z"
   },
   {
    "duration": 15,
    "start_time": "2022-10-27T22:47:10.654Z"
   },
   {
    "duration": 37,
    "start_time": "2022-10-27T22:47:10.671Z"
   },
   {
    "duration": 53,
    "start_time": "2022-10-27T22:47:10.738Z"
   },
   {
    "duration": 68,
    "start_time": "2022-10-27T22:47:10.792Z"
   },
   {
    "duration": 32,
    "start_time": "2022-10-27T22:47:10.862Z"
   },
   {
    "duration": 5,
    "start_time": "2022-10-27T22:47:10.896Z"
   },
   {
    "duration": 51,
    "start_time": "2022-10-27T22:47:10.902Z"
   },
   {
    "duration": 7,
    "start_time": "2022-10-27T22:47:10.955Z"
   },
   {
    "duration": 22,
    "start_time": "2022-10-27T22:47:10.964Z"
   },
   {
    "duration": 51,
    "start_time": "2022-10-27T22:47:10.988Z"
   },
   {
    "duration": 181,
    "start_time": "2022-10-27T22:47:11.040Z"
   },
   {
    "duration": 34,
    "start_time": "2022-10-27T22:47:11.224Z"
   },
   {
    "duration": 57,
    "start_time": "2022-10-27T22:47:11.260Z"
   },
   {
    "duration": 5,
    "start_time": "2022-10-27T22:47:11.338Z"
   },
   {
    "duration": 6,
    "start_time": "2022-10-27T22:47:11.345Z"
   },
   {
    "duration": 24,
    "start_time": "2022-10-27T22:47:11.352Z"
   },
   {
    "duration": 136,
    "start_time": "2022-10-27T22:47:11.378Z"
   },
   {
    "duration": 109,
    "start_time": "2022-10-27T22:47:11.516Z"
   },
   {
    "duration": 15,
    "start_time": "2022-10-27T22:47:57.446Z"
   },
   {
    "duration": 4,
    "start_time": "2022-10-27T22:52:17.854Z"
   },
   {
    "duration": 32,
    "start_time": "2022-10-27T22:52:45.294Z"
   },
   {
    "duration": 6,
    "start_time": "2022-10-27T22:53:29.349Z"
   },
   {
    "duration": 22,
    "start_time": "2022-10-27T22:53:38.294Z"
   },
   {
    "duration": 15,
    "start_time": "2022-10-27T22:53:42.061Z"
   },
   {
    "duration": 24,
    "start_time": "2022-10-27T22:57:58.401Z"
   },
   {
    "duration": 30,
    "start_time": "2022-10-27T22:58:03.345Z"
   },
   {
    "duration": 70,
    "start_time": "2022-10-27T22:59:23.576Z"
   },
   {
    "duration": 62,
    "start_time": "2022-10-27T22:59:26.319Z"
   },
   {
    "duration": 59,
    "start_time": "2022-10-27T22:59:54.575Z"
   },
   {
    "duration": 32,
    "start_time": "2022-10-27T23:00:05.391Z"
   },
   {
    "duration": 57,
    "start_time": "2022-10-27T23:00:36.075Z"
   },
   {
    "duration": 61,
    "start_time": "2022-10-27T23:00:41.934Z"
   },
   {
    "duration": 62,
    "start_time": "2022-10-27T23:01:22.167Z"
   },
   {
    "duration": 63,
    "start_time": "2022-10-27T23:01:27.863Z"
   },
   {
    "duration": 21,
    "start_time": "2022-10-27T23:01:57.589Z"
   },
   {
    "duration": 22,
    "start_time": "2022-10-27T23:02:02.269Z"
   },
   {
    "duration": 26,
    "start_time": "2022-10-27T23:02:23.717Z"
   },
   {
    "duration": 21,
    "start_time": "2022-10-27T23:02:27.060Z"
   },
   {
    "duration": 58,
    "start_time": "2022-10-27T23:03:44.797Z"
   },
   {
    "duration": 55,
    "start_time": "2022-10-27T23:05:43.435Z"
   },
   {
    "duration": 58,
    "start_time": "2022-10-27T23:05:54.553Z"
   },
   {
    "duration": 55,
    "start_time": "2022-10-27T23:16:04.449Z"
   },
   {
    "duration": 63,
    "start_time": "2022-10-27T23:17:36.815Z"
   },
   {
    "duration": 130,
    "start_time": "2022-10-27T23:17:58.943Z"
   },
   {
    "duration": 137,
    "start_time": "2022-10-27T23:18:05.865Z"
   },
   {
    "duration": 133,
    "start_time": "2022-10-27T23:20:18.916Z"
   },
   {
    "duration": 126,
    "start_time": "2022-10-27T23:21:56.874Z"
   },
   {
    "duration": 125,
    "start_time": "2022-10-27T23:24:45.881Z"
   },
   {
    "duration": 139,
    "start_time": "2022-10-27T23:25:44.855Z"
   },
   {
    "duration": 45,
    "start_time": "2022-10-27T23:26:04.056Z"
   },
   {
    "duration": 124,
    "start_time": "2022-10-27T23:26:08.896Z"
   },
   {
    "duration": 1039,
    "start_time": "2022-10-27T23:27:07.751Z"
   },
   {
    "duration": 129,
    "start_time": "2022-10-27T23:27:19.701Z"
   },
   {
    "duration": 124,
    "start_time": "2022-10-27T23:27:32.192Z"
   },
   {
    "duration": 125,
    "start_time": "2022-10-27T23:28:02.630Z"
   },
   {
    "duration": 1198,
    "start_time": "2022-10-27T23:28:10.444Z"
   },
   {
    "duration": 178,
    "start_time": "2022-10-27T23:28:11.645Z"
   },
   {
    "duration": 24,
    "start_time": "2022-10-27T23:28:11.825Z"
   },
   {
    "duration": 21,
    "start_time": "2022-10-27T23:28:11.850Z"
   },
   {
    "duration": 15,
    "start_time": "2022-10-27T23:28:11.873Z"
   },
   {
    "duration": 56,
    "start_time": "2022-10-27T23:28:11.889Z"
   },
   {
    "duration": 55,
    "start_time": "2022-10-27T23:28:11.947Z"
   },
   {
    "duration": 67,
    "start_time": "2022-10-27T23:28:12.003Z"
   },
   {
    "duration": 32,
    "start_time": "2022-10-27T23:28:12.072Z"
   },
   {
    "duration": 5,
    "start_time": "2022-10-27T23:28:12.105Z"
   },
   {
    "duration": 41,
    "start_time": "2022-10-27T23:28:12.112Z"
   },
   {
    "duration": 5,
    "start_time": "2022-10-27T23:28:12.155Z"
   },
   {
    "duration": 24,
    "start_time": "2022-10-27T23:28:12.161Z"
   },
   {
    "duration": 19,
    "start_time": "2022-10-27T23:28:12.188Z"
   },
   {
    "duration": 191,
    "start_time": "2022-10-27T23:28:12.209Z"
   },
   {
    "duration": 25,
    "start_time": "2022-10-27T23:28:12.402Z"
   },
   {
    "duration": 88,
    "start_time": "2022-10-27T23:28:12.439Z"
   },
   {
    "duration": 5,
    "start_time": "2022-10-27T23:28:12.529Z"
   },
   {
    "duration": 12,
    "start_time": "2022-10-27T23:28:12.536Z"
   },
   {
    "duration": 28,
    "start_time": "2022-10-27T23:28:12.550Z"
   },
   {
    "duration": 114,
    "start_time": "2022-10-27T23:28:12.579Z"
   },
   {
    "duration": 24,
    "start_time": "2022-10-27T23:28:12.695Z"
   },
   {
    "duration": 234,
    "start_time": "2022-10-27T23:28:12.721Z"
   },
   {
    "duration": 121,
    "start_time": "2022-10-27T23:28:23.201Z"
   },
   {
    "duration": 121,
    "start_time": "2022-10-27T23:28:53.792Z"
   },
   {
    "duration": 116,
    "start_time": "2022-10-27T23:28:58.968Z"
   },
   {
    "duration": 113,
    "start_time": "2022-10-27T23:29:20.102Z"
   },
   {
    "duration": 116,
    "start_time": "2022-10-27T23:29:32.991Z"
   },
   {
    "duration": 1055,
    "start_time": "2022-10-27T23:29:40.580Z"
   },
   {
    "duration": 177,
    "start_time": "2022-10-27T23:29:41.637Z"
   },
   {
    "duration": 29,
    "start_time": "2022-10-27T23:29:41.816Z"
   },
   {
    "duration": 23,
    "start_time": "2022-10-27T23:29:41.847Z"
   },
   {
    "duration": 17,
    "start_time": "2022-10-27T23:29:41.873Z"
   },
   {
    "duration": 56,
    "start_time": "2022-10-27T23:29:41.892Z"
   },
   {
    "duration": 52,
    "start_time": "2022-10-27T23:29:41.949Z"
   },
   {
    "duration": 64,
    "start_time": "2022-10-27T23:29:42.003Z"
   },
   {
    "duration": 33,
    "start_time": "2022-10-27T23:29:42.069Z"
   },
   {
    "duration": 4,
    "start_time": "2022-10-27T23:29:42.103Z"
   },
   {
    "duration": 42,
    "start_time": "2022-10-27T23:29:42.109Z"
   },
   {
    "duration": 5,
    "start_time": "2022-10-27T23:29:42.153Z"
   },
   {
    "duration": 24,
    "start_time": "2022-10-27T23:29:42.159Z"
   },
   {
    "duration": 22,
    "start_time": "2022-10-27T23:29:42.185Z"
   },
   {
    "duration": 189,
    "start_time": "2022-10-27T23:29:42.208Z"
   },
   {
    "duration": 26,
    "start_time": "2022-10-27T23:29:42.398Z"
   },
   {
    "duration": 57,
    "start_time": "2022-10-27T23:29:42.438Z"
   },
   {
    "duration": 5,
    "start_time": "2022-10-27T23:29:42.496Z"
   },
   {
    "duration": 6,
    "start_time": "2022-10-27T23:29:42.503Z"
   },
   {
    "duration": 50,
    "start_time": "2022-10-27T23:29:42.510Z"
   },
   {
    "duration": 102,
    "start_time": "2022-10-27T23:29:42.561Z"
   },
   {
    "duration": 21,
    "start_time": "2022-10-27T23:29:42.664Z"
   },
   {
    "duration": 221,
    "start_time": "2022-10-27T23:29:42.686Z"
   },
   {
    "duration": 124,
    "start_time": "2022-10-27T23:29:50.423Z"
   },
   {
    "duration": 122,
    "start_time": "2022-10-27T23:30:22.733Z"
   },
   {
    "duration": 121,
    "start_time": "2022-10-27T23:30:28.662Z"
   },
   {
    "duration": 4,
    "start_time": "2022-10-27T23:30:59.373Z"
   },
   {
    "duration": 162,
    "start_time": "2022-10-27T23:30:59.378Z"
   },
   {
    "duration": 13,
    "start_time": "2022-10-27T23:30:59.541Z"
   },
   {
    "duration": 20,
    "start_time": "2022-10-27T23:30:59.555Z"
   },
   {
    "duration": 15,
    "start_time": "2022-10-27T23:30:59.579Z"
   },
   {
    "duration": 56,
    "start_time": "2022-10-27T23:30:59.596Z"
   },
   {
    "duration": 52,
    "start_time": "2022-10-27T23:30:59.654Z"
   },
   {
    "duration": 67,
    "start_time": "2022-10-27T23:30:59.708Z"
   },
   {
    "duration": 28,
    "start_time": "2022-10-27T23:30:59.777Z"
   },
   {
    "duration": 4,
    "start_time": "2022-10-27T23:30:59.807Z"
   },
   {
    "duration": 44,
    "start_time": "2022-10-27T23:30:59.812Z"
   },
   {
    "duration": 5,
    "start_time": "2022-10-27T23:30:59.858Z"
   },
   {
    "duration": 21,
    "start_time": "2022-10-27T23:30:59.864Z"
   },
   {
    "duration": 20,
    "start_time": "2022-10-27T23:30:59.886Z"
   },
   {
    "duration": 184,
    "start_time": "2022-10-27T23:30:59.907Z"
   },
   {
    "duration": 20,
    "start_time": "2022-10-27T23:31:00.093Z"
   },
   {
    "duration": 72,
    "start_time": "2022-10-27T23:31:00.114Z"
   },
   {
    "duration": 5,
    "start_time": "2022-10-27T23:31:00.188Z"
   },
   {
    "duration": 8,
    "start_time": "2022-10-27T23:31:00.195Z"
   },
   {
    "duration": 37,
    "start_time": "2022-10-27T23:31:00.205Z"
   },
   {
    "duration": 116,
    "start_time": "2022-10-27T23:31:00.244Z"
   },
   {
    "duration": 24,
    "start_time": "2022-10-27T23:31:00.362Z"
   },
   {
    "duration": 153,
    "start_time": "2022-10-27T23:31:00.387Z"
   },
   {
    "duration": 118,
    "start_time": "2022-10-27T23:31:05.291Z"
   },
   {
    "duration": 124,
    "start_time": "2022-10-27T23:31:09.846Z"
   },
   {
    "duration": 119,
    "start_time": "2022-10-27T23:31:15.782Z"
   },
   {
    "duration": 120,
    "start_time": "2022-10-27T23:31:42.985Z"
   },
   {
    "duration": 124,
    "start_time": "2022-10-27T23:31:59.670Z"
   },
   {
    "duration": 200,
    "start_time": "2022-10-27T23:32:15.375Z"
   },
   {
    "duration": 124,
    "start_time": "2022-10-27T23:32:21.496Z"
   },
   {
    "duration": 133,
    "start_time": "2022-10-27T23:32:37.278Z"
   },
   {
    "duration": 118,
    "start_time": "2022-10-27T23:32:41.124Z"
   },
   {
    "duration": 118,
    "start_time": "2022-10-27T23:34:05.435Z"
   },
   {
    "duration": 121,
    "start_time": "2022-10-27T23:34:13.835Z"
   },
   {
    "duration": 119,
    "start_time": "2022-10-27T23:34:46.843Z"
   },
   {
    "duration": 125,
    "start_time": "2022-10-27T23:34:54.866Z"
   },
   {
    "duration": 129,
    "start_time": "2022-10-27T23:35:07.802Z"
   },
   {
    "duration": 40,
    "start_time": "2022-10-27T23:39:46.535Z"
   },
   {
    "duration": 61,
    "start_time": "2022-10-27T23:40:05.038Z"
   },
   {
    "duration": 813,
    "start_time": "2022-10-27T23:40:27.933Z"
   },
   {
    "duration": 127,
    "start_time": "2022-10-27T23:41:30.424Z"
   },
   {
    "duration": 114,
    "start_time": "2022-10-27T23:41:37.366Z"
   },
   {
    "duration": 132,
    "start_time": "2022-10-27T23:42:58.084Z"
   },
   {
    "duration": 134,
    "start_time": "2022-10-27T23:43:20.555Z"
   },
   {
    "duration": 132,
    "start_time": "2022-10-27T23:43:27.914Z"
   },
   {
    "duration": 12,
    "start_time": "2022-10-27T23:44:36.121Z"
   },
   {
    "duration": 10,
    "start_time": "2022-10-27T23:45:04.802Z"
   },
   {
    "duration": 132,
    "start_time": "2022-10-27T23:46:13.897Z"
   },
   {
    "duration": 134,
    "start_time": "2022-10-27T23:46:20.355Z"
   },
   {
    "duration": 116,
    "start_time": "2022-10-27T23:46:51.216Z"
   },
   {
    "duration": 123,
    "start_time": "2022-10-27T23:47:03.647Z"
   },
   {
    "duration": 124,
    "start_time": "2022-10-27T23:47:44.960Z"
   },
   {
    "duration": 65,
    "start_time": "2022-10-27T23:47:55.472Z"
   },
   {
    "duration": 59,
    "start_time": "2022-10-27T23:48:05.959Z"
   },
   {
    "duration": 118,
    "start_time": "2022-10-27T23:49:09.383Z"
   },
   {
    "duration": 126,
    "start_time": "2022-10-27T23:49:31.404Z"
   },
   {
    "duration": 119,
    "start_time": "2022-10-27T23:50:01.397Z"
   },
   {
    "duration": 63,
    "start_time": "2022-10-27T23:50:34.046Z"
   },
   {
    "duration": 722,
    "start_time": "2022-10-27T23:50:52.611Z"
   },
   {
    "duration": 733,
    "start_time": "2022-10-27T23:51:05.684Z"
   },
   {
    "duration": 1090,
    "start_time": "2022-10-27T23:51:11.735Z"
   },
   {
    "duration": 155,
    "start_time": "2022-10-27T23:51:12.827Z"
   },
   {
    "duration": 18,
    "start_time": "2022-10-27T23:51:12.983Z"
   },
   {
    "duration": 20,
    "start_time": "2022-10-27T23:51:13.003Z"
   },
   {
    "duration": 13,
    "start_time": "2022-10-27T23:51:13.038Z"
   },
   {
    "duration": 27,
    "start_time": "2022-10-27T23:51:13.053Z"
   },
   {
    "duration": 70,
    "start_time": "2022-10-27T23:51:13.082Z"
   },
   {
    "duration": 53,
    "start_time": "2022-10-27T23:51:13.154Z"
   },
   {
    "duration": 52,
    "start_time": "2022-10-27T23:51:13.209Z"
   },
   {
    "duration": 5,
    "start_time": "2022-10-27T23:51:13.265Z"
   },
   {
    "duration": 26,
    "start_time": "2022-10-27T23:51:13.271Z"
   },
   {
    "duration": 5,
    "start_time": "2022-10-27T23:51:13.299Z"
   },
   {
    "duration": 50,
    "start_time": "2022-10-27T23:51:13.306Z"
   },
   {
    "duration": 24,
    "start_time": "2022-10-27T23:51:13.358Z"
   },
   {
    "duration": 188,
    "start_time": "2022-10-27T23:51:13.384Z"
   },
   {
    "duration": 24,
    "start_time": "2022-10-27T23:51:13.574Z"
   },
   {
    "duration": 73,
    "start_time": "2022-10-27T23:51:13.600Z"
   },
   {
    "duration": 6,
    "start_time": "2022-10-27T23:51:13.675Z"
   },
   {
    "duration": 9,
    "start_time": "2022-10-27T23:51:13.682Z"
   },
   {
    "duration": 23,
    "start_time": "2022-10-27T23:51:13.693Z"
   },
   {
    "duration": 112,
    "start_time": "2022-10-27T23:51:13.717Z"
   },
   {
    "duration": 23,
    "start_time": "2022-10-27T23:51:13.839Z"
   },
   {
    "duration": 158,
    "start_time": "2022-10-27T23:51:13.863Z"
   },
   {
    "duration": 60,
    "start_time": "2022-10-27T23:51:22.820Z"
   },
   {
    "duration": 85,
    "start_time": "2022-10-27T23:51:45.100Z"
   },
   {
    "duration": 91,
    "start_time": "2022-10-27T23:52:46.522Z"
   },
   {
    "duration": 90,
    "start_time": "2022-10-27T23:53:31.954Z"
   },
   {
    "duration": 94,
    "start_time": "2022-10-27T23:53:58.531Z"
   },
   {
    "duration": 151,
    "start_time": "2022-10-27T23:54:57.169Z"
   },
   {
    "duration": 151,
    "start_time": "2022-10-27T23:55:13.352Z"
   },
   {
    "duration": 145,
    "start_time": "2022-10-27T23:55:15.776Z"
   },
   {
    "duration": 147,
    "start_time": "2022-10-27T23:56:11.456Z"
   },
   {
    "duration": 140,
    "start_time": "2022-10-27T23:56:16.015Z"
   },
   {
    "duration": 155,
    "start_time": "2022-10-27T23:57:57.567Z"
   },
   {
    "duration": 1107,
    "start_time": "2022-10-27T23:58:08.121Z"
   },
   {
    "duration": 155,
    "start_time": "2022-10-27T23:58:09.230Z"
   },
   {
    "duration": 19,
    "start_time": "2022-10-27T23:58:09.387Z"
   },
   {
    "duration": 34,
    "start_time": "2022-10-27T23:58:09.408Z"
   },
   {
    "duration": 16,
    "start_time": "2022-10-27T23:58:09.444Z"
   },
   {
    "duration": 31,
    "start_time": "2022-10-27T23:58:09.462Z"
   },
   {
    "duration": 80,
    "start_time": "2022-10-27T23:58:09.495Z"
   },
   {
    "duration": 72,
    "start_time": "2022-10-27T23:58:09.577Z"
   },
   {
    "duration": 34,
    "start_time": "2022-10-27T23:58:09.651Z"
   },
   {
    "duration": 4,
    "start_time": "2022-10-27T23:58:09.688Z"
   },
   {
    "duration": 48,
    "start_time": "2022-10-27T23:58:09.694Z"
   },
   {
    "duration": 5,
    "start_time": "2022-10-27T23:58:09.744Z"
   },
   {
    "duration": 21,
    "start_time": "2022-10-27T23:58:09.750Z"
   },
   {
    "duration": 20,
    "start_time": "2022-10-27T23:58:09.773Z"
   },
   {
    "duration": 195,
    "start_time": "2022-10-27T23:58:09.795Z"
   },
   {
    "duration": 24,
    "start_time": "2022-10-27T23:58:09.991Z"
   },
   {
    "duration": 65,
    "start_time": "2022-10-27T23:58:10.017Z"
   },
   {
    "duration": 5,
    "start_time": "2022-10-27T23:58:10.084Z"
   },
   {
    "duration": 6,
    "start_time": "2022-10-27T23:58:10.090Z"
   },
   {
    "duration": 49,
    "start_time": "2022-10-27T23:58:10.097Z"
   },
   {
    "duration": 106,
    "start_time": "2022-10-27T23:58:10.148Z"
   },
   {
    "duration": 22,
    "start_time": "2022-10-27T23:58:10.255Z"
   },
   {
    "duration": 261,
    "start_time": "2022-10-27T23:58:10.278Z"
   },
   {
    "duration": 156,
    "start_time": "2022-10-27T23:59:00.300Z"
   },
   {
    "duration": 150,
    "start_time": "2022-10-27T23:59:09.577Z"
   },
   {
    "duration": 207,
    "start_time": "2022-10-28T00:02:27.214Z"
   },
   {
    "duration": 158,
    "start_time": "2022-10-28T00:02:59.166Z"
   },
   {
    "duration": 190,
    "start_time": "2022-10-28T00:03:03.084Z"
   },
   {
    "duration": 127,
    "start_time": "2022-10-28T00:03:59.244Z"
   },
   {
    "duration": 188,
    "start_time": "2022-10-28T00:05:06.540Z"
   },
   {
    "duration": 187,
    "start_time": "2022-10-28T00:05:39.910Z"
   },
   {
    "duration": 192,
    "start_time": "2022-10-28T00:05:51.396Z"
   },
   {
    "duration": 193,
    "start_time": "2022-10-28T00:06:46.858Z"
   },
   {
    "duration": 190,
    "start_time": "2022-10-28T00:06:56.610Z"
   },
   {
    "duration": 306,
    "start_time": "2022-10-28T00:07:04.969Z"
   },
   {
    "duration": 213,
    "start_time": "2022-10-28T00:07:19.714Z"
   },
   {
    "duration": 200,
    "start_time": "2022-10-28T00:07:25.130Z"
   },
   {
    "duration": 163,
    "start_time": "2022-10-28T00:14:31.004Z"
   },
   {
    "duration": 10,
    "start_time": "2022-10-28T00:21:38.437Z"
   },
   {
    "duration": 5,
    "start_time": "2022-10-28T00:23:27.414Z"
   },
   {
    "duration": 11,
    "start_time": "2022-10-28T00:24:11.138Z"
   },
   {
    "duration": 6,
    "start_time": "2022-10-28T00:25:27.568Z"
   },
   {
    "duration": 5,
    "start_time": "2022-10-28T00:25:50.322Z"
   },
   {
    "duration": 6,
    "start_time": "2022-10-28T00:25:57.914Z"
   },
   {
    "duration": 5,
    "start_time": "2022-10-28T00:26:04.385Z"
   },
   {
    "duration": 9,
    "start_time": "2022-10-28T00:26:07.824Z"
   },
   {
    "duration": 16,
    "start_time": "2022-10-28T00:26:44.632Z"
   },
   {
    "duration": 9,
    "start_time": "2022-10-28T00:27:15.956Z"
   },
   {
    "duration": 11,
    "start_time": "2022-10-28T00:27:27.772Z"
   },
   {
    "duration": 163,
    "start_time": "2022-10-28T00:27:27.784Z"
   },
   {
    "duration": 11,
    "start_time": "2022-10-28T00:27:27.952Z"
   },
   {
    "duration": 20,
    "start_time": "2022-10-28T00:27:27.965Z"
   },
   {
    "duration": 15,
    "start_time": "2022-10-28T00:27:27.986Z"
   },
   {
    "duration": 53,
    "start_time": "2022-10-28T00:27:28.003Z"
   },
   {
    "duration": 55,
    "start_time": "2022-10-28T00:27:28.058Z"
   },
   {
    "duration": 85,
    "start_time": "2022-10-28T00:27:28.114Z"
   },
   {
    "duration": 29,
    "start_time": "2022-10-28T00:27:28.200Z"
   },
   {
    "duration": 5,
    "start_time": "2022-10-28T00:27:28.243Z"
   },
   {
    "duration": 35,
    "start_time": "2022-10-28T00:27:28.250Z"
   },
   {
    "duration": 5,
    "start_time": "2022-10-28T00:27:28.287Z"
   },
   {
    "duration": 23,
    "start_time": "2022-10-28T00:27:28.293Z"
   },
   {
    "duration": 44,
    "start_time": "2022-10-28T00:27:28.317Z"
   },
   {
    "duration": 217,
    "start_time": "2022-10-28T00:27:28.363Z"
   },
   {
    "duration": 20,
    "start_time": "2022-10-28T00:27:28.584Z"
   },
   {
    "duration": 79,
    "start_time": "2022-10-28T00:27:28.606Z"
   },
   {
    "duration": 6,
    "start_time": "2022-10-28T00:27:28.686Z"
   },
   {
    "duration": 8,
    "start_time": "2022-10-28T00:27:28.694Z"
   },
   {
    "duration": 51,
    "start_time": "2022-10-28T00:27:28.703Z"
   },
   {
    "duration": 106,
    "start_time": "2022-10-28T00:27:28.755Z"
   },
   {
    "duration": 24,
    "start_time": "2022-10-28T00:27:28.863Z"
   },
   {
    "duration": 189,
    "start_time": "2022-10-28T00:27:28.889Z"
   },
   {
    "duration": 216,
    "start_time": "2022-10-28T00:27:29.080Z"
   },
   {
    "duration": 10,
    "start_time": "2022-10-28T00:27:29.298Z"
   },
   {
    "duration": 9,
    "start_time": "2022-10-28T00:27:45.675Z"
   },
   {
    "duration": 6,
    "start_time": "2022-10-28T00:31:14.133Z"
   },
   {
    "duration": 12,
    "start_time": "2022-10-28T00:31:18.117Z"
   },
   {
    "duration": 1099,
    "start_time": "2022-10-28T00:31:33.558Z"
   },
   {
    "duration": 164,
    "start_time": "2022-10-28T00:31:34.659Z"
   },
   {
    "duration": 18,
    "start_time": "2022-10-28T00:31:34.825Z"
   },
   {
    "duration": 19,
    "start_time": "2022-10-28T00:31:34.845Z"
   },
   {
    "duration": 15,
    "start_time": "2022-10-28T00:31:34.866Z"
   },
   {
    "duration": 29,
    "start_time": "2022-10-28T00:31:34.883Z"
   },
   {
    "duration": 78,
    "start_time": "2022-10-28T00:31:34.913Z"
   },
   {
    "duration": 66,
    "start_time": "2022-10-28T00:31:34.993Z"
   },
   {
    "duration": 32,
    "start_time": "2022-10-28T00:31:35.061Z"
   },
   {
    "duration": 5,
    "start_time": "2022-10-28T00:31:35.094Z"
   },
   {
    "duration": 41,
    "start_time": "2022-10-28T00:31:35.100Z"
   },
   {
    "duration": 5,
    "start_time": "2022-10-28T00:31:35.143Z"
   },
   {
    "duration": 22,
    "start_time": "2022-10-28T00:31:35.149Z"
   },
   {
    "duration": 20,
    "start_time": "2022-10-28T00:31:35.174Z"
   },
   {
    "duration": 205,
    "start_time": "2022-10-28T00:31:35.195Z"
   },
   {
    "duration": 36,
    "start_time": "2022-10-28T00:31:35.402Z"
   },
   {
    "duration": 59,
    "start_time": "2022-10-28T00:31:35.440Z"
   },
   {
    "duration": 5,
    "start_time": "2022-10-28T00:31:35.500Z"
   },
   {
    "duration": 7,
    "start_time": "2022-10-28T00:31:35.507Z"
   },
   {
    "duration": 42,
    "start_time": "2022-10-28T00:31:35.515Z"
   },
   {
    "duration": 110,
    "start_time": "2022-10-28T00:31:35.559Z"
   },
   {
    "duration": 21,
    "start_time": "2022-10-28T00:31:35.671Z"
   },
   {
    "duration": 166,
    "start_time": "2022-10-28T00:31:35.693Z"
   },
   {
    "duration": 202,
    "start_time": "2022-10-28T00:31:35.861Z"
   },
   {
    "duration": 12,
    "start_time": "2022-10-28T00:31:36.064Z"
   },
   {
    "duration": 101,
    "start_time": "2022-10-28T00:33:32.407Z"
   },
   {
    "duration": 1098,
    "start_time": "2022-10-28T00:33:52.635Z"
   },
   {
    "duration": 157,
    "start_time": "2022-10-28T00:33:53.735Z"
   },
   {
    "duration": 20,
    "start_time": "2022-10-28T00:33:53.894Z"
   },
   {
    "duration": 31,
    "start_time": "2022-10-28T00:33:53.916Z"
   },
   {
    "duration": 13,
    "start_time": "2022-10-28T00:33:53.950Z"
   },
   {
    "duration": 28,
    "start_time": "2022-10-28T00:33:53.965Z"
   },
   {
    "duration": 76,
    "start_time": "2022-10-28T00:33:53.995Z"
   },
   {
    "duration": 52,
    "start_time": "2022-10-28T00:33:54.073Z"
   },
   {
    "duration": 42,
    "start_time": "2022-10-28T00:33:54.126Z"
   },
   {
    "duration": 5,
    "start_time": "2022-10-28T00:33:54.169Z"
   },
   {
    "duration": 27,
    "start_time": "2022-10-28T00:33:54.175Z"
   },
   {
    "duration": 6,
    "start_time": "2022-10-28T00:33:54.203Z"
   },
   {
    "duration": 48,
    "start_time": "2022-10-28T00:33:54.210Z"
   },
   {
    "duration": 26,
    "start_time": "2022-10-28T00:33:54.262Z"
   },
   {
    "duration": 203,
    "start_time": "2022-10-28T00:33:54.290Z"
   },
   {
    "duration": 25,
    "start_time": "2022-10-28T00:33:54.495Z"
   },
   {
    "duration": 66,
    "start_time": "2022-10-28T00:33:54.522Z"
   },
   {
    "duration": 5,
    "start_time": "2022-10-28T00:33:54.590Z"
   },
   {
    "duration": 61,
    "start_time": "2022-10-28T00:33:54.596Z"
   },
   {
    "duration": 24,
    "start_time": "2022-10-28T00:33:54.658Z"
   },
   {
    "duration": 95,
    "start_time": "2022-10-28T00:33:54.684Z"
   },
   {
    "duration": 23,
    "start_time": "2022-10-28T00:33:54.781Z"
   },
   {
    "duration": 170,
    "start_time": "2022-10-28T00:33:54.806Z"
   },
   {
    "duration": 217,
    "start_time": "2022-10-28T00:33:54.977Z"
   },
   {
    "duration": 113,
    "start_time": "2022-10-28T00:33:55.195Z"
   },
   {
    "duration": 12,
    "start_time": "2022-10-28T00:34:19.085Z"
   },
   {
    "duration": 1090,
    "start_time": "2022-10-28T00:34:33.257Z"
   },
   {
    "duration": 166,
    "start_time": "2022-10-28T00:34:34.349Z"
   },
   {
    "duration": 25,
    "start_time": "2022-10-28T00:34:34.518Z"
   },
   {
    "duration": 19,
    "start_time": "2022-10-28T00:34:34.546Z"
   },
   {
    "duration": 23,
    "start_time": "2022-10-28T00:34:34.567Z"
   },
   {
    "duration": 58,
    "start_time": "2022-10-28T00:34:34.592Z"
   },
   {
    "duration": 55,
    "start_time": "2022-10-28T00:34:34.652Z"
   },
   {
    "duration": 75,
    "start_time": "2022-10-28T00:34:34.710Z"
   },
   {
    "duration": 34,
    "start_time": "2022-10-28T00:34:34.786Z"
   },
   {
    "duration": 16,
    "start_time": "2022-10-28T00:34:34.823Z"
   },
   {
    "duration": 25,
    "start_time": "2022-10-28T00:34:34.840Z"
   },
   {
    "duration": 5,
    "start_time": "2022-10-28T00:34:34.866Z"
   },
   {
    "duration": 26,
    "start_time": "2022-10-28T00:34:34.872Z"
   },
   {
    "duration": 41,
    "start_time": "2022-10-28T00:34:34.900Z"
   },
   {
    "duration": 168,
    "start_time": "2022-10-28T00:34:34.943Z"
   },
   {
    "duration": 32,
    "start_time": "2022-10-28T00:34:35.112Z"
   },
   {
    "duration": 55,
    "start_time": "2022-10-28T00:34:35.146Z"
   },
   {
    "duration": 5,
    "start_time": "2022-10-28T00:34:35.203Z"
   },
   {
    "duration": 8,
    "start_time": "2022-10-28T00:34:35.210Z"
   },
   {
    "duration": 31,
    "start_time": "2022-10-28T00:34:35.238Z"
   },
   {
    "duration": 104,
    "start_time": "2022-10-28T00:34:35.271Z"
   },
   {
    "duration": 22,
    "start_time": "2022-10-28T00:34:35.377Z"
   },
   {
    "duration": 172,
    "start_time": "2022-10-28T00:34:35.401Z"
   },
   {
    "duration": 201,
    "start_time": "2022-10-28T00:34:35.575Z"
   },
   {
    "duration": 12,
    "start_time": "2022-10-28T00:34:35.777Z"
   },
   {
    "duration": 105,
    "start_time": "2022-10-28T00:36:19.436Z"
   },
   {
    "duration": 12,
    "start_time": "2022-10-28T00:37:17.642Z"
   },
   {
    "duration": 12,
    "start_time": "2022-10-28T00:37:24.786Z"
   },
   {
    "duration": 13,
    "start_time": "2022-10-28T00:37:57.425Z"
   },
   {
    "duration": 0,
    "start_time": "2022-10-28T00:38:55.589Z"
   },
   {
    "duration": 7,
    "start_time": "2022-10-28T00:39:04.241Z"
   },
   {
    "duration": 162,
    "start_time": "2022-10-28T00:39:04.249Z"
   },
   {
    "duration": 15,
    "start_time": "2022-10-28T00:39:04.413Z"
   },
   {
    "duration": 29,
    "start_time": "2022-10-28T00:39:04.430Z"
   },
   {
    "duration": 15,
    "start_time": "2022-10-28T00:39:04.460Z"
   },
   {
    "duration": 31,
    "start_time": "2022-10-28T00:39:04.477Z"
   },
   {
    "duration": 76,
    "start_time": "2022-10-28T00:39:04.510Z"
   },
   {
    "duration": 65,
    "start_time": "2022-10-28T00:39:04.587Z"
   },
   {
    "duration": 29,
    "start_time": "2022-10-28T00:39:04.653Z"
   },
   {
    "duration": 4,
    "start_time": "2022-10-28T00:39:04.683Z"
   },
   {
    "duration": 25,
    "start_time": "2022-10-28T00:39:04.688Z"
   },
   {
    "duration": 28,
    "start_time": "2022-10-28T00:39:04.714Z"
   },
   {
    "duration": 19,
    "start_time": "2022-10-28T00:39:04.744Z"
   },
   {
    "duration": 20,
    "start_time": "2022-10-28T00:39:04.764Z"
   },
   {
    "duration": 178,
    "start_time": "2022-10-28T00:39:04.785Z"
   },
   {
    "duration": 26,
    "start_time": "2022-10-28T00:39:04.965Z"
   },
   {
    "duration": 75,
    "start_time": "2022-10-28T00:39:04.993Z"
   },
   {
    "duration": 5,
    "start_time": "2022-10-28T00:39:05.070Z"
   },
   {
    "duration": 14,
    "start_time": "2022-10-28T00:39:05.076Z"
   },
   {
    "duration": 24,
    "start_time": "2022-10-28T00:39:05.091Z"
   },
   {
    "duration": 124,
    "start_time": "2022-10-28T00:39:05.116Z"
   },
   {
    "duration": 22,
    "start_time": "2022-10-28T00:39:05.242Z"
   },
   {
    "duration": 173,
    "start_time": "2022-10-28T00:39:05.266Z"
   },
   {
    "duration": 200,
    "start_time": "2022-10-28T00:39:05.441Z"
   },
   {
    "duration": 13,
    "start_time": "2022-10-28T00:39:05.642Z"
   },
   {
    "duration": 14,
    "start_time": "2022-10-28T00:39:24.873Z"
   },
   {
    "duration": 1114,
    "start_time": "2022-10-28T00:39:36.282Z"
   },
   {
    "duration": 157,
    "start_time": "2022-10-28T00:39:37.398Z"
   },
   {
    "duration": 18,
    "start_time": "2022-10-28T00:39:37.556Z"
   },
   {
    "duration": 18,
    "start_time": "2022-10-28T00:39:37.576Z"
   },
   {
    "duration": 13,
    "start_time": "2022-10-28T00:39:37.596Z"
   },
   {
    "duration": 53,
    "start_time": "2022-10-28T00:39:37.610Z"
   },
   {
    "duration": 51,
    "start_time": "2022-10-28T00:39:37.664Z"
   },
   {
    "duration": 68,
    "start_time": "2022-10-28T00:39:37.717Z"
   },
   {
    "duration": 33,
    "start_time": "2022-10-28T00:39:37.787Z"
   },
   {
    "duration": 16,
    "start_time": "2022-10-28T00:39:37.822Z"
   },
   {
    "duration": 26,
    "start_time": "2022-10-28T00:39:37.840Z"
   },
   {
    "duration": 5,
    "start_time": "2022-10-28T00:39:37.868Z"
   },
   {
    "duration": 22,
    "start_time": "2022-10-28T00:39:37.874Z"
   },
   {
    "duration": 49,
    "start_time": "2022-10-28T00:39:37.899Z"
   },
   {
    "duration": 171,
    "start_time": "2022-10-28T00:39:37.950Z"
   },
   {
    "duration": 38,
    "start_time": "2022-10-28T00:39:38.122Z"
   },
   {
    "duration": 59,
    "start_time": "2022-10-28T00:39:38.161Z"
   },
   {
    "duration": 17,
    "start_time": "2022-10-28T00:39:38.221Z"
   },
   {
    "duration": 5,
    "start_time": "2022-10-28T00:39:38.240Z"
   },
   {
    "duration": 26,
    "start_time": "2022-10-28T00:39:38.247Z"
   },
   {
    "duration": 121,
    "start_time": "2022-10-28T00:39:38.275Z"
   },
   {
    "duration": 22,
    "start_time": "2022-10-28T00:39:38.398Z"
   },
   {
    "duration": 168,
    "start_time": "2022-10-28T00:39:38.421Z"
   },
   {
    "duration": 213,
    "start_time": "2022-10-28T00:39:38.590Z"
   },
   {
    "duration": 13,
    "start_time": "2022-10-28T00:39:38.805Z"
   },
   {
    "duration": 204,
    "start_time": "2022-10-28T00:41:21.645Z"
   },
   {
    "duration": 245,
    "start_time": "2022-10-28T00:41:27.196Z"
   },
   {
    "duration": 204,
    "start_time": "2022-10-28T00:42:37.603Z"
   },
   {
    "duration": 4,
    "start_time": "2022-10-28T01:45:12.299Z"
   },
   {
    "duration": 7,
    "start_time": "2022-10-28T01:45:16.707Z"
   },
   {
    "duration": 6,
    "start_time": "2022-10-28T01:45:33.892Z"
   },
   {
    "duration": 95,
    "start_time": "2022-10-28T01:45:54.882Z"
   },
   {
    "duration": 5,
    "start_time": "2022-10-28T01:45:58.995Z"
   },
   {
    "duration": 6,
    "start_time": "2022-10-28T01:46:02.962Z"
   },
   {
    "duration": 6,
    "start_time": "2022-10-28T01:46:10.875Z"
   },
   {
    "duration": 6,
    "start_time": "2022-10-28T01:46:40.763Z"
   },
   {
    "duration": 10,
    "start_time": "2022-10-28T01:46:51.540Z"
   },
   {
    "duration": 6,
    "start_time": "2022-10-28T01:47:02.158Z"
   },
   {
    "duration": 5,
    "start_time": "2022-10-28T01:47:14.445Z"
   },
   {
    "duration": 6,
    "start_time": "2022-10-28T01:47:23.521Z"
   },
   {
    "duration": 5,
    "start_time": "2022-10-28T01:48:03.504Z"
   },
   {
    "duration": 6,
    "start_time": "2022-10-28T01:48:08.272Z"
   },
   {
    "duration": 6,
    "start_time": "2022-10-28T01:48:36.368Z"
   },
   {
    "duration": 7,
    "start_time": "2022-10-28T01:48:42.176Z"
   },
   {
    "duration": 7,
    "start_time": "2022-10-28T01:49:21.376Z"
   },
   {
    "duration": 9,
    "start_time": "2022-10-28T01:49:26.824Z"
   },
   {
    "duration": 9,
    "start_time": "2022-10-28T01:49:36.094Z"
   },
   {
    "duration": 1112,
    "start_time": "2022-10-28T01:50:07.827Z"
   },
   {
    "duration": 158,
    "start_time": "2022-10-28T01:50:08.941Z"
   },
   {
    "duration": 19,
    "start_time": "2022-10-28T01:50:09.100Z"
   },
   {
    "duration": 31,
    "start_time": "2022-10-28T01:50:09.121Z"
   },
   {
    "duration": 14,
    "start_time": "2022-10-28T01:50:09.155Z"
   },
   {
    "duration": 29,
    "start_time": "2022-10-28T01:50:09.170Z"
   },
   {
    "duration": 73,
    "start_time": "2022-10-28T01:50:09.200Z"
   },
   {
    "duration": 68,
    "start_time": "2022-10-28T01:50:09.274Z"
   },
   {
    "duration": 33,
    "start_time": "2022-10-28T01:50:09.343Z"
   },
   {
    "duration": 4,
    "start_time": "2022-10-28T01:50:09.378Z"
   },
   {
    "duration": 29,
    "start_time": "2022-10-28T01:50:09.384Z"
   },
   {
    "duration": 5,
    "start_time": "2022-10-28T01:50:09.439Z"
   },
   {
    "duration": 23,
    "start_time": "2022-10-28T01:50:09.445Z"
   },
   {
    "duration": 23,
    "start_time": "2022-10-28T01:50:09.471Z"
   },
   {
    "duration": 200,
    "start_time": "2022-10-28T01:50:09.496Z"
   },
   {
    "duration": 27,
    "start_time": "2022-10-28T01:50:09.697Z"
   },
   {
    "duration": 67,
    "start_time": "2022-10-28T01:50:09.725Z"
   },
   {
    "duration": 6,
    "start_time": "2022-10-28T01:50:09.793Z"
   },
   {
    "duration": 7,
    "start_time": "2022-10-28T01:50:09.800Z"
   },
   {
    "duration": 48,
    "start_time": "2022-10-28T01:50:09.808Z"
   },
   {
    "duration": 107,
    "start_time": "2022-10-28T01:50:09.858Z"
   },
   {
    "duration": 22,
    "start_time": "2022-10-28T01:50:09.967Z"
   },
   {
    "duration": 174,
    "start_time": "2022-10-28T01:50:09.991Z"
   },
   {
    "duration": 209,
    "start_time": "2022-10-28T01:50:10.167Z"
   },
   {
    "duration": 9,
    "start_time": "2022-10-28T01:50:10.378Z"
   },
   {
    "duration": 12,
    "start_time": "2022-10-28T01:50:10.389Z"
   },
   {
    "duration": 215,
    "start_time": "2022-10-28T01:50:10.403Z"
   },
   {
    "duration": 9,
    "start_time": "2022-10-28T01:50:36.015Z"
   },
   {
    "duration": 8,
    "start_time": "2022-10-28T01:52:36.136Z"
   },
   {
    "duration": 11,
    "start_time": "2022-10-28T01:52:47.220Z"
   },
   {
    "duration": 1087,
    "start_time": "2022-10-28T01:52:56.654Z"
   },
   {
    "duration": 157,
    "start_time": "2022-10-28T01:52:57.742Z"
   },
   {
    "duration": 19,
    "start_time": "2022-10-28T01:52:57.900Z"
   },
   {
    "duration": 32,
    "start_time": "2022-10-28T01:52:57.921Z"
   },
   {
    "duration": 14,
    "start_time": "2022-10-28T01:52:57.956Z"
   },
   {
    "duration": 29,
    "start_time": "2022-10-28T01:52:57.972Z"
   },
   {
    "duration": 71,
    "start_time": "2022-10-28T01:52:58.003Z"
   },
   {
    "duration": 64,
    "start_time": "2022-10-28T01:52:58.075Z"
   },
   {
    "duration": 34,
    "start_time": "2022-10-28T01:52:58.141Z"
   },
   {
    "duration": 5,
    "start_time": "2022-10-28T01:52:58.176Z"
   },
   {
    "duration": 27,
    "start_time": "2022-10-28T01:52:58.183Z"
   },
   {
    "duration": 30,
    "start_time": "2022-10-28T01:52:58.212Z"
   },
   {
    "duration": 24,
    "start_time": "2022-10-28T01:52:58.244Z"
   },
   {
    "duration": 24,
    "start_time": "2022-10-28T01:52:58.271Z"
   },
   {
    "duration": 199,
    "start_time": "2022-10-28T01:52:58.297Z"
   },
   {
    "duration": 27,
    "start_time": "2022-10-28T01:52:58.498Z"
   },
   {
    "duration": 61,
    "start_time": "2022-10-28T01:52:58.539Z"
   },
   {
    "duration": 6,
    "start_time": "2022-10-28T01:52:58.602Z"
   },
   {
    "duration": 30,
    "start_time": "2022-10-28T01:52:58.610Z"
   },
   {
    "duration": 25,
    "start_time": "2022-10-28T01:52:58.642Z"
   },
   {
    "duration": 113,
    "start_time": "2022-10-28T01:52:58.669Z"
   },
   {
    "duration": 22,
    "start_time": "2022-10-28T01:52:58.785Z"
   },
   {
    "duration": 184,
    "start_time": "2022-10-28T01:52:58.809Z"
   },
   {
    "duration": 204,
    "start_time": "2022-10-28T01:52:58.995Z"
   },
   {
    "duration": 10,
    "start_time": "2022-10-28T01:52:59.201Z"
   },
   {
    "duration": 26,
    "start_time": "2022-10-28T01:52:59.213Z"
   },
   {
    "duration": 205,
    "start_time": "2022-10-28T01:52:59.241Z"
   },
   {
    "duration": 1110,
    "start_time": "2022-10-28T01:59:00.485Z"
   },
   {
    "duration": 191,
    "start_time": "2022-10-28T01:59:01.597Z"
   },
   {
    "duration": 20,
    "start_time": "2022-10-28T01:59:01.790Z"
   },
   {
    "duration": 28,
    "start_time": "2022-10-28T01:59:01.811Z"
   },
   {
    "duration": 14,
    "start_time": "2022-10-28T01:59:01.841Z"
   },
   {
    "duration": 35,
    "start_time": "2022-10-28T01:59:01.856Z"
   },
   {
    "duration": 58,
    "start_time": "2022-10-28T01:59:01.893Z"
   },
   {
    "duration": 93,
    "start_time": "2022-10-28T01:59:01.953Z"
   },
   {
    "duration": 32,
    "start_time": "2022-10-28T01:59:02.048Z"
   },
   {
    "duration": 5,
    "start_time": "2022-10-28T01:59:02.081Z"
   },
   {
    "duration": 74,
    "start_time": "2022-10-28T01:59:02.088Z"
   },
   {
    "duration": 5,
    "start_time": "2022-10-28T01:59:02.164Z"
   },
   {
    "duration": 24,
    "start_time": "2022-10-28T01:59:02.170Z"
   },
   {
    "duration": 20,
    "start_time": "2022-10-28T01:59:02.196Z"
   },
   {
    "duration": 191,
    "start_time": "2022-10-28T01:59:02.218Z"
   },
   {
    "duration": 33,
    "start_time": "2022-10-28T01:59:02.411Z"
   },
   {
    "duration": 54,
    "start_time": "2022-10-28T01:59:02.445Z"
   },
   {
    "duration": 5,
    "start_time": "2022-10-28T01:59:02.500Z"
   },
   {
    "duration": 9,
    "start_time": "2022-10-28T01:59:02.506Z"
   },
   {
    "duration": 43,
    "start_time": "2022-10-28T01:59:02.516Z"
   },
   {
    "duration": 101,
    "start_time": "2022-10-28T01:59:02.561Z"
   },
   {
    "duration": 21,
    "start_time": "2022-10-28T01:59:02.664Z"
   },
   {
    "duration": 168,
    "start_time": "2022-10-28T01:59:02.687Z"
   },
   {
    "duration": 196,
    "start_time": "2022-10-28T01:59:02.857Z"
   },
   {
    "duration": 9,
    "start_time": "2022-10-28T01:59:03.055Z"
   },
   {
    "duration": 12,
    "start_time": "2022-10-28T01:59:03.065Z"
   },
   {
    "duration": 216,
    "start_time": "2022-10-28T01:59:03.078Z"
   },
   {
    "duration": 1045,
    "start_time": "2022-10-28T02:00:14.480Z"
   },
   {
    "duration": 157,
    "start_time": "2022-10-28T02:00:15.527Z"
   },
   {
    "duration": 18,
    "start_time": "2022-10-28T02:00:15.686Z"
   },
   {
    "duration": 19,
    "start_time": "2022-10-28T02:00:15.706Z"
   },
   {
    "duration": 24,
    "start_time": "2022-10-28T02:00:15.728Z"
   },
   {
    "duration": 44,
    "start_time": "2022-10-28T02:00:15.753Z"
   },
   {
    "duration": 56,
    "start_time": "2022-10-28T02:00:15.799Z"
   },
   {
    "duration": 55,
    "start_time": "2022-10-28T02:00:15.856Z"
   },
   {
    "duration": 49,
    "start_time": "2022-10-28T02:00:15.912Z"
   },
   {
    "duration": 4,
    "start_time": "2022-10-28T02:00:15.963Z"
   },
   {
    "duration": 34,
    "start_time": "2022-10-28T02:00:15.968Z"
   },
   {
    "duration": 5,
    "start_time": "2022-10-28T02:00:16.003Z"
   },
   {
    "duration": 37,
    "start_time": "2022-10-28T02:00:16.009Z"
   },
   {
    "duration": 21,
    "start_time": "2022-10-28T02:00:16.048Z"
   },
   {
    "duration": 175,
    "start_time": "2022-10-28T02:00:16.071Z"
   },
   {
    "duration": 24,
    "start_time": "2022-10-28T02:00:16.248Z"
   },
   {
    "duration": 66,
    "start_time": "2022-10-28T02:00:16.274Z"
   },
   {
    "duration": 5,
    "start_time": "2022-10-28T02:00:16.341Z"
   },
   {
    "duration": 19,
    "start_time": "2022-10-28T02:00:16.347Z"
   },
   {
    "duration": 28,
    "start_time": "2022-10-28T02:00:16.367Z"
   },
   {
    "duration": 104,
    "start_time": "2022-10-28T02:00:16.396Z"
   },
   {
    "duration": 27,
    "start_time": "2022-10-28T02:00:16.501Z"
   },
   {
    "duration": 166,
    "start_time": "2022-10-28T02:00:16.529Z"
   },
   {
    "duration": 195,
    "start_time": "2022-10-28T02:00:16.697Z"
   },
   {
    "duration": 10,
    "start_time": "2022-10-28T02:00:16.894Z"
   },
   {
    "duration": 37,
    "start_time": "2022-10-28T02:00:16.905Z"
   },
   {
    "duration": 210,
    "start_time": "2022-10-28T02:00:16.944Z"
   },
   {
    "duration": 8,
    "start_time": "2022-10-28T02:01:58.524Z"
   },
   {
    "duration": 1087,
    "start_time": "2022-10-28T02:02:04.940Z"
   },
   {
    "duration": 158,
    "start_time": "2022-10-28T02:02:06.029Z"
   },
   {
    "duration": 18,
    "start_time": "2022-10-28T02:02:06.188Z"
   },
   {
    "duration": 18,
    "start_time": "2022-10-28T02:02:06.208Z"
   },
   {
    "duration": 14,
    "start_time": "2022-10-28T02:02:06.239Z"
   },
   {
    "duration": 28,
    "start_time": "2022-10-28T02:02:06.254Z"
   },
   {
    "duration": 70,
    "start_time": "2022-10-28T02:02:06.283Z"
   },
   {
    "duration": 51,
    "start_time": "2022-10-28T02:02:06.355Z"
   },
   {
    "duration": 49,
    "start_time": "2022-10-28T02:02:06.408Z"
   },
   {
    "duration": 5,
    "start_time": "2022-10-28T02:02:06.458Z"
   },
   {
    "duration": 25,
    "start_time": "2022-10-28T02:02:06.464Z"
   },
   {
    "duration": 5,
    "start_time": "2022-10-28T02:02:06.490Z"
   },
   {
    "duration": 43,
    "start_time": "2022-10-28T02:02:06.496Z"
   },
   {
    "duration": 21,
    "start_time": "2022-10-28T02:02:06.542Z"
   },
   {
    "duration": 177,
    "start_time": "2022-10-28T02:02:06.564Z"
   },
   {
    "duration": 25,
    "start_time": "2022-10-28T02:02:06.742Z"
   },
   {
    "duration": 74,
    "start_time": "2022-10-28T02:02:06.768Z"
   },
   {
    "duration": 5,
    "start_time": "2022-10-28T02:02:06.844Z"
   },
   {
    "duration": 9,
    "start_time": "2022-10-28T02:02:06.851Z"
   },
   {
    "duration": 25,
    "start_time": "2022-10-28T02:02:06.862Z"
   },
   {
    "duration": 115,
    "start_time": "2022-10-28T02:02:06.889Z"
   },
   {
    "duration": 22,
    "start_time": "2022-10-28T02:02:07.005Z"
   },
   {
    "duration": 202,
    "start_time": "2022-10-28T02:02:07.038Z"
   },
   {
    "duration": 220,
    "start_time": "2022-10-28T02:02:07.242Z"
   },
   {
    "duration": 9,
    "start_time": "2022-10-28T02:02:07.464Z"
   },
   {
    "duration": 12,
    "start_time": "2022-10-28T02:02:07.475Z"
   },
   {
    "duration": 207,
    "start_time": "2022-10-28T02:02:07.488Z"
   },
   {
    "duration": 1115,
    "start_time": "2022-10-28T02:05:34.013Z"
   },
   {
    "duration": 153,
    "start_time": "2022-10-28T02:05:35.129Z"
   },
   {
    "duration": 18,
    "start_time": "2022-10-28T02:05:35.284Z"
   },
   {
    "duration": 20,
    "start_time": "2022-10-28T02:05:35.303Z"
   },
   {
    "duration": 14,
    "start_time": "2022-10-28T02:05:35.338Z"
   },
   {
    "duration": 29,
    "start_time": "2022-10-28T02:05:35.354Z"
   },
   {
    "duration": 75,
    "start_time": "2022-10-28T02:05:35.384Z"
   },
   {
    "duration": 54,
    "start_time": "2022-10-28T02:05:35.460Z"
   },
   {
    "duration": 47,
    "start_time": "2022-10-28T02:05:35.515Z"
   },
   {
    "duration": 5,
    "start_time": "2022-10-28T02:05:35.563Z"
   },
   {
    "duration": 30,
    "start_time": "2022-10-28T02:05:35.570Z"
   },
   {
    "duration": 6,
    "start_time": "2022-10-28T02:05:35.601Z"
   },
   {
    "duration": 50,
    "start_time": "2022-10-28T02:05:35.608Z"
   },
   {
    "duration": 22,
    "start_time": "2022-10-28T02:05:35.662Z"
   },
   {
    "duration": 187,
    "start_time": "2022-10-28T02:05:35.685Z"
   },
   {
    "duration": 26,
    "start_time": "2022-10-28T02:05:35.873Z"
   },
   {
    "duration": 73,
    "start_time": "2022-10-28T02:05:35.900Z"
   },
   {
    "duration": 5,
    "start_time": "2022-10-28T02:05:35.974Z"
   },
   {
    "duration": 6,
    "start_time": "2022-10-28T02:05:35.980Z"
   },
   {
    "duration": 24,
    "start_time": "2022-10-28T02:05:35.988Z"
   },
   {
    "duration": 112,
    "start_time": "2022-10-28T02:05:36.013Z"
   },
   {
    "duration": 29,
    "start_time": "2022-10-28T02:05:36.127Z"
   },
   {
    "duration": 167,
    "start_time": "2022-10-28T02:05:36.158Z"
   },
   {
    "duration": 206,
    "start_time": "2022-10-28T02:05:36.327Z"
   },
   {
    "duration": 10,
    "start_time": "2022-10-28T02:05:36.534Z"
   },
   {
    "duration": 14,
    "start_time": "2022-10-28T02:05:36.545Z"
   },
   {
    "duration": 211,
    "start_time": "2022-10-28T02:05:36.560Z"
   },
   {
    "duration": 1077,
    "start_time": "2022-10-28T02:06:13.936Z"
   },
   {
    "duration": 157,
    "start_time": "2022-10-28T02:06:15.015Z"
   },
   {
    "duration": 18,
    "start_time": "2022-10-28T02:06:15.174Z"
   },
   {
    "duration": 21,
    "start_time": "2022-10-28T02:06:15.194Z"
   },
   {
    "duration": 34,
    "start_time": "2022-10-28T02:06:15.218Z"
   },
   {
    "duration": 32,
    "start_time": "2022-10-28T02:06:15.254Z"
   },
   {
    "duration": 76,
    "start_time": "2022-10-28T02:06:15.288Z"
   },
   {
    "duration": 54,
    "start_time": "2022-10-28T02:06:15.366Z"
   },
   {
    "duration": 46,
    "start_time": "2022-10-28T02:06:15.422Z"
   },
   {
    "duration": 5,
    "start_time": "2022-10-28T02:06:15.469Z"
   },
   {
    "duration": 28,
    "start_time": "2022-10-28T02:06:15.475Z"
   },
   {
    "duration": 5,
    "start_time": "2022-10-28T02:06:15.504Z"
   },
   {
    "duration": 44,
    "start_time": "2022-10-28T02:06:15.511Z"
   },
   {
    "duration": 21,
    "start_time": "2022-10-28T02:06:15.557Z"
   },
   {
    "duration": 183,
    "start_time": "2022-10-28T02:06:15.580Z"
   },
   {
    "duration": 26,
    "start_time": "2022-10-28T02:06:15.765Z"
   },
   {
    "duration": 70,
    "start_time": "2022-10-28T02:06:15.792Z"
   },
   {
    "duration": 5,
    "start_time": "2022-10-28T02:06:15.864Z"
   },
   {
    "duration": 10,
    "start_time": "2022-10-28T02:06:15.870Z"
   },
   {
    "duration": 25,
    "start_time": "2022-10-28T02:06:15.881Z"
   },
   {
    "duration": 106,
    "start_time": "2022-10-28T02:06:15.907Z"
   },
   {
    "duration": 30,
    "start_time": "2022-10-28T02:06:16.015Z"
   },
   {
    "duration": 158,
    "start_time": "2022-10-28T02:06:16.047Z"
   },
   {
    "duration": 195,
    "start_time": "2022-10-28T02:06:16.207Z"
   },
   {
    "duration": 12,
    "start_time": "2022-10-28T02:06:16.404Z"
   },
   {
    "duration": 26,
    "start_time": "2022-10-28T02:06:16.418Z"
   },
   {
    "duration": 212,
    "start_time": "2022-10-28T02:06:16.446Z"
   },
   {
    "duration": 8,
    "start_time": "2022-10-28T02:08:48.711Z"
   },
   {
    "duration": 6,
    "start_time": "2022-10-28T02:11:13.942Z"
   },
   {
    "duration": 70,
    "start_time": "2022-10-28T02:15:44.465Z"
   },
   {
    "duration": 9,
    "start_time": "2022-10-28T02:16:10.386Z"
   },
   {
    "duration": 8,
    "start_time": "2022-10-28T02:17:44.930Z"
   },
   {
    "duration": 1101,
    "start_time": "2022-10-28T02:17:52.629Z"
   },
   {
    "duration": 160,
    "start_time": "2022-10-28T02:17:53.732Z"
   },
   {
    "duration": 20,
    "start_time": "2022-10-28T02:17:53.893Z"
   },
   {
    "duration": 27,
    "start_time": "2022-10-28T02:17:53.914Z"
   },
   {
    "duration": 14,
    "start_time": "2022-10-28T02:17:53.943Z"
   },
   {
    "duration": 29,
    "start_time": "2022-10-28T02:17:53.958Z"
   },
   {
    "duration": 77,
    "start_time": "2022-10-28T02:17:53.989Z"
   },
   {
    "duration": 54,
    "start_time": "2022-10-28T02:17:54.067Z"
   },
   {
    "duration": 43,
    "start_time": "2022-10-28T02:17:54.122Z"
   },
   {
    "duration": 4,
    "start_time": "2022-10-28T02:17:54.167Z"
   },
   {
    "duration": 25,
    "start_time": "2022-10-28T02:17:54.172Z"
   },
   {
    "duration": 4,
    "start_time": "2022-10-28T02:17:54.199Z"
   },
   {
    "duration": 42,
    "start_time": "2022-10-28T02:17:54.204Z"
   },
   {
    "duration": 19,
    "start_time": "2022-10-28T02:17:54.248Z"
   },
   {
    "duration": 186,
    "start_time": "2022-10-28T02:17:54.269Z"
   },
   {
    "duration": 25,
    "start_time": "2022-10-28T02:17:54.456Z"
   },
   {
    "duration": 78,
    "start_time": "2022-10-28T02:17:54.482Z"
   },
   {
    "duration": 6,
    "start_time": "2022-10-28T02:17:54.562Z"
   },
   {
    "duration": 7,
    "start_time": "2022-10-28T02:17:54.569Z"
   },
   {
    "duration": 23,
    "start_time": "2022-10-28T02:17:54.578Z"
   },
   {
    "duration": 123,
    "start_time": "2022-10-28T02:17:54.602Z"
   },
   {
    "duration": 30,
    "start_time": "2022-10-28T02:17:54.727Z"
   },
   {
    "duration": 164,
    "start_time": "2022-10-28T02:17:54.759Z"
   },
   {
    "duration": 199,
    "start_time": "2022-10-28T02:17:54.925Z"
   },
   {
    "duration": 15,
    "start_time": "2022-10-28T02:17:55.126Z"
   },
   {
    "duration": 15,
    "start_time": "2022-10-28T02:17:55.142Z"
   },
   {
    "duration": 13,
    "start_time": "2022-10-28T02:17:55.158Z"
   },
   {
    "duration": 197,
    "start_time": "2022-10-28T02:17:55.174Z"
   },
   {
    "duration": 9,
    "start_time": "2022-10-28T02:18:31.360Z"
   },
   {
    "duration": 1086,
    "start_time": "2022-10-28T02:18:39.665Z"
   },
   {
    "duration": 169,
    "start_time": "2022-10-28T02:18:40.753Z"
   },
   {
    "duration": 23,
    "start_time": "2022-10-28T02:18:40.923Z"
   },
   {
    "duration": 19,
    "start_time": "2022-10-28T02:18:40.947Z"
   },
   {
    "duration": 14,
    "start_time": "2022-10-28T02:18:40.968Z"
   },
   {
    "duration": 30,
    "start_time": "2022-10-28T02:18:40.983Z"
   },
   {
    "duration": 70,
    "start_time": "2022-10-28T02:18:41.015Z"
   },
   {
    "duration": 64,
    "start_time": "2022-10-28T02:18:41.086Z"
   },
   {
    "duration": 33,
    "start_time": "2022-10-28T02:18:41.152Z"
   },
   {
    "duration": 4,
    "start_time": "2022-10-28T02:18:41.187Z"
   },
   {
    "duration": 40,
    "start_time": "2022-10-28T02:18:41.193Z"
   },
   {
    "duration": 4,
    "start_time": "2022-10-28T02:18:41.239Z"
   },
   {
    "duration": 30,
    "start_time": "2022-10-28T02:18:41.245Z"
   },
   {
    "duration": 20,
    "start_time": "2022-10-28T02:18:41.277Z"
   },
   {
    "duration": 182,
    "start_time": "2022-10-28T02:18:41.298Z"
   },
   {
    "duration": 25,
    "start_time": "2022-10-28T02:18:41.481Z"
   },
   {
    "duration": 70,
    "start_time": "2022-10-28T02:18:41.508Z"
   },
   {
    "duration": 5,
    "start_time": "2022-10-28T02:18:41.579Z"
   },
   {
    "duration": 14,
    "start_time": "2022-10-28T02:18:41.585Z"
   },
   {
    "duration": 24,
    "start_time": "2022-10-28T02:18:41.600Z"
   },
   {
    "duration": 105,
    "start_time": "2022-10-28T02:18:41.638Z"
   },
   {
    "duration": 25,
    "start_time": "2022-10-28T02:18:41.745Z"
   },
   {
    "duration": 185,
    "start_time": "2022-10-28T02:18:41.772Z"
   },
   {
    "duration": 199,
    "start_time": "2022-10-28T02:18:41.958Z"
   },
   {
    "duration": 9,
    "start_time": "2022-10-28T02:18:42.158Z"
   },
   {
    "duration": 13,
    "start_time": "2022-10-28T02:18:42.169Z"
   },
   {
    "duration": 13,
    "start_time": "2022-10-28T02:18:42.183Z"
   },
   {
    "duration": 201,
    "start_time": "2022-10-28T02:18:42.197Z"
   },
   {
    "duration": 10,
    "start_time": "2022-10-28T02:18:46.469Z"
   },
   {
    "duration": 1106,
    "start_time": "2022-10-28T02:19:18.126Z"
   },
   {
    "duration": 157,
    "start_time": "2022-10-28T02:19:19.233Z"
   },
   {
    "duration": 18,
    "start_time": "2022-10-28T02:19:19.394Z"
   },
   {
    "duration": 33,
    "start_time": "2022-10-28T02:19:19.414Z"
   },
   {
    "duration": 14,
    "start_time": "2022-10-28T02:19:19.449Z"
   },
   {
    "duration": 31,
    "start_time": "2022-10-28T02:19:19.464Z"
   },
   {
    "duration": 79,
    "start_time": "2022-10-28T02:19:19.496Z"
   },
   {
    "duration": 61,
    "start_time": "2022-10-28T02:19:19.577Z"
   },
   {
    "duration": 31,
    "start_time": "2022-10-28T02:19:19.639Z"
   },
   {
    "duration": 4,
    "start_time": "2022-10-28T02:19:19.671Z"
   },
   {
    "duration": 26,
    "start_time": "2022-10-28T02:19:19.677Z"
   },
   {
    "duration": 5,
    "start_time": "2022-10-28T02:19:19.705Z"
   },
   {
    "duration": 22,
    "start_time": "2022-10-28T02:19:19.738Z"
   },
   {
    "duration": 22,
    "start_time": "2022-10-28T02:19:19.762Z"
   },
   {
    "duration": 175,
    "start_time": "2022-10-28T02:19:19.786Z"
   },
   {
    "duration": 25,
    "start_time": "2022-10-28T02:19:19.962Z"
   },
   {
    "duration": 74,
    "start_time": "2022-10-28T02:19:19.988Z"
   },
   {
    "duration": 6,
    "start_time": "2022-10-28T02:19:20.063Z"
   },
   {
    "duration": 8,
    "start_time": "2022-10-28T02:19:20.070Z"
   },
   {
    "duration": 23,
    "start_time": "2022-10-28T02:19:20.079Z"
   },
   {
    "duration": 114,
    "start_time": "2022-10-28T02:19:20.104Z"
   },
   {
    "duration": 29,
    "start_time": "2022-10-28T02:19:20.219Z"
   },
   {
    "duration": 173,
    "start_time": "2022-10-28T02:19:20.250Z"
   },
   {
    "duration": 203,
    "start_time": "2022-10-28T02:19:20.425Z"
   },
   {
    "duration": 15,
    "start_time": "2022-10-28T02:19:20.629Z"
   },
   {
    "duration": 27,
    "start_time": "2022-10-28T02:19:20.646Z"
   },
   {
    "duration": 14,
    "start_time": "2022-10-28T02:19:20.675Z"
   },
   {
    "duration": 194,
    "start_time": "2022-10-28T02:19:20.691Z"
   },
   {
    "duration": 2,
    "start_time": "2022-10-28T14:48:24.382Z"
   },
   {
    "duration": 160,
    "start_time": "2022-10-28T14:48:24.386Z"
   },
   {
    "duration": 13,
    "start_time": "2022-10-28T14:48:24.547Z"
   },
   {
    "duration": 18,
    "start_time": "2022-10-28T14:48:24.561Z"
   },
   {
    "duration": 13,
    "start_time": "2022-10-28T14:48:24.580Z"
   },
   {
    "duration": 58,
    "start_time": "2022-10-28T14:48:24.594Z"
   },
   {
    "duration": 51,
    "start_time": "2022-10-28T14:48:24.653Z"
   },
   {
    "duration": 73,
    "start_time": "2022-10-28T14:48:24.705Z"
   },
   {
    "duration": 28,
    "start_time": "2022-10-28T14:48:24.780Z"
   },
   {
    "duration": 44,
    "start_time": "2022-10-28T14:48:24.810Z"
   },
   {
    "duration": 24,
    "start_time": "2022-10-28T14:48:24.856Z"
   },
   {
    "duration": 5,
    "start_time": "2022-10-28T14:48:24.881Z"
   },
   {
    "duration": 23,
    "start_time": "2022-10-28T14:48:24.888Z"
   },
   {
    "duration": 33,
    "start_time": "2022-10-28T14:48:24.913Z"
   },
   {
    "duration": 165,
    "start_time": "2022-10-28T14:48:24.948Z"
   },
   {
    "duration": 34,
    "start_time": "2022-10-28T14:48:25.115Z"
   },
   {
    "duration": 55,
    "start_time": "2022-10-28T14:48:25.151Z"
   },
   {
    "duration": 21,
    "start_time": "2022-10-28T14:48:25.207Z"
   },
   {
    "duration": 10,
    "start_time": "2022-10-28T14:48:25.236Z"
   },
   {
    "duration": 27,
    "start_time": "2022-10-28T14:48:25.248Z"
   },
   {
    "duration": 103,
    "start_time": "2022-10-28T14:48:25.277Z"
   },
   {
    "duration": 21,
    "start_time": "2022-10-28T14:48:25.382Z"
   },
   {
    "duration": 204,
    "start_time": "2022-10-28T14:48:25.405Z"
   },
   {
    "duration": 249,
    "start_time": "2022-10-28T14:48:25.611Z"
   },
   {
    "duration": 10,
    "start_time": "2022-10-28T14:48:25.862Z"
   },
   {
    "duration": 15,
    "start_time": "2022-10-28T14:48:25.874Z"
   },
   {
    "duration": 17,
    "start_time": "2022-10-28T14:48:25.890Z"
   },
   {
    "duration": 271,
    "start_time": "2022-10-28T14:48:25.909Z"
   },
   {
    "duration": 97,
    "start_time": "2022-10-28T15:55:35.968Z"
   },
   {
    "duration": 8,
    "start_time": "2022-10-28T15:55:42.506Z"
   },
   {
    "duration": 58,
    "start_time": "2022-10-28T15:55:47.290Z"
   },
   {
    "duration": 65,
    "start_time": "2022-10-28T15:55:53.714Z"
   },
   {
    "duration": 74,
    "start_time": "2022-10-28T15:59:12.615Z"
   },
   {
    "duration": 62,
    "start_time": "2022-10-28T15:59:35.246Z"
   },
   {
    "duration": 13,
    "start_time": "2022-10-28T16:00:57.206Z"
   },
   {
    "duration": 66,
    "start_time": "2022-10-28T16:01:14.445Z"
   },
   {
    "duration": 99,
    "start_time": "2022-10-28T16:07:22.823Z"
   },
   {
    "duration": 9,
    "start_time": "2022-10-28T16:08:33.254Z"
   },
   {
    "duration": 8,
    "start_time": "2022-10-28T16:12:05.611Z"
   },
   {
    "duration": 8,
    "start_time": "2022-10-28T16:12:39.587Z"
   },
   {
    "duration": 12,
    "start_time": "2022-10-28T16:13:18.778Z"
   },
   {
    "duration": 1201,
    "start_time": "2022-10-28T16:13:46.808Z"
   },
   {
    "duration": 167,
    "start_time": "2022-10-28T16:13:48.011Z"
   },
   {
    "duration": 20,
    "start_time": "2022-10-28T16:13:48.180Z"
   },
   {
    "duration": 31,
    "start_time": "2022-10-28T16:13:48.203Z"
   },
   {
    "duration": 28,
    "start_time": "2022-10-28T16:13:48.236Z"
   },
   {
    "duration": 51,
    "start_time": "2022-10-28T16:13:48.265Z"
   },
   {
    "duration": 58,
    "start_time": "2022-10-28T16:13:48.318Z"
   },
   {
    "duration": 69,
    "start_time": "2022-10-28T16:13:48.378Z"
   },
   {
    "duration": 35,
    "start_time": "2022-10-28T16:13:48.448Z"
   },
   {
    "duration": 5,
    "start_time": "2022-10-28T16:13:48.486Z"
   },
   {
    "duration": 49,
    "start_time": "2022-10-28T16:13:48.493Z"
   },
   {
    "duration": 5,
    "start_time": "2022-10-28T16:13:48.544Z"
   },
   {
    "duration": 21,
    "start_time": "2022-10-28T16:13:48.551Z"
   },
   {
    "duration": 22,
    "start_time": "2022-10-28T16:13:48.574Z"
   },
   {
    "duration": 184,
    "start_time": "2022-10-28T16:13:48.622Z"
   },
   {
    "duration": 36,
    "start_time": "2022-10-28T16:13:48.808Z"
   },
   {
    "duration": 90,
    "start_time": "2022-10-28T16:13:48.847Z"
   },
   {
    "duration": 6,
    "start_time": "2022-10-28T16:13:48.939Z"
   },
   {
    "duration": 15,
    "start_time": "2022-10-28T16:13:48.946Z"
   },
   {
    "duration": 35,
    "start_time": "2022-10-28T16:13:48.963Z"
   },
   {
    "duration": 135,
    "start_time": "2022-10-28T16:13:49.000Z"
   },
   {
    "duration": 27,
    "start_time": "2022-10-28T16:13:49.137Z"
   },
   {
    "duration": 175,
    "start_time": "2022-10-28T16:13:49.166Z"
   },
   {
    "duration": 212,
    "start_time": "2022-10-28T16:13:49.343Z"
   },
   {
    "duration": 9,
    "start_time": "2022-10-28T16:13:49.557Z"
   },
   {
    "duration": 10,
    "start_time": "2022-10-28T16:13:49.568Z"
   },
   {
    "duration": 18,
    "start_time": "2022-10-28T16:13:49.579Z"
   },
   {
    "duration": 235,
    "start_time": "2022-10-28T16:13:49.601Z"
   },
   {
    "duration": 10,
    "start_time": "2022-10-28T16:13:49.838Z"
   },
   {
    "duration": 28,
    "start_time": "2022-10-28T16:13:49.849Z"
   },
   {
    "duration": 9,
    "start_time": "2022-10-28T16:14:26.785Z"
   },
   {
    "duration": 62,
    "start_time": "2022-10-28T17:33:26.615Z"
   },
   {
    "duration": 57,
    "start_time": "2022-10-28T17:33:30.756Z"
   },
   {
    "duration": 1026,
    "start_time": "2022-10-28T17:35:34.948Z"
   },
   {
    "duration": 5,
    "start_time": "2022-10-28T17:36:41.107Z"
   },
   {
    "duration": 27,
    "start_time": "2022-10-28T17:36:46.411Z"
   },
   {
    "duration": 37,
    "start_time": "2022-10-28T17:37:55.170Z"
   },
   {
    "duration": 46,
    "start_time": "2022-10-28T17:38:00.013Z"
   },
   {
    "duration": 50,
    "start_time": "2022-10-28T17:38:39.794Z"
   },
   {
    "duration": 50,
    "start_time": "2022-10-28T17:38:44.386Z"
   },
   {
    "duration": 47,
    "start_time": "2022-10-28T17:38:56.161Z"
   },
   {
    "duration": 44,
    "start_time": "2022-10-28T17:39:01.442Z"
   },
   {
    "duration": 41,
    "start_time": "2022-10-28T17:39:15.248Z"
   },
   {
    "duration": 43,
    "start_time": "2022-10-28T17:40:28.617Z"
   },
   {
    "duration": 42,
    "start_time": "2022-10-28T17:40:30.811Z"
   },
   {
    "duration": 38,
    "start_time": "2022-10-28T17:40:33.040Z"
   },
   {
    "duration": 39,
    "start_time": "2022-10-28T17:40:43.040Z"
   },
   {
    "duration": 41,
    "start_time": "2022-10-28T17:41:18.087Z"
   },
   {
    "duration": 39,
    "start_time": "2022-10-28T17:41:30.757Z"
   },
   {
    "duration": 43,
    "start_time": "2022-10-28T17:42:26.461Z"
   },
   {
    "duration": 43,
    "start_time": "2022-10-28T17:42:37.186Z"
   },
   {
    "duration": 47,
    "start_time": "2022-10-28T17:42:43.100Z"
   },
   {
    "duration": 61,
    "start_time": "2022-10-28T17:45:07.275Z"
   },
   {
    "duration": 110,
    "start_time": "2022-10-28T17:45:11.171Z"
   },
   {
    "duration": 100,
    "start_time": "2022-10-28T17:45:18.835Z"
   },
   {
    "duration": 112,
    "start_time": "2022-10-28T17:45:24.537Z"
   },
   {
    "duration": 101,
    "start_time": "2022-10-28T17:46:47.891Z"
   },
   {
    "duration": 44,
    "start_time": "2022-10-28T17:47:54.516Z"
   },
   {
    "duration": 36,
    "start_time": "2022-10-28T17:47:57.533Z"
   },
   {
    "duration": 45,
    "start_time": "2022-10-28T17:48:06.801Z"
   },
   {
    "duration": 39,
    "start_time": "2022-10-28T17:48:13.726Z"
   },
   {
    "duration": 96,
    "start_time": "2022-10-28T17:48:43.726Z"
   },
   {
    "duration": 886,
    "start_time": "2022-10-28T17:49:18.391Z"
   },
   {
    "duration": 820,
    "start_time": "2022-10-28T17:49:22.630Z"
   },
   {
    "duration": 54,
    "start_time": "2022-10-28T17:49:33.679Z"
   },
   {
    "duration": 798,
    "start_time": "2022-10-28T17:50:23.833Z"
   },
   {
    "duration": 810,
    "start_time": "2022-10-28T17:50:36.785Z"
   },
   {
    "duration": 5,
    "start_time": "2022-10-28T17:50:39.632Z"
   },
   {
    "duration": 68,
    "start_time": "2022-10-28T17:50:45.414Z"
   },
   {
    "duration": 98,
    "start_time": "2022-10-28T17:51:26.869Z"
   },
   {
    "duration": 103,
    "start_time": "2022-10-28T17:51:30.078Z"
   },
   {
    "duration": 106,
    "start_time": "2022-10-28T17:53:50.643Z"
   },
   {
    "duration": 120,
    "start_time": "2022-10-28T17:53:56.731Z"
   },
   {
    "duration": 40,
    "start_time": "2022-10-28T17:54:22.186Z"
   },
   {
    "duration": 51,
    "start_time": "2022-10-28T17:54:25.547Z"
   },
   {
    "duration": 117,
    "start_time": "2022-10-28T17:54:28.179Z"
   },
   {
    "duration": 99,
    "start_time": "2022-10-28T17:55:16.938Z"
   },
   {
    "duration": 104,
    "start_time": "2022-10-28T17:56:49.760Z"
   },
   {
    "duration": 99,
    "start_time": "2022-10-28T17:56:55.016Z"
   },
   {
    "duration": 839,
    "start_time": "2022-10-28T17:57:26.303Z"
   },
   {
    "duration": 768,
    "start_time": "2022-10-28T17:57:31.256Z"
   },
   {
    "duration": 98,
    "start_time": "2022-10-28T17:58:09.199Z"
   },
   {
    "duration": 105,
    "start_time": "2022-10-28T17:58:15.911Z"
   },
   {
    "duration": 55,
    "start_time": "2022-10-28T17:58:48.942Z"
   },
   {
    "duration": 100,
    "start_time": "2022-10-28T17:58:51.680Z"
   },
   {
    "duration": 108,
    "start_time": "2022-10-28T17:59:13.903Z"
   },
   {
    "duration": 47,
    "start_time": "2022-10-28T17:59:17.220Z"
   },
   {
    "duration": 111,
    "start_time": "2022-10-28T17:59:19.423Z"
   },
   {
    "duration": 107,
    "start_time": "2022-10-28T17:59:52.126Z"
   },
   {
    "duration": 102,
    "start_time": "2022-10-28T18:00:41.956Z"
   },
   {
    "duration": 105,
    "start_time": "2022-10-28T18:00:50.707Z"
   },
   {
    "duration": 122,
    "start_time": "2022-10-28T18:01:11.624Z"
   },
   {
    "duration": 113,
    "start_time": "2022-10-28T18:01:24.202Z"
   },
   {
    "duration": 999,
    "start_time": "2022-10-28T18:01:32.357Z"
   },
   {
    "duration": 803,
    "start_time": "2022-10-28T18:01:40.591Z"
   },
   {
    "duration": 106,
    "start_time": "2022-10-28T18:01:51.221Z"
   },
   {
    "duration": 101,
    "start_time": "2022-10-28T18:07:20.784Z"
   },
   {
    "duration": 939,
    "start_time": "2022-10-28T18:09:27.672Z"
   },
   {
    "duration": 870,
    "start_time": "2022-10-28T18:09:37.368Z"
   },
   {
    "duration": 791,
    "start_time": "2022-10-28T18:10:56.543Z"
   },
   {
    "duration": 1028,
    "start_time": "2022-10-28T18:11:02.751Z"
   },
   {
    "duration": 946,
    "start_time": "2022-10-28T18:11:31.975Z"
   },
   {
    "duration": 155,
    "start_time": "2022-10-28T18:12:41.799Z"
   },
   {
    "duration": 147,
    "start_time": "2022-10-28T18:12:48.157Z"
   },
   {
    "duration": 157,
    "start_time": "2022-10-28T18:12:52.069Z"
   },
   {
    "duration": 162,
    "start_time": "2022-10-28T18:13:22.205Z"
   },
   {
    "duration": 1082,
    "start_time": "2022-10-28T18:14:15.413Z"
   },
   {
    "duration": 800,
    "start_time": "2022-10-28T18:14:32.811Z"
   },
   {
    "duration": 116,
    "start_time": "2022-10-28T18:14:35.451Z"
   },
   {
    "duration": 114,
    "start_time": "2022-10-28T18:16:23.850Z"
   },
   {
    "duration": 140,
    "start_time": "2022-10-28T18:16:45.389Z"
   },
   {
    "duration": 150,
    "start_time": "2022-10-28T18:18:07.617Z"
   },
   {
    "duration": 149,
    "start_time": "2022-10-28T18:18:11.928Z"
   },
   {
    "duration": 159,
    "start_time": "2022-10-28T18:18:52.063Z"
   },
   {
    "duration": 151,
    "start_time": "2022-10-28T18:21:22.502Z"
   },
   {
    "duration": 147,
    "start_time": "2022-10-28T18:22:36.782Z"
   },
   {
    "duration": 150,
    "start_time": "2022-10-28T18:25:07.435Z"
   },
   {
    "duration": 11,
    "start_time": "2022-10-28T18:26:31.764Z"
   },
   {
    "duration": 183,
    "start_time": "2022-10-28T18:26:52.588Z"
   },
   {
    "duration": 181,
    "start_time": "2022-10-28T18:29:35.839Z"
   },
   {
    "duration": 150,
    "start_time": "2022-10-28T18:29:42.727Z"
   },
   {
    "duration": 232,
    "start_time": "2022-10-28T18:29:58.829Z"
   },
   {
    "duration": 147,
    "start_time": "2022-10-28T18:30:35.967Z"
   },
   {
    "duration": 8,
    "start_time": "2022-10-28T18:30:38.166Z"
   },
   {
    "duration": 876,
    "start_time": "2022-10-28T18:37:04.093Z"
   },
   {
    "duration": 138,
    "start_time": "2022-10-28T18:37:22.357Z"
   },
   {
    "duration": 813,
    "start_time": "2022-10-28T18:37:26.501Z"
   },
   {
    "duration": 114,
    "start_time": "2022-10-28T18:37:56.486Z"
   },
   {
    "duration": 115,
    "start_time": "2022-10-28T18:37:59.197Z"
   },
   {
    "duration": 145,
    "start_time": "2022-10-28T18:38:30.629Z"
   },
   {
    "duration": 198,
    "start_time": "2022-10-28T18:39:13.844Z"
   },
   {
    "duration": 166,
    "start_time": "2022-10-28T18:39:23.932Z"
   },
   {
    "duration": 154,
    "start_time": "2022-10-28T18:39:57.605Z"
   },
   {
    "duration": 53,
    "start_time": "2022-10-28T18:40:18.238Z"
   },
   {
    "duration": 152,
    "start_time": "2022-10-28T18:40:20.908Z"
   },
   {
    "duration": 40,
    "start_time": "2022-10-28T18:48:40.032Z"
   },
   {
    "duration": 62,
    "start_time": "2022-10-28T18:56:39.579Z"
   },
   {
    "duration": 9,
    "start_time": "2022-10-28T19:02:20.151Z"
   },
   {
    "duration": 3,
    "start_time": "2022-10-28T19:02:44.862Z"
   },
   {
    "duration": 3,
    "start_time": "2022-10-28T19:02:50.431Z"
   },
   {
    "duration": 5,
    "start_time": "2022-10-28T19:02:54.142Z"
   },
   {
    "duration": 56,
    "start_time": "2022-10-28T19:04:01.487Z"
   },
   {
    "duration": 4,
    "start_time": "2022-10-28T19:04:05.182Z"
   },
   {
    "duration": 4,
    "start_time": "2022-10-28T19:04:14.094Z"
   },
   {
    "duration": 47,
    "start_time": "2022-10-28T19:04:28.046Z"
   },
   {
    "duration": 9,
    "start_time": "2022-10-28T19:04:34.399Z"
   },
   {
    "duration": 45,
    "start_time": "2022-10-28T19:04:40.806Z"
   },
   {
    "duration": 4,
    "start_time": "2022-10-28T19:04:43.358Z"
   },
   {
    "duration": 4,
    "start_time": "2022-10-28T19:07:10.268Z"
   },
   {
    "duration": 5,
    "start_time": "2022-10-28T19:07:26.387Z"
   },
   {
    "duration": 9,
    "start_time": "2022-10-28T19:09:24.762Z"
   },
   {
    "duration": 4,
    "start_time": "2022-10-28T19:10:40.407Z"
   },
   {
    "duration": 4,
    "start_time": "2022-10-28T19:10:52.680Z"
   },
   {
    "duration": 5,
    "start_time": "2022-10-28T19:11:31.704Z"
   },
   {
    "duration": 42,
    "start_time": "2022-10-28T19:20:09.568Z"
   },
   {
    "duration": 3,
    "start_time": "2022-10-28T19:38:28.617Z"
   },
   {
    "duration": 8,
    "start_time": "2022-10-28T19:39:20.193Z"
   },
   {
    "duration": 6,
    "start_time": "2022-10-28T19:39:50.609Z"
   },
   {
    "duration": 7,
    "start_time": "2022-10-28T19:39:53.431Z"
   },
   {
    "duration": 46,
    "start_time": "2022-10-28T19:41:19.416Z"
   },
   {
    "duration": 5,
    "start_time": "2022-10-28T19:41:23.391Z"
   },
   {
    "duration": 19,
    "start_time": "2022-10-28T19:41:25.423Z"
   },
   {
    "duration": 4,
    "start_time": "2022-10-28T19:42:21.598Z"
   },
   {
    "duration": 12,
    "start_time": "2022-10-28T19:42:23.662Z"
   },
   {
    "duration": 3,
    "start_time": "2022-10-28T19:42:35.782Z"
   },
   {
    "duration": 11,
    "start_time": "2022-10-28T19:42:36.542Z"
   },
   {
    "duration": 4,
    "start_time": "2022-10-28T19:42:48.863Z"
   },
   {
    "duration": 17,
    "start_time": "2022-10-28T19:42:49.366Z"
   },
   {
    "duration": 21,
    "start_time": "2022-10-28T19:47:20.203Z"
   },
   {
    "duration": 18,
    "start_time": "2022-10-28T19:47:23.458Z"
   },
   {
    "duration": 4,
    "start_time": "2022-10-28T19:47:43.946Z"
   },
   {
    "duration": 12,
    "start_time": "2022-10-28T19:47:44.947Z"
   },
   {
    "duration": 4,
    "start_time": "2022-10-28T19:47:54.050Z"
   },
   {
    "duration": 8,
    "start_time": "2022-10-28T19:47:54.387Z"
   },
   {
    "duration": 3,
    "start_time": "2022-10-28T19:48:27.410Z"
   },
   {
    "duration": 8,
    "start_time": "2022-10-28T19:48:27.754Z"
   },
   {
    "duration": 16,
    "start_time": "2022-10-28T19:48:31.946Z"
   },
   {
    "duration": 4,
    "start_time": "2022-10-28T19:49:25.121Z"
   },
   {
    "duration": 14,
    "start_time": "2022-10-28T19:49:25.649Z"
   },
   {
    "duration": 8,
    "start_time": "2022-10-28T19:49:35.145Z"
   },
   {
    "duration": 3,
    "start_time": "2022-10-28T19:50:00.525Z"
   },
   {
    "duration": 8,
    "start_time": "2022-10-28T19:50:00.929Z"
   },
   {
    "duration": 13,
    "start_time": "2022-10-28T19:50:04.257Z"
   },
   {
    "duration": 4,
    "start_time": "2022-10-28T19:50:59.640Z"
   },
   {
    "duration": 692,
    "start_time": "2022-10-28T19:51:00.224Z"
   },
   {
    "duration": 3,
    "start_time": "2022-10-28T19:51:36.282Z"
   },
   {
    "duration": 513,
    "start_time": "2022-10-28T19:51:36.640Z"
   },
   {
    "duration": 3,
    "start_time": "2022-10-28T19:52:28.543Z"
   },
   {
    "duration": 746,
    "start_time": "2022-10-28T19:52:29.847Z"
   },
   {
    "duration": 3,
    "start_time": "2022-10-28T19:53:24.879Z"
   },
   {
    "duration": 670,
    "start_time": "2022-10-28T19:53:26.102Z"
   },
   {
    "duration": 4,
    "start_time": "2022-10-28T19:55:59.508Z"
   },
   {
    "duration": 15,
    "start_time": "2022-10-28T19:56:00.053Z"
   },
   {
    "duration": 4,
    "start_time": "2022-10-28T19:57:40.819Z"
   },
   {
    "duration": 14,
    "start_time": "2022-10-28T19:57:41.171Z"
   },
   {
    "duration": 14,
    "start_time": "2022-10-28T19:57:53.083Z"
   },
   {
    "duration": 4,
    "start_time": "2022-10-28T19:58:06.056Z"
   },
   {
    "duration": 674,
    "start_time": "2022-10-28T19:58:08.596Z"
   },
   {
    "duration": 3,
    "start_time": "2022-10-28T19:58:33.762Z"
   },
   {
    "duration": 723,
    "start_time": "2022-10-28T19:58:34.650Z"
   },
   {
    "duration": 3,
    "start_time": "2022-10-28T19:58:51.394Z"
   },
   {
    "duration": 6,
    "start_time": "2022-10-28T19:58:51.826Z"
   },
   {
    "duration": 3,
    "start_time": "2022-10-28T19:59:10.201Z"
   },
   {
    "duration": 667,
    "start_time": "2022-10-28T19:59:10.505Z"
   },
   {
    "duration": 3,
    "start_time": "2022-10-28T19:59:17.754Z"
   },
   {
    "duration": 7,
    "start_time": "2022-10-28T19:59:18.041Z"
   },
   {
    "duration": 3,
    "start_time": "2022-10-28T20:01:34.720Z"
   },
   {
    "duration": 7,
    "start_time": "2022-10-28T20:01:35.080Z"
   },
   {
    "duration": 3,
    "start_time": "2022-10-28T20:01:54.328Z"
   },
   {
    "duration": 6,
    "start_time": "2022-10-28T20:01:54.936Z"
   },
   {
    "duration": 3,
    "start_time": "2022-10-28T20:02:11.695Z"
   },
   {
    "duration": 11,
    "start_time": "2022-10-28T20:02:12.207Z"
   },
   {
    "duration": 4,
    "start_time": "2022-10-28T20:07:28.894Z"
   },
   {
    "duration": 13,
    "start_time": "2022-10-28T20:07:30.899Z"
   },
   {
    "duration": 3,
    "start_time": "2022-10-28T20:08:24.428Z"
   },
   {
    "duration": 12,
    "start_time": "2022-10-28T20:08:25.267Z"
   },
   {
    "duration": 4,
    "start_time": "2022-10-28T20:15:37.828Z"
   },
   {
    "duration": 12,
    "start_time": "2022-10-28T20:15:38.365Z"
   },
   {
    "duration": 3,
    "start_time": "2022-10-28T20:16:41.755Z"
   },
   {
    "duration": 6,
    "start_time": "2022-10-28T20:16:42.036Z"
   },
   {
    "duration": 3,
    "start_time": "2022-10-28T20:18:00.168Z"
   },
   {
    "duration": 717,
    "start_time": "2022-10-28T20:18:00.505Z"
   },
   {
    "duration": 3,
    "start_time": "2022-10-28T20:18:22.760Z"
   },
   {
    "duration": 7,
    "start_time": "2022-10-28T20:18:23.135Z"
   },
   {
    "duration": 41,
    "start_time": "2022-10-28T20:19:52.262Z"
   },
   {
    "duration": 6,
    "start_time": "2022-10-28T20:19:52.528Z"
   },
   {
    "duration": 3,
    "start_time": "2022-10-28T20:20:01.350Z"
   },
   {
    "duration": 12,
    "start_time": "2022-10-28T20:20:01.712Z"
   },
   {
    "duration": 3,
    "start_time": "2022-10-28T20:23:03.338Z"
   },
   {
    "duration": 7,
    "start_time": "2022-10-28T20:23:03.472Z"
   },
   {
    "duration": 3,
    "start_time": "2022-10-28T20:25:08.815Z"
   },
   {
    "duration": 13,
    "start_time": "2022-10-28T20:25:09.215Z"
   },
   {
    "duration": 3,
    "start_time": "2022-10-28T20:26:31.422Z"
   },
   {
    "duration": 15,
    "start_time": "2022-10-28T20:26:31.821Z"
   },
   {
    "duration": 4,
    "start_time": "2022-10-28T20:28:44.051Z"
   },
   {
    "duration": 14,
    "start_time": "2022-10-28T20:28:45.596Z"
   },
   {
    "duration": 3,
    "start_time": "2022-10-28T20:28:50.419Z"
   },
   {
    "duration": 25,
    "start_time": "2022-10-28T20:28:51.523Z"
   },
   {
    "duration": 4,
    "start_time": "2022-10-28T20:29:12.803Z"
   },
   {
    "duration": 13,
    "start_time": "2022-10-28T20:29:13.099Z"
   },
   {
    "duration": 4,
    "start_time": "2022-10-28T20:29:50.348Z"
   },
   {
    "duration": 553,
    "start_time": "2022-10-28T20:29:50.547Z"
   },
   {
    "duration": 3,
    "start_time": "2022-10-28T20:30:23.330Z"
   },
   {
    "duration": 14,
    "start_time": "2022-10-28T20:30:23.723Z"
   },
   {
    "duration": 42,
    "start_time": "2022-10-28T20:44:58.680Z"
   },
   {
    "duration": 13,
    "start_time": "2022-10-28T20:44:59.291Z"
   },
   {
    "duration": 54,
    "start_time": "2022-10-28T20:45:06.452Z"
   },
   {
    "duration": 13,
    "start_time": "2022-10-28T20:45:06.780Z"
   },
   {
    "duration": 3,
    "start_time": "2022-10-28T20:45:18.484Z"
   },
   {
    "duration": 12,
    "start_time": "2022-10-28T20:45:18.795Z"
   },
   {
    "duration": 3,
    "start_time": "2022-10-28T20:45:32.892Z"
   },
   {
    "duration": 4,
    "start_time": "2022-10-28T20:45:33.372Z"
   },
   {
    "duration": 148,
    "start_time": "2022-10-28T20:58:03.706Z"
   },
   {
    "duration": 5,
    "start_time": "2022-10-28T20:59:17.296Z"
   },
   {
    "duration": 5,
    "start_time": "2022-10-28T21:00:11.479Z"
   },
   {
    "duration": 10,
    "start_time": "2022-10-28T21:00:11.870Z"
   },
   {
    "duration": 15,
    "start_time": "2022-10-28T21:00:25.822Z"
   },
   {
    "duration": 9,
    "start_time": "2022-10-28T21:00:26.934Z"
   },
   {
    "duration": 3,
    "start_time": "2022-10-28T21:01:10.400Z"
   },
   {
    "duration": 5,
    "start_time": "2022-10-28T21:01:20.247Z"
   },
   {
    "duration": 11,
    "start_time": "2022-10-28T21:01:20.742Z"
   },
   {
    "duration": 5,
    "start_time": "2022-10-28T21:02:14.933Z"
   },
   {
    "duration": 9,
    "start_time": "2022-10-28T21:02:15.446Z"
   },
   {
    "duration": 6,
    "start_time": "2022-10-28T21:12:12.128Z"
   },
   {
    "duration": 61,
    "start_time": "2022-10-28T21:12:22.005Z"
   },
   {
    "duration": 50,
    "start_time": "2022-10-28T21:12:27.428Z"
   },
   {
    "duration": 9,
    "start_time": "2022-10-28T21:12:36.564Z"
   },
   {
    "duration": 11,
    "start_time": "2022-10-28T21:14:53.706Z"
   },
   {
    "duration": 11,
    "start_time": "2022-10-28T21:16:16.737Z"
   },
   {
    "duration": 10,
    "start_time": "2022-10-28T21:16:34.601Z"
   },
   {
    "duration": 48,
    "start_time": "2022-10-28T21:16:54.760Z"
   },
   {
    "duration": 10,
    "start_time": "2022-10-28T21:17:05.056Z"
   },
   {
    "duration": 12,
    "start_time": "2022-10-28T21:18:54.575Z"
   },
   {
    "duration": 9,
    "start_time": "2022-10-28T21:18:58.050Z"
   },
   {
    "duration": 12,
    "start_time": "2022-10-28T21:19:16.295Z"
   },
   {
    "duration": 12,
    "start_time": "2022-10-28T21:19:21.782Z"
   },
   {
    "duration": 9,
    "start_time": "2022-10-28T21:19:32.777Z"
   },
   {
    "duration": 12,
    "start_time": "2022-10-28T21:20:07.457Z"
   },
   {
    "duration": 12,
    "start_time": "2022-10-28T21:20:16.216Z"
   },
   {
    "duration": 16,
    "start_time": "2022-10-28T21:21:29.724Z"
   },
   {
    "duration": 37,
    "start_time": "2022-10-28T21:21:45.712Z"
   },
   {
    "duration": 32,
    "start_time": "2022-10-28T21:26:11.117Z"
   },
   {
    "duration": 24,
    "start_time": "2022-10-28T21:26:36.725Z"
   },
   {
    "duration": 29,
    "start_time": "2022-10-28T21:26:46.477Z"
   },
   {
    "duration": 1054,
    "start_time": "2022-10-28T21:26:59.463Z"
   },
   {
    "duration": 147,
    "start_time": "2022-10-28T21:27:00.520Z"
   },
   {
    "duration": 18,
    "start_time": "2022-10-28T21:27:00.669Z"
   },
   {
    "duration": 42,
    "start_time": "2022-10-28T21:27:00.689Z"
   },
   {
    "duration": 43,
    "start_time": "2022-10-28T21:27:00.733Z"
   },
   {
    "duration": 65,
    "start_time": "2022-10-28T21:27:00.778Z"
   },
   {
    "duration": 69,
    "start_time": "2022-10-28T21:27:00.845Z"
   },
   {
    "duration": 54,
    "start_time": "2022-10-28T21:27:00.916Z"
   },
   {
    "duration": 33,
    "start_time": "2022-10-28T21:27:00.972Z"
   },
   {
    "duration": 15,
    "start_time": "2022-10-28T21:27:01.006Z"
   },
   {
    "duration": 55,
    "start_time": "2022-10-28T21:27:01.023Z"
   },
   {
    "duration": 6,
    "start_time": "2022-10-28T21:27:01.080Z"
   },
   {
    "duration": 87,
    "start_time": "2022-10-28T21:27:01.087Z"
   },
   {
    "duration": 30,
    "start_time": "2022-10-28T21:27:01.177Z"
   },
   {
    "duration": 168,
    "start_time": "2022-10-28T21:27:01.209Z"
   },
   {
    "duration": 24,
    "start_time": "2022-10-28T21:27:01.379Z"
   },
   {
    "duration": 64,
    "start_time": "2022-10-28T21:27:01.405Z"
   },
   {
    "duration": 9,
    "start_time": "2022-10-28T21:27:01.470Z"
   },
   {
    "duration": 34,
    "start_time": "2022-10-28T21:27:01.480Z"
   },
   {
    "duration": 45,
    "start_time": "2022-10-28T21:27:01.516Z"
   },
   {
    "duration": 96,
    "start_time": "2022-10-28T21:27:01.562Z"
   },
   {
    "duration": 22,
    "start_time": "2022-10-28T21:27:01.660Z"
   },
   {
    "duration": 161,
    "start_time": "2022-10-28T21:27:01.683Z"
   },
   {
    "duration": 199,
    "start_time": "2022-10-28T21:27:01.846Z"
   },
   {
    "duration": 10,
    "start_time": "2022-10-28T21:27:02.048Z"
   },
   {
    "duration": 27,
    "start_time": "2022-10-28T21:27:02.059Z"
   },
   {
    "duration": 15,
    "start_time": "2022-10-28T21:27:02.087Z"
   },
   {
    "duration": 220,
    "start_time": "2022-10-28T21:27:02.103Z"
   },
   {
    "duration": 162,
    "start_time": "2022-10-28T21:27:02.325Z"
   },
   {
    "duration": 4,
    "start_time": "2022-10-28T21:27:02.489Z"
   },
   {
    "duration": 53,
    "start_time": "2022-10-28T21:27:02.495Z"
   },
   {
    "duration": 44,
    "start_time": "2022-10-28T21:27:02.549Z"
   },
   {
    "duration": 54,
    "start_time": "2022-10-28T21:35:14.391Z"
   },
   {
    "duration": 48,
    "start_time": "2022-10-28T21:35:19.722Z"
   },
   {
    "duration": 4,
    "start_time": "2022-10-28T21:35:29.714Z"
   },
   {
    "duration": 4,
    "start_time": "2022-10-28T21:37:15.032Z"
   },
   {
    "duration": 10,
    "start_time": "2022-10-28T21:38:08.090Z"
   },
   {
    "duration": 9,
    "start_time": "2022-10-28T21:38:13.731Z"
   },
   {
    "duration": 89,
    "start_time": "2022-10-28T21:38:23.411Z"
   },
   {
    "duration": 4,
    "start_time": "2022-10-28T21:38:33.509Z"
   },
   {
    "duration": 10,
    "start_time": "2022-10-28T21:38:34.511Z"
   },
   {
    "duration": 22,
    "start_time": "2022-10-28T21:38:34.912Z"
   },
   {
    "duration": 4,
    "start_time": "2022-10-28T21:39:43.120Z"
   },
   {
    "duration": 9,
    "start_time": "2022-10-28T21:39:43.808Z"
   },
   {
    "duration": 23,
    "start_time": "2022-10-28T21:39:44.175Z"
   },
   {
    "duration": 1115,
    "start_time": "2022-10-28T21:39:49.601Z"
   },
   {
    "duration": 146,
    "start_time": "2022-10-28T21:39:50.718Z"
   },
   {
    "duration": 18,
    "start_time": "2022-10-28T21:39:50.865Z"
   },
   {
    "duration": 17,
    "start_time": "2022-10-28T21:39:50.884Z"
   },
   {
    "duration": 22,
    "start_time": "2022-10-28T21:39:50.903Z"
   },
   {
    "duration": 35,
    "start_time": "2022-10-28T21:39:50.926Z"
   },
   {
    "duration": 63,
    "start_time": "2022-10-28T21:39:50.963Z"
   },
   {
    "duration": 55,
    "start_time": "2022-10-28T21:39:51.028Z"
   },
   {
    "duration": 49,
    "start_time": "2022-10-28T21:39:51.085Z"
   },
   {
    "duration": 5,
    "start_time": "2022-10-28T21:39:51.135Z"
   },
   {
    "duration": 29,
    "start_time": "2022-10-28T21:39:51.141Z"
   },
   {
    "duration": 5,
    "start_time": "2022-10-28T21:39:51.172Z"
   },
   {
    "duration": 24,
    "start_time": "2022-10-28T21:39:51.179Z"
   },
   {
    "duration": 22,
    "start_time": "2022-10-28T21:39:51.222Z"
   },
   {
    "duration": 186,
    "start_time": "2022-10-28T21:39:51.245Z"
   },
   {
    "duration": 24,
    "start_time": "2022-10-28T21:39:51.432Z"
   },
   {
    "duration": 68,
    "start_time": "2022-10-28T21:39:51.458Z"
   },
   {
    "duration": 4,
    "start_time": "2022-10-28T21:39:51.528Z"
   },
   {
    "duration": 14,
    "start_time": "2022-10-28T21:39:51.534Z"
   },
   {
    "duration": 23,
    "start_time": "2022-10-28T21:39:51.549Z"
   },
   {
    "duration": 112,
    "start_time": "2022-10-28T21:39:51.573Z"
   },
   {
    "duration": 22,
    "start_time": "2022-10-28T21:39:51.686Z"
   },
   {
    "duration": 165,
    "start_time": "2022-10-28T21:39:51.709Z"
   },
   {
    "duration": 200,
    "start_time": "2022-10-28T21:39:51.875Z"
   },
   {
    "duration": 10,
    "start_time": "2022-10-28T21:39:52.077Z"
   },
   {
    "duration": 15,
    "start_time": "2022-10-28T21:39:52.089Z"
   },
   {
    "duration": 24,
    "start_time": "2022-10-28T21:39:52.106Z"
   },
   {
    "duration": 205,
    "start_time": "2022-10-28T21:39:52.131Z"
   },
   {
    "duration": 158,
    "start_time": "2022-10-28T21:39:52.338Z"
   },
   {
    "duration": 5,
    "start_time": "2022-10-28T21:39:52.498Z"
   },
   {
    "duration": 9,
    "start_time": "2022-10-28T21:39:52.505Z"
   },
   {
    "duration": 11,
    "start_time": "2022-10-28T21:39:52.520Z"
   },
   {
    "duration": 24,
    "start_time": "2022-10-28T21:39:52.532Z"
   },
   {
    "duration": 43,
    "start_time": "2022-10-28T21:39:52.557Z"
   },
   {
    "duration": 96,
    "start_time": "2022-10-28T21:40:22.676Z"
   },
   {
    "duration": 9,
    "start_time": "2022-10-28T21:41:24.818Z"
   },
   {
    "duration": 50,
    "start_time": "2022-10-28T21:41:38.381Z"
   },
   {
    "duration": 23,
    "start_time": "2022-10-28T21:41:42.522Z"
   },
   {
    "duration": 26,
    "start_time": "2022-10-28T21:41:59.663Z"
   },
   {
    "duration": 11,
    "start_time": "2022-10-28T21:42:46.778Z"
   },
   {
    "duration": 658,
    "start_time": "2022-10-28T21:44:21.563Z"
   },
   {
    "duration": 28,
    "start_time": "2022-10-28T21:44:43.033Z"
   },
   {
    "duration": 24,
    "start_time": "2022-10-28T21:44:55.976Z"
   },
   {
    "duration": 8,
    "start_time": "2022-10-28T21:45:11.824Z"
   },
   {
    "duration": 372,
    "start_time": "2022-10-28T21:45:45.105Z"
   },
   {
    "duration": 26,
    "start_time": "2022-10-28T21:45:49.791Z"
   },
   {
    "duration": 12,
    "start_time": "2022-10-28T21:46:03.158Z"
   },
   {
    "duration": 25,
    "start_time": "2022-10-28T21:46:12.776Z"
   },
   {
    "duration": 542,
    "start_time": "2022-10-28T21:47:21.599Z"
   },
   {
    "duration": 15,
    "start_time": "2022-10-28T21:47:32.219Z"
   },
   {
    "duration": 44,
    "start_time": "2022-10-28T21:47:46.542Z"
   },
   {
    "duration": 21,
    "start_time": "2022-10-28T21:47:49.182Z"
   },
   {
    "duration": 25,
    "start_time": "2022-10-28T21:47:54.842Z"
   },
   {
    "duration": 26,
    "start_time": "2022-10-28T21:48:28.224Z"
   },
   {
    "duration": 26,
    "start_time": "2022-10-28T21:48:36.430Z"
   },
   {
    "duration": 26,
    "start_time": "2022-10-28T21:48:45.584Z"
   },
   {
    "duration": 16,
    "start_time": "2022-10-28T21:48:49.437Z"
   },
   {
    "duration": 4,
    "start_time": "2022-10-28T21:50:06.485Z"
   },
   {
    "duration": 9,
    "start_time": "2022-10-28T21:50:07.422Z"
   },
   {
    "duration": 14,
    "start_time": "2022-10-28T21:50:07.970Z"
   },
   {
    "duration": 5,
    "start_time": "2022-10-28T21:52:23.196Z"
   },
   {
    "duration": 8,
    "start_time": "2022-10-28T21:53:24.563Z"
   },
   {
    "duration": 4,
    "start_time": "2022-10-28T21:53:31.428Z"
   },
   {
    "duration": 14,
    "start_time": "2022-10-28T21:53:32.328Z"
   },
   {
    "duration": 4,
    "start_time": "2022-10-28T21:53:59.891Z"
   },
   {
    "duration": 13,
    "start_time": "2022-10-28T21:54:06.034Z"
   },
   {
    "duration": 4,
    "start_time": "2022-10-28T21:55:04.817Z"
   },
   {
    "duration": 5,
    "start_time": "2022-10-28T22:01:10.894Z"
   },
   {
    "duration": 4,
    "start_time": "2022-10-28T22:01:11.262Z"
   },
   {
    "duration": 13,
    "start_time": "2022-10-28T22:01:12.262Z"
   },
   {
    "duration": 12,
    "start_time": "2022-10-28T22:11:11.040Z"
   },
   {
    "duration": 12,
    "start_time": "2022-10-28T22:14:16.462Z"
   },
   {
    "duration": 13,
    "start_time": "2022-10-28T22:15:42.447Z"
   },
   {
    "duration": 53,
    "start_time": "2022-10-28T22:33:08.442Z"
   },
   {
    "duration": 50,
    "start_time": "2022-10-28T22:33:23.177Z"
   },
   {
    "duration": 47,
    "start_time": "2022-10-28T22:33:33.249Z"
   },
   {
    "duration": 1027,
    "start_time": "2022-10-28T22:34:01.769Z"
   },
   {
    "duration": 46,
    "start_time": "2022-10-28T22:34:13.721Z"
   },
   {
    "duration": 46,
    "start_time": "2022-10-28T22:34:27.584Z"
   },
   {
    "duration": 3,
    "start_time": "2022-10-28T22:34:35.983Z"
   },
   {
    "duration": 50,
    "start_time": "2022-10-28T22:34:40.454Z"
   },
   {
    "duration": 47,
    "start_time": "2022-10-28T22:35:12.124Z"
   },
   {
    "duration": 53,
    "start_time": "2022-10-28T22:35:34.596Z"
   },
   {
    "duration": 51,
    "start_time": "2022-10-28T22:35:41.172Z"
   },
   {
    "duration": 45,
    "start_time": "2022-10-28T22:36:01.931Z"
   },
   {
    "duration": 49,
    "start_time": "2022-10-28T22:36:05.380Z"
   },
   {
    "duration": 53,
    "start_time": "2022-10-28T22:36:22.724Z"
   },
   {
    "duration": 49,
    "start_time": "2022-10-28T22:37:26.393Z"
   },
   {
    "duration": 46,
    "start_time": "2022-10-28T22:37:41.633Z"
   },
   {
    "duration": 49,
    "start_time": "2022-10-28T22:38:32.981Z"
   },
   {
    "duration": 46,
    "start_time": "2022-10-28T22:38:49.116Z"
   },
   {
    "duration": 51,
    "start_time": "2022-10-28T22:38:54.413Z"
   },
   {
    "duration": 53,
    "start_time": "2022-10-28T22:38:57.919Z"
   },
   {
    "duration": 46,
    "start_time": "2022-10-28T22:39:02.338Z"
   },
   {
    "duration": 51,
    "start_time": "2022-10-28T22:39:17.843Z"
   },
   {
    "duration": 53,
    "start_time": "2022-10-28T22:39:30.922Z"
   },
   {
    "duration": 46,
    "start_time": "2022-10-28T22:39:40.702Z"
   },
   {
    "duration": 46,
    "start_time": "2022-10-28T22:39:48.761Z"
   },
   {
    "duration": 53,
    "start_time": "2022-10-28T22:40:14.833Z"
   },
   {
    "duration": 57,
    "start_time": "2022-10-28T22:40:18.434Z"
   },
   {
    "duration": 46,
    "start_time": "2022-10-28T22:41:09.341Z"
   },
   {
    "duration": 46,
    "start_time": "2022-10-28T22:41:48.457Z"
   },
   {
    "duration": 52,
    "start_time": "2022-10-28T22:41:54.382Z"
   },
   {
    "duration": 45,
    "start_time": "2022-10-28T22:41:57.014Z"
   },
   {
    "duration": 46,
    "start_time": "2022-10-28T22:42:02.390Z"
   },
   {
    "duration": 46,
    "start_time": "2022-10-28T22:42:06.979Z"
   },
   {
    "duration": 62,
    "start_time": "2022-10-28T22:42:17.415Z"
   },
   {
    "duration": 168,
    "start_time": "2022-10-28T22:42:21.709Z"
   },
   {
    "duration": 53,
    "start_time": "2022-10-28T22:42:30.909Z"
   },
   {
    "duration": 46,
    "start_time": "2022-10-28T22:42:34.973Z"
   },
   {
    "duration": 46,
    "start_time": "2022-10-28T22:42:39.637Z"
   },
   {
    "duration": 53,
    "start_time": "2022-10-28T22:42:53.856Z"
   },
   {
    "duration": 48,
    "start_time": "2022-10-28T22:43:05.319Z"
   },
   {
    "duration": 47,
    "start_time": "2022-10-28T22:43:13.596Z"
   },
   {
    "duration": 51,
    "start_time": "2022-10-28T22:44:20.098Z"
   },
   {
    "duration": 56,
    "start_time": "2022-10-28T22:44:28.113Z"
   },
   {
    "duration": 47,
    "start_time": "2022-10-28T22:44:51.929Z"
   },
   {
    "duration": 63,
    "start_time": "2022-10-28T22:45:17.095Z"
   },
   {
    "duration": 53,
    "start_time": "2022-10-28T22:45:19.952Z"
   },
   {
    "duration": 47,
    "start_time": "2022-10-28T22:45:41.344Z"
   },
   {
    "duration": 47,
    "start_time": "2022-10-28T22:45:44.303Z"
   },
   {
    "duration": 47,
    "start_time": "2022-10-28T22:45:52.464Z"
   },
   {
    "duration": 54,
    "start_time": "2022-10-28T22:46:00.263Z"
   },
   {
    "duration": 45,
    "start_time": "2022-10-28T22:50:34.223Z"
   },
   {
    "duration": 38,
    "start_time": "2022-10-28T22:50:44.257Z"
   },
   {
    "duration": 40,
    "start_time": "2022-10-28T22:50:47.162Z"
   },
   {
    "duration": 42,
    "start_time": "2022-10-28T22:52:02.989Z"
   },
   {
    "duration": 41,
    "start_time": "2022-10-28T22:52:12.334Z"
   },
   {
    "duration": 46,
    "start_time": "2022-10-28T22:58:25.935Z"
   },
   {
    "duration": 4,
    "start_time": "2022-10-28T22:58:29.254Z"
   },
   {
    "duration": 9,
    "start_time": "2022-10-28T22:58:36.190Z"
   },
   {
    "duration": 8,
    "start_time": "2022-10-28T22:58:59.038Z"
   },
   {
    "duration": 8,
    "start_time": "2022-10-28T23:06:56.574Z"
   },
   {
    "duration": 39,
    "start_time": "2022-10-28T23:07:03.397Z"
   },
   {
    "duration": 145,
    "start_time": "2022-10-28T23:54:03.334Z"
   },
   {
    "duration": 4,
    "start_time": "2022-10-28T23:54:29.879Z"
   },
   {
    "duration": 3,
    "start_time": "2022-10-28T23:54:36.679Z"
   },
   {
    "duration": 41,
    "start_time": "2022-10-29T00:22:17.894Z"
   },
   {
    "duration": 1068,
    "start_time": "2022-10-29T06:32:22.027Z"
   },
   {
    "duration": 140,
    "start_time": "2022-10-29T06:32:23.097Z"
   },
   {
    "duration": 18,
    "start_time": "2022-10-29T06:32:23.238Z"
   },
   {
    "duration": 17,
    "start_time": "2022-10-29T06:32:23.258Z"
   },
   {
    "duration": 13,
    "start_time": "2022-10-29T06:32:23.291Z"
   },
   {
    "duration": 28,
    "start_time": "2022-10-29T06:32:23.305Z"
   },
   {
    "duration": 68,
    "start_time": "2022-10-29T06:32:23.335Z"
   },
   {
    "duration": 50,
    "start_time": "2022-10-29T06:32:23.405Z"
   },
   {
    "duration": 47,
    "start_time": "2022-10-29T06:32:23.457Z"
   },
   {
    "duration": 5,
    "start_time": "2022-10-29T06:32:23.506Z"
   },
   {
    "duration": 28,
    "start_time": "2022-10-29T06:32:23.513Z"
   },
   {
    "duration": 5,
    "start_time": "2022-10-29T06:32:23.543Z"
   },
   {
    "duration": 48,
    "start_time": "2022-10-29T06:32:23.550Z"
   },
   {
    "duration": 21,
    "start_time": "2022-10-29T06:32:23.600Z"
   },
   {
    "duration": 181,
    "start_time": "2022-10-29T06:32:23.623Z"
   },
   {
    "duration": 22,
    "start_time": "2022-10-29T06:32:23.806Z"
   },
   {
    "duration": 67,
    "start_time": "2022-10-29T06:32:23.830Z"
   },
   {
    "duration": 5,
    "start_time": "2022-10-29T06:32:23.899Z"
   },
   {
    "duration": 6,
    "start_time": "2022-10-29T06:32:23.905Z"
   },
   {
    "duration": 22,
    "start_time": "2022-10-29T06:32:23.912Z"
   },
   {
    "duration": 112,
    "start_time": "2022-10-29T06:32:23.935Z"
   },
   {
    "duration": 19,
    "start_time": "2022-10-29T06:32:24.049Z"
   },
   {
    "duration": 160,
    "start_time": "2022-10-29T06:32:24.069Z"
   },
   {
    "duration": 203,
    "start_time": "2022-10-29T06:32:24.231Z"
   },
   {
    "duration": 10,
    "start_time": "2022-10-29T06:32:24.436Z"
   },
   {
    "duration": 10,
    "start_time": "2022-10-29T06:32:24.447Z"
   },
   {
    "duration": 34,
    "start_time": "2022-10-29T06:32:24.459Z"
   },
   {
    "duration": 211,
    "start_time": "2022-10-29T06:32:24.497Z"
   },
   {
    "duration": 159,
    "start_time": "2022-10-29T06:32:24.709Z"
   },
   {
    "duration": 5,
    "start_time": "2022-10-29T06:32:24.869Z"
   },
   {
    "duration": 16,
    "start_time": "2022-10-29T06:32:24.875Z"
   },
   {
    "duration": 16,
    "start_time": "2022-10-29T06:32:24.893Z"
   },
   {
    "duration": 26,
    "start_time": "2022-10-29T06:32:24.911Z"
   },
   {
    "duration": 15,
    "start_time": "2022-10-29T06:32:24.939Z"
   },
   {
    "duration": 12,
    "start_time": "2022-10-29T06:32:24.956Z"
   },
   {
    "duration": 72,
    "start_time": "2022-10-29T06:32:24.969Z"
   },
   {
    "duration": 50,
    "start_time": "2022-10-29T06:32:25.042Z"
   },
   {
    "duration": 8,
    "start_time": "2022-10-29T06:32:25.094Z"
   },
   {
    "duration": 39,
    "start_time": "2022-10-29T06:32:25.104Z"
   },
   {
    "duration": 31,
    "start_time": "2022-10-29T06:41:16.307Z"
   },
   {
    "duration": 42,
    "start_time": "2022-10-29T12:02:04.645Z"
   },
   {
    "duration": 1236,
    "start_time": "2022-10-29T12:02:10.335Z"
   },
   {
    "duration": 663,
    "start_time": "2022-10-29T12:02:11.573Z"
   },
   {
    "duration": 18,
    "start_time": "2022-10-29T12:02:12.237Z"
   },
   {
    "duration": 18,
    "start_time": "2022-10-29T12:02:12.257Z"
   },
   {
    "duration": 12,
    "start_time": "2022-10-29T12:02:12.276Z"
   },
   {
    "duration": 27,
    "start_time": "2022-10-29T12:02:12.290Z"
   },
   {
    "duration": 70,
    "start_time": "2022-10-29T12:02:12.319Z"
   },
   {
    "duration": 49,
    "start_time": "2022-10-29T12:02:12.390Z"
   },
   {
    "duration": 48,
    "start_time": "2022-10-29T12:02:12.440Z"
   },
   {
    "duration": 4,
    "start_time": "2022-10-29T12:02:12.491Z"
   },
   {
    "duration": 25,
    "start_time": "2022-10-29T12:02:12.496Z"
   },
   {
    "duration": 4,
    "start_time": "2022-10-29T12:02:12.522Z"
   },
   {
    "duration": 19,
    "start_time": "2022-10-29T12:02:12.528Z"
   },
   {
    "duration": 32,
    "start_time": "2022-10-29T12:02:12.576Z"
   },
   {
    "duration": 201,
    "start_time": "2022-10-29T12:02:12.609Z"
   },
   {
    "duration": 23,
    "start_time": "2022-10-29T12:02:12.812Z"
   },
   {
    "duration": 66,
    "start_time": "2022-10-29T12:02:12.836Z"
   },
   {
    "duration": 5,
    "start_time": "2022-10-29T12:02:12.903Z"
   },
   {
    "duration": 5,
    "start_time": "2022-10-29T12:02:12.910Z"
   },
   {
    "duration": 23,
    "start_time": "2022-10-29T12:02:12.917Z"
   },
   {
    "duration": 112,
    "start_time": "2022-10-29T12:02:12.941Z"
   },
   {
    "duration": 31,
    "start_time": "2022-10-29T12:02:13.054Z"
   },
   {
    "duration": 148,
    "start_time": "2022-10-29T12:02:13.087Z"
   },
   {
    "duration": 199,
    "start_time": "2022-10-29T12:02:13.236Z"
   },
   {
    "duration": 9,
    "start_time": "2022-10-29T12:02:13.436Z"
   },
   {
    "duration": 10,
    "start_time": "2022-10-29T12:02:13.447Z"
   },
   {
    "duration": 25,
    "start_time": "2022-10-29T12:02:13.459Z"
   },
   {
    "duration": 192,
    "start_time": "2022-10-29T12:02:13.487Z"
   },
   {
    "duration": 162,
    "start_time": "2022-10-29T12:02:13.680Z"
   },
   {
    "duration": 6,
    "start_time": "2022-10-29T12:02:13.845Z"
   },
   {
    "duration": 14,
    "start_time": "2022-10-29T12:02:13.853Z"
   },
   {
    "duration": 28,
    "start_time": "2022-10-29T12:02:13.869Z"
   },
   {
    "duration": 15,
    "start_time": "2022-10-29T12:02:13.898Z"
   },
   {
    "duration": 11,
    "start_time": "2022-10-29T12:02:13.915Z"
   },
   {
    "duration": 12,
    "start_time": "2022-10-29T12:02:13.927Z"
   },
   {
    "duration": 75,
    "start_time": "2022-10-29T12:02:13.940Z"
   },
   {
    "duration": 40,
    "start_time": "2022-10-29T12:02:14.016Z"
   },
   {
    "duration": 23,
    "start_time": "2022-10-29T12:02:14.058Z"
   },
   {
    "duration": 40,
    "start_time": "2022-10-29T12:02:14.082Z"
   },
   {
    "duration": 65,
    "start_time": "2022-10-29T12:03:54.112Z"
   },
   {
    "duration": 76,
    "start_time": "2022-10-29T12:03:59.387Z"
   },
   {
    "duration": 74,
    "start_time": "2022-10-29T12:04:18.452Z"
   },
   {
    "duration": 69,
    "start_time": "2022-10-29T12:04:25.531Z"
   },
   {
    "duration": 75,
    "start_time": "2022-10-29T12:05:37.739Z"
   },
   {
    "duration": 80,
    "start_time": "2022-10-29T12:08:09.344Z"
   },
   {
    "duration": 75,
    "start_time": "2022-10-29T12:08:16.521Z"
   },
   {
    "duration": 113,
    "start_time": "2022-10-29T12:10:23.287Z"
   },
   {
    "duration": 78,
    "start_time": "2022-10-29T12:10:31.087Z"
   },
   {
    "duration": 416,
    "start_time": "2022-10-29T12:12:10.863Z"
   },
   {
    "duration": 340,
    "start_time": "2022-10-29T12:12:33.469Z"
   },
   {
    "duration": 334,
    "start_time": "2022-10-29T12:12:46.780Z"
   },
   {
    "duration": 358,
    "start_time": "2022-10-29T12:13:55.035Z"
   },
   {
    "duration": 21,
    "start_time": "2022-10-29T12:14:32.428Z"
   },
   {
    "duration": 31,
    "start_time": "2022-10-29T12:14:34.539Z"
   },
   {
    "duration": 30,
    "start_time": "2022-10-29T12:14:59.635Z"
   },
   {
    "duration": 4,
    "start_time": "2022-10-29T12:15:02.178Z"
   },
   {
    "duration": 4,
    "start_time": "2022-10-29T12:15:24.163Z"
   },
   {
    "duration": 25,
    "start_time": "2022-10-29T12:15:25.491Z"
   },
   {
    "duration": 21,
    "start_time": "2022-10-29T12:15:37.530Z"
   },
   {
    "duration": 27,
    "start_time": "2022-10-29T12:15:43.042Z"
   },
   {
    "duration": 1381,
    "start_time": "2022-10-29T12:16:30.346Z"
   },
   {
    "duration": 1391,
    "start_time": "2022-10-29T12:16:56.474Z"
   },
   {
    "duration": 19,
    "start_time": "2022-10-29T12:17:00.006Z"
   },
   {
    "duration": 1112,
    "start_time": "2022-10-29T12:17:32.458Z"
   },
   {
    "duration": 145,
    "start_time": "2022-10-29T12:17:33.572Z"
   },
   {
    "duration": 19,
    "start_time": "2022-10-29T12:17:33.719Z"
   },
   {
    "duration": 39,
    "start_time": "2022-10-29T12:17:33.740Z"
   },
   {
    "duration": 6,
    "start_time": "2022-10-29T12:17:33.780Z"
   },
   {
    "duration": 21,
    "start_time": "2022-10-29T12:17:33.787Z"
   },
   {
    "duration": 19,
    "start_time": "2022-10-29T12:17:33.809Z"
   },
   {
    "duration": 14,
    "start_time": "2022-10-29T12:17:33.830Z"
   },
   {
    "duration": 445,
    "start_time": "2022-10-29T12:17:33.878Z"
   },
   {
    "duration": 0,
    "start_time": "2022-10-29T12:17:34.325Z"
   },
   {
    "duration": 0,
    "start_time": "2022-10-29T12:17:34.327Z"
   },
   {
    "duration": 0,
    "start_time": "2022-10-29T12:17:34.328Z"
   },
   {
    "duration": 0,
    "start_time": "2022-10-29T12:17:34.329Z"
   },
   {
    "duration": 0,
    "start_time": "2022-10-29T12:17:34.330Z"
   },
   {
    "duration": 0,
    "start_time": "2022-10-29T12:17:34.331Z"
   },
   {
    "duration": 0,
    "start_time": "2022-10-29T12:17:34.332Z"
   },
   {
    "duration": 0,
    "start_time": "2022-10-29T12:17:34.333Z"
   },
   {
    "duration": 0,
    "start_time": "2022-10-29T12:17:34.334Z"
   },
   {
    "duration": 0,
    "start_time": "2022-10-29T12:17:34.335Z"
   },
   {
    "duration": 0,
    "start_time": "2022-10-29T12:17:34.336Z"
   },
   {
    "duration": 0,
    "start_time": "2022-10-29T12:17:34.337Z"
   },
   {
    "duration": 0,
    "start_time": "2022-10-29T12:17:34.338Z"
   },
   {
    "duration": 0,
    "start_time": "2022-10-29T12:17:34.339Z"
   },
   {
    "duration": 0,
    "start_time": "2022-10-29T12:17:34.340Z"
   },
   {
    "duration": 0,
    "start_time": "2022-10-29T12:17:34.342Z"
   },
   {
    "duration": 0,
    "start_time": "2022-10-29T12:17:34.343Z"
   },
   {
    "duration": 0,
    "start_time": "2022-10-29T12:17:34.344Z"
   },
   {
    "duration": 0,
    "start_time": "2022-10-29T12:17:34.377Z"
   },
   {
    "duration": 0,
    "start_time": "2022-10-29T12:17:34.378Z"
   },
   {
    "duration": 0,
    "start_time": "2022-10-29T12:17:34.379Z"
   },
   {
    "duration": 0,
    "start_time": "2022-10-29T12:17:34.381Z"
   },
   {
    "duration": 0,
    "start_time": "2022-10-29T12:17:34.382Z"
   },
   {
    "duration": 0,
    "start_time": "2022-10-29T12:17:34.383Z"
   },
   {
    "duration": 0,
    "start_time": "2022-10-29T12:17:34.384Z"
   },
   {
    "duration": 0,
    "start_time": "2022-10-29T12:17:34.385Z"
   },
   {
    "duration": 0,
    "start_time": "2022-10-29T12:17:34.387Z"
   },
   {
    "duration": 0,
    "start_time": "2022-10-29T12:17:34.388Z"
   },
   {
    "duration": 0,
    "start_time": "2022-10-29T12:17:34.389Z"
   },
   {
    "duration": 0,
    "start_time": "2022-10-29T12:17:34.391Z"
   },
   {
    "duration": 0,
    "start_time": "2022-10-29T12:17:34.392Z"
   },
   {
    "duration": 0,
    "start_time": "2022-10-29T12:17:34.393Z"
   },
   {
    "duration": 414,
    "start_time": "2022-10-29T12:17:54.007Z"
   },
   {
    "duration": 411,
    "start_time": "2022-10-29T12:18:31.831Z"
   },
   {
    "duration": 369,
    "start_time": "2022-10-29T12:18:36.071Z"
   },
   {
    "duration": 356,
    "start_time": "2022-10-29T12:18:57.702Z"
   },
   {
    "duration": 357,
    "start_time": "2022-10-29T12:19:14.447Z"
   },
   {
    "duration": 404,
    "start_time": "2022-10-29T12:24:34.564Z"
   },
   {
    "duration": 1606,
    "start_time": "2022-10-29T12:24:51.489Z"
   },
   {
    "duration": 1929,
    "start_time": "2022-10-29T12:25:22.179Z"
   },
   {
    "duration": 1582,
    "start_time": "2022-10-29T12:26:11.943Z"
   },
   {
    "duration": 86,
    "start_time": "2022-10-29T12:27:30.230Z"
   },
   {
    "duration": 4,
    "start_time": "2022-10-29T12:27:38.744Z"
   },
   {
    "duration": 490,
    "start_time": "2022-10-29T12:28:12.678Z"
   },
   {
    "duration": 448,
    "start_time": "2022-10-29T12:29:52.922Z"
   },
   {
    "duration": 91,
    "start_time": "2022-10-29T12:30:19.675Z"
   },
   {
    "duration": 382,
    "start_time": "2022-10-29T12:30:22.779Z"
   },
   {
    "duration": 4,
    "start_time": "2022-10-29T12:32:32.800Z"
   },
   {
    "duration": 4,
    "start_time": "2022-10-29T12:32:35.773Z"
   },
   {
    "duration": 393,
    "start_time": "2022-10-29T12:32:38.188Z"
   },
   {
    "duration": 7,
    "start_time": "2022-10-29T12:33:45.960Z"
   },
   {
    "duration": 1637,
    "start_time": "2022-10-29T12:33:48.312Z"
   },
   {
    "duration": 1575,
    "start_time": "2022-10-29T12:34:15.296Z"
   },
   {
    "duration": 388,
    "start_time": "2022-10-29T12:34:22.671Z"
   },
   {
    "duration": 380,
    "start_time": "2022-10-29T12:34:36.159Z"
   },
   {
    "duration": 379,
    "start_time": "2022-10-29T12:35:01.367Z"
   },
   {
    "duration": 502,
    "start_time": "2022-10-29T12:35:04.871Z"
   },
   {
    "duration": 358,
    "start_time": "2022-10-29T12:36:13.198Z"
   },
   {
    "duration": 358,
    "start_time": "2022-10-29T12:36:23.638Z"
   },
   {
    "duration": 351,
    "start_time": "2022-10-29T12:39:18.115Z"
   },
   {
    "duration": 364,
    "start_time": "2022-10-29T12:39:32.259Z"
   },
   {
    "duration": 369,
    "start_time": "2022-10-29T12:41:00.945Z"
   },
   {
    "duration": 356,
    "start_time": "2022-10-29T12:41:26.945Z"
   },
   {
    "duration": 360,
    "start_time": "2022-10-29T12:42:37.949Z"
   },
   {
    "duration": 384,
    "start_time": "2022-10-29T12:42:55.928Z"
   },
   {
    "duration": 358,
    "start_time": "2022-10-29T12:45:15.797Z"
   },
   {
    "duration": 376,
    "start_time": "2022-10-29T12:45:30.263Z"
   },
   {
    "duration": 8,
    "start_time": "2022-10-29T12:49:02.322Z"
   },
   {
    "duration": 8,
    "start_time": "2022-10-29T12:49:56.794Z"
   },
   {
    "duration": 14,
    "start_time": "2022-10-29T12:50:34.976Z"
   },
   {
    "duration": 8,
    "start_time": "2022-10-29T12:50:52.904Z"
   },
   {
    "duration": 9,
    "start_time": "2022-10-29T12:51:17.608Z"
   },
   {
    "duration": 10,
    "start_time": "2022-10-29T12:52:07.815Z"
   },
   {
    "duration": 8,
    "start_time": "2022-10-29T12:53:33.611Z"
   },
   {
    "duration": 85,
    "start_time": "2022-10-29T12:53:42.508Z"
   },
   {
    "duration": 9,
    "start_time": "2022-10-29T12:53:59.821Z"
   },
   {
    "duration": 73,
    "start_time": "2022-10-29T12:56:15.507Z"
   },
   {
    "duration": 73,
    "start_time": "2022-10-29T12:56:25.060Z"
   },
   {
    "duration": 9,
    "start_time": "2022-10-29T12:56:42.123Z"
   },
   {
    "duration": 11,
    "start_time": "2022-10-29T12:57:24.737Z"
   },
   {
    "duration": 9,
    "start_time": "2022-10-29T12:57:30.467Z"
   },
   {
    "duration": 9,
    "start_time": "2022-10-29T12:57:33.410Z"
   },
   {
    "duration": 70,
    "start_time": "2022-10-29T12:57:55.089Z"
   },
   {
    "duration": 28,
    "start_time": "2022-10-29T12:58:00.643Z"
   },
   {
    "duration": 116,
    "start_time": "2022-10-29T12:58:05.442Z"
   },
   {
    "duration": 26,
    "start_time": "2022-10-29T12:58:11.420Z"
   },
   {
    "duration": 371,
    "start_time": "2022-10-29T12:58:38.081Z"
   },
   {
    "duration": 335,
    "start_time": "2022-10-29T12:59:06.329Z"
   },
   {
    "duration": 354,
    "start_time": "2022-10-29T13:00:04.569Z"
   },
   {
    "duration": 340,
    "start_time": "2022-10-29T13:00:14.607Z"
   },
   {
    "duration": 174,
    "start_time": "2022-10-29T13:01:07.055Z"
   },
   {
    "duration": 175,
    "start_time": "2022-10-29T13:01:27.427Z"
   },
   {
    "duration": 205,
    "start_time": "2022-10-29T13:02:26.952Z"
   },
   {
    "duration": 345,
    "start_time": "2022-10-29T13:02:40.258Z"
   },
   {
    "duration": 388,
    "start_time": "2022-10-29T13:02:56.174Z"
   },
   {
    "duration": 330,
    "start_time": "2022-10-29T13:03:45.730Z"
   },
   {
    "duration": 19,
    "start_time": "2022-10-29T13:05:18.163Z"
   },
   {
    "duration": 354,
    "start_time": "2022-10-29T13:13:56.793Z"
   },
   {
    "duration": 454,
    "start_time": "2022-10-29T13:17:50.328Z"
   },
   {
    "duration": 16,
    "start_time": "2022-10-29T13:21:01.573Z"
   },
   {
    "duration": 8,
    "start_time": "2022-10-29T13:21:06.296Z"
   },
   {
    "duration": 81,
    "start_time": "2022-10-29T13:21:57.749Z"
   },
   {
    "duration": 56,
    "start_time": "2022-10-29T13:22:11.598Z"
   },
   {
    "duration": 62,
    "start_time": "2022-10-29T13:22:32.339Z"
   },
   {
    "duration": 54,
    "start_time": "2022-10-29T13:23:36.377Z"
   },
   {
    "duration": 53,
    "start_time": "2022-10-29T13:23:45.538Z"
   },
   {
    "duration": 59,
    "start_time": "2022-10-29T13:24:08.865Z"
   },
   {
    "duration": 60,
    "start_time": "2022-10-29T13:24:19.987Z"
   },
   {
    "duration": 29,
    "start_time": "2022-10-29T13:25:50.039Z"
   },
   {
    "duration": 5,
    "start_time": "2022-10-29T13:26:43.176Z"
   },
   {
    "duration": 164,
    "start_time": "2022-10-29T13:26:43.182Z"
   },
   {
    "duration": 10,
    "start_time": "2022-10-29T13:26:43.348Z"
   },
   {
    "duration": 41,
    "start_time": "2022-10-29T13:26:43.360Z"
   },
   {
    "duration": 4,
    "start_time": "2022-10-29T13:26:43.402Z"
   },
   {
    "duration": 19,
    "start_time": "2022-10-29T13:26:43.407Z"
   },
   {
    "duration": 17,
    "start_time": "2022-10-29T13:26:43.427Z"
   },
   {
    "duration": 41,
    "start_time": "2022-10-29T13:26:43.446Z"
   },
   {
    "duration": 347,
    "start_time": "2022-10-29T13:26:43.489Z"
   },
   {
    "duration": 27,
    "start_time": "2022-10-29T13:26:43.837Z"
   },
   {
    "duration": 67,
    "start_time": "2022-10-29T13:26:43.865Z"
   },
   {
    "duration": 16,
    "start_time": "2022-10-29T13:26:43.934Z"
   },
   {
    "duration": 5,
    "start_time": "2022-10-29T13:26:43.953Z"
   },
   {
    "duration": 27,
    "start_time": "2022-10-29T13:26:43.959Z"
   },
   {
    "duration": 28,
    "start_time": "2022-10-29T13:26:43.987Z"
   },
   {
    "duration": 284,
    "start_time": "2022-10-29T13:26:44.017Z"
   },
   {
    "duration": 21,
    "start_time": "2022-10-29T13:26:44.303Z"
   },
   {
    "duration": 109,
    "start_time": "2022-10-29T13:26:44.326Z"
   },
   {
    "duration": 5,
    "start_time": "2022-10-29T13:26:44.436Z"
   },
   {
    "duration": 35,
    "start_time": "2022-10-29T13:26:44.443Z"
   },
   {
    "duration": 26,
    "start_time": "2022-10-29T13:26:44.481Z"
   },
   {
    "duration": 103,
    "start_time": "2022-10-29T13:26:44.509Z"
   },
   {
    "duration": 21,
    "start_time": "2022-10-29T13:26:44.613Z"
   },
   {
    "duration": 167,
    "start_time": "2022-10-29T13:26:44.636Z"
   },
   {
    "duration": 201,
    "start_time": "2022-10-29T13:26:44.805Z"
   },
   {
    "duration": 9,
    "start_time": "2022-10-29T13:26:45.008Z"
   },
   {
    "duration": 23,
    "start_time": "2022-10-29T13:26:45.019Z"
   },
   {
    "duration": 34,
    "start_time": "2022-10-29T13:26:45.043Z"
   },
   {
    "duration": 216,
    "start_time": "2022-10-29T13:26:45.082Z"
   },
   {
    "duration": 238,
    "start_time": "2022-10-29T13:26:45.303Z"
   },
   {
    "duration": 5,
    "start_time": "2022-10-29T13:26:45.543Z"
   },
   {
    "duration": 15,
    "start_time": "2022-10-29T13:26:45.549Z"
   },
   {
    "duration": 40,
    "start_time": "2022-10-29T13:26:45.566Z"
   },
   {
    "duration": 22,
    "start_time": "2022-10-29T13:26:45.607Z"
   },
   {
    "duration": 16,
    "start_time": "2022-10-29T13:26:45.630Z"
   },
   {
    "duration": 18,
    "start_time": "2022-10-29T13:26:45.647Z"
   },
   {
    "duration": 58,
    "start_time": "2022-10-29T13:26:45.667Z"
   },
   {
    "duration": 43,
    "start_time": "2022-10-29T13:26:45.727Z"
   },
   {
    "duration": 17,
    "start_time": "2022-10-29T13:26:45.777Z"
   },
   {
    "duration": 58,
    "start_time": "2022-10-29T13:26:45.796Z"
   },
   {
    "duration": 51,
    "start_time": "2022-10-29T13:29:59.624Z"
   },
   {
    "duration": 51,
    "start_time": "2022-10-29T13:30:55.208Z"
   },
   {
    "duration": 59,
    "start_time": "2022-10-29T13:31:07.240Z"
   },
   {
    "duration": 53,
    "start_time": "2022-10-29T13:31:11.400Z"
   },
   {
    "duration": 62,
    "start_time": "2022-10-29T13:31:57.705Z"
   },
   {
    "duration": 55,
    "start_time": "2022-10-29T13:32:12.518Z"
   },
   {
    "duration": 55,
    "start_time": "2022-10-29T13:32:53.013Z"
   },
   {
    "duration": 63,
    "start_time": "2022-10-29T13:33:12.533Z"
   },
   {
    "duration": 59,
    "start_time": "2022-10-29T13:33:55.316Z"
   },
   {
    "duration": 60,
    "start_time": "2022-10-29T13:34:05.212Z"
   },
   {
    "duration": 71,
    "start_time": "2022-10-29T13:34:22.784Z"
   },
   {
    "duration": 61,
    "start_time": "2022-10-29T13:34:26.956Z"
   },
   {
    "duration": 86,
    "start_time": "2022-10-29T13:34:33.116Z"
   },
   {
    "duration": 72,
    "start_time": "2022-10-29T13:34:38.297Z"
   },
   {
    "duration": 57,
    "start_time": "2022-10-29T13:41:22.374Z"
   },
   {
    "duration": 79,
    "start_time": "2022-10-29T13:42:00.269Z"
   },
   {
    "duration": 62,
    "start_time": "2022-10-29T13:42:14.029Z"
   },
   {
    "duration": 58,
    "start_time": "2022-10-29T13:42:18.637Z"
   },
   {
    "duration": 64,
    "start_time": "2022-10-29T13:43:33.530Z"
   },
   {
    "duration": 64,
    "start_time": "2022-10-29T13:44:45.779Z"
   },
   {
    "duration": 3,
    "start_time": "2022-10-29T13:45:00.741Z"
   },
   {
    "duration": 192,
    "start_time": "2022-10-29T13:45:00.746Z"
   },
   {
    "duration": 12,
    "start_time": "2022-10-29T13:45:00.940Z"
   },
   {
    "duration": 42,
    "start_time": "2022-10-29T13:45:00.954Z"
   },
   {
    "duration": 15,
    "start_time": "2022-10-29T13:45:00.998Z"
   },
   {
    "duration": 33,
    "start_time": "2022-10-29T13:45:01.015Z"
   },
   {
    "duration": 41,
    "start_time": "2022-10-29T13:45:01.049Z"
   },
   {
    "duration": 19,
    "start_time": "2022-10-29T13:45:01.093Z"
   },
   {
    "duration": 349,
    "start_time": "2022-10-29T13:45:01.113Z"
   },
   {
    "duration": 38,
    "start_time": "2022-10-29T13:45:01.464Z"
   },
   {
    "duration": 64,
    "start_time": "2022-10-29T13:45:01.503Z"
   },
   {
    "duration": 32,
    "start_time": "2022-10-29T13:45:01.569Z"
   },
   {
    "duration": 5,
    "start_time": "2022-10-29T13:45:01.603Z"
   },
   {
    "duration": 30,
    "start_time": "2022-10-29T13:45:01.609Z"
   },
   {
    "duration": 18,
    "start_time": "2022-10-29T13:45:01.641Z"
   },
   {
    "duration": 211,
    "start_time": "2022-10-29T13:45:01.660Z"
   },
   {
    "duration": 28,
    "start_time": "2022-10-29T13:45:01.875Z"
   },
   {
    "duration": 81,
    "start_time": "2022-10-29T13:45:01.904Z"
   },
   {
    "duration": 8,
    "start_time": "2022-10-29T13:45:01.990Z"
   },
   {
    "duration": 19,
    "start_time": "2022-10-29T13:45:01.999Z"
   },
   {
    "duration": 25,
    "start_time": "2022-10-29T13:45:02.020Z"
   },
   {
    "duration": 96,
    "start_time": "2022-10-29T13:45:02.047Z"
   },
   {
    "duration": 21,
    "start_time": "2022-10-29T13:45:02.145Z"
   },
   {
    "duration": 185,
    "start_time": "2022-10-29T13:45:02.168Z"
   },
   {
    "duration": 206,
    "start_time": "2022-10-29T13:45:02.355Z"
   },
   {
    "duration": 23,
    "start_time": "2022-10-29T13:45:02.563Z"
   },
   {
    "duration": 39,
    "start_time": "2022-10-29T13:45:02.589Z"
   },
   {
    "duration": 23,
    "start_time": "2022-10-29T13:45:02.630Z"
   },
   {
    "duration": 264,
    "start_time": "2022-10-29T13:45:02.655Z"
   },
   {
    "duration": 261,
    "start_time": "2022-10-29T13:45:02.922Z"
   },
   {
    "duration": 5,
    "start_time": "2022-10-29T13:45:03.185Z"
   },
   {
    "duration": 4,
    "start_time": "2022-10-29T13:45:03.194Z"
   },
   {
    "duration": 38,
    "start_time": "2022-10-29T13:45:03.199Z"
   },
   {
    "duration": 33,
    "start_time": "2022-10-29T13:45:03.239Z"
   },
   {
    "duration": 29,
    "start_time": "2022-10-29T13:45:03.274Z"
   },
   {
    "duration": 28,
    "start_time": "2022-10-29T13:45:03.304Z"
   },
   {
    "duration": 61,
    "start_time": "2022-10-29T13:45:03.334Z"
   },
   {
    "duration": 51,
    "start_time": "2022-10-29T13:45:03.398Z"
   },
   {
    "duration": 9,
    "start_time": "2022-10-29T13:45:03.450Z"
   },
   {
    "duration": 57,
    "start_time": "2022-10-29T13:45:03.460Z"
   },
   {
    "duration": 94,
    "start_time": "2022-10-29T13:45:59.735Z"
   },
   {
    "duration": 198,
    "start_time": "2022-10-29T13:52:20.031Z"
   },
   {
    "duration": 101,
    "start_time": "2022-10-29T13:53:01.511Z"
   },
   {
    "duration": 182,
    "start_time": "2022-10-29T13:54:29.358Z"
   },
   {
    "duration": 180,
    "start_time": "2022-10-29T13:54:39.725Z"
   },
   {
    "duration": 4,
    "start_time": "2022-10-29T13:55:06.806Z"
   },
   {
    "duration": 95,
    "start_time": "2022-10-29T13:55:11.076Z"
   },
   {
    "duration": 113,
    "start_time": "2022-10-29T13:55:22.701Z"
   },
   {
    "duration": 61,
    "start_time": "2022-10-29T13:56:25.572Z"
   },
   {
    "duration": 51,
    "start_time": "2022-10-29T13:56:34.508Z"
   },
   {
    "duration": 160,
    "start_time": "2022-10-29T14:03:19.922Z"
   },
   {
    "duration": 167,
    "start_time": "2022-10-29T14:04:07.573Z"
   },
   {
    "duration": 159,
    "start_time": "2022-10-29T14:04:35.596Z"
   },
   {
    "duration": 242,
    "start_time": "2022-10-29T14:04:43.890Z"
   },
   {
    "duration": 249,
    "start_time": "2022-10-29T14:08:00.873Z"
   },
   {
    "duration": 182,
    "start_time": "2022-10-29T14:08:25.864Z"
   },
   {
    "duration": 152,
    "start_time": "2022-10-29T14:08:32.786Z"
   },
   {
    "duration": 79,
    "start_time": "2022-10-29T14:09:40.113Z"
   },
   {
    "duration": 164,
    "start_time": "2022-10-29T14:09:50.824Z"
   },
   {
    "duration": 162,
    "start_time": "2022-10-29T14:09:55.042Z"
   },
   {
    "duration": 202,
    "start_time": "2022-10-29T14:10:02.971Z"
   },
   {
    "duration": 152,
    "start_time": "2022-10-29T14:11:38.001Z"
   },
   {
    "duration": 193,
    "start_time": "2022-10-29T14:11:45.301Z"
   },
   {
    "duration": 13,
    "start_time": "2022-10-29T14:28:36.533Z"
   },
   {
    "duration": 1391,
    "start_time": "2022-10-30T06:37:15.471Z"
   },
   {
    "duration": 772,
    "start_time": "2022-10-30T06:37:16.865Z"
   },
   {
    "duration": 20,
    "start_time": "2022-10-30T06:37:17.639Z"
   },
   {
    "duration": 42,
    "start_time": "2022-10-30T06:37:17.661Z"
   },
   {
    "duration": 6,
    "start_time": "2022-10-30T06:37:17.706Z"
   },
   {
    "duration": 24,
    "start_time": "2022-10-30T06:37:17.713Z"
   },
   {
    "duration": 19,
    "start_time": "2022-10-30T06:37:17.739Z"
   },
   {
    "duration": 18,
    "start_time": "2022-10-30T06:37:17.791Z"
   },
   {
    "duration": 412,
    "start_time": "2022-10-30T06:37:17.812Z"
   },
   {
    "duration": 29,
    "start_time": "2022-10-30T06:37:18.226Z"
   },
   {
    "duration": 79,
    "start_time": "2022-10-30T06:37:18.257Z"
   },
   {
    "duration": 18,
    "start_time": "2022-10-30T06:37:18.338Z"
   },
   {
    "duration": 5,
    "start_time": "2022-10-30T06:37:18.358Z"
   },
   {
    "duration": 19,
    "start_time": "2022-10-30T06:37:18.391Z"
   },
   {
    "duration": 29,
    "start_time": "2022-10-30T06:37:18.412Z"
   },
   {
    "duration": 257,
    "start_time": "2022-10-30T06:37:18.444Z"
   },
   {
    "duration": 23,
    "start_time": "2022-10-30T06:37:18.703Z"
   },
   {
    "duration": 96,
    "start_time": "2022-10-30T06:37:18.728Z"
   },
   {
    "duration": 8,
    "start_time": "2022-10-30T06:37:18.826Z"
   },
   {
    "duration": 7,
    "start_time": "2022-10-30T06:37:18.837Z"
   },
   {
    "duration": 67,
    "start_time": "2022-10-30T06:37:18.847Z"
   },
   {
    "duration": 117,
    "start_time": "2022-10-30T06:37:18.916Z"
   },
   {
    "duration": 36,
    "start_time": "2022-10-30T06:37:19.036Z"
   },
   {
    "duration": 215,
    "start_time": "2022-10-30T06:37:19.075Z"
   },
   {
    "duration": 210,
    "start_time": "2022-10-30T06:37:19.292Z"
   },
   {
    "duration": 14,
    "start_time": "2022-10-30T06:37:19.504Z"
   },
   {
    "duration": 13,
    "start_time": "2022-10-30T06:37:19.520Z"
   },
   {
    "duration": 18,
    "start_time": "2022-10-30T06:37:19.535Z"
   },
   {
    "duration": 309,
    "start_time": "2022-10-30T06:37:19.555Z"
   },
   {
    "duration": 172,
    "start_time": "2022-10-30T06:37:19.866Z"
   },
   {
    "duration": 5,
    "start_time": "2022-10-30T06:37:20.040Z"
   },
   {
    "duration": 18,
    "start_time": "2022-10-30T06:37:20.048Z"
   },
   {
    "duration": 23,
    "start_time": "2022-10-30T06:37:20.070Z"
   },
   {
    "duration": 15,
    "start_time": "2022-10-30T06:37:20.095Z"
   },
   {
    "duration": 20,
    "start_time": "2022-10-30T06:37:20.112Z"
   },
   {
    "duration": 18,
    "start_time": "2022-10-30T06:37:20.134Z"
   },
   {
    "duration": 110,
    "start_time": "2022-10-30T06:37:20.155Z"
   },
   {
    "duration": 60,
    "start_time": "2022-10-30T06:37:20.266Z"
   },
   {
    "duration": 12,
    "start_time": "2022-10-30T06:37:20.328Z"
   },
   {
    "duration": 71,
    "start_time": "2022-10-30T06:37:20.343Z"
   },
   {
    "duration": 43,
    "start_time": "2022-10-30T09:46:57.742Z"
   },
   {
    "duration": 1271,
    "start_time": "2022-10-30T09:47:06.715Z"
   },
   {
    "duration": 709,
    "start_time": "2022-10-30T09:47:07.989Z"
   },
   {
    "duration": 18,
    "start_time": "2022-10-30T09:47:08.699Z"
   },
   {
    "duration": 27,
    "start_time": "2022-10-30T09:47:08.719Z"
   },
   {
    "duration": 5,
    "start_time": "2022-10-30T09:47:08.748Z"
   },
   {
    "duration": 21,
    "start_time": "2022-10-30T09:47:08.754Z"
   },
   {
    "duration": 17,
    "start_time": "2022-10-30T09:47:08.776Z"
   },
   {
    "duration": 13,
    "start_time": "2022-10-30T09:47:08.822Z"
   },
   {
    "duration": 266,
    "start_time": "2022-10-30T09:47:08.836Z"
   },
   {
    "duration": 0,
    "start_time": "2022-10-30T09:47:09.104Z"
   },
   {
    "duration": 0,
    "start_time": "2022-10-30T09:47:09.106Z"
   },
   {
    "duration": 0,
    "start_time": "2022-10-30T09:47:09.106Z"
   },
   {
    "duration": 0,
    "start_time": "2022-10-30T09:47:09.107Z"
   },
   {
    "duration": 0,
    "start_time": "2022-10-30T09:47:09.108Z"
   },
   {
    "duration": 0,
    "start_time": "2022-10-30T09:47:09.109Z"
   },
   {
    "duration": 0,
    "start_time": "2022-10-30T09:47:09.122Z"
   },
   {
    "duration": 0,
    "start_time": "2022-10-30T09:47:09.123Z"
   },
   {
    "duration": 0,
    "start_time": "2022-10-30T09:47:09.124Z"
   },
   {
    "duration": 0,
    "start_time": "2022-10-30T09:47:09.126Z"
   },
   {
    "duration": 0,
    "start_time": "2022-10-30T09:47:09.127Z"
   },
   {
    "duration": 0,
    "start_time": "2022-10-30T09:47:09.127Z"
   },
   {
    "duration": 0,
    "start_time": "2022-10-30T09:47:09.128Z"
   },
   {
    "duration": 0,
    "start_time": "2022-10-30T09:47:09.129Z"
   },
   {
    "duration": 0,
    "start_time": "2022-10-30T09:47:09.131Z"
   },
   {
    "duration": 0,
    "start_time": "2022-10-30T09:47:09.132Z"
   },
   {
    "duration": 0,
    "start_time": "2022-10-30T09:47:09.133Z"
   },
   {
    "duration": 0,
    "start_time": "2022-10-30T09:47:09.134Z"
   },
   {
    "duration": 0,
    "start_time": "2022-10-30T09:47:09.135Z"
   },
   {
    "duration": 0,
    "start_time": "2022-10-30T09:47:09.136Z"
   },
   {
    "duration": 0,
    "start_time": "2022-10-30T09:47:09.137Z"
   },
   {
    "duration": 0,
    "start_time": "2022-10-30T09:47:09.138Z"
   },
   {
    "duration": 0,
    "start_time": "2022-10-30T09:47:09.139Z"
   },
   {
    "duration": 0,
    "start_time": "2022-10-30T09:47:09.140Z"
   },
   {
    "duration": 0,
    "start_time": "2022-10-30T09:47:09.141Z"
   },
   {
    "duration": 0,
    "start_time": "2022-10-30T09:47:09.142Z"
   },
   {
    "duration": 0,
    "start_time": "2022-10-30T09:47:09.143Z"
   },
   {
    "duration": 0,
    "start_time": "2022-10-30T09:47:09.145Z"
   },
   {
    "duration": 0,
    "start_time": "2022-10-30T09:47:09.146Z"
   },
   {
    "duration": 0,
    "start_time": "2022-10-30T09:47:09.147Z"
   },
   {
    "duration": 0,
    "start_time": "2022-10-30T09:47:09.148Z"
   },
   {
    "duration": 188,
    "start_time": "2022-10-30T09:48:16.502Z"
   },
   {
    "duration": 216,
    "start_time": "2022-10-30T09:48:44.834Z"
   },
   {
    "duration": 221,
    "start_time": "2022-10-30T09:48:59.643Z"
   },
   {
    "duration": 184,
    "start_time": "2022-10-30T09:49:04.349Z"
   },
   {
    "duration": 90,
    "start_time": "2022-10-30T09:54:56.702Z"
   },
   {
    "duration": 163,
    "start_time": "2022-10-30T09:57:01.491Z"
   },
   {
    "duration": 188,
    "start_time": "2022-10-30T09:57:10.981Z"
   },
   {
    "duration": 169,
    "start_time": "2022-10-30T09:57:25.100Z"
   },
   {
    "duration": 225,
    "start_time": "2022-10-30T09:57:38.646Z"
   },
   {
    "duration": 155,
    "start_time": "2022-10-30T10:05:03.445Z"
   },
   {
    "duration": 113,
    "start_time": "2022-10-30T10:05:11.910Z"
   },
   {
    "duration": 65,
    "start_time": "2022-10-30T10:05:18.174Z"
   },
   {
    "duration": 54,
    "start_time": "2022-10-30T10:07:16.466Z"
   },
   {
    "duration": 59,
    "start_time": "2022-10-30T10:07:22.956Z"
   },
   {
    "duration": 232,
    "start_time": "2022-10-30T10:08:59.887Z"
   },
   {
    "duration": 1020,
    "start_time": "2022-10-30T10:09:08.588Z"
   },
   {
    "duration": 142,
    "start_time": "2022-10-30T10:09:09.610Z"
   },
   {
    "duration": 17,
    "start_time": "2022-10-30T10:09:09.754Z"
   },
   {
    "duration": 27,
    "start_time": "2022-10-30T10:09:09.773Z"
   },
   {
    "duration": 4,
    "start_time": "2022-10-30T10:09:09.801Z"
   },
   {
    "duration": 38,
    "start_time": "2022-10-30T10:09:09.806Z"
   },
   {
    "duration": 17,
    "start_time": "2022-10-30T10:09:09.845Z"
   },
   {
    "duration": 13,
    "start_time": "2022-10-30T10:09:09.863Z"
   },
   {
    "duration": 238,
    "start_time": "2022-10-30T10:09:09.878Z"
   },
   {
    "duration": 193,
    "start_time": "2022-10-30T10:09:10.118Z"
   },
   {
    "duration": 0,
    "start_time": "2022-10-30T10:09:10.313Z"
   },
   {
    "duration": 0,
    "start_time": "2022-10-30T10:09:10.334Z"
   },
   {
    "duration": 0,
    "start_time": "2022-10-30T10:09:10.336Z"
   },
   {
    "duration": 0,
    "start_time": "2022-10-30T10:09:10.337Z"
   },
   {
    "duration": 0,
    "start_time": "2022-10-30T10:09:10.338Z"
   },
   {
    "duration": 0,
    "start_time": "2022-10-30T10:09:10.340Z"
   },
   {
    "duration": 0,
    "start_time": "2022-10-30T10:09:10.341Z"
   },
   {
    "duration": 0,
    "start_time": "2022-10-30T10:09:10.342Z"
   },
   {
    "duration": 0,
    "start_time": "2022-10-30T10:09:10.344Z"
   },
   {
    "duration": 0,
    "start_time": "2022-10-30T10:09:10.345Z"
   },
   {
    "duration": 0,
    "start_time": "2022-10-30T10:09:10.346Z"
   },
   {
    "duration": 0,
    "start_time": "2022-10-30T10:09:10.347Z"
   },
   {
    "duration": 0,
    "start_time": "2022-10-30T10:09:10.348Z"
   },
   {
    "duration": 0,
    "start_time": "2022-10-30T10:09:10.349Z"
   },
   {
    "duration": 0,
    "start_time": "2022-10-30T10:09:10.351Z"
   },
   {
    "duration": 0,
    "start_time": "2022-10-30T10:09:10.352Z"
   },
   {
    "duration": 0,
    "start_time": "2022-10-30T10:09:10.353Z"
   },
   {
    "duration": 0,
    "start_time": "2022-10-30T10:09:10.355Z"
   },
   {
    "duration": 0,
    "start_time": "2022-10-30T10:09:10.356Z"
   },
   {
    "duration": 0,
    "start_time": "2022-10-30T10:09:10.358Z"
   },
   {
    "duration": 0,
    "start_time": "2022-10-30T10:09:10.359Z"
   },
   {
    "duration": 0,
    "start_time": "2022-10-30T10:09:10.360Z"
   },
   {
    "duration": 0,
    "start_time": "2022-10-30T10:09:10.361Z"
   },
   {
    "duration": 1,
    "start_time": "2022-10-30T10:09:10.362Z"
   },
   {
    "duration": 0,
    "start_time": "2022-10-30T10:09:10.363Z"
   },
   {
    "duration": 0,
    "start_time": "2022-10-30T10:09:10.365Z"
   },
   {
    "duration": 0,
    "start_time": "2022-10-30T10:09:10.367Z"
   },
   {
    "duration": 0,
    "start_time": "2022-10-30T10:09:10.368Z"
   },
   {
    "duration": 0,
    "start_time": "2022-10-30T10:09:10.369Z"
   },
   {
    "duration": 0,
    "start_time": "2022-10-30T10:09:10.371Z"
   },
   {
    "duration": 0,
    "start_time": "2022-10-30T10:09:10.372Z"
   },
   {
    "duration": 61,
    "start_time": "2022-10-30T10:10:14.644Z"
   },
   {
    "duration": 60,
    "start_time": "2022-10-30T10:11:18.585Z"
   },
   {
    "duration": 60,
    "start_time": "2022-10-30T10:11:24.582Z"
   },
   {
    "duration": 70,
    "start_time": "2022-10-30T10:12:34.320Z"
   },
   {
    "duration": 57,
    "start_time": "2022-10-30T10:12:42.639Z"
   },
   {
    "duration": 65,
    "start_time": "2022-10-30T10:12:52.387Z"
   },
   {
    "duration": 160,
    "start_time": "2022-10-30T10:13:29.695Z"
   },
   {
    "duration": 61,
    "start_time": "2022-10-30T10:14:02.535Z"
   },
   {
    "duration": 77,
    "start_time": "2022-10-30T10:14:16.558Z"
   },
   {
    "duration": 160,
    "start_time": "2022-10-30T10:14:18.578Z"
   },
   {
    "duration": 181,
    "start_time": "2022-10-30T10:14:48.812Z"
   },
   {
    "duration": 163,
    "start_time": "2022-10-30T10:15:00.637Z"
   },
   {
    "duration": 157,
    "start_time": "2022-10-30T10:15:05.163Z"
   },
   {
    "duration": 148,
    "start_time": "2022-10-30T10:17:42.770Z"
   },
   {
    "duration": 218,
    "start_time": "2022-10-30T10:18:00.538Z"
   },
   {
    "duration": 19,
    "start_time": "2022-10-30T10:22:25.938Z"
   },
   {
    "duration": 41,
    "start_time": "2022-10-30T10:22:45.999Z"
   },
   {
    "duration": 43,
    "start_time": "2022-10-30T10:23:08.334Z"
   },
   {
    "duration": 75,
    "start_time": "2022-10-30T10:24:35.267Z"
   },
   {
    "duration": 31,
    "start_time": "2022-10-30T10:25:04.010Z"
   },
   {
    "duration": 33,
    "start_time": "2022-10-30T10:25:23.068Z"
   },
   {
    "duration": 33,
    "start_time": "2022-10-30T10:25:32.410Z"
   },
   {
    "duration": 39,
    "start_time": "2022-10-30T10:26:03.934Z"
   },
   {
    "duration": 35,
    "start_time": "2022-10-30T10:26:26.896Z"
   },
   {
    "duration": 33,
    "start_time": "2022-10-30T10:26:39.841Z"
   },
   {
    "duration": 33,
    "start_time": "2022-10-30T10:26:45.474Z"
   },
   {
    "duration": 35,
    "start_time": "2022-10-30T10:27:03.570Z"
   },
   {
    "duration": 43,
    "start_time": "2022-10-30T10:27:11.146Z"
   },
   {
    "duration": 41,
    "start_time": "2022-10-30T10:27:17.883Z"
   },
   {
    "duration": 38,
    "start_time": "2022-10-30T10:27:27.610Z"
   },
   {
    "duration": 35,
    "start_time": "2022-10-30T10:27:33.858Z"
   },
   {
    "duration": 36,
    "start_time": "2022-10-30T10:27:39.769Z"
   },
   {
    "duration": 48,
    "start_time": "2022-10-30T10:27:46.149Z"
   },
   {
    "duration": 37,
    "start_time": "2022-10-30T10:27:50.602Z"
   },
   {
    "duration": 37,
    "start_time": "2022-10-30T10:27:54.466Z"
   },
   {
    "duration": 34,
    "start_time": "2022-10-30T10:28:04.739Z"
   },
   {
    "duration": 32,
    "start_time": "2022-10-30T10:28:08.506Z"
   },
   {
    "duration": 34,
    "start_time": "2022-10-30T10:28:21.497Z"
   },
   {
    "duration": 45,
    "start_time": "2022-10-30T10:29:00.600Z"
   },
   {
    "duration": 34,
    "start_time": "2022-10-30T10:29:09.505Z"
   },
   {
    "duration": 21,
    "start_time": "2022-10-30T10:29:11.696Z"
   },
   {
    "duration": 22,
    "start_time": "2022-10-30T10:30:00.440Z"
   },
   {
    "duration": 17,
    "start_time": "2022-10-30T10:30:52.463Z"
   },
   {
    "duration": 57,
    "start_time": "2022-10-30T10:44:46.459Z"
   },
   {
    "duration": 1114,
    "start_time": "2022-10-31T06:11:09.742Z"
   },
   {
    "duration": 141,
    "start_time": "2022-10-31T06:11:10.858Z"
   },
   {
    "duration": 22,
    "start_time": "2022-10-31T06:11:11.001Z"
   },
   {
    "duration": 27,
    "start_time": "2022-10-31T06:11:11.025Z"
   },
   {
    "duration": 5,
    "start_time": "2022-10-31T06:11:11.053Z"
   },
   {
    "duration": 21,
    "start_time": "2022-10-31T06:11:11.059Z"
   },
   {
    "duration": 34,
    "start_time": "2022-10-31T06:11:11.081Z"
   },
   {
    "duration": 19,
    "start_time": "2022-10-31T06:11:11.117Z"
   },
   {
    "duration": 82,
    "start_time": "2022-10-31T06:11:11.137Z"
   },
   {
    "duration": 165,
    "start_time": "2022-10-31T06:11:11.222Z"
   },
   {
    "duration": 31,
    "start_time": "2022-10-31T06:11:11.389Z"
   },
   {
    "duration": 54,
    "start_time": "2022-10-31T06:11:11.421Z"
   },
   {
    "duration": 53,
    "start_time": "2022-10-31T06:11:11.477Z"
   },
   {
    "duration": 18,
    "start_time": "2022-10-31T06:11:11.531Z"
   },
   {
    "duration": 5,
    "start_time": "2022-10-31T06:11:11.550Z"
   },
   {
    "duration": 18,
    "start_time": "2022-10-31T06:11:11.557Z"
   },
   {
    "duration": 46,
    "start_time": "2022-10-31T06:11:11.576Z"
   },
   {
    "duration": 169,
    "start_time": "2022-10-31T06:11:11.624Z"
   },
   {
    "duration": 29,
    "start_time": "2022-10-31T06:11:11.794Z"
   },
   {
    "duration": 61,
    "start_time": "2022-10-31T06:11:11.824Z"
   },
   {
    "duration": 31,
    "start_time": "2022-10-31T06:11:11.886Z"
   },
   {
    "duration": 6,
    "start_time": "2022-10-31T06:11:11.918Z"
   },
   {
    "duration": 24,
    "start_time": "2022-10-31T06:11:11.925Z"
   },
   {
    "duration": 60,
    "start_time": "2022-10-31T06:11:11.950Z"
   },
   {
    "duration": 21,
    "start_time": "2022-10-31T06:11:12.015Z"
   },
   {
    "duration": 150,
    "start_time": "2022-10-31T06:11:12.037Z"
   },
   {
    "duration": 185,
    "start_time": "2022-10-31T06:11:12.189Z"
   },
   {
    "duration": 8,
    "start_time": "2022-10-31T06:11:12.377Z"
   },
   {
    "duration": 25,
    "start_time": "2022-10-31T06:11:12.386Z"
   },
   {
    "duration": 11,
    "start_time": "2022-10-31T06:11:12.415Z"
   },
   {
    "duration": 203,
    "start_time": "2022-10-31T06:11:12.427Z"
   },
   {
    "duration": 161,
    "start_time": "2022-10-31T06:11:12.631Z"
   },
   {
    "duration": 4,
    "start_time": "2022-10-31T06:11:12.794Z"
   },
   {
    "duration": 13,
    "start_time": "2022-10-31T06:11:12.805Z"
   },
   {
    "duration": 18,
    "start_time": "2022-10-31T06:11:12.819Z"
   },
   {
    "duration": 11,
    "start_time": "2022-10-31T06:11:12.839Z"
   },
   {
    "duration": 12,
    "start_time": "2022-10-31T06:11:12.852Z"
   },
   {
    "duration": 11,
    "start_time": "2022-10-31T06:11:12.865Z"
   },
   {
    "duration": 71,
    "start_time": "2022-10-31T06:11:12.878Z"
   },
   {
    "duration": 42,
    "start_time": "2022-10-31T06:11:12.951Z"
   },
   {
    "duration": 15,
    "start_time": "2022-10-31T06:11:13.005Z"
   },
   {
    "duration": 43,
    "start_time": "2022-10-31T06:11:13.021Z"
   }
  ],
  "kernelspec": {
   "display_name": "Python 3 (ipykernel)",
   "language": "python",
   "name": "python3"
  },
  "language_info": {
   "codemirror_mode": {
    "name": "ipython",
    "version": 3
   },
   "file_extension": ".py",
   "mimetype": "text/x-python",
   "name": "python",
   "nbconvert_exporter": "python",
   "pygments_lexer": "ipython3",
   "version": "3.9.12"
  },
  "toc": {
   "base_numbering": 1,
   "nav_menu": {},
   "number_sections": true,
   "sideBar": true,
   "skip_h1_title": true,
   "title_cell": "Table of Contents",
   "title_sidebar": "Contents",
   "toc_cell": false,
   "toc_position": {},
   "toc_section_display": true,
   "toc_window_display": false
  }
 },
 "nbformat": 4,
 "nbformat_minor": 2
}
