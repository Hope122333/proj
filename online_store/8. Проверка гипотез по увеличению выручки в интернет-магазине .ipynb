{
 "cells": [
  {
   "cell_type": "markdown",
   "metadata": {},
   "source": [
    "\n",
    "# Принятие решений в бизнесе\n",
    "\n",
    "## Описание данных\n",
    "\n",
    "### Данные для первой части\n",
    "\n",
    "Файл /datasets/hypothesis.csv. Скачать датасет\n",
    "\n",
    "Hypothesis — краткое описание гипотезы;\n",
    "\n",
    "Reach — охват пользователей по 10-балльной шкале;\n",
    "\n",
    "Impact — влияние на пользователей по 10-балльной шкале;\n",
    "\n",
    "Confidence — уверенность в гипотезе по 10-балльной шкале;\n",
    "\n",
    "Efforts — затраты ресурсов на проверку гипотезы по 10-балльной шкале. Чем больше значение Efforts, тем дороже проверка гипотезы.\n",
    "Данные для второй части\n",
    "Файл /datasets/orders.csv. Скачать датасет\n",
    "transactionId — идентификатор заказа;\n",
    "\n",
    "visitorId — идентификатор пользователя, совершившего заказ;\n",
    "\n",
    "date — дата, когда был совершён заказ;\n",
    "\n",
    "revenue — выручка заказа;\n",
    "\n",
    "group — группа A/B-теста, в которую попал заказ.\n",
    "\n",
    "Файл /datasets/visitors.csv. Скачать датасет\n",
    "\n",
    "date — дата;\n",
    "\n",
    "group — группа A/B-теста;\n",
    "\n",
    "visitors — количество пользователей в указанную дату в указанной группе A/B-теста\n",
    "\n",
    "\n",
    "### Цели проекта:\n",
    "1.Приоритизируйте гипотезы\n",
    "\n",
    "2.Запустите A/B-тест\n",
    "\n",
    "3.Проанализируйте результаты\n",
    "\n",
    "\n",
    "### Задачи проекта:\n",
    "1.Проверьте выбросы и аномалии\n",
    "\n",
    "2.Примените фреймворк ICE для приоритизации гипотез. Отсортируйте их по убыванию приоритета.\n",
    "\n",
    "3.Примените фреймворк RICE для приоритизации гипотез. Отсортируйте их по убыванию приоритета.\n",
    "\n",
    "4.Укажите, как изменилась приоритизация гипотез при применении RICE вместо ICE. Объясните, почему так произошло.\n",
    "\n",
    "Проанализируйте A/B-тест:\n",
    "\n",
    "5.Постройте график кумулятивной выручки по группам. Сделайте выводы и предположения.\n",
    "\n",
    "6.Постройте график кумулятивного среднего чека по группам. Сделайте выводы и предположения.\n",
    "\n",
    "7.Постройте график относительного изменения кумулятивного среднего чека группы B к группе A. Сделайте выводы и предположения.\n",
    "\n",
    "8.Постройте график кумулятивного среднего количества заказов по группам. Сделайте выводы и предположения.\n",
    "\n",
    "9.Постройте график относительного изменения кумулятивного среднего количества заказов группы B к группе A. Сделайте выводы и предположения.\n",
    "\n",
    "10.Постройте точечный график количества заказов по пользователям. Сделайте выводы и предположения.\n",
    "\n",
    "11.Посчитайте 95-й и 99-й перцентили количества заказов на пользователя. Выберите границу для определения аномальных пользователей.\n",
    "\n",
    "12.Постройте точечный график стоимостей заказов. Сделайте выводы и предположения.\n",
    "\n",
    "13.Посчитайте 95-й и 99-й перцентили стоимости заказов. Выберите границу для определения аномальных заказов.\n",
    "\n",
    "14.Посчитайте статистическую значимость различий в среднем количестве заказов между группами по «сырым» данным. Сделайте выводы и предположения.\n",
    "\n",
    "15.Посчитайте статистическую значимость различий в среднем чеке заказа между группами по «сырым» данным. Сделайте выводы и предположения.\n",
    "\n",
    "16.Посчитайте статистическую значимость различий в среднем количестве заказов между группами по «очищенным» данным. Сделайте выводы и предположения.\n",
    "\n",
    "17.Посчитайте статистическую значимость различий в среднем чеке заказа между группами по «очищенным» данным. Сделайте выводы и предположения.\n",
    "\n",
    "18.Примите решение по результатам теста и объясните его. Варианты решений: 1. Остановить тест, зафиксировать победу одной из групп. 2. Остановить тест, зафиксировать отсутствие различий между группами. 3. Продолжить тест.\n"
   ]
  },
  {
   "cell_type": "code",
   "execution_count": 1,
   "metadata": {},
   "outputs": [],
   "source": [
    "import pandas as pd\n",
    "import datetime as dt\n",
    "import numpy as np\n",
    "import matplotlib.pyplot as plt\n",
    "import scipy.stats as stats\n",
    "pd.options.display.max_colwidth = 100"
   ]
  },
  {
   "cell_type": "code",
   "execution_count": 2,
   "metadata": {
    "scrolled": true
   },
   "outputs": [
    {
     "data": {
      "text/html": [
       "<div>\n",
       "<style scoped>\n",
       "    .dataframe tbody tr th:only-of-type {\n",
       "        vertical-align: middle;\n",
       "    }\n",
       "\n",
       "    .dataframe tbody tr th {\n",
       "        vertical-align: top;\n",
       "    }\n",
       "\n",
       "    .dataframe thead th {\n",
       "        text-align: right;\n",
       "    }\n",
       "</style>\n",
       "<table border=\"1\" class=\"dataframe\">\n",
       "  <thead>\n",
       "    <tr style=\"text-align: right;\">\n",
       "      <th></th>\n",
       "      <th>Hypothesis</th>\n",
       "      <th>Reach</th>\n",
       "      <th>Impact</th>\n",
       "      <th>Confidence</th>\n",
       "      <th>Efforts</th>\n",
       "    </tr>\n",
       "  </thead>\n",
       "  <tbody>\n",
       "    <tr>\n",
       "      <th>0</th>\n",
       "      <td>Добавить два новых канала привлечения трафика, что позволит привлекать на 30% больше пользователей</td>\n",
       "      <td>3</td>\n",
       "      <td>10</td>\n",
       "      <td>8</td>\n",
       "      <td>6</td>\n",
       "    </tr>\n",
       "    <tr>\n",
       "      <th>1</th>\n",
       "      <td>Запустить собственную службу доставки, что сократит срок доставки заказов</td>\n",
       "      <td>2</td>\n",
       "      <td>5</td>\n",
       "      <td>4</td>\n",
       "      <td>10</td>\n",
       "    </tr>\n",
       "    <tr>\n",
       "      <th>2</th>\n",
       "      <td>Добавить блоки рекомендаций товаров на сайт интернет магазина, чтобы повысить конверсию и средни...</td>\n",
       "      <td>8</td>\n",
       "      <td>3</td>\n",
       "      <td>7</td>\n",
       "      <td>3</td>\n",
       "    </tr>\n",
       "    <tr>\n",
       "      <th>3</th>\n",
       "      <td>Изменить структура категорий, что увеличит конверсию, т.к. пользователи быстрее найдут нужный товар</td>\n",
       "      <td>8</td>\n",
       "      <td>3</td>\n",
       "      <td>3</td>\n",
       "      <td>8</td>\n",
       "    </tr>\n",
       "    <tr>\n",
       "      <th>4</th>\n",
       "      <td>Изменить цвет фона главной страницы, чтобы увеличить вовлеченность пользователей</td>\n",
       "      <td>3</td>\n",
       "      <td>1</td>\n",
       "      <td>1</td>\n",
       "      <td>1</td>\n",
       "    </tr>\n",
       "  </tbody>\n",
       "</table>\n",
       "</div>"
      ],
      "text/plain": [
       "                                                                                            Hypothesis  \\\n",
       "0   Добавить два новых канала привлечения трафика, что позволит привлекать на 30% больше пользователей   \n",
       "1                            Запустить собственную службу доставки, что сократит срок доставки заказов   \n",
       "2  Добавить блоки рекомендаций товаров на сайт интернет магазина, чтобы повысить конверсию и средни...   \n",
       "3  Изменить структура категорий, что увеличит конверсию, т.к. пользователи быстрее найдут нужный товар   \n",
       "4                     Изменить цвет фона главной страницы, чтобы увеличить вовлеченность пользователей   \n",
       "\n",
       "   Reach  Impact  Confidence  Efforts  \n",
       "0      3      10           8        6  \n",
       "1      2       5           4       10  \n",
       "2      8       3           7        3  \n",
       "3      8       3           3        8  \n",
       "4      3       1           1        1  "
      ]
     },
     "metadata": {},
     "output_type": "display_data"
    }
   ],
   "source": [
    "data = pd.read_csv('hypothesis.csv', sep=',')\n",
    "display(data.head())"
   ]
  },
  {
   "cell_type": "code",
   "execution_count": 3,
   "metadata": {
    "scrolled": true
   },
   "outputs": [
    {
     "data": {
      "text/html": [
       "<div>\n",
       "<style scoped>\n",
       "    .dataframe tbody tr th:only-of-type {\n",
       "        vertical-align: middle;\n",
       "    }\n",
       "\n",
       "    .dataframe tbody tr th {\n",
       "        vertical-align: top;\n",
       "    }\n",
       "\n",
       "    .dataframe thead th {\n",
       "        text-align: right;\n",
       "    }\n",
       "</style>\n",
       "<table border=\"1\" class=\"dataframe\">\n",
       "  <thead>\n",
       "    <tr style=\"text-align: right;\">\n",
       "      <th></th>\n",
       "      <th>hypothesis</th>\n",
       "      <th>reach</th>\n",
       "      <th>impact</th>\n",
       "      <th>confidence</th>\n",
       "      <th>efforts</th>\n",
       "    </tr>\n",
       "  </thead>\n",
       "  <tbody>\n",
       "    <tr>\n",
       "      <th>0</th>\n",
       "      <td>Добавить два новых канала привлечения трафика, что позволит привлекать на 30% больше пользователей</td>\n",
       "      <td>3</td>\n",
       "      <td>10</td>\n",
       "      <td>8</td>\n",
       "      <td>6</td>\n",
       "    </tr>\n",
       "    <tr>\n",
       "      <th>1</th>\n",
       "      <td>Запустить собственную службу доставки, что сократит срок доставки заказов</td>\n",
       "      <td>2</td>\n",
       "      <td>5</td>\n",
       "      <td>4</td>\n",
       "      <td>10</td>\n",
       "    </tr>\n",
       "    <tr>\n",
       "      <th>2</th>\n",
       "      <td>Добавить блоки рекомендаций товаров на сайт интернет магазина, чтобы повысить конверсию и средни...</td>\n",
       "      <td>8</td>\n",
       "      <td>3</td>\n",
       "      <td>7</td>\n",
       "      <td>3</td>\n",
       "    </tr>\n",
       "    <tr>\n",
       "      <th>3</th>\n",
       "      <td>Изменить структура категорий, что увеличит конверсию, т.к. пользователи быстрее найдут нужный товар</td>\n",
       "      <td>8</td>\n",
       "      <td>3</td>\n",
       "      <td>3</td>\n",
       "      <td>8</td>\n",
       "    </tr>\n",
       "    <tr>\n",
       "      <th>4</th>\n",
       "      <td>Изменить цвет фона главной страницы, чтобы увеличить вовлеченность пользователей</td>\n",
       "      <td>3</td>\n",
       "      <td>1</td>\n",
       "      <td>1</td>\n",
       "      <td>1</td>\n",
       "    </tr>\n",
       "  </tbody>\n",
       "</table>\n",
       "</div>"
      ],
      "text/plain": [
       "                                                                                            hypothesis  \\\n",
       "0   Добавить два новых канала привлечения трафика, что позволит привлекать на 30% больше пользователей   \n",
       "1                            Запустить собственную службу доставки, что сократит срок доставки заказов   \n",
       "2  Добавить блоки рекомендаций товаров на сайт интернет магазина, чтобы повысить конверсию и средни...   \n",
       "3  Изменить структура категорий, что увеличит конверсию, т.к. пользователи быстрее найдут нужный товар   \n",
       "4                     Изменить цвет фона главной страницы, чтобы увеличить вовлеченность пользователей   \n",
       "\n",
       "   reach  impact  confidence  efforts  \n",
       "0      3      10           8        6  \n",
       "1      2       5           4       10  \n",
       "2      8       3           7        3  \n",
       "3      8       3           3        8  \n",
       "4      3       1           1        1  "
      ]
     },
     "metadata": {},
     "output_type": "display_data"
    }
   ],
   "source": [
    "data.columns = data.columns.str.lower()\n",
    "display(data.head())"
   ]
  },
  {
   "cell_type": "code",
   "execution_count": 4,
   "metadata": {},
   "outputs": [
    {
     "name": "stdout",
     "output_type": "stream",
     "text": [
      "<class 'pandas.core.frame.DataFrame'>\n",
      "RangeIndex: 9 entries, 0 to 8\n",
      "Data columns (total 5 columns):\n",
      " #   Column      Non-Null Count  Dtype \n",
      "---  ------      --------------  ----- \n",
      " 0   hypothesis  9 non-null      object\n",
      " 1   reach       9 non-null      int64 \n",
      " 2   impact      9 non-null      int64 \n",
      " 3   confidence  9 non-null      int64 \n",
      " 4   efforts     9 non-null      int64 \n",
      "dtypes: int64(4), object(1)\n",
      "memory usage: 488.0+ bytes\n"
     ]
    }
   ],
   "source": [
    "data.info()"
   ]
  },
  {
   "cell_type": "markdown",
   "metadata": {},
   "source": [
    "Применить фреймворк ICE для приоритизации гипотез. "
   ]
  },
  {
   "cell_type": "code",
   "execution_count": 5,
   "metadata": {},
   "outputs": [
    {
     "data": {
      "text/html": [
       "<div>\n",
       "<style scoped>\n",
       "    .dataframe tbody tr th:only-of-type {\n",
       "        vertical-align: middle;\n",
       "    }\n",
       "\n",
       "    .dataframe tbody tr th {\n",
       "        vertical-align: top;\n",
       "    }\n",
       "\n",
       "    .dataframe thead th {\n",
       "        text-align: right;\n",
       "    }\n",
       "</style>\n",
       "<table border=\"1\" class=\"dataframe\">\n",
       "  <thead>\n",
       "    <tr style=\"text-align: right;\">\n",
       "      <th></th>\n",
       "      <th>hypothesis</th>\n",
       "      <th>reach</th>\n",
       "      <th>impact</th>\n",
       "      <th>confidence</th>\n",
       "      <th>efforts</th>\n",
       "      <th>ICE</th>\n",
       "    </tr>\n",
       "  </thead>\n",
       "  <tbody>\n",
       "    <tr>\n",
       "      <th>0</th>\n",
       "      <td>Добавить два новых канала привлечения трафика, что позволит привлекать на 30% больше пользователей</td>\n",
       "      <td>3</td>\n",
       "      <td>10</td>\n",
       "      <td>8</td>\n",
       "      <td>6</td>\n",
       "      <td>13.33</td>\n",
       "    </tr>\n",
       "    <tr>\n",
       "      <th>1</th>\n",
       "      <td>Запустить собственную службу доставки, что сократит срок доставки заказов</td>\n",
       "      <td>2</td>\n",
       "      <td>5</td>\n",
       "      <td>4</td>\n",
       "      <td>10</td>\n",
       "      <td>2.00</td>\n",
       "    </tr>\n",
       "    <tr>\n",
       "      <th>2</th>\n",
       "      <td>Добавить блоки рекомендаций товаров на сайт интернет магазина, чтобы повысить конверсию и средни...</td>\n",
       "      <td>8</td>\n",
       "      <td>3</td>\n",
       "      <td>7</td>\n",
       "      <td>3</td>\n",
       "      <td>7.00</td>\n",
       "    </tr>\n",
       "    <tr>\n",
       "      <th>3</th>\n",
       "      <td>Изменить структура категорий, что увеличит конверсию, т.к. пользователи быстрее найдут нужный товар</td>\n",
       "      <td>8</td>\n",
       "      <td>3</td>\n",
       "      <td>3</td>\n",
       "      <td>8</td>\n",
       "      <td>1.12</td>\n",
       "    </tr>\n",
       "    <tr>\n",
       "      <th>4</th>\n",
       "      <td>Изменить цвет фона главной страницы, чтобы увеличить вовлеченность пользователей</td>\n",
       "      <td>3</td>\n",
       "      <td>1</td>\n",
       "      <td>1</td>\n",
       "      <td>1</td>\n",
       "      <td>1.00</td>\n",
       "    </tr>\n",
       "    <tr>\n",
       "      <th>5</th>\n",
       "      <td>Добавить страницу отзывов клиентов о магазине, что позволит увеличить количество заказов</td>\n",
       "      <td>3</td>\n",
       "      <td>2</td>\n",
       "      <td>2</td>\n",
       "      <td>3</td>\n",
       "      <td>1.33</td>\n",
       "    </tr>\n",
       "    <tr>\n",
       "      <th>6</th>\n",
       "      <td>Показать на главной странице баннеры с актуальными акциями и распродажами, чтобы увеличить конве...</td>\n",
       "      <td>5</td>\n",
       "      <td>3</td>\n",
       "      <td>8</td>\n",
       "      <td>3</td>\n",
       "      <td>8.00</td>\n",
       "    </tr>\n",
       "    <tr>\n",
       "      <th>7</th>\n",
       "      <td>Добавить форму подписки на все основные страницы, чтобы собрать базу клиентов для email-рассылок</td>\n",
       "      <td>10</td>\n",
       "      <td>7</td>\n",
       "      <td>8</td>\n",
       "      <td>5</td>\n",
       "      <td>11.20</td>\n",
       "    </tr>\n",
       "    <tr>\n",
       "      <th>8</th>\n",
       "      <td>Запустить акцию, дающую скидку на товар в день рождения</td>\n",
       "      <td>1</td>\n",
       "      <td>9</td>\n",
       "      <td>9</td>\n",
       "      <td>5</td>\n",
       "      <td>16.20</td>\n",
       "    </tr>\n",
       "  </tbody>\n",
       "</table>\n",
       "</div>"
      ],
      "text/plain": [
       "                                                                                            hypothesis  \\\n",
       "0   Добавить два новых канала привлечения трафика, что позволит привлекать на 30% больше пользователей   \n",
       "1                            Запустить собственную службу доставки, что сократит срок доставки заказов   \n",
       "2  Добавить блоки рекомендаций товаров на сайт интернет магазина, чтобы повысить конверсию и средни...   \n",
       "3  Изменить структура категорий, что увеличит конверсию, т.к. пользователи быстрее найдут нужный товар   \n",
       "4                     Изменить цвет фона главной страницы, чтобы увеличить вовлеченность пользователей   \n",
       "5             Добавить страницу отзывов клиентов о магазине, что позволит увеличить количество заказов   \n",
       "6  Показать на главной странице баннеры с актуальными акциями и распродажами, чтобы увеличить конве...   \n",
       "7     Добавить форму подписки на все основные страницы, чтобы собрать базу клиентов для email-рассылок   \n",
       "8                                              Запустить акцию, дающую скидку на товар в день рождения   \n",
       "\n",
       "   reach  impact  confidence  efforts    ICE  \n",
       "0      3      10           8        6  13.33  \n",
       "1      2       5           4       10   2.00  \n",
       "2      8       3           7        3   7.00  \n",
       "3      8       3           3        8   1.12  \n",
       "4      3       1           1        1   1.00  \n",
       "5      3       2           2        3   1.33  \n",
       "6      5       3           8        3   8.00  \n",
       "7     10       7           8        5  11.20  \n",
       "8      1       9           9        5  16.20  "
      ]
     },
     "metadata": {},
     "output_type": "display_data"
    }
   ],
   "source": [
    "data['ICE'] = round((data['impact'] * data['confidence']) / data['efforts'], 2)\n",
    "display(data)"
   ]
  },
  {
   "cell_type": "markdown",
   "metadata": {},
   "source": [
    "Применить фреймворк RICE для приоритизации гипотез. "
   ]
  },
  {
   "cell_type": "code",
   "execution_count": 6,
   "metadata": {},
   "outputs": [
    {
     "data": {
      "text/html": [
       "<div>\n",
       "<style scoped>\n",
       "    .dataframe tbody tr th:only-of-type {\n",
       "        vertical-align: middle;\n",
       "    }\n",
       "\n",
       "    .dataframe tbody tr th {\n",
       "        vertical-align: top;\n",
       "    }\n",
       "\n",
       "    .dataframe thead th {\n",
       "        text-align: right;\n",
       "    }\n",
       "</style>\n",
       "<table border=\"1\" class=\"dataframe\">\n",
       "  <thead>\n",
       "    <tr style=\"text-align: right;\">\n",
       "      <th></th>\n",
       "      <th>hypothesis</th>\n",
       "      <th>reach</th>\n",
       "      <th>impact</th>\n",
       "      <th>confidence</th>\n",
       "      <th>efforts</th>\n",
       "      <th>ICE</th>\n",
       "      <th>RICE</th>\n",
       "    </tr>\n",
       "  </thead>\n",
       "  <tbody>\n",
       "    <tr>\n",
       "      <th>7</th>\n",
       "      <td>Добавить форму подписки на все основные страницы, чтобы собрать базу клиентов для email-рассылок</td>\n",
       "      <td>10</td>\n",
       "      <td>7</td>\n",
       "      <td>8</td>\n",
       "      <td>5</td>\n",
       "      <td>11.20</td>\n",
       "      <td>112.0</td>\n",
       "    </tr>\n",
       "    <tr>\n",
       "      <th>2</th>\n",
       "      <td>Добавить блоки рекомендаций товаров на сайт интернет магазина, чтобы повысить конверсию и средни...</td>\n",
       "      <td>8</td>\n",
       "      <td>3</td>\n",
       "      <td>7</td>\n",
       "      <td>3</td>\n",
       "      <td>7.00</td>\n",
       "      <td>56.0</td>\n",
       "    </tr>\n",
       "    <tr>\n",
       "      <th>0</th>\n",
       "      <td>Добавить два новых канала привлечения трафика, что позволит привлекать на 30% больше пользователей</td>\n",
       "      <td>3</td>\n",
       "      <td>10</td>\n",
       "      <td>8</td>\n",
       "      <td>6</td>\n",
       "      <td>13.33</td>\n",
       "      <td>40.0</td>\n",
       "    </tr>\n",
       "    <tr>\n",
       "      <th>6</th>\n",
       "      <td>Показать на главной странице баннеры с актуальными акциями и распродажами, чтобы увеличить конве...</td>\n",
       "      <td>5</td>\n",
       "      <td>3</td>\n",
       "      <td>8</td>\n",
       "      <td>3</td>\n",
       "      <td>8.00</td>\n",
       "      <td>40.0</td>\n",
       "    </tr>\n",
       "    <tr>\n",
       "      <th>8</th>\n",
       "      <td>Запустить акцию, дающую скидку на товар в день рождения</td>\n",
       "      <td>1</td>\n",
       "      <td>9</td>\n",
       "      <td>9</td>\n",
       "      <td>5</td>\n",
       "      <td>16.20</td>\n",
       "      <td>16.2</td>\n",
       "    </tr>\n",
       "    <tr>\n",
       "      <th>3</th>\n",
       "      <td>Изменить структура категорий, что увеличит конверсию, т.к. пользователи быстрее найдут нужный товар</td>\n",
       "      <td>8</td>\n",
       "      <td>3</td>\n",
       "      <td>3</td>\n",
       "      <td>8</td>\n",
       "      <td>1.12</td>\n",
       "      <td>9.0</td>\n",
       "    </tr>\n",
       "    <tr>\n",
       "      <th>1</th>\n",
       "      <td>Запустить собственную службу доставки, что сократит срок доставки заказов</td>\n",
       "      <td>2</td>\n",
       "      <td>5</td>\n",
       "      <td>4</td>\n",
       "      <td>10</td>\n",
       "      <td>2.00</td>\n",
       "      <td>4.0</td>\n",
       "    </tr>\n",
       "    <tr>\n",
       "      <th>5</th>\n",
       "      <td>Добавить страницу отзывов клиентов о магазине, что позволит увеличить количество заказов</td>\n",
       "      <td>3</td>\n",
       "      <td>2</td>\n",
       "      <td>2</td>\n",
       "      <td>3</td>\n",
       "      <td>1.33</td>\n",
       "      <td>4.0</td>\n",
       "    </tr>\n",
       "    <tr>\n",
       "      <th>4</th>\n",
       "      <td>Изменить цвет фона главной страницы, чтобы увеличить вовлеченность пользователей</td>\n",
       "      <td>3</td>\n",
       "      <td>1</td>\n",
       "      <td>1</td>\n",
       "      <td>1</td>\n",
       "      <td>1.00</td>\n",
       "      <td>3.0</td>\n",
       "    </tr>\n",
       "  </tbody>\n",
       "</table>\n",
       "</div>"
      ],
      "text/plain": [
       "                                                                                            hypothesis  \\\n",
       "7     Добавить форму подписки на все основные страницы, чтобы собрать базу клиентов для email-рассылок   \n",
       "2  Добавить блоки рекомендаций товаров на сайт интернет магазина, чтобы повысить конверсию и средни...   \n",
       "0   Добавить два новых канала привлечения трафика, что позволит привлекать на 30% больше пользователей   \n",
       "6  Показать на главной странице баннеры с актуальными акциями и распродажами, чтобы увеличить конве...   \n",
       "8                                              Запустить акцию, дающую скидку на товар в день рождения   \n",
       "3  Изменить структура категорий, что увеличит конверсию, т.к. пользователи быстрее найдут нужный товар   \n",
       "1                            Запустить собственную службу доставки, что сократит срок доставки заказов   \n",
       "5             Добавить страницу отзывов клиентов о магазине, что позволит увеличить количество заказов   \n",
       "4                     Изменить цвет фона главной страницы, чтобы увеличить вовлеченность пользователей   \n",
       "\n",
       "   reach  impact  confidence  efforts    ICE   RICE  \n",
       "7     10       7           8        5  11.20  112.0  \n",
       "2      8       3           7        3   7.00   56.0  \n",
       "0      3      10           8        6  13.33   40.0  \n",
       "6      5       3           8        3   8.00   40.0  \n",
       "8      1       9           9        5  16.20   16.2  \n",
       "3      8       3           3        8   1.12    9.0  \n",
       "1      2       5           4       10   2.00    4.0  \n",
       "5      3       2           2        3   1.33    4.0  \n",
       "4      3       1           1        1   1.00    3.0  "
      ]
     },
     "metadata": {},
     "output_type": "display_data"
    }
   ],
   "source": [
    "data['RICE'] = (data['reach'] * data['impact'] * data['confidence']) / data['efforts']\n",
    "display(data.sort_values('RICE', ascending=False))"
   ]
  },
  {
   "cell_type": "markdown",
   "metadata": {},
   "source": [
    "Приоритизация  гипотез изменилась из-за добавления параметра в расчет Reach. Выходит, что больше пользователей затронет гипотеза которая в расчете Rice первая."
   ]
  },
  {
   "cell_type": "code",
   "execution_count": 7,
   "metadata": {},
   "outputs": [],
   "source": [
    "orders = pd.read_csv('orders.csv', sep=',')\n",
    "orders['date'] =  pd.to_datetime(orders['date'])\n",
    "\n",
    "\n",
    "visitors = pd.read_csv('visitors.csv', sep=',')\n",
    "visitors['date'] =  pd.to_datetime(visitors['date'])\n"
   ]
  },
  {
   "cell_type": "code",
   "execution_count": 8,
   "metadata": {},
   "outputs": [
    {
     "name": "stdout",
     "output_type": "stream",
     "text": [
      "Время начала проведения теста: 2019-08-01 00:00:00\n",
      "Время окончания проведения теста: 2019-08-31 00:00:00\n",
      "Количество групп в тесте: 2, уникальные группы: ['B' 'A']\n",
      "Количество пользователей в группе B равно : 640\n",
      "Количество пользователей в группе A равно : 557\n"
     ]
    }
   ],
   "source": [
    "print('Время начала проведения теста:',orders['date'].min())\n",
    "print('Время окончания проведения теста:', orders['date'].max())\n",
    "print('Количество групп в тесте: {}, уникальные группы: {}'.format(orders['group'].nunique(), orders['group'].unique()))\n",
    "print('Количество пользователей в группе B равно :',orders[orders['group']=='B']['group'].count())\n",
    "print('Количество пользователей в группе A равно :', orders[orders['group']=='A']['group'].count())   "
   ]
  },
  {
   "cell_type": "markdown",
   "metadata": {},
   "source": [
    "Количество групп в тесте равно: 2\n",
    "\n",
    "Значит, тест парный."
   ]
  },
  {
   "cell_type": "markdown",
   "metadata": {},
   "source": [
    "Проверить пересечение пользователей группы А и B по визитам."
   ]
  },
  {
   "cell_type": "code",
   "execution_count": 9,
   "metadata": {},
   "outputs": [
    {
     "name": "stdout",
     "output_type": "stream",
     "text": [
      "Количество пересечений группы А и Б по визитам равно: 58\n"
     ]
    }
   ],
   "source": [
    "user_intersection = orders.groupby('visitorId').agg({'group':'nunique'})\n",
    "user_intersection = user_intersection[user_intersection['group'] == 2].count()\n",
    "print('Количество пересечений группы А и Б по визитам равно:',user_intersection['group'])"
   ]
  },
  {
   "cell_type": "markdown",
   "metadata": {},
   "source": [
    "Проверить пропущенные значения."
   ]
  },
  {
   "cell_type": "code",
   "execution_count": 10,
   "metadata": {},
   "outputs": [
    {
     "name": "stdout",
     "output_type": "stream",
     "text": [
      "transactionId    0\n",
      "visitorId        0\n",
      "date             0\n",
      "revenue          0\n",
      "group            0\n",
      "dtype: int64\n",
      "date        0\n",
      "group       0\n",
      "visitors    0\n",
      "dtype: int64\n"
     ]
    }
   ],
   "source": [
    "print(orders.isnull().sum())\n",
    "print(visitors.isnull().sum())"
   ]
  },
  {
   "cell_type": "markdown",
   "metadata": {},
   "source": [
    "#Проверить дубликаты."
   ]
  },
  {
   "cell_type": "code",
   "execution_count": 11,
   "metadata": {},
   "outputs": [
    {
     "name": "stdout",
     "output_type": "stream",
     "text": [
      "Количество дубликатов в заказах равно: 0 \n",
      " Количество дубликатов в визитах равно: 0\n"
     ]
    }
   ],
   "source": [
    "print('Количество дубликатов в заказах равно:',orders.duplicated().sum(), '\\n',\n",
    "'Количество дубликатов в визитах равно:',visitors.duplicated().sum())"
   ]
  },
  {
   "cell_type": "markdown",
   "metadata": {},
   "source": [
    "Убрать дубликаты по группам."
   ]
  },
  {
   "cell_type": "code",
   "execution_count": 12,
   "metadata": {},
   "outputs": [
    {
     "data": {
      "text/plain": [
       "0       3312258926\n",
       "1       3642806036\n",
       "3       1196621759\n",
       "4       2322279887\n",
       "5        935554773\n",
       "           ...    \n",
       "1186    2146711261\n",
       "1190    1197745035\n",
       "1191     608641596\n",
       "1192    3733762160\n",
       "1196    2108080724\n",
       "Name: visitorId, Length: 586, dtype: int64"
      ]
     },
     "execution_count": 12,
     "metadata": {},
     "output_type": "execute_result"
    }
   ],
   "source": [
    "df_a = orders.query('group == \"A\"')\n",
    "df_b = orders.query('group == \"B\"')\n",
    "\n",
    "\n",
    "df_a['visitorId'].drop_duplicates(),\n",
    "df_b['visitorId'].drop_duplicates()"
   ]
  },
  {
   "cell_type": "markdown",
   "metadata": {},
   "source": [
    "Построить график кумулятивной выручки по группам."
   ]
  },
  {
   "cell_type": "code",
   "execution_count": 13,
   "metadata": {},
   "outputs": [],
   "source": [
    "datesGroups = orders[['date', 'group']].drop_duplicates()\n",
    "\n",
    "ordersAggregated = datesGroups.apply(\n",
    "    lambda x : orders[np.logical_and(\n",
    "    orders['date'] <= x['date'], orders['group'] == x['group'])]\n",
    "    .agg({'date' :'max',\n",
    "         'group': 'max',\n",
    "          'transactionId':'nunique',\n",
    "         'visitorId': 'nunique',\n",
    "        'revenue': 'sum'})\n",
    "    , axis = 1\n",
    ").sort_values(by =['date', 'group'])\n",
    "\n",
    "visitorsAggregated =  datesGroups.apply(\n",
    "    lambda x : visitors[np.logical_and(\n",
    "    visitors['date'] <= x['date'], visitors['group'] == x['group'])]\n",
    "    .agg({'date' :'max',\n",
    "         'group': 'max',\n",
    "        'visitors': 'sum'})\n",
    "    , axis = 1\n",
    ").sort_values(by = ['date', 'group'])\n",
    "\n",
    "cumulativeData = ordersAggregated.merge(visitorsAggregated, left_on = ['date','group'], right_on = ['date','group'])\n",
    "cumulativeData.columns = [\n",
    "    'date',\n",
    "    'group',\n",
    "    'orders',\n",
    "    'buyers',\n",
    "    'revenue',\n",
    "    'visitors',\n",
    "]"
   ]
  },
  {
   "cell_type": "code",
   "execution_count": 14,
   "metadata": {},
   "outputs": [
    {
     "data": {
      "image/png": "[encoded data removed]",
      "text/plain": [
       "<Figure size 720x432 with 1 Axes>"
      ]
     },
     "metadata": {
      "needs_background": "light"
     },
     "output_type": "display_data"
    }
   ],
   "source": [
    "# датафрейм с кумулятивным количеством заказов и кумулятивной выручкой по дням в группе А\n",
    "cumulativeRevenueA = cumulativeData[cumulativeData['group'] == 'A'][['date','orders','revenue']]\n",
    "# датафрейм с кумулятивным количеством заказов и кумулятивной выручкой по дням в группе B\n",
    "cumulativeRevenueB = cumulativeData[cumulativeData['group'] == 'B'][['date','orders','revenue']]\n",
    "\n",
    "\n",
    "plt.figure(figsize=(10,6))\n",
    "# Строим график выручки группы А\n",
    "plt.plot(cumulativeRevenueA['date'], cumulativeRevenueA['revenue'], label='A',color= 'red')\n",
    "\n",
    "# Строим график выручки группы B\n",
    "plt.plot(cumulativeRevenueB['date'], cumulativeRevenueB['revenue'], label='B')\n",
    "plt.xticks(rotation = 45)\n",
    "plt.xlabel(\"Даты\")\n",
    "plt.ylabel(\"Выручка\")\n",
    "plt.title('График выручки для групп')\n",
    "plt.legend();"
   ]
  },
  {
   "cell_type": "markdown",
   "metadata": {},
   "source": [
    "Построить график кумулятивного среднего чека по группам."
   ]
  },
  {
   "cell_type": "code",
   "execution_count": 15,
   "metadata": {},
   "outputs": [
    {
     "data": {
      "image/png": "[encoded data removed]",
      "text/plain": [
       "<Figure size 720x432 with 1 Axes>"
      ]
     },
     "metadata": {
      "needs_background": "light"
     },
     "output_type": "display_data"
    }
   ],
   "source": [
    "plt.figure(figsize=(10,6))\n",
    "plt.plot(cumulativeRevenueA['date'], cumulativeRevenueA['revenue']/cumulativeRevenueA['orders'], label='A')\n",
    "plt.plot(cumulativeRevenueB['date'], cumulativeRevenueB['revenue']/cumulativeRevenueB['orders'], label='B')\n",
    "plt.xlabel(\"Даты\")\n",
    "plt.ylabel(\"Кумулятивный средний чек\")\n",
    "plt.xticks(rotation = 40)\n",
    "plt.title('График кумулятивного среднего чека для групп')\n",
    "plt.legend();"
   ]
  },
  {
   "cell_type": "markdown",
   "metadata": {},
   "source": [
    "Средний чек группы В резко вырос в определенный момент, возможно, какой удачный маркетинговый ход. Результат которого сохранился и дальше."
   ]
  },
  {
   "cell_type": "markdown",
   "metadata": {},
   "source": [
    "Построить график относительного изменения кумулятивного среднего чека группы B к группе A."
   ]
  },
  {
   "cell_type": "code",
   "execution_count": 16,
   "metadata": {},
   "outputs": [
    {
     "data": {
      "image/png": "[encoded data removed]",
      "text/plain": [
       "<Figure size 720x432 with 1 Axes>"
      ]
     },
     "metadata": {
      "needs_background": "light"
     },
     "output_type": "display_data"
    }
   ],
   "source": [
    "plt.figure(figsize = (10,6))\n",
    "mergedCumulativeRevenue = cumulativeRevenueA.merge(cumulativeRevenueB, left_on='date', right_on='date', how='left',\\\n",
    "                                                   suffixes=['A', 'B'])\n",
    "plt.plot(mergedCumulativeRevenue['date'], (mergedCumulativeRevenue['revenueB'] / \\\n",
    "                                           mergedCumulativeRevenue['ordersB']) / \\\n",
    "         (mergedCumulativeRevenue['revenueA'] / mergedCumulativeRevenue['ordersA']) - 1)\n",
    "plt.axhline(y = 0, color = 'black', linestyle = '--') \n",
    "plt.xlabel(\"Даты\")\n",
    "plt.ylabel(\"Кумулятивный средний чек\")\n",
    "plt.xticks(rotation = 40)\n",
    "plt.title('График относительного изменения кумулятивного среднего чека группы В к группе А');"
   ]
  },
  {
   "cell_type": "markdown",
   "metadata": {},
   "source": [
    "Возможно в несколько из этих дат были совершенены аномальные заказы.\n"
   ]
  },
  {
   "cell_type": "markdown",
   "metadata": {},
   "source": [
    "Построить график кумулятивной конверсии по дням по группам."
   ]
  },
  {
   "cell_type": "code",
   "execution_count": 17,
   "metadata": {},
   "outputs": [
    {
     "data": {
      "image/png": "[encoded data removed]",
      "text/plain": [
       "<Figure size 720x432 with 1 Axes>"
      ]
     },
     "metadata": {
      "needs_background": "light"
     },
     "output_type": "display_data"
    }
   ],
   "source": [
    "cumulativeData['conversion'] = cumulativeData['orders']/cumulativeData['visitors']\n",
    "# отделяем данные по группе A\n",
    "cumulativeDataA = cumulativeData[cumulativeData['group']=='A']\n",
    "plt.figure(figsize=(10,6))\n",
    "# отделяем данные по группе B\n",
    "cumulativeDataB = cumulativeData[cumulativeData['group']=='B']\n",
    "plt.plot(cumulativeDataA['date'], cumulativeDataA['conversion'], label='A')\n",
    "plt.plot(cumulativeDataB['date'], cumulativeDataB['conversion'], label='B')\n",
    "\n",
    "plt.xlabel(\"Даты\")\n",
    "plt.ylabel(\"Кумулятивная конверсия\")\n",
    "plt.xticks(rotation = 40)\n",
    "plt.title('График кумулятивной конверсии по дням для групп')\n",
    "plt.legend();"
   ]
  },
  {
   "cell_type": "markdown",
   "metadata": {},
   "source": [
    "Вначале теста сегмент А имел большую конверсию , чем сегмент В, но скоро конверсия сегмента В увеличилась и закрепилась,и стала выше чем конверсия сегмента А.\n"
   ]
  },
  {
   "cell_type": "markdown",
   "metadata": {},
   "source": [
    "Построить график относительного различия кумулятивной конверсии группы B к группе A."
   ]
  },
  {
   "cell_type": "code",
   "execution_count": 18,
   "metadata": {},
   "outputs": [
    {
     "data": {
      "image/png": "[encoded data removed]",
      "text/plain": [
       "<Figure size 720x432 with 1 Axes>"
      ]
     },
     "metadata": {
      "needs_background": "light"
     },
     "output_type": "display_data"
    }
   ],
   "source": [
    "mergedCumulativeConversions = cumulativeDataA[['date','conversion']].merge(cumulativeDataB[['date','conversion']],\\\n",
    "                                                            left_on='date', right_on='date', how='left', suffixes=['A', 'B'])\n",
    "\n",
    "plt.figure(figsize=(10,6))\n",
    "plt.plot(mergedCumulativeConversions['date'], mergedCumulativeConversions['conversionB']/ \\\n",
    "         mergedCumulativeConversions['conversionA']-1, label=\"Относительный прирост конверсии группы B относительно группы A\")\n",
    "plt.legend()\n",
    "plt.xticks(rotation = 40)\n",
    "plt.axhline(y=0, color='black', linestyle='--')\n",
    "plt.axhline(y=0.2, color='grey', linestyle='--')\n",
    "plt.xlabel(\"Даты\")\n",
    "plt.ylabel(\"Кумулятивная конверсия\")\n",
    "plt.title('График относительного различия кумулятивной конверсии группы В к группе А');"
   ]
  },
  {
   "cell_type": "markdown",
   "metadata": {},
   "source": [
    "Группа сегмента B лидирует по конверсии относительно группы А. Она зафиксировалась в 15 процентах выше чем группа сегмента А."
   ]
  },
  {
   "cell_type": "markdown",
   "metadata": {},
   "source": [
    "Построить гистограмму распределения числа заказов по пользователям методом."
   ]
  },
  {
   "cell_type": "code",
   "execution_count": 19,
   "metadata": {},
   "outputs": [
    {
     "name": "stdout",
     "output_type": "stream",
     "text": [
      "          userId  orders\n",
      "1030  4283872382       1\n",
      "1029  4281247801       1\n",
      "1028  4279090005       1\n",
      "1027  4278982564       1\n",
      "1026  4266935830       2\n",
      "1025  4259830713       1\n",
      "1024  4258103007       1\n",
      "1023  4256040402      11\n",
      "1022  4251115836       1\n",
      "1021  4251087345       1\n"
     ]
    },
    {
     "data": {
      "image/png": "[encoded data removed]",
      "text/plain": [
       "<Figure size 1008x504 with 1 Axes>"
      ]
     },
     "metadata": {
      "needs_background": "light"
     },
     "output_type": "display_data"
    }
   ],
   "source": [
    "ordersByUsers = (\n",
    "    orders.groupby('visitorId', as_index=False)\n",
    "    .agg({'transactionId': 'nunique'})\n",
    ")\n",
    "plt.figure(figsize=(14,7))\n",
    "ordersByUsers.columns = ['userId', 'orders']\n",
    "\n",
    "print(ordersByUsers.sort_values(by='userId', ascending=False).head(10))\n",
    "\n",
    "# серия из чисел от 0 до количества наблюдений в ordersByUsers\n",
    "x_values = pd.Series(range(0, len(ordersByUsers)))\n",
    "plt.scatter(x_values, ordersByUsers['orders']) \n",
    "plt.title('Точечный график распределения числа заказов')\n",
    "plt.xlabel(\"Пользователи\")\n",
    "plt.ylabel(\"Заказы\");"
   ]
  },
  {
   "cell_type": "markdown",
   "metadata": {},
   "source": [
    "Пользователей заказавших более пяти раз совсем мало, что может быть показателем их аномальности."
   ]
  },
  {
   "cell_type": "markdown",
   "metadata": {},
   "source": [
    "Посчитать 95-й и 99-й перцентили количества заказов на пользователя."
   ]
  },
  {
   "cell_type": "code",
   "execution_count": 20,
   "metadata": {},
   "outputs": [
    {
     "name": "stdout",
     "output_type": "stream",
     "text": [
      "перцентиль 95-й равен: 2\n",
      "перцентиль 99-й равен: 4\n"
     ]
    }
   ],
   "source": [
    "data_orders = np.array(ordersByUsers['orders'])\n",
    "print('перцентиль 95-й равен:',int(np.percentile(data_orders, 95))) \n",
    "print('перцентиль 99-й равен:',int(np.percentile(data_orders, 99))) "
   ]
  },
  {
   "cell_type": "markdown",
   "metadata": {},
   "source": [
    "5 Процентов данных заказов содержит 2 заказа. 1 Процент данных заказов содержит 4 заказа. Итого аномальными можно считать 3-4 заказа, потому что они являются выбивающимися значениями из выборки по заказам."
   ]
  },
  {
   "cell_type": "markdown",
   "metadata": {},
   "source": [
    "Построить точечный график стоимостей заказов."
   ]
  },
  {
   "cell_type": "code",
   "execution_count": 21,
   "metadata": {},
   "outputs": [
    {
     "name": "stdout",
     "output_type": "stream",
     "text": [
      "      transactionId   visitorId       date  revenue group\n",
      "425       590470918  1920142716 2019-08-19  1294500     B\n",
      "1196     3936777065  2108080724 2019-08-15   202740     B\n",
      "858       192721366  1316129916 2019-08-27    93940     A\n",
      "1136      666610489  1307669133 2019-08-13    92550     A\n",
      "744      3668308183   888512513 2019-08-27    86620     B\n",
      "682      1216533772  4266935830 2019-08-29    78990     B\n",
      "662      1811671147  4266935830 2019-08-29    78990     A\n",
      "743      3603576309  4133034833 2019-08-09    67990     A\n",
      "1103     1348774318  1164614297 2019-08-12    66350     A\n",
      "1099      316924019   148427295 2019-08-12    65710     A\n"
     ]
    },
    {
     "data": {
      "image/png": "[encoded data removed]",
      "text/plain": [
       "<Figure size 1008x504 with 1 Axes>"
      ]
     },
     "metadata": {
      "needs_background": "light"
     },
     "output_type": "display_data"
    }
   ],
   "source": [
    "plt.figure(figsize=(14,7))\n",
    "print(orders.sort_values(by='revenue', ascending=False).head(10))\n",
    "#удалить аномальные значения\n",
    "data = orders.loc[orders['revenue']<202739]\n",
    "x_values = pd.Series(range(0, len(data['revenue'])))\n",
    "#визуализировать без аномальных значений\n",
    "plt.scatter(x_values, data['revenue']) \n",
    "plt.xlabel(\"Пользователи\")\n",
    "plt.ylabel(\"Стоимость\")\n",
    "plt.title('Точечный график стоимости заказов');"
   ]
  },
  {
   "cell_type": "markdown",
   "metadata": {},
   "source": [
    "Заказов выше стоимости 68 000 очень мало, самыми аномальными можно назвать два первых заказа стоимостями : 1294500 и    202740     рублей."
   ]
  },
  {
   "cell_type": "markdown",
   "metadata": {},
   "source": [
    "Посчитать 95-й и 99-й выборочные перцентили выручки с заказов по пользователям."
   ]
  },
  {
   "cell_type": "code",
   "execution_count": 22,
   "metadata": {},
   "outputs": [
    {
     "name": "stdout",
     "output_type": "stream",
     "text": [
      "перцентиль 95-й равен: 28000\n",
      "перцентиль 99-й равен: 58233\n"
     ]
    }
   ],
   "source": [
    "data_revenue = np.array(orders['revenue'])\n",
    "print('перцентиль 95-й равен:' ,int(np.percentile(data_revenue, 95))) \n",
    "print('перцентиль 99-й равен:' ,int(np.percentile(data_revenue, 99))) "
   ]
  },
  {
   "cell_type": "markdown",
   "metadata": {},
   "source": [
    "5 Процентов данных выручки содержит стоимости 28 000 едениц. 1 Процент данных заказов содержит стоимости 58233 еденицы. Итого аномальными можно считать заказы стоимостью выше 28000, потому что они являются выбивающимися значениями из выборки по выручке для заказов."
   ]
  },
  {
   "cell_type": "markdown",
   "metadata": {},
   "source": [
    "### Сформулировать гипотезы."
   ]
  },
  {
   "cell_type": "markdown",
   "metadata": {},
   "source": [
    "`Нулевая гипотеза`: наличие статистически значимых отличий в конверсии между группами в \"сырых\" данных.\n",
    "\n",
    "`Альтернативная гипотеза`: отсуствие статистически значимых отличий в конверсии между группами в \"сырых\" данных.\n",
    "\n",
    "Уровень значимости для проверки гипотез α=0,05\n",
    "\n",
    "Для проверки гипотез используем непараметрический критерий Манна-Уитни, так как данные распределены ненормально и имеют выбросы в виде аномально высоких стоимостей заказов и количества заказов."
   ]
  },
  {
   "cell_type": "code",
   "execution_count": 23,
   "metadata": {},
   "outputs": [
    {
     "name": "stdout",
     "output_type": "stream",
     "text": [
      "p-value равен: 0.01679\n",
      "относительный прирост среднего группы B к конверсии группы А : 13.808%\n"
     ]
    }
   ],
   "source": [
    "\n",
    "#Посчитать статистическую значимость различий количества заказов между группами по «сырым» данным\n",
    "#сгруппировать визиты по уникальным юзерам для группы А\n",
    "\n",
    "ordersByUsersA = (\n",
    "    orders[orders['group'] == 'A']\n",
    "    .groupby('visitorId', as_index=False)\n",
    "    .agg({'transactionId': pd.Series.nunique})\n",
    ")\n",
    "ordersByUsersA.columns = ['userId', 'orders']\n",
    "\n",
    "#сгруппировать визиты по уникальным юзерам для группы В\n",
    "ordersByUsersB = (\n",
    "    orders[orders['group'] == 'B']\n",
    "    .groupby('visitorId', as_index=False)\n",
    "    .agg({'transactionId': pd.Series.nunique})\n",
    ")\n",
    "ordersByUsersB.columns = ['userId', 'orders']\n",
    "\n",
    "#разделить визиты по группам\n",
    "visitors_a = visitors[visitors['group'] == 'A']\n",
    "visitors_b = visitors[visitors['group'] == 'B']\n",
    "\n",
    "#подсчитать для каждого визита количество заказов для группы А\n",
    "\n",
    "\n",
    "sampleA = pd.concat(\n",
    "    [\n",
    "        ordersByUsersA['orders'],\n",
    "        pd.Series(\n",
    "            0,\n",
    "            index=np.arange(\n",
    "                visitors_a['visitors'].sum() - len(ordersByUsersA['orders'])\n",
    "            ),\n",
    "            name='orders',\n",
    "        ),\n",
    "    ],\n",
    "    axis=0,\n",
    ")\n",
    "\n",
    "#подсчитать для каждого визита количество заказов для группы В\n",
    "sampleB = pd.concat(\n",
    "    [\n",
    "        ordersByUsersB['orders'],\n",
    "        pd.Series(\n",
    "            0,\n",
    "            index=np.arange(\n",
    "                visitors_b['visitors'].sum() - len(ordersByUsersB['orders'])\n",
    "            ),\n",
    "            name='orders',\n",
    "        ),\n",
    "    ],\n",
    "    axis=0,\n",
    ")\n",
    "#посчитать p-value\n",
    "print('p-value равен: '\"{0:.5f}\".format(stats.mannwhitneyu(sampleA, sampleB)[1]))\n",
    "\n",
    "#посчитать относительный прирост среднего группы B к конверсии группы А\n",
    "print('относительный прирост среднего группы B к конверсии группы А :'\n",
    "      ,\"{0:.3%}\".format(sampleB.mean() / sampleA.mean() - 1))\n"
   ]
  },
  {
   "cell_type": "markdown",
   "metadata": {},
   "source": [
    "P-value значительно меньше 0.05, поэтому нулевую гипотезу отвергаем. Относительный прирост среднего группы В к конверсии группы А равен 13 процентов."
   ]
  },
  {
   "cell_type": "markdown",
   "metadata": {},
   "source": [
    "`Нулевая гипотеза:` о наличии статистически значимых отличий в среднем чеке в \"сырых\" данных.\n",
    "\n",
    "`Альтернативная гипотеза:` об отсутстивии  статистически значимых отличий в среднем чеке в \"сырых\" данных."
   ]
  },
  {
   "cell_type": "code",
   "execution_count": 24,
   "metadata": {},
   "outputs": [
    {
     "name": "stdout",
     "output_type": "stream",
     "text": [
      "p_value равен: 0.729\n",
      "относительный прирост среднего чека группы В равен:25.871%\n"
     ]
    }
   ],
   "source": [
    "#Посчитать статистическую значимость различий в среднем чеке заказа между группами по «сырым» данным\n",
    "#Посчитать p-value \n",
    "print('p_value равен:','{0:.3f}'.format(stats.mannwhitneyu(orders[orders['group']=='A']['revenue'],\\\n",
    "                                                           orders[orders['group']=='B']['revenue'])[1]))\n",
    "\n",
    "#посчитать относительный прирост среднего чека группы B\n",
    "print('относительный прирост среднего чека группы В равен:'\n",
    "    '{0:.3%}'.format(orders[orders['group']=='B']['revenue'].mean()/orders[orders['group']=='A']['revenue'].mean()-1)) \n",
    "\n",
    "#Провести тест на точность исследования\n",
    "results =stats.mannwhitneyu(orders[orders['group']=='A']['revenue'],orders[orders['group']=='B']['revenue'],True, 'less') \n",
    "\n"
   ]
  },
  {
   "cell_type": "markdown",
   "metadata": {},
   "source": [
    "P-value больше 0.05, статистически значимые отличия в среднем чеке между группами не имеются. Относительное различие между чеками 26 процентов."
   ]
  },
  {
   "cell_type": "markdown",
   "metadata": {},
   "source": [
    "Подсчитать абсолютные и относительные потери пользователей."
   ]
  },
  {
   "cell_type": "code",
   "execution_count": 25,
   "metadata": {},
   "outputs": [
    {
     "name": "stdout",
     "output_type": "stream",
     "text": [
      "Абсолютные потери пользователей: 74\n",
      "Относительные потери пользователей: 7.18%\n"
     ]
    }
   ],
   "source": [
    "usersWithManyOrders = pd.concat(\n",
    "    [\n",
    "        ordersByUsersA[ordersByUsersA['orders'] >  np.percentile(2, 95) ]['userId'],\n",
    "        ordersByUsersB[ordersByUsersB['orders'] > np.percentile(2, 95)]['userId'],\n",
    "    ],\n",
    "    axis=0,\n",
    ")\n",
    "usersWithExpensiveOrders = orders[orders['revenue'] > np.percentile(28000, 95)]['visitorId']\n",
    "abnormalUsers = (\n",
    "    pd.concat([usersWithManyOrders, usersWithExpensiveOrders], axis=0)\n",
    "    .drop_duplicates()\n",
    "    .sort_values()\n",
    ")\n",
    "\n",
    "\n",
    "print('Абсолютные потери пользователей: {}'.format(len(abnormalUsers)))\n",
    "print('Относительные потери пользователей: {:.2%}'.format(len(abnormalUsers) / orders['visitorId'].nunique()))"
   ]
  },
  {
   "cell_type": "markdown",
   "metadata": {},
   "source": [
    "`Нулевая гипотеза:` наличие статистически значимых отличий в конверсии между группами в \"очищенных\" данных.\n",
    "\n",
    "`Альтернативная гипотеза:` отсуствие статистически значимых отличий в конверсии между группами в \"очищенных\" данных."
   ]
  },
  {
   "cell_type": "code",
   "execution_count": 26,
   "metadata": {},
   "outputs": [
    {
     "name": "stdout",
     "output_type": "stream",
     "text": [
      "p_value равен:  0.00887\n",
      "относительный прирост среднего группы B к конверсии группы А равен: 18.396%\n"
     ]
    }
   ],
   "source": [
    "#Посчитать статистическую значимость различий количества заказов между группами по «очищенным» данным\n",
    "sampleAFiltered = pd.concat(\n",
    "    [\n",
    "        ordersByUsersA[\n",
    "            np.logical_not(ordersByUsersA['userId'].isin(abnormalUsers))\n",
    "        ]['orders'],\n",
    "        pd.Series(\n",
    "            0,\n",
    "            index=np.arange(\n",
    "                visitors['visitors'].sum() - len(ordersByUsersA['orders'])\n",
    "            ),\n",
    "            name='orders',\n",
    "        ),\n",
    "    ],\n",
    "    axis=0,\n",
    ")\n",
    "\n",
    "sampleBFiltered = pd.concat(\n",
    "    [\n",
    "        ordersByUsersB[\n",
    "            np.logical_not(ordersByUsersB['userId'].isin(abnormalUsers))\n",
    "        ]['orders'],\n",
    "        pd.Series(\n",
    "            0,\n",
    "            index=np.arange(\n",
    "                visitors['visitors'].sum() - len(ordersByUsersB['orders'])\n",
    "            ),\n",
    "            name='orders',\n",
    "        ),\n",
    "    ],\n",
    "    axis=0,\n",
    ") \n",
    "print('p_value равен: ','{0:.5f}'.format(stats.mannwhitneyu(sampleAFiltered, sampleBFiltered)[1]))\n",
    "print('относительный прирост среднего группы B к конверсии группы А равен:',\\\n",
    "      '{0:.3%}'.format(sampleBFiltered.mean()/sampleAFiltered.mean()-1)) \n",
    "\n"
   ]
  },
  {
   "cell_type": "markdown",
   "metadata": {},
   "source": [
    "P-value меньше 0.05 процентов, поэтому нулевую гипотезу мы можем отвергнуть. Относительный прирост среднего группы В к конверсии группы А равен 18 процентов."
   ]
  },
  {
   "cell_type": "markdown",
   "metadata": {},
   "source": [
    "`Нулевая гипотеза:` о наличии статистически значимых отличий в среднем чеке в \"очищенных\" данных.\n",
    "\n",
    "`Альтернативная гипотеза:` об отсутстивии  статистически значимых отличий в среднем чеке в \"очищенных\" данных."
   ]
  },
  {
   "cell_type": "code",
   "execution_count": 27,
   "metadata": {},
   "outputs": [
    {
     "name": "stdout",
     "output_type": "stream",
     "text": [
      "p-value равен: 0.729\n",
      "Относительный прирост среднего чека очищенной группы B равен: 25.871%\n"
     ]
    }
   ],
   "source": [
    "#Посчитать статистическую значимость различий в среднем чеке по «очищенным» данным\n",
    "print('p-value равен:',\n",
    "    '{0:.3f}'.format(\n",
    "        stats.mannwhitneyu(\n",
    "            orders[\n",
    "                np.logical_and(\n",
    "                    orders['group'] == 'A',\n",
    "                    np.logical_not(orders['transactionId'].isin(abnormalUsers)),\n",
    "                )\n",
    "            ]['revenue'],\n",
    "            orders[\n",
    "                np.logical_and(\n",
    "                    orders['group'] == 'B',\n",
    "                    np.logical_not(orders['transactionId'].isin(abnormalUsers)),\n",
    "                )\n",
    "            ]['revenue'],\n",
    "        )[1]\n",
    "    )\n",
    ")\n",
    "\n",
    "print('Относительный прирост среднего чека очищенной группы B равен:',\n",
    "    \"{0:.3%}\".format(\n",
    "        orders[\n",
    "            np.logical_and(\n",
    "                orders['group'] == 'B',\n",
    "                np.logical_not(orders['transactionId'].isin(abnormalUsers)),\n",
    "            )\n",
    "        ]['revenue'].mean()\n",
    "        / orders[\n",
    "            np.logical_and(\n",
    "                orders['group'] == 'A',\n",
    "                np.logical_not(orders['transactionId'].isin(abnormalUsers)),\n",
    "            )\n",
    "        ]['revenue'].mean()\n",
    "        - 1\n",
    "    )\n",
    ") "
   ]
  },
  {
   "cell_type": "markdown",
   "metadata": {},
   "source": [
    "P-value выше 0.05, поэтому нулевую гипотезу можем отвергнуть. Относительное различие между чеками 26 процентов."
   ]
  },
  {
   "cell_type": "markdown",
   "metadata": {},
   "source": [
    "Написать вывод."
   ]
  },
  {
   "cell_type": "markdown",
   "metadata": {},
   "source": [
    "Принять решение по результатам теста и объяснить его. \n",
    "Вариант решения к которому мы пришли - это остановить тест, зафиксировать победу одной из групп. По \"сырым\" данным и \"очищенным\" данным средний чек лидирует у группы В, по \"сырым\" данным и \"очищенным\" данным количества заказов мы можем отвергнуть нулевую гипотезу. У нас также идет прирост относительного показателя для группы В, который устаканивается после очистки данных с 13 до 18, что также говорит о достоверности исследований , после того, как мы убрали аномальные значения. Поэтому мы можем сказать что лидером можно считать группу В, и на этом тест можно остановить, потому что дальнейшие исследования не будут играть роли для установления этого факта. "
   ]
  }
 ],
 "metadata": {
  "ExecuteTimeLog": [
   {
    "duration": 406,
    "start_time": "2022-10-20T12:12:18.046Z"
   },
   {
    "duration": 36,
    "start_time": "2022-10-20T12:12:40.257Z"
   },
   {
    "duration": 25,
    "start_time": "2022-10-20T12:12:45.657Z"
   },
   {
    "duration": 1167,
    "start_time": "2022-10-20T12:14:47.250Z"
   },
   {
    "duration": 19,
    "start_time": "2022-10-20T12:14:57.854Z"
   },
   {
    "duration": 7,
    "start_time": "2022-10-20T12:15:14.064Z"
   },
   {
    "duration": 6,
    "start_time": "2022-10-20T12:15:21.711Z"
   },
   {
    "duration": 10,
    "start_time": "2022-10-20T12:15:25.031Z"
   },
   {
    "duration": 7,
    "start_time": "2022-10-20T12:15:32.798Z"
   },
   {
    "duration": 9,
    "start_time": "2022-10-20T12:16:16.055Z"
   },
   {
    "duration": 7,
    "start_time": "2022-10-20T12:16:18.990Z"
   },
   {
    "duration": 3,
    "start_time": "2022-10-20T12:16:47.086Z"
   },
   {
    "duration": 7,
    "start_time": "2022-10-20T12:16:50.745Z"
   },
   {
    "duration": 416,
    "start_time": "2022-10-20T12:16:58.645Z"
   },
   {
    "duration": 27,
    "start_time": "2022-10-20T12:16:59.063Z"
   },
   {
    "duration": 5,
    "start_time": "2022-10-20T12:16:59.091Z"
   },
   {
    "duration": 76,
    "start_time": "2022-10-20T12:16:59.097Z"
   },
   {
    "duration": 7,
    "start_time": "2022-10-20T12:17:19.789Z"
   },
   {
    "duration": 6,
    "start_time": "2022-10-20T12:17:25.317Z"
   },
   {
    "duration": 407,
    "start_time": "2022-10-20T12:17:35.587Z"
   },
   {
    "duration": 25,
    "start_time": "2022-10-20T12:17:35.996Z"
   },
   {
    "duration": 4,
    "start_time": "2022-10-20T12:17:36.023Z"
   },
   {
    "duration": 72,
    "start_time": "2022-10-20T12:17:36.029Z"
   },
   {
    "duration": 0,
    "start_time": "2022-10-20T12:17:36.102Z"
   },
   {
    "duration": 8,
    "start_time": "2022-10-20T12:19:11.693Z"
   },
   {
    "duration": 412,
    "start_time": "2022-10-20T12:19:17.158Z"
   },
   {
    "duration": 26,
    "start_time": "2022-10-20T12:19:17.573Z"
   },
   {
    "duration": 8,
    "start_time": "2022-10-20T12:19:17.600Z"
   },
   {
    "duration": 13,
    "start_time": "2022-10-20T12:19:17.610Z"
   },
   {
    "duration": 14,
    "start_time": "2022-10-20T12:19:17.625Z"
   },
   {
    "duration": 9,
    "start_time": "2022-10-20T12:24:47.346Z"
   },
   {
    "duration": 548,
    "start_time": "2022-10-20T13:17:07.024Z"
   },
   {
    "duration": 60,
    "start_time": "2022-10-20T13:23:48.026Z"
   },
   {
    "duration": 866,
    "start_time": "2022-10-20T13:23:58.548Z"
   },
   {
    "duration": 14,
    "start_time": "2022-10-20T13:24:05.114Z"
   },
   {
    "duration": 234,
    "start_time": "2022-10-20T13:25:07.896Z"
   },
   {
    "duration": 428,
    "start_time": "2022-10-20T13:25:30.848Z"
   },
   {
    "duration": 72,
    "start_time": "2022-10-20T13:25:36.448Z"
   },
   {
    "duration": 81,
    "start_time": "2022-10-20T13:25:43.391Z"
   },
   {
    "duration": 715,
    "start_time": "2022-10-20T13:56:04.567Z"
   },
   {
    "duration": 45,
    "start_time": "2022-10-20T13:56:58.482Z"
   },
   {
    "duration": 246,
    "start_time": "2022-10-20T13:57:14.627Z"
   },
   {
    "duration": 697,
    "start_time": "2022-10-20T13:57:35.560Z"
   },
   {
    "duration": 27,
    "start_time": "2022-10-20T13:57:36.260Z"
   },
   {
    "duration": 8,
    "start_time": "2022-10-20T13:57:36.289Z"
   },
   {
    "duration": 24,
    "start_time": "2022-10-20T13:57:36.300Z"
   },
   {
    "duration": 31,
    "start_time": "2022-10-20T13:57:36.325Z"
   },
   {
    "duration": 18,
    "start_time": "2022-10-20T13:57:36.358Z"
   },
   {
    "duration": 390,
    "start_time": "2022-10-20T13:57:36.378Z"
   },
   {
    "duration": 0,
    "start_time": "2022-10-20T13:57:36.773Z"
   },
   {
    "duration": 68,
    "start_time": "2022-10-20T13:57:58.468Z"
   },
   {
    "duration": 192,
    "start_time": "2022-10-20T13:58:05.900Z"
   },
   {
    "duration": 12,
    "start_time": "2022-10-20T13:58:22.867Z"
   },
   {
    "duration": 216,
    "start_time": "2022-10-20T13:58:52.755Z"
   },
   {
    "duration": 312,
    "start_time": "2022-10-20T14:00:54.587Z"
   },
   {
    "duration": 40,
    "start_time": "2022-10-20T14:01:09.841Z"
   },
   {
    "duration": 40,
    "start_time": "2022-10-20T14:01:19.385Z"
   },
   {
    "duration": 445,
    "start_time": "2022-10-20T14:07:24.754Z"
   },
   {
    "duration": 40,
    "start_time": "2022-10-20T14:07:41.980Z"
   },
   {
    "duration": 4,
    "start_time": "2022-10-20T14:08:05.818Z"
   },
   {
    "duration": 35,
    "start_time": "2022-10-20T14:08:15.634Z"
   },
   {
    "duration": 43,
    "start_time": "2022-10-20T14:10:58.264Z"
   },
   {
    "duration": 40,
    "start_time": "2022-10-20T14:11:09.031Z"
   },
   {
    "duration": 42,
    "start_time": "2022-10-20T14:11:28.487Z"
   },
   {
    "duration": 45,
    "start_time": "2022-10-20T14:11:38.703Z"
   },
   {
    "duration": 36,
    "start_time": "2022-10-20T14:11:43.783Z"
   },
   {
    "duration": 30,
    "start_time": "2022-10-20T14:11:52.647Z"
   },
   {
    "duration": 47,
    "start_time": "2022-10-20T16:30:46.859Z"
   },
   {
    "duration": 6,
    "start_time": "2022-10-20T16:31:05.901Z"
   },
   {
    "duration": 10,
    "start_time": "2022-10-20T16:31:06.244Z"
   },
   {
    "duration": 742,
    "start_time": "2022-10-20T16:31:20.673Z"
   },
   {
    "duration": 45,
    "start_time": "2022-10-20T16:31:21.417Z"
   },
   {
    "duration": 8,
    "start_time": "2022-10-20T16:31:21.463Z"
   },
   {
    "duration": 13,
    "start_time": "2022-10-20T16:31:21.473Z"
   },
   {
    "duration": 9,
    "start_time": "2022-10-20T16:31:21.488Z"
   },
   {
    "duration": 8,
    "start_time": "2022-10-20T16:31:21.499Z"
   },
   {
    "duration": 77,
    "start_time": "2022-10-20T16:31:21.509Z"
   },
   {
    "duration": 84,
    "start_time": "2022-10-20T16:31:21.588Z"
   },
   {
    "duration": 0,
    "start_time": "2022-10-20T16:31:21.673Z"
   },
   {
    "duration": 22,
    "start_time": "2022-10-20T16:31:36.737Z"
   },
   {
    "duration": 13,
    "start_time": "2022-10-20T16:32:05.636Z"
   },
   {
    "duration": 303,
    "start_time": "2022-10-20T16:38:46.395Z"
   },
   {
    "duration": 655,
    "start_time": "2022-10-20T17:08:43.599Z"
   },
   {
    "duration": 408,
    "start_time": "2022-10-20T17:11:20.405Z"
   },
   {
    "duration": 51,
    "start_time": "2022-10-21T09:05:58.934Z"
   },
   {
    "duration": 818,
    "start_time": "2022-10-21T09:06:08.710Z"
   },
   {
    "duration": 137,
    "start_time": "2022-10-21T09:06:09.530Z"
   },
   {
    "duration": 7,
    "start_time": "2022-10-21T09:06:09.669Z"
   },
   {
    "duration": 13,
    "start_time": "2022-10-21T09:06:09.678Z"
   },
   {
    "duration": 11,
    "start_time": "2022-10-21T09:06:09.692Z"
   },
   {
    "duration": 7,
    "start_time": "2022-10-21T09:06:09.704Z"
   },
   {
    "duration": 213,
    "start_time": "2022-10-21T09:06:09.712Z"
   },
   {
    "duration": 11,
    "start_time": "2022-10-21T09:06:09.927Z"
   },
   {
    "duration": 501,
    "start_time": "2022-10-21T09:06:09.940Z"
   },
   {
    "duration": 12,
    "start_time": "2022-10-21T09:06:10.443Z"
   },
   {
    "duration": 15,
    "start_time": "2022-10-21T09:23:42.903Z"
   },
   {
    "duration": 16,
    "start_time": "2022-10-21T10:23:16.039Z"
   },
   {
    "duration": 77,
    "start_time": "2022-10-21T10:23:35.224Z"
   },
   {
    "duration": 72,
    "start_time": "2022-10-21T10:38:57.297Z"
   },
   {
    "duration": 10,
    "start_time": "2022-10-21T10:39:56.617Z"
   },
   {
    "duration": 1574,
    "start_time": "2022-10-21T11:24:02.627Z"
   },
   {
    "duration": 547,
    "start_time": "2022-10-21T11:24:25.747Z"
   },
   {
    "duration": 230,
    "start_time": "2022-10-21T11:29:17.351Z"
   },
   {
    "duration": 278,
    "start_time": "2022-10-21T11:35:33.065Z"
   },
   {
    "duration": 288,
    "start_time": "2022-10-21T11:42:10.117Z"
   },
   {
    "duration": 9,
    "start_time": "2022-10-21T12:21:05.282Z"
   },
   {
    "duration": 171,
    "start_time": "2022-10-21T12:21:32.103Z"
   },
   {
    "duration": 283,
    "start_time": "2022-10-21T13:38:20.959Z"
   },
   {
    "duration": 317,
    "start_time": "2022-10-21T13:55:09.617Z"
   },
   {
    "duration": 12,
    "start_time": "2022-10-21T14:10:10.132Z"
   },
   {
    "duration": 12,
    "start_time": "2022-10-21T14:10:17.276Z"
   },
   {
    "duration": 13,
    "start_time": "2022-10-21T14:10:53.049Z"
   },
   {
    "duration": 19,
    "start_time": "2022-10-21T14:35:39.013Z"
   },
   {
    "duration": 19,
    "start_time": "2022-10-21T14:36:03.220Z"
   },
   {
    "duration": 14,
    "start_time": "2022-10-21T14:36:31.347Z"
   },
   {
    "duration": 24,
    "start_time": "2022-10-21T14:36:38.636Z"
   },
   {
    "duration": 16,
    "start_time": "2022-10-21T14:37:06.326Z"
   },
   {
    "duration": 123,
    "start_time": "2022-10-21T14:37:23.636Z"
   },
   {
    "duration": 411,
    "start_time": "2022-10-21T14:38:46.609Z"
   },
   {
    "duration": 64,
    "start_time": "2022-10-21T14:38:57.776Z"
   },
   {
    "duration": 12,
    "start_time": "2022-10-21T14:39:09.289Z"
   },
   {
    "duration": 24,
    "start_time": "2022-10-21T14:39:26.512Z"
   },
   {
    "duration": 175,
    "start_time": "2022-10-21T14:39:41.535Z"
   },
   {
    "duration": 124,
    "start_time": "2022-10-21T14:39:55.903Z"
   },
   {
    "duration": 112,
    "start_time": "2022-10-21T14:39:58.677Z"
   },
   {
    "duration": 113,
    "start_time": "2022-10-21T14:47:26.786Z"
   },
   {
    "duration": 5,
    "start_time": "2022-10-21T15:26:20.798Z"
   },
   {
    "duration": 5,
    "start_time": "2022-10-21T15:26:58.653Z"
   },
   {
    "duration": 182,
    "start_time": "2022-10-21T15:28:54.541Z"
   },
   {
    "duration": 214,
    "start_time": "2022-10-21T15:29:19.523Z"
   },
   {
    "duration": 148,
    "start_time": "2022-10-21T15:32:43.764Z"
   },
   {
    "duration": 5,
    "start_time": "2022-10-21T15:38:40.803Z"
   },
   {
    "duration": 130,
    "start_time": "2022-10-21T16:01:16.155Z"
   },
   {
    "duration": 87,
    "start_time": "2022-10-21T16:04:00.039Z"
   },
   {
    "duration": 12,
    "start_time": "2022-10-21T16:04:15.575Z"
   },
   {
    "duration": 151,
    "start_time": "2022-10-21T16:06:35.357Z"
   },
   {
    "duration": 219,
    "start_time": "2022-10-21T16:07:08.871Z"
   },
   {
    "duration": 333,
    "start_time": "2022-10-21T16:07:54.676Z"
   },
   {
    "duration": 379,
    "start_time": "2022-10-21T16:08:16.739Z"
   },
   {
    "duration": 1156,
    "start_time": "2022-10-21T16:08:22.204Z"
   },
   {
    "duration": 39,
    "start_time": "2022-10-21T16:08:23.362Z"
   },
   {
    "duration": 10,
    "start_time": "2022-10-21T16:08:23.402Z"
   },
   {
    "duration": 38,
    "start_time": "2022-10-21T16:08:23.414Z"
   },
   {
    "duration": 17,
    "start_time": "2022-10-21T16:08:23.454Z"
   },
   {
    "duration": 8,
    "start_time": "2022-10-21T16:08:23.473Z"
   },
   {
    "duration": 73,
    "start_time": "2022-10-21T16:08:23.482Z"
   },
   {
    "duration": 13,
    "start_time": "2022-10-21T16:08:23.556Z"
   },
   {
    "duration": 589,
    "start_time": "2022-10-21T16:08:23.571Z"
   },
   {
    "duration": 205,
    "start_time": "2022-10-21T16:08:24.163Z"
   },
   {
    "duration": 287,
    "start_time": "2022-10-21T16:08:24.370Z"
   },
   {
    "duration": 246,
    "start_time": "2022-10-21T16:08:24.659Z"
   },
   {
    "duration": 332,
    "start_time": "2022-10-21T16:08:24.907Z"
   },
   {
    "duration": 151,
    "start_time": "2022-10-21T16:08:25.241Z"
   },
   {
    "duration": 6,
    "start_time": "2022-10-21T16:08:25.394Z"
   },
   {
    "duration": 115,
    "start_time": "2022-10-21T16:08:25.401Z"
   },
   {
    "duration": 0,
    "start_time": "2022-10-21T16:08:25.518Z"
   },
   {
    "duration": 0,
    "start_time": "2022-10-21T16:08:25.521Z"
   },
   {
    "duration": 0,
    "start_time": "2022-10-21T16:08:25.522Z"
   },
   {
    "duration": 11,
    "start_time": "2022-10-21T16:09:09.243Z"
   },
   {
    "duration": 136,
    "start_time": "2022-10-21T16:09:16.412Z"
   },
   {
    "duration": 1178,
    "start_time": "2022-10-21T16:09:19.274Z"
   },
   {
    "duration": 0,
    "start_time": "2022-10-21T16:09:20.454Z"
   },
   {
    "duration": 394,
    "start_time": "2022-10-21T16:09:26.245Z"
   },
   {
    "duration": 4,
    "start_time": "2022-10-21T16:09:43.414Z"
   },
   {
    "duration": 435,
    "start_time": "2022-10-21T16:09:45.898Z"
   },
   {
    "duration": 413,
    "start_time": "2022-10-21T16:20:03.177Z"
   },
   {
    "duration": 12,
    "start_time": "2022-10-21T16:20:12.240Z"
   },
   {
    "duration": 54,
    "start_time": "2022-10-21T16:21:03.583Z"
   },
   {
    "duration": 56,
    "start_time": "2022-10-21T16:21:13.879Z"
   },
   {
    "duration": 5,
    "start_time": "2022-10-21T16:21:41.255Z"
   },
   {
    "duration": 13,
    "start_time": "2022-10-21T16:21:49.224Z"
   },
   {
    "duration": 54,
    "start_time": "2022-10-21T16:22:01.798Z"
   },
   {
    "duration": 48,
    "start_time": "2022-10-21T16:22:08.769Z"
   },
   {
    "duration": 13,
    "start_time": "2022-10-21T16:22:33.702Z"
   },
   {
    "duration": 22,
    "start_time": "2022-10-21T16:22:41.583Z"
   },
   {
    "duration": 55,
    "start_time": "2022-10-21T16:22:54.314Z"
   },
   {
    "duration": 53,
    "start_time": "2022-10-21T16:23:01.430Z"
   },
   {
    "duration": 14,
    "start_time": "2022-10-21T16:23:53.765Z"
   },
   {
    "duration": 21,
    "start_time": "2022-10-21T16:24:02.796Z"
   },
   {
    "duration": 52,
    "start_time": "2022-10-21T16:24:18.989Z"
   },
   {
    "duration": 56,
    "start_time": "2022-10-21T16:24:28.979Z"
   },
   {
    "duration": 35,
    "start_time": "2022-10-21T16:24:48.106Z"
   },
   {
    "duration": 88,
    "start_time": "2022-10-21T16:25:03.936Z"
   },
   {
    "duration": 96,
    "start_time": "2022-10-21T16:25:11.516Z"
   },
   {
    "duration": 114,
    "start_time": "2022-10-21T16:25:23.996Z"
   },
   {
    "duration": 80,
    "start_time": "2022-10-21T16:25:30.475Z"
   },
   {
    "duration": 8,
    "start_time": "2022-10-21T16:25:45.453Z"
   },
   {
    "duration": 12,
    "start_time": "2022-10-21T16:25:49.756Z"
   },
   {
    "duration": 8,
    "start_time": "2022-10-21T16:25:58.148Z"
   },
   {
    "duration": 88,
    "start_time": "2022-10-21T18:18:24.381Z"
   },
   {
    "duration": 98,
    "start_time": "2022-10-21T18:18:54.032Z"
   },
   {
    "duration": 94,
    "start_time": "2022-10-21T18:19:49.181Z"
   },
   {
    "duration": 102,
    "start_time": "2022-10-21T18:20:56.283Z"
   },
   {
    "duration": 103,
    "start_time": "2022-10-21T18:22:31.866Z"
   },
   {
    "duration": 156,
    "start_time": "2022-10-21T18:22:58.281Z"
   },
   {
    "duration": 158,
    "start_time": "2022-10-21T18:26:07.843Z"
   },
   {
    "duration": 154,
    "start_time": "2022-10-21T18:26:12.110Z"
   },
   {
    "duration": 161,
    "start_time": "2022-10-21T18:27:32.805Z"
   },
   {
    "duration": 191,
    "start_time": "2022-10-21T18:28:38.880Z"
   },
   {
    "duration": 274,
    "start_time": "2022-10-21T18:31:21.243Z"
   },
   {
    "duration": 312,
    "start_time": "2022-10-21T18:33:59.680Z"
   },
   {
    "duration": 330,
    "start_time": "2022-10-21T18:34:58.358Z"
   },
   {
    "duration": 346,
    "start_time": "2022-10-21T18:40:00.801Z"
   },
   {
    "duration": 343,
    "start_time": "2022-10-21T18:44:59.583Z"
   },
   {
    "duration": 1139,
    "start_time": "2022-10-21T20:46:31.867Z"
   },
   {
    "duration": 43,
    "start_time": "2022-10-21T20:46:33.008Z"
   },
   {
    "duration": 8,
    "start_time": "2022-10-21T20:46:33.052Z"
   },
   {
    "duration": 15,
    "start_time": "2022-10-21T20:46:33.062Z"
   },
   {
    "duration": 16,
    "start_time": "2022-10-21T20:46:33.079Z"
   },
   {
    "duration": 7,
    "start_time": "2022-10-21T20:46:33.096Z"
   },
   {
    "duration": 73,
    "start_time": "2022-10-21T20:46:33.105Z"
   },
   {
    "duration": 11,
    "start_time": "2022-10-21T20:46:33.179Z"
   },
   {
    "duration": 494,
    "start_time": "2022-10-21T20:46:33.192Z"
   },
   {
    "duration": 159,
    "start_time": "2022-10-21T20:46:33.689Z"
   },
   {
    "duration": 291,
    "start_time": "2022-10-21T20:46:33.850Z"
   },
   {
    "duration": 175,
    "start_time": "2022-10-21T20:46:34.143Z"
   },
   {
    "duration": 303,
    "start_time": "2022-10-21T20:46:34.321Z"
   },
   {
    "duration": 123,
    "start_time": "2022-10-21T20:46:34.625Z"
   },
   {
    "duration": 5,
    "start_time": "2022-10-21T20:46:34.750Z"
   },
   {
    "duration": 139,
    "start_time": "2022-10-21T20:46:34.756Z"
   },
   {
    "duration": 5,
    "start_time": "2022-10-21T20:46:34.897Z"
   },
   {
    "duration": 360,
    "start_time": "2022-10-21T20:46:34.903Z"
   },
   {
    "duration": 11,
    "start_time": "2022-10-21T21:31:57.791Z"
   },
   {
    "duration": 348,
    "start_time": "2022-10-21T21:31:59.799Z"
   },
   {
    "duration": 391,
    "start_time": "2022-10-21T21:36:44.946Z"
   },
   {
    "duration": 9,
    "start_time": "2022-10-21T21:40:53.671Z"
   },
   {
    "duration": 8,
    "start_time": "2022-10-21T21:41:09.463Z"
   },
   {
    "duration": 6,
    "start_time": "2022-10-21T21:51:57.156Z"
   },
   {
    "duration": 7,
    "start_time": "2022-10-21T21:52:02.845Z"
   },
   {
    "duration": 11,
    "start_time": "2022-10-21T21:52:45.646Z"
   },
   {
    "duration": 8,
    "start_time": "2022-10-21T21:52:59.404Z"
   },
   {
    "duration": 11,
    "start_time": "2022-10-21T21:55:24.877Z"
   },
   {
    "duration": 7,
    "start_time": "2022-10-21T21:55:31.386Z"
   },
   {
    "duration": 8,
    "start_time": "2022-10-21T21:55:42.562Z"
   },
   {
    "duration": 5,
    "start_time": "2022-10-21T21:55:49.834Z"
   },
   {
    "duration": 6,
    "start_time": "2022-10-21T21:56:02.730Z"
   },
   {
    "duration": 8,
    "start_time": "2022-10-21T21:56:41.833Z"
   },
   {
    "duration": 10,
    "start_time": "2022-10-21T21:56:47.704Z"
   },
   {
    "duration": 11,
    "start_time": "2022-10-21T22:03:39.963Z"
   },
   {
    "duration": 24,
    "start_time": "2022-10-21T22:05:26.265Z"
   },
   {
    "duration": 25,
    "start_time": "2022-10-21T22:06:40.250Z"
   },
   {
    "duration": 1002,
    "start_time": "2022-10-21T22:07:23.854Z"
   },
   {
    "duration": 24,
    "start_time": "2022-10-21T22:07:24.858Z"
   },
   {
    "duration": 8,
    "start_time": "2022-10-21T22:07:24.883Z"
   },
   {
    "duration": 12,
    "start_time": "2022-10-21T22:07:24.892Z"
   },
   {
    "duration": 20,
    "start_time": "2022-10-21T22:07:24.905Z"
   },
   {
    "duration": 7,
    "start_time": "2022-10-21T22:07:24.927Z"
   },
   {
    "duration": 37,
    "start_time": "2022-10-21T22:07:24.936Z"
   },
   {
    "duration": 11,
    "start_time": "2022-10-21T22:07:24.974Z"
   },
   {
    "duration": 484,
    "start_time": "2022-10-21T22:07:24.986Z"
   },
   {
    "duration": 161,
    "start_time": "2022-10-21T22:07:25.472Z"
   },
   {
    "duration": 272,
    "start_time": "2022-10-21T22:07:25.634Z"
   },
   {
    "duration": 185,
    "start_time": "2022-10-21T22:07:25.907Z"
   },
   {
    "duration": 311,
    "start_time": "2022-10-21T22:07:26.094Z"
   },
   {
    "duration": 119,
    "start_time": "2022-10-21T22:07:26.407Z"
   },
   {
    "duration": 4,
    "start_time": "2022-10-21T22:07:26.528Z"
   },
   {
    "duration": 137,
    "start_time": "2022-10-21T22:07:26.534Z"
   },
   {
    "duration": 4,
    "start_time": "2022-10-21T22:07:26.673Z"
   },
   {
    "duration": 360,
    "start_time": "2022-10-21T22:07:26.678Z"
   },
   {
    "duration": 10,
    "start_time": "2022-10-21T22:07:27.040Z"
   },
   {
    "duration": 42,
    "start_time": "2022-10-21T22:07:27.051Z"
   },
   {
    "duration": 37,
    "start_time": "2022-10-21T22:07:27.095Z"
   },
   {
    "duration": 1261,
    "start_time": "2022-10-21T22:14:02.293Z"
   },
   {
    "duration": 11,
    "start_time": "2022-10-21T22:14:14.469Z"
   },
   {
    "duration": 14,
    "start_time": "2022-10-21T22:14:32.613Z"
   },
   {
    "duration": 102,
    "start_time": "2022-10-21T22:16:43.258Z"
   },
   {
    "duration": 216,
    "start_time": "2022-10-21T22:18:01.535Z"
   },
   {
    "duration": 112,
    "start_time": "2022-10-21T22:18:29.553Z"
   },
   {
    "duration": 114,
    "start_time": "2022-10-21T22:19:11.575Z"
   },
   {
    "duration": 109,
    "start_time": "2022-10-21T22:19:35.176Z"
   },
   {
    "duration": 250,
    "start_time": "2022-10-21T22:19:56.071Z"
   },
   {
    "duration": 213,
    "start_time": "2022-10-21T22:20:29.640Z"
   },
   {
    "duration": 10,
    "start_time": "2022-10-21T22:20:54.431Z"
   },
   {
    "duration": 11,
    "start_time": "2022-10-21T22:20:59.758Z"
   },
   {
    "duration": 220,
    "start_time": "2022-10-21T22:21:09.223Z"
   },
   {
    "duration": 234,
    "start_time": "2022-10-21T22:21:23.774Z"
   },
   {
    "duration": 223,
    "start_time": "2022-10-21T22:21:31.789Z"
   },
   {
    "duration": 1138,
    "start_time": "2022-10-21T22:21:46.783Z"
   },
   {
    "duration": 384,
    "start_time": "2022-10-21T22:22:31.308Z"
   },
   {
    "duration": 406,
    "start_time": "2022-10-21T22:23:38.612Z"
   },
   {
    "duration": 113,
    "start_time": "2022-10-21T22:24:54.986Z"
   },
   {
    "duration": 127,
    "start_time": "2022-10-21T22:27:19.223Z"
   },
   {
    "duration": 236,
    "start_time": "2022-10-21T22:27:49.937Z"
   },
   {
    "duration": 1048,
    "start_time": "2022-10-21T22:28:41.021Z"
   },
   {
    "duration": 399,
    "start_time": "2022-10-21T22:29:27.383Z"
   },
   {
    "duration": 375,
    "start_time": "2022-10-21T22:30:11.678Z"
   },
   {
    "duration": 392,
    "start_time": "2022-10-21T22:30:14.246Z"
   },
   {
    "duration": 11,
    "start_time": "2022-10-21T22:30:18.550Z"
   },
   {
    "duration": 10,
    "start_time": "2022-10-21T22:51:45.570Z"
   },
   {
    "duration": 99,
    "start_time": "2022-10-21T22:51:56.754Z"
   },
   {
    "duration": 203,
    "start_time": "2022-10-21T22:53:12.138Z"
   },
   {
    "duration": 218,
    "start_time": "2022-10-21T22:53:50.441Z"
   },
   {
    "duration": 203,
    "start_time": "2022-10-21T22:54:23.930Z"
   },
   {
    "duration": 326,
    "start_time": "2022-10-21T22:55:09.565Z"
   },
   {
    "duration": 604,
    "start_time": "2022-10-21T22:57:38.480Z"
   },
   {
    "duration": 443,
    "start_time": "2022-10-21T22:58:09.390Z"
   },
   {
    "duration": 0,
    "start_time": "2022-10-21T22:58:26.929Z"
   },
   {
    "duration": 0,
    "start_time": "2022-10-21T22:58:26.930Z"
   },
   {
    "duration": 0,
    "start_time": "2022-10-21T22:58:26.931Z"
   },
   {
    "duration": 0,
    "start_time": "2022-10-21T22:58:26.932Z"
   },
   {
    "duration": 0,
    "start_time": "2022-10-21T22:58:26.933Z"
   },
   {
    "duration": 0,
    "start_time": "2022-10-21T22:58:26.934Z"
   },
   {
    "duration": 0,
    "start_time": "2022-10-21T22:58:26.934Z"
   },
   {
    "duration": 0,
    "start_time": "2022-10-21T22:58:26.935Z"
   },
   {
    "duration": 0,
    "start_time": "2022-10-21T22:58:26.936Z"
   },
   {
    "duration": 0,
    "start_time": "2022-10-21T22:58:26.937Z"
   },
   {
    "duration": 0,
    "start_time": "2022-10-21T22:58:26.938Z"
   },
   {
    "duration": 0,
    "start_time": "2022-10-21T22:58:26.939Z"
   },
   {
    "duration": 0,
    "start_time": "2022-10-21T22:58:26.940Z"
   },
   {
    "duration": 0,
    "start_time": "2022-10-21T22:58:26.941Z"
   },
   {
    "duration": 0,
    "start_time": "2022-10-21T22:58:26.942Z"
   },
   {
    "duration": 0,
    "start_time": "2022-10-21T22:58:26.943Z"
   },
   {
    "duration": 0,
    "start_time": "2022-10-21T22:58:26.944Z"
   },
   {
    "duration": 0,
    "start_time": "2022-10-21T22:58:26.945Z"
   },
   {
    "duration": 0,
    "start_time": "2022-10-21T22:58:26.946Z"
   },
   {
    "duration": 0,
    "start_time": "2022-10-21T22:58:26.947Z"
   },
   {
    "duration": 0,
    "start_time": "2022-10-21T22:58:26.948Z"
   },
   {
    "duration": 0,
    "start_time": "2022-10-21T22:58:26.949Z"
   },
   {
    "duration": 0,
    "start_time": "2022-10-21T22:58:26.950Z"
   },
   {
    "duration": 0,
    "start_time": "2022-10-21T22:58:26.951Z"
   },
   {
    "duration": 0,
    "start_time": "2022-10-21T23:01:12.425Z"
   },
   {
    "duration": 0,
    "start_time": "2022-10-21T23:01:12.426Z"
   },
   {
    "duration": 0,
    "start_time": "2022-10-21T23:01:12.427Z"
   },
   {
    "duration": 0,
    "start_time": "2022-10-21T23:01:12.428Z"
   },
   {
    "duration": 0,
    "start_time": "2022-10-21T23:01:12.430Z"
   },
   {
    "duration": 0,
    "start_time": "2022-10-21T23:01:12.431Z"
   },
   {
    "duration": 0,
    "start_time": "2022-10-21T23:01:12.433Z"
   },
   {
    "duration": 0,
    "start_time": "2022-10-21T23:01:12.433Z"
   },
   {
    "duration": 0,
    "start_time": "2022-10-21T23:01:12.435Z"
   },
   {
    "duration": 0,
    "start_time": "2022-10-21T23:01:12.436Z"
   },
   {
    "duration": 0,
    "start_time": "2022-10-21T23:01:12.437Z"
   },
   {
    "duration": 0,
    "start_time": "2022-10-21T23:01:12.438Z"
   },
   {
    "duration": 0,
    "start_time": "2022-10-21T23:01:12.438Z"
   },
   {
    "duration": 0,
    "start_time": "2022-10-21T23:01:12.440Z"
   },
   {
    "duration": 0,
    "start_time": "2022-10-21T23:01:12.441Z"
   },
   {
    "duration": 0,
    "start_time": "2022-10-21T23:01:12.441Z"
   },
   {
    "duration": 0,
    "start_time": "2022-10-21T23:01:12.442Z"
   },
   {
    "duration": 0,
    "start_time": "2022-10-21T23:01:12.444Z"
   },
   {
    "duration": 0,
    "start_time": "2022-10-21T23:01:12.444Z"
   },
   {
    "duration": 0,
    "start_time": "2022-10-21T23:01:12.446Z"
   },
   {
    "duration": 0,
    "start_time": "2022-10-21T23:01:12.446Z"
   },
   {
    "duration": 0,
    "start_time": "2022-10-21T23:01:12.448Z"
   },
   {
    "duration": 0,
    "start_time": "2022-10-21T23:01:12.449Z"
   },
   {
    "duration": 0,
    "start_time": "2022-10-21T23:01:12.450Z"
   },
   {
    "duration": 463,
    "start_time": "2022-10-21T23:01:18.655Z"
   },
   {
    "duration": 419,
    "start_time": "2022-10-21T23:01:30.528Z"
   },
   {
    "duration": 153,
    "start_time": "2022-10-21T23:01:31.599Z"
   },
   {
    "duration": 287,
    "start_time": "2022-10-21T23:01:32.112Z"
   },
   {
    "duration": 169,
    "start_time": "2022-10-21T23:01:33.126Z"
   },
   {
    "duration": 278,
    "start_time": "2022-10-21T23:01:35.079Z"
   },
   {
    "duration": 121,
    "start_time": "2022-10-21T23:01:36.381Z"
   },
   {
    "duration": 5,
    "start_time": "2022-10-21T23:01:38.438Z"
   },
   {
    "duration": 123,
    "start_time": "2022-10-21T23:01:39.886Z"
   },
   {
    "duration": 4,
    "start_time": "2022-10-21T23:01:44.606Z"
   },
   {
    "duration": 334,
    "start_time": "2022-10-21T23:01:45.071Z"
   },
   {
    "duration": 10,
    "start_time": "2022-10-21T23:01:47.159Z"
   },
   {
    "duration": 97,
    "start_time": "2022-10-21T23:01:49.199Z"
   },
   {
    "duration": 19,
    "start_time": "2022-10-21T23:03:31.941Z"
   },
   {
    "duration": 213,
    "start_time": "2022-10-21T23:04:34.581Z"
   },
   {
    "duration": 335,
    "start_time": "2022-10-21T23:06:10.555Z"
   },
   {
    "duration": 330,
    "start_time": "2022-10-21T23:07:01.658Z"
   },
   {
    "duration": 340,
    "start_time": "2022-10-21T23:07:47.660Z"
   },
   {
    "duration": 331,
    "start_time": "2022-10-21T23:08:00.521Z"
   },
   {
    "duration": 95,
    "start_time": "2022-10-21T23:08:15.534Z"
   },
   {
    "duration": 327,
    "start_time": "2022-10-21T23:08:18.170Z"
   },
   {
    "duration": 333,
    "start_time": "2022-10-21T23:08:56.018Z"
   },
   {
    "duration": 3,
    "start_time": "2022-10-21T23:09:22.981Z"
   },
   {
    "duration": 24,
    "start_time": "2022-10-21T23:09:22.986Z"
   },
   {
    "duration": 10,
    "start_time": "2022-10-21T23:09:23.012Z"
   },
   {
    "duration": 11,
    "start_time": "2022-10-21T23:09:23.023Z"
   },
   {
    "duration": 10,
    "start_time": "2022-10-21T23:09:23.035Z"
   },
   {
    "duration": 10,
    "start_time": "2022-10-21T23:09:23.046Z"
   },
   {
    "duration": 35,
    "start_time": "2022-10-21T23:09:23.057Z"
   },
   {
    "duration": 11,
    "start_time": "2022-10-21T23:09:23.094Z"
   },
   {
    "duration": 410,
    "start_time": "2022-10-21T23:09:23.107Z"
   },
   {
    "duration": 159,
    "start_time": "2022-10-21T23:09:23.522Z"
   },
   {
    "duration": 244,
    "start_time": "2022-10-21T23:09:23.682Z"
   },
   {
    "duration": 182,
    "start_time": "2022-10-21T23:09:23.928Z"
   },
   {
    "duration": 298,
    "start_time": "2022-10-21T23:09:24.113Z"
   },
   {
    "duration": 109,
    "start_time": "2022-10-21T23:09:24.422Z"
   },
   {
    "duration": 4,
    "start_time": "2022-10-21T23:09:24.533Z"
   },
   {
    "duration": 138,
    "start_time": "2022-10-21T23:09:24.538Z"
   },
   {
    "duration": 4,
    "start_time": "2022-10-21T23:09:24.678Z"
   },
   {
    "duration": 383,
    "start_time": "2022-10-21T23:09:24.684Z"
   },
   {
    "duration": 19,
    "start_time": "2022-10-21T23:09:25.070Z"
   },
   {
    "duration": 9,
    "start_time": "2022-10-21T23:09:25.090Z"
   },
   {
    "duration": 348,
    "start_time": "2022-10-21T23:09:25.100Z"
   },
   {
    "duration": 350,
    "start_time": "2022-10-21T23:09:25.450Z"
   },
   {
    "duration": 10,
    "start_time": "2022-10-21T23:10:50.454Z"
   },
   {
    "duration": 379,
    "start_time": "2022-10-21T23:14:47.670Z"
   },
   {
    "duration": 355,
    "start_time": "2022-10-21T23:15:38.361Z"
   },
   {
    "duration": 349,
    "start_time": "2022-10-21T23:15:47.914Z"
   },
   {
    "duration": 343,
    "start_time": "2022-10-21T23:16:00.938Z"
   },
   {
    "duration": 995,
    "start_time": "2022-10-21T23:16:07.662Z"
   },
   {
    "duration": 23,
    "start_time": "2022-10-21T23:16:08.659Z"
   },
   {
    "duration": 7,
    "start_time": "2022-10-21T23:16:08.683Z"
   },
   {
    "duration": 12,
    "start_time": "2022-10-21T23:16:08.691Z"
   },
   {
    "duration": 14,
    "start_time": "2022-10-21T23:16:08.705Z"
   },
   {
    "duration": 7,
    "start_time": "2022-10-21T23:16:08.721Z"
   },
   {
    "duration": 32,
    "start_time": "2022-10-21T23:16:08.729Z"
   },
   {
    "duration": 11,
    "start_time": "2022-10-21T23:16:08.763Z"
   },
   {
    "duration": 549,
    "start_time": "2022-10-21T23:16:08.776Z"
   },
   {
    "duration": 156,
    "start_time": "2022-10-21T23:16:09.327Z"
   },
   {
    "duration": 283,
    "start_time": "2022-10-21T23:16:09.485Z"
   },
   {
    "duration": 175,
    "start_time": "2022-10-21T23:16:09.770Z"
   },
   {
    "duration": 278,
    "start_time": "2022-10-21T23:16:09.946Z"
   },
   {
    "duration": 113,
    "start_time": "2022-10-21T23:16:10.226Z"
   },
   {
    "duration": 5,
    "start_time": "2022-10-21T23:16:10.341Z"
   },
   {
    "duration": 131,
    "start_time": "2022-10-21T23:16:10.348Z"
   },
   {
    "duration": 4,
    "start_time": "2022-10-21T23:16:10.480Z"
   },
   {
    "duration": 346,
    "start_time": "2022-10-21T23:16:10.486Z"
   },
   {
    "duration": 9,
    "start_time": "2022-10-21T23:16:10.834Z"
   },
   {
    "duration": 9,
    "start_time": "2022-10-21T23:16:10.845Z"
   },
   {
    "duration": 355,
    "start_time": "2022-10-21T23:16:10.855Z"
   },
   {
    "duration": 431,
    "start_time": "2022-10-21T23:16:11.212Z"
   },
   {
    "duration": 325,
    "start_time": "2022-10-21T23:16:51.492Z"
   },
   {
    "duration": 803,
    "start_time": "2022-10-21T23:20:53.297Z"
   },
   {
    "duration": 1065,
    "start_time": "2022-10-21T23:21:10.408Z"
   },
   {
    "duration": 48,
    "start_time": "2022-10-21T23:21:11.475Z"
   },
   {
    "duration": 9,
    "start_time": "2022-10-21T23:21:11.525Z"
   },
   {
    "duration": 19,
    "start_time": "2022-10-21T23:21:11.535Z"
   },
   {
    "duration": 12,
    "start_time": "2022-10-21T23:21:11.556Z"
   },
   {
    "duration": 13,
    "start_time": "2022-10-21T23:21:11.570Z"
   },
   {
    "duration": 34,
    "start_time": "2022-10-21T23:21:11.585Z"
   },
   {
    "duration": 13,
    "start_time": "2022-10-21T23:21:11.621Z"
   },
   {
    "duration": 502,
    "start_time": "2022-10-21T23:21:11.636Z"
   },
   {
    "duration": 167,
    "start_time": "2022-10-21T23:21:12.139Z"
   },
   {
    "duration": 275,
    "start_time": "2022-10-21T23:21:12.307Z"
   },
   {
    "duration": 182,
    "start_time": "2022-10-21T23:21:12.583Z"
   },
   {
    "duration": 261,
    "start_time": "2022-10-21T23:21:12.767Z"
   },
   {
    "duration": 122,
    "start_time": "2022-10-21T23:21:13.030Z"
   },
   {
    "duration": 6,
    "start_time": "2022-10-21T23:21:13.153Z"
   },
   {
    "duration": 146,
    "start_time": "2022-10-21T23:21:13.160Z"
   },
   {
    "duration": 4,
    "start_time": "2022-10-21T23:21:13.308Z"
   },
   {
    "duration": 338,
    "start_time": "2022-10-21T23:21:13.322Z"
   },
   {
    "duration": 9,
    "start_time": "2022-10-21T23:21:13.662Z"
   },
   {
    "duration": 11,
    "start_time": "2022-10-21T23:21:13.673Z"
   },
   {
    "duration": 375,
    "start_time": "2022-10-21T23:21:13.686Z"
   },
   {
    "duration": 399,
    "start_time": "2022-10-21T23:21:14.063Z"
   },
   {
    "duration": 414,
    "start_time": "2022-10-21T23:23:03.808Z"
   },
   {
    "duration": 147,
    "start_time": "2022-10-21T23:23:58.565Z"
   },
   {
    "duration": 339,
    "start_time": "2022-10-21T23:37:58.288Z"
   },
   {
    "duration": 389,
    "start_time": "2022-10-21T23:38:08.792Z"
   },
   {
    "duration": 324,
    "start_time": "2022-10-21T23:47:41.711Z"
   },
   {
    "duration": 1027,
    "start_time": "2022-10-21T23:47:50.419Z"
   },
   {
    "duration": 22,
    "start_time": "2022-10-21T23:47:51.448Z"
   },
   {
    "duration": 7,
    "start_time": "2022-10-21T23:47:51.471Z"
   },
   {
    "duration": 11,
    "start_time": "2022-10-21T23:47:51.479Z"
   },
   {
    "duration": 8,
    "start_time": "2022-10-21T23:47:51.492Z"
   },
   {
    "duration": 7,
    "start_time": "2022-10-21T23:47:51.501Z"
   },
   {
    "duration": 27,
    "start_time": "2022-10-21T23:47:51.509Z"
   },
   {
    "duration": 492,
    "start_time": "2022-10-21T23:47:51.537Z"
   },
   {
    "duration": 158,
    "start_time": "2022-10-21T23:47:52.030Z"
   },
   {
    "duration": 277,
    "start_time": "2022-10-21T23:47:52.189Z"
   },
   {
    "duration": 184,
    "start_time": "2022-10-21T23:47:52.468Z"
   },
   {
    "duration": 271,
    "start_time": "2022-10-21T23:47:52.653Z"
   },
   {
    "duration": 117,
    "start_time": "2022-10-21T23:47:52.925Z"
   },
   {
    "duration": 4,
    "start_time": "2022-10-21T23:47:53.044Z"
   },
   {
    "duration": 130,
    "start_time": "2022-10-21T23:47:53.049Z"
   },
   {
    "duration": 4,
    "start_time": "2022-10-21T23:47:53.181Z"
   },
   {
    "duration": 365,
    "start_time": "2022-10-21T23:47:53.186Z"
   },
   {
    "duration": 9,
    "start_time": "2022-10-21T23:47:53.553Z"
   },
   {
    "duration": 338,
    "start_time": "2022-10-21T23:47:53.564Z"
   },
   {
    "duration": 405,
    "start_time": "2022-10-21T23:47:53.904Z"
   },
   {
    "duration": 327,
    "start_time": "2022-10-21T23:48:52.332Z"
   },
   {
    "duration": 324,
    "start_time": "2022-10-21T23:48:58.379Z"
   },
   {
    "duration": 405,
    "start_time": "2022-10-22T00:02:29.800Z"
   },
   {
    "duration": 170,
    "start_time": "2022-10-22T00:02:39.063Z"
   },
   {
    "duration": 265,
    "start_time": "2022-10-22T00:02:46.991Z"
   },
   {
    "duration": 280,
    "start_time": "2022-10-22T00:03:00.030Z"
   },
   {
    "duration": 290,
    "start_time": "2022-10-22T00:03:10.911Z"
   },
   {
    "duration": 258,
    "start_time": "2022-10-22T00:03:14.743Z"
   },
   {
    "duration": 272,
    "start_time": "2022-10-22T00:03:19.495Z"
   },
   {
    "duration": 239,
    "start_time": "2022-10-22T00:03:38.829Z"
   },
   {
    "duration": 172,
    "start_time": "2022-10-22T00:03:49.397Z"
   },
   {
    "duration": 297,
    "start_time": "2022-10-22T00:03:58.133Z"
   },
   {
    "duration": 332,
    "start_time": "2022-10-22T00:07:42.693Z"
   },
   {
    "duration": 1285,
    "start_time": "2022-10-23T05:11:06.220Z"
   },
   {
    "duration": 99,
    "start_time": "2022-10-23T05:11:07.507Z"
   },
   {
    "duration": 8,
    "start_time": "2022-10-23T05:11:07.608Z"
   },
   {
    "duration": 12,
    "start_time": "2022-10-23T05:11:07.618Z"
   },
   {
    "duration": 10,
    "start_time": "2022-10-23T05:11:07.632Z"
   },
   {
    "duration": 9,
    "start_time": "2022-10-23T05:11:07.643Z"
   },
   {
    "duration": 158,
    "start_time": "2022-10-23T05:11:07.653Z"
   },
   {
    "duration": 271,
    "start_time": "2022-10-23T05:11:07.813Z"
   },
   {
    "duration": 257,
    "start_time": "2022-10-23T05:11:08.086Z"
   },
   {
    "duration": 175,
    "start_time": "2022-10-23T05:11:08.345Z"
   },
   {
    "duration": 307,
    "start_time": "2022-10-23T05:11:08.522Z"
   },
   {
    "duration": 191,
    "start_time": "2022-10-23T05:11:08.830Z"
   },
   {
    "duration": 293,
    "start_time": "2022-10-23T05:11:09.022Z"
   },
   {
    "duration": 130,
    "start_time": "2022-10-23T05:11:09.317Z"
   },
   {
    "duration": 5,
    "start_time": "2022-10-23T05:11:09.449Z"
   },
   {
    "duration": 145,
    "start_time": "2022-10-23T05:11:09.456Z"
   },
   {
    "duration": 5,
    "start_time": "2022-10-23T05:11:09.603Z"
   },
   {
    "duration": 358,
    "start_time": "2022-10-23T05:11:09.610Z"
   },
   {
    "duration": 9,
    "start_time": "2022-10-23T05:11:09.970Z"
   },
   {
    "duration": 343,
    "start_time": "2022-10-23T05:11:09.994Z"
   },
   {
    "duration": 428,
    "start_time": "2022-10-23T05:11:10.338Z"
   },
   {
    "duration": 1097,
    "start_time": "2022-10-23T05:17:08.483Z"
   },
   {
    "duration": 36,
    "start_time": "2022-10-23T05:17:09.582Z"
   },
   {
    "duration": 8,
    "start_time": "2022-10-23T05:17:09.619Z"
   },
   {
    "duration": 14,
    "start_time": "2022-10-23T05:17:09.629Z"
   },
   {
    "duration": 12,
    "start_time": "2022-10-23T05:17:09.644Z"
   },
   {
    "duration": 9,
    "start_time": "2022-10-23T05:17:09.657Z"
   },
   {
    "duration": 57,
    "start_time": "2022-10-23T05:17:09.667Z"
   },
   {
    "duration": 273,
    "start_time": "2022-10-23T05:17:09.726Z"
   },
   {
    "duration": 253,
    "start_time": "2022-10-23T05:17:10.001Z"
   },
   {
    "duration": 194,
    "start_time": "2022-10-23T05:17:10.257Z"
   },
   {
    "duration": 297,
    "start_time": "2022-10-23T05:17:10.452Z"
   },
   {
    "duration": 197,
    "start_time": "2022-10-23T05:17:10.750Z"
   },
   {
    "duration": 347,
    "start_time": "2022-10-23T05:17:10.948Z"
   },
   {
    "duration": 131,
    "start_time": "2022-10-23T05:17:11.296Z"
   },
   {
    "duration": 11,
    "start_time": "2022-10-23T05:17:11.428Z"
   },
   {
    "duration": 171,
    "start_time": "2022-10-23T05:17:11.441Z"
   },
   {
    "duration": 4,
    "start_time": "2022-10-23T05:17:11.614Z"
   },
   {
    "duration": 241,
    "start_time": "2022-10-23T05:17:11.620Z"
   },
   {
    "duration": 167,
    "start_time": "2022-10-23T05:17:11.862Z"
   },
   {
    "duration": 14,
    "start_time": "2022-10-23T05:17:12.030Z"
   },
   {
    "duration": 381,
    "start_time": "2022-10-23T05:17:12.046Z"
   },
   {
    "duration": 405,
    "start_time": "2022-10-23T05:17:12.429Z"
   },
   {
    "duration": 1077,
    "start_time": "2022-10-23T05:24:00.661Z"
   },
   {
    "duration": 39,
    "start_time": "2022-10-23T05:24:01.739Z"
   },
   {
    "duration": 8,
    "start_time": "2022-10-23T05:24:01.779Z"
   },
   {
    "duration": 17,
    "start_time": "2022-10-23T05:24:01.788Z"
   },
   {
    "duration": 19,
    "start_time": "2022-10-23T05:24:01.807Z"
   },
   {
    "duration": 8,
    "start_time": "2022-10-23T05:24:01.828Z"
   },
   {
    "duration": 71,
    "start_time": "2022-10-23T05:24:01.837Z"
   },
   {
    "duration": 278,
    "start_time": "2022-10-23T05:24:01.909Z"
   },
   {
    "duration": 261,
    "start_time": "2022-10-23T05:24:02.188Z"
   },
   {
    "duration": 176,
    "start_time": "2022-10-23T05:24:02.452Z"
   },
   {
    "duration": 252,
    "start_time": "2022-10-23T05:24:02.630Z"
   },
   {
    "duration": 189,
    "start_time": "2022-10-23T05:24:02.883Z"
   },
   {
    "duration": 313,
    "start_time": "2022-10-23T05:24:03.074Z"
   },
   {
    "duration": 114,
    "start_time": "2022-10-23T05:24:03.389Z"
   },
   {
    "duration": 5,
    "start_time": "2022-10-23T05:24:03.505Z"
   },
   {
    "duration": 145,
    "start_time": "2022-10-23T05:24:03.511Z"
   },
   {
    "duration": 4,
    "start_time": "2022-10-23T05:24:03.658Z"
   },
   {
    "duration": 213,
    "start_time": "2022-10-23T05:24:03.664Z"
   },
   {
    "duration": 151,
    "start_time": "2022-10-23T05:24:03.879Z"
   },
   {
    "duration": 11,
    "start_time": "2022-10-23T05:24:04.031Z"
   },
   {
    "duration": 354,
    "start_time": "2022-10-23T05:24:04.043Z"
   },
   {
    "duration": 7,
    "start_time": "2022-10-23T05:24:04.398Z"
   },
   {
    "duration": 25,
    "start_time": "2022-10-23T05:24:04.407Z"
   },
   {
    "duration": 448,
    "start_time": "2022-10-23T05:24:04.434Z"
   },
   {
    "duration": 77,
    "start_time": "2022-10-23T11:24:27.618Z"
   },
   {
    "duration": 39,
    "start_time": "2022-10-23T11:34:29.480Z"
   },
   {
    "duration": 1239,
    "start_time": "2022-10-23T11:34:35.831Z"
   },
   {
    "duration": 96,
    "start_time": "2022-10-23T11:34:37.073Z"
   },
   {
    "duration": 7,
    "start_time": "2022-10-23T11:34:37.171Z"
   },
   {
    "duration": 176,
    "start_time": "2022-10-23T11:34:37.180Z"
   },
   {
    "duration": 11,
    "start_time": "2022-10-23T11:34:37.358Z"
   },
   {
    "duration": 8,
    "start_time": "2022-10-23T11:34:37.371Z"
   },
   {
    "duration": 168,
    "start_time": "2022-10-23T11:34:37.381Z"
   },
   {
    "duration": 5,
    "start_time": "2022-10-23T11:34:37.551Z"
   },
   {
    "duration": 274,
    "start_time": "2022-10-23T11:34:37.558Z"
   },
   {
    "duration": 305,
    "start_time": "2022-10-23T11:34:37.834Z"
   },
   {
    "duration": 186,
    "start_time": "2022-10-23T11:34:38.140Z"
   },
   {
    "duration": 286,
    "start_time": "2022-10-23T11:34:38.328Z"
   },
   {
    "duration": 200,
    "start_time": "2022-10-23T11:34:38.615Z"
   },
   {
    "duration": 307,
    "start_time": "2022-10-23T11:34:38.817Z"
   },
   {
    "duration": 138,
    "start_time": "2022-10-23T11:34:39.126Z"
   },
   {
    "duration": 4,
    "start_time": "2022-10-23T11:34:39.266Z"
   },
   {
    "duration": 143,
    "start_time": "2022-10-23T11:34:39.285Z"
   },
   {
    "duration": 4,
    "start_time": "2022-10-23T11:34:39.429Z"
   },
   {
    "duration": 232,
    "start_time": "2022-10-23T11:34:39.435Z"
   },
   {
    "duration": 175,
    "start_time": "2022-10-23T11:34:39.669Z"
   },
   {
    "duration": 11,
    "start_time": "2022-10-23T11:34:39.846Z"
   },
   {
    "duration": 329,
    "start_time": "2022-10-23T11:34:39.859Z"
   },
   {
    "duration": 8,
    "start_time": "2022-10-23T11:34:40.190Z"
   },
   {
    "duration": 31,
    "start_time": "2022-10-23T11:34:40.199Z"
   },
   {
    "duration": 421,
    "start_time": "2022-10-23T11:34:40.231Z"
   },
   {
    "duration": 7,
    "start_time": "2022-10-23T11:35:10.772Z"
   },
   {
    "duration": 79,
    "start_time": "2022-10-23T11:35:21.468Z"
   },
   {
    "duration": 6,
    "start_time": "2022-10-23T11:35:27.517Z"
   },
   {
    "duration": 7,
    "start_time": "2022-10-23T11:36:25.236Z"
   },
   {
    "duration": 8,
    "start_time": "2022-10-23T11:36:58.699Z"
   },
   {
    "duration": 7,
    "start_time": "2022-10-23T11:37:10.101Z"
   },
   {
    "duration": 7,
    "start_time": "2022-10-23T11:37:23.994Z"
   },
   {
    "duration": 6,
    "start_time": "2022-10-23T11:37:32.906Z"
   },
   {
    "duration": 5,
    "start_time": "2022-10-23T11:39:08.267Z"
   },
   {
    "duration": 12,
    "start_time": "2022-10-23T11:39:41.548Z"
   },
   {
    "duration": 87,
    "start_time": "2022-10-23T11:39:49.502Z"
   },
   {
    "duration": 11,
    "start_time": "2022-10-23T11:39:51.648Z"
   },
   {
    "duration": 5,
    "start_time": "2022-10-23T11:42:44.740Z"
   },
   {
    "duration": 5,
    "start_time": "2022-10-23T11:42:50.142Z"
   },
   {
    "duration": 4,
    "start_time": "2022-10-23T11:43:56.726Z"
   },
   {
    "duration": 4,
    "start_time": "2022-10-23T11:44:06.301Z"
   },
   {
    "duration": 4,
    "start_time": "2022-10-23T11:44:12.516Z"
   },
   {
    "duration": 13,
    "start_time": "2022-10-23T11:50:46.447Z"
   },
   {
    "duration": 1170,
    "start_time": "2022-10-23T11:52:05.126Z"
   },
   {
    "duration": 66,
    "start_time": "2022-10-23T11:52:20.438Z"
   },
   {
    "duration": 8,
    "start_time": "2022-10-23T11:52:23.606Z"
   },
   {
    "duration": 1188,
    "start_time": "2022-10-23T11:52:29.540Z"
   },
   {
    "duration": 4,
    "start_time": "2022-10-23T11:52:51.957Z"
   },
   {
    "duration": 9,
    "start_time": "2022-10-23T11:53:00.108Z"
   },
   {
    "duration": 10,
    "start_time": "2022-10-23T11:53:10.228Z"
   },
   {
    "duration": 1200,
    "start_time": "2022-10-23T11:53:46.179Z"
   },
   {
    "duration": 10,
    "start_time": "2022-10-23T11:53:53.444Z"
   },
   {
    "duration": 12,
    "start_time": "2022-10-23T11:54:58.123Z"
   },
   {
    "duration": 8,
    "start_time": "2022-10-23T11:55:03.555Z"
   },
   {
    "duration": 14,
    "start_time": "2022-10-23T11:55:09.139Z"
   },
   {
    "duration": 18,
    "start_time": "2022-10-23T11:55:21.690Z"
   },
   {
    "duration": 15,
    "start_time": "2022-10-23T11:55:38.189Z"
   },
   {
    "duration": 12,
    "start_time": "2022-10-23T11:56:41.865Z"
   },
   {
    "duration": 3,
    "start_time": "2022-10-23T11:56:54.954Z"
   },
   {
    "duration": 10,
    "start_time": "2022-10-23T11:57:01.089Z"
   },
   {
    "duration": 11,
    "start_time": "2022-10-23T11:57:09.497Z"
   },
   {
    "duration": 65,
    "start_time": "2022-10-23T11:59:14.632Z"
   },
   {
    "duration": 7,
    "start_time": "2022-10-23T11:59:23.570Z"
   },
   {
    "duration": 13,
    "start_time": "2022-10-23T12:01:51.018Z"
   },
   {
    "duration": 12,
    "start_time": "2022-10-23T12:01:57.981Z"
   },
   {
    "duration": 12,
    "start_time": "2022-10-23T12:02:02.017Z"
   },
   {
    "duration": 69,
    "start_time": "2022-10-23T12:02:34.348Z"
   },
   {
    "duration": 150,
    "start_time": "2022-10-23T12:02:38.054Z"
   },
   {
    "duration": 6,
    "start_time": "2022-10-23T12:02:45.876Z"
   },
   {
    "duration": 69,
    "start_time": "2022-10-23T12:03:00.532Z"
   },
   {
    "duration": 9,
    "start_time": "2022-10-23T12:04:14.899Z"
   },
   {
    "duration": 71,
    "start_time": "2022-10-23T12:04:26.097Z"
   },
   {
    "duration": 14,
    "start_time": "2022-10-23T12:04:48.829Z"
   },
   {
    "duration": 7,
    "start_time": "2022-10-23T12:05:16.010Z"
   },
   {
    "duration": 6,
    "start_time": "2022-10-23T12:05:20.773Z"
   },
   {
    "duration": 15,
    "start_time": "2022-10-23T12:05:30.549Z"
   },
   {
    "duration": 13,
    "start_time": "2022-10-23T12:06:09.600Z"
   },
   {
    "duration": 3,
    "start_time": "2022-10-23T12:06:12.228Z"
   },
   {
    "duration": 13,
    "start_time": "2022-10-23T12:06:14.250Z"
   },
   {
    "duration": 10,
    "start_time": "2022-10-23T12:06:18.873Z"
   },
   {
    "duration": 9,
    "start_time": "2022-10-23T12:06:29.927Z"
   },
   {
    "duration": 9,
    "start_time": "2022-10-23T12:06:44.760Z"
   },
   {
    "duration": 8,
    "start_time": "2022-10-23T12:07:08.382Z"
   },
   {
    "duration": 13,
    "start_time": "2022-10-23T12:08:05.967Z"
   },
   {
    "duration": 13,
    "start_time": "2022-10-23T12:08:17.125Z"
   },
   {
    "duration": 17,
    "start_time": "2022-10-23T12:08:35.232Z"
   },
   {
    "duration": 10,
    "start_time": "2022-10-23T12:08:40.438Z"
   },
   {
    "duration": 10,
    "start_time": "2022-10-23T12:08:48.551Z"
   },
   {
    "duration": 10,
    "start_time": "2022-10-23T12:09:11.270Z"
   },
   {
    "duration": 173,
    "start_time": "2022-10-23T12:10:23.323Z"
   },
   {
    "duration": 185,
    "start_time": "2022-10-23T12:14:16.378Z"
   },
   {
    "duration": 166,
    "start_time": "2022-10-23T12:16:51.863Z"
   },
   {
    "duration": 172,
    "start_time": "2022-10-23T12:18:22.646Z"
   },
   {
    "duration": 13,
    "start_time": "2022-10-23T12:19:07.821Z"
   },
   {
    "duration": 211,
    "start_time": "2022-10-23T12:20:07.125Z"
   },
   {
    "duration": 207,
    "start_time": "2022-10-23T12:20:22.675Z"
   },
   {
    "duration": 164,
    "start_time": "2022-10-23T12:20:26.595Z"
   },
   {
    "duration": 178,
    "start_time": "2022-10-23T12:20:32.108Z"
   },
   {
    "duration": 208,
    "start_time": "2022-10-23T12:20:39.323Z"
   },
   {
    "duration": 182,
    "start_time": "2022-10-23T12:21:26.283Z"
   },
   {
    "duration": 197,
    "start_time": "2022-10-23T12:21:38.883Z"
   },
   {
    "duration": 265,
    "start_time": "2022-10-23T12:23:11.658Z"
   },
   {
    "duration": 179,
    "start_time": "2022-10-23T12:23:20.586Z"
   },
   {
    "duration": 272,
    "start_time": "2022-10-23T12:23:31.385Z"
   },
   {
    "duration": 272,
    "start_time": "2022-10-23T12:23:42.297Z"
   },
   {
    "duration": 217,
    "start_time": "2022-10-23T12:23:50.442Z"
   },
   {
    "duration": 247,
    "start_time": "2022-10-23T12:23:56.321Z"
   },
   {
    "duration": 251,
    "start_time": "2022-10-23T12:24:13.920Z"
   },
   {
    "duration": 244,
    "start_time": "2022-10-23T12:24:32.525Z"
   },
   {
    "duration": 208,
    "start_time": "2022-10-23T12:25:05.648Z"
   },
   {
    "duration": 186,
    "start_time": "2022-10-23T12:25:13.607Z"
   },
   {
    "duration": 184,
    "start_time": "2022-10-23T12:26:23.647Z"
   },
   {
    "duration": 196,
    "start_time": "2022-10-23T12:26:51.934Z"
   },
   {
    "duration": 301,
    "start_time": "2022-10-23T12:27:20.015Z"
   },
   {
    "duration": 393,
    "start_time": "2022-10-23T12:28:49.500Z"
   },
   {
    "duration": 307,
    "start_time": "2022-10-23T12:29:17.396Z"
   },
   {
    "duration": 331,
    "start_time": "2022-10-23T12:29:23.454Z"
   },
   {
    "duration": 108,
    "start_time": "2022-10-23T12:29:47.722Z"
   },
   {
    "duration": 113,
    "start_time": "2022-10-23T12:31:18.355Z"
   },
   {
    "duration": 138,
    "start_time": "2022-10-23T12:31:26.541Z"
   },
   {
    "duration": 151,
    "start_time": "2022-10-23T12:32:05.185Z"
   },
   {
    "duration": 142,
    "start_time": "2022-10-23T12:33:55.985Z"
   },
   {
    "duration": 154,
    "start_time": "2022-10-23T12:34:22.296Z"
   },
   {
    "duration": 167,
    "start_time": "2022-10-23T12:37:44.606Z"
   },
   {
    "duration": 306,
    "start_time": "2022-10-23T12:38:46.346Z"
   },
   {
    "duration": 159,
    "start_time": "2022-10-23T12:39:01.571Z"
   },
   {
    "duration": 154,
    "start_time": "2022-10-23T12:40:05.234Z"
   },
   {
    "duration": 313,
    "start_time": "2022-10-23T12:41:08.195Z"
   },
   {
    "duration": 216,
    "start_time": "2022-10-23T12:41:49.776Z"
   },
   {
    "duration": 290,
    "start_time": "2022-10-23T12:42:41.639Z"
   },
   {
    "duration": 307,
    "start_time": "2022-10-23T12:43:59.479Z"
   },
   {
    "duration": 183,
    "start_time": "2022-10-23T12:44:57.446Z"
   },
   {
    "duration": 187,
    "start_time": "2022-10-23T12:46:01.763Z"
   },
   {
    "duration": 5,
    "start_time": "2022-10-23T12:51:37.414Z"
   },
   {
    "duration": 4,
    "start_time": "2022-10-23T12:54:39.990Z"
   },
   {
    "duration": 22,
    "start_time": "2022-10-23T12:58:25.833Z"
   },
   {
    "duration": 21,
    "start_time": "2022-10-23T12:58:30.313Z"
   },
   {
    "duration": 32,
    "start_time": "2022-10-23T12:58:36.259Z"
   },
   {
    "duration": 26,
    "start_time": "2022-10-23T12:58:45.339Z"
   },
   {
    "duration": 295,
    "start_time": "2022-10-23T15:24:07.930Z"
   },
   {
    "duration": 10,
    "start_time": "2022-10-23T15:36:59.251Z"
   },
   {
    "duration": 11,
    "start_time": "2022-10-23T15:37:10.992Z"
   },
   {
    "duration": 11,
    "start_time": "2022-10-23T15:37:45.448Z"
   },
   {
    "duration": 9,
    "start_time": "2022-10-23T15:38:34.085Z"
   },
   {
    "duration": 26,
    "start_time": "2022-10-23T15:38:37.166Z"
   },
   {
    "duration": 1109,
    "start_time": "2022-10-23T15:40:24.106Z"
   },
   {
    "duration": 36,
    "start_time": "2022-10-23T15:40:25.217Z"
   },
   {
    "duration": 8,
    "start_time": "2022-10-23T15:40:25.255Z"
   },
   {
    "duration": 13,
    "start_time": "2022-10-23T15:40:25.265Z"
   },
   {
    "duration": 64,
    "start_time": "2022-10-23T15:40:25.280Z"
   },
   {
    "duration": 52,
    "start_time": "2022-10-23T15:40:25.346Z"
   },
   {
    "duration": 125,
    "start_time": "2022-10-23T15:40:25.399Z"
   },
   {
    "duration": 8,
    "start_time": "2022-10-23T15:40:25.525Z"
   },
   {
    "duration": 43,
    "start_time": "2022-10-23T15:40:25.534Z"
   },
   {
    "duration": 62,
    "start_time": "2022-10-23T15:40:25.579Z"
   },
   {
    "duration": 293,
    "start_time": "2022-10-23T15:40:25.642Z"
   },
   {
    "duration": 273,
    "start_time": "2022-10-23T15:40:25.936Z"
   },
   {
    "duration": 201,
    "start_time": "2022-10-23T15:40:26.210Z"
   },
   {
    "duration": 310,
    "start_time": "2022-10-23T15:40:26.415Z"
   },
   {
    "duration": 213,
    "start_time": "2022-10-23T15:40:26.727Z"
   },
   {
    "duration": 379,
    "start_time": "2022-10-23T15:40:26.942Z"
   },
   {
    "duration": 169,
    "start_time": "2022-10-23T15:40:27.323Z"
   },
   {
    "duration": 6,
    "start_time": "2022-10-23T15:40:27.494Z"
   },
   {
    "duration": 213,
    "start_time": "2022-10-23T15:40:27.502Z"
   },
   {
    "duration": 4,
    "start_time": "2022-10-23T15:40:27.716Z"
   },
   {
    "duration": 132,
    "start_time": "2022-10-23T15:40:27.722Z"
   },
   {
    "duration": 0,
    "start_time": "2022-10-23T15:40:27.857Z"
   },
   {
    "duration": 0,
    "start_time": "2022-10-23T15:40:27.859Z"
   },
   {
    "duration": 0,
    "start_time": "2022-10-23T15:40:27.860Z"
   },
   {
    "duration": 0,
    "start_time": "2022-10-23T15:40:27.861Z"
   },
   {
    "duration": 0,
    "start_time": "2022-10-23T15:40:27.863Z"
   },
   {
    "duration": 1020,
    "start_time": "2022-10-23T15:40:47.136Z"
   },
   {
    "duration": 38,
    "start_time": "2022-10-23T15:40:48.158Z"
   },
   {
    "duration": 8,
    "start_time": "2022-10-23T15:40:48.197Z"
   },
   {
    "duration": 14,
    "start_time": "2022-10-23T15:40:48.206Z"
   },
   {
    "duration": 10,
    "start_time": "2022-10-23T15:40:48.222Z"
   },
   {
    "duration": 7,
    "start_time": "2022-10-23T15:40:48.234Z"
   },
   {
    "duration": 57,
    "start_time": "2022-10-23T15:40:48.243Z"
   },
   {
    "duration": 6,
    "start_time": "2022-10-23T15:40:48.301Z"
   },
   {
    "duration": 10,
    "start_time": "2022-10-23T15:40:48.309Z"
   },
   {
    "duration": 10,
    "start_time": "2022-10-23T15:40:48.321Z"
   },
   {
    "duration": 264,
    "start_time": "2022-10-23T15:40:48.333Z"
   },
   {
    "duration": 269,
    "start_time": "2022-10-23T15:40:48.598Z"
   },
   {
    "duration": 193,
    "start_time": "2022-10-23T15:40:48.868Z"
   },
   {
    "duration": 327,
    "start_time": "2022-10-23T15:40:49.063Z"
   },
   {
    "duration": 210,
    "start_time": "2022-10-23T15:40:49.392Z"
   },
   {
    "duration": 311,
    "start_time": "2022-10-23T15:40:49.603Z"
   },
   {
    "duration": 163,
    "start_time": "2022-10-23T15:40:49.915Z"
   },
   {
    "duration": 4,
    "start_time": "2022-10-23T15:40:50.084Z"
   },
   {
    "duration": 182,
    "start_time": "2022-10-23T15:40:50.090Z"
   },
   {
    "duration": 11,
    "start_time": "2022-10-23T15:40:50.273Z"
   },
   {
    "duration": 89,
    "start_time": "2022-10-23T15:40:50.286Z"
   },
   {
    "duration": 0,
    "start_time": "2022-10-23T15:40:50.377Z"
   },
   {
    "duration": 0,
    "start_time": "2022-10-23T15:40:50.385Z"
   },
   {
    "duration": 0,
    "start_time": "2022-10-23T15:40:50.385Z"
   },
   {
    "duration": 0,
    "start_time": "2022-10-23T15:40:50.386Z"
   },
   {
    "duration": 0,
    "start_time": "2022-10-23T15:40:50.388Z"
   },
   {
    "duration": 1063,
    "start_time": "2022-10-23T15:42:37.469Z"
   },
   {
    "duration": 36,
    "start_time": "2022-10-23T15:42:38.534Z"
   },
   {
    "duration": 8,
    "start_time": "2022-10-23T15:42:38.571Z"
   },
   {
    "duration": 11,
    "start_time": "2022-10-23T15:42:38.581Z"
   },
   {
    "duration": 11,
    "start_time": "2022-10-23T15:42:38.593Z"
   },
   {
    "duration": 8,
    "start_time": "2022-10-23T15:42:38.605Z"
   },
   {
    "duration": 59,
    "start_time": "2022-10-23T15:42:38.615Z"
   },
   {
    "duration": 7,
    "start_time": "2022-10-23T15:42:38.676Z"
   },
   {
    "duration": 20,
    "start_time": "2022-10-23T15:42:38.684Z"
   },
   {
    "duration": 10,
    "start_time": "2022-10-23T15:42:38.707Z"
   },
   {
    "duration": 266,
    "start_time": "2022-10-23T15:42:38.719Z"
   },
   {
    "duration": 324,
    "start_time": "2022-10-23T15:42:38.986Z"
   },
   {
    "duration": 229,
    "start_time": "2022-10-23T15:42:39.312Z"
   },
   {
    "duration": 306,
    "start_time": "2022-10-23T15:42:39.542Z"
   },
   {
    "duration": 214,
    "start_time": "2022-10-23T15:42:39.850Z"
   },
   {
    "duration": 332,
    "start_time": "2022-10-23T15:42:40.066Z"
   },
   {
    "duration": 166,
    "start_time": "2022-10-23T15:42:40.400Z"
   },
   {
    "duration": 5,
    "start_time": "2022-10-23T15:42:40.568Z"
   },
   {
    "duration": 177,
    "start_time": "2022-10-23T15:42:40.585Z"
   },
   {
    "duration": 5,
    "start_time": "2022-10-23T15:42:40.764Z"
   },
   {
    "duration": 96,
    "start_time": "2022-10-23T15:42:40.771Z"
   },
   {
    "duration": 0,
    "start_time": "2022-10-23T15:42:40.884Z"
   },
   {
    "duration": 0,
    "start_time": "2022-10-23T15:42:40.886Z"
   },
   {
    "duration": 0,
    "start_time": "2022-10-23T15:42:40.887Z"
   },
   {
    "duration": 0,
    "start_time": "2022-10-23T15:42:40.889Z"
   },
   {
    "duration": 0,
    "start_time": "2022-10-23T15:42:40.891Z"
   },
   {
    "duration": 9,
    "start_time": "2022-10-23T15:44:16.185Z"
   },
   {
    "duration": 1308,
    "start_time": "2022-10-23T15:46:00.809Z"
   },
   {
    "duration": 11,
    "start_time": "2022-10-23T15:47:15.511Z"
   },
   {
    "duration": 1186,
    "start_time": "2022-10-23T15:47:32.282Z"
   },
   {
    "duration": 1315,
    "start_time": "2022-10-23T15:48:52.527Z"
   },
   {
    "duration": 8,
    "start_time": "2022-10-23T15:49:03.173Z"
   },
   {
    "duration": 7,
    "start_time": "2022-10-23T15:49:17.341Z"
   },
   {
    "duration": 10,
    "start_time": "2022-10-23T15:49:26.108Z"
   },
   {
    "duration": 137,
    "start_time": "2022-10-23T15:50:17.340Z"
   },
   {
    "duration": 1203,
    "start_time": "2022-10-23T15:51:01.863Z"
   },
   {
    "duration": 1200,
    "start_time": "2022-10-23T15:51:05.548Z"
   },
   {
    "duration": 184,
    "start_time": "2022-10-23T15:51:17.476Z"
   },
   {
    "duration": 1024,
    "start_time": "2022-10-23T15:51:48.197Z"
   },
   {
    "duration": 36,
    "start_time": "2022-10-23T15:51:49.223Z"
   },
   {
    "duration": 7,
    "start_time": "2022-10-23T15:51:49.260Z"
   },
   {
    "duration": 12,
    "start_time": "2022-10-23T15:51:49.269Z"
   },
   {
    "duration": 10,
    "start_time": "2022-10-23T15:51:49.282Z"
   },
   {
    "duration": 12,
    "start_time": "2022-10-23T15:51:49.294Z"
   },
   {
    "duration": 58,
    "start_time": "2022-10-23T15:51:49.307Z"
   },
   {
    "duration": 6,
    "start_time": "2022-10-23T15:51:49.366Z"
   },
   {
    "duration": 11,
    "start_time": "2022-10-23T15:51:49.374Z"
   },
   {
    "duration": 18,
    "start_time": "2022-10-23T15:51:49.387Z"
   },
   {
    "duration": 282,
    "start_time": "2022-10-23T15:51:49.406Z"
   },
   {
    "duration": 281,
    "start_time": "2022-10-23T15:51:49.690Z"
   },
   {
    "duration": 202,
    "start_time": "2022-10-23T15:51:49.973Z"
   },
   {
    "duration": 341,
    "start_time": "2022-10-23T15:51:50.177Z"
   },
   {
    "duration": 219,
    "start_time": "2022-10-23T15:51:50.520Z"
   },
   {
    "duration": 344,
    "start_time": "2022-10-23T15:51:50.740Z"
   },
   {
    "duration": 162,
    "start_time": "2022-10-23T15:51:51.085Z"
   },
   {
    "duration": 6,
    "start_time": "2022-10-23T15:51:51.249Z"
   },
   {
    "duration": 199,
    "start_time": "2022-10-23T15:51:51.256Z"
   },
   {
    "duration": 5,
    "start_time": "2022-10-23T15:51:51.456Z"
   },
   {
    "duration": 27,
    "start_time": "2022-10-23T15:51:51.462Z"
   },
   {
    "duration": 182,
    "start_time": "2022-10-23T15:51:51.491Z"
   },
   {
    "duration": 18,
    "start_time": "2022-10-23T15:51:51.674Z"
   },
   {
    "duration": 11,
    "start_time": "2022-10-23T15:51:51.694Z"
   },
   {
    "duration": 1377,
    "start_time": "2022-10-23T15:51:51.707Z"
   },
   {
    "duration": 0,
    "start_time": "2022-10-23T15:51:53.086Z"
   },
   {
    "duration": 1066,
    "start_time": "2022-10-23T16:39:46.078Z"
   },
   {
    "duration": 40,
    "start_time": "2022-10-23T16:39:47.147Z"
   },
   {
    "duration": 10,
    "start_time": "2022-10-23T16:39:47.189Z"
   },
   {
    "duration": 42,
    "start_time": "2022-10-23T16:39:47.201Z"
   },
   {
    "duration": 24,
    "start_time": "2022-10-23T16:39:47.245Z"
   },
   {
    "duration": 34,
    "start_time": "2022-10-23T16:39:47.271Z"
   },
   {
    "duration": 83,
    "start_time": "2022-10-23T16:39:47.307Z"
   },
   {
    "duration": 5,
    "start_time": "2022-10-23T16:39:47.392Z"
   },
   {
    "duration": 24,
    "start_time": "2022-10-23T16:39:47.399Z"
   },
   {
    "duration": 11,
    "start_time": "2022-10-23T16:39:47.426Z"
   },
   {
    "duration": 267,
    "start_time": "2022-10-23T16:39:47.439Z"
   },
   {
    "duration": 282,
    "start_time": "2022-10-23T16:39:47.707Z"
   },
   {
    "duration": 196,
    "start_time": "2022-10-23T16:39:47.991Z"
   },
   {
    "duration": 319,
    "start_time": "2022-10-23T16:39:48.189Z"
   },
   {
    "duration": 218,
    "start_time": "2022-10-23T16:39:48.509Z"
   },
   {
    "duration": 316,
    "start_time": "2022-10-23T16:39:48.729Z"
   },
   {
    "duration": 163,
    "start_time": "2022-10-23T16:39:49.047Z"
   },
   {
    "duration": 5,
    "start_time": "2022-10-23T16:39:49.211Z"
   },
   {
    "duration": 182,
    "start_time": "2022-10-23T16:39:49.218Z"
   },
   {
    "duration": 4,
    "start_time": "2022-10-23T16:39:49.401Z"
   },
   {
    "duration": 15,
    "start_time": "2022-10-23T16:39:49.406Z"
   },
   {
    "duration": 163,
    "start_time": "2022-10-23T16:39:49.423Z"
   },
   {
    "duration": 9,
    "start_time": "2022-10-23T16:39:49.588Z"
   },
   {
    "duration": 16,
    "start_time": "2022-10-23T16:39:49.598Z"
   },
   {
    "duration": 1183,
    "start_time": "2022-10-23T16:39:49.616Z"
   },
   {
    "duration": 0,
    "start_time": "2022-10-23T16:39:50.801Z"
   },
   {
    "duration": 42,
    "start_time": "2022-10-23T16:40:53.477Z"
   },
   {
    "duration": 89,
    "start_time": "2022-10-23T16:46:50.498Z"
   },
   {
    "duration": 21,
    "start_time": "2022-10-23T16:46:58.674Z"
   },
   {
    "duration": 87,
    "start_time": "2022-10-23T16:47:24.614Z"
   },
   {
    "duration": 686,
    "start_time": "2022-10-23T16:47:48.950Z"
   },
   {
    "duration": 90,
    "start_time": "2022-10-23T16:48:34.015Z"
   },
   {
    "duration": 739,
    "start_time": "2022-10-23T16:48:41.174Z"
   },
   {
    "duration": 147,
    "start_time": "2022-10-23T16:51:28.692Z"
   },
   {
    "duration": 160,
    "start_time": "2022-10-23T16:52:09.083Z"
   },
   {
    "duration": 152,
    "start_time": "2022-10-23T16:53:40.521Z"
   },
   {
    "duration": 11,
    "start_time": "2022-10-23T16:53:45.423Z"
   },
   {
    "duration": 8,
    "start_time": "2022-10-23T16:53:53.248Z"
   },
   {
    "duration": 39,
    "start_time": "2022-10-23T16:54:50.392Z"
   },
   {
    "duration": 5,
    "start_time": "2022-10-23T16:56:52.053Z"
   },
   {
    "duration": 1280,
    "start_time": "2022-10-23T16:58:37.931Z"
   },
   {
    "duration": 15,
    "start_time": "2022-10-23T16:58:57.204Z"
   },
   {
    "duration": 12,
    "start_time": "2022-10-23T16:59:18.917Z"
   },
   {
    "duration": 13,
    "start_time": "2022-10-23T17:00:10.971Z"
   },
   {
    "duration": 13,
    "start_time": "2022-10-23T17:00:35.410Z"
   },
   {
    "duration": 16,
    "start_time": "2022-10-23T17:00:41.809Z"
   },
   {
    "duration": 73,
    "start_time": "2022-10-23T17:02:23.280Z"
   },
   {
    "duration": 79,
    "start_time": "2022-10-23T17:02:28.128Z"
   },
   {
    "duration": 4,
    "start_time": "2022-10-23T17:02:32.320Z"
   },
   {
    "duration": 4,
    "start_time": "2022-10-23T17:02:50.184Z"
   },
   {
    "duration": 4,
    "start_time": "2022-10-23T17:03:09.060Z"
   },
   {
    "duration": 5,
    "start_time": "2022-10-23T17:03:19.799Z"
   },
   {
    "duration": 4,
    "start_time": "2022-10-23T17:03:27.920Z"
   },
   {
    "duration": 4,
    "start_time": "2022-10-23T17:03:32.543Z"
   },
   {
    "duration": 4,
    "start_time": "2022-10-23T17:03:48.895Z"
   },
   {
    "duration": 7,
    "start_time": "2022-10-23T17:04:07.119Z"
   },
   {
    "duration": 72,
    "start_time": "2022-10-23T17:04:55.334Z"
   },
   {
    "duration": 115,
    "start_time": "2022-10-23T17:05:02.917Z"
   },
   {
    "duration": 68,
    "start_time": "2022-10-23T17:05:42.743Z"
   },
   {
    "duration": 4,
    "start_time": "2022-10-23T17:05:46.326Z"
   },
   {
    "duration": 5,
    "start_time": "2022-10-23T17:05:58.109Z"
   },
   {
    "duration": 5,
    "start_time": "2022-10-23T17:06:03.124Z"
   },
   {
    "duration": 10,
    "start_time": "2022-10-23T17:06:13.893Z"
   },
   {
    "duration": 9,
    "start_time": "2022-10-23T17:06:21.405Z"
   },
   {
    "duration": 11,
    "start_time": "2022-10-23T17:07:39.195Z"
   },
   {
    "duration": 10,
    "start_time": "2022-10-23T17:07:43.940Z"
   },
   {
    "duration": 4,
    "start_time": "2022-10-23T17:08:33.659Z"
   },
   {
    "duration": 4,
    "start_time": "2022-10-23T17:08:50.744Z"
   },
   {
    "duration": 5,
    "start_time": "2022-10-23T17:09:12.250Z"
   },
   {
    "duration": 4,
    "start_time": "2022-10-23T17:09:22.249Z"
   },
   {
    "duration": 6,
    "start_time": "2022-10-23T17:10:13.362Z"
   },
   {
    "duration": 23,
    "start_time": "2022-10-23T17:10:25.273Z"
   },
   {
    "duration": 20,
    "start_time": "2022-10-23T17:10:37.081Z"
   },
   {
    "duration": 13,
    "start_time": "2022-10-23T17:10:45.536Z"
   },
   {
    "duration": 18,
    "start_time": "2022-10-23T17:10:47.859Z"
   },
   {
    "duration": 16,
    "start_time": "2022-10-23T17:10:55.552Z"
   },
   {
    "duration": 12,
    "start_time": "2022-10-23T17:11:05.112Z"
   },
   {
    "duration": 113,
    "start_time": "2022-10-23T17:11:14.165Z"
   },
   {
    "duration": 7,
    "start_time": "2022-10-23T17:11:23.920Z"
   },
   {
    "duration": 144,
    "start_time": "2022-10-23T17:23:46.043Z"
   },
   {
    "duration": 150,
    "start_time": "2022-10-23T17:23:54.279Z"
   },
   {
    "duration": 137,
    "start_time": "2022-10-23T17:24:03.581Z"
   },
   {
    "duration": 10,
    "start_time": "2022-10-23T17:28:22.088Z"
   },
   {
    "duration": 10,
    "start_time": "2022-10-23T17:29:36.032Z"
   },
   {
    "duration": 11,
    "start_time": "2022-10-23T17:30:03.880Z"
   },
   {
    "duration": 14,
    "start_time": "2022-10-23T17:30:07.136Z"
   },
   {
    "duration": 11,
    "start_time": "2022-10-23T17:30:17.550Z"
   },
   {
    "duration": 21,
    "start_time": "2022-10-23T17:30:31.056Z"
   },
   {
    "duration": 13,
    "start_time": "2022-10-23T17:30:37.534Z"
   },
   {
    "duration": 13,
    "start_time": "2022-10-23T17:30:50.334Z"
   },
   {
    "duration": 13,
    "start_time": "2022-10-23T17:30:53.686Z"
   },
   {
    "duration": 10,
    "start_time": "2022-10-23T17:30:56.374Z"
   },
   {
    "duration": 10,
    "start_time": "2022-10-23T17:31:08.879Z"
   },
   {
    "duration": 13,
    "start_time": "2022-10-23T17:31:18.998Z"
   },
   {
    "duration": 10,
    "start_time": "2022-10-23T17:31:43.070Z"
   },
   {
    "duration": 13,
    "start_time": "2022-10-23T17:31:45.390Z"
   },
   {
    "duration": 8,
    "start_time": "2022-10-23T17:33:00.853Z"
   },
   {
    "duration": 9,
    "start_time": "2022-10-23T17:33:07.260Z"
   },
   {
    "duration": 10,
    "start_time": "2022-10-23T17:33:24.636Z"
   },
   {
    "duration": 10,
    "start_time": "2022-10-23T17:33:32.467Z"
   },
   {
    "duration": 11,
    "start_time": "2022-10-23T17:33:51.796Z"
   },
   {
    "duration": 10,
    "start_time": "2022-10-23T17:34:05.291Z"
   },
   {
    "duration": 9,
    "start_time": "2022-10-23T17:36:19.945Z"
   },
   {
    "duration": 8,
    "start_time": "2022-10-23T17:36:35.626Z"
   },
   {
    "duration": 11,
    "start_time": "2022-10-23T17:37:35.433Z"
   },
   {
    "duration": 9,
    "start_time": "2022-10-23T17:38:06.634Z"
   },
   {
    "duration": 10,
    "start_time": "2022-10-23T17:38:45.696Z"
   },
   {
    "duration": 9,
    "start_time": "2022-10-23T17:38:50.903Z"
   },
   {
    "duration": 11,
    "start_time": "2022-10-23T17:39:27.679Z"
   },
   {
    "duration": 9,
    "start_time": "2022-10-23T17:40:15.846Z"
   },
   {
    "duration": 11,
    "start_time": "2022-10-23T17:40:34.614Z"
   },
   {
    "duration": 10,
    "start_time": "2022-10-23T17:40:39.941Z"
   },
   {
    "duration": 9,
    "start_time": "2022-10-23T17:40:57.358Z"
   },
   {
    "duration": 10,
    "start_time": "2022-10-23T17:41:41.506Z"
   },
   {
    "duration": 51,
    "start_time": "2022-10-23T17:42:44.495Z"
   },
   {
    "duration": 48,
    "start_time": "2022-10-23T17:43:00.364Z"
   },
   {
    "duration": 11,
    "start_time": "2022-10-23T17:43:20.529Z"
   },
   {
    "duration": 11,
    "start_time": "2022-10-23T17:43:59.276Z"
   },
   {
    "duration": 9,
    "start_time": "2022-10-23T17:46:06.625Z"
   },
   {
    "duration": 10,
    "start_time": "2022-10-23T17:48:38.359Z"
   },
   {
    "duration": 11,
    "start_time": "2022-10-23T17:48:50.257Z"
   },
   {
    "duration": 175,
    "start_time": "2022-10-23T17:54:13.096Z"
   },
   {
    "duration": 96,
    "start_time": "2022-10-23T17:54:37.808Z"
   },
   {
    "duration": 183,
    "start_time": "2022-10-23T17:54:42.933Z"
   },
   {
    "duration": 243,
    "start_time": "2022-10-23T17:55:23.192Z"
   },
   {
    "duration": 109,
    "start_time": "2022-10-23T17:56:09.977Z"
   },
   {
    "duration": 17,
    "start_time": "2022-10-23T17:56:33.792Z"
   },
   {
    "duration": 190,
    "start_time": "2022-10-23T17:57:31.482Z"
   },
   {
    "duration": 266,
    "start_time": "2022-10-23T17:58:18.645Z"
   },
   {
    "duration": 283,
    "start_time": "2022-10-23T17:58:28.478Z"
   },
   {
    "duration": 192,
    "start_time": "2022-10-23T17:58:31.982Z"
   },
   {
    "duration": 68,
    "start_time": "2022-10-23T17:59:13.484Z"
   },
   {
    "duration": 183,
    "start_time": "2022-10-23T17:59:18.548Z"
   },
   {
    "duration": 71,
    "start_time": "2022-10-23T17:59:22.685Z"
   },
   {
    "duration": 82,
    "start_time": "2022-10-23T17:59:27.749Z"
   },
   {
    "duration": 198,
    "start_time": "2022-10-23T17:59:32.510Z"
   },
   {
    "duration": 13,
    "start_time": "2022-10-23T17:59:51.772Z"
   },
   {
    "duration": 15,
    "start_time": "2022-10-23T17:59:56.113Z"
   },
   {
    "duration": 187,
    "start_time": "2022-10-23T18:00:01.611Z"
   },
   {
    "duration": 101,
    "start_time": "2022-10-23T18:00:36.459Z"
   },
   {
    "duration": 198,
    "start_time": "2022-10-23T18:00:42.155Z"
   },
   {
    "duration": 272,
    "start_time": "2022-10-23T18:00:52.067Z"
   },
   {
    "duration": 194,
    "start_time": "2022-10-23T18:00:58.639Z"
   },
   {
    "duration": 187,
    "start_time": "2022-10-23T18:02:05.186Z"
   },
   {
    "duration": 66,
    "start_time": "2022-10-23T18:02:50.194Z"
   },
   {
    "duration": 189,
    "start_time": "2022-10-23T18:02:53.050Z"
   },
   {
    "duration": 188,
    "start_time": "2022-10-23T18:03:02.302Z"
   },
   {
    "duration": 187,
    "start_time": "2022-10-23T18:04:09.303Z"
   },
   {
    "duration": 75,
    "start_time": "2022-10-23T18:05:38.575Z"
   },
   {
    "duration": 193,
    "start_time": "2022-10-23T18:05:42.167Z"
   },
   {
    "duration": 191,
    "start_time": "2022-10-23T18:05:46.239Z"
   },
   {
    "duration": 173,
    "start_time": "2022-10-23T18:05:57.959Z"
   },
   {
    "duration": 175,
    "start_time": "2022-10-23T18:06:04.655Z"
   },
   {
    "duration": 190,
    "start_time": "2022-10-23T18:06:08.671Z"
   },
   {
    "duration": 256,
    "start_time": "2022-10-23T18:06:13.009Z"
   },
   {
    "duration": 190,
    "start_time": "2022-10-23T18:06:16.695Z"
   },
   {
    "duration": 200,
    "start_time": "2022-10-23T18:07:39.835Z"
   },
   {
    "duration": 267,
    "start_time": "2022-10-23T18:07:56.942Z"
   },
   {
    "duration": 203,
    "start_time": "2022-10-23T18:08:01.713Z"
   },
   {
    "duration": 191,
    "start_time": "2022-10-23T18:08:05.245Z"
   },
   {
    "duration": 64,
    "start_time": "2022-10-23T18:26:20.503Z"
   },
   {
    "duration": 11,
    "start_time": "2022-10-23T18:26:24.605Z"
   },
   {
    "duration": 11,
    "start_time": "2022-10-23T18:26:38.642Z"
   },
   {
    "duration": 12,
    "start_time": "2022-10-23T18:27:16.713Z"
   },
   {
    "duration": 12,
    "start_time": "2022-10-23T18:27:26.003Z"
   },
   {
    "duration": 3,
    "start_time": "2022-10-23T18:28:13.855Z"
   },
   {
    "duration": 158,
    "start_time": "2022-10-23T18:29:57.942Z"
   },
   {
    "duration": 12,
    "start_time": "2022-10-23T18:30:26.822Z"
   },
   {
    "duration": 144,
    "start_time": "2022-10-23T18:31:29.500Z"
   },
   {
    "duration": 83,
    "start_time": "2022-10-23T18:32:10.469Z"
   },
   {
    "duration": 20,
    "start_time": "2022-10-23T18:32:13.915Z"
   },
   {
    "duration": 151,
    "start_time": "2022-10-23T18:32:30.659Z"
   },
   {
    "duration": 155,
    "start_time": "2022-10-23T18:32:50.619Z"
   },
   {
    "duration": 14,
    "start_time": "2022-10-23T18:33:08.570Z"
   },
   {
    "duration": 15,
    "start_time": "2022-10-23T18:35:37.700Z"
   },
   {
    "duration": 13,
    "start_time": "2022-10-23T18:35:45.601Z"
   },
   {
    "duration": 157,
    "start_time": "2022-10-23T18:36:35.972Z"
   },
   {
    "duration": 20,
    "start_time": "2022-10-23T18:36:40.071Z"
   },
   {
    "duration": 21,
    "start_time": "2022-10-23T18:37:10.879Z"
   },
   {
    "duration": 10,
    "start_time": "2022-10-23T18:37:30.933Z"
   },
   {
    "duration": 19,
    "start_time": "2022-10-23T18:38:05.382Z"
   },
   {
    "duration": 14,
    "start_time": "2022-10-23T18:38:14.317Z"
   },
   {
    "duration": 20,
    "start_time": "2022-10-23T18:38:35.005Z"
   },
   {
    "duration": 84,
    "start_time": "2022-10-23T18:38:48.029Z"
   },
   {
    "duration": 157,
    "start_time": "2022-10-23T18:38:50.781Z"
   },
   {
    "duration": 255,
    "start_time": "2022-10-23T18:39:05.116Z"
   },
   {
    "duration": 147,
    "start_time": "2022-10-23T18:39:24.227Z"
   },
   {
    "duration": 151,
    "start_time": "2022-10-23T18:39:41.915Z"
   },
   {
    "duration": 49,
    "start_time": "2022-10-23T20:57:37.513Z"
   },
   {
    "duration": 1210,
    "start_time": "2022-10-23T20:57:42.045Z"
   },
   {
    "duration": 42,
    "start_time": "2022-10-23T20:57:43.257Z"
   },
   {
    "duration": 8,
    "start_time": "2022-10-23T20:57:43.300Z"
   },
   {
    "duration": 11,
    "start_time": "2022-10-23T20:57:43.310Z"
   },
   {
    "duration": 9,
    "start_time": "2022-10-23T20:57:43.324Z"
   },
   {
    "duration": 8,
    "start_time": "2022-10-23T20:57:43.334Z"
   },
   {
    "duration": 71,
    "start_time": "2022-10-23T20:57:43.344Z"
   },
   {
    "duration": 7,
    "start_time": "2022-10-23T20:57:43.416Z"
   },
   {
    "duration": 12,
    "start_time": "2022-10-23T20:57:43.424Z"
   },
   {
    "duration": 10,
    "start_time": "2022-10-23T20:57:43.437Z"
   },
   {
    "duration": 283,
    "start_time": "2022-10-23T20:57:43.448Z"
   },
   {
    "duration": 271,
    "start_time": "2022-10-23T20:57:43.733Z"
   },
   {
    "duration": 190,
    "start_time": "2022-10-23T20:57:44.006Z"
   },
   {
    "duration": 352,
    "start_time": "2022-10-23T20:57:44.198Z"
   },
   {
    "duration": 208,
    "start_time": "2022-10-23T20:57:44.552Z"
   },
   {
    "duration": 304,
    "start_time": "2022-10-23T20:57:44.762Z"
   },
   {
    "duration": 185,
    "start_time": "2022-10-23T20:57:45.069Z"
   },
   {
    "duration": 5,
    "start_time": "2022-10-23T20:57:45.256Z"
   },
   {
    "duration": 206,
    "start_time": "2022-10-23T20:57:45.263Z"
   },
   {
    "duration": 0,
    "start_time": "2022-10-23T20:57:45.471Z"
   },
   {
    "duration": 0,
    "start_time": "2022-10-23T20:57:45.472Z"
   },
   {
    "duration": 0,
    "start_time": "2022-10-23T20:57:45.474Z"
   },
   {
    "duration": 0,
    "start_time": "2022-10-23T20:57:45.475Z"
   },
   {
    "duration": 0,
    "start_time": "2022-10-23T20:57:45.476Z"
   },
   {
    "duration": 0,
    "start_time": "2022-10-23T20:57:45.477Z"
   },
   {
    "duration": 0,
    "start_time": "2022-10-23T20:57:45.478Z"
   },
   {
    "duration": 246,
    "start_time": "2022-10-23T21:15:37.884Z"
   },
   {
    "duration": 163,
    "start_time": "2022-10-23T21:22:56.348Z"
   },
   {
    "duration": 118,
    "start_time": "2022-10-23T21:23:20.744Z"
   },
   {
    "duration": 124,
    "start_time": "2022-10-23T21:26:15.034Z"
   },
   {
    "duration": 128,
    "start_time": "2022-10-23T21:26:21.750Z"
   },
   {
    "duration": 123,
    "start_time": "2022-10-23T21:26:39.211Z"
   },
   {
    "duration": 131,
    "start_time": "2022-10-23T21:26:52.314Z"
   },
   {
    "duration": 122,
    "start_time": "2022-10-23T21:27:07.459Z"
   },
   {
    "duration": 132,
    "start_time": "2022-10-23T21:27:27.082Z"
   },
   {
    "duration": 108,
    "start_time": "2022-10-23T21:28:11.513Z"
   },
   {
    "duration": 110,
    "start_time": "2022-10-23T21:28:25.169Z"
   },
   {
    "duration": 121,
    "start_time": "2022-10-23T21:29:20.790Z"
   },
   {
    "duration": 161,
    "start_time": "2022-10-23T21:29:37.209Z"
   },
   {
    "duration": 166,
    "start_time": "2022-10-23T21:30:42.487Z"
   },
   {
    "duration": 47,
    "start_time": "2022-10-23T21:41:14.869Z"
   },
   {
    "duration": 48,
    "start_time": "2022-10-23T21:42:45.972Z"
   },
   {
    "duration": 86,
    "start_time": "2022-10-23T21:43:47.971Z"
   },
   {
    "duration": 10,
    "start_time": "2022-10-23T21:46:53.174Z"
   },
   {
    "duration": 12,
    "start_time": "2022-10-23T21:47:17.241Z"
   },
   {
    "duration": 12,
    "start_time": "2022-10-23T21:47:24.127Z"
   },
   {
    "duration": 1055,
    "start_time": "2022-10-23T21:47:38.717Z"
   },
   {
    "duration": 24,
    "start_time": "2022-10-23T21:47:39.773Z"
   },
   {
    "duration": 7,
    "start_time": "2022-10-23T21:47:39.799Z"
   },
   {
    "duration": 16,
    "start_time": "2022-10-23T21:47:39.808Z"
   },
   {
    "duration": 12,
    "start_time": "2022-10-23T21:47:39.826Z"
   },
   {
    "duration": 8,
    "start_time": "2022-10-23T21:47:39.839Z"
   },
   {
    "duration": 34,
    "start_time": "2022-10-23T21:47:39.848Z"
   },
   {
    "duration": 6,
    "start_time": "2022-10-23T21:47:39.884Z"
   },
   {
    "duration": 6,
    "start_time": "2022-10-23T21:47:39.891Z"
   },
   {
    "duration": 10,
    "start_time": "2022-10-23T21:47:39.899Z"
   },
   {
    "duration": 267,
    "start_time": "2022-10-23T21:47:39.911Z"
   },
   {
    "duration": 304,
    "start_time": "2022-10-23T21:47:40.179Z"
   },
   {
    "duration": 214,
    "start_time": "2022-10-23T21:47:40.485Z"
   },
   {
    "duration": 345,
    "start_time": "2022-10-23T21:47:40.703Z"
   },
   {
    "duration": 215,
    "start_time": "2022-10-23T21:47:41.050Z"
   },
   {
    "duration": 317,
    "start_time": "2022-10-23T21:47:41.267Z"
   },
   {
    "duration": 167,
    "start_time": "2022-10-23T21:47:41.586Z"
   },
   {
    "duration": 5,
    "start_time": "2022-10-23T21:47:41.755Z"
   },
   {
    "duration": 179,
    "start_time": "2022-10-23T21:47:41.761Z"
   },
   {
    "duration": 4,
    "start_time": "2022-10-23T21:47:41.942Z"
   },
   {
    "duration": 15,
    "start_time": "2022-10-23T21:47:41.948Z"
   },
   {
    "duration": 177,
    "start_time": "2022-10-23T21:47:41.964Z"
   },
   {
    "duration": 10,
    "start_time": "2022-10-23T21:47:42.143Z"
   },
   {
    "duration": 10,
    "start_time": "2022-10-23T21:47:42.154Z"
   },
   {
    "duration": 59,
    "start_time": "2022-10-23T21:47:42.166Z"
   },
   {
    "duration": 13,
    "start_time": "2022-10-23T21:47:42.226Z"
   },
   {
    "duration": 45,
    "start_time": "2022-10-23T22:02:15.442Z"
   },
   {
    "duration": 87,
    "start_time": "2022-10-23T22:05:22.863Z"
   },
   {
    "duration": 75,
    "start_time": "2022-10-23T22:06:04.599Z"
   },
   {
    "duration": 6,
    "start_time": "2022-10-23T22:08:36.657Z"
   },
   {
    "duration": 23,
    "start_time": "2022-10-23T22:08:48.940Z"
   },
   {
    "duration": 50,
    "start_time": "2022-10-23T22:11:27.290Z"
   },
   {
    "duration": 5,
    "start_time": "2022-10-23T22:11:52.185Z"
   },
   {
    "duration": 16,
    "start_time": "2022-10-23T22:11:57.665Z"
   },
   {
    "duration": 189,
    "start_time": "2022-10-23T22:14:08.192Z"
   },
   {
    "duration": 1030,
    "start_time": "2022-10-23T22:14:47.640Z"
   },
   {
    "duration": 26,
    "start_time": "2022-10-23T22:14:48.673Z"
   },
   {
    "duration": 8,
    "start_time": "2022-10-23T22:14:48.700Z"
   },
   {
    "duration": 13,
    "start_time": "2022-10-23T22:14:48.709Z"
   },
   {
    "duration": 11,
    "start_time": "2022-10-23T22:14:48.724Z"
   },
   {
    "duration": 7,
    "start_time": "2022-10-23T22:14:48.737Z"
   },
   {
    "duration": 30,
    "start_time": "2022-10-23T22:14:48.746Z"
   },
   {
    "duration": 7,
    "start_time": "2022-10-23T22:14:48.777Z"
   },
   {
    "duration": 6,
    "start_time": "2022-10-23T22:14:48.785Z"
   },
   {
    "duration": 12,
    "start_time": "2022-10-23T22:14:48.792Z"
   },
   {
    "duration": 328,
    "start_time": "2022-10-23T22:14:48.806Z"
   },
   {
    "duration": 254,
    "start_time": "2022-10-23T22:14:49.136Z"
   },
   {
    "duration": 190,
    "start_time": "2022-10-23T22:14:49.392Z"
   },
   {
    "duration": 289,
    "start_time": "2022-10-23T22:14:49.585Z"
   },
   {
    "duration": 217,
    "start_time": "2022-10-23T22:14:49.875Z"
   },
   {
    "duration": 359,
    "start_time": "2022-10-23T22:14:50.093Z"
   },
   {
    "duration": 171,
    "start_time": "2022-10-23T22:14:50.454Z"
   },
   {
    "duration": 5,
    "start_time": "2022-10-23T22:14:50.627Z"
   },
   {
    "duration": 189,
    "start_time": "2022-10-23T22:14:50.634Z"
   },
   {
    "duration": 5,
    "start_time": "2022-10-23T22:14:50.824Z"
   },
   {
    "duration": 23,
    "start_time": "2022-10-23T22:14:50.831Z"
   },
   {
    "duration": 308,
    "start_time": "2022-10-23T22:14:50.856Z"
   },
   {
    "duration": 0,
    "start_time": "2022-10-23T22:14:51.165Z"
   },
   {
    "duration": 0,
    "start_time": "2022-10-23T22:14:51.166Z"
   },
   {
    "duration": 0,
    "start_time": "2022-10-23T22:14:51.167Z"
   },
   {
    "duration": 0,
    "start_time": "2022-10-23T22:14:51.168Z"
   },
   {
    "duration": 197,
    "start_time": "2022-10-23T22:15:43.934Z"
   },
   {
    "duration": 15,
    "start_time": "2022-10-23T22:15:50.853Z"
   },
   {
    "duration": 12,
    "start_time": "2022-10-23T22:15:53.116Z"
   },
   {
    "duration": 74,
    "start_time": "2022-10-23T22:15:57.173Z"
   },
   {
    "duration": 19,
    "start_time": "2022-10-23T22:15:59.340Z"
   },
   {
    "duration": 207,
    "start_time": "2022-10-23T22:16:35.131Z"
   },
   {
    "duration": 1046,
    "start_time": "2022-10-23T22:20:21.519Z"
   },
   {
    "duration": 25,
    "start_time": "2022-10-23T22:20:22.567Z"
   },
   {
    "duration": 9,
    "start_time": "2022-10-23T22:20:22.593Z"
   },
   {
    "duration": 12,
    "start_time": "2022-10-23T22:20:22.603Z"
   },
   {
    "duration": 16,
    "start_time": "2022-10-23T22:20:22.617Z"
   },
   {
    "duration": 9,
    "start_time": "2022-10-23T22:20:22.635Z"
   },
   {
    "duration": 33,
    "start_time": "2022-10-23T22:20:22.646Z"
   },
   {
    "duration": 7,
    "start_time": "2022-10-23T22:20:22.680Z"
   },
   {
    "duration": 9,
    "start_time": "2022-10-23T22:20:22.688Z"
   },
   {
    "duration": 10,
    "start_time": "2022-10-23T22:20:22.699Z"
   },
   {
    "duration": 294,
    "start_time": "2022-10-23T22:20:22.710Z"
   },
   {
    "duration": 453,
    "start_time": "2022-10-23T22:20:23.006Z"
   },
   {
    "duration": 187,
    "start_time": "2022-10-23T22:20:23.461Z"
   },
   {
    "duration": 310,
    "start_time": "2022-10-23T22:20:23.651Z"
   },
   {
    "duration": 218,
    "start_time": "2022-10-23T22:20:23.963Z"
   },
   {
    "duration": 356,
    "start_time": "2022-10-23T22:20:24.182Z"
   },
   {
    "duration": 177,
    "start_time": "2022-10-23T22:20:24.540Z"
   },
   {
    "duration": 5,
    "start_time": "2022-10-23T22:20:24.722Z"
   },
   {
    "duration": 183,
    "start_time": "2022-10-23T22:20:24.729Z"
   },
   {
    "duration": 13,
    "start_time": "2022-10-23T22:20:24.914Z"
   },
   {
    "duration": 241,
    "start_time": "2022-10-23T22:20:24.929Z"
   },
   {
    "duration": 241,
    "start_time": "2022-10-23T22:20:25.172Z"
   },
   {
    "duration": 21,
    "start_time": "2022-10-23T22:20:25.414Z"
   },
   {
    "duration": 10,
    "start_time": "2022-10-23T22:20:25.436Z"
   },
   {
    "duration": 89,
    "start_time": "2022-10-23T22:20:25.447Z"
   },
   {
    "duration": 19,
    "start_time": "2022-10-23T22:20:25.537Z"
   },
   {
    "duration": 43,
    "start_time": "2022-10-25T10:42:22.924Z"
   },
   {
    "duration": 6,
    "start_time": "2022-10-25T10:42:58.243Z"
   },
   {
    "duration": 6,
    "start_time": "2022-10-25T10:43:27.102Z"
   },
   {
    "duration": 1155,
    "start_time": "2022-10-25T10:43:43.114Z"
   },
   {
    "duration": 81,
    "start_time": "2022-10-25T10:43:44.271Z"
   },
   {
    "duration": 6,
    "start_time": "2022-10-25T10:43:44.354Z"
   },
   {
    "duration": 12,
    "start_time": "2022-10-25T10:43:44.363Z"
   },
   {
    "duration": 10,
    "start_time": "2022-10-25T10:43:44.376Z"
   },
   {
    "duration": 7,
    "start_time": "2022-10-25T10:43:44.388Z"
   },
   {
    "duration": 134,
    "start_time": "2022-10-25T10:43:44.396Z"
   },
   {
    "duration": 6,
    "start_time": "2022-10-25T10:43:44.532Z"
   },
   {
    "duration": 9,
    "start_time": "2022-10-25T10:43:44.539Z"
   },
   {
    "duration": 10,
    "start_time": "2022-10-25T10:43:44.550Z"
   },
   {
    "duration": 250,
    "start_time": "2022-10-25T10:43:44.562Z"
   },
   {
    "duration": 262,
    "start_time": "2022-10-25T10:43:44.813Z"
   },
   {
    "duration": 184,
    "start_time": "2022-10-25T10:43:45.077Z"
   },
   {
    "duration": 351,
    "start_time": "2022-10-25T10:43:45.263Z"
   },
   {
    "duration": 209,
    "start_time": "2022-10-25T10:43:45.615Z"
   },
   {
    "duration": 316,
    "start_time": "2022-10-25T10:43:45.825Z"
   },
   {
    "duration": 149,
    "start_time": "2022-10-25T10:43:46.144Z"
   },
   {
    "duration": 6,
    "start_time": "2022-10-25T10:43:46.295Z"
   },
   {
    "duration": 158,
    "start_time": "2022-10-25T10:43:46.302Z"
   },
   {
    "duration": 15,
    "start_time": "2022-10-25T10:43:46.462Z"
   },
   {
    "duration": 200,
    "start_time": "2022-10-25T10:43:46.479Z"
   },
   {
    "duration": 14,
    "start_time": "2022-10-25T10:43:46.681Z"
   },
   {
    "duration": 11,
    "start_time": "2022-10-25T10:43:46.697Z"
   },
   {
    "duration": 98,
    "start_time": "2022-10-25T10:43:46.710Z"
   },
   {
    "duration": 18,
    "start_time": "2022-10-25T10:43:46.809Z"
   },
   {
    "duration": 1176,
    "start_time": "2022-10-25T10:44:24.068Z"
   },
   {
    "duration": 1139,
    "start_time": "2022-10-25T10:44:29.299Z"
   },
   {
    "duration": 1257,
    "start_time": "2022-10-25T11:03:20.202Z"
   },
   {
    "duration": 1238,
    "start_time": "2022-10-25T11:07:20.735Z"
   },
   {
    "duration": 1495,
    "start_time": "2022-10-25T11:07:40.462Z"
   },
   {
    "duration": 1179,
    "start_time": "2022-10-25T11:08:10.198Z"
   },
   {
    "duration": 18,
    "start_time": "2022-10-25T11:08:22.813Z"
   },
   {
    "duration": 53,
    "start_time": "2022-10-25T11:08:22.832Z"
   },
   {
    "duration": 12,
    "start_time": "2022-10-25T11:08:22.886Z"
   },
   {
    "duration": 29,
    "start_time": "2022-10-25T11:08:22.899Z"
   },
   {
    "duration": 32,
    "start_time": "2022-10-25T11:08:22.929Z"
   },
   {
    "duration": 27,
    "start_time": "2022-10-25T11:08:22.963Z"
   },
   {
    "duration": 91,
    "start_time": "2022-10-25T11:08:22.992Z"
   },
   {
    "duration": 7,
    "start_time": "2022-10-25T11:08:23.084Z"
   },
   {
    "duration": 21,
    "start_time": "2022-10-25T11:08:23.092Z"
   },
   {
    "duration": 35,
    "start_time": "2022-10-25T11:08:23.114Z"
   },
   {
    "duration": 242,
    "start_time": "2022-10-25T11:08:23.150Z"
   },
   {
    "duration": 184,
    "start_time": "2022-10-25T11:08:23.394Z"
   },
   {
    "duration": 252,
    "start_time": "2022-10-25T11:08:23.580Z"
   },
   {
    "duration": 289,
    "start_time": "2022-10-25T11:08:23.833Z"
   },
   {
    "duration": 209,
    "start_time": "2022-10-25T11:08:24.124Z"
   },
   {
    "duration": 341,
    "start_time": "2022-10-25T11:08:24.337Z"
   },
   {
    "duration": 136,
    "start_time": "2022-10-25T11:08:24.679Z"
   },
   {
    "duration": 5,
    "start_time": "2022-10-25T11:08:24.816Z"
   },
   {
    "duration": 157,
    "start_time": "2022-10-25T11:08:24.822Z"
   },
   {
    "duration": 5,
    "start_time": "2022-10-25T11:08:24.980Z"
   },
   {
    "duration": 197,
    "start_time": "2022-10-25T11:08:24.986Z"
   },
   {
    "duration": 13,
    "start_time": "2022-10-25T11:08:25.185Z"
   },
   {
    "duration": 10,
    "start_time": "2022-10-25T11:08:25.199Z"
   },
   {
    "duration": 87,
    "start_time": "2022-10-25T11:08:25.211Z"
   },
   {
    "duration": 18,
    "start_time": "2022-10-25T11:08:25.300Z"
   },
   {
    "duration": 1195,
    "start_time": "2022-10-25T11:09:20.704Z"
   },
   {
    "duration": 1075,
    "start_time": "2022-10-25T11:09:52.897Z"
   },
   {
    "duration": 1017,
    "start_time": "2022-10-25T11:09:59.286Z"
   },
   {
    "duration": 38,
    "start_time": "2022-10-25T11:10:00.305Z"
   },
   {
    "duration": 8,
    "start_time": "2022-10-25T11:10:00.345Z"
   },
   {
    "duration": 29,
    "start_time": "2022-10-25T11:10:00.355Z"
   },
   {
    "duration": 24,
    "start_time": "2022-10-25T11:10:00.386Z"
   },
   {
    "duration": 103,
    "start_time": "2022-10-25T11:10:00.412Z"
   },
   {
    "duration": 0,
    "start_time": "2022-10-25T11:10:00.517Z"
   },
   {
    "duration": 0,
    "start_time": "2022-10-25T11:10:00.518Z"
   },
   {
    "duration": 0,
    "start_time": "2022-10-25T11:10:00.519Z"
   },
   {
    "duration": 0,
    "start_time": "2022-10-25T11:10:00.520Z"
   },
   {
    "duration": 0,
    "start_time": "2022-10-25T11:10:00.522Z"
   },
   {
    "duration": 0,
    "start_time": "2022-10-25T11:10:00.523Z"
   },
   {
    "duration": 0,
    "start_time": "2022-10-25T11:10:00.524Z"
   },
   {
    "duration": 0,
    "start_time": "2022-10-25T11:10:00.525Z"
   },
   {
    "duration": 0,
    "start_time": "2022-10-25T11:10:00.526Z"
   },
   {
    "duration": 0,
    "start_time": "2022-10-25T11:10:00.527Z"
   },
   {
    "duration": 0,
    "start_time": "2022-10-25T11:10:00.528Z"
   },
   {
    "duration": 0,
    "start_time": "2022-10-25T11:10:00.529Z"
   },
   {
    "duration": 0,
    "start_time": "2022-10-25T11:10:00.529Z"
   },
   {
    "duration": 0,
    "start_time": "2022-10-25T11:10:00.530Z"
   },
   {
    "duration": 0,
    "start_time": "2022-10-25T11:10:00.532Z"
   },
   {
    "duration": 0,
    "start_time": "2022-10-25T11:10:00.532Z"
   },
   {
    "duration": 0,
    "start_time": "2022-10-25T11:10:00.533Z"
   },
   {
    "duration": 0,
    "start_time": "2022-10-25T11:10:00.534Z"
   },
   {
    "duration": 0,
    "start_time": "2022-10-25T11:10:00.535Z"
   },
   {
    "duration": 8,
    "start_time": "2022-10-25T11:11:56.459Z"
   },
   {
    "duration": 3,
    "start_time": "2022-10-25T11:12:44.706Z"
   },
   {
    "duration": 9,
    "start_time": "2022-10-25T11:12:48.817Z"
   },
   {
    "duration": 14,
    "start_time": "2022-10-25T11:13:05.913Z"
   },
   {
    "duration": 10,
    "start_time": "2022-10-25T11:13:15.793Z"
   },
   {
    "duration": 9,
    "start_time": "2022-10-25T11:13:42.161Z"
   },
   {
    "duration": 10,
    "start_time": "2022-10-25T11:14:03.592Z"
   },
   {
    "duration": 9,
    "start_time": "2022-10-25T11:14:21.648Z"
   },
   {
    "duration": 78,
    "start_time": "2022-10-25T11:14:50.360Z"
   },
   {
    "duration": 11,
    "start_time": "2022-10-25T11:14:53.823Z"
   },
   {
    "duration": 10,
    "start_time": "2022-10-25T11:18:17.251Z"
   },
   {
    "duration": 11,
    "start_time": "2022-10-25T11:18:40.677Z"
   },
   {
    "duration": 9,
    "start_time": "2022-10-25T11:19:30.075Z"
   },
   {
    "duration": 10,
    "start_time": "2022-10-25T11:20:25.646Z"
   },
   {
    "duration": 7,
    "start_time": "2022-10-25T11:20:51.083Z"
   },
   {
    "duration": 10,
    "start_time": "2022-10-25T11:21:26.018Z"
   },
   {
    "duration": 9,
    "start_time": "2022-10-25T11:22:01.354Z"
   },
   {
    "duration": 7,
    "start_time": "2022-10-25T11:22:12.888Z"
   },
   {
    "duration": 76,
    "start_time": "2022-10-25T11:22:46.107Z"
   },
   {
    "duration": 8,
    "start_time": "2022-10-25T11:22:49.128Z"
   },
   {
    "duration": 3,
    "start_time": "2022-10-25T11:22:59.770Z"
   },
   {
    "duration": 6,
    "start_time": "2022-10-25T11:23:03.041Z"
   },
   {
    "duration": 12,
    "start_time": "2022-10-25T11:23:11.255Z"
   },
   {
    "duration": 5,
    "start_time": "2022-10-25T11:23:36.120Z"
   },
   {
    "duration": 11,
    "start_time": "2022-10-25T11:23:43.375Z"
   },
   {
    "duration": 13,
    "start_time": "2022-10-25T11:25:43.054Z"
   },
   {
    "duration": 13,
    "start_time": "2022-10-25T11:27:13.134Z"
   },
   {
    "duration": 13,
    "start_time": "2022-10-25T11:27:48.620Z"
   },
   {
    "duration": 603,
    "start_time": "2022-10-25T11:28:43.687Z"
   },
   {
    "duration": 11,
    "start_time": "2022-10-25T11:28:53.851Z"
   },
   {
    "duration": 74,
    "start_time": "2022-10-25T11:28:59.042Z"
   },
   {
    "duration": 80,
    "start_time": "2022-10-25T11:29:52.423Z"
   },
   {
    "duration": 3,
    "start_time": "2022-10-25T11:30:24.618Z"
   },
   {
    "duration": 11,
    "start_time": "2022-10-25T11:30:53.889Z"
   },
   {
    "duration": 14,
    "start_time": "2022-10-25T11:32:17.314Z"
   },
   {
    "duration": 73,
    "start_time": "2022-10-25T11:32:32.791Z"
   },
   {
    "duration": 71,
    "start_time": "2022-10-25T11:32:40.480Z"
   },
   {
    "duration": 13,
    "start_time": "2022-10-25T11:32:48.008Z"
   },
   {
    "duration": 575,
    "start_time": "2022-10-25T11:32:53.583Z"
   },
   {
    "duration": 12,
    "start_time": "2022-10-25T11:33:22.432Z"
   },
   {
    "duration": 11,
    "start_time": "2022-10-25T11:33:38.167Z"
   },
   {
    "duration": 12,
    "start_time": "2022-10-25T11:34:38.390Z"
   },
   {
    "duration": 7,
    "start_time": "2022-10-25T11:34:54.045Z"
   },
   {
    "duration": 2,
    "start_time": "2022-10-25T11:35:09.410Z"
   },
   {
    "duration": 34,
    "start_time": "2022-10-25T11:35:09.413Z"
   },
   {
    "duration": 7,
    "start_time": "2022-10-25T11:35:09.449Z"
   },
   {
    "duration": 13,
    "start_time": "2022-10-25T11:35:09.457Z"
   },
   {
    "duration": 13,
    "start_time": "2022-10-25T11:35:09.472Z"
   },
   {
    "duration": 12,
    "start_time": "2022-10-25T11:35:09.487Z"
   },
   {
    "duration": 12,
    "start_time": "2022-10-25T11:35:09.501Z"
   },
   {
    "duration": 10,
    "start_time": "2022-10-25T11:35:09.515Z"
   },
   {
    "duration": 56,
    "start_time": "2022-10-25T11:35:09.526Z"
   },
   {
    "duration": 6,
    "start_time": "2022-10-25T11:35:09.583Z"
   },
   {
    "duration": 10,
    "start_time": "2022-10-25T11:35:09.591Z"
   },
   {
    "duration": 12,
    "start_time": "2022-10-25T11:35:09.602Z"
   },
   {
    "duration": 270,
    "start_time": "2022-10-25T11:35:09.615Z"
   },
   {
    "duration": 195,
    "start_time": "2022-10-25T11:35:09.886Z"
   },
   {
    "duration": 274,
    "start_time": "2022-10-25T11:35:10.083Z"
   },
   {
    "duration": 331,
    "start_time": "2022-10-25T11:35:10.358Z"
   },
   {
    "duration": 223,
    "start_time": "2022-10-25T11:35:10.690Z"
   },
   {
    "duration": 309,
    "start_time": "2022-10-25T11:35:10.916Z"
   },
   {
    "duration": 146,
    "start_time": "2022-10-25T11:35:11.226Z"
   },
   {
    "duration": 5,
    "start_time": "2022-10-25T11:35:11.378Z"
   },
   {
    "duration": 168,
    "start_time": "2022-10-25T11:35:11.385Z"
   },
   {
    "duration": 6,
    "start_time": "2022-10-25T11:35:11.554Z"
   },
   {
    "duration": 224,
    "start_time": "2022-10-25T11:35:11.562Z"
   },
   {
    "duration": 17,
    "start_time": "2022-10-25T11:35:11.788Z"
   },
   {
    "duration": 15,
    "start_time": "2022-10-25T11:35:11.807Z"
   },
   {
    "duration": 110,
    "start_time": "2022-10-25T11:35:11.825Z"
   },
   {
    "duration": 24,
    "start_time": "2022-10-25T11:35:11.938Z"
   },
   {
    "duration": 172,
    "start_time": "2022-10-25T11:37:17.547Z"
   },
   {
    "duration": 267,
    "start_time": "2022-10-25T11:38:01.682Z"
   },
   {
    "duration": 244,
    "start_time": "2022-10-25T11:38:11.651Z"
   },
   {
    "duration": 73,
    "start_time": "2022-10-25T11:38:43.506Z"
   },
   {
    "duration": 239,
    "start_time": "2022-10-25T11:38:47.618Z"
   },
   {
    "duration": 215,
    "start_time": "2022-10-25T11:39:27.824Z"
   },
   {
    "duration": 220,
    "start_time": "2022-10-25T11:40:37.751Z"
   },
   {
    "duration": 303,
    "start_time": "2022-10-25T11:41:02.352Z"
   },
   {
    "duration": 181,
    "start_time": "2022-10-25T11:43:01.118Z"
   },
   {
    "duration": 223,
    "start_time": "2022-10-25T11:43:57.684Z"
   },
   {
    "duration": 188,
    "start_time": "2022-10-25T11:44:10.731Z"
   },
   {
    "duration": 197,
    "start_time": "2022-10-25T11:45:09.212Z"
   },
   {
    "duration": 185,
    "start_time": "2022-10-25T12:07:48.327Z"
   },
   {
    "duration": 14,
    "start_time": "2022-10-25T12:07:52.734Z"
   },
   {
    "duration": 1231,
    "start_time": "2022-10-25T12:10:53.475Z"
   },
   {
    "duration": 14,
    "start_time": "2022-10-25T12:11:03.268Z"
   },
   {
    "duration": 4,
    "start_time": "2022-10-25T12:11:44.827Z"
   },
   {
    "duration": 14,
    "start_time": "2022-10-25T12:11:49.587Z"
   },
   {
    "duration": 5,
    "start_time": "2022-10-25T12:12:13.067Z"
   },
   {
    "duration": 156,
    "start_time": "2022-10-25T12:12:58.386Z"
   },
   {
    "duration": 134,
    "start_time": "2022-10-25T12:17:16.125Z"
   },
   {
    "duration": 16,
    "start_time": "2022-10-25T12:17:27.446Z"
   },
   {
    "duration": 44,
    "start_time": "2022-10-25T12:18:02.710Z"
   },
   {
    "duration": 38,
    "start_time": "2022-10-25T12:18:33.687Z"
   },
   {
    "duration": 75,
    "start_time": "2022-10-25T12:19:59.492Z"
   },
   {
    "duration": 601,
    "start_time": "2022-10-25T12:20:07.652Z"
   },
   {
    "duration": 39,
    "start_time": "2022-10-25T12:20:11.075Z"
   },
   {
    "duration": 13,
    "start_time": "2022-10-25T12:20:34.899Z"
   },
   {
    "duration": 1400,
    "start_time": "2022-10-25T12:52:42.468Z"
   },
   {
    "duration": 5,
    "start_time": "2022-10-25T12:52:47.642Z"
   },
   {
    "duration": 11,
    "start_time": "2022-10-25T12:53:46.717Z"
   },
   {
    "duration": 12,
    "start_time": "2022-10-25T12:55:22.691Z"
   },
   {
    "duration": 14,
    "start_time": "2022-10-25T12:55:37.084Z"
   },
   {
    "duration": 91,
    "start_time": "2022-10-25T12:55:49.836Z"
   },
   {
    "duration": 21,
    "start_time": "2022-10-25T12:55:53.282Z"
   },
   {
    "duration": 11,
    "start_time": "2022-10-25T12:56:00.172Z"
   },
   {
    "duration": 12,
    "start_time": "2022-10-25T12:56:04.339Z"
   },
   {
    "duration": 12,
    "start_time": "2022-10-25T13:04:26.100Z"
   },
   {
    "duration": 25,
    "start_time": "2022-10-25T13:04:47.973Z"
   },
   {
    "duration": 12,
    "start_time": "2022-10-25T13:04:51.034Z"
   },
   {
    "duration": 12,
    "start_time": "2022-10-25T13:04:59.715Z"
   },
   {
    "duration": 82,
    "start_time": "2022-10-25T13:05:05.255Z"
   },
   {
    "duration": 12,
    "start_time": "2022-10-25T13:05:11.075Z"
   },
   {
    "duration": 12,
    "start_time": "2022-10-25T13:05:38.242Z"
   },
   {
    "duration": 13,
    "start_time": "2022-10-25T13:12:40.148Z"
   },
   {
    "duration": 16,
    "start_time": "2022-10-25T13:17:25.375Z"
   },
   {
    "duration": 12,
    "start_time": "2022-10-25T13:17:35.844Z"
   },
   {
    "duration": 11,
    "start_time": "2022-10-25T13:18:54.174Z"
   },
   {
    "duration": 11,
    "start_time": "2022-10-25T13:20:47.957Z"
   },
   {
    "duration": 13,
    "start_time": "2022-10-25T13:21:04.107Z"
   },
   {
    "duration": 15,
    "start_time": "2022-10-25T13:21:07.899Z"
   },
   {
    "duration": 17,
    "start_time": "2022-10-25T13:21:13.911Z"
   },
   {
    "duration": 13,
    "start_time": "2022-10-25T13:21:21.739Z"
   },
   {
    "duration": 12,
    "start_time": "2022-10-25T13:26:28.559Z"
   },
   {
    "duration": 10,
    "start_time": "2022-10-25T13:26:33.495Z"
   },
   {
    "duration": 9,
    "start_time": "2022-10-25T13:26:39.118Z"
   },
   {
    "duration": 11,
    "start_time": "2022-10-25T13:27:55.003Z"
   },
   {
    "duration": 11,
    "start_time": "2022-10-25T13:28:17.300Z"
   },
   {
    "duration": 9,
    "start_time": "2022-10-25T13:28:34.500Z"
   },
   {
    "duration": 9,
    "start_time": "2022-10-25T13:28:46.257Z"
   },
   {
    "duration": 10,
    "start_time": "2022-10-25T13:28:53.068Z"
   },
   {
    "duration": 12,
    "start_time": "2022-10-25T13:29:07.972Z"
   },
   {
    "duration": 92,
    "start_time": "2022-10-25T13:29:46.987Z"
   },
   {
    "duration": 9,
    "start_time": "2022-10-25T13:29:50.980Z"
   },
   {
    "duration": 9,
    "start_time": "2022-10-25T13:30:02.570Z"
   },
   {
    "duration": 91,
    "start_time": "2022-10-25T13:37:00.276Z"
   },
   {
    "duration": 4,
    "start_time": "2022-10-25T13:37:09.468Z"
   },
   {
    "duration": 7,
    "start_time": "2022-10-25T13:46:17.941Z"
   },
   {
    "duration": 4,
    "start_time": "2022-10-25T13:46:24.974Z"
   },
   {
    "duration": 5,
    "start_time": "2022-10-25T13:46:30.164Z"
   },
   {
    "duration": 6,
    "start_time": "2022-10-25T13:48:26.071Z"
   },
   {
    "duration": 5,
    "start_time": "2022-10-25T13:49:42.569Z"
   },
   {
    "duration": 4,
    "start_time": "2022-10-25T13:50:24.912Z"
   },
   {
    "duration": 14,
    "start_time": "2022-10-25T14:01:02.646Z"
   },
   {
    "duration": 10,
    "start_time": "2022-10-25T14:01:06.694Z"
   },
   {
    "duration": 12,
    "start_time": "2022-10-25T14:01:10.150Z"
   },
   {
    "duration": 9,
    "start_time": "2022-10-25T14:01:13.351Z"
   },
   {
    "duration": 12,
    "start_time": "2022-10-25T14:01:28.982Z"
   },
   {
    "duration": 10,
    "start_time": "2022-10-25T14:01:37.438Z"
   },
   {
    "duration": 70,
    "start_time": "2022-10-25T14:02:36.651Z"
   },
   {
    "duration": 7,
    "start_time": "2022-10-25T14:02:40.980Z"
   },
   {
    "duration": 9,
    "start_time": "2022-10-25T14:02:45.252Z"
   },
   {
    "duration": 8,
    "start_time": "2022-10-25T14:05:01.386Z"
   },
   {
    "duration": 9,
    "start_time": "2022-10-25T14:05:27.625Z"
   },
   {
    "duration": 66,
    "start_time": "2022-10-25T14:11:02.989Z"
   },
   {
    "duration": 65,
    "start_time": "2022-10-25T14:17:44.652Z"
   },
   {
    "duration": 11,
    "start_time": "2022-10-25T14:18:01.366Z"
   },
   {
    "duration": 9,
    "start_time": "2022-10-25T14:18:35.446Z"
   },
   {
    "duration": 4,
    "start_time": "2022-10-25T14:18:48.015Z"
   },
   {
    "duration": 4,
    "start_time": "2022-10-25T14:19:23.765Z"
   },
   {
    "duration": 8,
    "start_time": "2022-10-25T14:20:38.900Z"
   },
   {
    "duration": 10,
    "start_time": "2022-10-25T14:21:03.644Z"
   },
   {
    "duration": 10,
    "start_time": "2022-10-25T14:21:15.644Z"
   },
   {
    "duration": 10,
    "start_time": "2022-10-25T14:21:24.582Z"
   },
   {
    "duration": 9,
    "start_time": "2022-10-25T14:25:29.853Z"
   },
   {
    "duration": 6,
    "start_time": "2022-10-25T14:25:41.696Z"
   },
   {
    "duration": 8,
    "start_time": "2022-10-25T14:25:44.736Z"
   },
   {
    "duration": 8,
    "start_time": "2022-10-25T14:25:58.770Z"
   },
   {
    "duration": 6,
    "start_time": "2022-10-25T14:26:08.536Z"
   },
   {
    "duration": 10,
    "start_time": "2022-10-25T14:26:34.766Z"
   },
   {
    "duration": 11,
    "start_time": "2022-10-25T14:26:38.800Z"
   },
   {
    "duration": 6,
    "start_time": "2022-10-25T14:26:48.790Z"
   },
   {
    "duration": 5,
    "start_time": "2022-10-25T14:27:19.947Z"
   },
   {
    "duration": 7,
    "start_time": "2022-10-25T14:27:46.726Z"
   },
   {
    "duration": 70,
    "start_time": "2022-10-25T14:28:19.744Z"
   },
   {
    "duration": 66,
    "start_time": "2022-10-25T14:28:36.932Z"
   },
   {
    "duration": 10,
    "start_time": "2022-10-25T14:28:46.827Z"
   },
   {
    "duration": 10,
    "start_time": "2022-10-25T14:28:57.511Z"
   },
   {
    "duration": 13,
    "start_time": "2022-10-25T14:29:17.904Z"
   },
   {
    "duration": 10,
    "start_time": "2022-10-25T14:32:42.615Z"
   },
   {
    "duration": 10,
    "start_time": "2022-10-25T14:32:49.734Z"
   },
   {
    "duration": 8,
    "start_time": "2022-10-25T14:32:57.334Z"
   },
   {
    "duration": 6,
    "start_time": "2022-10-25T14:33:05.155Z"
   },
   {
    "duration": 10,
    "start_time": "2022-10-25T14:33:35.195Z"
   },
   {
    "duration": 8,
    "start_time": "2022-10-25T14:34:17.511Z"
   },
   {
    "duration": 12,
    "start_time": "2022-10-25T14:34:20.944Z"
   },
   {
    "duration": 6,
    "start_time": "2022-10-25T14:34:25.767Z"
   },
   {
    "duration": 12,
    "start_time": "2022-10-25T14:35:07.879Z"
   },
   {
    "duration": 170,
    "start_time": "2022-10-25T14:35:12.151Z"
   },
   {
    "duration": 10,
    "start_time": "2022-10-25T14:35:19.398Z"
   },
   {
    "duration": 13,
    "start_time": "2022-10-25T14:36:58.820Z"
   },
   {
    "duration": 6,
    "start_time": "2022-10-25T14:37:15.413Z"
   },
   {
    "duration": 10,
    "start_time": "2022-10-25T14:37:38.869Z"
   },
   {
    "duration": 7,
    "start_time": "2022-10-25T14:37:50.163Z"
   },
   {
    "duration": 72,
    "start_time": "2022-10-25T14:38:52.219Z"
   },
   {
    "duration": 7,
    "start_time": "2022-10-25T14:38:55.243Z"
   },
   {
    "duration": 9,
    "start_time": "2022-10-25T14:39:15.522Z"
   },
   {
    "duration": 8,
    "start_time": "2022-10-25T14:40:03.839Z"
   },
   {
    "duration": 7,
    "start_time": "2022-10-25T14:40:33.721Z"
   },
   {
    "duration": 159,
    "start_time": "2022-10-25T14:46:28.644Z"
   },
   {
    "duration": 1049,
    "start_time": "2022-10-25T14:46:34.565Z"
   },
   {
    "duration": 36,
    "start_time": "2022-10-25T14:46:35.616Z"
   },
   {
    "duration": 7,
    "start_time": "2022-10-25T14:46:35.654Z"
   },
   {
    "duration": 16,
    "start_time": "2022-10-25T14:46:35.663Z"
   },
   {
    "duration": 16,
    "start_time": "2022-10-25T14:46:35.681Z"
   },
   {
    "duration": 17,
    "start_time": "2022-10-25T14:46:35.698Z"
   },
   {
    "duration": 20,
    "start_time": "2022-10-25T14:46:35.716Z"
   },
   {
    "duration": 242,
    "start_time": "2022-10-25T14:46:35.737Z"
   },
   {
    "duration": 57,
    "start_time": "2022-10-25T14:46:35.981Z"
   },
   {
    "duration": 12,
    "start_time": "2022-10-25T14:46:36.041Z"
   },
   {
    "duration": 20,
    "start_time": "2022-10-25T14:46:36.055Z"
   },
   {
    "duration": 15,
    "start_time": "2022-10-25T14:46:36.079Z"
   },
   {
    "duration": 7,
    "start_time": "2022-10-25T14:46:36.096Z"
   },
   {
    "duration": 10,
    "start_time": "2022-10-25T14:46:36.105Z"
   },
   {
    "duration": 263,
    "start_time": "2022-10-25T14:46:36.117Z"
   },
   {
    "duration": 262,
    "start_time": "2022-10-25T14:46:36.381Z"
   },
   {
    "duration": 196,
    "start_time": "2022-10-25T14:46:36.645Z"
   },
   {
    "duration": 359,
    "start_time": "2022-10-25T14:46:36.843Z"
   },
   {
    "duration": 221,
    "start_time": "2022-10-25T14:46:37.204Z"
   },
   {
    "duration": 335,
    "start_time": "2022-10-25T14:46:37.427Z"
   },
   {
    "duration": 184,
    "start_time": "2022-10-25T14:46:37.764Z"
   },
   {
    "duration": 6,
    "start_time": "2022-10-25T14:46:37.950Z"
   },
   {
    "duration": 186,
    "start_time": "2022-10-25T14:46:37.958Z"
   },
   {
    "duration": 5,
    "start_time": "2022-10-25T14:46:38.145Z"
   },
   {
    "duration": 244,
    "start_time": "2022-10-25T14:46:38.151Z"
   },
   {
    "duration": 13,
    "start_time": "2022-10-25T14:46:38.397Z"
   },
   {
    "duration": 9,
    "start_time": "2022-10-25T14:46:38.412Z"
   },
   {
    "duration": 55,
    "start_time": "2022-10-25T14:46:38.424Z"
   },
   {
    "duration": 12,
    "start_time": "2022-10-25T14:46:38.481Z"
   },
   {
    "duration": 1215,
    "start_time": "2022-10-26T11:53:32.779Z"
   },
   {
    "duration": 87,
    "start_time": "2022-10-26T11:53:33.997Z"
   },
   {
    "duration": 9,
    "start_time": "2022-10-26T11:53:34.085Z"
   },
   {
    "duration": 32,
    "start_time": "2022-10-26T11:53:34.097Z"
   },
   {
    "duration": 17,
    "start_time": "2022-10-26T11:53:34.131Z"
   },
   {
    "duration": 20,
    "start_time": "2022-10-26T11:53:34.150Z"
   },
   {
    "duration": 15,
    "start_time": "2022-10-26T11:53:34.171Z"
   },
   {
    "duration": 149,
    "start_time": "2022-10-26T11:53:34.188Z"
   },
   {
    "duration": 8,
    "start_time": "2022-10-26T11:53:34.339Z"
   },
   {
    "duration": 10,
    "start_time": "2022-10-26T11:53:34.350Z"
   },
   {
    "duration": 12,
    "start_time": "2022-10-26T11:53:34.362Z"
   },
   {
    "duration": 25,
    "start_time": "2022-10-26T11:53:34.376Z"
   },
   {
    "duration": 37,
    "start_time": "2022-10-26T11:53:34.402Z"
   },
   {
    "duration": 295,
    "start_time": "2022-10-26T11:53:34.441Z"
   },
   {
    "duration": 283,
    "start_time": "2022-10-26T11:53:34.738Z"
   },
   {
    "duration": 211,
    "start_time": "2022-10-26T11:53:35.023Z"
   },
   {
    "duration": 341,
    "start_time": "2022-10-26T11:53:35.235Z"
   },
   {
    "duration": 245,
    "start_time": "2022-10-26T11:53:35.577Z"
   },
   {
    "duration": 319,
    "start_time": "2022-10-26T11:53:35.824Z"
   },
   {
    "duration": 189,
    "start_time": "2022-10-26T11:53:36.145Z"
   },
   {
    "duration": 5,
    "start_time": "2022-10-26T11:53:36.335Z"
   },
   {
    "duration": 181,
    "start_time": "2022-10-26T11:53:36.341Z"
   },
   {
    "duration": 4,
    "start_time": "2022-10-26T11:53:36.524Z"
   },
   {
    "duration": 186,
    "start_time": "2022-10-26T11:53:36.530Z"
   },
   {
    "duration": 13,
    "start_time": "2022-10-26T11:53:36.718Z"
   },
   {
    "duration": 16,
    "start_time": "2022-10-26T11:53:36.732Z"
   },
   {
    "duration": 40,
    "start_time": "2022-10-26T11:53:36.749Z"
   },
   {
    "duration": 29,
    "start_time": "2022-10-26T11:53:36.792Z"
   },
   {
    "duration": 1085,
    "start_time": "2022-10-26T11:55:25.368Z"
   },
   {
    "duration": 37,
    "start_time": "2022-10-26T11:55:26.454Z"
   },
   {
    "duration": 7,
    "start_time": "2022-10-26T11:55:26.492Z"
   },
   {
    "duration": 18,
    "start_time": "2022-10-26T11:55:26.501Z"
   },
   {
    "duration": 13,
    "start_time": "2022-10-26T11:55:26.521Z"
   },
   {
    "duration": 12,
    "start_time": "2022-10-26T11:55:26.535Z"
   },
   {
    "duration": 72,
    "start_time": "2022-10-26T11:55:26.548Z"
   },
   {
    "duration": 8,
    "start_time": "2022-10-26T11:55:26.622Z"
   },
   {
    "duration": 8,
    "start_time": "2022-10-26T11:55:26.632Z"
   },
   {
    "duration": 5,
    "start_time": "2022-10-26T11:55:26.642Z"
   },
   {
    "duration": 6,
    "start_time": "2022-10-26T11:55:26.649Z"
   },
   {
    "duration": 9,
    "start_time": "2022-10-26T11:55:26.656Z"
   },
   {
    "duration": 302,
    "start_time": "2022-10-26T11:55:26.666Z"
   },
   {
    "duration": 298,
    "start_time": "2022-10-26T11:55:26.969Z"
   },
   {
    "duration": 278,
    "start_time": "2022-10-26T11:55:27.269Z"
   },
   {
    "duration": 297,
    "start_time": "2022-10-26T11:55:27.549Z"
   },
   {
    "duration": 247,
    "start_time": "2022-10-26T11:55:27.848Z"
   },
   {
    "duration": 356,
    "start_time": "2022-10-26T11:55:28.097Z"
   },
   {
    "duration": 164,
    "start_time": "2022-10-26T11:55:28.455Z"
   },
   {
    "duration": 6,
    "start_time": "2022-10-26T11:55:28.621Z"
   },
   {
    "duration": 169,
    "start_time": "2022-10-26T11:55:28.628Z"
   },
   {
    "duration": 20,
    "start_time": "2022-10-26T11:55:28.799Z"
   },
   {
    "duration": 151,
    "start_time": "2022-10-26T11:55:28.820Z"
   },
   {
    "duration": 12,
    "start_time": "2022-10-26T11:55:28.972Z"
   },
   {
    "duration": 8,
    "start_time": "2022-10-26T11:55:28.986Z"
   },
   {
    "duration": 48,
    "start_time": "2022-10-26T11:55:29.016Z"
   },
   {
    "duration": 12,
    "start_time": "2022-10-26T11:55:29.066Z"
   },
   {
    "duration": 1324,
    "start_time": "2022-10-26T12:05:47.399Z"
   },
   {
    "duration": 40,
    "start_time": "2022-10-26T12:05:48.726Z"
   },
   {
    "duration": 9,
    "start_time": "2022-10-26T12:05:48.767Z"
   },
   {
    "duration": 13,
    "start_time": "2022-10-26T12:05:48.778Z"
   },
   {
    "duration": 36,
    "start_time": "2022-10-26T12:05:48.793Z"
   },
   {
    "duration": 13,
    "start_time": "2022-10-26T12:05:48.831Z"
   },
   {
    "duration": 72,
    "start_time": "2022-10-26T12:05:48.846Z"
   },
   {
    "duration": 12,
    "start_time": "2022-10-26T12:05:48.920Z"
   },
   {
    "duration": 13,
    "start_time": "2022-10-26T12:05:48.934Z"
   },
   {
    "duration": 8,
    "start_time": "2022-10-26T12:05:48.950Z"
   },
   {
    "duration": 8,
    "start_time": "2022-10-26T12:05:48.960Z"
   },
   {
    "duration": 54,
    "start_time": "2022-10-26T12:05:48.970Z"
   },
   {
    "duration": 329,
    "start_time": "2022-10-26T12:05:49.027Z"
   },
   {
    "duration": 303,
    "start_time": "2022-10-26T12:05:49.357Z"
   },
   {
    "duration": 235,
    "start_time": "2022-10-26T12:05:49.662Z"
   },
   {
    "duration": 347,
    "start_time": "2022-10-26T12:05:49.899Z"
   },
   {
    "duration": 306,
    "start_time": "2022-10-26T12:05:50.248Z"
   },
   {
    "duration": 483,
    "start_time": "2022-10-26T12:05:50.556Z"
   },
   {
    "duration": 165,
    "start_time": "2022-10-26T12:05:51.040Z"
   },
   {
    "duration": 5,
    "start_time": "2022-10-26T12:05:51.207Z"
   },
   {
    "duration": 180,
    "start_time": "2022-10-26T12:05:51.213Z"
   },
   {
    "duration": 6,
    "start_time": "2022-10-26T12:05:51.395Z"
   },
   {
    "duration": 278,
    "start_time": "2022-10-26T12:05:51.405Z"
   },
   {
    "duration": 32,
    "start_time": "2022-10-26T12:05:51.685Z"
   },
   {
    "duration": 14,
    "start_time": "2022-10-26T12:05:51.719Z"
   },
   {
    "duration": 74,
    "start_time": "2022-10-26T12:05:51.735Z"
   },
   {
    "duration": 18,
    "start_time": "2022-10-26T12:05:51.811Z"
   },
   {
    "duration": 104,
    "start_time": "2022-10-26T12:06:31.321Z"
   },
   {
    "duration": 14,
    "start_time": "2022-10-26T12:06:36.803Z"
   },
   {
    "duration": 1180,
    "start_time": "2022-10-26T12:06:50.017Z"
   },
   {
    "duration": 44,
    "start_time": "2022-10-26T12:06:51.199Z"
   },
   {
    "duration": 9,
    "start_time": "2022-10-26T12:06:51.245Z"
   },
   {
    "duration": 31,
    "start_time": "2022-10-26T12:06:51.256Z"
   },
   {
    "duration": 32,
    "start_time": "2022-10-26T12:06:51.289Z"
   },
   {
    "duration": 13,
    "start_time": "2022-10-26T12:06:51.323Z"
   },
   {
    "duration": 67,
    "start_time": "2022-10-26T12:06:51.338Z"
   },
   {
    "duration": 20,
    "start_time": "2022-10-26T12:06:51.407Z"
   },
   {
    "duration": 23,
    "start_time": "2022-10-26T12:06:51.428Z"
   },
   {
    "duration": 12,
    "start_time": "2022-10-26T12:06:51.454Z"
   },
   {
    "duration": 10,
    "start_time": "2022-10-26T12:06:51.468Z"
   },
   {
    "duration": 14,
    "start_time": "2022-10-26T12:06:51.480Z"
   },
   {
    "duration": 351,
    "start_time": "2022-10-26T12:06:51.496Z"
   },
   {
    "duration": 307,
    "start_time": "2022-10-26T12:06:51.850Z"
   },
   {
    "duration": 235,
    "start_time": "2022-10-26T12:06:52.159Z"
   },
   {
    "duration": 350,
    "start_time": "2022-10-26T12:06:52.396Z"
   },
   {
    "duration": 232,
    "start_time": "2022-10-26T12:06:52.748Z"
   },
   {
    "duration": 376,
    "start_time": "2022-10-26T12:06:52.982Z"
   },
   {
    "duration": 187,
    "start_time": "2022-10-26T12:06:53.360Z"
   },
   {
    "duration": 5,
    "start_time": "2022-10-26T12:06:53.548Z"
   },
   {
    "duration": 202,
    "start_time": "2022-10-26T12:06:53.555Z"
   },
   {
    "duration": 6,
    "start_time": "2022-10-26T12:06:53.759Z"
   },
   {
    "duration": 215,
    "start_time": "2022-10-26T12:06:53.767Z"
   },
   {
    "duration": 25,
    "start_time": "2022-10-26T12:06:53.984Z"
   },
   {
    "duration": 12,
    "start_time": "2022-10-26T12:06:54.014Z"
   },
   {
    "duration": 57,
    "start_time": "2022-10-26T12:06:54.028Z"
   },
   {
    "duration": 25,
    "start_time": "2022-10-26T12:06:54.087Z"
   }
  ],
  "kernelspec": {
   "display_name": "Python 3 (ipykernel)",
   "language": "python",
   "name": "python3"
  },
  "language_info": {
   "codemirror_mode": {
    "name": "ipython",
    "version": 3
   },
   "file_extension": ".py",
   "mimetype": "text/x-python",
   "name": "python",
   "nbconvert_exporter": "python",
   "pygments_lexer": "ipython3",
   "version": "3.9.12"
  },
  "toc": {
   "base_numbering": 1,
   "nav_menu": {},
   "number_sections": true,
   "sideBar": true,
   "skip_h1_title": true,
   "title_cell": "Table of Contents",
   "title_sidebar": "Contents",
   "toc_cell": false,
   "toc_position": {
    "height": "611.818px",
    "left": "27px",
    "top": "111.051px",
    "width": "227.086px"
   },
   "toc_section_display": true,
   "toc_window_display": true
  }
 },
 "nbformat": 4,
 "nbformat_minor": 2
}
